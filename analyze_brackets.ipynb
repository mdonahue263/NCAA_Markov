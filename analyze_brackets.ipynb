{
 "cells": [
  {
   "cell_type": "code",
   "execution_count": null,
   "metadata": {},
   "outputs": [],
   "source": []
  },
  {
   "cell_type": "code",
   "execution_count": 61,
   "metadata": {},
   "outputs": [],
   "source": [
    "# from helper_functions.tourney_sim import simulate_tournament\n",
    "import os\n",
    "import numpy as np\n",
    "import pickle\n",
    "from tqdm import tqdm\n",
    "import pandas as pd"
   ]
  },
  {
   "cell_type": "code",
   "execution_count": 127,
   "metadata": {},
   "outputs": [],
   "source": [
    "all_lists = []\n",
    "for f in os.listdir('brackets'):\n",
    "        with open('brackets/{}'.format(f), 'rb') as file:\n",
    "            data=pickle.load(file)\n",
    "        if f == '100_sim_dict_3.pickle':\n",
    "            all_lists += list(data.values())"
   ]
  },
  {
   "cell_type": "code",
   "execution_count": 128,
   "metadata": {},
   "outputs": [],
   "source": [
    "brackets_series = pd.Series(all_lists)"
   ]
  },
  {
   "cell_type": "code",
   "execution_count": 129,
   "metadata": {},
   "outputs": [
    {
     "name": "stdout",
     "output_type": "stream",
     "text": [
      "UConn: 84.74%\n",
      "Fla. Atlantic: 79.88%\n",
      "San Diego St.: 85.83%\n",
      "Auburn: 81.27%\n",
      "BYU: 76.21%\n",
      "Illinois: 62.83%\n",
      "Washington St.: 67.0%\n",
      "Iowa St.: 84.64%\n",
      "North Carolina: 88.11%\n",
      "Michigan St.: 53.52%\n",
      "Saint Mary's (CA): 68.38%\n",
      "Alabama: 51.44%\n",
      "Clemson: 77.8%\n",
      "Baylor: 69.77%\n",
      "Dayton: 70.37%\n",
      "Arizona: 82.16%\n",
      "Houston: 56.49%\n",
      "Nebraska: 56.59%\n",
      "James Madison: 51.64%\n",
      "Duke: 71.66%\n",
      "Texas Tech: 78.0%\n",
      "Kentucky: 69.97%\n",
      "Boise St.: 62.64%\n",
      "Marquette: 83.85%\n",
      "Purdue: 91.97%\n",
      "Utah St.: 74.53%\n",
      "Gonzaga: 58.37%\n",
      "Kansas: 61.94%\n",
      "South Carolina: 56.99%\n",
      "Creighton: 80.48%\n",
      "Texas: 77.5%\n",
      "Tennessee: 73.93%\n",
      "UConn: 70.47%\n",
      "San Diego St.: 54.21%\n",
      "BYU: 56.1%\n",
      "Washington St.: 37.46%\n",
      "North Carolina: 65.01%\n",
      "Saint Mary's (CA): 53.62%\n",
      "Clemson: 50.94%\n",
      "Dayton: 51.73%\n",
      "Houston: 38.06%\n",
      "Duke: 34.69%\n",
      "Texas Tech: 54.91%\n",
      "Boise St.: 41.82%\n",
      "Purdue: 64.72%\n",
      "Gonzaga: 46.78%\n",
      "Creighton: 39.94%\n",
      "Texas: 51.44%\n",
      "UConn: 55.8%\n",
      "BYU: 42.22%\n",
      "North Carolina: 39.74%\n",
      "Dayton: 28.15%\n",
      "Duke: 20.32%\n",
      "Texas Tech: 35.68%\n",
      "Purdue: 42.42%\n",
      "Creighton: 36.27%\n",
      "UConn: 45.39%\n",
      "North Carolina: 26.26%\n",
      "Duke: 15.86%\n",
      "Purdue: 33.7%\n",
      "UConn: 30.62%\n",
      "Purdue: 13.88%\n",
      "UConn: 23.69%\n"
     ]
    }
   ],
   "source": [
    "df=pd.DataFrame(all_lists)\n",
    "for c in df.columns:\n",
    "    vc=df[c].value_counts()\n",
    "    print('{}: {}%'.format(vc.index[0],np.round((vc.iloc[0]/len(df))*100,2)))"
   ]
  },
  {
   "cell_type": "code",
   "execution_count": 132,
   "metadata": {},
   "outputs": [
    {
     "data": {
      "text/plain": [
       "30\n",
       "Texas       782\n",
       "Virginia    227\n",
       "Name: count, dtype: int64"
      ]
     },
     "execution_count": 132,
     "metadata": {},
     "output_type": "execute_result"
    }
   ],
   "source": [
    "df[30].value_counts()"
   ]
  },
  {
   "cell_type": "code",
   "execution_count": 87,
   "metadata": {},
   "outputs": [
    {
     "data": {
      "text/plain": [
       "False    5895\n",
       "True       25\n",
       "Name: count, dtype: int64"
      ]
     },
     "execution_count": 87,
     "metadata": {},
     "output_type": "execute_result"
    }
   ],
   "source": [
    "df[df.columns[-15:]].duplicated().value_counts()"
   ]
  },
  {
   "cell_type": "code",
   "execution_count": 83,
   "metadata": {},
   "outputs": [],
   "source": [
    "\n",
    "dup_df = df[df[list(np.arange(32))].duplicated(keep=False)==True][list(np.arange(32))].copy()\n",
    "dup_df_end = df[df[df.columns[-15:]].duplicated(keep=False)==True][df.columns[-15:]].copy()"
   ]
  },
  {
   "cell_type": "code",
   "execution_count": 71,
   "metadata": {},
   "outputs": [],
   "source": [
    "li=[]\n",
    "\n",
    "for i in range(len(dup_df)):\n",
    "    current_row = dup_df.iloc[i]\n",
    "    current_list = '--'.join(list(current_row))\n",
    "    li.append(current_list)"
   ]
  },
  {
   "cell_type": "code",
   "execution_count": 88,
   "metadata": {},
   "outputs": [],
   "source": [
    "li2=[]\n",
    "for i in range(len(dup_df_end)):\n",
    "    current_row = dup_df_end.iloc[i]\n",
    "    current_list = '--'.join(list(current_row))\n",
    "    li2.append(current_list)"
   ]
  },
  {
   "cell_type": "code",
   "execution_count": 72,
   "metadata": {},
   "outputs": [],
   "source": [
    "other_li = []\n",
    "for thing in pd.Series(li).value_counts().index:\n",
    "    other_li.append(thing.split('--'))"
   ]
  },
  {
   "cell_type": "code",
   "execution_count": 89,
   "metadata": {},
   "outputs": [],
   "source": [
    "other_li_2 = []\n",
    "for thing in pd.Series(li2).value_counts().index:\n",
    "    other_li_2.append(thing.split('--'))"
   ]
  },
  {
   "cell_type": "code",
   "execution_count": 92,
   "metadata": {},
   "outputs": [
    {
     "data": {
      "text/html": [
       "<div>\n",
       "<style scoped>\n",
       "    .dataframe tbody tr th:only-of-type {\n",
       "        vertical-align: middle;\n",
       "    }\n",
       "\n",
       "    .dataframe tbody tr th {\n",
       "        vertical-align: top;\n",
       "    }\n",
       "\n",
       "    .dataframe thead th {\n",
       "        text-align: right;\n",
       "    }\n",
       "</style>\n",
       "<table border=\"1\" class=\"dataframe\">\n",
       "  <thead>\n",
       "    <tr style=\"text-align: right;\">\n",
       "      <th></th>\n",
       "      <th>0</th>\n",
       "    </tr>\n",
       "  </thead>\n",
       "  <tbody>\n",
       "    <tr>\n",
       "      <th>0</th>\n",
       "      <td>UConn--BYU--North Carolina--Dayton--Vermont--T...</td>\n",
       "    </tr>\n",
       "  </tbody>\n",
       "</table>\n",
       "</div>"
      ],
      "text/plain": [
       "                                                   0\n",
       "0  UConn--BYU--North Carolina--Dayton--Vermont--T..."
      ]
     },
     "execution_count": 92,
     "metadata": {},
     "output_type": "execute_result"
    }
   ],
   "source": [
    "pd"
   ]
  },
  {
   "cell_type": "code",
   "execution_count": 125,
   "metadata": {},
   "outputs": [
    {
     "data": {
      "text/plain": [
       "UConn--BYU--North Carolina--Dayton--Houston--Texas Tech--Purdue--South Carolina--UConn--North Carolina--Houston--Purdue--UConn--Houston--UConn     4\n",
       "UConn--BYU--North Carolina--Dayton--Vermont--Boise St.--Purdue--South Carolina--UConn--North Carolina--Boise St.--Purdue--UConn--Purdue--Purdue    3\n",
       "UConn--BYU--North Carolina--Dayton--Vermont--Marquette--Purdue--South Carolina--UConn--North Carolina--Vermont--Purdue--UConn--Purdue--Purdue      3\n",
       "UConn--BYU--North Carolina--Dayton--Vermont--Boise St.--Purdue--Texas--UConn--North Carolina--Boise St.--Purdue--UConn--Purdue--Purdue             3\n",
       "Name: count, dtype: int64"
      ]
     },
     "execution_count": 125,
     "metadata": {},
     "output_type": "execute_result"
    }
   ],
   "source": [
    "pd.Series(li2).value_counts().head(4)"
   ]
  },
  {
   "cell_type": "code",
   "execution_count": 26,
   "metadata": {},
   "outputs": [],
   "source": [
    "pd.set_option('display.max_columns', 70)"
   ]
  },
  {
   "cell_type": "code",
   "execution_count": 56,
   "metadata": {},
   "outputs": [],
   "source": [
    "small_df = df[list(np.arange(32))].copy()"
   ]
  },
  {
   "cell_type": "code",
   "execution_count": 58,
   "metadata": {},
   "outputs": [
    {
     "data": {
      "text/html": [
       "<div>\n",
       "<style scoped>\n",
       "    .dataframe tbody tr th:only-of-type {\n",
       "        vertical-align: middle;\n",
       "    }\n",
       "\n",
       "    .dataframe tbody tr th {\n",
       "        vertical-align: top;\n",
       "    }\n",
       "\n",
       "    .dataframe thead th {\n",
       "        text-align: right;\n",
       "    }\n",
       "</style>\n",
       "<table border=\"1\" class=\"dataframe\">\n",
       "  <thead>\n",
       "    <tr style=\"text-align: right;\">\n",
       "      <th></th>\n",
       "      <th>0</th>\n",
       "      <th>1</th>\n",
       "      <th>2</th>\n",
       "      <th>3</th>\n",
       "      <th>4</th>\n",
       "      <th>5</th>\n",
       "      <th>6</th>\n",
       "      <th>7</th>\n",
       "      <th>8</th>\n",
       "      <th>9</th>\n",
       "      <th>10</th>\n",
       "      <th>11</th>\n",
       "      <th>12</th>\n",
       "      <th>13</th>\n",
       "      <th>14</th>\n",
       "      <th>15</th>\n",
       "      <th>16</th>\n",
       "      <th>17</th>\n",
       "      <th>18</th>\n",
       "      <th>19</th>\n",
       "      <th>20</th>\n",
       "      <th>21</th>\n",
       "      <th>22</th>\n",
       "      <th>23</th>\n",
       "      <th>24</th>\n",
       "      <th>25</th>\n",
       "      <th>26</th>\n",
       "      <th>27</th>\n",
       "      <th>28</th>\n",
       "      <th>29</th>\n",
       "      <th>30</th>\n",
       "      <th>31</th>\n",
       "    </tr>\n",
       "  </thead>\n",
       "  <tbody>\n",
       "    <tr>\n",
       "      <th>629</th>\n",
       "      <td>UConn</td>\n",
       "      <td>Fla. Atlantic</td>\n",
       "      <td>San Diego St.</td>\n",
       "      <td>Auburn</td>\n",
       "      <td>BYU</td>\n",
       "      <td>Illinois</td>\n",
       "      <td>Washington St.</td>\n",
       "      <td>Iowa St.</td>\n",
       "      <td>North Carolina</td>\n",
       "      <td>Michigan St.</td>\n",
       "      <td>Grand Canyon</td>\n",
       "      <td>Alabama</td>\n",
       "      <td>Clemson</td>\n",
       "      <td>Baylor</td>\n",
       "      <td>Dayton</td>\n",
       "      <td>Arizona</td>\n",
       "      <td>Houston</td>\n",
       "      <td>Texas A&amp;M</td>\n",
       "      <td>James Madison</td>\n",
       "      <td>Vermont</td>\n",
       "      <td>Texas Tech</td>\n",
       "      <td>Kentucky</td>\n",
       "      <td>Boise St.</td>\n",
       "      <td>Marquette</td>\n",
       "      <td>Purdue</td>\n",
       "      <td>Utah St.</td>\n",
       "      <td>McNeese</td>\n",
       "      <td>Kansas</td>\n",
       "      <td>South Carolina</td>\n",
       "      <td>Creighton</td>\n",
       "      <td>Texas</td>\n",
       "      <td>Tennessee</td>\n",
       "    </tr>\n",
       "    <tr>\n",
       "      <th>2589</th>\n",
       "      <td>UConn</td>\n",
       "      <td>Fla. Atlantic</td>\n",
       "      <td>San Diego St.</td>\n",
       "      <td>Auburn</td>\n",
       "      <td>BYU</td>\n",
       "      <td>Illinois</td>\n",
       "      <td>Washington St.</td>\n",
       "      <td>Iowa St.</td>\n",
       "      <td>North Carolina</td>\n",
       "      <td>Michigan St.</td>\n",
       "      <td>Grand Canyon</td>\n",
       "      <td>Alabama</td>\n",
       "      <td>Clemson</td>\n",
       "      <td>Baylor</td>\n",
       "      <td>Dayton</td>\n",
       "      <td>Arizona</td>\n",
       "      <td>Houston</td>\n",
       "      <td>Texas A&amp;M</td>\n",
       "      <td>James Madison</td>\n",
       "      <td>Vermont</td>\n",
       "      <td>Texas Tech</td>\n",
       "      <td>Kentucky</td>\n",
       "      <td>Boise St.</td>\n",
       "      <td>Marquette</td>\n",
       "      <td>Purdue</td>\n",
       "      <td>Utah St.</td>\n",
       "      <td>McNeese</td>\n",
       "      <td>Kansas</td>\n",
       "      <td>South Carolina</td>\n",
       "      <td>Creighton</td>\n",
       "      <td>Texas</td>\n",
       "      <td>Tennessee</td>\n",
       "    </tr>\n",
       "    <tr>\n",
       "      <th>2569</th>\n",
       "      <td>UConn</td>\n",
       "      <td>Fla. Atlantic</td>\n",
       "      <td>San Diego St.</td>\n",
       "      <td>Auburn</td>\n",
       "      <td>BYU</td>\n",
       "      <td>Illinois</td>\n",
       "      <td>Washington St.</td>\n",
       "      <td>Iowa St.</td>\n",
       "      <td>North Carolina</td>\n",
       "      <td>Michigan St.</td>\n",
       "      <td>Grand Canyon</td>\n",
       "      <td>Alabama</td>\n",
       "      <td>Clemson</td>\n",
       "      <td>Colgate</td>\n",
       "      <td>Dayton</td>\n",
       "      <td>Arizona</td>\n",
       "      <td>Houston</td>\n",
       "      <td>Texas A&amp;M</td>\n",
       "      <td>James Madison</td>\n",
       "      <td>Vermont</td>\n",
       "      <td>NC State</td>\n",
       "      <td>Kentucky</td>\n",
       "      <td>Boise St.</td>\n",
       "      <td>Marquette</td>\n",
       "      <td>Purdue</td>\n",
       "      <td>Utah St.</td>\n",
       "      <td>McNeese</td>\n",
       "      <td>Kansas</td>\n",
       "      <td>South Carolina</td>\n",
       "      <td>Creighton</td>\n",
       "      <td>Texas</td>\n",
       "      <td>Tennessee</td>\n",
       "    </tr>\n",
       "    <tr>\n",
       "      <th>2438</th>\n",
       "      <td>UConn</td>\n",
       "      <td>Fla. Atlantic</td>\n",
       "      <td>San Diego St.</td>\n",
       "      <td>Auburn</td>\n",
       "      <td>BYU</td>\n",
       "      <td>Illinois</td>\n",
       "      <td>Washington St.</td>\n",
       "      <td>Iowa St.</td>\n",
       "      <td>North Carolina</td>\n",
       "      <td>Michigan St.</td>\n",
       "      <td>Saint Mary's (CA)</td>\n",
       "      <td>Alabama</td>\n",
       "      <td>Clemson</td>\n",
       "      <td>Baylor</td>\n",
       "      <td>Dayton</td>\n",
       "      <td>Arizona</td>\n",
       "      <td>Houston</td>\n",
       "      <td>Texas A&amp;M</td>\n",
       "      <td>James Madison</td>\n",
       "      <td>Vermont</td>\n",
       "      <td>Texas Tech</td>\n",
       "      <td>Kentucky</td>\n",
       "      <td>Boise St.</td>\n",
       "      <td>Marquette</td>\n",
       "      <td>Purdue</td>\n",
       "      <td>Utah St.</td>\n",
       "      <td>McNeese</td>\n",
       "      <td>Kansas</td>\n",
       "      <td>South Carolina</td>\n",
       "      <td>Creighton</td>\n",
       "      <td>Texas</td>\n",
       "      <td>Tennessee</td>\n",
       "    </tr>\n",
       "    <tr>\n",
       "      <th>2206</th>\n",
       "      <td>UConn</td>\n",
       "      <td>Fla. Atlantic</td>\n",
       "      <td>San Diego St.</td>\n",
       "      <td>Auburn</td>\n",
       "      <td>BYU</td>\n",
       "      <td>Illinois</td>\n",
       "      <td>Washington St.</td>\n",
       "      <td>Iowa St.</td>\n",
       "      <td>North Carolina</td>\n",
       "      <td>Michigan St.</td>\n",
       "      <td>Saint Mary's (CA)</td>\n",
       "      <td>Alabama</td>\n",
       "      <td>Clemson</td>\n",
       "      <td>Baylor</td>\n",
       "      <td>Nevada</td>\n",
       "      <td>Arizona</td>\n",
       "      <td>Longwood</td>\n",
       "      <td>Nebraska</td>\n",
       "      <td>Wisconsin</td>\n",
       "      <td>Duke</td>\n",
       "      <td>Texas Tech</td>\n",
       "      <td>Kentucky</td>\n",
       "      <td>Boise St.</td>\n",
       "      <td>Marquette</td>\n",
       "      <td>Purdue</td>\n",
       "      <td>Utah St.</td>\n",
       "      <td>Gonzaga</td>\n",
       "      <td>Kansas</td>\n",
       "      <td>Oregon</td>\n",
       "      <td>Creighton</td>\n",
       "      <td>Texas</td>\n",
       "      <td>Saint Peter's</td>\n",
       "    </tr>\n",
       "    <tr>\n",
       "      <th>1970</th>\n",
       "      <td>UConn</td>\n",
       "      <td>Fla. Atlantic</td>\n",
       "      <td>San Diego St.</td>\n",
       "      <td>Auburn</td>\n",
       "      <td>BYU</td>\n",
       "      <td>Illinois</td>\n",
       "      <td>Washington St.</td>\n",
       "      <td>Iowa St.</td>\n",
       "      <td>North Carolina</td>\n",
       "      <td>Michigan St.</td>\n",
       "      <td>Saint Mary's (CA)</td>\n",
       "      <td>Alabama</td>\n",
       "      <td>Clemson</td>\n",
       "      <td>Colgate</td>\n",
       "      <td>Dayton</td>\n",
       "      <td>Arizona</td>\n",
       "      <td>Houston</td>\n",
       "      <td>Texas A&amp;M</td>\n",
       "      <td>Wisconsin</td>\n",
       "      <td>Vermont</td>\n",
       "      <td>Texas Tech</td>\n",
       "      <td>Kentucky</td>\n",
       "      <td>Boise St.</td>\n",
       "      <td>Marquette</td>\n",
       "      <td>Purdue</td>\n",
       "      <td>Utah St.</td>\n",
       "      <td>McNeese</td>\n",
       "      <td>Kansas</td>\n",
       "      <td>South Carolina</td>\n",
       "      <td>Creighton</td>\n",
       "      <td>Texas</td>\n",
       "      <td>Tennessee</td>\n",
       "    </tr>\n",
       "    <tr>\n",
       "      <th>2242</th>\n",
       "      <td>UConn</td>\n",
       "      <td>Fla. Atlantic</td>\n",
       "      <td>San Diego St.</td>\n",
       "      <td>Auburn</td>\n",
       "      <td>BYU</td>\n",
       "      <td>Illinois</td>\n",
       "      <td>Washington St.</td>\n",
       "      <td>Iowa St.</td>\n",
       "      <td>North Carolina</td>\n",
       "      <td>Michigan St.</td>\n",
       "      <td>Saint Mary's (CA)</td>\n",
       "      <td>Alabama</td>\n",
       "      <td>Clemson</td>\n",
       "      <td>Colgate</td>\n",
       "      <td>Dayton</td>\n",
       "      <td>Arizona</td>\n",
       "      <td>Houston</td>\n",
       "      <td>Texas A&amp;M</td>\n",
       "      <td>Wisconsin</td>\n",
       "      <td>Vermont</td>\n",
       "      <td>Texas Tech</td>\n",
       "      <td>Kentucky</td>\n",
       "      <td>Boise St.</td>\n",
       "      <td>Marquette</td>\n",
       "      <td>Purdue</td>\n",
       "      <td>Utah St.</td>\n",
       "      <td>McNeese</td>\n",
       "      <td>Kansas</td>\n",
       "      <td>South Carolina</td>\n",
       "      <td>Creighton</td>\n",
       "      <td>Texas</td>\n",
       "      <td>Tennessee</td>\n",
       "    </tr>\n",
       "    <tr>\n",
       "      <th>1638</th>\n",
       "      <td>UConn</td>\n",
       "      <td>Fla. Atlantic</td>\n",
       "      <td>San Diego St.</td>\n",
       "      <td>Auburn</td>\n",
       "      <td>BYU</td>\n",
       "      <td>Illinois</td>\n",
       "      <td>Washington St.</td>\n",
       "      <td>Iowa St.</td>\n",
       "      <td>North Carolina</td>\n",
       "      <td>Michigan St.</td>\n",
       "      <td>Saint Mary's (CA)</td>\n",
       "      <td>Col. of Charleston</td>\n",
       "      <td>Clemson</td>\n",
       "      <td>Colgate</td>\n",
       "      <td>Dayton</td>\n",
       "      <td>Arizona</td>\n",
       "      <td>Houston</td>\n",
       "      <td>Texas A&amp;M</td>\n",
       "      <td>James Madison</td>\n",
       "      <td>Vermont</td>\n",
       "      <td>Texas Tech</td>\n",
       "      <td>Kentucky</td>\n",
       "      <td>Boise St.</td>\n",
       "      <td>Marquette</td>\n",
       "      <td>Purdue</td>\n",
       "      <td>Utah St.</td>\n",
       "      <td>Gonzaga</td>\n",
       "      <td>Kansas</td>\n",
       "      <td>South Carolina</td>\n",
       "      <td>Creighton</td>\n",
       "      <td>Texas</td>\n",
       "      <td>Tennessee</td>\n",
       "    </tr>\n",
       "    <tr>\n",
       "      <th>2547</th>\n",
       "      <td>UConn</td>\n",
       "      <td>Fla. Atlantic</td>\n",
       "      <td>San Diego St.</td>\n",
       "      <td>Auburn</td>\n",
       "      <td>BYU</td>\n",
       "      <td>Illinois</td>\n",
       "      <td>Washington St.</td>\n",
       "      <td>Iowa St.</td>\n",
       "      <td>North Carolina</td>\n",
       "      <td>Michigan St.</td>\n",
       "      <td>Saint Mary's (CA)</td>\n",
       "      <td>Col. of Charleston</td>\n",
       "      <td>Clemson</td>\n",
       "      <td>Colgate</td>\n",
       "      <td>Dayton</td>\n",
       "      <td>Arizona</td>\n",
       "      <td>Houston</td>\n",
       "      <td>Texas A&amp;M</td>\n",
       "      <td>James Madison</td>\n",
       "      <td>Vermont</td>\n",
       "      <td>Texas Tech</td>\n",
       "      <td>Kentucky</td>\n",
       "      <td>Boise St.</td>\n",
       "      <td>Marquette</td>\n",
       "      <td>Purdue</td>\n",
       "      <td>Utah St.</td>\n",
       "      <td>Gonzaga</td>\n",
       "      <td>Kansas</td>\n",
       "      <td>South Carolina</td>\n",
       "      <td>Creighton</td>\n",
       "      <td>Texas</td>\n",
       "      <td>Tennessee</td>\n",
       "    </tr>\n",
       "    <tr>\n",
       "      <th>2656</th>\n",
       "      <td>UConn</td>\n",
       "      <td>Fla. Atlantic</td>\n",
       "      <td>San Diego St.</td>\n",
       "      <td>Auburn</td>\n",
       "      <td>BYU</td>\n",
       "      <td>Illinois</td>\n",
       "      <td>Washington St.</td>\n",
       "      <td>Iowa St.</td>\n",
       "      <td>North Carolina</td>\n",
       "      <td>Michigan St.</td>\n",
       "      <td>Saint Mary's (CA)</td>\n",
       "      <td>Col. of Charleston</td>\n",
       "      <td>Clemson</td>\n",
       "      <td>Colgate</td>\n",
       "      <td>Dayton</td>\n",
       "      <td>Arizona</td>\n",
       "      <td>Houston</td>\n",
       "      <td>Texas A&amp;M</td>\n",
       "      <td>James Madison</td>\n",
       "      <td>Vermont</td>\n",
       "      <td>Texas Tech</td>\n",
       "      <td>Kentucky</td>\n",
       "      <td>Boise St.</td>\n",
       "      <td>Marquette</td>\n",
       "      <td>Purdue</td>\n",
       "      <td>Utah St.</td>\n",
       "      <td>McNeese</td>\n",
       "      <td>Samford</td>\n",
       "      <td>South Carolina</td>\n",
       "      <td>Creighton</td>\n",
       "      <td>Texas</td>\n",
       "      <td>Tennessee</td>\n",
       "    </tr>\n",
       "    <tr>\n",
       "      <th>2012</th>\n",
       "      <td>UConn</td>\n",
       "      <td>Fla. Atlantic</td>\n",
       "      <td>San Diego St.</td>\n",
       "      <td>Auburn</td>\n",
       "      <td>BYU</td>\n",
       "      <td>Illinois</td>\n",
       "      <td>Washington St.</td>\n",
       "      <td>Iowa St.</td>\n",
       "      <td>North Carolina</td>\n",
       "      <td>Mississippi St.</td>\n",
       "      <td>Saint Mary's (CA)</td>\n",
       "      <td>Alabama</td>\n",
       "      <td>Clemson</td>\n",
       "      <td>Baylor</td>\n",
       "      <td>Nevada</td>\n",
       "      <td>Arizona</td>\n",
       "      <td>Longwood</td>\n",
       "      <td>Nebraska</td>\n",
       "      <td>Wisconsin</td>\n",
       "      <td>Duke</td>\n",
       "      <td>Texas Tech</td>\n",
       "      <td>Kentucky</td>\n",
       "      <td>Florida</td>\n",
       "      <td>Marquette</td>\n",
       "      <td>Purdue</td>\n",
       "      <td>Utah St.</td>\n",
       "      <td>McNeese</td>\n",
       "      <td>Samford</td>\n",
       "      <td>Oregon</td>\n",
       "      <td>Creighton</td>\n",
       "      <td>Texas</td>\n",
       "      <td>Tennessee</td>\n",
       "    </tr>\n",
       "    <tr>\n",
       "      <th>2513</th>\n",
       "      <td>UConn</td>\n",
       "      <td>Fla. Atlantic</td>\n",
       "      <td>San Diego St.</td>\n",
       "      <td>Auburn</td>\n",
       "      <td>BYU</td>\n",
       "      <td>Morehead St.</td>\n",
       "      <td>Washington St.</td>\n",
       "      <td>Iowa St.</td>\n",
       "      <td>North Carolina</td>\n",
       "      <td>Mississippi St.</td>\n",
       "      <td>Saint Mary's (CA)</td>\n",
       "      <td>Alabama</td>\n",
       "      <td>Clemson</td>\n",
       "      <td>Baylor</td>\n",
       "      <td>Dayton</td>\n",
       "      <td>Arizona</td>\n",
       "      <td>Longwood</td>\n",
       "      <td>Nebraska</td>\n",
       "      <td>Wisconsin</td>\n",
       "      <td>Duke</td>\n",
       "      <td>Texas Tech</td>\n",
       "      <td>Kentucky</td>\n",
       "      <td>Boise St.</td>\n",
       "      <td>Marquette</td>\n",
       "      <td>Purdue</td>\n",
       "      <td>Utah St.</td>\n",
       "      <td>Gonzaga</td>\n",
       "      <td>Kansas</td>\n",
       "      <td>Oregon</td>\n",
       "      <td>Creighton</td>\n",
       "      <td>Texas</td>\n",
       "      <td>Tennessee</td>\n",
       "    </tr>\n",
       "  </tbody>\n",
       "</table>\n",
       "</div>"
      ],
      "text/plain": [
       "         0              1              2       3    4             5   \\\n",
       "629   UConn  Fla. Atlantic  San Diego St.  Auburn  BYU      Illinois   \n",
       "2589  UConn  Fla. Atlantic  San Diego St.  Auburn  BYU      Illinois   \n",
       "2569  UConn  Fla. Atlantic  San Diego St.  Auburn  BYU      Illinois   \n",
       "2438  UConn  Fla. Atlantic  San Diego St.  Auburn  BYU      Illinois   \n",
       "2206  UConn  Fla. Atlantic  San Diego St.  Auburn  BYU      Illinois   \n",
       "1970  UConn  Fla. Atlantic  San Diego St.  Auburn  BYU      Illinois   \n",
       "2242  UConn  Fla. Atlantic  San Diego St.  Auburn  BYU      Illinois   \n",
       "1638  UConn  Fla. Atlantic  San Diego St.  Auburn  BYU      Illinois   \n",
       "2547  UConn  Fla. Atlantic  San Diego St.  Auburn  BYU      Illinois   \n",
       "2656  UConn  Fla. Atlantic  San Diego St.  Auburn  BYU      Illinois   \n",
       "2012  UConn  Fla. Atlantic  San Diego St.  Auburn  BYU      Illinois   \n",
       "2513  UConn  Fla. Atlantic  San Diego St.  Auburn  BYU  Morehead St.   \n",
       "\n",
       "                  6         7               8                9   \\\n",
       "629   Washington St.  Iowa St.  North Carolina     Michigan St.   \n",
       "2589  Washington St.  Iowa St.  North Carolina     Michigan St.   \n",
       "2569  Washington St.  Iowa St.  North Carolina     Michigan St.   \n",
       "2438  Washington St.  Iowa St.  North Carolina     Michigan St.   \n",
       "2206  Washington St.  Iowa St.  North Carolina     Michigan St.   \n",
       "1970  Washington St.  Iowa St.  North Carolina     Michigan St.   \n",
       "2242  Washington St.  Iowa St.  North Carolina     Michigan St.   \n",
       "1638  Washington St.  Iowa St.  North Carolina     Michigan St.   \n",
       "2547  Washington St.  Iowa St.  North Carolina     Michigan St.   \n",
       "2656  Washington St.  Iowa St.  North Carolina     Michigan St.   \n",
       "2012  Washington St.  Iowa St.  North Carolina  Mississippi St.   \n",
       "2513  Washington St.  Iowa St.  North Carolina  Mississippi St.   \n",
       "\n",
       "                     10                  11       12       13      14  \\\n",
       "629        Grand Canyon             Alabama  Clemson   Baylor  Dayton   \n",
       "2589       Grand Canyon             Alabama  Clemson   Baylor  Dayton   \n",
       "2569       Grand Canyon             Alabama  Clemson  Colgate  Dayton   \n",
       "2438  Saint Mary's (CA)             Alabama  Clemson   Baylor  Dayton   \n",
       "2206  Saint Mary's (CA)             Alabama  Clemson   Baylor  Nevada   \n",
       "1970  Saint Mary's (CA)             Alabama  Clemson  Colgate  Dayton   \n",
       "2242  Saint Mary's (CA)             Alabama  Clemson  Colgate  Dayton   \n",
       "1638  Saint Mary's (CA)  Col. of Charleston  Clemson  Colgate  Dayton   \n",
       "2547  Saint Mary's (CA)  Col. of Charleston  Clemson  Colgate  Dayton   \n",
       "2656  Saint Mary's (CA)  Col. of Charleston  Clemson  Colgate  Dayton   \n",
       "2012  Saint Mary's (CA)             Alabama  Clemson   Baylor  Nevada   \n",
       "2513  Saint Mary's (CA)             Alabama  Clemson   Baylor  Dayton   \n",
       "\n",
       "           15        16         17             18       19          20  \\\n",
       "629   Arizona   Houston  Texas A&M  James Madison  Vermont  Texas Tech   \n",
       "2589  Arizona   Houston  Texas A&M  James Madison  Vermont  Texas Tech   \n",
       "2569  Arizona   Houston  Texas A&M  James Madison  Vermont    NC State   \n",
       "2438  Arizona   Houston  Texas A&M  James Madison  Vermont  Texas Tech   \n",
       "2206  Arizona  Longwood   Nebraska      Wisconsin     Duke  Texas Tech   \n",
       "1970  Arizona   Houston  Texas A&M      Wisconsin  Vermont  Texas Tech   \n",
       "2242  Arizona   Houston  Texas A&M      Wisconsin  Vermont  Texas Tech   \n",
       "1638  Arizona   Houston  Texas A&M  James Madison  Vermont  Texas Tech   \n",
       "2547  Arizona   Houston  Texas A&M  James Madison  Vermont  Texas Tech   \n",
       "2656  Arizona   Houston  Texas A&M  James Madison  Vermont  Texas Tech   \n",
       "2012  Arizona  Longwood   Nebraska      Wisconsin     Duke  Texas Tech   \n",
       "2513  Arizona  Longwood   Nebraska      Wisconsin     Duke  Texas Tech   \n",
       "\n",
       "            21         22         23      24        25       26       27  \\\n",
       "629   Kentucky  Boise St.  Marquette  Purdue  Utah St.  McNeese   Kansas   \n",
       "2589  Kentucky  Boise St.  Marquette  Purdue  Utah St.  McNeese   Kansas   \n",
       "2569  Kentucky  Boise St.  Marquette  Purdue  Utah St.  McNeese   Kansas   \n",
       "2438  Kentucky  Boise St.  Marquette  Purdue  Utah St.  McNeese   Kansas   \n",
       "2206  Kentucky  Boise St.  Marquette  Purdue  Utah St.  Gonzaga   Kansas   \n",
       "1970  Kentucky  Boise St.  Marquette  Purdue  Utah St.  McNeese   Kansas   \n",
       "2242  Kentucky  Boise St.  Marquette  Purdue  Utah St.  McNeese   Kansas   \n",
       "1638  Kentucky  Boise St.  Marquette  Purdue  Utah St.  Gonzaga   Kansas   \n",
       "2547  Kentucky  Boise St.  Marquette  Purdue  Utah St.  Gonzaga   Kansas   \n",
       "2656  Kentucky  Boise St.  Marquette  Purdue  Utah St.  McNeese  Samford   \n",
       "2012  Kentucky    Florida  Marquette  Purdue  Utah St.  McNeese  Samford   \n",
       "2513  Kentucky  Boise St.  Marquette  Purdue  Utah St.  Gonzaga   Kansas   \n",
       "\n",
       "                  28         29     30             31  \n",
       "629   South Carolina  Creighton  Texas      Tennessee  \n",
       "2589  South Carolina  Creighton  Texas      Tennessee  \n",
       "2569  South Carolina  Creighton  Texas      Tennessee  \n",
       "2438  South Carolina  Creighton  Texas      Tennessee  \n",
       "2206          Oregon  Creighton  Texas  Saint Peter's  \n",
       "1970  South Carolina  Creighton  Texas      Tennessee  \n",
       "2242  South Carolina  Creighton  Texas      Tennessee  \n",
       "1638  South Carolina  Creighton  Texas      Tennessee  \n",
       "2547  South Carolina  Creighton  Texas      Tennessee  \n",
       "2656  South Carolina  Creighton  Texas      Tennessee  \n",
       "2012          Oregon  Creighton  Texas      Tennessee  \n",
       "2513          Oregon  Creighton  Texas      Tennessee  "
      ]
     },
     "execution_count": 58,
     "metadata": {},
     "output_type": "execute_result"
    }
   ],
   "source": [
    "small_df[small_df.duplicated()==True].sort_values(by=list(np.arange(32)))"
   ]
  },
  {
   "cell_type": "code",
   "execution_count": 98,
   "metadata": {},
   "outputs": [
    {
     "data": {
      "text/plain": [
       "'Fla. Atlantic'"
      ]
     },
     "execution_count": 98,
     "metadata": {},
     "output_type": "execute_result"
    }
   ],
   "source": [
    "#fau vs nw\n",
    "np.random.choice(df[1])"
   ]
  },
  {
   "cell_type": "code",
   "execution_count": 99,
   "metadata": {},
   "outputs": [
    {
     "data": {
      "text/plain": [
       "'San Diego St.'"
      ]
     },
     "execution_count": 99,
     "metadata": {},
     "output_type": "execute_result"
    }
   ],
   "source": [
    "#sdsu vs uab\n",
    "np.random.choice(df[2])"
   ]
  },
  {
   "cell_type": "code",
   "execution_count": 101,
   "metadata": {},
   "outputs": [
    {
     "data": {
      "text/plain": [
       "'Auburn'"
      ]
     },
     "execution_count": 101,
     "metadata": {},
     "output_type": "execute_result"
    }
   ],
   "source": [
    "#auburn yale\n",
    "np.random.choice(df[3])"
   ]
  },
  {
   "cell_type": "code",
   "execution_count": 103,
   "metadata": {},
   "outputs": [
    {
     "data": {
      "text/plain": [
       "'Illinois'"
      ]
     },
     "execution_count": 103,
     "metadata": {},
     "output_type": "execute_result"
    }
   ],
   "source": [
    "#ill morehead\n",
    "np.random.choice(df[5])"
   ]
  },
  {
   "cell_type": "code",
   "execution_count": 104,
   "metadata": {},
   "outputs": [
    {
     "data": {
      "text/plain": [
       "'Washington St.'"
      ]
     },
     "execution_count": 104,
     "metadata": {},
     "output_type": "execute_result"
    }
   ],
   "source": [
    "#waz drake\n",
    "np.random.choice(df[6])"
   ]
  },
  {
   "cell_type": "code",
   "execution_count": 105,
   "metadata": {},
   "outputs": [
    {
     "data": {
      "text/plain": [
       "'South Dakota St.'"
      ]
     },
     "execution_count": 105,
     "metadata": {},
     "output_type": "execute_result"
    }
   ],
   "source": [
    "#iowa dakota\n",
    "np.random.choice(df[7])"
   ]
  },
  {
   "cell_type": "code",
   "execution_count": 106,
   "metadata": {},
   "outputs": [
    {
     "name": "stdout",
     "output_type": "stream",
     "text": [
      "UConn\n",
      "Fla. Atlantic\n",
      "San Diego St.\n",
      "Auburn\n",
      "BYU\n",
      "Illinois\n",
      "Washington St.\n",
      "Iowa St.\n",
      "North Carolina\n",
      "Michigan St.\n",
      "Saint Mary's (CA)\n",
      "Alabama\n",
      "New Mexico\n",
      "Colgate\n",
      "Dayton\n",
      "Arizona\n",
      "Longwood\n",
      "Nebraska\n",
      "Wisconsin\n",
      "Vermont\n",
      "Texas Tech\n",
      "Kentucky\n",
      "Boise St.\n",
      "Western Ky.\n",
      "Purdue\n",
      "Utah St.\n",
      "McNeese\n",
      "Samford\n",
      "South Carolina\n",
      "Creighton\n",
      "Texas\n",
      "Tennessee\n",
      "Fla. Atlantic\n",
      "Yale\n",
      "Duquesne\n",
      "Iowa St.\n",
      "North Carolina\n",
      "Saint Mary's (CA)\n",
      "Clemson\n",
      "Dayton\n",
      "Texas A&M\n",
      "Duke\n",
      "NC State\n",
      "Boise St.\n",
      "Purdue\n",
      "McNeese\n",
      "Creighton\n",
      "Texas\n",
      "Fla. Atlantic\n",
      "BYU\n",
      "Michigan St.\n",
      "Colgate\n",
      "Wisconsin\n",
      "Florida\n",
      "Purdue\n",
      "Texas\n",
      "Auburn\n",
      "Saint Mary's (CA)\n",
      "Marquette\n",
      "Utah St.\n",
      "Washington St.\n",
      "Duke\n",
      "James Madison\n"
     ]
    }
   ],
   "source": [
    "for i in range(len(df.columns)):\n",
    "    print(np.random.choice(df[i]))"
   ]
  },
  {
   "cell_type": "code",
   "execution_count": 28,
   "metadata": {},
   "outputs": [
    {
     "data": {
      "text/plain": [
       "32\n",
       "UConn            2783\n",
       "Fla. Atlantic     642\n",
       "Name: count, dtype: int64"
      ]
     },
     "execution_count": 28,
     "metadata": {},
     "output_type": "execute_result"
    }
   ],
   "source": [
    "df[(df[0]=='UConn')&(df[1]=='Fla. Atlantic')][32].value_counts()"
   ]
  },
  {
   "cell_type": "code",
   "execution_count": 29,
   "metadata": {},
   "outputs": [
    {
     "data": {
      "text/plain": [
       "33\n",
       "San Diego St.    2256\n",
       "Auburn           1118\n",
       "Name: count, dtype: int64"
      ]
     },
     "execution_count": 29,
     "metadata": {},
     "output_type": "execute_result"
    }
   ],
   "source": [
    "df[(df[2]=='San Diego St.')&(df[3]=='Auburn')][33].value_counts()"
   ]
  },
  {
   "cell_type": "code",
   "execution_count": 108,
   "metadata": {},
   "outputs": [],
   "source": [
    "# np.random.choice(df[(df[2]=='San Diego St.')&(df[3]=='Auburn')][33])"
   ]
  },
  {
   "cell_type": "code",
   "execution_count": 30,
   "metadata": {},
   "outputs": [
    {
     "data": {
      "text/plain": [
       "34\n",
       "BYU         1717\n",
       "Illinois     596\n",
       "Name: count, dtype: int64"
      ]
     },
     "execution_count": 30,
     "metadata": {},
     "output_type": "execute_result"
    }
   ],
   "source": [
    "df[(df[4]=='BYU')&(df[5]=='Illinois')][34].value_counts()"
   ]
  },
  {
   "cell_type": "code",
   "execution_count": 31,
   "metadata": {},
   "outputs": [
    {
     "data": {
      "text/plain": [
       "35\n",
       "Washington St.    1594\n",
       "Iowa St.          1165\n",
       "Name: count, dtype: int64"
      ]
     },
     "execution_count": 31,
     "metadata": {},
     "output_type": "execute_result"
    }
   ],
   "source": [
    "df[(df[6]=='Washington St.')&(df[7]=='Iowa St.')][35].value_counts()"
   ]
  },
  {
   "cell_type": "code",
   "execution_count": 111,
   "metadata": {},
   "outputs": [],
   "source": [
    "# np.random.choice(df[(df[6]=='Washington St.')&(df[7]=='South Dakota St.')][35])"
   ]
  },
  {
   "cell_type": "code",
   "execution_count": 32,
   "metadata": {},
   "outputs": [
    {
     "data": {
      "text/plain": [
       "36\n",
       "North Carolina    1635\n",
       "Michigan St.       580\n",
       "Name: count, dtype: int64"
      ]
     },
     "execution_count": 32,
     "metadata": {},
     "output_type": "execute_result"
    }
   ],
   "source": [
    "df[(df[8]=='North Carolina')&(df[9]=='Michigan St.')][36].value_counts()"
   ]
  },
  {
   "cell_type": "code",
   "execution_count": 33,
   "metadata": {},
   "outputs": [
    {
     "data": {
      "text/plain": [
       "37\n",
       "Saint Mary's (CA)     1166\n",
       "Col. of Charleston     532\n",
       "Name: count, dtype: int64"
      ]
     },
     "execution_count": 33,
     "metadata": {},
     "output_type": "execute_result"
    }
   ],
   "source": [
    "df[(df[10]==\"Saint Mary's (CA)\")&(df[11]=='Col. of Charleston')][37].value_counts()"
   ]
  },
  {
   "cell_type": "code",
   "execution_count": 114,
   "metadata": {},
   "outputs": [],
   "source": [
    "# np.random.choice(df[(df[10]==\"Saint Mary's (CA)\")&(df[11]=='Alabama')][37])"
   ]
  },
  {
   "cell_type": "code",
   "execution_count": 34,
   "metadata": {},
   "outputs": [
    {
     "data": {
      "text/plain": [
       "38\n",
       "Clemson    913\n",
       "Colgate    266\n",
       "Name: count, dtype: int64"
      ]
     },
     "execution_count": 34,
     "metadata": {},
     "output_type": "execute_result"
    }
   ],
   "source": [
    "df[(df[12]=='Clemson')&(df[13]=='Colgate')][38].value_counts()"
   ]
  },
  {
   "cell_type": "code",
   "execution_count": 115,
   "metadata": {},
   "outputs": [
    {
     "data": {
      "text/plain": [
       "38\n",
       "New Mexico    219\n",
       "Colgate       132\n",
       "Name: count, dtype: int64"
      ]
     },
     "execution_count": 115,
     "metadata": {},
     "output_type": "execute_result"
    }
   ],
   "source": [
    "df[(df[12]=='New Mexico')&(df[13]=='Colgate')][38].value_counts()"
   ]
  },
  {
   "cell_type": "code",
   "execution_count": 35,
   "metadata": {},
   "outputs": [
    {
     "data": {
      "text/plain": [
       "39\n",
       "Dayton     2034\n",
       "Arizona     804\n",
       "Name: count, dtype: int64"
      ]
     },
     "execution_count": 35,
     "metadata": {},
     "output_type": "execute_result"
    }
   ],
   "source": [
    "df[(df[14]=='Dayton')&(df[15]=='Arizona')][39].value_counts()"
   ]
  },
  {
   "cell_type": "code",
   "execution_count": 116,
   "metadata": {},
   "outputs": [
    {
     "name": "stdout",
     "output_type": "stream",
     "text": [
      "40\n",
      "Houston      942\n",
      "Texas A&M    519\n",
      "Name: count, dtype: int64\n"
     ]
    }
   ],
   "source": [
    "i=16\n",
    "j=17\n",
    "k=40\n",
    "print(df[(df[i]=='Houston')&(df[j]=='Texas A&M')][k].value_counts())\n",
    "i+=2\n",
    "j+=2\n",
    "k+=1"
   ]
  },
  {
   "cell_type": "code",
   "execution_count": 57,
   "metadata": {},
   "outputs": [],
   "source": [
    "i-=2\n",
    "j-=2\n",
    "k-=1"
   ]
  },
  {
   "cell_type": "code",
   "execution_count": 123,
   "metadata": {},
   "outputs": [
    {
     "name": "stdout",
     "output_type": "stream",
     "text": [
      "47\n",
      "Texas        2267\n",
      "Tennessee    1125\n",
      "Name: count, dtype: int64\n"
     ]
    }
   ],
   "source": [
    "print(df[(df[i]=='Texas')&(df[j]==\"Tennessee\")][k].value_counts())\n",
    "i+=2\n",
    "j+=2\n",
    "k+=1"
   ]
  },
  {
   "cell_type": "code",
   "execution_count": null,
   "metadata": {},
   "outputs": [],
   "source": [
    "UConn--BYU--North Carolina--Dayton--Houston--Texas Tech--Purdue--South Carolina--UConn--North Carolina--Houston--Purdue--UConn--Houston--UConn     4\n",
    "UConn--BYU--North Carolina--Dayton--Vermont--Boise St.--Purdue--South Carolina--UConn--North Carolina--Boise St.--Purdue--UConn--Purdue--Purdue    3\n",
    "UConn--BYU--North Carolina--Dayton--Vermont--Marquette--Purdue--South Carolina--UConn--North Carolina--Vermont--Purdue--UConn--Purdue--Purdue      3\n",
    "UConn--BYU--North Carolina--Dayton--Vermont--Boise St.--Purdue--Texas--UConn--North Carolina--Boise St.--Purdue--UConn--Purdue--Purdue             3\n",
    "Name: count, dtype: int64"
   ]
  }
 ],
 "metadata": {
  "kernelspec": {
   "display_name": "base",
   "language": "python",
   "name": "python3"
  },
  "language_info": {
   "codemirror_mode": {
    "name": "ipython",
    "version": 3
   },
   "file_extension": ".py",
   "mimetype": "text/x-python",
   "name": "python",
   "nbconvert_exporter": "python",
   "pygments_lexer": "ipython3",
   "version": "3.9.13"
  }
 },
 "nbformat": 4,
 "nbformat_minor": 2
}
