{
 "cells": [
  {
   "cell_type": "code",
   "execution_count": 1,
   "metadata": {},
   "outputs": [],
   "source": [
    "#v02 - run simulation with 2-10-100 games each rep\n",
    "#v03 - 100 games each\n",
    "#v04 - going to make one bracket from each individual NN and 100 reps"
   ]
  },
  {
   "cell_type": "code",
   "execution_count": 2,
   "metadata": {},
   "outputs": [
    {
     "name": "stderr",
     "output_type": "stream",
     "text": [
      "C:\\Users\\mdona\\AppData\\Roaming\\Python\\Python39\\site-packages\\pandas\\core\\computation\\expressions.py:21: UserWarning: Pandas requires version '2.8.4' or newer of 'numexpr' (version '2.8.3' currently installed).\n",
      "  from pandas.core.computation.check import NUMEXPR_INSTALLED\n",
      "C:\\Users\\mdona\\AppData\\Roaming\\Python\\Python39\\site-packages\\pandas\\core\\arrays\\masked.py:60: UserWarning: Pandas requires version '1.3.6' or newer of 'bottleneck' (version '1.3.5' currently installed).\n",
      "  from pandas.core import (\n",
      "c:\\Users\\mdona\\anaconda3\\lib\\site-packages\\scipy\\__init__.py:155: UserWarning: A NumPy version >=1.18.5 and <1.25.0 is required for this version of SciPy (detected version 1.26.4\n",
      "  warnings.warn(f\"A NumPy version >={np_minversion} and <{np_maxversion}\"\n"
     ]
    },
    {
     "name": "stdout",
     "output_type": "stream",
     "text": [
      "WARNING:tensorflow:From C:\\Users\\mdona\\AppData\\Roaming\\Python\\Python39\\site-packages\\keras\\src\\losses.py:2976: The name tf.losses.sparse_softmax_cross_entropy is deprecated. Please use tf.compat.v1.losses.sparse_softmax_cross_entropy instead.\n",
      "\n",
      "WARNING:tensorflow:From C:\\Users\\mdona\\AppData\\Roaming\\Python\\Python39\\site-packages\\keras\\src\\backend.py:1398: The name tf.executing_eagerly_outside_functions is deprecated. Please use tf.compat.v1.executing_eagerly_outside_functions instead.\n",
      "\n",
      "WARNING:tensorflow:From C:\\Users\\mdona\\AppData\\Roaming\\Python\\Python39\\site-packages\\keras\\src\\optimizers\\__init__.py:309: The name tf.train.Optimizer is deprecated. Please use tf.compat.v1.train.Optimizer instead.\n",
      "\n"
     ]
    },
    {
     "name": "stderr",
     "output_type": "stream",
     "text": [
      "100%|██████████| 1378/1378 [00:15<00:00, 87.13it/s] \n"
     ]
    }
   ],
   "source": [
    "from helper_functions.tourney_sim import simulate_tournament\n",
    "import os\n",
    "import numpy as np\n",
    "import pickle\n",
    "from tqdm import tqdm\n",
    "import pandas as pd"
   ]
  },
  {
   "cell_type": "code",
   "execution_count": 4,
   "metadata": {},
   "outputs": [],
   "source": [
    "all_models = []\n",
    "for x in os.listdir('models'):\n",
    "    with open('models/{}'.format(x), 'rb') as file:\n",
    "        y=pickle.load(file)\n",
    "    all_models.append(y)"
   ]
  },
  {
   "cell_type": "code",
   "execution_count": null,
   "metadata": {},
   "outputs": [
    {
     "name": "stdout",
     "output_type": "stream",
     "text": [
      "Matchup: UConn vs. Stetson\n",
      "UConn wins\n",
      "\n",
      "Matchup: Fla. Atlantic vs. Northwestern\n",
      "Fla. Atlantic wins\n",
      "\n",
      "Matchup: San Diego St. vs. UAB\n",
      "San Diego St. wins\n",
      "\n",
      "Matchup: Auburn vs. Yale\n",
      "Auburn wins\n",
      "\n",
      "Matchup: BYU vs. Duquesne\n",
      "BYU wins\n",
      "\n",
      "Matchup: Illinois vs. Morehead St.\n",
      "Illinois wins\n",
      "\n",
      "Matchup: Washington St. vs. Drake\n",
      "Washington St. wins\n",
      "\n",
      "Matchup: Iowa St. vs. South Dakota St.\n",
      "Iowa St. wins\n",
      "\n",
      "-------------------------------------------------------------------------\n",
      "Matchup: North Carolina vs. Howard\n",
      "North Carolina wins\n",
      "\n",
      "Matchup: Mississippi St. vs. Michigan St.\n",
      "Mississippi St. wins\n",
      "\n",
      "Matchup: Saint Mary's (CA) vs. Grand Canyon\n",
      "Grand Canyon wins\n",
      "\n",
      "Matchup: Alabama vs. Col. of Charleston\n",
      "Alabama wins\n",
      "\n",
      "Matchup: Clemson vs. New Mexico\n",
      "Clemson wins\n",
      "\n",
      "Matchup: Baylor vs. Colgate\n",
      "Baylor wins\n",
      "\n",
      "Matchup: Dayton vs. Nevada\n",
      "Nevada wins\n",
      "\n",
      "Matchup: Arizona vs. Long Beach St.\n",
      "Arizona wins\n",
      "\n",
      "-------------------------------------------------------------------------\n",
      "Matchup: Houston vs. Longwood\n",
      "Longwood wins\n",
      "\n",
      "Matchup: Nebraska vs. Texas A&M\n",
      "Texas A&M wins\n",
      "\n",
      "Matchup: Wisconsin vs. James Madison\n",
      "James Madison wins\n",
      "\n",
      "Matchup: Duke vs. Vermont\n",
      "Duke wins\n",
      "\n",
      "Matchup: Texas Tech vs. NC State\n",
      "Texas Tech wins\n",
      "\n",
      "Matchup: Kentucky vs. Oakland\n",
      "Kentucky wins\n",
      "\n",
      "Matchup: Florida vs. Boise St.\n",
      "Boise St. wins\n",
      "\n",
      "Matchup: Marquette vs. Western Ky.\n",
      "Marquette wins\n",
      "\n",
      "-------------------------------------------------------------------------\n",
      "Matchup: Purdue vs. Grambling\n",
      "Purdue wins\n",
      "\n",
      "Matchup: Utah St. vs. TCU\n",
      "Utah St. wins\n",
      "\n",
      "Matchup: Gonzaga vs. McNeese\n",
      "Gonzaga wins\n",
      "\n",
      "Matchup: Kansas vs. Samford\n",
      "Kansas wins\n",
      "\n",
      "Matchup: South Carolina vs. Oregon\n",
      "Oregon wins\n",
      "\n",
      "Matchup: Creighton vs. Akron\n",
      "Creighton wins\n",
      "\n",
      "Matchup: Texas vs. Virginia\n",
      "Texas wins\n",
      "\n",
      "Matchup: Tennessee vs. Saint Peter's\n",
      "Tennessee wins\n",
      "\n",
      "-------------------------------------------------------------------------\n",
      "Matchup: UConn vs. Fla. Atlantic\n",
      "UConn wins\n",
      "\n",
      "Matchup: San Diego St. vs. Auburn\n",
      "San Diego St. wins\n",
      "\n",
      "Matchup: BYU vs. Illinois\n",
      "Illinois wins\n",
      "\n",
      "Matchup: Washington St. vs. Iowa St.\n",
      "Iowa St. wins\n",
      "\n",
      "----------------------------------------------------------------\n",
      "Matchup: North Carolina vs. Mississippi St.\n",
      "Mississippi St. wins\n",
      "\n",
      "Matchup: Grand Canyon vs. Alabama\n",
      "Alabama wins\n",
      "\n",
      "Matchup: Clemson vs. Baylor\n",
      "Baylor wins\n",
      "\n",
      "Matchup: Nevada vs. Arizona\n",
      "Arizona wins\n",
      "\n",
      "----------------------------------------------------------------\n",
      "Matchup: Longwood vs. Texas A&M\n",
      "Texas A&M wins\n",
      "\n",
      "Matchup: James Madison vs. Duke\n",
      "James Madison wins\n",
      "\n",
      "Matchup: Texas Tech vs. Kentucky\n",
      "Texas Tech wins\n",
      "\n",
      "Matchup: Boise St. vs. Marquette\n",
      "Marquette wins\n",
      "\n",
      "----------------------------------------------------------------\n",
      "Matchup: Purdue vs. Utah St.\n",
      "Purdue wins\n",
      "\n",
      "Matchup: Gonzaga vs. Kansas\n",
      "Gonzaga wins\n",
      "\n",
      "Matchup: Oregon vs. Creighton\n",
      "Creighton wins\n",
      "\n",
      "Matchup: Texas vs. Tennessee\n",
      "Texas wins\n",
      "\n",
      "----------------------------------------------------------------\n",
      "Matchup: UConn vs. San Diego St.\n",
      "UConn wins\n",
      "\n",
      "Matchup: Illinois vs. Iowa St.\n",
      "Illinois wins\n",
      "\n",
      "------------------------------------------------------------------\n",
      "Matchup: Mississippi St. vs. Alabama\n",
      "Alabama wins\n",
      "\n",
      "Matchup: Baylor vs. Arizona\n",
      "Baylor wins\n",
      "\n",
      "------------------------------------------------------------------\n",
      "Matchup: Texas A&M vs. James Madison\n",
      "James Madison wins\n",
      "\n",
      "Matchup: Texas Tech vs. Marquette\n",
      "Texas Tech wins\n",
      "\n",
      "------------------------------------------------------------------\n",
      "Matchup: Purdue vs. Gonzaga\n",
      "Gonzaga wins\n",
      "\n",
      "Matchup: Creighton vs. Texas\n",
      "Creighton wins\n",
      "\n",
      "------------------------------------------------------------------\n",
      "Matchup: UConn vs. Illinois\n",
      "UConn wins\n",
      "\n",
      "Matchup: Alabama vs. Baylor\n",
      "Baylor wins\n",
      "\n",
      "Matchup: James Madison vs. Texas Tech\n",
      "Texas Tech wins\n",
      "\n",
      "Matchup: Gonzaga vs. Creighton\n",
      "Creighton wins\n",
      "\n",
      "Matchup: UConn vs. Baylor\n",
      "UConn wins\n",
      "\n",
      "Matchup: Texas Tech vs. Creighton\n",
      "Creighton wins\n",
      "\n",
      "Matchup: UConn vs. Creighton\n",
      "UConn wins\n",
      "\n",
      "Tiebreaker O/U: 134\n"
     ]
    },
    {
     "data": {
      "text/plain": [
       "['UConn',\n",
       " 'Fla. Atlantic',\n",
       " 'San Diego St.',\n",
       " 'Auburn',\n",
       " 'BYU',\n",
       " 'Illinois',\n",
       " 'Washington St.',\n",
       " 'Iowa St.',\n",
       " 'North Carolina',\n",
       " 'Mississippi St.',\n",
       " 'Grand Canyon',\n",
       " 'Alabama',\n",
       " 'Clemson',\n",
       " 'Baylor',\n",
       " 'Nevada',\n",
       " 'Arizona',\n",
       " 'Longwood',\n",
       " 'Texas A&M',\n",
       " 'James Madison',\n",
       " 'Duke',\n",
       " 'Texas Tech',\n",
       " 'Kentucky',\n",
       " 'Boise St.',\n",
       " 'Marquette',\n",
       " 'Purdue',\n",
       " 'Utah St.',\n",
       " 'Gonzaga',\n",
       " 'Kansas',\n",
       " 'Oregon',\n",
       " 'Creighton',\n",
       " 'Texas',\n",
       " 'Tennessee',\n",
       " 'UConn',\n",
       " 'San Diego St.',\n",
       " 'Illinois',\n",
       " 'Iowa St.',\n",
       " 'Mississippi St.',\n",
       " 'Alabama',\n",
       " 'Baylor',\n",
       " 'Arizona',\n",
       " 'Texas A&M',\n",
       " 'James Madison',\n",
       " 'Texas Tech',\n",
       " 'Marquette',\n",
       " 'Purdue',\n",
       " 'Gonzaga',\n",
       " 'Creighton',\n",
       " 'Texas',\n",
       " 'UConn',\n",
       " 'Illinois',\n",
       " 'Alabama',\n",
       " 'Baylor',\n",
       " 'James Madison',\n",
       " 'Texas Tech',\n",
       " 'Gonzaga',\n",
       " 'Creighton',\n",
       " 'UConn',\n",
       " 'Baylor',\n",
       " 'Texas Tech',\n",
       " 'Creighton',\n",
       " 'UConn',\n",
       " 'Creighton',\n",
       " 'UConn']"
      ]
     },
     "execution_count": 16,
     "metadata": {},
     "output_type": "execute_result"
    }
   ],
   "source": [
    "simulate_tournament(strategy='nn', reps=10, auto=False, model=all_models[11])"
   ]
  },
  {
   "cell_type": "code",
   "execution_count": 5,
   "metadata": {},
   "outputs": [],
   "source": [
    "all_results_repeat = []\n",
    "all_results_dict = dict()\n",
    "unique_values=0\n"
   ]
  },
  {
   "cell_type": "code",
   "execution_count": 7,
   "metadata": {},
   "outputs": [
    {
     "ename": "KeyboardInterrupt",
     "evalue": "",
     "output_type": "error",
     "traceback": [
      "\u001b[1;31m---------------------------------------------------------------------------\u001b[0m",
      "\u001b[1;31mKeyboardInterrupt\u001b[0m                         Traceback (most recent call last)",
      "\u001b[1;32m~\\AppData\\Local\\Temp\\ipykernel_18496\\236157598.py\u001b[0m in \u001b[0;36m<module>\u001b[1;34m\u001b[0m\n\u001b[0;32m      1\u001b[0m \u001b[1;32mfor\u001b[0m \u001b[0mi\u001b[0m \u001b[1;32min\u001b[0m \u001b[0mtqdm\u001b[0m\u001b[1;33m(\u001b[0m\u001b[0mrange\u001b[0m\u001b[1;33m(\u001b[0m\u001b[1;36m10000\u001b[0m\u001b[1;33m)\u001b[0m\u001b[1;33m)\u001b[0m\u001b[1;33m:\u001b[0m\u001b[1;33m\u001b[0m\u001b[1;33m\u001b[0m\u001b[0m\n\u001b[1;32m----> 2\u001b[1;33m     \u001b[0mcurrent_result\u001b[0m \u001b[1;33m=\u001b[0m \u001b[0msimulate_tournament\u001b[0m\u001b[1;33m(\u001b[0m\u001b[0mstrategy\u001b[0m\u001b[1;33m=\u001b[0m\u001b[1;34m'nn'\u001b[0m\u001b[1;33m,\u001b[0m \u001b[0mreps\u001b[0m\u001b[1;33m=\u001b[0m\u001b[1;36m100\u001b[0m\u001b[1;33m,\u001b[0m \u001b[0mauto\u001b[0m\u001b[1;33m=\u001b[0m\u001b[1;32mTrue\u001b[0m\u001b[1;33m,\u001b[0m \u001b[0mmodel\u001b[0m\u001b[1;33m=\u001b[0m\u001b[0mnp\u001b[0m\u001b[1;33m.\u001b[0m\u001b[0mrandom\u001b[0m\u001b[1;33m.\u001b[0m\u001b[0mchoice\u001b[0m\u001b[1;33m(\u001b[0m\u001b[0mall_models\u001b[0m\u001b[1;33m)\u001b[0m\u001b[1;33m)\u001b[0m\u001b[1;33m\u001b[0m\u001b[1;33m\u001b[0m\u001b[0m\n\u001b[0m\u001b[0;32m      3\u001b[0m     \u001b[1;32mif\u001b[0m \u001b[0mcurrent_result\u001b[0m \u001b[1;32min\u001b[0m \u001b[0mall_results_dict\u001b[0m\u001b[1;33m.\u001b[0m\u001b[0mvalues\u001b[0m\u001b[1;33m(\u001b[0m\u001b[1;33m)\u001b[0m\u001b[1;33m:\u001b[0m\u001b[1;33m\u001b[0m\u001b[1;33m\u001b[0m\u001b[0m\n\u001b[0;32m      4\u001b[0m         \u001b[0mall_results_repeat\u001b[0m\u001b[1;33m.\u001b[0m\u001b[0mappend\u001b[0m\u001b[1;33m(\u001b[0m\u001b[0mlist\u001b[0m\u001b[1;33m(\u001b[0m\u001b[0mall_results_dict\u001b[0m\u001b[1;33m.\u001b[0m\u001b[0mvalues\u001b[0m\u001b[1;33m(\u001b[0m\u001b[1;33m)\u001b[0m\u001b[1;33m)\u001b[0m\u001b[1;33m.\u001b[0m\u001b[0mindex\u001b[0m\u001b[1;33m(\u001b[0m\u001b[0mcurrent_result\u001b[0m\u001b[1;33m)\u001b[0m \u001b[1;33m+\u001b[0m \u001b[1;36m1\u001b[0m\u001b[1;33m)\u001b[0m\u001b[1;33m\u001b[0m\u001b[1;33m\u001b[0m\u001b[0m\n\u001b[0;32m      5\u001b[0m     \u001b[1;32melse\u001b[0m\u001b[1;33m:\u001b[0m\u001b[1;33m\u001b[0m\u001b[1;33m\u001b[0m\u001b[0m\n",
      "\u001b[1;32mc:\\Users\\mdona\\OneDrive\\Documents\\Development\\NCAA_Markov\\helper_functions\\tourney_sim.py\u001b[0m in \u001b[0;36msimulate_tournament\u001b[1;34m(strategy, reps, auto, model)\u001b[0m\n\u001b[0;32m    253\u001b[0m             \u001b[1;31m#if even, do one extra simulation\u001b[0m\u001b[1;33m\u001b[0m\u001b[1;33m\u001b[0m\u001b[0m\n\u001b[0;32m    254\u001b[0m             \u001b[1;32mif\u001b[0m \u001b[0mwinners\u001b[0m \u001b[1;33m==\u001b[0m \u001b[1;36m0.5\u001b[0m\u001b[1;33m:\u001b[0m\u001b[1;33m\u001b[0m\u001b[1;33m\u001b[0m\u001b[0m\n\u001b[1;32m--> 255\u001b[1;33m                 \u001b[0mres\u001b[0m\u001b[1;33m=\u001b[0m\u001b[0mmatchup\u001b[0m\u001b[1;33m(\u001b[0m\u001b[0mmatch\u001b[0m\u001b[1;33m[\u001b[0m\u001b[1;36m0\u001b[0m\u001b[1;33m]\u001b[0m\u001b[1;33m,\u001b[0m\u001b[0mmatch\u001b[0m\u001b[1;33m[\u001b[0m\u001b[1;36m1\u001b[0m\u001b[1;33m]\u001b[0m\u001b[1;33m,\u001b[0m \u001b[0mstrategy\u001b[0m\u001b[1;33m,\u001b[0m \u001b[0mmodel\u001b[0m\u001b[1;33m=\u001b[0m\u001b[0mmodel\u001b[0m\u001b[1;33m)\u001b[0m\u001b[1;33m\u001b[0m\u001b[1;33m\u001b[0m\u001b[0m\n\u001b[0m\u001b[0;32m    256\u001b[0m                 \u001b[0mwinners\u001b[0m\u001b[1;33m=\u001b[0m\u001b[0mres\u001b[0m\u001b[1;33m[\u001b[0m\u001b[1;36m0\u001b[0m\u001b[1;33m]\u001b[0m\u001b[1;33m[\u001b[0m\u001b[1;36m0\u001b[0m\u001b[1;33m]\u001b[0m\u001b[1;33m>\u001b[0m\u001b[0mres\u001b[0m\u001b[1;33m[\u001b[0m\u001b[1;36m0\u001b[0m\u001b[1;33m]\u001b[0m\u001b[1;33m[\u001b[0m\u001b[1;36m1\u001b[0m\u001b[1;33m]\u001b[0m\u001b[1;33m\u001b[0m\u001b[1;33m\u001b[0m\u001b[0m\n\u001b[0;32m    257\u001b[0m             \u001b[1;32mif\u001b[0m \u001b[0mwinners\u001b[0m \u001b[1;33m>\u001b[0m \u001b[1;36m0.5\u001b[0m\u001b[1;33m:\u001b[0m\u001b[1;33m\u001b[0m\u001b[1;33m\u001b[0m\u001b[0m\n",
      "\u001b[1;32mc:\\Users\\mdona\\OneDrive\\Documents\\Development\\NCAA_Markov\\helper_functions\\tourney_sim.py\u001b[0m in \u001b[0;36mmatchup\u001b[1;34m(team_A, team_B, strategy, reps, argmax, model)\u001b[0m\n\u001b[0;32m     40\u001b[0m     \u001b[1;32melse\u001b[0m\u001b[1;33m:\u001b[0m\u001b[1;33m\u001b[0m\u001b[1;33m\u001b[0m\u001b[0m\n\u001b[0;32m     41\u001b[0m         \u001b[0mm\u001b[0m\u001b[1;33m=\u001b[0m\u001b[0mmodel\u001b[0m\u001b[1;33m\u001b[0m\u001b[1;33m\u001b[0m\u001b[0m\n\u001b[1;32m---> 42\u001b[1;33m         \u001b[1;32mreturn\u001b[0m \u001b[0mnn_output\u001b[0m\u001b[1;33m(\u001b[0m\u001b[0mm\u001b[0m\u001b[1;33m,\u001b[0m \u001b[0mteam_A\u001b[0m\u001b[1;33m,\u001b[0m \u001b[0mteam_B\u001b[0m\u001b[1;33m,\u001b[0m \u001b[0mreps\u001b[0m\u001b[1;33m,\u001b[0m \u001b[0margmax\u001b[0m\u001b[1;33m)\u001b[0m\u001b[1;33m\u001b[0m\u001b[1;33m\u001b[0m\u001b[0m\n\u001b[0m\u001b[0;32m     43\u001b[0m \u001b[1;33m\u001b[0m\u001b[0m\n\u001b[0;32m     44\u001b[0m \u001b[1;32mdef\u001b[0m \u001b[0mnn_output\u001b[0m\u001b[1;33m(\u001b[0m\u001b[0mmodel\u001b[0m\u001b[1;33m,\u001b[0m \u001b[0mteam_A\u001b[0m\u001b[1;33m,\u001b[0m \u001b[0mteam_B\u001b[0m\u001b[1;33m,\u001b[0m \u001b[0mnum_sims\u001b[0m\u001b[1;33m,\u001b[0m \u001b[0margmax\u001b[0m\u001b[1;33m=\u001b[0m\u001b[1;32mFalse\u001b[0m\u001b[1;33m)\u001b[0m\u001b[1;33m:\u001b[0m\u001b[1;33m\u001b[0m\u001b[1;33m\u001b[0m\u001b[0m\n",
      "\u001b[1;32mc:\\Users\\mdona\\OneDrive\\Documents\\Development\\NCAA_Markov\\helper_functions\\tourney_sim.py\u001b[0m in \u001b[0;36mnn_output\u001b[1;34m(model, team_A, team_B, num_sims, argmax)\u001b[0m\n\u001b[0;32m     57\u001b[0m     \u001b[0mtest_matrix_b_array\u001b[0m \u001b[1;33m=\u001b[0m \u001b[0mmatrix_B_normal\u001b[0m\u001b[1;33m.\u001b[0m\u001b[0mvalues\u001b[0m\u001b[1;33m.\u001b[0m\u001b[0mreshape\u001b[0m\u001b[1;33m(\u001b[0m\u001b[1;33m-\u001b[0m\u001b[1;36m1\u001b[0m\u001b[1;33m,\u001b[0m \u001b[1;36m18\u001b[0m\u001b[1;33m,\u001b[0m \u001b[1;36m18\u001b[0m\u001b[1;33m)\u001b[0m\u001b[1;33m\u001b[0m\u001b[1;33m\u001b[0m\u001b[0m\n\u001b[0;32m     58\u001b[0m \u001b[1;33m\u001b[0m\u001b[0m\n\u001b[1;32m---> 59\u001b[1;33m     \u001b[0mpredictions\u001b[0m \u001b[1;33m=\u001b[0m \u001b[0mmodel\u001b[0m\u001b[1;33m.\u001b[0m\u001b[0mpredict\u001b[0m\u001b[1;33m(\u001b[0m\u001b[1;33m[\u001b[0m\u001b[0mtest_matrix_a_array\u001b[0m\u001b[1;33m,\u001b[0m \u001b[0mtest_matrix_b_array\u001b[0m\u001b[1;33m]\u001b[0m\u001b[1;33m,\u001b[0m \u001b[0mverbose\u001b[0m\u001b[1;33m=\u001b[0m\u001b[1;36m0\u001b[0m\u001b[1;33m)\u001b[0m\u001b[1;33m\u001b[0m\u001b[1;33m\u001b[0m\u001b[0m\n\u001b[0m\u001b[0;32m     60\u001b[0m \u001b[1;33m\u001b[0m\u001b[0m\n\u001b[0;32m     61\u001b[0m     \u001b[1;32mif\u001b[0m \u001b[0margmax\u001b[0m\u001b[1;33m:\u001b[0m\u001b[1;33m\u001b[0m\u001b[1;33m\u001b[0m\u001b[0m\n",
      "\u001b[1;32m~\\AppData\\Roaming\\Python\\Python39\\site-packages\\keras\\src\\utils\\traceback_utils.py\u001b[0m in \u001b[0;36merror_handler\u001b[1;34m(*args, **kwargs)\u001b[0m\n\u001b[0;32m     63\u001b[0m         \u001b[0mfiltered_tb\u001b[0m \u001b[1;33m=\u001b[0m \u001b[1;32mNone\u001b[0m\u001b[1;33m\u001b[0m\u001b[1;33m\u001b[0m\u001b[0m\n\u001b[0;32m     64\u001b[0m         \u001b[1;32mtry\u001b[0m\u001b[1;33m:\u001b[0m\u001b[1;33m\u001b[0m\u001b[1;33m\u001b[0m\u001b[0m\n\u001b[1;32m---> 65\u001b[1;33m             \u001b[1;32mreturn\u001b[0m \u001b[0mfn\u001b[0m\u001b[1;33m(\u001b[0m\u001b[1;33m*\u001b[0m\u001b[0margs\u001b[0m\u001b[1;33m,\u001b[0m \u001b[1;33m**\u001b[0m\u001b[0mkwargs\u001b[0m\u001b[1;33m)\u001b[0m\u001b[1;33m\u001b[0m\u001b[1;33m\u001b[0m\u001b[0m\n\u001b[0m\u001b[0;32m     66\u001b[0m         \u001b[1;32mexcept\u001b[0m \u001b[0mException\u001b[0m \u001b[1;32mas\u001b[0m \u001b[0me\u001b[0m\u001b[1;33m:\u001b[0m\u001b[1;33m\u001b[0m\u001b[1;33m\u001b[0m\u001b[0m\n\u001b[0;32m     67\u001b[0m             \u001b[0mfiltered_tb\u001b[0m \u001b[1;33m=\u001b[0m \u001b[0m_process_traceback_frames\u001b[0m\u001b[1;33m(\u001b[0m\u001b[0me\u001b[0m\u001b[1;33m.\u001b[0m\u001b[0m__traceback__\u001b[0m\u001b[1;33m)\u001b[0m\u001b[1;33m\u001b[0m\u001b[1;33m\u001b[0m\u001b[0m\n",
      "\u001b[1;32m~\\AppData\\Roaming\\Python\\Python39\\site-packages\\keras\\src\\engine\\training.py\u001b[0m in \u001b[0;36mpredict\u001b[1;34m(self, x, batch_size, verbose, steps, callbacks, max_queue_size, workers, use_multiprocessing)\u001b[0m\n\u001b[0;32m   2618\u001b[0m                     )\n\u001b[0;32m   2619\u001b[0m \u001b[1;33m\u001b[0m\u001b[0m\n\u001b[1;32m-> 2620\u001b[1;33m             data_handler = data_adapter.get_data_handler(\n\u001b[0m\u001b[0;32m   2621\u001b[0m                 \u001b[0mx\u001b[0m\u001b[1;33m=\u001b[0m\u001b[0mx\u001b[0m\u001b[1;33m,\u001b[0m\u001b[1;33m\u001b[0m\u001b[1;33m\u001b[0m\u001b[0m\n\u001b[0;32m   2622\u001b[0m                 \u001b[0mbatch_size\u001b[0m\u001b[1;33m=\u001b[0m\u001b[0mbatch_size\u001b[0m\u001b[1;33m,\u001b[0m\u001b[1;33m\u001b[0m\u001b[1;33m\u001b[0m\u001b[0m\n",
      "\u001b[1;32m~\\AppData\\Roaming\\Python\\Python39\\site-packages\\keras\\src\\engine\\data_adapter.py\u001b[0m in \u001b[0;36mget_data_handler\u001b[1;34m(*args, **kwargs)\u001b[0m\n\u001b[0;32m   1686\u001b[0m             \u001b[1;32mreturn\u001b[0m \u001b[0m_ClusterCoordinatorExactEvalDataHandler\u001b[0m\u001b[1;33m(\u001b[0m\u001b[1;33m*\u001b[0m\u001b[0margs\u001b[0m\u001b[1;33m,\u001b[0m \u001b[1;33m**\u001b[0m\u001b[0mkwargs\u001b[0m\u001b[1;33m)\u001b[0m\u001b[1;33m\u001b[0m\u001b[1;33m\u001b[0m\u001b[0m\n\u001b[0;32m   1687\u001b[0m         \u001b[1;32mreturn\u001b[0m \u001b[0m_ClusterCoordinatorDataHandler\u001b[0m\u001b[1;33m(\u001b[0m\u001b[1;33m*\u001b[0m\u001b[0margs\u001b[0m\u001b[1;33m,\u001b[0m \u001b[1;33m**\u001b[0m\u001b[0mkwargs\u001b[0m\u001b[1;33m)\u001b[0m\u001b[1;33m\u001b[0m\u001b[1;33m\u001b[0m\u001b[0m\n\u001b[1;32m-> 1688\u001b[1;33m     \u001b[1;32mreturn\u001b[0m \u001b[0mDataHandler\u001b[0m\u001b[1;33m(\u001b[0m\u001b[1;33m*\u001b[0m\u001b[0margs\u001b[0m\u001b[1;33m,\u001b[0m \u001b[1;33m**\u001b[0m\u001b[0mkwargs\u001b[0m\u001b[1;33m)\u001b[0m\u001b[1;33m\u001b[0m\u001b[1;33m\u001b[0m\u001b[0m\n\u001b[0m\u001b[0;32m   1689\u001b[0m \u001b[1;33m\u001b[0m\u001b[0m\n\u001b[0;32m   1690\u001b[0m \u001b[1;33m\u001b[0m\u001b[0m\n",
      "\u001b[1;32m~\\AppData\\Roaming\\Python\\Python39\\site-packages\\keras\\src\\engine\\data_adapter.py\u001b[0m in \u001b[0;36m__init__\u001b[1;34m(self, x, y, sample_weight, batch_size, steps_per_epoch, initial_epoch, epochs, shuffle, class_weight, max_queue_size, workers, use_multiprocessing, model, steps_per_execution, distribute, pss_evaluation_shards)\u001b[0m\n\u001b[0;32m   1290\u001b[0m \u001b[1;33m\u001b[0m\u001b[0m\n\u001b[0;32m   1291\u001b[0m         \u001b[0madapter_cls\u001b[0m \u001b[1;33m=\u001b[0m \u001b[0mselect_data_adapter\u001b[0m\u001b[1;33m(\u001b[0m\u001b[0mx\u001b[0m\u001b[1;33m,\u001b[0m \u001b[0my\u001b[0m\u001b[1;33m)\u001b[0m\u001b[1;33m\u001b[0m\u001b[1;33m\u001b[0m\u001b[0m\n\u001b[1;32m-> 1292\u001b[1;33m         self._adapter = adapter_cls(\n\u001b[0m\u001b[0;32m   1293\u001b[0m             \u001b[0mx\u001b[0m\u001b[1;33m,\u001b[0m\u001b[1;33m\u001b[0m\u001b[1;33m\u001b[0m\u001b[0m\n\u001b[0;32m   1294\u001b[0m             \u001b[0my\u001b[0m\u001b[1;33m,\u001b[0m\u001b[1;33m\u001b[0m\u001b[1;33m\u001b[0m\u001b[0m\n",
      "\u001b[1;32m~\\AppData\\Roaming\\Python\\Python39\\site-packages\\keras\\src\\engine\\data_adapter.py\u001b[0m in \u001b[0;36m__init__\u001b[1;34m(self, x, y, sample_weights, sample_weight_modes, batch_size, epochs, steps, shuffle, **kwargs)\u001b[0m\n\u001b[0;32m    353\u001b[0m         \u001b[0mindices_dataset\u001b[0m \u001b[1;33m=\u001b[0m \u001b[0mindices_dataset\u001b[0m\u001b[1;33m.\u001b[0m\u001b[0mflat_map\u001b[0m\u001b[1;33m(\u001b[0m\u001b[0mslice_batch_indices\u001b[0m\u001b[1;33m)\u001b[0m\u001b[1;33m\u001b[0m\u001b[1;33m\u001b[0m\u001b[0m\n\u001b[0;32m    354\u001b[0m \u001b[1;33m\u001b[0m\u001b[0m\n\u001b[1;32m--> 355\u001b[1;33m         \u001b[0mdataset\u001b[0m \u001b[1;33m=\u001b[0m \u001b[0mself\u001b[0m\u001b[1;33m.\u001b[0m\u001b[0mslice_inputs\u001b[0m\u001b[1;33m(\u001b[0m\u001b[0mindices_dataset\u001b[0m\u001b[1;33m,\u001b[0m \u001b[0minputs\u001b[0m\u001b[1;33m)\u001b[0m\u001b[1;33m\u001b[0m\u001b[1;33m\u001b[0m\u001b[0m\n\u001b[0m\u001b[0;32m    356\u001b[0m \u001b[1;33m\u001b[0m\u001b[0m\n\u001b[0;32m    357\u001b[0m         \u001b[1;32mif\u001b[0m \u001b[0mshuffle\u001b[0m \u001b[1;33m==\u001b[0m \u001b[1;34m\"batch\"\u001b[0m\u001b[1;33m:\u001b[0m\u001b[1;33m\u001b[0m\u001b[1;33m\u001b[0m\u001b[0m\n",
      "\u001b[1;32m~\\AppData\\Roaming\\Python\\Python39\\site-packages\\keras\\src\\engine\\data_adapter.py\u001b[0m in \u001b[0;36mslice_inputs\u001b[1;34m(self, indices_dataset, inputs)\u001b[0m\n\u001b[0;32m    394\u001b[0m             )\n\u001b[0;32m    395\u001b[0m \u001b[1;33m\u001b[0m\u001b[0m\n\u001b[1;32m--> 396\u001b[1;33m         \u001b[0mdataset\u001b[0m \u001b[1;33m=\u001b[0m \u001b[0mdataset\u001b[0m\u001b[1;33m.\u001b[0m\u001b[0mmap\u001b[0m\u001b[1;33m(\u001b[0m\u001b[0mgrab_batch\u001b[0m\u001b[1;33m,\u001b[0m \u001b[0mnum_parallel_calls\u001b[0m\u001b[1;33m=\u001b[0m\u001b[0mtf\u001b[0m\u001b[1;33m.\u001b[0m\u001b[0mdata\u001b[0m\u001b[1;33m.\u001b[0m\u001b[0mAUTOTUNE\u001b[0m\u001b[1;33m)\u001b[0m\u001b[1;33m\u001b[0m\u001b[1;33m\u001b[0m\u001b[0m\n\u001b[0m\u001b[0;32m    397\u001b[0m \u001b[1;33m\u001b[0m\u001b[0m\n\u001b[0;32m    398\u001b[0m         \u001b[1;31m# Default optimizations are disabled to avoid the overhead of\u001b[0m\u001b[1;33m\u001b[0m\u001b[1;33m\u001b[0m\u001b[0m\n",
      "\u001b[1;32m~\\AppData\\Roaming\\Python\\Python39\\site-packages\\tensorflow\\python\\data\\ops\\dataset_ops.py\u001b[0m in \u001b[0;36mmap\u001b[1;34m(self, map_func, num_parallel_calls, deterministic, name)\u001b[0m\n\u001b[0;32m   2278\u001b[0m     \u001b[1;31m# pylint: disable=g-import-not-at-top,protected-access\u001b[0m\u001b[1;33m\u001b[0m\u001b[1;33m\u001b[0m\u001b[0m\n\u001b[0;32m   2279\u001b[0m     \u001b[1;32mfrom\u001b[0m \u001b[0mtensorflow\u001b[0m\u001b[1;33m.\u001b[0m\u001b[0mpython\u001b[0m\u001b[1;33m.\u001b[0m\u001b[0mdata\u001b[0m\u001b[1;33m.\u001b[0m\u001b[0mops\u001b[0m \u001b[1;32mimport\u001b[0m \u001b[0mmap_op\u001b[0m\u001b[1;33m\u001b[0m\u001b[1;33m\u001b[0m\u001b[0m\n\u001b[1;32m-> 2280\u001b[1;33m     return map_op._map_v2(\n\u001b[0m\u001b[0;32m   2281\u001b[0m         \u001b[0mself\u001b[0m\u001b[1;33m,\u001b[0m\u001b[1;33m\u001b[0m\u001b[1;33m\u001b[0m\u001b[0m\n\u001b[0;32m   2282\u001b[0m         \u001b[0mmap_func\u001b[0m\u001b[1;33m,\u001b[0m\u001b[1;33m\u001b[0m\u001b[1;33m\u001b[0m\u001b[0m\n",
      "\u001b[1;32m~\\AppData\\Roaming\\Python\\Python39\\site-packages\\tensorflow\\python\\data\\ops\\map_op.py\u001b[0m in \u001b[0;36m_map_v2\u001b[1;34m(input_dataset, map_func, num_parallel_calls, deterministic, name)\u001b[0m\n\u001b[0;32m     38\u001b[0m         input_dataset, map_func, preserve_cardinality=True, name=name)\n\u001b[0;32m     39\u001b[0m   \u001b[1;32melse\u001b[0m\u001b[1;33m:\u001b[0m\u001b[1;33m\u001b[0m\u001b[1;33m\u001b[0m\u001b[0m\n\u001b[1;32m---> 40\u001b[1;33m     return _ParallelMapDataset(\n\u001b[0m\u001b[0;32m     41\u001b[0m         \u001b[0minput_dataset\u001b[0m\u001b[1;33m,\u001b[0m\u001b[1;33m\u001b[0m\u001b[1;33m\u001b[0m\u001b[0m\n\u001b[0;32m     42\u001b[0m         \u001b[0mmap_func\u001b[0m\u001b[1;33m,\u001b[0m\u001b[1;33m\u001b[0m\u001b[1;33m\u001b[0m\u001b[0m\n",
      "\u001b[1;32m~\\AppData\\Roaming\\Python\\Python39\\site-packages\\tensorflow\\python\\data\\ops\\map_op.py\u001b[0m in \u001b[0;36m__init__\u001b[1;34m(self, input_dataset, map_func, num_parallel_calls, deterministic, use_inter_op_parallelism, preserve_cardinality, use_legacy_function, name)\u001b[0m\n\u001b[0;32m    161\u001b[0m         num_parallel_calls, dtype=dtypes.int64, name=\"num_parallel_calls\")\n\u001b[0;32m    162\u001b[0m     \u001b[0mself\u001b[0m\u001b[1;33m.\u001b[0m\u001b[0m_name\u001b[0m \u001b[1;33m=\u001b[0m \u001b[0mname\u001b[0m\u001b[1;33m\u001b[0m\u001b[1;33m\u001b[0m\u001b[0m\n\u001b[1;32m--> 163\u001b[1;33m     variant_tensor = gen_dataset_ops.parallel_map_dataset_v2(\n\u001b[0m\u001b[0;32m    164\u001b[0m         \u001b[0minput_dataset\u001b[0m\u001b[1;33m.\u001b[0m\u001b[0m_variant_tensor\u001b[0m\u001b[1;33m,\u001b[0m  \u001b[1;31m# pylint: disable=protected-access\u001b[0m\u001b[1;33m\u001b[0m\u001b[1;33m\u001b[0m\u001b[0m\n\u001b[0;32m    165\u001b[0m         \u001b[0mself\u001b[0m\u001b[1;33m.\u001b[0m\u001b[0m_map_func\u001b[0m\u001b[1;33m.\u001b[0m\u001b[0mfunction\u001b[0m\u001b[1;33m.\u001b[0m\u001b[0mcaptured_inputs\u001b[0m\u001b[1;33m,\u001b[0m\u001b[1;33m\u001b[0m\u001b[1;33m\u001b[0m\u001b[0m\n",
      "\u001b[1;32m~\\AppData\\Roaming\\Python\\Python39\\site-packages\\tensorflow\\python\\ops\\gen_dataset_ops.py\u001b[0m in \u001b[0;36mparallel_map_dataset_v2\u001b[1;34m(input_dataset, other_arguments, num_parallel_calls, f, output_types, output_shapes, use_inter_op_parallelism, deterministic, preserve_cardinality, metadata, name)\u001b[0m\n\u001b[0;32m   5795\u001b[0m   \u001b[1;32mif\u001b[0m \u001b[0mtld\u001b[0m\u001b[1;33m.\u001b[0m\u001b[0mis_eager\u001b[0m\u001b[1;33m:\u001b[0m\u001b[1;33m\u001b[0m\u001b[1;33m\u001b[0m\u001b[0m\n\u001b[0;32m   5796\u001b[0m     \u001b[1;32mtry\u001b[0m\u001b[1;33m:\u001b[0m\u001b[1;33m\u001b[0m\u001b[1;33m\u001b[0m\u001b[0m\n\u001b[1;32m-> 5797\u001b[1;33m       _result = pywrap_tfe.TFE_Py_FastPathExecute(\n\u001b[0m\u001b[0;32m   5798\u001b[0m         \u001b[0m_ctx\u001b[0m\u001b[1;33m,\u001b[0m \u001b[1;34m\"ParallelMapDatasetV2\"\u001b[0m\u001b[1;33m,\u001b[0m \u001b[0mname\u001b[0m\u001b[1;33m,\u001b[0m \u001b[0minput_dataset\u001b[0m\u001b[1;33m,\u001b[0m \u001b[0mother_arguments\u001b[0m\u001b[1;33m,\u001b[0m\u001b[1;33m\u001b[0m\u001b[1;33m\u001b[0m\u001b[0m\n\u001b[0;32m   5799\u001b[0m         \u001b[0mnum_parallel_calls\u001b[0m\u001b[1;33m,\u001b[0m \u001b[1;34m\"f\"\u001b[0m\u001b[1;33m,\u001b[0m \u001b[0mf\u001b[0m\u001b[1;33m,\u001b[0m \u001b[1;34m\"output_types\"\u001b[0m\u001b[1;33m,\u001b[0m \u001b[0moutput_types\u001b[0m\u001b[1;33m,\u001b[0m\u001b[1;33m\u001b[0m\u001b[1;33m\u001b[0m\u001b[0m\n",
      "\u001b[1;31mKeyboardInterrupt\u001b[0m: "
     ]
    }
   ],
   "source": [
    "%%capture\n",
    "for i in tqdm(range(10000)):\n",
    "    current_result = simulate_tournament(strategy='nn', reps=100, auto=True, model=np.random.choice(all_models))\n",
    "    if current_result in all_results_dict.values():\n",
    "        all_results_repeat.append(list(all_results_dict.values()).index(current_result) + 1)\n",
    "    else:\n",
    "        unique_values+=1\n",
    "        all_results_dict[unique_values]=current_result\n",
    "        all_results_repeat.append(unique_values)"
   ]
  },
  {
   "cell_type": "code",
   "execution_count": 18,
   "metadata": {},
   "outputs": [],
   "source": [
    "with open('brackets/100_sim_dict_CS.pickle', 'wb') as handle:\n",
    "    pickle.dump(all_results_dict, handle)"
   ]
  },
  {
   "cell_type": "code",
   "execution_count": 8,
   "metadata": {},
   "outputs": [
    {
     "data": {
      "text/plain": [
       "428"
      ]
     },
     "execution_count": 8,
     "metadata": {},
     "output_type": "execute_result"
    }
   ],
   "source": [
    "unique_values"
   ]
  },
  {
   "cell_type": "code",
   "execution_count": 9,
   "metadata": {},
   "outputs": [
    {
     "data": {
      "text/plain": [
       "428"
      ]
     },
     "execution_count": 9,
     "metadata": {},
     "output_type": "execute_result"
    }
   ],
   "source": [
    "len(all_results_repeat)"
   ]
  },
  {
   "cell_type": "code",
   "execution_count": 10,
   "metadata": {},
   "outputs": [],
   "source": [
    "egg = []"
   ]
  },
  {
   "cell_type": "code",
   "execution_count": 11,
   "metadata": {},
   "outputs": [],
   "source": [
    "for v in all_results_dict.values():\n",
    "    egg.append(v[-1])"
   ]
  },
  {
   "cell_type": "code",
   "execution_count": 12,
   "metadata": {},
   "outputs": [
    {
     "data": {
      "text/plain": [
       "UConn                 109\n",
       "North Carolina         42\n",
       "Purdue                 20\n",
       "Auburn                 19\n",
       "BYU                    18\n",
       "Duke                   15\n",
       "Texas Tech             15\n",
       "Saint Mary's (CA)      14\n",
       "San Diego St.          12\n",
       "Dayton                 11\n",
       "Gonzaga                 9\n",
       "Clemson                 8\n",
       "Fla. Atlantic           7\n",
       "Houston                 7\n",
       "James Madison           7\n",
       "Utah St.                6\n",
       "Boise St.               6\n",
       "Creighton               6\n",
       "McNeese                 6\n",
       "Iowa St.                5\n",
       "Col. of Charleston      5\n",
       "Nebraska                5\n",
       "Duquesne                5\n",
       "Wisconsin               4\n",
       "Michigan St.            4\n",
       "Yale                    4\n",
       "Longwood                4\n",
       "Morehead St.            4\n",
       "Drake                   3\n",
       "Washington St.          3\n",
       "Wagner                  3\n",
       "UAB                     3\n",
       "Stetson                 3\n",
       "Baylor                  3\n",
       "Grand Canyon            3\n",
       "Illinois                3\n",
       "Arizona                 2\n",
       "TCU                     2\n",
       "Florida                 2\n",
       "Akron                   2\n",
       "Tennessee               2\n",
       "Alabama                 2\n",
       "Mississippi St.         2\n",
       "Colorado St.            1\n",
       "Kansas                  1\n",
       "Vermont                 1\n",
       "Samford                 1\n",
       "Kentucky                1\n",
       "Oakland                 1\n",
       "Grambling               1\n",
       "Northwestern            1\n",
       "Texas A&M               1\n",
       "Colgate                 1\n",
       "Marquette               1\n",
       "New Mexico              1\n",
       "South Carolina          1\n",
       "Name: count, dtype: int64"
      ]
     },
     "execution_count": 12,
     "metadata": {},
     "output_type": "execute_result"
    }
   ],
   "source": [
    "pd.Series(egg).value_counts()"
   ]
  },
  {
   "cell_type": "code",
   "execution_count": 13,
   "metadata": {},
   "outputs": [
    {
     "name": "stdout",
     "output_type": "stream",
     "text": [
      "Winner: UConn. Pct: 84.58%\n",
      "Winner: Fla. Atlantic. Pct: 82.94%\n",
      "Winner: San Diego St.. Pct: 83.88%\n",
      "Winner: Auburn. Pct: 79.67%\n",
      "Winner: BYU. Pct: 73.36%\n",
      "Winner: Illinois. Pct: 62.62%\n",
      "Winner: Washington St.. Pct: 68.22%\n",
      "Winner: Iowa St.. Pct: 86.92%\n",
      "Winner: North Carolina. Pct: 87.38%\n",
      "Winner: Michigan St.. Pct: 53.5%\n",
      "Winner: Saint Mary's (CA). Pct: 74.77%\n",
      "Winner: Col. of Charleston. Pct: 50.7%\n",
      "Winner: Clemson. Pct: 76.4%\n",
      "Winner: Baylor. Pct: 70.09%\n",
      "Winner: Dayton. Pct: 70.09%\n",
      "Winner: Arizona. Pct: 82.71%\n",
      "Winner: Houston. Pct: 58.41%\n",
      "Winner: Nebraska. Pct: 59.58%\n",
      "Winner: Wisconsin. Pct: 51.17%\n",
      "Winner: Duke. Pct: 70.56%\n",
      "Winner: Texas Tech. Pct: 78.5%\n",
      "Winner: Kentucky. Pct: 73.13%\n",
      "Winner: Boise St.. Pct: 58.88%\n",
      "Winner: Marquette. Pct: 88.32%\n",
      "Winner: Purdue. Pct: 91.82%\n",
      "Winner: Utah St.. Pct: 74.53%\n",
      "Winner: Gonzaga. Pct: 63.32%\n",
      "Winner: Kansas. Pct: 63.08%\n",
      "Winner: South Carolina. Pct: 59.11%\n",
      "Winner: Creighton. Pct: 82.24%\n",
      "Winner: Texas. Pct: 66.59%\n",
      "Winner: Tennessee. Pct: 72.66%\n"
     ]
    }
   ],
   "source": [
    "wins_list = []\n",
    "for val in all_results_dict.values():\n",
    "    wins_list.append(val[:32])\n",
    "wframe=pd.DataFrame(wins_list)\n",
    "for c in wframe.columns:\n",
    "    col=wframe[c]\n",
    "    vc=col.value_counts()\n",
    "    print('Winner: {}. Pct: {}%'.format(vc.index[0], np.round(100*(vc.iloc[0]/len(wframe)), 2)))"
   ]
  },
  {
   "cell_type": "code",
   "execution_count": 17,
   "metadata": {},
   "outputs": [
    {
     "data": {
      "text/plain": [
       "30\n",
       "Texas           285\n",
       "Colorado St.    143\n",
       "Name: count, dtype: int64"
      ]
     },
     "execution_count": 17,
     "metadata": {},
     "output_type": "execute_result"
    }
   ],
   "source": [
    "wframe[wframe.columns[-2]].value_counts()"
   ]
  }
 ],
 "metadata": {
  "kernelspec": {
   "display_name": "base",
   "language": "python",
   "name": "python3"
  },
  "language_info": {
   "codemirror_mode": {
    "name": "ipython",
    "version": 3
   },
   "file_extension": ".py",
   "mimetype": "text/x-python",
   "name": "python",
   "nbconvert_exporter": "python",
   "pygments_lexer": "ipython3",
   "version": "3.9.13"
  }
 },
 "nbformat": 4,
 "nbformat_minor": 2
}
