{
 "cells": [
  {
   "cell_type": "code",
   "execution_count": 1,
   "metadata": {},
   "outputs": [],
   "source": [
    "#in pull_many_games, I had flawed logic that only saved games if it was a new team.\n",
    "#originally, I pulled range 6197002 to 6200799\n",
    "#on 2/24, expand to 6201022\n",
    "#2/25 note - 6195995 is a valid game, we don't have any Michigan games right now so need to re-scrape\n",
    "#also St. John's (NY) matrix got messed up somewhow?\n",
    "#same with Johnson TN, Johnson FL. I assume it would be attributed to the abbrevs being wrong in the pbp data\n",
    "#2/26 - made changes to st johns issue, will correct rest after I pull missing data.\n",
    "#missing pocket of data seems to start at 6195964, end at 6196975\n",
    "#on 3/3, , aiming to grab any games we have missed since 2/26\n",
    "#the highest before was 6201021\n",
    "#now go to 6201450"
   ]
  },
  {
   "cell_type": "code",
   "execution_count": 2,
   "metadata": {},
   "outputs": [],
   "source": [
    "import pandas as pd\n",
    "from helper_functions.pull_game_logic import pull_game\n",
    "from helper_functions.pull_game_logic import WrongSportException\n",
    "from tqdm import tqdm\n",
    "import time"
   ]
  },
  {
   "cell_type": "code",
   "execution_count": 3,
   "metadata": {},
   "outputs": [],
   "source": [
    "number = 6201021"
   ]
  },
  {
   "cell_type": "code",
   "execution_count": 4,
   "metadata": {},
   "outputs": [],
   "source": [
    "bottom_range=number"
   ]
  },
  {
   "cell_type": "code",
   "execution_count": 5,
   "metadata": {},
   "outputs": [
    {
     "name": "stderr",
     "output_type": "stream",
     "text": [
      "100%|██████████| 428/428 [03:13<00:00,  2.21it/s]\n"
     ]
    }
   ],
   "source": [
    "bottom_range += 1\n",
    "for number in tqdm(range(bottom_range,6201450)):\n",
    "    try:\n",
    "        current_data = pull_game(number)\n",
    "        current_data['data'].to_excel('raw_game_pulls/{}'.format(current_data['id'] + '.xlsx'), index=False)\n",
    "    except WrongSportException:\n",
    "        pass"
   ]
  },
  {
   "cell_type": "code",
   "execution_count": 6,
   "metadata": {},
   "outputs": [
    {
     "data": {
      "text/plain": [
       "6196808"
      ]
     },
     "execution_count": 6,
     "metadata": {},
     "output_type": "execute_result"
    }
   ],
   "source": [
    "number"
   ]
  },
  {
   "cell_type": "code",
   "execution_count": null,
   "metadata": {},
   "outputs": [],
   "source": []
  }
 ],
 "metadata": {
  "kernelspec": {
   "display_name": "base",
   "language": "python",
   "name": "python3"
  },
  "language_info": {
   "codemirror_mode": {
    "name": "ipython",
    "version": 3
   },
   "file_extension": ".py",
   "mimetype": "text/x-python",
   "name": "python",
   "nbconvert_exporter": "python",
   "pygments_lexer": "ipython3",
   "version": "3.9.7"
  }
 },
 "nbformat": 4,
 "nbformat_minor": 2
}
