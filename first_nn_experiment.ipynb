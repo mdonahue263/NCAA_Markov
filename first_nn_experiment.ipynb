{
 "cells": [
  {
   "cell_type": "code",
   "execution_count": 6,
   "metadata": {},
   "outputs": [],
   "source": [
    "import pandas as pd\n",
    "import os\n",
    "from tqdm import tqdm\n",
    "import time\n",
    "from matplotlib import pyplot as plt\n",
    "import numpy as np"
   ]
  },
  {
   "cell_type": "code",
   "execution_count": 2,
   "metadata": {},
   "outputs": [],
   "source": [
    "def pull_game_data(g):\n",
    "        game_res = pd.read_excel('raw_game_pulls/{}'.format(g))\n",
    "        game_strings = g.split(' vs ')\n",
    "        team_A = game_strings[0].split('for ')[-1]\n",
    "        team_B = game_strings[1].split('.xlsx')[0]\n",
    "\n",
    "        matrix1 = pd.read_excel('team_specific_matrix/{}_A.xlsx'.format(team_A), index_col='Starting_State')\n",
    "        matrix2 = pd.read_excel('team_specific_matrix/{}_B.xlsx'.format(team_B), index_col='Starting_State')\n",
    "\n",
    "        A_score = game_res.iloc[-1]['Home']\n",
    "        B_score = game_res.iloc[-1]['Away']\n",
    "        score = (A_score,B_score)\n",
    "\n",
    "        return matrix1, matrix2, score"
   ]
  },
  {
   "cell_type": "code",
   "execution_count": 3,
   "metadata": {},
   "outputs": [],
   "source": [
    "for game in os.listdir('raw_game_pulls')[:10]:\n",
    "    a,b,c = pull_game_data(game)"
   ]
  },
  {
   "cell_type": "code",
   "execution_count": 9,
   "metadata": {},
   "outputs": [],
   "source": [
    "# import numpy as np\n",
    "import tensorflow as tf\n",
    "from sklearn.model_selection import train_test_split\n",
    "from tensorflow.keras import layers, Model, regularizers\n"
   ]
  },
  {
   "cell_type": "code",
   "execution_count": null,
   "metadata": {},
   "outputs": [],
   "source": []
  },
  {
   "cell_type": "code",
   "execution_count": 53,
   "metadata": {},
   "outputs": [],
   "source": [
    "# Define the neural network architecture\n",
    "def build_model():\n",
    "    input1 = layers.Input(shape=(18, 18))\n",
    "    input2 = layers.Input(shape=(18, 18))\n",
    "\n",
    "    flatten1 = layers.Flatten()(input1)\n",
    "    flatten2 = layers.Flatten()(input2)\n",
    "\n",
    "    concat = layers.Concatenate()([flatten1, flatten2])\n",
    "    dense1 = layers.Dense(200, activation='relu')(concat)\n",
    "    dense2 = layers.Dense(100, activation='relu')(dense1)\n",
    "\n",
    "    # dense3 = layers.Dense(32, activation='sigmoid')(dense2)\n",
    "    # dense4 = layers.Dense(256, activation='relu')(dense3)\n",
    "    # dense5 = layers.Dense(128, activation='sigmoid')(dense4)\n",
    "\n",
    "    output1 = layers.Dense(201, activation='softmax', name='output1')(dense2)  # Adjust output dimension to match the range (150 - 50 + 1)\n",
    "    output2 = layers.Dense(201, activation='softmax', name='output2')(dense2)  # Adjust output dimension to match the range (150 - 50 + 1)\n",
    "\n",
    "    model = Model(inputs=[input1, input2], outputs=[output1, output2])\n",
    "    return model\n",
    "\n",
    "# Define your training function\n",
    "def train_model(matrixA_list, matrixB_list, output_tuple_list, epochs=10, batch_size=32):\n",
    "    # Convert DataFrame to numpy arrays\n",
    "    matrixA_array = np.array(matrixA_list)\n",
    "    matrixB_array = np.array(matrixB_list)\n",
    "    output_array = np.array(output_tuple_list)\n",
    "    \n",
    "    # Build the model\n",
    "    model = build_model()\n",
    "\n",
    "    # Compile the model\n",
    "    model.compile(optimizer='adam', loss='binary_crossentropy', metrics=['accuracy'])\n",
    "\n",
    "    # Train the model\n",
    "    model.fit([matrixA_array, matrixB_array], [output_array[:, 0], output_array[:, 1]], epochs=epochs, batch_size=batch_size)\n",
    "    return model"
   ]
  },
  {
   "cell_type": "code",
   "execution_count": 7,
   "metadata": {},
   "outputs": [
    {
     "name": "stderr",
     "output_type": "stream",
     "text": [
      "100%|██████████| 5237/5237 [09:36<00:00,  9.09it/s]\n"
     ]
    }
   ],
   "source": [
    "ma_list = []\n",
    "mb_list = []\n",
    "output_list = []\n",
    "\n",
    "for game in tqdm(os.listdir('raw_game_pulls')):\n",
    "    a,b,c = pull_game_data(game)\n",
    "    ma_list.append(a)\n",
    "    mb_list.append(b)\n",
    "    output_list.append(c)"
   ]
  },
  {
   "cell_type": "code",
   "execution_count": 8,
   "metadata": {},
   "outputs": [],
   "source": [
    "arr_outputs = []\n",
    "for x in output_list:\n",
    "    value1, value2 = x\n",
    "\n",
    "    # Create numpy arrays\n",
    "    array1 = np.zeros(201)\n",
    "    array2 = np.zeros(201)\n",
    "\n",
    "    # Set the corresponding indices to 1\n",
    "    array1[value1 - 1] = 1\n",
    "    array2[value2 - 1] = 1 \n",
    "    arr_outputs.append((array1, array2))"
   ]
  },
  {
   "cell_type": "code",
   "execution_count": 12,
   "metadata": {},
   "outputs": [],
   "source": [
    "all_inputs = ma_list + mb_list"
   ]
  },
  {
   "cell_type": "code",
   "execution_count": 15,
   "metadata": {},
   "outputs": [],
   "source": []
  },
  {
   "cell_type": "code",
   "execution_count": 28,
   "metadata": {},
   "outputs": [],
   "source": [
    "arr = np.array([df.values for df in all_inputs])\n",
    "\n",
    "# Calculate mean and standard deviation across the first axis (which represents different DataFrames)\n",
    "avg = np.mean(arr, axis=0)\n",
    "std_dev = np.std(arr, axis=0)\n",
    "\n",
    "# Create DataFrames from the calculated arrays\n",
    "avg_df = pd.DataFrame(avg, index=all_inputs[0].index, columns=all_inputs[0].columns)\n",
    "std_dev_df = pd.DataFrame(std_dev, index=all_inputs[0].index, columns=all_inputs[0].columns)"
   ]
  },
  {
   "cell_type": "code",
   "execution_count": 45,
   "metadata": {},
   "outputs": [],
   "source": [
    "norm_inputs_a = []\n",
    "norm_inputs_b = []"
   ]
  },
  {
   "cell_type": "code",
   "execution_count": 46,
   "metadata": {},
   "outputs": [],
   "source": [
    "# Step 3: Normalize each value in each matrix based on the overall mean and standard deviation\n",
    "for matrix in ma_list:\n",
    "    normalized_matrix = (matrix - avg_df) / std_dev_df\n",
    "    normalized_matrix=normalized_matrix.fillna(0.)\n",
    "    norm_inputs_a.append(normalized_matrix)\n",
    "\n",
    "for matrix in mb_list:\n",
    "    normalized_matrix = (matrix - avg_df) / std_dev_df\n",
    "    normalized_matrix=normalized_matrix.fillna(0.)\n",
    "    norm_inputs_b.append(normalized_matrix)"
   ]
  },
  {
   "cell_type": "code",
   "execution_count": 47,
   "metadata": {},
   "outputs": [],
   "source": [
    "matrix_A_train = norm_inputs_a[:4000]\n",
    "matrix_B_train = norm_inputs_b[:4000]\n",
    "\n",
    "y_train = arr_outputs[:4000]\n",
    "\n",
    "matrix_A_test = norm_inputs_a[4000:]\n",
    "matrix_B_test = norm_inputs_b[4000:]\n",
    "\n",
    "y_test=arr_outputs[4000:]"
   ]
  },
  {
   "cell_type": "code",
   "execution_count": 54,
   "metadata": {},
   "outputs": [
    {
     "name": "stdout",
     "output_type": "stream",
     "text": [
      "Epoch 1/10\n",
      "63/63 [==============================] - 1s 3ms/step - loss: 0.4319 - output1_loss: 0.2191 - output2_loss: 0.2129 - output1_accuracy: 0.0108 - output2_accuracy: 0.0170\n",
      "Epoch 2/10\n",
      "63/63 [==============================] - 0s 3ms/step - loss: 0.0570 - output1_loss: 0.0290 - output2_loss: 0.0280 - output1_accuracy: 0.0345 - output2_accuracy: 0.0355\n",
      "Epoch 3/10\n",
      "63/63 [==============================] - 0s 2ms/step - loss: 0.0536 - output1_loss: 0.0272 - output2_loss: 0.0264 - output1_accuracy: 0.0342 - output2_accuracy: 0.0395\n",
      "Epoch 4/10\n",
      "63/63 [==============================] - 0s 3ms/step - loss: 0.0520 - output1_loss: 0.0264 - output2_loss: 0.0256 - output1_accuracy: 0.0405 - output2_accuracy: 0.0475\n",
      "Epoch 5/10\n",
      "63/63 [==============================] - 0s 2ms/step - loss: 0.0507 - output1_loss: 0.0257 - output2_loss: 0.0249 - output1_accuracy: 0.0483 - output2_accuracy: 0.0595\n",
      "Epoch 6/10\n",
      "63/63 [==============================] - 0s 2ms/step - loss: 0.0494 - output1_loss: 0.0250 - output2_loss: 0.0244 - output1_accuracy: 0.0637 - output2_accuracy: 0.0702\n",
      "Epoch 7/10\n",
      "63/63 [==============================] - 0s 2ms/step - loss: 0.0484 - output1_loss: 0.0245 - output2_loss: 0.0239 - output1_accuracy: 0.0747 - output2_accuracy: 0.0820\n",
      "Epoch 8/10\n",
      "63/63 [==============================] - 0s 3ms/step - loss: 0.0473 - output1_loss: 0.0239 - output2_loss: 0.0234 - output1_accuracy: 0.0940 - output2_accuracy: 0.0993\n",
      "Epoch 9/10\n",
      "63/63 [==============================] - 0s 3ms/step - loss: 0.0464 - output1_loss: 0.0235 - output2_loss: 0.0230 - output1_accuracy: 0.1120 - output2_accuracy: 0.1152\n",
      "Epoch 10/10\n",
      "63/63 [==============================] - 0s 3ms/step - loss: 0.0455 - output1_loss: 0.0230 - output2_loss: 0.0225 - output1_accuracy: 0.1187 - output2_accuracy: 0.1268\n"
     ]
    }
   ],
   "source": [
    "m1 = train_model(matrix_A_train, matrix_B_train, y_train, 10, 64)"
   ]
  },
  {
   "cell_type": "code",
   "execution_count": 61,
   "metadata": {},
   "outputs": [
    {
     "name": "stderr",
     "output_type": "stream",
     "text": [
      "100%|██████████| 1237/1237 [00:43<00:00, 28.32it/s]\n"
     ]
    }
   ],
   "source": [
    "predicted_scores = []\n",
    "for i in tqdm(range(len(matrix_A_test))):\n",
    "    # Convert test matrices to numpy arrays\n",
    "    test_matrix_a_array = matrix_A_test[i].values.reshape(-1, 18, 18)\n",
    "    test_matrix_b_array = matrix_B_test[i].values.reshape(-1, 18, 18)\n",
    "\n",
    "    # Make predictions using the model\n",
    "    predictions = m1.predict([test_matrix_a_array, test_matrix_b_array], verbose=0)\n",
    "\n",
    "    predicted_score = (np.argmax(predictions[0]), np.argmax(predictions[1]))\n",
    "\n",
    "    predicted_scores.append(predicted_score)"
   ]
  },
  {
   "cell_type": "code",
   "execution_count": 62,
   "metadata": {},
   "outputs": [],
   "source": [
    "def accuracy(predicted_scores, actual_scores):\n",
    "    real_A_score = np.array([x[0] for x in actual_scores])\n",
    "    real_B_score = np.array([x[1] for x in actual_scores])\n",
    "\n",
    "    sim_A_score=np.array([x[0] for x in predicted_scores])\n",
    "    sim_B_score=np.array([x[1] for x in predicted_scores])\n",
    "\n",
    "    \n",
    "    a_error = (real_A_score-sim_A_score)**2\n",
    "    b_error = (real_B_score-sim_B_score)**2\n",
    "\n",
    "    return np.mean(np.sqrt(a_error+b_error))"
   ]
  },
  {
   "cell_type": "code",
   "execution_count": 63,
   "metadata": {},
   "outputs": [],
   "source": [
    "real_scores = output_list[4000:]"
   ]
  },
  {
   "cell_type": "code",
   "execution_count": 64,
   "metadata": {},
   "outputs": [
    {
     "data": {
      "text/plain": [
       "14.780018003211344"
      ]
     },
     "execution_count": 64,
     "metadata": {},
     "output_type": "execute_result"
    }
   ],
   "source": [
    "accuracy(predicted_scores, real_scores)"
   ]
  },
  {
   "cell_type": "code",
   "execution_count": 66,
   "metadata": {},
   "outputs": [],
   "source": [
    "def accuracy_ou(predicted_scores, actual_scores):\n",
    "    real_A_score = np.array([x[0] for x in actual_scores])\n",
    "    real_B_score = np.array([x[1] for x in actual_scores])\n",
    "\n",
    "    real_sum = real_A_score+real_B_score\n",
    "\n",
    "    sim_A_score=np.array([x[0] for x in predicted_scores])\n",
    "    sim_B_score=np.array([x[1] for x in predicted_scores])\n",
    "\n",
    "    sim_sum=sim_A_score+sim_B_score\n",
    "\n",
    "    return np.mean(sim_sum-real_sum)"
   ]
  },
  {
   "cell_type": "code",
   "execution_count": 68,
   "metadata": {},
   "outputs": [],
   "source": [
    "def distrib_ou(predicted_scores, actual_scores):\n",
    "    real_A_score = np.array([x[0] for x in actual_scores])\n",
    "    real_B_score = np.array([x[1] for x in actual_scores])\n",
    "\n",
    "    real_sum = real_A_score+real_B_score\n",
    "\n",
    "    sim_A_score=np.array([x[0] for x in predicted_scores])\n",
    "    sim_B_score=np.array([x[1] for x in predicted_scores])\n",
    "\n",
    "    sim_sum=sim_A_score+sim_B_score\n",
    "\n",
    "    return sim_sum-real_sum"
   ]
  },
  {
   "cell_type": "code",
   "execution_count": 71,
   "metadata": {},
   "outputs": [],
   "source": [
    "def accuracy_moneyline(predicted_scores, actual_scores):\n",
    "    real_A_score = np.array([x[0] for x in actual_scores])\n",
    "    real_B_score = np.array([x[1] for x in actual_scores])\n",
    "\n",
    "    a_won = real_A_score>real_B_score\n",
    "\n",
    "    sim_A_score=np.array([x[0] for x in predicted_scores])\n",
    "    sim_B_score=np.array([x[1] for x in predicted_scores])\n",
    "\n",
    "    sim_A_won = sim_A_score>sim_B_score\n",
    "\n",
    "    return np.mean(a_won == sim_A_won)"
   ]
  },
  {
   "cell_type": "code",
   "execution_count": 69,
   "metadata": {},
   "outputs": [],
   "source": [
    "distrib = distrib_ou(predicted_scores, real_scores)"
   ]
  },
  {
   "cell_type": "code",
   "execution_count": 72,
   "metadata": {},
   "outputs": [
    {
     "data": {
      "text/plain": [
       "0.6402586903799515"
      ]
     },
     "execution_count": 72,
     "metadata": {},
     "output_type": "execute_result"
    }
   ],
   "source": [
    "accuracy_moneyline(predicted_scores, real_scores)"
   ]
  },
  {
   "cell_type": "code",
   "execution_count": 60,
   "metadata": {},
   "outputs": [],
   "source": [
    "def build_regularized_model():\n",
    "    input1 = layers.Input(shape=(18, 18))\n",
    "    input2 = layers.Input(shape=(18, 18))\n",
    "\n",
    "    flatten1 = layers.Flatten()(input1)\n",
    "    flatten2 = layers.Flatten()(input2)\n",
    "\n",
    "    concat = layers.Concatenate()([flatten1, flatten2])\n",
    "    \n",
    "    # Wide sparse layers with L1 regularization\n",
    "    dense1 = layers.Dense(512, activation='relu', kernel_regularizer=regularizers.l1(0.01))(concat)\n",
    "    dropout1 = layers.Dropout(0.5)(dense1)\n",
    "    \n",
    "    dense2 = layers.Dense(256, activation='sigmoid', kernel_regularizer=regularizers.l1(0.01))(dropout1)\n",
    "    dropout2 = layers.Dropout(0.5)(dense2)\n",
    "\n",
    "    # Wide sparse layers with L1 regularization\n",
    "    dense3 = layers.Dense(2048, activation='relu', kernel_regularizer=regularizers.l1(0.01))(dropout2)\n",
    "    dropout3 = layers.Dropout(0.5)(dense2)\n",
    "    \n",
    "    dense4 = layers.Dense(64, activation='sigmoid', kernel_regularizer=regularizers.l1(0.01))(dropout3)\n",
    "    dropout4 = layers.Dropout(0.5)(dense3)\n",
    "\n",
    "    d5=layers.Dense(102377, activation='sigmoid')(dense4)\n",
    "    d6=layers.Dense(219, activation='sigmoid')(d5)\n",
    "    d7=layers.Dense(23456, activation='relu')(d6)\n",
    "    d8=layers.Dense(129, activation='softmax')(d7)\n",
    "    d9=layers.Dense(32, activation='sigmoid')(d8)\n",
    "\n",
    "    output1 = layers.Dense(201, activation='softmax', name='output1')(d9)  # Adjust output dimension to match the range (150 - 50 + 1)\n",
    "    output2 = layers.Dense(201, activation='softmax', name='output2')(d9)  # Adjust output dimension to match the range (150 - 50 + 1)\n",
    "\n",
    "    model = Model(inputs=[input1, input2], outputs=[output1, output2])\n",
    "    return model"
   ]
  },
  {
   "cell_type": "code",
   "execution_count": 139,
   "metadata": {},
   "outputs": [],
   "source": [
    "def custom_loss(y_true, y_pred):\n",
    "    # Reshape the input tensors if necessary\n",
    "    y_true_reshaped = tf.reshape(y_true, (-1, 201))  # Assuming 101 is the number of classes\n",
    "    y_pred_reshaped = tf.reshape(y_pred, (-1, 201))\n",
    "\n",
    "    # Compute the argmax operation with the correct axis\n",
    "    a_pred = tf.argmax(y_pred_reshaped[0], axis=1)\n",
    "    b_pred = tf.argmax(y_pred_reshaped[1], axis=1)\n",
    "\n",
    "    # Compute the argmax operation for the true labels as well\n",
    "    a_true = tf.argmax(y_true_reshaped[0], axis=1)\n",
    "    b_true = tf.argmax(y_true_reshaped[1], axis=1)\n",
    "\n",
    "    # Compute the loss based on the difference between predicted and true values\n",
    "    loss = tf.sqrt(tf.cast(tf.square(a_true - a_pred), dtype=tf.float32) + tf.cast(tf.square(b_true - b_pred), dtype=tf.float32))\n",
    "    return loss"
   ]
  },
  {
   "cell_type": "code",
   "execution_count": 140,
   "metadata": {},
   "outputs": [],
   "source": [
    "def train_model_2(matrixA_list, matrixB_list, output_tuple_list, epochs=10, batch_size=32):\n",
    "    # Convert DataFrame to numpy arrays\n",
    "    matrixA_array = np.array(matrixA_list)\n",
    "    matrixB_array = np.array(matrixB_list)\n",
    "    output_array = np.array(output_tuple_list)\n",
    "    \n",
    "    # Build the model\n",
    "    model = build_regularized_model()\n",
    "\n",
    "    # Compile the model\n",
    "    model.compile(optimizer='adam', loss=custom_loss, metrics=['accuracy'])\n",
    "\n",
    "    # Train the model\n",
    "    model.fit([matrixA_array, matrixB_array], [output_array[:, 0], output_array[:, 1]], epochs=epochs, batch_size=batch_size)\n",
    "    return model"
   ]
  },
  {
   "cell_type": "code",
   "execution_count": 141,
   "metadata": {},
   "outputs": [
    {
     "name": "stdout",
     "output_type": "stream",
     "text": [
      "Epoch 1/10\n",
      "WARNING:tensorflow:Gradients do not exist for variables ['dense_113/bias:0', 'dense_114/bias:0', 'dense_116/bias:0', 'dense_117/kernel:0', 'dense_117/bias:0', 'dense_118/kernel:0', 'dense_118/bias:0', 'dense_119/kernel:0', 'dense_119/bias:0', 'dense_120/kernel:0', 'dense_120/bias:0', 'dense_121/kernel:0', 'dense_121/bias:0', 'output1/kernel:0', 'output1/bias:0', 'output2/kernel:0', 'output2/bias:0'] when minimizing the loss. If you're using `model.compile()`, did you forget to provide a `loss` argument?\n",
      "WARNING:tensorflow:Gradients do not exist for variables ['dense_113/bias:0', 'dense_114/bias:0', 'dense_116/bias:0', 'dense_117/kernel:0', 'dense_117/bias:0', 'dense_118/kernel:0', 'dense_118/bias:0', 'dense_119/kernel:0', 'dense_119/bias:0', 'dense_120/kernel:0', 'dense_120/bias:0', 'dense_121/kernel:0', 'dense_121/bias:0', 'output1/kernel:0', 'output1/bias:0', 'output2/kernel:0', 'output2/bias:0'] when minimizing the loss. If you're using `model.compile()`, did you forget to provide a `loss` argument?\n",
      "WARNING:tensorflow:Gradients do not exist for variables ['dense_113/bias:0', 'dense_114/bias:0', 'dense_116/bias:0', 'dense_117/kernel:0', 'dense_117/bias:0', 'dense_118/kernel:0', 'dense_118/bias:0', 'dense_119/kernel:0', 'dense_119/bias:0', 'dense_120/kernel:0', 'dense_120/bias:0', 'dense_121/kernel:0', 'dense_121/bias:0', 'output1/kernel:0', 'output1/bias:0', 'output2/kernel:0', 'output2/bias:0'] when minimizing the loss. If you're using `model.compile()`, did you forget to provide a `loss` argument?\n",
      "WARNING:tensorflow:Gradients do not exist for variables ['dense_113/bias:0', 'dense_114/bias:0', 'dense_116/bias:0', 'dense_117/kernel:0', 'dense_117/bias:0', 'dense_118/kernel:0', 'dense_118/bias:0', 'dense_119/kernel:0', 'dense_119/bias:0', 'dense_120/kernel:0', 'dense_120/bias:0', 'dense_121/kernel:0', 'dense_121/bias:0', 'output1/kernel:0', 'output1/bias:0', 'output2/kernel:0', 'output2/bias:0'] when minimizing the loss. If you're using `model.compile()`, did you forget to provide a `loss` argument?\n"
     ]
    },
    {
     "ename": "InvalidArgumentError",
     "evalue": "Graph execution error:\n\nDetected at node 'custom_loss_1/ArgMax_2' defined at (most recent call last):\n    File \"c:\\Users\\mdona\\anaconda3\\lib\\runpy.py\", line 197, in _run_module_as_main\n      return _run_code(code, main_globals, None,\n    File \"c:\\Users\\mdona\\anaconda3\\lib\\runpy.py\", line 87, in _run_code\n      exec(code, run_globals)\n    File \"c:\\Users\\mdona\\anaconda3\\lib\\site-packages\\ipykernel_launcher.py\", line 17, in <module>\n      app.launch_new_instance()\n    File \"c:\\Users\\mdona\\anaconda3\\lib\\site-packages\\traitlets\\config\\application.py\", line 846, in launch_instance\n      app.start()\n    File \"c:\\Users\\mdona\\anaconda3\\lib\\site-packages\\ipykernel\\kernelapp.py\", line 712, in start\n      self.io_loop.start()\n    File \"c:\\Users\\mdona\\anaconda3\\lib\\site-packages\\tornado\\platform\\asyncio.py\", line 199, in start\n      self.asyncio_loop.run_forever()\n    File \"c:\\Users\\mdona\\anaconda3\\lib\\asyncio\\base_events.py\", line 601, in run_forever\n      self._run_once()\n    File \"c:\\Users\\mdona\\anaconda3\\lib\\asyncio\\base_events.py\", line 1905, in _run_once\n      handle._run()\n    File \"c:\\Users\\mdona\\anaconda3\\lib\\asyncio\\events.py\", line 80, in _run\n      self._context.run(self._callback, *self._args)\n    File \"c:\\Users\\mdona\\anaconda3\\lib\\site-packages\\ipykernel\\kernelbase.py\", line 510, in dispatch_queue\n      await self.process_one()\n    File \"c:\\Users\\mdona\\anaconda3\\lib\\site-packages\\ipykernel\\kernelbase.py\", line 499, in process_one\n      await dispatch(*args)\n    File \"c:\\Users\\mdona\\anaconda3\\lib\\site-packages\\ipykernel\\kernelbase.py\", line 406, in dispatch_shell\n      await result\n    File \"c:\\Users\\mdona\\anaconda3\\lib\\site-packages\\ipykernel\\kernelbase.py\", line 730, in execute_request\n      reply_content = await reply_content\n    File \"c:\\Users\\mdona\\anaconda3\\lib\\site-packages\\ipykernel\\ipkernel.py\", line 390, in do_execute\n      res = shell.run_cell(code, store_history=store_history, silent=silent)\n    File \"c:\\Users\\mdona\\anaconda3\\lib\\site-packages\\ipykernel\\zmqshell.py\", line 528, in run_cell\n      return super().run_cell(*args, **kwargs)\n    File \"c:\\Users\\mdona\\anaconda3\\lib\\site-packages\\IPython\\core\\interactiveshell.py\", line 2914, in run_cell\n      result = self._run_cell(\n    File \"c:\\Users\\mdona\\anaconda3\\lib\\site-packages\\IPython\\core\\interactiveshell.py\", line 2960, in _run_cell\n      return runner(coro)\n    File \"c:\\Users\\mdona\\anaconda3\\lib\\site-packages\\IPython\\core\\async_helpers.py\", line 78, in _pseudo_sync_runner\n      coro.send(None)\n    File \"c:\\Users\\mdona\\anaconda3\\lib\\site-packages\\IPython\\core\\interactiveshell.py\", line 3185, in run_cell_async\n      has_raised = await self.run_ast_nodes(code_ast.body, cell_name,\n    File \"c:\\Users\\mdona\\anaconda3\\lib\\site-packages\\IPython\\core\\interactiveshell.py\", line 3377, in run_ast_nodes\n      if (await self.run_code(code, result,  async_=asy)):\n    File \"c:\\Users\\mdona\\anaconda3\\lib\\site-packages\\IPython\\core\\interactiveshell.py\", line 3457, in run_code\n      exec(code_obj, self.user_global_ns, self.user_ns)\n    File \"C:\\Users\\mdona\\AppData\\Local\\Temp\\ipykernel_13084\\1803753112.py\", line 1, in <module>\n      m2 = train_model_2(matrix_A_train, matrix_B_train, y_train, 10, 64)\n    File \"C:\\Users\\mdona\\AppData\\Local\\Temp\\ipykernel_13084\\3458158607.py\", line 14, in train_model_2\n      model.fit([matrixA_array, matrixB_array], [output_array[:, 0], output_array[:, 1]], epochs=epochs, batch_size=batch_size)\n    File \"c:\\Users\\mdona\\anaconda3\\lib\\site-packages\\keras\\utils\\traceback_utils.py\", line 65, in error_handler\n      return fn(*args, **kwargs)\n    File \"c:\\Users\\mdona\\anaconda3\\lib\\site-packages\\keras\\engine\\training.py\", line 1650, in fit\n      tmp_logs = self.train_function(iterator)\n    File \"c:\\Users\\mdona\\anaconda3\\lib\\site-packages\\keras\\engine\\training.py\", line 1249, in train_function\n      return step_function(self, iterator)\n    File \"c:\\Users\\mdona\\anaconda3\\lib\\site-packages\\keras\\engine\\training.py\", line 1233, in step_function\n      outputs = model.distribute_strategy.run(run_step, args=(data,))\n    File \"c:\\Users\\mdona\\anaconda3\\lib\\site-packages\\keras\\engine\\training.py\", line 1222, in run_step\n      outputs = model.train_step(data)\n    File \"c:\\Users\\mdona\\anaconda3\\lib\\site-packages\\keras\\engine\\training.py\", line 1024, in train_step\n      loss = self.compute_loss(x, y, y_pred, sample_weight)\n    File \"c:\\Users\\mdona\\anaconda3\\lib\\site-packages\\keras\\engine\\training.py\", line 1082, in compute_loss\n      return self.compiled_loss(\n    File \"c:\\Users\\mdona\\anaconda3\\lib\\site-packages\\keras\\engine\\compile_utils.py\", line 265, in __call__\n      loss_value = loss_obj(y_t, y_p, sample_weight=sw)\n    File \"c:\\Users\\mdona\\anaconda3\\lib\\site-packages\\keras\\losses.py\", line 152, in __call__\n      losses = call_fn(y_true, y_pred)\n    File \"c:\\Users\\mdona\\anaconda3\\lib\\site-packages\\keras\\losses.py\", line 284, in call\n      return ag_fn(y_true, y_pred, **self._fn_kwargs)\n    File \"C:\\Users\\mdona\\AppData\\Local\\Temp\\ipykernel_13084\\4113577499.py\", line 11, in custom_loss\n      a_true = tf.argmax(y_true_reshaped[0], axis=1)\nNode: 'custom_loss_1/ArgMax_2'\nExpected dimension in the range [-1, 1), but got 1\n\t [[{{node custom_loss_1/ArgMax_2}}]] [Op:__inference_train_function_238695]",
     "output_type": "error",
     "traceback": [
      "\u001b[1;31m---------------------------------------------------------------------------\u001b[0m",
      "\u001b[1;31mInvalidArgumentError\u001b[0m                      Traceback (most recent call last)",
      "\u001b[1;32m~\\AppData\\Local\\Temp\\ipykernel_13084\\1803753112.py\u001b[0m in \u001b[0;36m<module>\u001b[1;34m\u001b[0m\n\u001b[1;32m----> 1\u001b[1;33m \u001b[0mm2\u001b[0m \u001b[1;33m=\u001b[0m \u001b[0mtrain_model_2\u001b[0m\u001b[1;33m(\u001b[0m\u001b[0mmatrix_A_train\u001b[0m\u001b[1;33m,\u001b[0m \u001b[0mmatrix_B_train\u001b[0m\u001b[1;33m,\u001b[0m \u001b[0my_train\u001b[0m\u001b[1;33m,\u001b[0m \u001b[1;36m10\u001b[0m\u001b[1;33m,\u001b[0m \u001b[1;36m64\u001b[0m\u001b[1;33m)\u001b[0m\u001b[1;33m\u001b[0m\u001b[1;33m\u001b[0m\u001b[0m\n\u001b[0m",
      "\u001b[1;32m~\\AppData\\Local\\Temp\\ipykernel_13084\\3458158607.py\u001b[0m in \u001b[0;36mtrain_model_2\u001b[1;34m(matrixA_list, matrixB_list, output_tuple_list, epochs, batch_size)\u001b[0m\n\u001b[0;32m     12\u001b[0m \u001b[1;33m\u001b[0m\u001b[0m\n\u001b[0;32m     13\u001b[0m     \u001b[1;31m# Train the model\u001b[0m\u001b[1;33m\u001b[0m\u001b[1;33m\u001b[0m\u001b[0m\n\u001b[1;32m---> 14\u001b[1;33m     \u001b[0mmodel\u001b[0m\u001b[1;33m.\u001b[0m\u001b[0mfit\u001b[0m\u001b[1;33m(\u001b[0m\u001b[1;33m[\u001b[0m\u001b[0mmatrixA_array\u001b[0m\u001b[1;33m,\u001b[0m \u001b[0mmatrixB_array\u001b[0m\u001b[1;33m]\u001b[0m\u001b[1;33m,\u001b[0m \u001b[1;33m[\u001b[0m\u001b[0moutput_array\u001b[0m\u001b[1;33m[\u001b[0m\u001b[1;33m:\u001b[0m\u001b[1;33m,\u001b[0m \u001b[1;36m0\u001b[0m\u001b[1;33m]\u001b[0m\u001b[1;33m,\u001b[0m \u001b[0moutput_array\u001b[0m\u001b[1;33m[\u001b[0m\u001b[1;33m:\u001b[0m\u001b[1;33m,\u001b[0m \u001b[1;36m1\u001b[0m\u001b[1;33m]\u001b[0m\u001b[1;33m]\u001b[0m\u001b[1;33m,\u001b[0m \u001b[0mepochs\u001b[0m\u001b[1;33m=\u001b[0m\u001b[0mepochs\u001b[0m\u001b[1;33m,\u001b[0m \u001b[0mbatch_size\u001b[0m\u001b[1;33m=\u001b[0m\u001b[0mbatch_size\u001b[0m\u001b[1;33m)\u001b[0m\u001b[1;33m\u001b[0m\u001b[1;33m\u001b[0m\u001b[0m\n\u001b[0m\u001b[0;32m     15\u001b[0m     \u001b[1;32mreturn\u001b[0m \u001b[0mmodel\u001b[0m\u001b[1;33m\u001b[0m\u001b[1;33m\u001b[0m\u001b[0m\n",
      "\u001b[1;32mc:\\Users\\mdona\\anaconda3\\lib\\site-packages\\keras\\utils\\traceback_utils.py\u001b[0m in \u001b[0;36merror_handler\u001b[1;34m(*args, **kwargs)\u001b[0m\n\u001b[0;32m     68\u001b[0m             \u001b[1;31m# To get the full stack trace, call:\u001b[0m\u001b[1;33m\u001b[0m\u001b[1;33m\u001b[0m\u001b[0m\n\u001b[0;32m     69\u001b[0m             \u001b[1;31m# `tf.debugging.disable_traceback_filtering()`\u001b[0m\u001b[1;33m\u001b[0m\u001b[1;33m\u001b[0m\u001b[0m\n\u001b[1;32m---> 70\u001b[1;33m             \u001b[1;32mraise\u001b[0m \u001b[0me\u001b[0m\u001b[1;33m.\u001b[0m\u001b[0mwith_traceback\u001b[0m\u001b[1;33m(\u001b[0m\u001b[0mfiltered_tb\u001b[0m\u001b[1;33m)\u001b[0m \u001b[1;32mfrom\u001b[0m \u001b[1;32mNone\u001b[0m\u001b[1;33m\u001b[0m\u001b[1;33m\u001b[0m\u001b[0m\n\u001b[0m\u001b[0;32m     71\u001b[0m         \u001b[1;32mfinally\u001b[0m\u001b[1;33m:\u001b[0m\u001b[1;33m\u001b[0m\u001b[1;33m\u001b[0m\u001b[0m\n\u001b[0;32m     72\u001b[0m             \u001b[1;32mdel\u001b[0m \u001b[0mfiltered_tb\u001b[0m\u001b[1;33m\u001b[0m\u001b[1;33m\u001b[0m\u001b[0m\n",
      "\u001b[1;32mc:\\Users\\mdona\\anaconda3\\lib\\site-packages\\tensorflow\\python\\eager\\execute.py\u001b[0m in \u001b[0;36mquick_execute\u001b[1;34m(op_name, num_outputs, inputs, attrs, ctx, name)\u001b[0m\n\u001b[0;32m     50\u001b[0m   \u001b[1;32mtry\u001b[0m\u001b[1;33m:\u001b[0m\u001b[1;33m\u001b[0m\u001b[1;33m\u001b[0m\u001b[0m\n\u001b[0;32m     51\u001b[0m     \u001b[0mctx\u001b[0m\u001b[1;33m.\u001b[0m\u001b[0mensure_initialized\u001b[0m\u001b[1;33m(\u001b[0m\u001b[1;33m)\u001b[0m\u001b[1;33m\u001b[0m\u001b[1;33m\u001b[0m\u001b[0m\n\u001b[1;32m---> 52\u001b[1;33m     tensors = pywrap_tfe.TFE_Py_Execute(ctx._handle, device_name, op_name,\n\u001b[0m\u001b[0;32m     53\u001b[0m                                         inputs, attrs, num_outputs)\n\u001b[0;32m     54\u001b[0m   \u001b[1;32mexcept\u001b[0m \u001b[0mcore\u001b[0m\u001b[1;33m.\u001b[0m\u001b[0m_NotOkStatusException\u001b[0m \u001b[1;32mas\u001b[0m \u001b[0me\u001b[0m\u001b[1;33m:\u001b[0m\u001b[1;33m\u001b[0m\u001b[1;33m\u001b[0m\u001b[0m\n",
      "\u001b[1;31mInvalidArgumentError\u001b[0m: Graph execution error:\n\nDetected at node 'custom_loss_1/ArgMax_2' defined at (most recent call last):\n    File \"c:\\Users\\mdona\\anaconda3\\lib\\runpy.py\", line 197, in _run_module_as_main\n      return _run_code(code, main_globals, None,\n    File \"c:\\Users\\mdona\\anaconda3\\lib\\runpy.py\", line 87, in _run_code\n      exec(code, run_globals)\n    File \"c:\\Users\\mdona\\anaconda3\\lib\\site-packages\\ipykernel_launcher.py\", line 17, in <module>\n      app.launch_new_instance()\n    File \"c:\\Users\\mdona\\anaconda3\\lib\\site-packages\\traitlets\\config\\application.py\", line 846, in launch_instance\n      app.start()\n    File \"c:\\Users\\mdona\\anaconda3\\lib\\site-packages\\ipykernel\\kernelapp.py\", line 712, in start\n      self.io_loop.start()\n    File \"c:\\Users\\mdona\\anaconda3\\lib\\site-packages\\tornado\\platform\\asyncio.py\", line 199, in start\n      self.asyncio_loop.run_forever()\n    File \"c:\\Users\\mdona\\anaconda3\\lib\\asyncio\\base_events.py\", line 601, in run_forever\n      self._run_once()\n    File \"c:\\Users\\mdona\\anaconda3\\lib\\asyncio\\base_events.py\", line 1905, in _run_once\n      handle._run()\n    File \"c:\\Users\\mdona\\anaconda3\\lib\\asyncio\\events.py\", line 80, in _run\n      self._context.run(self._callback, *self._args)\n    File \"c:\\Users\\mdona\\anaconda3\\lib\\site-packages\\ipykernel\\kernelbase.py\", line 510, in dispatch_queue\n      await self.process_one()\n    File \"c:\\Users\\mdona\\anaconda3\\lib\\site-packages\\ipykernel\\kernelbase.py\", line 499, in process_one\n      await dispatch(*args)\n    File \"c:\\Users\\mdona\\anaconda3\\lib\\site-packages\\ipykernel\\kernelbase.py\", line 406, in dispatch_shell\n      await result\n    File \"c:\\Users\\mdona\\anaconda3\\lib\\site-packages\\ipykernel\\kernelbase.py\", line 730, in execute_request\n      reply_content = await reply_content\n    File \"c:\\Users\\mdona\\anaconda3\\lib\\site-packages\\ipykernel\\ipkernel.py\", line 390, in do_execute\n      res = shell.run_cell(code, store_history=store_history, silent=silent)\n    File \"c:\\Users\\mdona\\anaconda3\\lib\\site-packages\\ipykernel\\zmqshell.py\", line 528, in run_cell\n      return super().run_cell(*args, **kwargs)\n    File \"c:\\Users\\mdona\\anaconda3\\lib\\site-packages\\IPython\\core\\interactiveshell.py\", line 2914, in run_cell\n      result = self._run_cell(\n    File \"c:\\Users\\mdona\\anaconda3\\lib\\site-packages\\IPython\\core\\interactiveshell.py\", line 2960, in _run_cell\n      return runner(coro)\n    File \"c:\\Users\\mdona\\anaconda3\\lib\\site-packages\\IPython\\core\\async_helpers.py\", line 78, in _pseudo_sync_runner\n      coro.send(None)\n    File \"c:\\Users\\mdona\\anaconda3\\lib\\site-packages\\IPython\\core\\interactiveshell.py\", line 3185, in run_cell_async\n      has_raised = await self.run_ast_nodes(code_ast.body, cell_name,\n    File \"c:\\Users\\mdona\\anaconda3\\lib\\site-packages\\IPython\\core\\interactiveshell.py\", line 3377, in run_ast_nodes\n      if (await self.run_code(code, result,  async_=asy)):\n    File \"c:\\Users\\mdona\\anaconda3\\lib\\site-packages\\IPython\\core\\interactiveshell.py\", line 3457, in run_code\n      exec(code_obj, self.user_global_ns, self.user_ns)\n    File \"C:\\Users\\mdona\\AppData\\Local\\Temp\\ipykernel_13084\\1803753112.py\", line 1, in <module>\n      m2 = train_model_2(matrix_A_train, matrix_B_train, y_train, 10, 64)\n    File \"C:\\Users\\mdona\\AppData\\Local\\Temp\\ipykernel_13084\\3458158607.py\", line 14, in train_model_2\n      model.fit([matrixA_array, matrixB_array], [output_array[:, 0], output_array[:, 1]], epochs=epochs, batch_size=batch_size)\n    File \"c:\\Users\\mdona\\anaconda3\\lib\\site-packages\\keras\\utils\\traceback_utils.py\", line 65, in error_handler\n      return fn(*args, **kwargs)\n    File \"c:\\Users\\mdona\\anaconda3\\lib\\site-packages\\keras\\engine\\training.py\", line 1650, in fit\n      tmp_logs = self.train_function(iterator)\n    File \"c:\\Users\\mdona\\anaconda3\\lib\\site-packages\\keras\\engine\\training.py\", line 1249, in train_function\n      return step_function(self, iterator)\n    File \"c:\\Users\\mdona\\anaconda3\\lib\\site-packages\\keras\\engine\\training.py\", line 1233, in step_function\n      outputs = model.distribute_strategy.run(run_step, args=(data,))\n    File \"c:\\Users\\mdona\\anaconda3\\lib\\site-packages\\keras\\engine\\training.py\", line 1222, in run_step\n      outputs = model.train_step(data)\n    File \"c:\\Users\\mdona\\anaconda3\\lib\\site-packages\\keras\\engine\\training.py\", line 1024, in train_step\n      loss = self.compute_loss(x, y, y_pred, sample_weight)\n    File \"c:\\Users\\mdona\\anaconda3\\lib\\site-packages\\keras\\engine\\training.py\", line 1082, in compute_loss\n      return self.compiled_loss(\n    File \"c:\\Users\\mdona\\anaconda3\\lib\\site-packages\\keras\\engine\\compile_utils.py\", line 265, in __call__\n      loss_value = loss_obj(y_t, y_p, sample_weight=sw)\n    File \"c:\\Users\\mdona\\anaconda3\\lib\\site-packages\\keras\\losses.py\", line 152, in __call__\n      losses = call_fn(y_true, y_pred)\n    File \"c:\\Users\\mdona\\anaconda3\\lib\\site-packages\\keras\\losses.py\", line 284, in call\n      return ag_fn(y_true, y_pred, **self._fn_kwargs)\n    File \"C:\\Users\\mdona\\AppData\\Local\\Temp\\ipykernel_13084\\4113577499.py\", line 11, in custom_loss\n      a_true = tf.argmax(y_true_reshaped[0], axis=1)\nNode: 'custom_loss_1/ArgMax_2'\nExpected dimension in the range [-1, 1), but got 1\n\t [[{{node custom_loss_1/ArgMax_2}}]] [Op:__inference_train_function_238695]"
     ]
    }
   ],
   "source": [
    "m2 = train_model_2(matrix_A_train, matrix_B_train, y_train, 10, 64)"
   ]
  },
  {
   "cell_type": "code",
   "execution_count": 126,
   "metadata": {},
   "outputs": [
    {
     "data": {
      "text/plain": [
       "<tf.Tensor 'IteratorGetNext:3' shape=(None, 201) dtype=float32>"
      ]
     },
     "execution_count": 126,
     "metadata": {},
     "output_type": "execute_result"
    }
   ],
   "source": [
    "a"
   ]
  },
  {
   "cell_type": "code",
   "execution_count": 111,
   "metadata": {},
   "outputs": [
    {
     "name": "stderr",
     "output_type": "stream",
     "text": [
      "100%|██████████| 10/10 [00:00<00:00, 18.60it/s]\n"
     ]
    }
   ],
   "source": [
    "predicted_scores_2 = []\n",
    "for i in tqdm.tqdm(range(len(matrix_A_test))[:10]):\n",
    "    # Convert test matrices to numpy arrays\n",
    "    test_matrix_a_array = matrix_A_test[i].values.reshape(-1, 18, 18)\n",
    "    test_matrix_b_array = matrix_B_test[i].values.reshape(-1, 18, 18)\n",
    "\n",
    "    # Make predictions using the model\n",
    "    predictions = m2.predict([test_matrix_a_array, test_matrix_b_array], verbose=0)\n",
    "\n",
    "    predicted_score = (np.argmax(predictions[0]), np.argmax(predictions[1]))\n",
    "\n",
    "    predicted_scores_2.append(predicted_score)"
   ]
  },
  {
   "cell_type": "code",
   "execution_count": 112,
   "metadata": {},
   "outputs": [
    {
     "data": {
      "text/plain": [
       "[(76, 69),\n",
       " (76, 69),\n",
       " (76, 69),\n",
       " (76, 69),\n",
       " (76, 69),\n",
       " (76, 69),\n",
       " (76, 69),\n",
       " (76, 69),\n",
       " (76, 69),\n",
       " (76, 69)]"
      ]
     },
     "execution_count": 112,
     "metadata": {},
     "output_type": "execute_result"
    }
   ],
   "source": [
    "predicted_scores_2"
   ]
  }
 ],
 "metadata": {
  "kernelspec": {
   "display_name": "base",
   "language": "python",
   "name": "python3"
  },
  "language_info": {
   "codemirror_mode": {
    "name": "ipython",
    "version": 3
   },
   "file_extension": ".py",
   "mimetype": "text/x-python",
   "name": "python",
   "nbconvert_exporter": "python",
   "pygments_lexer": "ipython3",
   "version": "3.9.13"
  }
 },
 "nbformat": 4,
 "nbformat_minor": 2
}
