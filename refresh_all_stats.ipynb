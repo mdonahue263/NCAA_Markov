{
 "cells": [
  {
   "cell_type": "code",
   "execution_count": 1,
   "metadata": {},
   "outputs": [],
   "source": [
    "import os\n",
    "import numpy as np\n",
    "import pandas as pd\n",
    "import datetime as dt\n",
    "from helper_functions.refresh_data import find_new_game_ids, save_down_games, read_latest_transition_file, save_valid_transitions"
   ]
  },
  {
   "cell_type": "code",
   "execution_count": 2,
   "metadata": {},
   "outputs": [],
   "source": [
    "#get rid of this next year\n",
    "pulled_games = sorted(os.listdir('raw_game_pulls'))\n",
    "pulled_indices = [x.split('_')[0] for x in pulled_games]\n",
    "pulled_range = np.arange(int(pulled_indices[0]), int(pulled_indices[-1]))\n",
    "missed_games = [str(x) for x in pulled_range if str(x) not in pulled_indices]"
   ]
  },
  {
   "cell_type": "code",
   "execution_count": 3,
   "metadata": {},
   "outputs": [],
   "source": [
    "game_ids = find_new_game_ids(dt.datetime(2024,3,10), dt.datetime(2024,3,19))"
   ]
  },
  {
   "cell_type": "code",
   "execution_count": 4,
   "metadata": {},
   "outputs": [],
   "source": [
    "game_ids=game_ids+missed_games"
   ]
  },
  {
   "cell_type": "code",
   "execution_count": 10,
   "metadata": {},
   "outputs": [],
   "source": [
    "# bad_ids, errors=save_down_games(game_ids,'raw_game_pulls')"
   ]
  },
  {
   "cell_type": "code",
   "execution_count": 31,
   "metadata": {},
   "outputs": [],
   "source": [
    "file = read_latest_transition_file('ALL_VALID_TRANSITIONS_v05.csv')"
   ]
  },
  {
   "cell_type": "code",
   "execution_count": 36,
   "metadata": {},
   "outputs": [
    {
     "name": "stderr",
     "output_type": "stream",
     "text": [
      "100%|██████████| 5602/5602 [00:04<00:00, 1386.44it/s]\n"
     ]
    }
   ],
   "source": [
    "success = save_valid_transitions(file, '06')\n",
    "\n",
    "assert success"
   ]
  },
  {
   "cell_type": "code",
   "execution_count": null,
   "metadata": {},
   "outputs": [],
   "source": []
  }
 ],
 "metadata": {
  "kernelspec": {
   "display_name": "base",
   "language": "python",
   "name": "python3"
  },
  "language_info": {
   "codemirror_mode": {
    "name": "ipython",
    "version": 3
   },
   "file_extension": ".py",
   "mimetype": "text/x-python",
   "name": "python",
   "nbconvert_exporter": "python",
   "pygments_lexer": "ipython3",
   "version": "3.9.7"
  }
 },
 "nbformat": 4,
 "nbformat_minor": 2
}
