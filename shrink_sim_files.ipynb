{
 "cells": [
  {
   "cell_type": "code",
   "execution_count": 16,
   "metadata": {},
   "outputs": [],
   "source": [
    "import pandas as pd\n",
    "import pickle\n",
    "import json\n",
    "import os\n",
    "from tqdm import tqdm"
   ]
  },
  {
   "cell_type": "code",
   "execution_count": 17,
   "metadata": {},
   "outputs": [
    {
     "name": "stderr",
     "output_type": "stream",
     "text": [
      "  0%|          | 0/5497 [00:00<?, ?it/s]"
     ]
    },
    {
     "name": "stderr",
     "output_type": "stream",
     "text": [
      "100%|██████████| 5497/5497 [01:34<00:00, 58.16it/s] \n"
     ]
    }
   ],
   "source": [
    "for f in tqdm(os.listdir(\"saved simulations small\")):\n",
    "    with open('saved simulations small/{}'.format(f), 'rb') as file:\n",
    "        data = pickle.load(file)\n",
    "        if len(data) == 2:\n",
    "            to_save = data[1]\n",
    "        else:\n",
    "            to_save = data\n",
    "    with open('saved_sims_small/{}'.format(f), 'wb') as handle:\n",
    "        pickle.dump(to_save, handle)"
   ]
  }
 ],
 "metadata": {
  "kernelspec": {
   "display_name": "base",
   "language": "python",
   "name": "python3"
  },
  "language_info": {
   "codemirror_mode": {
    "name": "ipython",
    "version": 3
   },
   "file_extension": ".py",
   "mimetype": "text/x-python",
   "name": "python",
   "nbconvert_exporter": "python",
   "pygments_lexer": "ipython3",
   "version": "3.9.13"
  }
 },
 "nbformat": 4,
 "nbformat_minor": 2
}
