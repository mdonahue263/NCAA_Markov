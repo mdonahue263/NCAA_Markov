{
 "cells": [
  {
   "cell_type": "code",
   "execution_count": 1,
   "metadata": {},
   "outputs": [],
   "source": [
    "import pandas as pd\n",
    "import numpy as np\n",
    "import os\n",
    "from tqdm import tqdm\n",
    "from matplotlib import pyplot as plt\n",
    "import seaborn as sns"
   ]
  },
  {
   "cell_type": "code",
   "execution_count": 2,
   "metadata": {},
   "outputs": [],
   "source": [
    "from helper_functions.clean_transitions import clean_transition_column\n",
    "from helper_functions.simulate_game import simulate_game"
   ]
  },
  {
   "cell_type": "code",
   "execution_count": 3,
   "metadata": {},
   "outputs": [],
   "source": [
    "avg_matrix = pd.read_excel('avg_transition_matrix_with_manual_edits.xlsx', sheet_name = 'Mean Pasted', index_col='Starting_State')"
   ]
  },
  {
   "cell_type": "code",
   "execution_count": 4,
   "metadata": {},
   "outputs": [],
   "source": [
    "# def combine_matrices(matrix_A, matrix_B, avg, params=[]):\n",
    "#     pass"
   ]
  },
  {
   "cell_type": "code",
   "execution_count": 5,
   "metadata": {},
   "outputs": [],
   "source": [
    "from scipy.optimize import minimize"
   ]
  },
  {
   "cell_type": "code",
   "execution_count": 6,
   "metadata": {},
   "outputs": [],
   "source": [
    "def accuracy(simulation_outcome, game_result):\n",
    "    real_A_score = game_result.iloc[-1]['Home']\n",
    "    real_B_score = game_result.iloc[-1]['Away']\n",
    "\n",
    "    sim_A_score=[simulation_outcome[1][x][0] for x in range(len(simulation_outcome[1]))]\n",
    "    sim_B_score=[simulation_outcome[1][x][1] for x in range(len(simulation_outcome[1]))]\n",
    "    a_error = (real_A_score-sim_A_score)**2\n",
    "    b_error = (real_B_score-sim_B_score)**2\n",
    "\n",
    "    return np.mean(np.sqrt(a_error+b_error))"
   ]
  },
  {
   "cell_type": "code",
   "execution_count": 7,
   "metadata": {},
   "outputs": [],
   "source": [
    "def accuracy_ou(simulation_outcome, game_result):\n",
    "    real_A_score = game_result.iloc[-1]['Home']\n",
    "    real_B_score = game_result.iloc[-1]['Away']\n",
    "\n",
    "    real_total = real_A_score + real_B_score\n",
    "\n",
    "    sim_A_score=[simulation_outcome[1][x][0] for x in range(len(simulation_outcome[1]))]\n",
    "    sim_B_score=[simulation_outcome[1][x][1] for x in range(len(simulation_outcome[1]))]\n",
    "    sim_total = np.array(list(map(lambda x,y: x+y, sim_B_score, sim_A_score)))\n",
    "\n",
    "\n",
    "    return np.mean(sim_total-real_total)"
   ]
  },
  {
   "cell_type": "code",
   "execution_count": 8,
   "metadata": {},
   "outputs": [],
   "source": [
    "def accuracy_winner(simulation_outcome, game_result):\n",
    "    real_A_score = game_result.iloc[-1]['Home']\n",
    "    real_B_score = game_result.iloc[-1]['Away']\n",
    "\n",
    "    team_A_win = real_A_score > real_B_score\n",
    "\n",
    "    sim_A_score=[simulation_outcome[1][x][0] for x in range(len(simulation_outcome[1]))]\n",
    "    sim_B_score=[simulation_outcome[1][x][1] for x in range(len(simulation_outcome[1]))]\n",
    "    sim_win = sim_A_score > sim_B_score\n",
    "\n",
    "\n",
    "    return team_A_win == sim_win"
   ]
  },
  {
   "cell_type": "code",
   "execution_count": 9,
   "metadata": {},
   "outputs": [],
   "source": [
    "# abc=simulate_game(combined_matrix,num_games=100)"
   ]
  },
  {
   "cell_type": "code",
   "execution_count": null,
   "metadata": {},
   "outputs": [],
   "source": []
  },
  {
   "cell_type": "code",
   "execution_count": 10,
   "metadata": {},
   "outputs": [],
   "source": [
    "# #pseudo code\n",
    "# for game in games:\n",
    "#     load matrix_A\n",
    "#     load matrix_B\n",
    "#     find final score of game\n",
    "#     run 100 or 1000 simulation of one possible param set\n",
    "#     calculate accuracy"
   ]
  },
  {
   "cell_type": "code",
   "execution_count": 11,
   "metadata": {},
   "outputs": [],
   "source": [
    "import time"
   ]
  },
  {
   "cell_type": "code",
   "execution_count": 12,
   "metadata": {},
   "outputs": [],
   "source": [
    "func_calls = 0\n",
    "scalar_history = []\n",
    "acc_history = []\n"
   ]
  },
  {
   "cell_type": "code",
   "execution_count": 13,
   "metadata": {},
   "outputs": [],
   "source": [
    "# def callback_function(xk):\n",
    "#     global func_calls\n",
    "#     func_calls += 1\n",
    "#     scalar_history.append(xk.copy()) \n",
    "#     print(\"Iteration:\", func_calls, \"  x0:\", xk)"
   ]
  },
  {
   "cell_type": "code",
   "execution_count": 47,
   "metadata": {},
   "outputs": [
    {
     "ename": "TypeError",
     "evalue": "choice() got an unexpected keyword argument 'random_seed'",
     "output_type": "error",
     "traceback": [
      "\u001b[1;31m---------------------------------------------------------------------------\u001b[0m",
      "\u001b[1;31mTypeError\u001b[0m                                 Traceback (most recent call last)",
      "\u001b[1;32m~\\AppData\\Local\\Temp/ipykernel_10488/3639896753.py\u001b[0m in \u001b[0;36m<module>\u001b[1;34m\u001b[0m\n\u001b[1;32m----> 1\u001b[1;33m \u001b[0mnp\u001b[0m\u001b[1;33m.\u001b[0m\u001b[0mrandom\u001b[0m\u001b[1;33m.\u001b[0m\u001b[0mchoice\u001b[0m\u001b[1;33m(\u001b[0m\u001b[1;33m[\u001b[0m\u001b[1;36m1\u001b[0m\u001b[1;33m,\u001b[0m\u001b[1;36m2\u001b[0m\u001b[1;33m,\u001b[0m\u001b[1;36m3\u001b[0m\u001b[1;33m,\u001b[0m\u001b[1;36m4\u001b[0m\u001b[1;33m,\u001b[0m\u001b[1;36m5\u001b[0m\u001b[1;33m]\u001b[0m\u001b[1;33m,\u001b[0m\u001b[1;36m1\u001b[0m\u001b[1;33m,\u001b[0m\u001b[0mrandom_seed\u001b[0m\u001b[1;33m=\u001b[0m\u001b[1;36m43\u001b[0m\u001b[1;33m)\u001b[0m\u001b[1;33m\u001b[0m\u001b[1;33m\u001b[0m\u001b[0m\n\u001b[0m",
      "\u001b[1;32mnumpy\\\\random\\\\mtrand.pyx\u001b[0m in \u001b[0;36mnumpy.random.mtrand.RandomState.choice\u001b[1;34m()\u001b[0m\n",
      "\u001b[1;31mTypeError\u001b[0m: choice() got an unexpected keyword argument 'random_seed'"
     ]
    }
   ],
   "source": [
    "np.random.choice([1,2,3,4,5])"
   ]
  },
  {
   "cell_type": "code",
   "execution_count": null,
   "metadata": {},
   "outputs": [],
   "source": []
  },
  {
   "cell_type": "code",
   "execution_count": 70,
   "metadata": {},
   "outputs": [],
   "source": [
    "# Define optimization problem\n",
    "def optimization_problem(scalar_multiples):\n",
    "    # global m1, m2, m3, matrix1, matrix2, combined_matrix, checked\n",
    "\n",
    "    #choose n random games to simulate\n",
    "\n",
    "    accuracy_list = []\n",
    "    ou_list = []\n",
    "    winner_list = []\n",
    "    for g in os.listdir('raw_game_pulls'):\n",
    "        total_acc=0\n",
    "        # game_res = pd.read_excel('raw_game_pulls/6195965_Play-By-Play for Indiana vs Army West Point.xlsx')\n",
    "\n",
    "        #locate teams to find matrices\n",
    "        game_res = pd.read_excel('raw_game_pulls/{}'.format(g))\n",
    "        game_strings = g.split(' vs ')\n",
    "        team_A = game_strings[0].split('for ')[-1]\n",
    "        team_B = game_strings[1].split('.xlsx')[0]\n",
    "\n",
    "        matrix1 = pd.read_excel('team_specific_matrix/{}_A.xlsx'.format(team_A), index_col='Starting_State')\n",
    "        matrix2 = pd.read_excel('team_specific_matrix/{}_B.xlsx'.format(team_B), index_col='Starting_State')\n",
    "\n",
    "\n",
    "        # Reshape the parameters into matrices\n",
    "        m1 = scalar_multiples[:18].reshape(-1, 1)\n",
    "        m2 = scalar_multiples[18:36].reshape(-1, 1)\n",
    "        m3 = scalar_multiples[36:].reshape(-1, 1)\n",
    "\n",
    "        # Construct combined matrix\n",
    "        # combined_matrix = m1 * matrix1 + m2 * matrix2 + m3 * avg_matrix  # Adjust with scalar multiples\n",
    "        combined_matrix = pd.DataFrame()\n",
    "        for i in range(18):\n",
    "            combined_matrix[i] = matrix1.iloc[:, i] * m1[i] + \\\n",
    "                                matrix2.iloc[:, i] * m2[i] + \\\n",
    "                                avg_matrix.iloc[:, i] * m3[i]\n",
    "            \n",
    "        combined_matrix.columns=avg_matrix.columns\n",
    "        \n",
    "        for r in combined_matrix.index:\n",
    "            if combined_matrix.loc[r].sum()==0.:\n",
    "                combined_matrix.loc[r]=avg_matrix.loc[r].copy()\n",
    "            \n",
    "        combined_matrix = combined_matrix.div(combined_matrix.sum(axis=1), axis=0)\n",
    "        combined_matrix.columns=avg_matrix.columns\n",
    "\n",
    "        # Evaluate performance on X game simulations\n",
    "        result = simulate_game(combined_matrix, 1)\n",
    "        total_acc += accuracy(result, game_res)\n",
    "        accuracy_list.append(accuracy(result, game_res))\n",
    "        ou_list.append(accuracy_ou(result, game_res))\n",
    "        winner_list.append(accuracy_winner(result, game_res))\n",
    "        \n",
    "    # scalar_history.append(scalar_multiples)\n",
    "    # acc_history.append(np.mean(total_acc))\n",
    "    return np.mean(accuracy_list), np.mean(ou_list), np.mean(winner_list)"
   ]
  },
  {
   "cell_type": "code",
   "execution_count": 71,
   "metadata": {},
   "outputs": [],
   "source": [
    "# Initialize parameters\n",
    "# initial_guess = np.random.rand(54)\n",
    "    \n",
    "initial_guess=   [1,1,1,1,1,0,0,0,1,0,0,0,0,0,1,1,1,0,\n",
    "                    0,0,0,0,0,1,1,1,0,1,1,1,1,1,0,0,0,1,\n",
    "                    0,0,0,0,0,0,0,0,0,0,0,0,0,0,0,0,0,0]\n",
    "\n",
    "# Define bounds for parameters (optional)\n",
    "bounds = [(0, 1)] * 54  # Non-negative scalar multiples"
   ]
  },
  {
   "cell_type": "code",
   "execution_count": 72,
   "metadata": {},
   "outputs": [],
   "source": [
    "team_A_guess = np.array([1,1,1,1,1,1,1,1,1,1,1,1,1,1,1,1,1,1,\n",
    "                0,0,0,0,0,0,0,0,0,0,0,0,0,0,0,0,0,0,\n",
    "                0,0,0,0,0,0,0,0,0,0,0,0,0,0,0,0,0,0])\n",
    "team_B_guess = np.array([0,0,0,0,0,0,0,0,0,0,0,0,0,0,0,0,0,0,\n",
    "                1,1,1,1,1,1,1,1,1,1,1,1,1,1,1,1,1,1,\n",
    "                0,0,0,0,0,0,0,0,0,0,0,0,0,0,0,0,0,0])\n",
    "avg_guess = np.array([0,0,0,0,0,0,0,0,0,0,0,0,0,0,0,0,0,0,\n",
    "             0,0,0,0,0,0,0,0,0,0,0,0,0,0,0,0,0,0,\n",
    "             1,1,1,1,1,1,1,1,1,1,1,1,1,1,1,1,1,1])\n"
   ]
  },
  {
   "cell_type": "markdown",
   "metadata": {},
   "source": []
  },
  {
   "cell_type": "code",
   "execution_count": 73,
   "metadata": {},
   "outputs": [],
   "source": [
    "# guesses = [initial_guess, team_A_guess, team_B_guess,mean_teams,halves]"
   ]
  },
  {
   "cell_type": "code",
   "execution_count": 74,
   "metadata": {},
   "outputs": [],
   "source": [
    "# for g in guesses:\n",
    "#     res = optimization_problem(np.array(g))\n",
    "#     acc_history.append(res)"
   ]
  },
  {
   "cell_type": "code",
   "execution_count": 75,
   "metadata": {},
   "outputs": [],
   "source": [
    "#this accuracy came with initial guess, team A only, team B only, mean teams, and mean all.\n",
    "\n",
    "acc_history = [15.292806853524496,\n",
    " 15.57244836198554,\n",
    " 18.087572077402445,\n",
    " 18.13050025120224,\n",
    " 19.490909061580126]"
   ]
  },
  {
   "cell_type": "code",
   "execution_count": 76,
   "metadata": {},
   "outputs": [],
   "source": [
    "g_avg = np.array([0,0,0,0,0,0,0,0,0,0,0,0,0,0,0,0,0,0,\n",
    "                     0,0,0,0,0,0,0,0,0,0,0,0,0,0,0,0,0,0,\n",
    "                     1,1,1,1,1,1,1,1,1,1,1,1,1,1,1,1,1,1])"
   ]
  },
  {
   "cell_type": "code",
   "execution_count": 77,
   "metadata": {},
   "outputs": [],
   "source": [
    "g1 = np.array([1,1,1,1,1,0,0,0,1,0,0,0,0,0,1,1,1,0,\n",
    "    0,0,0,0,0,1,1,1,0,1,1,1,1,1,0,0,0,1,\n",
    "    0,0,0,0,0,0,0,0,0,0,0,0,0,0,0,0,0,0])\n",
    "\n",
    "g2 = (g1 + g_avg)*.5\n",
    "\n",
    "g3 = g1 * 0.9 + g_avg * .1\n",
    "\n",
    "g4 = g1 * .8 + g_avg * .1\n",
    "\n",
    "g5 = g1 * .5 + g_avg * .1\n",
    "\n",
    "g6 = np.array([1,1,1,1,1, 0, 0, 0,1,0,0,0,0,0,.5,.5,.5,0,\n",
    "               0,0,0,0,0,.5,.5,.5,0,1,1,1,1,1, 0, 0, 0,1,\n",
    "               0,0,0,0,0, 0, 0, 0,0,0,0,0,0,0, 0, 0, 0,0])"
   ]
  },
  {
   "cell_type": "code",
   "execution_count": 78,
   "metadata": {},
   "outputs": [],
   "source": [
    "g7 = np.array([1,1,1,1,1, 0, 0, 0,1,0,0,0,0,0,.2,.2,.2,0,\n",
    "               0,0,0,0,0,.2,.2,.2,0,1,1,1,1,1, 0, 0, 0,1,\n",
    "               0,0,0,0,0, 0, 0, 0,0,0,0,0,0,0, 0, 0, 0,0])\n",
    "\n",
    "g8 = np.array([1,1,1,1,1, 0, 0, 0,1,0,0,0,0,0,.8,.8,.8,0,\n",
    "               0,0,0,0,0,.8,.8,.8,0,1,1,1,1,1, 0, 0, 0,1,\n",
    "               0,0,0,0,0, 0, 0, 0,0,0,0,0,0,0, 0, 0, 0,0])"
   ]
  },
  {
   "cell_type": "code",
   "execution_count": 79,
   "metadata": {},
   "outputs": [],
   "source": [
    "#elim g6 and g7 for now."
   ]
  },
  {
   "cell_type": "code",
   "execution_count": 80,
   "metadata": {},
   "outputs": [
    {
     "name": "stderr",
     "output_type": "stream",
     "text": [
      "100%|██████████| 9/9 [10:01:03<00:00, 4007.04s/it] \n"
     ]
    }
   ],
   "source": [
    "lob = []\n",
    "acc_history=[]\n",
    "ou_history = []\n",
    "winner_history = []\n",
    "gsss = [g1,g2,g3,g4,g5,g8,team_A_guess, team_B_guess, avg_guess]\n",
    "for guess in tqdm(range(len(gsss))):\n",
    "        for i in range(10):\n",
    "                res1, res2, res3 = optimization_problem(np.array(gsss[guess]))\n",
    "                acc_history.append(res1)\n",
    "                ou_history.append(res2)\n",
    "                winner_history.append(res3)\n",
    "                lob.append(guess)"
   ]
  },
  {
   "cell_type": "code",
   "execution_count": 69,
   "metadata": {},
   "outputs": [
    {
     "data": {
      "text/plain": [
       "9"
      ]
     },
     "execution_count": 69,
     "metadata": {},
     "output_type": "execute_result"
    }
   ],
   "source": [
    "i"
   ]
  },
  {
   "cell_type": "code",
   "execution_count": 81,
   "metadata": {},
   "outputs": [],
   "source": [
    "results_plot_1 = pd.DataFrame(zip(lob,acc_history))\n",
    "results_plot_2 = pd.DataFrame(zip(lob,ou_history))\n",
    "\n",
    "results_plot_3 = pd.DataFrame(zip(lob,winner_history))"
   ]
  },
  {
   "cell_type": "code",
   "execution_count": 86,
   "metadata": {},
   "outputs": [
    {
     "name": "stderr",
     "output_type": "stream",
     "text": [
      "C:\\Users\\mdona\\AppData\\Local\\Temp/ipykernel_10488/523480785.py:2: FutureWarning: Setting an item of incompatible dtype is deprecated and will raise in a future error of pandas. Value 'g1' has dtype incompatible with int64, please explicitly cast to a compatible dtype first.\n",
      "  save_plot_1.loc[save_plot_1[0]==0, 0] = 'g1'\n"
     ]
    }
   ],
   "source": [
    "save_plot_1 = results_plot_1.copy()\n",
    "save_plot_1.loc[save_plot_1[0]==0, 0] = 'g1'\n",
    "save_plot_1.loc[save_plot_1[0]==1, 0] = 'g2'\n",
    "save_plot_1.loc[save_plot_1[0]==2, 0] = 'g3'\n",
    "save_plot_1.loc[save_plot_1[0]==3, 0] = 'g4'\n",
    "save_plot_1.loc[save_plot_1[0]==4, 0] = 'g5'\n",
    "save_plot_1.loc[save_plot_1[0]==5, 0] = 'g8'\n",
    "save_plot_1.loc[save_plot_1[0]==6, 0] = 'A only'\n",
    "save_plot_1.loc[save_plot_1[0]==7, 0] = 'B only'\n",
    "save_plot_1.loc[save_plot_1[0]==8, 0] = 'avg'\n",
    "save_plot_1.to_excel('full season simulate 1 game 10 reps distance score.xlsx')\n"
   ]
  },
  {
   "cell_type": "code",
   "execution_count": 88,
   "metadata": {},
   "outputs": [],
   "source": [
    "save_plot_1.to_excel('Full Season 1 sim 10 times distance scores.xlsx')"
   ]
  },
  {
   "cell_type": "code",
   "execution_count": 90,
   "metadata": {},
   "outputs": [
    {
     "data": {
      "image/png": "[encoded data removed]",
      "text/plain": [
       "<Figure size 432x288 with 1 Axes>"
      ]
     },
     "metadata": {
      "needs_background": "light"
     },
     "output_type": "display_data"
    }
   ],
   "source": [
    "fig,ax=plt.subplots()\n",
    "sns.boxplot(x=0, y=1, data=results_plot_1)#, labels = ['g1','g2','g3','g4','g5','g8'])\n",
    "ax.set_xticklabels(['g1','g2','g3','g4','g5','g8','A only', 'B only', 'Avg only']);"
   ]
  },
  {
   "cell_type": "code",
   "execution_count": 91,
   "metadata": {},
   "outputs": [
    {
     "name": "stderr",
     "output_type": "stream",
     "text": [
      "C:\\Users\\mdona\\AppData\\Local\\Temp/ipykernel_10488/3579362894.py:2: FutureWarning: Setting an item of incompatible dtype is deprecated and will raise in a future error of pandas. Value 'g1' has dtype incompatible with int64, please explicitly cast to a compatible dtype first.\n",
      "  save_plot_2.loc[save_plot_2[0]==0, 0] = 'g1'\n"
     ]
    }
   ],
   "source": [
    "save_plot_2 = results_plot_2.copy()\n",
    "save_plot_2.loc[save_plot_2[0]==0, 0] = 'g1'\n",
    "save_plot_2.loc[save_plot_2[0]==1, 0] = 'g2'\n",
    "save_plot_2.loc[save_plot_2[0]==2, 0] = 'g3'\n",
    "save_plot_2.loc[save_plot_2[0]==3, 0] = 'g4'\n",
    "save_plot_2.loc[save_plot_2[0]==4, 0] = 'g5'\n",
    "save_plot_2.loc[save_plot_2[0]==5, 0] = 'g8'\n",
    "save_plot_2.loc[save_plot_2[0]==6, 0] = 'A only'\n",
    "save_plot_2.loc[save_plot_2[0]==7, 0] = 'B only'\n",
    "save_plot_2.loc[save_plot_2[0]==8, 0] = 'avg'\n",
    "save_plot_2.to_excel('full season simulate 1 game 10 reps ou score.xlsx')"
   ]
  },
  {
   "cell_type": "code",
   "execution_count": 83,
   "metadata": {},
   "outputs": [
    {
     "data": {
      "image/png": "[encoded data removed]",
      "text/plain": [
       "<Figure size 432x288 with 1 Axes>"
      ]
     },
     "metadata": {
      "needs_background": "light"
     },
     "output_type": "display_data"
    }
   ],
   "source": [
    "fig,ax=plt.subplots()\n",
    "sns.boxplot(x=0, y=1, data=results_plot_2)#, labels = ['g1','g2','g3','g4','g5','g8'])\n",
    "ax.set_xticklabels(['g1','g2','g3','g4','g5','g8','A only', 'B only', 'Avg only']);"
   ]
  },
  {
   "cell_type": "code",
   "execution_count": 92,
   "metadata": {},
   "outputs": [
    {
     "name": "stderr",
     "output_type": "stream",
     "text": [
      "C:\\Users\\mdona\\AppData\\Local\\Temp/ipykernel_10488/1031088234.py:2: FutureWarning: Setting an item of incompatible dtype is deprecated and will raise in a future error of pandas. Value 'g1' has dtype incompatible with int64, please explicitly cast to a compatible dtype first.\n",
      "  save_plot_3.loc[save_plot_3[0]==0, 0] = 'g1'\n"
     ]
    }
   ],
   "source": [
    "save_plot_3 = results_plot_3.copy()\n",
    "save_plot_3.loc[save_plot_3[0]==0, 0] = 'g1'\n",
    "save_plot_3.loc[save_plot_3[0]==1, 0] = 'g2'\n",
    "save_plot_3.loc[save_plot_3[0]==2, 0] = 'g3'\n",
    "save_plot_3.loc[save_plot_3[0]==3, 0] = 'g4'\n",
    "save_plot_3.loc[save_plot_3[0]==4, 0] = 'g5'\n",
    "save_plot_3.loc[save_plot_3[0]==5, 0] = 'g8'\n",
    "save_plot_3.loc[save_plot_3[0]==6, 0] = 'A only'\n",
    "save_plot_3.loc[save_plot_3[0]==7, 0] = 'B only'\n",
    "save_plot_3.loc[save_plot_3[0]==8, 0] = 'avg'\n",
    "save_plot_3.to_excel('full season simulate 1 game 10 reps winner score.xlsx')"
   ]
  },
  {
   "cell_type": "code",
   "execution_count": 84,
   "metadata": {},
   "outputs": [
    {
     "data": {
      "image/png": "[encoded data removed]",
      "text/plain": [
       "<Figure size 432x288 with 1 Axes>"
      ]
     },
     "metadata": {
      "needs_background": "light"
     },
     "output_type": "display_data"
    }
   ],
   "source": [
    "fig,ax=plt.subplots()\n",
    "sns.boxplot(x=0, y=1, data=results_plot_3)#, labels = ['g1','g2','g3','g4','g5','g8'])\n",
    "ax.set_xticklabels(['g1','g2','g3','g4','g5','g8','A only', 'B only', 'Avg only']);"
   ]
  },
  {
   "cell_type": "code",
   "execution_count": 66,
   "metadata": {},
   "outputs": [
    {
     "data": {
      "text/html": [
       "<div>\n",
       "<style scoped>\n",
       "    .dataframe tbody tr th:only-of-type {\n",
       "        vertical-align: middle;\n",
       "    }\n",
       "\n",
       "    .dataframe tbody tr th {\n",
       "        vertical-align: top;\n",
       "    }\n",
       "\n",
       "    .dataframe thead th {\n",
       "        text-align: right;\n",
       "    }\n",
       "</style>\n",
       "<table border=\"1\" class=\"dataframe\">\n",
       "  <thead>\n",
       "    <tr style=\"text-align: right;\">\n",
       "      <th></th>\n",
       "      <th>0</th>\n",
       "      <th>1</th>\n",
       "    </tr>\n",
       "  </thead>\n",
       "  <tbody>\n",
       "    <tr>\n",
       "      <th>0</th>\n",
       "      <td>0</td>\n",
       "      <td>0.56</td>\n",
       "    </tr>\n",
       "    <tr>\n",
       "      <th>1</th>\n",
       "      <td>1</td>\n",
       "      <td>0.59</td>\n",
       "    </tr>\n",
       "    <tr>\n",
       "      <th>2</th>\n",
       "      <td>2</td>\n",
       "      <td>0.57</td>\n",
       "    </tr>\n",
       "    <tr>\n",
       "      <th>3</th>\n",
       "      <td>3</td>\n",
       "      <td>0.60</td>\n",
       "    </tr>\n",
       "    <tr>\n",
       "      <th>4</th>\n",
       "      <td>4</td>\n",
       "      <td>0.51</td>\n",
       "    </tr>\n",
       "    <tr>\n",
       "      <th>5</th>\n",
       "      <td>5</td>\n",
       "      <td>0.56</td>\n",
       "    </tr>\n",
       "    <tr>\n",
       "      <th>6</th>\n",
       "      <td>6</td>\n",
       "      <td>0.68</td>\n",
       "    </tr>\n",
       "    <tr>\n",
       "      <th>7</th>\n",
       "      <td>7</td>\n",
       "      <td>0.55</td>\n",
       "    </tr>\n",
       "    <tr>\n",
       "      <th>8</th>\n",
       "      <td>8</td>\n",
       "      <td>0.47</td>\n",
       "    </tr>\n",
       "  </tbody>\n",
       "</table>\n",
       "</div>"
      ],
      "text/plain": [
       "   0     1\n",
       "0  0  0.56\n",
       "1  1  0.59\n",
       "2  2  0.57\n",
       "3  3  0.60\n",
       "4  4  0.51\n",
       "5  5  0.56\n",
       "6  6  0.68\n",
       "7  7  0.55\n",
       "8  8  0.47"
      ]
     },
     "execution_count": 66,
     "metadata": {},
     "output_type": "execute_result"
    }
   ],
   "source": [
    "results_plot_3.groupby(0).mean().reset_index()"
   ]
  },
  {
   "cell_type": "code",
   "execution_count": null,
   "metadata": {},
   "outputs": [],
   "source": [
    "#test results first time around - g8 undershoots the OU, all others overshoot by about 10"
   ]
  },
  {
   "cell_type": "code",
   "execution_count": null,
   "metadata": {},
   "outputs": [],
   "source": [
    "#pure distance accuracy tests is not yielding promising results.\n",
    "#other accuracy tests to perform - winner, margin, and O/U total."
   ]
  },
  {
   "cell_type": "code",
   "execution_count": 90,
   "metadata": {},
   "outputs": [],
   "source": [
    "# Define optimization problem\n",
    "def optimization_problem_2(scalar_multiples):\n",
    "    # global m1, m2, m3, matrix1, matrix2, combined_matrix, checked\n",
    "    for g in np.random.choice(os.listdir('raw_game_pulls'),100):\n",
    "        total_acc=0\n",
    "        # game_res = pd.read_excel('raw_game_pulls/6195965_Play-By-Play for Indiana vs Army West Point.xlsx')\n",
    "        game_res = pd.read_excel('raw_game_pulls/{}'.format(g))\n",
    "        game_strings = g.split(' vs ')\n",
    "        team_A = game_strings[0].split('for ')[-1]\n",
    "        team_B = game_strings[1].split('.xlsx')[0]\n",
    "\n",
    "        matrix1 = pd.read_excel('team_specific_matrix/{}_A.xlsx'.format(team_A), index_col='Starting_State')\n",
    "        matrix2 = pd.read_excel('team_specific_matrix/{}_B.xlsx'.format(team_B), index_col='Starting_State')\n",
    "\n",
    "\n",
    "        # Reshape the parameters into matrices\n",
    "        m1 = scalar_multiples[:18].reshape(-1, 1)\n",
    "        m2 = scalar_multiples[18:36].reshape(-1, 1)\n",
    "        m3 = scalar_multiples[36:].reshape(-1, 1)\n",
    "\n",
    "        # Construct combined matrix\n",
    "        # combined_matrix = m1 * matrix1 + m2 * matrix2 + m3 * avg_matrix  # Adjust with scalar multiples\n",
    "        combined_matrix = pd.DataFrame()\n",
    "        for i in range(18):\n",
    "            combined_matrix[i] = matrix1.iloc[:, i] * m1[i] + \\\n",
    "                                matrix2.iloc[:, i] * m2[i] + \\\n",
    "                                avg_matrix.iloc[:, i] * m3[i]\n",
    "            \n",
    "        combined_matrix.columns=avg_matrix.columns\n",
    "        \n",
    "            \n",
    "        \n",
    "            \n",
    "            #this is constantly failing. Instead, I am just going to force all matrices\n",
    "            #to have the same lines for Af3 and Bf3\n",
    "        for r in combined_matrix.index:\n",
    "            if combined_matrix.loc[r].sum()==0.:\n",
    "                combined_matrix.loc[r]=avg_matrix.loc[r].copy()\n",
    "            \n",
    "        combined_matrix = combined_matrix.div(combined_matrix.sum(axis=1), axis=0)\n",
    "        combined_matrix.columns=avg_matrix.columns\n",
    "\n",
    "        # Evaluate performance\n",
    "        result = simulate_game(combined_matrix, 1)\n",
    "        total_acc += accuracy_ou(result, game_res)\n",
    "    # scalar_history.append(scalar_multiples)\n",
    "    # acc_history.append(np.mean(total_acc))\n",
    "    return np.mean(total_acc)"
   ]
  },
  {
   "cell_type": "code",
   "execution_count": 91,
   "metadata": {},
   "outputs": [
    {
     "name": "stderr",
     "output_type": "stream",
     "text": [
      " 12%|█▎        | 1/8 [02:01<14:10, 121.47s/it]Exception ignored in: <function ZipFile.__del__ at 0x0000022949E1CC10>\n",
      "Traceback (most recent call last):\n",
      "  File \"c:\\Users\\mdona\\anaconda3\\lib\\zipfile.py\", line 1816, in __del__\n",
      "    self.close()\n",
      "KeyboardInterrupt: \n"
     ]
    }
   ],
   "source": [
    "lob_2 = []\n",
    "gsss = [g1,g2,g3,g4,g5,g6,g7,g8]\n",
    "acc_history_2 = []\n",
    "for guess in tqdm(range(len(gsss))):\n",
    "        for i in range(10):\n",
    "                res = optimization_problem_2(gsss[guess])\n",
    "                acc_history_2.append(res)\n",
    "                lob_2.append(guess)"
   ]
  }
 ],
 "metadata": {
  "kernelspec": {
   "display_name": "base",
   "language": "python",
   "name": "python3"
  },
  "language_info": {
   "codemirror_mode": {
    "name": "ipython",
    "version": 3
   },
   "file_extension": ".py",
   "mimetype": "text/x-python",
   "name": "python",
   "nbconvert_exporter": "python",
   "pygments_lexer": "ipython3",
   "version": "3.9.7"
  }
 },
 "nbformat": 4,
 "nbformat_minor": 2
}
