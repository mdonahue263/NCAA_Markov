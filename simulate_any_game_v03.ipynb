{
 "cells": [
  {
   "cell_type": "code",
   "execution_count": 1,
   "metadata": {},
   "outputs": [
    {
     "name": "stdout",
     "output_type": "stream",
     "text": [
      "WARNING:tensorflow:From C:\\Users\\mdona\\AppData\\Roaming\\Python\\Python39\\site-packages\\keras\\src\\losses.py:2976: The name tf.losses.sparse_softmax_cross_entropy is deprecated. Please use tf.compat.v1.losses.sparse_softmax_cross_entropy instead.\n",
      "\n",
      "WARNING:tensorflow:From C:\\Users\\mdona\\AppData\\Roaming\\Python\\Python39\\site-packages\\keras\\src\\backend.py:1398: The name tf.executing_eagerly_outside_functions is deprecated. Please use tf.compat.v1.executing_eagerly_outside_functions instead.\n",
      "\n",
      "WARNING:tensorflow:From C:\\Users\\mdona\\AppData\\Roaming\\Python\\Python39\\site-packages\\keras\\src\\optimizers\\__init__.py:309: The name tf.train.Optimizer is deprecated. Please use tf.compat.v1.train.Optimizer instead.\n",
      "\n"
     ]
    },
    {
     "name": "stderr",
     "output_type": "stream",
     "text": [
      "100%|██████████| 1378/1378 [00:10<00:00, 129.37it/s]\n"
     ]
    }
   ],
   "source": [
    "#v3 innclude NN\n",
    "import os\n",
    "import pickle\n",
    "import pandas as pd\n",
    "import numpy as np\n",
    "from helper_functions.clean_transitions import clean_transition_column\n",
    "from helper_functions.simulate_game import simulate_game\n",
    "from helper_functions.combine_matrices import combine_team_matrix\n",
    "from helper_functions.tourney_sim import matchup\n",
    "import time\n",
    "from matplotlib import pyplot as plt\n",
    "#troubleshooting simulate game"
   ]
  },
  {
   "cell_type": "code",
   "execution_count": 2,
   "metadata": {},
   "outputs": [],
   "source": [
    "all_models = []\n",
    "for x in os.listdir('models'):\n",
    "    with open('models/{}'.format(x), 'rb') as file:\n",
    "        y=pickle.load(file)\n",
    "    all_models.append(y)"
   ]
  },
  {
   "cell_type": "code",
   "execution_count": 3,
   "metadata": {},
   "outputs": [],
   "source": [
    "def clean_result(sim_game, over_under, a_margin):\n",
    "    \"\"\"\n",
    "    Takes simulated game and produces relevant lines\n",
    "    \"\"\"\n",
    "    totals = []\n",
    "    for item in sim_game:\n",
    "        totals.append(item[0]+item[1])\n",
    "\n",
    "    t_array=np.array(totals)\n",
    "    under_prob= np.mean(t_array<over_under)\n",
    "    over_prob= np.mean(t_array>over_under)\n",
    "\n",
    "    if (under_prob<.6)and(over_prob)<.6:\n",
    "        print('Over-Under Wash')\n",
    "        print()\n",
    "\n",
    "    else:\n",
    "        print('Over {} probabilty: {}%'.format(over_under, np.round(100*over_prob, 1)))\n",
    "        print('Under {} probabilty: {}%'.format(over_under, np.round(100*under_prob, 1)))\n",
    "        print()\n",
    "\n",
    "    margins = []\n",
    "    for aaa in sim_game:\n",
    "        margins.append(aaa[0]-aaa[1])\n",
    "\n",
    "    margins_b = []\n",
    "    for aaa in sim_game:\n",
    "        margins_b.append(aaa[1]-aaa[0])\n",
    "\n",
    "    a_cover = np.mean(np.array(margins)>a_margin)\n",
    "    b_cover = np.mean(np.array(margins_b) > -a_margin)\n",
    "\n",
    "    if (a_cover<.6)and(b_cover<.6):\n",
    "        print('Spread Wash')\n",
    "        print()\n",
    "\n",
    "    else:\n",
    "        print('Team A cover {} probability: {}%'.format(-a_margin, np.round(100*a_cover, 1)))\n",
    "        print('Team B cover {} probability: {}%'.format(a_margin, np.round(100*b_cover, 1)))\n",
    "        print()\n",
    "\n",
    "    a_win = np.mean([x[0]>x[1] for x in sim_game])\n",
    "\n",
    "    print('Team A win probability: {}%'.format(np.round(100*a_win, 1)))\n",
    "    print('Team B win probability: {}%'.format(np.round(100*(1-a_win), 1)))\n",
    "\n",
    "    \n",
    "    "
   ]
  },
  {
   "cell_type": "code",
   "execution_count": 4,
   "metadata": {},
   "outputs": [],
   "source": [
    "#if one team does not have data for a certain starting state, we will get a row of nan's which will break the code.\n",
    "#if this occurs, we can just substitute the average probability for this row?\n",
    "avg_matrix = pd.read_excel('avg_transition_matrix_with_manual_edits.xlsx', sheet_name = 'Mean Pasted', index_col='Starting_State')"
   ]
  },
  {
   "cell_type": "code",
   "execution_count": 109,
   "metadata": {},
   "outputs": [],
   "source": [
    "team_A = \"Illinois\"\n",
    "team_B = \"Duquesne\"\n",
    "OU = 146\n",
    "team_A_margin = 4.5"
   ]
  },
  {
   "cell_type": "code",
   "execution_count": 110,
   "metadata": {},
   "outputs": [],
   "source": [
    "mat_A = pd.read_excel(\"team_specific_matrix/{}_A.xlsx\".format(team_A), index_col = 'Starting_State')\n",
    "mat_B = pd.read_excel(\"team_specific_matrix/{}_B.xlsx\".format(team_B), index_col = 'Starting_State')"
   ]
  },
  {
   "cell_type": "code",
   "execution_count": 111,
   "metadata": {},
   "outputs": [],
   "source": [
    "transition_matrix = combine_team_matrix(mat_A, mat_B)"
   ]
  },
  {
   "cell_type": "code",
   "execution_count": 112,
   "metadata": {},
   "outputs": [],
   "source": [
    "all_scores = []\n",
    "abc=simulate_game(transition_matrix, 1000)\n",
    "for score in abc[1]:\n",
    "    x=score[0]-5\n",
    "    y=score[1]-5\n",
    "    all_scores.append((x,y))\n",
    "for model in all_models:\n",
    "    geb=matchup(team_A, team_B, strategy='nn', reps=1000, model=model)\n",
    "    all_scores += geb"
   ]
  },
  {
   "cell_type": "code",
   "execution_count": 113,
   "metadata": {},
   "outputs": [
    {
     "name": "stdout",
     "output_type": "stream",
     "text": [
      "Over-Under Wash\n",
      "\n",
      "Spread Wash\n",
      "\n",
      "Team A win probability: 65.2%\n",
      "Team B win probability: 34.8%\n"
     ]
    }
   ],
   "source": [
    "clean_result(all_scores, OU, team_A_margin)"
   ]
  },
  {
   "cell_type": "code",
   "execution_count": null,
   "metadata": {},
   "outputs": [],
   "source": []
  },
  {
   "cell_type": "code",
   "execution_count": null,
   "metadata": {},
   "outputs": [],
   "source": []
  },
  {
   "cell_type": "code",
   "execution_count": 28,
   "metadata": {},
   "outputs": [],
   "source": [
    "margins = []\n",
    "for aaa in all_scores:\n",
    "    margins.append(aaa[0]-aaa[1])"
   ]
  },
  {
   "cell_type": "code",
   "execution_count": 29,
   "metadata": {},
   "outputs": [
    {
     "data": {
      "image/png": "[encoded data removed]",
      "text/plain": [
       "<Figure size 432x288 with 1 Axes>"
      ]
     },
     "metadata": {
      "needs_background": "light"
     },
     "output_type": "display_data"
    }
   ],
   "source": [
    "plt.hist(margins, bins=np.linspace(-25,55,17));"
   ]
  },
  {
   "cell_type": "code",
   "execution_count": 30,
   "metadata": {},
   "outputs": [
    {
     "data": {
      "text/plain": [
       "4.54"
      ]
     },
     "execution_count": 30,
     "metadata": {},
     "output_type": "execute_result"
    }
   ],
   "source": [
    "np.mean(margins)"
   ]
  },
  {
   "cell_type": "code",
   "execution_count": 31,
   "metadata": {},
   "outputs": [
    {
     "data": {
      "text/plain": [
       "4.0"
      ]
     },
     "execution_count": 31,
     "metadata": {},
     "output_type": "execute_result"
    }
   ],
   "source": [
    "np.median(margins)"
   ]
  },
  {
   "cell_type": "code",
   "execution_count": 20,
   "metadata": {},
   "outputs": [
    {
     "data": {
      "text/plain": [
       "0.656"
      ]
     },
     "execution_count": 20,
     "metadata": {},
     "output_type": "execute_result"
    }
   ],
   "source": [
    "np.mean([x[0]>x[1] for x in abc[1]])"
   ]
  },
  {
   "cell_type": "code",
   "execution_count": 32,
   "metadata": {},
   "outputs": [
    {
     "data": {
      "text/plain": [
       "array([-13.1,  -7. ,  -4. ,   0.2,   4. ,   7. ,  10. ,  16.2,  23.1])"
      ]
     },
     "execution_count": 32,
     "metadata": {},
     "output_type": "execute_result"
    }
   ],
   "source": [
    "np.quantile(margins, [.1,.2,.3,.4,.5,.6,.7,.8,.9])"
   ]
  },
  {
   "cell_type": "code",
   "execution_count": null,
   "metadata": {},
   "outputs": [],
   "source": []
  },
  {
   "cell_type": "code",
   "execution_count": null,
   "metadata": {},
   "outputs": [],
   "source": []
  },
  {
   "cell_type": "code",
   "execution_count": null,
   "metadata": {},
   "outputs": [],
   "source": []
  }
 ],
 "metadata": {
  "kernelspec": {
   "display_name": "base",
   "language": "python",
   "name": "python3"
  },
  "language_info": {
   "codemirror_mode": {
    "name": "ipython",
    "version": 3
   },
   "file_extension": ".py",
   "mimetype": "text/x-python",
   "name": "python",
   "nbconvert_exporter": "python",
   "pygments_lexer": "ipython3",
   "version": "3.9.7"
  }
 },
 "nbformat": 4,
 "nbformat_minor": 2
}
