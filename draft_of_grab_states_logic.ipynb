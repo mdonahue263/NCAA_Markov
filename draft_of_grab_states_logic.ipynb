{
 "cells": [
  {
   "cell_type": "code",
   "execution_count": 1,
   "metadata": {},
   "outputs": [],
   "source": [
    "import pandas as pd\n",
    "from helper_functions.game_states_logic import get_play_states\n",
    "from helper_functions.pull_game_logic import pull_game\n",
    "import os\n",
    "from tqdm import tqdm\n",
    "from collections import Counter\n",
    "import numpy as np"
   ]
  },
  {
   "cell_type": "code",
   "execution_count": 2,
   "metadata": {},
   "outputs": [],
   "source": [
    "team_database = pd.read_excel('Team_Names_Abbrs.xlsx')"
   ]
  },
  {
   "cell_type": "code",
   "execution_count": 3,
   "metadata": {},
   "outputs": [
    {
     "data": {
      "text/html": [
       "<div>\n",
       "<style scoped>\n",
       "    .dataframe tbody tr th:only-of-type {\n",
       "        vertical-align: middle;\n",
       "    }\n",
       "\n",
       "    .dataframe tbody tr th {\n",
       "        vertical-align: top;\n",
       "    }\n",
       "\n",
       "    .dataframe thead th {\n",
       "        text-align: right;\n",
       "    }\n",
       "</style>\n",
       "<table border=\"1\" class=\"dataframe\">\n",
       "  <thead>\n",
       "    <tr style=\"text-align: right;\">\n",
       "      <th></th>\n",
       "      <th>id</th>\n",
       "      <th>name</th>\n",
       "      <th>abbreviations</th>\n",
       "      <th>home</th>\n",
       "    </tr>\n",
       "  </thead>\n",
       "  <tbody>\n",
       "    <tr>\n",
       "      <th>0</th>\n",
       "      <td>2427</td>\n",
       "      <td>Colgate</td>\n",
       "      <td>Colg</td>\n",
       "      <td>True</td>\n",
       "    </tr>\n",
       "    <tr>\n",
       "      <th>1</th>\n",
       "      <td>302</td>\n",
       "      <td>Weber St.</td>\n",
       "      <td>Weber</td>\n",
       "      <td>False</td>\n",
       "    </tr>\n",
       "  </tbody>\n",
       "</table>\n",
       "</div>"
      ],
      "text/plain": [
       "     id       name abbreviations   home\n",
       "0  2427    Colgate          Colg   True\n",
       "1   302  Weber St.         Weber  False"
      ]
     },
     "execution_count": 3,
     "metadata": {},
     "output_type": "execute_result"
    }
   ],
   "source": [
    "team_database.head(2)"
   ]
  },
  {
   "cell_type": "code",
   "execution_count": 4,
   "metadata": {},
   "outputs": [],
   "source": [
    "for filename in os.listdir('raw_game_pulls'):\n",
    "    teams = filename.split('for ')[1].split('.xlsx')[0]\n",
    "    team1, team2 = teams.split(' vs ')\n",
    "    reduce_df = team_database[team_database['name']==team1].copy()\n",
    "    if len(reduce_df) > 1:\n",
    "        print('Collision with {}'.format(team1))\n",
    "    elif len(reduce_df) == 0:\n",
    "        print('No match for {}'.format(team1))\n",
    "\n",
    "    reduce_df = team_database[team_database['name']==team2].copy()\n",
    "    if len(reduce_df) > 1:\n",
    "        print('Collision with {}'.format(team2))\n",
    "    elif len(reduce_df) == 0:\n",
    "        print('No match for {}'.format(team2))\n",
    "    "
   ]
  },
  {
   "cell_type": "code",
   "execution_count": 6,
   "metadata": {},
   "outputs": [],
   "source": [
    "xs=[]\n",
    "ys=[]\n",
    "\n",
    "num_games = 0"
   ]
  },
  {
   "cell_type": "code",
   "execution_count": 7,
   "metadata": {},
   "outputs": [
    {
     "name": "stderr",
     "output_type": "stream",
     "text": [
      "100%|██████████| 1/1 [00:00<00:00, 31.89it/s]\n"
     ]
    }
   ],
   "source": [
    "short_lists=[]\n",
    "for filename in tqdm(os.listdir('raw_game_pulls')[:1]):\n",
    "    num_games += 1\n",
    "    xs.append(num_games)\n",
    "    teams = filename.split('for ')[1].split('.xlsx')[0]\n",
    "    team1, team2 = teams.split(' vs ')\n",
    "    team_A = team_database[team_database['name']==team1]['abbreviations'].values[0]\n",
    "    team_B = team_database[team_database['name']==team2]['abbreviations'].values[0]\n",
    "\n",
    "\n",
    "    current_data = pd.read_excel('raw_game_pulls/{}'.format(filename))\n",
    "    \n",
    "    # print(current_data['PLAY'][0])\n",
    "    # find_starting_state(current_data, team_A, team_B)\n",
    "    all_states = get_play_states(current_data, team_A, team_B)\n",
    "    for i in range(len(all_states)):\n",
    "        short_lists.append([x for x in all_states[i] if x != 'UNNEC'])\n",
    "\n",
    "    list_of_pairs = []\n",
    "    for j in short_lists:\n",
    "        list_of_pairs += [tuple(j[x:x+2]) for x in range(len(j)-1)]\n",
    "\n",
    "    all_counts = Counter(list_of_pairs)\n",
    "    new_y = len(pd.DataFrame(zip(all_counts.keys(),all_counts.values()), columns = ['Transition','Count']))\n",
    "    ys.append(new_y)\n",
    "\n",
    "    if 'MISSED ALL LOGIC' in all_states:\n",
    "        raise Exception\n",
    "    # short_list += [x for x in all_states if x != 'UNNEC']\n"
   ]
  },
  {
   "cell_type": "code",
   "execution_count": 14,
   "metadata": {},
   "outputs": [
    {
     "data": {
      "text/plain": [
       "'6197002_Play-By-Play for Colgate vs Weber St..xlsx'"
      ]
     },
     "execution_count": 14,
     "metadata": {},
     "output_type": "execute_result"
    }
   ],
   "source": [
    "filename"
   ]
  },
  {
   "cell_type": "code",
   "execution_count": 17,
   "metadata": {},
   "outputs": [],
   "source": [
    "#going to save down a sample game into states and times\n",
    "final_game = pd.DataFrame()\n",
    "for i in range(len(all_states)):\n",
    "    half_tuples = all_states[i]\n",
    "    smaller_list = [x for x in half_tuples if x[0] != 'UNNEC']\n",
    "    curr_half = pd.DataFrame(smaller_list, columns = ['State','Time'])\n",
    "    curr_half['Period']=i+1\n",
    "    final_game = pd.concat([final_game,curr_half])"
   ]
  },
  {
   "cell_type": "code",
   "execution_count": 20,
   "metadata": {},
   "outputs": [],
   "source": [
    "final_game.to_excel('games_with_states/{}'.format(filename), index=False)"
   ]
  },
  {
   "cell_type": "code",
   "execution_count": 22,
   "metadata": {},
   "outputs": [
    {
     "name": "stderr",
     "output_type": "stream",
     "text": [
      "  0%|          | 0/3656 [00:00<?, ?it/s]"
     ]
    },
    {
     "name": "stderr",
     "output_type": "stream",
     "text": [
      "100%|██████████| 3656/3656 [03:37<00:00, 16.83it/s]\n"
     ]
    }
   ],
   "source": [
    "#that worked, so going to do it with all games?\n",
    "for filename in tqdm(os.listdir('raw_game_pulls')):\n",
    "    num_games += 1\n",
    "    xs.append(num_games)\n",
    "    teams = filename.split('for ')[1].split('.xlsx')[0]\n",
    "    team1, team2 = teams.split(' vs ')\n",
    "    team_A = team_database[team_database['name']==team1]['abbreviations'].values[0]\n",
    "    team_B = team_database[team_database['name']==team2]['abbreviations'].values[0]\n",
    "\n",
    "\n",
    "    current_data = pd.read_excel('raw_game_pulls/{}'.format(filename))\n",
    "\n",
    "    all_states = get_play_states(current_data, team_A, team_B)\n",
    "    final_game = pd.DataFrame()\n",
    "    for i in range(len(all_states)):\n",
    "        half_tuples = all_states[i]\n",
    "        smaller_list = [x for x in half_tuples if x[0] != 'UNNEC']\n",
    "        curr_half = pd.DataFrame(smaller_list, columns = ['State','Time'])\n",
    "        curr_half['Period']=i+1\n",
    "        final_game = pd.concat([final_game,curr_half])\n",
    "    final_game.to_excel('games_with_states/{}'.format(filename), index=False)"
   ]
  },
  {
   "cell_type": "code",
   "execution_count": null,
   "metadata": {},
   "outputs": [],
   "source": []
  },
  {
   "cell_type": "code",
   "execution_count": null,
   "metadata": {},
   "outputs": [],
   "source": []
  },
  {
   "cell_type": "code",
   "execution_count": 7,
   "metadata": {},
   "outputs": [],
   "source": [
    "from matplotlib import pyplot as plt"
   ]
  },
  {
   "cell_type": "code",
   "execution_count": 9,
   "metadata": {},
   "outputs": [
    {
     "data": {
      "text/plain": [
       "[<matplotlib.lines.Line2D at 0x19819f6b7c0>]"
      ]
     },
     "execution_count": 9,
     "metadata": {},
     "output_type": "execute_result"
    },
    {
     "data": {
      "image/png": "[encoded data removed]",
      "text/plain": [
       "<Figure size 640x480 with 1 Axes>"
      ]
     },
     "metadata": {},
     "output_type": "display_data"
    }
   ],
   "source": [
    "plt.plot(xs,ys)"
   ]
  },
  {
   "cell_type": "code",
   "execution_count": 16,
   "metadata": {},
   "outputs": [],
   "source": [
    "list_of_pairs = []\n",
    "for j in short_lists:\n",
    "    list_of_pairs += [tuple(j[x:x+2]) for x in range(len(j)-1)]"
   ]
  },
  {
   "cell_type": "code",
   "execution_count": 17,
   "metadata": {},
   "outputs": [],
   "source": [
    "all_counts = Counter(list_of_pairs)"
   ]
  },
  {
   "cell_type": "code",
   "execution_count": 18,
   "metadata": {},
   "outputs": [
    {
     "data": {
      "text/html": [
       "<div>\n",
       "<style scoped>\n",
       "    .dataframe tbody tr th:only-of-type {\n",
       "        vertical-align: middle;\n",
       "    }\n",
       "\n",
       "    .dataframe tbody tr th {\n",
       "        vertical-align: top;\n",
       "    }\n",
       "\n",
       "    .dataframe thead th {\n",
       "        text-align: right;\n",
       "    }\n",
       "</style>\n",
       "<table border=\"1\" class=\"dataframe\">\n",
       "  <thead>\n",
       "    <tr style=\"text-align: right;\">\n",
       "      <th></th>\n",
       "      <th>Transition</th>\n",
       "      <th>Count</th>\n",
       "    </tr>\n",
       "  </thead>\n",
       "  <tbody>\n",
       "    <tr>\n",
       "      <th>0</th>\n",
       "      <td>(Bi0, Ai3)</td>\n",
       "      <td>1935</td>\n",
       "    </tr>\n",
       "    <tr>\n",
       "      <th>1</th>\n",
       "      <td>(Ai3, Ar0)</td>\n",
       "      <td>2949</td>\n",
       "    </tr>\n",
       "    <tr>\n",
       "      <th>2</th>\n",
       "      <td>(Ar0, Ar0)</td>\n",
       "      <td>22072</td>\n",
       "    </tr>\n",
       "    <tr>\n",
       "      <th>3</th>\n",
       "      <td>(Ar0, Br0)</td>\n",
       "      <td>61507</td>\n",
       "    </tr>\n",
       "    <tr>\n",
       "      <th>4</th>\n",
       "      <td>(Br0, Ar0)</td>\n",
       "      <td>63052</td>\n",
       "    </tr>\n",
       "    <tr>\n",
       "      <th>...</th>\n",
       "      <td>...</td>\n",
       "      <td>...</td>\n",
       "    </tr>\n",
       "    <tr>\n",
       "      <th>281</th>\n",
       "      <td>(Bf1, Ai3)</td>\n",
       "      <td>1</td>\n",
       "    </tr>\n",
       "    <tr>\n",
       "      <th>282</th>\n",
       "      <td>(Bi1, Af3)</td>\n",
       "      <td>1</td>\n",
       "    </tr>\n",
       "    <tr>\n",
       "      <th>283</th>\n",
       "      <td>(Bf0, Bf3)</td>\n",
       "      <td>1</td>\n",
       "    </tr>\n",
       "    <tr>\n",
       "      <th>284</th>\n",
       "      <td>(Af2, Bi3)</td>\n",
       "      <td>1</td>\n",
       "    </tr>\n",
       "    <tr>\n",
       "      <th>285</th>\n",
       "      <td>(Af1, Ai3)</td>\n",
       "      <td>1</td>\n",
       "    </tr>\n",
       "  </tbody>\n",
       "</table>\n",
       "<p>286 rows × 2 columns</p>\n",
       "</div>"
      ],
      "text/plain": [
       "     Transition  Count\n",
       "0    (Bi0, Ai3)   1935\n",
       "1    (Ai3, Ar0)   2949\n",
       "2    (Ar0, Ar0)  22072\n",
       "3    (Ar0, Br0)  61507\n",
       "4    (Br0, Ar0)  63052\n",
       "..          ...    ...\n",
       "281  (Bf1, Ai3)      1\n",
       "282  (Bi1, Af3)      1\n",
       "283  (Bf0, Bf3)      1\n",
       "284  (Af2, Bi3)      1\n",
       "285  (Af1, Ai3)      1\n",
       "\n",
       "[286 rows x 2 columns]"
      ]
     },
     "execution_count": 18,
     "metadata": {},
     "output_type": "execute_result"
    }
   ],
   "source": [
    "pd.DataFrame(zip(all_counts.keys(),all_counts.values()), columns = ['Transition','Count'])"
   ]
  },
  {
   "cell_type": "code",
   "execution_count": 158,
   "metadata": {},
   "outputs": [],
   "source": [
    "#first 5 games provide 109 unique transitions\n",
    "#first 10 games provide 132 unique transitions\n",
    "#first 20 games provide 149 unique transitions\n",
    "#first 30 games provide 161 unique transitions\n",
    "#first 40 games provide 176 unique transitions\n",
    "#first 50 games provide 180 unique transitions\n",
    "#first 100 games provide 201 unique transitions\n",
    "#first 200 games provide 207 unique transitions\n",
    "#first 400 games provide 233 unique transitions\n",
    "#firts 2000 games provide 265 unique transitions\n",
    "#all games provide 286 unique transitions - this is still true after halftimes accounted for...\n",
    "#BUT - many of them are probably invalid - need to make sure halftime transitions aren't possible"
   ]
  },
  {
   "cell_type": "code",
   "execution_count": 15,
   "metadata": {},
   "outputs": [
    {
     "data": {
      "text/plain": [
       "7317"
      ]
     },
     "execution_count": 15,
     "metadata": {},
     "output_type": "execute_result"
    }
   ],
   "source": [
    "len(short_lists)"
   ]
  }
 ],
 "metadata": {
  "kernelspec": {
   "display_name": "base",
   "language": "python",
   "name": "python3"
  },
  "language_info": {
   "codemirror_mode": {
    "name": "ipython",
    "version": 3
   },
   "file_extension": ".py",
   "mimetype": "text/x-python",
   "name": "python",
   "nbconvert_exporter": "python",
   "pygments_lexer": "ipython3",
   "version": "3.9.13"
  }
 },
 "nbformat": 4,
 "nbformat_minor": 2
}
