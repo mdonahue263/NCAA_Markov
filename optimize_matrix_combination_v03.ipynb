{
 "cells": [
  {
   "cell_type": "code",
   "execution_count": 66,
   "metadata": {},
   "outputs": [],
   "source": [
    "#in v03, I am going to limit the options to games where both teams have sufficient data. \n",
    "\n",
    "import pandas as pd\n",
    "import numpy as np\n",
    "import os\n",
    "from tqdm import tqdm\n",
    "from matplotlib import pyplot as plt\n",
    "import seaborn as sns\n",
    "import time"
   ]
  },
  {
   "cell_type": "code",
   "execution_count": 2,
   "metadata": {},
   "outputs": [],
   "source": [
    "from helper_functions.clean_transitions import clean_transition_column\n",
    "from helper_functions.simulate_game import simulate_game"
   ]
  },
  {
   "cell_type": "code",
   "execution_count": 3,
   "metadata": {},
   "outputs": [],
   "source": [
    "avg_matrix = pd.read_excel('avg_transition_matrix_with_manual_edits.xlsx', sheet_name = 'Mean Pasted', index_col='Starting_State')"
   ]
  },
  {
   "cell_type": "code",
   "execution_count": 4,
   "metadata": {},
   "outputs": [],
   "source": [
    "# def combine_matrices(matrix_A, matrix_B, avg, params=[]):\n",
    "#     pass"
   ]
  },
  {
   "cell_type": "code",
   "execution_count": 5,
   "metadata": {},
   "outputs": [],
   "source": [
    "#limit games to sufficient data\n",
    "all_games = os.listdir('raw_game_pulls')"
   ]
  },
  {
   "cell_type": "code",
   "execution_count": 78,
   "metadata": {},
   "outputs": [],
   "source": [
    "games_meta_df = pd.DataFrame()\n",
    "for g in all_games:\n",
    "    game_strings = g.split(' vs ')\n",
    "    team_A = game_strings[0].split('for ')[-1]\n",
    "    team_B = game_strings[1].split('.xlsx')[0]\n",
    "    games_meta_df = pd.concat([games_meta_df, pd.DataFrame({'Game':g,\n",
    "                                                            'Team A':team_A,\n",
    "                                                            'Team B':team_B}, index=[0])])"
   ]
  },
  {
   "cell_type": "code",
   "execution_count": 79,
   "metadata": {},
   "outputs": [],
   "source": [
    "games_meta_df=games_meta_df.reset_index(drop=True)"
   ]
  },
  {
   "cell_type": "code",
   "execution_count": 80,
   "metadata": {},
   "outputs": [],
   "source": [
    "# gmd2 = games_meta_df.copy()"
   ]
  },
  {
   "cell_type": "code",
   "execution_count": 81,
   "metadata": {},
   "outputs": [],
   "source": [
    "# process_1_df = games_meta_df.copy()\n",
    "# process_2_df = games_meta_df.copy()"
   ]
  },
  {
   "cell_type": "code",
   "execution_count": 82,
   "metadata": {},
   "outputs": [],
   "source": [
    "# t1=time.time()\n",
    "# for i in tqdm(range(100)):\n",
    "# games_meta_df=process_1_df.copy()\n",
    "team_A_count = games_meta_df\\\n",
    "    .groupby('Team A')['Game']\\\n",
    "        .count()\\\n",
    "            .reset_index()\\\n",
    "                .rename(columns={'Game':'Team A Count'})\n",
    "\n",
    "team_B_count = games_meta_df\\\n",
    "    .groupby('Team B')['Game']\\\n",
    "        .count()\\\n",
    "            .reset_index()\\\n",
    "                .rename(columns={'Game':'Team B Count',\n",
    "                                'Team B':'Team A'})\n",
    "\n",
    "games_meta_df=games_meta_df.merge(team_A_count, on = 'Team A', how='left')\n",
    "games_meta_df=games_meta_df.merge(team_B_count, on = 'Team A', how='left')\n",
    "games_meta_df=games_meta_df.fillna(0)\n",
    "\n",
    "games_meta_df['Team A Total Games'] = games_meta_df['Team A Count'] + games_meta_df['Team B Count']\n",
    "\n",
    "games_meta_df=games_meta_df.drop([\"Team A Count\", 'Team B Count'], axis=1)\n",
    "\n",
    "games_meta_df=games_meta_df.merge(team_A_count, left_on = 'Team B', right_on='Team A', how='left')\n",
    "games_meta_df=games_meta_df.merge(team_B_count, left_on = 'Team B', right_on='Team A', how='left')\n",
    "games_meta_df=games_meta_df.fillna(0)\n",
    "\n",
    "games_meta_df['Team B Total Games'] = games_meta_df['Team A Count'] + games_meta_df['Team B Count']\n",
    "games_meta_df=games_meta_df.drop([\"Team A Count\", 'Team B Count', 'Team A_y','Team A'], axis=1).rename(columns={'Team A_x': 'Team A'})\n",
    "# t2=time.time()"
   ]
  },
  {
   "cell_type": "code",
   "execution_count": 83,
   "metadata": {},
   "outputs": [],
   "source": [
    "#this was just to test looping method speed - was ~59x slower than groupby method\n",
    "# unique_teams = pd.Series(list(gmd2['Team A']) + list(gmd2['Team B'])).unique()\n",
    "# t3=time.time()\n",
    "# for i in tqdm(range(100)):\n",
    "#     gmd2=process_2_df.copy()\n",
    "#     for t in unique_teams:\n",
    "#         total_games = int(len(gmd2[gmd2['Team A']==t])) + int(len(gmd2[gmd2['Team B']==t]))\n",
    "#         gmd2.loc[gmd2['Team A']==t, 'Team A Total Games'] = total_games\n",
    "#         gmd2.loc[gmd2['Team B']==t, 'Team B Total Games'] = total_games\n",
    "# t4=time.time()"
   ]
  },
  {
   "cell_type": "code",
   "execution_count": 107,
   "metadata": {},
   "outputs": [],
   "source": [
    "n_cutoff = 20"
   ]
  },
  {
   "cell_type": "code",
   "execution_count": 108,
   "metadata": {},
   "outputs": [
    {
     "data": {
      "text/html": [
       "<div>\n",
       "<style scoped>\n",
       "    .dataframe tbody tr th:only-of-type {\n",
       "        vertical-align: middle;\n",
       "    }\n",
       "\n",
       "    .dataframe tbody tr th {\n",
       "        vertical-align: top;\n",
       "    }\n",
       "\n",
       "    .dataframe thead th {\n",
       "        text-align: right;\n",
       "    }\n",
       "</style>\n",
       "<table border=\"1\" class=\"dataframe\">\n",
       "  <thead>\n",
       "    <tr style=\"text-align: right;\">\n",
       "      <th></th>\n",
       "      <th>Game</th>\n",
       "      <th>Team A</th>\n",
       "      <th>Team B</th>\n",
       "      <th>Team A Total Games</th>\n",
       "      <th>Team B Total Games</th>\n",
       "    </tr>\n",
       "  </thead>\n",
       "  <tbody>\n",
       "    <tr>\n",
       "      <th>0</th>\n",
       "      <td>6195965_Play-By-Play for Indiana vs Army West ...</td>\n",
       "      <td>Indiana</td>\n",
       "      <td>Army West Point</td>\n",
       "      <td>25.0</td>\n",
       "      <td>28.0</td>\n",
       "    </tr>\n",
       "    <tr>\n",
       "      <th>1</th>\n",
       "      <td>6195966_Play-By-Play for Indiana vs Wright St....</td>\n",
       "      <td>Indiana</td>\n",
       "      <td>Wright St.</td>\n",
       "      <td>25.0</td>\n",
       "      <td>26.0</td>\n",
       "    </tr>\n",
       "    <tr>\n",
       "      <th>2</th>\n",
       "      <td>6195967_Play-By-Play for Indiana vs UConn.xlsx</td>\n",
       "      <td>Indiana</td>\n",
       "      <td>UConn</td>\n",
       "      <td>25.0</td>\n",
       "      <td>26.0</td>\n",
       "    </tr>\n",
       "    <tr>\n",
       "      <th>3</th>\n",
       "      <td>6195968_Play-By-Play for Indiana vs Harvard.xlsx</td>\n",
       "      <td>Indiana</td>\n",
       "      <td>Harvard</td>\n",
       "      <td>25.0</td>\n",
       "      <td>23.0</td>\n",
       "    </tr>\n",
       "    <tr>\n",
       "      <th>4</th>\n",
       "      <td>6195969_Play-By-Play for Indiana vs Auburn.xlsx</td>\n",
       "      <td>Indiana</td>\n",
       "      <td>Auburn</td>\n",
       "      <td>25.0</td>\n",
       "      <td>25.0</td>\n",
       "    </tr>\n",
       "    <tr>\n",
       "      <th>...</th>\n",
       "      <td>...</td>\n",
       "      <td>...</td>\n",
       "      <td>...</td>\n",
       "      <td>...</td>\n",
       "      <td>...</td>\n",
       "    </tr>\n",
       "    <tr>\n",
       "      <th>4804</th>\n",
       "      <td>6201017_Play-By-Play for Milwaukee vs Youngsto...</td>\n",
       "      <td>Milwaukee</td>\n",
       "      <td>Youngstown St.</td>\n",
       "      <td>27.0</td>\n",
       "      <td>28.0</td>\n",
       "    </tr>\n",
       "    <tr>\n",
       "      <th>4805</th>\n",
       "      <td>6201018_Play-By-Play for Cornell vs Yale.xlsx</td>\n",
       "      <td>Cornell</td>\n",
       "      <td>Yale</td>\n",
       "      <td>21.0</td>\n",
       "      <td>25.0</td>\n",
       "    </tr>\n",
       "    <tr>\n",
       "      <th>4806</th>\n",
       "      <td>6201019_Play-By-Play for Dartmouth vs Penn.xlsx</td>\n",
       "      <td>Dartmouth</td>\n",
       "      <td>Penn</td>\n",
       "      <td>22.0</td>\n",
       "      <td>24.0</td>\n",
       "    </tr>\n",
       "    <tr>\n",
       "      <th>4807</th>\n",
       "      <td>6201020_Play-By-Play for Quinnipiac vs Fairfie...</td>\n",
       "      <td>Quinnipiac</td>\n",
       "      <td>Fairfield</td>\n",
       "      <td>26.0</td>\n",
       "      <td>27.0</td>\n",
       "    </tr>\n",
       "    <tr>\n",
       "      <th>4808</th>\n",
       "      <td>6201021_Play-By-Play for Arkansas St. vs South...</td>\n",
       "      <td>Arkansas St.</td>\n",
       "      <td>South Alabama</td>\n",
       "      <td>27.0</td>\n",
       "      <td>28.0</td>\n",
       "    </tr>\n",
       "  </tbody>\n",
       "</table>\n",
       "<p>4181 rows × 5 columns</p>\n",
       "</div>"
      ],
      "text/plain": [
       "                                                   Game        Team A  \\\n",
       "0     6195965_Play-By-Play for Indiana vs Army West ...       Indiana   \n",
       "1     6195966_Play-By-Play for Indiana vs Wright St....       Indiana   \n",
       "2        6195967_Play-By-Play for Indiana vs UConn.xlsx       Indiana   \n",
       "3      6195968_Play-By-Play for Indiana vs Harvard.xlsx       Indiana   \n",
       "4       6195969_Play-By-Play for Indiana vs Auburn.xlsx       Indiana   \n",
       "...                                                 ...           ...   \n",
       "4804  6201017_Play-By-Play for Milwaukee vs Youngsto...     Milwaukee   \n",
       "4805      6201018_Play-By-Play for Cornell vs Yale.xlsx       Cornell   \n",
       "4806    6201019_Play-By-Play for Dartmouth vs Penn.xlsx     Dartmouth   \n",
       "4807  6201020_Play-By-Play for Quinnipiac vs Fairfie...    Quinnipiac   \n",
       "4808  6201021_Play-By-Play for Arkansas St. vs South...  Arkansas St.   \n",
       "\n",
       "               Team B  Team A Total Games  Team B Total Games  \n",
       "0     Army West Point                25.0                28.0  \n",
       "1          Wright St.                25.0                26.0  \n",
       "2               UConn                25.0                26.0  \n",
       "3             Harvard                25.0                23.0  \n",
       "4              Auburn                25.0                25.0  \n",
       "...               ...                 ...                 ...  \n",
       "4804   Youngstown St.                27.0                28.0  \n",
       "4805             Yale                21.0                25.0  \n",
       "4806             Penn                22.0                24.0  \n",
       "4807        Fairfield                26.0                27.0  \n",
       "4808    South Alabama                27.0                28.0  \n",
       "\n",
       "[4181 rows x 5 columns]"
      ]
     },
     "execution_count": 108,
     "metadata": {},
     "output_type": "execute_result"
    }
   ],
   "source": [
    "games_meta_df[(games_meta_df['Team A Total Games']>n_cutoff)&(games_meta_df['Team B Total Games']>n_cutoff)]"
   ]
  },
  {
   "cell_type": "code",
   "execution_count": 110,
   "metadata": {},
   "outputs": [],
   "source": [
    "games_to_consider = list(games_meta_df[(games_meta_df['Team A Total Games']>n_cutoff)&(games_meta_df['Team B Total Games']>n_cutoff)]['Game'].unique())"
   ]
  },
  {
   "cell_type": "code",
   "execution_count": 97,
   "metadata": {},
   "outputs": [],
   "source": [
    "def accuracy(simulation_outcome, game_result):\n",
    "    real_A_score = game_result.iloc[-1]['Home']\n",
    "    real_B_score = game_result.iloc[-1]['Away']\n",
    "\n",
    "    sim_A_score=[simulation_outcome[1][x][0] for x in range(len(simulation_outcome[1]))]\n",
    "    sim_B_score=[simulation_outcome[1][x][1] for x in range(len(simulation_outcome[1]))]\n",
    "    a_error = (real_A_score-sim_A_score)**2\n",
    "    b_error = (real_B_score-sim_B_score)**2\n",
    "\n",
    "    return np.mean(np.sqrt(a_error+b_error))"
   ]
  },
  {
   "cell_type": "code",
   "execution_count": 98,
   "metadata": {},
   "outputs": [],
   "source": [
    "def accuracy_ou(simulation_outcome, game_result):\n",
    "    real_A_score = game_result.iloc[-1]['Home']\n",
    "    real_B_score = game_result.iloc[-1]['Away']\n",
    "\n",
    "    real_total = real_A_score + real_B_score\n",
    "\n",
    "    sim_A_score=[simulation_outcome[1][x][0] for x in range(len(simulation_outcome[1]))]\n",
    "    sim_B_score=[simulation_outcome[1][x][1] for x in range(len(simulation_outcome[1]))]\n",
    "    sim_total = np.array(list(map(lambda x,y: x+y, sim_B_score, sim_A_score)))\n",
    "\n",
    "\n",
    "    return np.mean(sim_total-real_total)"
   ]
  },
  {
   "cell_type": "code",
   "execution_count": 172,
   "metadata": {},
   "outputs": [],
   "source": [
    "def accuracy_winner(simulation_outcome, game_result):\n",
    "    real_A_score = game_result.iloc[-1]['Home']\n",
    "    real_B_score = game_result.iloc[-1]['Away']\n",
    "\n",
    "    team_A_win = real_A_score > real_B_score\n",
    "\n",
    "    sim_A_score=np.array([simulation_outcome[1][x][0] for x in range(len(simulation_outcome[1]))])\n",
    "    sim_B_score=np.array([simulation_outcome[1][x][1] for x in range(len(simulation_outcome[1]))])\n",
    "    sim_win = sim_A_score > sim_B_score\n",
    "\n",
    "\n",
    "    return np.mean(team_A_win == sim_win)"
   ]
  },
  {
   "cell_type": "code",
   "execution_count": 191,
   "metadata": {},
   "outputs": [],
   "source": [
    "# Define optimization problem\n",
    "def optimization_problem(scalar_multiples):\n",
    "    # global m1, m2, m3, matrix1, matrix2, combined_matrix, checked\n",
    "\n",
    "    #choose n random games to simulate\n",
    "\n",
    "    accuracy_list = []\n",
    "    ou_list = []\n",
    "    winner_list = []\n",
    "    for g in np.random.choice(games_to_consider, 100):\n",
    "        total_acc=0\n",
    "        # game_res = pd.read_excel('raw_game_pulls/6195965_Play-By-Play for Indiana vs Army West Point.xlsx')\n",
    "\n",
    "        #locate teams to find matrices\n",
    "        game_res = pd.read_excel('raw_game_pulls/{}'.format(g))\n",
    "        game_strings = g.split(' vs ')\n",
    "        team_A = game_strings[0].split('for ')[-1]\n",
    "        team_B = game_strings[1].split('.xlsx')[0]\n",
    "\n",
    "        matrix1 = pd.read_excel('team_specific_matrix/{}_A.xlsx'.format(team_A), index_col='Starting_State')\n",
    "        matrix2 = pd.read_excel('team_specific_matrix/{}_B.xlsx'.format(team_B), index_col='Starting_State')\n",
    "\n",
    "\n",
    "        # Reshape the parameters into matrices\n",
    "        m1 = scalar_multiples[:18].reshape(-1, 1)\n",
    "        m2 = scalar_multiples[18:36].reshape(-1, 1)\n",
    "        m3 = scalar_multiples[36:].reshape(-1, 1)\n",
    "\n",
    "        # Construct combined matrix\n",
    "        # combined_matrix = m1 * matrix1 + m2 * matrix2 + m3 * avg_matrix  # Adjust with scalar multiples\n",
    "        combined_matrix = pd.DataFrame()\n",
    "        for i in range(18):\n",
    "            combined_matrix[i] = matrix1.iloc[:, i] * m1[i] + \\\n",
    "                                matrix2.iloc[:, i] * m2[i] + \\\n",
    "                                avg_matrix.iloc[:, i] * m3[i]\n",
    "            \n",
    "        combined_matrix.columns=avg_matrix.columns\n",
    "        \n",
    "        for r in combined_matrix.index:\n",
    "            if combined_matrix.loc[r].sum()==0.:\n",
    "                combined_matrix.loc[r]=avg_matrix.loc[r].copy()\n",
    "            \n",
    "        combined_matrix = combined_matrix.div(combined_matrix.sum(axis=1), axis=0)\n",
    "        combined_matrix.columns=avg_matrix.columns\n",
    "\n",
    "        # Evaluate performance on X game simulations\n",
    "        result = simulate_game(combined_matrix, 10)\n",
    "        total_acc += accuracy(result, game_res)\n",
    "        accuracy_list.append(accuracy(result, game_res))\n",
    "        ou_list.append(accuracy_ou(result, game_res))\n",
    "        winner_list.append(accuracy_winner(result, game_res))\n",
    "        \n",
    "    # scalar_history.append(scalar_multiples)\n",
    "    # acc_history.append(np.mean(total_acc))\n",
    "    return accuracy_list, ou_list, winner_list"
   ]
  },
  {
   "cell_type": "code",
   "execution_count": 192,
   "metadata": {},
   "outputs": [],
   "source": [
    "# Initialize parameters\n",
    "# initial_guess = np.random.rand(54)\n",
    "    \n",
    "initial_guess=   [1,1,1,1,1,0,0,0,1,0,0,0,0,0,1,1,1,0,\n",
    "                    0,0,0,0,0,1,1,1,0,1,1,1,1,1,0,0,0,1,\n",
    "                    0,0,0,0,0,0,0,0,0,0,0,0,0,0,0,0,0,0]\n",
    "\n",
    "# Define bounds for parameters (optional)\n",
    "bounds = [(0, 1)] * 54  # Non-negative scalar multiples"
   ]
  },
  {
   "cell_type": "code",
   "execution_count": 193,
   "metadata": {},
   "outputs": [],
   "source": [
    "team_A_guess = np.array([1,1,1,1,1,1,1,1,1,1,1,1,1,1,1,1,1,1,\n",
    "                0,0,0,0,0,0,0,0,0,0,0,0,0,0,0,0,0,0,\n",
    "                0,0,0,0,0,0,0,0,0,0,0,0,0,0,0,0,0,0])\n",
    "team_B_guess = np.array([0,0,0,0,0,0,0,0,0,0,0,0,0,0,0,0,0,0,\n",
    "                1,1,1,1,1,1,1,1,1,1,1,1,1,1,1,1,1,1,\n",
    "                0,0,0,0,0,0,0,0,0,0,0,0,0,0,0,0,0,0])\n",
    "avg_guess = np.array([0,0,0,0,0,0,0,0,0,0,0,0,0,0,0,0,0,0,\n",
    "             0,0,0,0,0,0,0,0,0,0,0,0,0,0,0,0,0,0,\n",
    "             1,1,1,1,1,1,1,1,1,1,1,1,1,1,1,1,1,1])\n"
   ]
  },
  {
   "cell_type": "markdown",
   "metadata": {},
   "source": []
  },
  {
   "cell_type": "code",
   "execution_count": 194,
   "metadata": {},
   "outputs": [],
   "source": [
    "# guesses = [initial_guess, team_A_guess, team_B_guess,mean_teams,halves]"
   ]
  },
  {
   "cell_type": "code",
   "execution_count": 195,
   "metadata": {},
   "outputs": [],
   "source": [
    "# for g in guesses:\n",
    "#     res = optimization_problem(np.array(g))\n",
    "#     acc_history.append(res)"
   ]
  },
  {
   "cell_type": "code",
   "execution_count": 196,
   "metadata": {},
   "outputs": [],
   "source": [
    "#this accuracy came with initial guess, team A only, team B only, mean teams, and mean all.\n",
    "\n",
    "acc_history = [15.292806853524496,\n",
    " 15.57244836198554,\n",
    " 18.087572077402445,\n",
    " 18.13050025120224,\n",
    " 19.490909061580126]"
   ]
  },
  {
   "cell_type": "code",
   "execution_count": 197,
   "metadata": {},
   "outputs": [],
   "source": [
    "g_avg = np.array([0,0,0,0,0,0,0,0,0,0,0,0,0,0,0,0,0,0,\n",
    "                     0,0,0,0,0,0,0,0,0,0,0,0,0,0,0,0,0,0,\n",
    "                     1,1,1,1,1,1,1,1,1,1,1,1,1,1,1,1,1,1])"
   ]
  },
  {
   "cell_type": "code",
   "execution_count": 198,
   "metadata": {},
   "outputs": [],
   "source": [
    "g1 = np.array([1,1,1,1,1,0,0,0,1,0,0,0,0,0,1,1,1,0,\n",
    "    0,0,0,0,0,1,1,1,0,1,1,1,1,1,0,0,0,1,\n",
    "    0,0,0,0,0,0,0,0,0,0,0,0,0,0,0,0,0,0])\n",
    "\n",
    "g2 = (g1 + g_avg)*.5\n",
    "\n",
    "g3 = g1 * 0.9 + g_avg * .1\n",
    "\n",
    "g4 = g1 * .8 + g_avg * .1\n",
    "\n",
    "g5 = g1 * .5 + g_avg * .1\n",
    "\n",
    "g6 = np.array([1,1,1,1,1, 0, 0, 0,1,0,0,0,0,0,.5,.5,.5,0,\n",
    "               0,0,0,0,0,.5,.5,.5,0,1,1,1,1,1, 0, 0, 0,1,\n",
    "               0,0,0,0,0, 0, 0, 0,0,0,0,0,0,0, 0, 0, 0,0])"
   ]
  },
  {
   "cell_type": "code",
   "execution_count": 199,
   "metadata": {},
   "outputs": [],
   "source": [
    "g7 = np.array([1,1,1,1,1, 0, 0, 0,1,0,0,0,0,0,.2,.2,.2,0,\n",
    "               0,0,0,0,0,.2,.2,.2,0,1,1,1,1,1, 0, 0, 0,1,\n",
    "               0,0,0,0,0, 0, 0, 0,0,0,0,0,0,0, 0, 0, 0,0])\n",
    "\n",
    "g8 = np.array([1,1,1,1,1, 0, 0, 0,1,0,0,0,0,0,.8,.8,.8,0,\n",
    "               0,0,0,0,0,.8,.8,.8,0,1,1,1,1,1, 0, 0, 0,1,\n",
    "               0,0,0,0,0, 0, 0, 0,0,0,0,0,0,0, 0, 0, 0,0])"
   ]
  },
  {
   "cell_type": "code",
   "execution_count": 216,
   "metadata": {},
   "outputs": [],
   "source": [
    "# new guesses test\n",
    "g_1_variation_1 = np.array([2,1,.5,1,2,0,0,0,1,0,0,0,0,0,.5,1,2,0,\n",
    "    0,0,0,0,0,1,.5,1,0,2,1,.5,1,1,0,0,0,2,\n",
    "    0,0,0,0,0,0,0,0,0,0,0,0,0,0,0,0,0,0])\n",
    "\n",
    "g_1_variation_2 = np.array([1,2,1,2,1,0,0,0,2,0,0,0,0,0,1,2,1,0,\n",
    "    0,0,0,0,0,2,1,2,0,1,2,1,2,1,0,0,0,2,\n",
    "    0,0,0,0,0,0,0,0,0,0,0,0,0,0,0,0,0,0])\n",
    "\n",
    "g_1_variation_3 = g1*np.random.choice([1,2,3,4,5,6,7,8,9,10], 54)"
   ]
  },
  {
   "cell_type": "code",
   "execution_count": 218,
   "metadata": {},
   "outputs": [
    {
     "name": "stderr",
     "output_type": "stream",
     "text": [
      "100%|██████████| 6/6 [05:02<00:00, 50.47s/it]\n"
     ]
    }
   ],
   "source": [
    "lob = []\n",
    "acc_history=[]\n",
    "ou_history = []\n",
    "winner_history = []\n",
    "\n",
    "gsss = [avg_guess, g1, g_1_variation_1, g_1_variation_2, g_1_variation_3, g8]\n",
    "for guess in tqdm(range(len(gsss))):\n",
    "        # for i in range(10):\n",
    "        res1, res2, res3 = optimization_problem(np.array(gsss[guess]))\n",
    "        acc_history+=res1\n",
    "        ou_history+=res2\n",
    "        winner_history+=res3\n",
    "        rep_lob = list(np.repeat(guess,len(res1)))\n",
    "        lob+=rep_lob"
   ]
  },
  {
   "cell_type": "code",
   "execution_count": 220,
   "metadata": {},
   "outputs": [],
   "source": [
    "results_plot_1 = pd.DataFrame(zip(lob,acc_history))\n",
    "results_plot_2 = pd.DataFrame(zip(lob,ou_history))\n",
    "\n",
    "results_plot_3 = pd.DataFrame(zip(lob,winner_history))"
   ]
  },
  {
   "cell_type": "code",
   "execution_count": 225,
   "metadata": {},
   "outputs": [
    {
     "data": {
      "image/png": "[encoded data removed]",
      "text/plain": [
       "<Figure size 432x288 with 1 Axes>"
      ]
     },
     "metadata": {
      "needs_background": "light"
     },
     "output_type": "display_data"
    }
   ],
   "source": [
    "fig,ax=plt.subplots()\n",
    "sns.boxplot(x=0, y=1, data=results_plot_1[results_plot_1[0]!=4])#, labels = ['g1','g2','g3','g4','g5','g8'])\n",
    "ax.set_xticklabels(['Avg Only', 'g1', 'g1 wave', 'g1 1-2', 'g8']);"
   ]
  },
  {
   "cell_type": "code",
   "execution_count": 226,
   "metadata": {},
   "outputs": [
    {
     "data": {
      "image/png": "[encoded data removed]",
      "text/plain": [
       "<Figure size 432x288 with 1 Axes>"
      ]
     },
     "metadata": {
      "needs_background": "light"
     },
     "output_type": "display_data"
    }
   ],
   "source": [
    "fig,ax=plt.subplots()\n",
    "sns.boxplot(x=0, y=1, data=results_plot_2[results_plot_2[0]!=4])#, labels = ['g1','g2','g3','g4','g5','g8'])\n",
    "ax.set_xticklabels(['Avg Only', 'g1', 'g1 wave', 'g1 1-2', 'g8']);"
   ]
  },
  {
   "cell_type": "code",
   "execution_count": 223,
   "metadata": {},
   "outputs": [
    {
     "data": {
      "image/png": "[encoded data removed]",
      "text/plain": [
       "<Figure size 432x288 with 1 Axes>"
      ]
     },
     "metadata": {
      "needs_background": "light"
     },
     "output_type": "display_data"
    }
   ],
   "source": [
    "fig,ax=plt.subplots()\n",
    "sns.boxplot(x=0, y=1, data=results_plot_3)\n",
    "plt.plot(np.arange(0,8), np.repeat(0.5, len(np.arange(0,8))))\n",
    "ax.set_xticklabels(['Avg Only', 'g1', 'g1 wave', 'g1 1-2', 'g1 rand', 'g8']);"
   ]
  },
  {
   "cell_type": "code",
   "execution_count": 215,
   "metadata": {},
   "outputs": [
    {
     "data": {
      "text/html": [
       "<div>\n",
       "<style scoped>\n",
       "    .dataframe tbody tr th:only-of-type {\n",
       "        vertical-align: middle;\n",
       "    }\n",
       "\n",
       "    .dataframe tbody tr th {\n",
       "        vertical-align: top;\n",
       "    }\n",
       "\n",
       "    .dataframe thead th {\n",
       "        text-align: right;\n",
       "    }\n",
       "</style>\n",
       "<table border=\"1\" class=\"dataframe\">\n",
       "  <thead>\n",
       "    <tr style=\"text-align: right;\">\n",
       "      <th></th>\n",
       "      <th>0</th>\n",
       "      <th>1</th>\n",
       "    </tr>\n",
       "  </thead>\n",
       "  <tbody>\n",
       "    <tr>\n",
       "      <th>0</th>\n",
       "      <td>0</td>\n",
       "      <td>0.5</td>\n",
       "    </tr>\n",
       "    <tr>\n",
       "      <th>1</th>\n",
       "      <td>0</td>\n",
       "      <td>0.3</td>\n",
       "    </tr>\n",
       "    <tr>\n",
       "      <th>2</th>\n",
       "      <td>0</td>\n",
       "      <td>0.9</td>\n",
       "    </tr>\n",
       "    <tr>\n",
       "      <th>3</th>\n",
       "      <td>0</td>\n",
       "      <td>0.6</td>\n",
       "    </tr>\n",
       "    <tr>\n",
       "      <th>4</th>\n",
       "      <td>0</td>\n",
       "      <td>0.7</td>\n",
       "    </tr>\n",
       "    <tr>\n",
       "      <th>...</th>\n",
       "      <td>...</td>\n",
       "      <td>...</td>\n",
       "    </tr>\n",
       "    <tr>\n",
       "      <th>895</th>\n",
       "      <td>8</td>\n",
       "      <td>0.1</td>\n",
       "    </tr>\n",
       "    <tr>\n",
       "      <th>896</th>\n",
       "      <td>8</td>\n",
       "      <td>0.5</td>\n",
       "    </tr>\n",
       "    <tr>\n",
       "      <th>897</th>\n",
       "      <td>8</td>\n",
       "      <td>0.3</td>\n",
       "    </tr>\n",
       "    <tr>\n",
       "      <th>898</th>\n",
       "      <td>8</td>\n",
       "      <td>0.4</td>\n",
       "    </tr>\n",
       "    <tr>\n",
       "      <th>899</th>\n",
       "      <td>8</td>\n",
       "      <td>0.5</td>\n",
       "    </tr>\n",
       "  </tbody>\n",
       "</table>\n",
       "<p>900 rows × 2 columns</p>\n",
       "</div>"
      ],
      "text/plain": [
       "     0    1\n",
       "0    0  0.5\n",
       "1    0  0.3\n",
       "2    0  0.9\n",
       "3    0  0.6\n",
       "4    0  0.7\n",
       "..  ..  ...\n",
       "895  8  0.1\n",
       "896  8  0.5\n",
       "897  8  0.3\n",
       "898  8  0.4\n",
       "899  8  0.5\n",
       "\n",
       "[900 rows x 2 columns]"
      ]
     },
     "execution_count": 215,
     "metadata": {},
     "output_type": "execute_result"
    }
   ],
   "source": [
    "results_plot_3"
   ]
  },
  {
   "cell_type": "code",
   "execution_count": 133,
   "metadata": {},
   "outputs": [
    {
     "data": {
      "text/html": [
       "<div>\n",
       "<style scoped>\n",
       "    .dataframe tbody tr th:only-of-type {\n",
       "        vertical-align: middle;\n",
       "    }\n",
       "\n",
       "    .dataframe tbody tr th {\n",
       "        vertical-align: top;\n",
       "    }\n",
       "\n",
       "    .dataframe thead th {\n",
       "        text-align: right;\n",
       "    }\n",
       "</style>\n",
       "<table border=\"1\" class=\"dataframe\">\n",
       "  <thead>\n",
       "    <tr style=\"text-align: right;\">\n",
       "      <th></th>\n",
       "      <th>0</th>\n",
       "      <th>1</th>\n",
       "    </tr>\n",
       "  </thead>\n",
       "  <tbody>\n",
       "    <tr>\n",
       "      <th>0</th>\n",
       "      <td>0</td>\n",
       "      <td>False</td>\n",
       "    </tr>\n",
       "    <tr>\n",
       "      <th>1</th>\n",
       "      <td>0</td>\n",
       "      <td>True</td>\n",
       "    </tr>\n",
       "    <tr>\n",
       "      <th>2</th>\n",
       "      <td>0</td>\n",
       "      <td>False</td>\n",
       "    </tr>\n",
       "    <tr>\n",
       "      <th>3</th>\n",
       "      <td>0</td>\n",
       "      <td>False</td>\n",
       "    </tr>\n",
       "    <tr>\n",
       "      <th>4</th>\n",
       "      <td>0</td>\n",
       "      <td>False</td>\n",
       "    </tr>\n",
       "    <tr>\n",
       "      <th>...</th>\n",
       "      <td>...</td>\n",
       "      <td>...</td>\n",
       "    </tr>\n",
       "    <tr>\n",
       "      <th>85</th>\n",
       "      <td>8</td>\n",
       "      <td>True</td>\n",
       "    </tr>\n",
       "    <tr>\n",
       "      <th>86</th>\n",
       "      <td>8</td>\n",
       "      <td>False</td>\n",
       "    </tr>\n",
       "    <tr>\n",
       "      <th>87</th>\n",
       "      <td>8</td>\n",
       "      <td>False</td>\n",
       "    </tr>\n",
       "    <tr>\n",
       "      <th>88</th>\n",
       "      <td>8</td>\n",
       "      <td>False</td>\n",
       "    </tr>\n",
       "    <tr>\n",
       "      <th>89</th>\n",
       "      <td>8</td>\n",
       "      <td>False</td>\n",
       "    </tr>\n",
       "  </tbody>\n",
       "</table>\n",
       "<p>90 rows × 2 columns</p>\n",
       "</div>"
      ],
      "text/plain": [
       "    0      1\n",
       "0   0  False\n",
       "1   0   True\n",
       "2   0  False\n",
       "3   0  False\n",
       "4   0  False\n",
       ".. ..    ...\n",
       "85  8   True\n",
       "86  8  False\n",
       "87  8  False\n",
       "88  8  False\n",
       "89  8  False\n",
       "\n",
       "[90 rows x 2 columns]"
      ]
     },
     "execution_count": 133,
     "metadata": {},
     "output_type": "execute_result"
    }
   ],
   "source": [
    "results_plot_3"
   ]
  },
  {
   "cell_type": "code",
   "execution_count": null,
   "metadata": {},
   "outputs": [],
   "source": [
    "#test results first time around - g8 undershoots the OU, all others overshoot by about 10"
   ]
  },
  {
   "cell_type": "code",
   "execution_count": null,
   "metadata": {},
   "outputs": [],
   "source": [
    "#pure distance accuracy tests is not yielding promising results.\n",
    "#other accuracy tests to perform - winner, margin, and O/U total."
   ]
  },
  {
   "cell_type": "code",
   "execution_count": 90,
   "metadata": {},
   "outputs": [],
   "source": [
    "# Define optimization problem\n",
    "def optimization_problem_2(scalar_multiples):\n",
    "    # global m1, m2, m3, matrix1, matrix2, combined_matrix, checked\n",
    "    for g in np.random.choice(os.listdir('raw_game_pulls'),100):\n",
    "        total_acc=0\n",
    "        # game_res = pd.read_excel('raw_game_pulls/6195965_Play-By-Play for Indiana vs Army West Point.xlsx')\n",
    "        game_res = pd.read_excel('raw_game_pulls/{}'.format(g))\n",
    "        game_strings = g.split(' vs ')\n",
    "        team_A = game_strings[0].split('for ')[-1]\n",
    "        team_B = game_strings[1].split('.xlsx')[0]\n",
    "\n",
    "        matrix1 = pd.read_excel('team_specific_matrix/{}_A.xlsx'.format(team_A), index_col='Starting_State')\n",
    "        matrix2 = pd.read_excel('team_specific_matrix/{}_B.xlsx'.format(team_B), index_col='Starting_State')\n",
    "\n",
    "\n",
    "        # Reshape the parameters into matrices\n",
    "        m1 = scalar_multiples[:18].reshape(-1, 1)\n",
    "        m2 = scalar_multiples[18:36].reshape(-1, 1)\n",
    "        m3 = scalar_multiples[36:].reshape(-1, 1)\n",
    "\n",
    "        # Construct combined matrix\n",
    "        # combined_matrix = m1 * matrix1 + m2 * matrix2 + m3 * avg_matrix  # Adjust with scalar multiples\n",
    "        combined_matrix = pd.DataFrame()\n",
    "        for i in range(18):\n",
    "            combined_matrix[i] = matrix1.iloc[:, i] * m1[i] + \\\n",
    "                                matrix2.iloc[:, i] * m2[i] + \\\n",
    "                                avg_matrix.iloc[:, i] * m3[i]\n",
    "            \n",
    "        combined_matrix.columns=avg_matrix.columns\n",
    "        \n",
    "            \n",
    "        \n",
    "            \n",
    "            #this is constantly failing. Instead, I am just going to force all matrices\n",
    "            #to have the same lines for Af3 and Bf3\n",
    "        for r in combined_matrix.index:\n",
    "            if combined_matrix.loc[r].sum()==0.:\n",
    "                combined_matrix.loc[r]=avg_matrix.loc[r].copy()\n",
    "            \n",
    "        combined_matrix = combined_matrix.div(combined_matrix.sum(axis=1), axis=0)\n",
    "        combined_matrix.columns=avg_matrix.columns\n",
    "\n",
    "        # Evaluate performance\n",
    "        result = simulate_game(combined_matrix, 1)\n",
    "        total_acc += accuracy_ou(result, game_res)\n",
    "    # scalar_history.append(scalar_multiples)\n",
    "    # acc_history.append(np.mean(total_acc))\n",
    "    return np.mean(total_acc)"
   ]
  },
  {
   "cell_type": "code",
   "execution_count": 91,
   "metadata": {},
   "outputs": [
    {
     "name": "stderr",
     "output_type": "stream",
     "text": [
      " 12%|█▎        | 1/8 [02:01<14:10, 121.47s/it]Exception ignored in: <function ZipFile.__del__ at 0x0000022949E1CC10>\n",
      "Traceback (most recent call last):\n",
      "  File \"c:\\Users\\mdona\\anaconda3\\lib\\zipfile.py\", line 1816, in __del__\n",
      "    self.close()\n",
      "KeyboardInterrupt: \n"
     ]
    }
   ],
   "source": [
    "lob_2 = []\n",
    "gsss = [g1,g2,g3,g4,g5,g6,g7,g8]\n",
    "acc_history_2 = []\n",
    "for guess in tqdm(range(len(gsss))):\n",
    "        for i in range(10):\n",
    "                res = optimization_problem_2(gsss[guess])\n",
    "                acc_history_2.append(res)\n",
    "                lob_2.append(guess)"
   ]
  }
 ],
 "metadata": {
  "kernelspec": {
   "display_name": "base",
   "language": "python",
   "name": "python3"
  },
  "language_info": {
   "codemirror_mode": {
    "name": "ipython",
    "version": 3
   },
   "file_extension": ".py",
   "mimetype": "text/x-python",
   "name": "python",
   "nbconvert_exporter": "python",
   "pygments_lexer": "ipython3",
   "version": "3.9.7"
  }
 },
 "nbformat": 4,
 "nbformat_minor": 2
}
