{
 "cells": [
  {
   "cell_type": "code",
   "execution_count": 1,
   "metadata": {},
   "outputs": [],
   "source": [
    "#initial assumptions/settings - \n",
    "#team in \"top\" position will be considered home team"
   ]
  },
  {
   "cell_type": "code",
   "execution_count": 2,
   "metadata": {},
   "outputs": [],
   "source": [
    "REPS = 100\n",
    "STRAT = 'sim'"
   ]
  },
  {
   "cell_type": "code",
   "execution_count": 3,
   "metadata": {},
   "outputs": [
    {
     "name": "stdout",
     "output_type": "stream",
     "text": [
      "WARNING:tensorflow:From C:\\Users\\mdona\\AppData\\Roaming\\Python\\Python39\\site-packages\\keras\\src\\losses.py:2976: The name tf.losses.sparse_softmax_cross_entropy is deprecated. Please use tf.compat.v1.losses.sparse_softmax_cross_entropy instead.\n",
      "\n",
      "WARNING:tensorflow:From C:\\Users\\mdona\\AppData\\Roaming\\Python\\Python39\\site-packages\\keras\\src\\backend.py:1398: The name tf.executing_eagerly_outside_functions is deprecated. Please use tf.compat.v1.executing_eagerly_outside_functions instead.\n",
      "\n",
      "WARNING:tensorflow:From C:\\Users\\mdona\\AppData\\Roaming\\Python\\Python39\\site-packages\\keras\\src\\optimizers\\__init__.py:309: The name tf.train.Optimizer is deprecated. Please use tf.compat.v1.train.Optimizer instead.\n",
      "\n"
     ]
    }
   ],
   "source": [
    "import pandas as pd\n",
    "import pickle\n",
    "import os\n",
    "from tqdm import tqdm\n",
    "from helper_functions.simulate_game import simulate_game\n",
    "from helper_functions.combine_matrices import combine_team_matrix\n",
    "from helper_functions.tourney_sim import matchup, nn_output\n",
    "import numpy as np"
   ]
  },
  {
   "cell_type": "code",
   "execution_count": 82,
   "metadata": {},
   "outputs": [
    {
     "data": {
      "text/plain": [
       "False    7082\n",
       "True     2918\n",
       "Name: count, dtype: int64"
      ]
     },
     "execution_count": 82,
     "metadata": {},
     "output_type": "execute_result"
    }
   ],
   "source": [
    "#play-in\n",
    "team_A = 'Virginia'\n",
    "team_B = 'Colorado St.'\n",
    "\n",
    "res=matchup(team_A, team_B, 'nn1', reps=5000, argmax=False)\n",
    "res2=matchup(team_B, team_A, 'nn1', reps=5000, argmax=False)\n",
    "l1=[x[0]>x[1] for x in res]\n",
    "l2=[x[0]<x[1] for x in res2]\n",
    "pd.Series(l1+l2).value_counts()"
   ]
  },
  {
   "cell_type": "code",
   "execution_count": 68,
   "metadata": {},
   "outputs": [],
   "source": [
    "#play-in\n",
    "team_A = 'Grambling'\n",
    "team_B = 'Montana St.'\n",
    "\n",
    "matrix_A = pd.read_excel('team_specific_matrix/{}_A.xlsx'.format(team_A), index_col='Starting_State')\n",
    "matrix_B = pd.read_excel('team_specific_matrix/{}_B.xlsx'.format(team_B), index_col='Starting_State')\n",
    "\n",
    "transition_matrix = combine_team_matrix(matrix_A, matrix_B)\n",
    "res = simulate_game(transition_matrix, 500)\n",
    "\n",
    "howard_win_list_1 = [x[0]>x[1] for x in res[1]]\n",
    "\n",
    "#play-in\n",
    "team_B = 'UConn'\n",
    "team_A = 'Stetson'\n",
    "\n",
    "matrix_A = pd.read_excel('team_specific_matrix/{}_A.xlsx'.format(team_A), index_col='Starting_State')\n",
    "matrix_B = pd.read_excel('team_specific_matrix/{}_B.xlsx'.format(team_B), index_col='Starting_State')\n",
    "\n",
    "transition_matrix = combine_team_matrix(matrix_A, matrix_B)\n",
    "res = simulate_game(transition_matrix, 500)\n",
    "\n",
    "howard_win_list_2 = [x[0]<x[1] for x in res[1]]"
   ]
  },
  {
   "cell_type": "code",
   "execution_count": 69,
   "metadata": {},
   "outputs": [
    {
     "data": {
      "text/plain": [
       "False    545\n",
       "True     455\n",
       "Name: count, dtype: int64"
      ]
     },
     "execution_count": 69,
     "metadata": {},
     "output_type": "execute_result"
    }
   ],
   "source": [
    "pd.Series(howard_win_list_1+howard_win_list_2).value_counts()"
   ]
  },
  {
   "cell_type": "code",
   "execution_count": 114,
   "metadata": {},
   "outputs": [
    {
     "name": "stdout",
     "output_type": "stream",
     "text": [
      "WARNING:tensorflow:From C:\\Users\\mdona\\AppData\\Roaming\\Python\\Python39\\site-packages\\keras\\src\\losses.py:2976: The name tf.losses.sparse_softmax_cross_entropy is deprecated. Please use tf.compat.v1.losses.sparse_softmax_cross_entropy instead.\n",
      "\n",
      "WARNING:tensorflow:From C:\\Users\\mdona\\AppData\\Roaming\\Python\\Python39\\site-packages\\keras\\src\\backend.py:1398: The name tf.executing_eagerly_outside_functions is deprecated. Please use tf.compat.v1.executing_eagerly_outside_functions instead.\n",
      "\n",
      "WARNING:tensorflow:From C:\\Users\\mdona\\AppData\\Roaming\\Python\\Python39\\site-packages\\keras\\src\\optimizers\\__init__.py:309: The name tf.train.Optimizer is deprecated. Please use tf.compat.v1.train.Optimizer instead.\n",
      "\n"
     ]
    }
   ],
   "source": [
    "with open('models/nn1.pickle', 'rb') as file:\n",
    "    nn1 = pickle.load(file)"
   ]
  },
  {
   "cell_type": "code",
   "execution_count": null,
   "metadata": {},
   "outputs": [],
   "source": []
  },
  {
   "cell_type": "code",
   "execution_count": null,
   "metadata": {},
   "outputs": [],
   "source": [
    "#sim model says wagner wins with 59% probability"
   ]
  },
  {
   "cell_type": "code",
   "execution_count": 75,
   "metadata": {},
   "outputs": [],
   "source": [
    "te1='UConn'\n",
    "te2='Iowa St.'\n",
    "te3='Illinois'\n",
    "te4='Auburn'\n",
    "te5='San Diego St.'\n",
    "te6='BYU'\n",
    "te7='Washington St.'\n",
    "te8='Fla. Atlantic'\n",
    "te9='Northwestern'\n",
    "te10='Drake'\n",
    "te11='Duquesne'\n",
    "te12='UAB'\n",
    "te13='Yale'\n",
    "te14='Morehead St.'\n",
    "te15='South Dakota St.'\n",
    "te16='Stetson'\n",
    "\n",
    "tw1='North Carolina'\n",
    "tw2='Arizona'\n",
    "tw3='Baylor'\n",
    "tw4='Alabama'\n",
    "tw5=\"Saint Mary's (CA)\"\n",
    "tw6='Clemson'\n",
    "tw7='Dayton'\n",
    "tw8='Mississippi St.'\n",
    "tw9='Michigan St.'\n",
    "tw10='Nevada'\n",
    "tw11='New Mexico'\n",
    "tw12 = 'Grand Canyon'\n",
    "tw13='Col. of Charleston'\n",
    "tw14='Colgate'\n",
    "tw15='Long Beach St.'\n",
    "tw16='Howard'\n",
    "\n",
    "ts1='Houston'\n",
    "ts2 = 'Marquette'\n",
    "ts3='Kentucky'\n",
    "ts4='Duke'\n",
    "ts5='Wisconsin'\n",
    "ts6='Texas Tech'\n",
    "ts7='Florida'\n",
    "ts8='Nebraska'\n",
    "ts9='Texas A&M'\n",
    "ts10='Boise St.'\n",
    "ts11='NC State'\n",
    "ts12='James Madison'\n",
    "ts13='Vermont'\n",
    "ts14 = 'Oakland'\n",
    "ts15='Western Ky.'\n",
    "ts16='Longwood'\n",
    "\n",
    "tm1='Purdue'\n",
    "tm2='Tennessee'\n",
    "tm3='Creighton'\n",
    "tm4='Kansas'\n",
    "tm5='Gonzaga'\n",
    "tm6='South Carolina'\n",
    "tm7='Texas'\n",
    "tm8='Utah St.'\n",
    "tm9='TCU'\n",
    "tm10='Virginia'\n",
    "tm11='Oregon'\n",
    "tm12='McNeese'\n",
    "tm13='Samford'\n",
    "tm14='Akron'\n",
    "tm15=\"Saint Peter's\"\n",
    "tm16='Grambling'"
   ]
  },
  {
   "cell_type": "code",
   "execution_count": 76,
   "metadata": {},
   "outputs": [],
   "source": [
    "eastern_bracket = [(te1,te16),\n",
    "                    (te8,te9),\n",
    "                    (te5,te12),\n",
    "                    (te4,te13),\n",
    "                    (te6,te11),\n",
    "                    (te3,te14),\n",
    "                    (te7,te10),\n",
    "                    (te2,te15)]\n",
    "\n",
    "western_bracket = [(tw1,tw16),\n",
    "                    (tw8,tw9),\n",
    "                    (tw5,tw12),\n",
    "                    (tw4,tw13),\n",
    "                    (tw6,tw11),\n",
    "                    (tw3,tw14),\n",
    "                    (tw7,tw10),\n",
    "                    (tw2,tw15)]\n",
    "\n",
    "southern_bracket = [(ts1,ts16),\n",
    "                    (ts8,ts9),\n",
    "                    (ts5,ts12),\n",
    "                    (ts4,ts13),\n",
    "                    (ts6,ts11),\n",
    "                    (ts3,ts14),\n",
    "                    (ts7,ts10),\n",
    "                    (ts2,ts15)]\n",
    "\n",
    "midwestern_bracket = [(tm1,tm16),\n",
    "                    (tm8,tm9),\n",
    "                    (tm5,tm12),\n",
    "                    (tm4,tm13),\n",
    "                    (tm6,tm11),\n",
    "                    (tm3,tm14),\n",
    "                    (tm7,tm10),\n",
    "                    (tm2,tm15)]"
   ]
  },
  {
   "cell_type": "code",
   "execution_count": 77,
   "metadata": {},
   "outputs": [],
   "source": [
    "first_round = [eastern_bracket, western_bracket, southern_bracket, midwestern_bracket]"
   ]
  },
  {
   "cell_type": "code",
   "execution_count": 78,
   "metadata": {},
   "outputs": [
    {
     "name": "stdout",
     "output_type": "stream",
     "text": [
      "Matchup: UConn vs. Stetson\n",
      "UConn wins\n",
      "\n",
      "Matchup: Fla. Atlantic vs. Northwestern\n",
      "Fla. Atlantic wins\n",
      "\n",
      "Matchup: San Diego St. vs. UAB\n",
      "San Diego St. wins\n",
      "\n",
      "Matchup: Auburn vs. Yale\n",
      "Yale wins\n",
      "\n",
      "Matchup: BYU vs. Duquesne\n",
      "BYU wins\n",
      "\n",
      "Matchup: Illinois vs. Morehead St.\n",
      "Morehead St. wins\n",
      "\n",
      "Matchup: Washington St. vs. Drake\n",
      "Drake wins\n",
      "\n",
      "Matchup: Iowa St. vs. South Dakota St.\n",
      "Iowa St. wins\n",
      "\n",
      "-------------------------------------------------------------------------\n",
      "Matchup: North Carolina vs. Howard\n",
      "North Carolina wins\n",
      "\n",
      "Matchup: Mississippi St. vs. Michigan St.\n",
      "Mississippi St. wins\n",
      "\n",
      "Matchup: Saint Mary's (CA) vs. Grand Canyon\n",
      "Grand Canyon wins\n",
      "\n",
      "Matchup: Alabama vs. Col. of Charleston\n",
      "Col. of Charleston wins\n",
      "\n",
      "Matchup: Clemson vs. New Mexico\n",
      "Clemson wins\n",
      "\n",
      "Matchup: Baylor vs. Colgate\n",
      "Colgate wins\n",
      "\n",
      "Matchup: Dayton vs. Nevada\n",
      "Dayton wins\n",
      "\n",
      "Matchup: Arizona vs. Long Beach St.\n",
      "Arizona wins\n",
      "\n",
      "-------------------------------------------------------------------------\n",
      "Matchup: Houston vs. Longwood\n",
      "Longwood wins\n",
      "\n",
      "Matchup: Nebraska vs. Texas A&M\n",
      "Nebraska wins\n",
      "\n",
      "Matchup: Wisconsin vs. James Madison\n",
      "James Madison wins\n",
      "\n",
      "Matchup: Duke vs. Vermont\n",
      "Vermont wins\n",
      "\n",
      "Matchup: Texas Tech vs. NC State\n",
      "Texas Tech wins\n",
      "\n",
      "Matchup: Kentucky vs. Oakland\n",
      "Kentucky wins\n",
      "\n",
      "Matchup: Florida vs. Boise St.\n",
      "Boise St. wins\n",
      "\n",
      "Matchup: Marquette vs. Western Ky.\n",
      "Marquette wins\n",
      "\n",
      "-------------------------------------------------------------------------\n",
      "Matchup: Purdue vs. Montana St.\n",
      "Purdue wins\n",
      "\n",
      "Matchup: Utah St. vs. TCU\n",
      "Utah St. wins\n",
      "\n",
      "Matchup: Gonzaga vs. McNeese\n",
      "McNeese wins\n",
      "\n",
      "Matchup: Kansas vs. Samford\n",
      "Samford wins\n",
      "\n",
      "Matchup: South Carolina vs. Oregon\n",
      "Oregon wins\n",
      "\n",
      "Matchup: Creighton vs. Akron\n",
      "Creighton wins\n",
      "\n",
      "Matchup: Texas vs. Virginia\n",
      "Texas wins\n",
      "\n",
      "Matchup: Tennessee vs. Saint Peter's\n",
      "Tennessee wins\n",
      "\n",
      "-------------------------------------------------------------------------\n"
     ]
    }
   ],
   "source": [
    "#RUN FIRST ROUND\n",
    "#try with 10 simulations\n",
    "east_round_2 = []\n",
    "west_round_2 = []\n",
    "south_round_2 = []\n",
    "midwest_round_2 = []\n",
    "second_round = [east_round_2,west_round_2,south_round_2,midwest_round_2]\n",
    "\n",
    "for division_number in range(len(first_round)):\n",
    "    for match in first_round[division_number]:\n",
    "        print('Matchup: {} vs. {}'.format(match[0], match[1]))\n",
    "        res=matchup(match[0],match[1], reps=REPS)\n",
    "        winners = np.mean([x[0]>x[1] for x in res])\n",
    "        if winners == 0.5:\n",
    "            res=matchup(match[0],match[1])\n",
    "            winners=res[0][0]>res[0][1]\n",
    "        if winners > 0.5:\n",
    "            print('{} wins'.format(match[0]))\n",
    "            second_round[division_number].append(match[0])\n",
    "        else:\n",
    "            print('{} wins'.format(match[1]))\n",
    "            second_round[division_number].append(match[1])\n",
    "        print()\n",
    "    print('-------------------------------------------------------------------------')\n",
    "        \n",
    "\n"
   ]
  },
  {
   "cell_type": "code",
   "execution_count": 79,
   "metadata": {},
   "outputs": [],
   "source": [
    "#second round is listed, now needs formatting\n",
    "for n in range(len(second_round)):\n",
    "    second_round[n] = [(second_round[n][2*x],second_round[n][2*x+1]) for x in range(len(second_round[n])//2)]"
   ]
  },
  {
   "cell_type": "code",
   "execution_count": 80,
   "metadata": {},
   "outputs": [
    {
     "name": "stdout",
     "output_type": "stream",
     "text": [
      "Matchup: UConn vs. Fla. Atlantic\n",
      "UConn wins\n",
      "\n",
      "Matchup: San Diego St. vs. Yale\n",
      "Yale wins\n",
      "\n",
      "Matchup: BYU vs. Morehead St.\n",
      "Morehead St. wins\n",
      "\n",
      "Matchup: Drake vs. Iowa St.\n",
      "Drake wins\n",
      "\n",
      "----------------------------------------------------------------\n",
      "Matchup: North Carolina vs. Mississippi St.\n",
      "North Carolina wins\n",
      "\n",
      "Matchup: Grand Canyon vs. Col. of Charleston\n",
      "Col. of Charleston wins\n",
      "\n",
      "Matchup: Clemson vs. Colgate\n",
      "Clemson wins\n",
      "\n",
      "Matchup: Dayton vs. Arizona\n",
      "Dayton wins\n",
      "\n",
      "----------------------------------------------------------------\n",
      "Matchup: Longwood vs. Nebraska\n",
      "Nebraska wins\n",
      "\n",
      "Matchup: James Madison vs. Vermont\n",
      "Vermont wins\n",
      "\n",
      "Matchup: Texas Tech vs. Kentucky\n",
      "Kentucky wins\n",
      "\n",
      "Matchup: Boise St. vs. Marquette\n",
      "Marquette wins\n",
      "\n",
      "----------------------------------------------------------------\n",
      "Matchup: Purdue vs. Utah St.\n",
      "Purdue wins\n",
      "\n",
      "Matchup: McNeese vs. Samford\n",
      "McNeese wins\n",
      "\n",
      "Matchup: Oregon vs. Creighton\n",
      "Creighton wins\n",
      "\n",
      "Matchup: Texas vs. Tennessee\n",
      "Tennessee wins\n",
      "\n",
      "----------------------------------------------------------------\n"
     ]
    }
   ],
   "source": [
    "#RUN SECOND ROUND\n",
    "#try with 10 simulations\n",
    "east_round_3 = []\n",
    "west_round_3 = []\n",
    "south_round_3 = []\n",
    "midwest_round_3 = []\n",
    "third_round = [east_round_3,west_round_3,south_round_3,midwest_round_3]\n",
    "\n",
    "for division_number in range(len(second_round)):\n",
    "    for match in second_round[division_number]:\n",
    "        print('Matchup: {} vs. {}'.format(match[0], match[1]))\n",
    "        res=matchup(match[0],match[1], reps=REPS)\n",
    "        winners = np.mean([x[0]>x[1] for x in res])\n",
    "        if winners == 0.5:\n",
    "            res=matchup(match[0],match[1])\n",
    "            winners=res[0][0]>res[0][1]\n",
    "        if winners > 0.5:\n",
    "            print('{} wins'.format(match[0]))\n",
    "            third_round[division_number].append(match[0])\n",
    "        else:\n",
    "            print('{} wins'.format(match[1]))\n",
    "            third_round[division_number].append(match[1])\n",
    "        print()\n",
    "    print('----------------------------------------------------------------')"
   ]
  },
  {
   "cell_type": "code",
   "execution_count": 81,
   "metadata": {},
   "outputs": [],
   "source": [
    "#third round is listed, now needs formatting\n",
    "for n in range(len(third_round)):\n",
    "    third_round[n] = [(third_round[n][2*x],third_round[n][2*x+1]) for x in range(len(third_round[n])//2)]"
   ]
  },
  {
   "cell_type": "code",
   "execution_count": 82,
   "metadata": {},
   "outputs": [
    {
     "name": "stdout",
     "output_type": "stream",
     "text": [
      "Matchup: UConn vs. Yale\n",
      "UConn wins\n",
      "\n",
      "Matchup: Morehead St. vs. Drake\n",
      "Drake wins\n",
      "\n",
      "------------------------------------------------------------------\n",
      "Matchup: North Carolina vs. Col. of Charleston\n",
      "Col. of Charleston wins\n",
      "\n",
      "Matchup: Clemson vs. Dayton\n",
      "Dayton wins\n",
      "\n",
      "------------------------------------------------------------------\n",
      "Matchup: Nebraska vs. Vermont\n",
      "Vermont wins\n",
      "\n",
      "Matchup: Kentucky vs. Marquette\n",
      "Marquette wins\n",
      "\n",
      "------------------------------------------------------------------\n",
      "Matchup: Purdue vs. McNeese\n",
      "McNeese wins\n",
      "\n",
      "Matchup: Creighton vs. Tennessee\n",
      "Creighton wins\n",
      "\n",
      "------------------------------------------------------------------\n"
     ]
    }
   ],
   "source": [
    "#RUN THIRD ROUND\n",
    "#try with 10 simulations\n",
    "east_round_4 = []\n",
    "west_round_4 = []\n",
    "south_round_4 = []\n",
    "midwest_round_4 = []\n",
    "fourth_round = [east_round_4,west_round_4,south_round_4,midwest_round_4]\n",
    "\n",
    "for division_number in range(len(third_round)):\n",
    "    for match in third_round[division_number]:\n",
    "        print('Matchup: {} vs. {}'.format(match[0], match[1]))\n",
    "        res=matchup(match[0],match[1], reps=REPS)\n",
    "        winners = np.mean([x[0]>x[1] for x in res])\n",
    "        if winners == 0.5:\n",
    "            res=matchup(match[0],match[1])\n",
    "            winners=res[0][0]>res[0][1]\n",
    "        if winners > 0.5:\n",
    "            print('{} wins'.format(match[0]))\n",
    "            fourth_round[division_number].append(match[0])\n",
    "        else:\n",
    "            print('{} wins'.format(match[1]))\n",
    "            fourth_round[division_number].append(match[1])\n",
    "        print()\n",
    "    print('------------------------------------------------------------------')"
   ]
  },
  {
   "cell_type": "code",
   "execution_count": 83,
   "metadata": {},
   "outputs": [
    {
     "name": "stdout",
     "output_type": "stream",
     "text": [
      "Matchup: UConn vs. Drake\n",
      "Drake wins\n",
      "\n",
      "Matchup: Col. of Charleston vs. Dayton\n",
      "Col. of Charleston wins\n",
      "\n",
      "Matchup: Vermont vs. Marquette\n",
      "Vermont wins\n",
      "\n",
      "Matchup: McNeese vs. Creighton\n",
      "Creighton wins\n",
      "\n"
     ]
    }
   ],
   "source": [
    "final_four = []\n",
    "for match in fourth_round:\n",
    "    print('Matchup: {} vs. {}'.format(match[0], match[1]))\n",
    "    res=matchup(match[0],match[1], reps=REPS)\n",
    "    winners = np.mean([x[0]>x[1] for x in res])\n",
    "    if winners == 0.5:\n",
    "        res=matchup(match[0],match[1])\n",
    "        winners=res[0][0]>res[0][1]\n",
    "    if winners > 0.5:\n",
    "        print('{} wins'.format(match[0]))\n",
    "        final_four.append(match[0])\n",
    "    else:\n",
    "        print('{} wins'.format(match[1]))\n",
    "        final_four.append(match[1])\n",
    "    print()\n"
   ]
  },
  {
   "cell_type": "code",
   "execution_count": 84,
   "metadata": {},
   "outputs": [
    {
     "name": "stdout",
     "output_type": "stream",
     "text": [
      "Matchup: Drake vs. Col. of Charleston\n",
      "Drake wins\n",
      "\n",
      "Matchup: Vermont vs. Creighton\n",
      "Creighton wins\n",
      "\n"
     ]
    }
   ],
   "source": [
    "#FINAL FOUR\n",
    "finals=[]\n",
    "team_A = final_four[0]\n",
    "team_B = final_four[1]\n",
    "print('Matchup: {} vs. {}'.format(team_A, team_B))\n",
    "res=matchup(team_A,team_B, reps=REPS)\n",
    "winners = np.mean([x[0]>x[1] for x in res])\n",
    "if winners == 0.5:\n",
    "    res=matchup(team_A,team_B)\n",
    "    winners=res[0][0]>res[0][1]\n",
    "if winners > 0.5:\n",
    "    print('{} wins'.format(team_A))\n",
    "    finals.append(team_A)\n",
    "else:\n",
    "    print('{} wins'.format(team_B))\n",
    "    finals.append(team_B)\n",
    "print()\n",
    "\n",
    "team_A = final_four[2]\n",
    "team_B = final_four[3]\n",
    "print('Matchup: {} vs. {}'.format(team_A, team_B))\n",
    "res=matchup(team_A,team_B, reps=REPS)\n",
    "winners = np.mean([x[0]>x[1] for x in res])\n",
    "if winners == 0.5:\n",
    "    res=matchup(team_A,team_B)\n",
    "    winners=res[0][0]>res[0][1]\n",
    "if winners > 0.5:\n",
    "    print('{} wins'.format(team_A))\n",
    "    finals.append(team_A)\n",
    "else:\n",
    "    print('{} wins'.format(team_B))\n",
    "    finals.append(team_B)\n",
    "print()"
   ]
  },
  {
   "cell_type": "code",
   "execution_count": 85,
   "metadata": {},
   "outputs": [
    {
     "name": "stdout",
     "output_type": "stream",
     "text": [
      "Matchup: Drake vs. Creighton\n",
      "Creighton wins\n",
      "\n",
      "Tiebreaker O/U: 1600\n"
     ]
    }
   ],
   "source": [
    "total_reps=REPS\n",
    "total_ou = 0\n",
    "print('Matchup: {} vs. {}'.format(finals[0], finals[1]))\n",
    "res=matchup(match[0],match[1], reps=REPS)\n",
    "winners = np.mean([x[0]>x[1] for x in res])\n",
    "for score in res:\n",
    "    total_ou += score[0] + score[1]\n",
    "if winners == 0.5:\n",
    "    res=matchup(match[0],match[1])\n",
    "    total_ou += res[0][0] + res[0][1]\n",
    "    total_reps+=1\n",
    "    winners=res[0][0]>res[0][1]\n",
    "if winners > 0.5:\n",
    "    print('{} wins'.format(match[0]))\n",
    "    final_four.append(match[0])\n",
    "else:\n",
    "    print('{} wins'.format(match[1]))\n",
    "    final_four.append(match[1])\n",
    "print()\n",
    "print('Tiebreaker O/U: {}'.format(total_ou//total_reps))"
   ]
  },
  {
   "cell_type": "code",
   "execution_count": 91,
   "metadata": {},
   "outputs": [
    {
     "data": {
      "text/plain": [
       "160"
      ]
     },
     "execution_count": 91,
     "metadata": {},
     "output_type": "execute_result"
    }
   ],
   "source": [
    "total_ou//100"
   ]
  },
  {
   "cell_type": "code",
   "execution_count": null,
   "metadata": {},
   "outputs": [],
   "source": []
  }
 ],
 "metadata": {
  "kernelspec": {
   "display_name": "base",
   "language": "python",
   "name": "python3"
  },
  "language_info": {
   "codemirror_mode": {
    "name": "ipython",
    "version": 3
   },
   "file_extension": ".py",
   "mimetype": "text/x-python",
   "name": "python",
   "nbconvert_exporter": "python",
   "pygments_lexer": "ipython3",
   "version": "3.9.7"
  }
 },
 "nbformat": 4,
 "nbformat_minor": 2
}
