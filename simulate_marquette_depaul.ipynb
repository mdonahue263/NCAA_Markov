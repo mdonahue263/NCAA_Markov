{
 "cells": [
  {
   "cell_type": "code",
   "execution_count": 32,
   "metadata": {},
   "outputs": [],
   "source": [
    "import pandas as pd\n",
    "import numpy as np\n",
    "from helper_functions.clean_transitions import clean_transition_column\n",
    "from tqdm import tqdm\n",
    "from matplotlib import pyplot as plt\n",
    "import time"
   ]
  },
  {
   "cell_type": "code",
   "execution_count": 2,
   "metadata": {},
   "outputs": [],
   "source": [
    "transition_times = pd.read_excel('Transition_times_reduced.xlsx')"
   ]
  },
  {
   "cell_type": "code",
   "execution_count": 3,
   "metadata": {},
   "outputs": [],
   "source": [
    "transition_times['Transition'] = clean_transition_column(transition_times['Transition'])"
   ]
  },
  {
   "cell_type": "code",
   "execution_count": 4,
   "metadata": {},
   "outputs": [],
   "source": [
    "transition_matrix_1 = pd.read_excel('Marquette_A_DePaul_B_Transitions_v1.xlsx',index_col='Starting_State')\n",
    "transition_matrix_2 = pd.read_excel('Marquette_A_DePaul_B_Transitions_v2.xlsx',index_col='Starting_State')"
   ]
  },
  {
   "cell_type": "code",
   "execution_count": 5,
   "metadata": {},
   "outputs": [],
   "source": [
    "scoring = pd.read_excel('Transitions_and_scores_v2.xlsx')"
   ]
  },
  {
   "cell_type": "code",
   "execution_count": 6,
   "metadata": {},
   "outputs": [],
   "source": [
    "scoring['Transition']=clean_transition_column(scoring['Transition'])"
   ]
  },
  {
   "cell_type": "code",
   "execution_count": 7,
   "metadata": {},
   "outputs": [],
   "source": [
    "def choose_ending_state(state):\n",
    "    # Get the row corresponding to the starting state\n",
    "    transition_probs = transition_matrix_1.loc[state]\n",
    "    \n",
    "    # Choose an ending state based on the probabilities\n",
    "    ending_state = np.random.choice(transition_probs.index, p=transition_probs.values)\n",
    "    \n",
    "    return ending_state"
   ]
  },
  {
   "cell_type": "code",
   "execution_count": 8,
   "metadata": {},
   "outputs": [],
   "source": [
    "#game starts with team_a = 0, team_b = 0, time = 20*60"
   ]
  },
  {
   "cell_type": "code",
   "execution_count": 9,
   "metadata": {},
   "outputs": [],
   "source": [
    "a_score = 0\n",
    "b_score = 0\n",
    "time_remaining = 20*60"
   ]
  },
  {
   "cell_type": "code",
   "execution_count": null,
   "metadata": {},
   "outputs": [],
   "source": []
  },
  {
   "cell_type": "code",
   "execution_count": 10,
   "metadata": {},
   "outputs": [
    {
     "name": "stdout",
     "output_type": "stream",
     "text": [
      "First Half Result: \n",
      "    Transition Team_A Team_B Time Team_A_Final Team_B_Final\n",
      "11  (Bi2, Ar0)      0      0   -5           54           36\n"
     ]
    }
   ],
   "source": [
    "first_half_events = pd.DataFrame(columns=['Transition','Team_A','Team_B','Time'])\n",
    "time_remaining=20*60\n",
    "#first crack at real simulation - will be slowed by dataframe transition lookup - would be better to use each unique\n",
    "#transition as a key with the value being the time distribution, but can switch later\n",
    "current_state = np.random.choice(['Ai0','Bi0'])\n",
    "while time_remaining >= 0:\n",
    "    next_state = choose_ending_state(current_state)\n",
    "    transition = (current_state, next_state)\n",
    "    possible_times = transition_times[transition_times['Transition']==transition].copy()\n",
    "    time_elapsed = np.random.choice(possible_times['Time'])\n",
    "\n",
    "    time_remaining-=time_elapsed\n",
    "\n",
    "    play_score = scoring[scoring['Transition']==transition].copy()\n",
    "    play_score['Time'] = time_remaining\n",
    "    first_half_events = pd.concat([first_half_events, play_score])\n",
    "    current_state = next_state\n",
    "\n",
    "first_half_events['Team_A_Final'] = first_half_events['Team_A'].cumsum()\n",
    "first_half_events['Team_B_Final'] = first_half_events['Team_B'].cumsum()\n",
    "\n",
    "print('First Half Result: ')\n",
    "print(first_half_events.tail(1))\n",
    "\n",
    "second_half_events=pd.DataFrame(columns=['Transition','Team_A','Team_B','Time'])\n",
    "\n",
    "current_state = np.random.choice(['Ai0','Bi0'])\n",
    "time_remaining=20*60\n",
    "while time_remaining >= 0:\n",
    "    next_state = choose_ending_state(current_state)\n",
    "    transition = (current_state, next_state)\n",
    "    possible_times = transition_times[transition_times['Transition']==transition].copy()\n",
    "    time_elapsed = np.random.choice(possible_times['Time'])\n",
    "\n",
    "    time_remaining-=time_elapsed\n",
    "\n",
    "    play_score = scoring[scoring['Transition']==transition].copy()\n",
    "    play_score['Time'] = time_remaining\n",
    "    second_half_events = pd.concat([second_half_events, play_score])\n",
    "    current_state = next_state\n",
    "\n",
    "first_half_events['Period']=1\n",
    "second_half_events['Period']=2\n",
    "\n",
    "final_df = pd.concat([first_half_events,second_half_events])\n",
    "\n",
    "final_df['Team_A_Final'] = final_df['Team_A'].cumsum()\n",
    "final_df['Team_B_Final'] = final_df['Team_B'].cumsum()"
   ]
  },
  {
   "cell_type": "code",
   "execution_count": null,
   "metadata": {},
   "outputs": [],
   "source": []
  },
  {
   "cell_type": "code",
   "execution_count": 49,
   "metadata": {},
   "outputs": [
    {
     "name": "stderr",
     "output_type": "stream",
     "text": [
      "100%|██████████| 10/10 [01:08<00:00,  6.81s/it]\n"
     ]
    }
   ],
   "source": [
    "#simulate that game 100 times to see average margin...\n",
    "margins = []\n",
    "times1 = []\n",
    "times2 = []\n",
    "times3 = []\n",
    "times4 = []\n",
    "\n",
    "\n",
    "\n",
    "\n",
    "\n",
    "\n",
    "for i in tqdm(range(10)):\n",
    "    \n",
    "\n",
    "\n",
    "    first_half_events = pd.DataFrame(columns=['Transition','Team_A','Team_B','Time'])\n",
    "    time_remaining=20*60\n",
    "    #first crack at real simulation - will be slowed by dataframe transition lookup - would be better to use each unique\n",
    "    #transition as a key with the value being the time distribution, but can switch later\n",
    "    current_state = np.random.choice(['Ai0','Bi0'])\n",
    "    while time_remaining >= 0:\n",
    "        tstart = time.time()\n",
    "\n",
    "        next_state = choose_ending_state(current_state)\n",
    "        transition = (current_state, next_state)\n",
    "        #time to choose state - times1\n",
    "        t1=time.time()\n",
    "        times1.append(t1-tstart)\n",
    "\n",
    "\n",
    "        #time to poll random duration - times2\n",
    "        possible_times = transition_times[transition_times['Transition']==transition].copy()\n",
    "        time_elapsed = np.random.choice(possible_times['Time'])\n",
    "\n",
    "        time_remaining-=time_elapsed\n",
    "        t2=time.time()\n",
    "        times2.append(t2-t1)\n",
    "\n",
    "        #time to add score to df - times3\n",
    "        play_score = scoring[scoring['Transition']==transition].copy()\n",
    "        play_score['Time'] = time_remaining\n",
    "        first_half_events = pd.concat([first_half_events, play_score])\n",
    "        current_state = next_state\n",
    "        t3 = time.time()\n",
    "        times3.append(t3-t2)\n",
    "\n",
    "    first_half_events['Team_A_Final'] = first_half_events['Team_A'].cumsum()\n",
    "    first_half_events['Team_B_Final'] = first_half_events['Team_B'].cumsum()\n",
    "\n",
    "    # print('First Half Result: ')\n",
    "    # print(first_half_events.tail(1))\n",
    "\n",
    "    second_half_events=pd.DataFrame(columns=['Transition','Team_A','Team_B','Time'])\n",
    "\n",
    "    current_state = np.random.choice(['Ai0','Bi0'])\n",
    "    time_remaining=20*60\n",
    "    while time_remaining >= 0:\n",
    "        tstart = time.time()\n",
    "        next_state = choose_ending_state(current_state)\n",
    "        transition = (current_state, next_state)\n",
    "        #time to choose state - times1\n",
    "        t1=time.time()\n",
    "        times1.append(t1-tstart)\n",
    "\n",
    "\n",
    "        possible_times = transition_times[transition_times['Transition']==transition].copy()\n",
    "        time_elapsed = np.random.choice(possible_times['Time'])\n",
    "\n",
    "        time_remaining-=time_elapsed\n",
    "        t2=time.time()\n",
    "        times2.append(t2-t1)\n",
    "\n",
    "        play_score = scoring[scoring['Transition']==transition].copy()\n",
    "        play_score['Time'] = time_remaining\n",
    "        second_half_events = pd.concat([second_half_events, play_score])\n",
    "        current_state = next_state\n",
    "        t3 = time.time()\n",
    "        times3.append(t3-t2)\n",
    "\n",
    "    first_half_events['Period']=1\n",
    "    second_half_events['Period']=2\n",
    "\n",
    "    final_df = pd.concat([first_half_events,second_half_events])\n",
    "\n",
    "    final_df['Team_A_Final'] = final_df['Team_A'].cumsum()\n",
    "    final_df['Team_B_Final'] = final_df['Team_B'].cumsum()\n",
    "\n",
    "    #calculate margin\n",
    "    team_a_score = final_df.iloc[-1]['Team_A_Final']\n",
    "    team_b_score = final_df.iloc[-1]['Team_B_Final']\n",
    "    simulated_margin = team_a_score - team_b_score\n",
    "    margins.append(simulated_margin)\n",
    "\n",
    "\n"
   ]
  },
  {
   "cell_type": "code",
   "execution_count": 50,
   "metadata": {},
   "outputs": [
    {
     "data": {
      "text/plain": [
       "0.00016123721727713785"
      ]
     },
     "execution_count": 50,
     "metadata": {},
     "output_type": "execute_result"
    }
   ],
   "source": [
    "np.mean(times1)"
   ]
  },
  {
   "cell_type": "code",
   "execution_count": 51,
   "metadata": {},
   "outputs": [
    {
     "data": {
      "text/plain": [
       "0.029970876328376767"
      ]
     },
     "execution_count": 51,
     "metadata": {},
     "output_type": "execute_result"
    }
   ],
   "source": [
    "np.mean(times2)"
   ]
  },
  {
   "cell_type": "code",
   "execution_count": 52,
   "metadata": {},
   "outputs": [
    {
     "data": {
      "text/plain": [
       "0.0011130668287929943"
      ]
     },
     "execution_count": 52,
     "metadata": {},
     "output_type": "execute_result"
    }
   ],
   "source": [
    "np.mean(times3)"
   ]
  },
  {
   "cell_type": "code",
   "execution_count": 53,
   "metadata": {},
   "outputs": [
    {
     "data": {
      "text/plain": [
       "(array([0., 2., 0., 0., 0., 1., 0., 1., 2., 1., 3., 0., 0.]),\n",
       " array([-20., -15., -10.,  -5.,   0.,   5.,  10.,  15.,  20.,  25.,  30.,\n",
       "         35.,  40.,  45.]),\n",
       " <BarContainer object of 13 artists>)"
      ]
     },
     "execution_count": 53,
     "metadata": {},
     "output_type": "execute_result"
    },
    {
     "data": {
      "image/png": "[encoded data removed]",
      "text/plain": [
       "<Figure size 640x480 with 1 Axes>"
      ]
     },
     "metadata": {},
     "output_type": "display_data"
    }
   ],
   "source": [
    "plt.hist(margins, bins=np.linspace(-20,45,14))"
   ]
  },
  {
   "cell_type": "code",
   "execution_count": 54,
   "metadata": {},
   "outputs": [],
   "source": [
    "def choose_ending_state_2(state):\n",
    "    # Get the row corresponding to the starting state\n",
    "    transition_probs = transition_matrix_2.loc[state]\n",
    "    \n",
    "    # Choose an ending state based on the probabilities\n",
    "    ending_state = np.random.choice(transition_probs.index, p=transition_probs.values)\n",
    "    \n",
    "    return ending_state"
   ]
  },
  {
   "cell_type": "code",
   "execution_count": 61,
   "metadata": {},
   "outputs": [
    {
     "name": "stdout",
     "output_type": "stream",
     "text": [
      "First Half Result: \n",
      "    Transition Team_A Team_B Time Team_A_Final Team_B_Final\n",
      "17  (Ai2, Bi2)      2      0  -20           35           35\n"
     ]
    }
   ],
   "source": [
    "first_half_events = pd.DataFrame(columns=['Transition','Team_A','Team_B','Time'])\n",
    "time_remaining=20*60\n",
    "#first crack at real simulation - will be slowed by dataframe transition lookup - would be better to use each unique\n",
    "#transition as a key with the value being the time distribution, but can switch later\n",
    "current_state = np.random.choice(['Ai0','Bi0'])\n",
    "while time_remaining >= 0:\n",
    "    next_state = choose_ending_state_2(current_state)\n",
    "    transition = (current_state, next_state)\n",
    "    possible_times = transition_times[transition_times['Transition']==transition].copy()\n",
    "    time_elapsed = np.random.choice(possible_times['Time'])\n",
    "\n",
    "    time_remaining-=time_elapsed\n",
    "\n",
    "    play_score = scoring[scoring['Transition']==transition].copy()\n",
    "    play_score['Time'] = time_remaining\n",
    "    first_half_events = pd.concat([first_half_events, play_score])\n",
    "    current_state = next_state\n",
    "\n",
    "first_half_events['Team_A_Final'] = first_half_events['Team_A'].cumsum()\n",
    "first_half_events['Team_B_Final'] = first_half_events['Team_B'].cumsum()\n",
    "\n",
    "print('First Half Result: ')\n",
    "print(first_half_events.tail(1))\n",
    "\n",
    "second_half_events=pd.DataFrame(columns=['Transition','Team_A','Team_B','Time'])\n",
    "\n",
    "current_state = np.random.choice(['Ai0','Bi0'])\n",
    "time_remaining=20*60\n",
    "while time_remaining >= 0:\n",
    "    next_state = choose_ending_state_2(current_state)\n",
    "    transition = (current_state, next_state)\n",
    "    possible_times = transition_times[transition_times['Transition']==transition].copy()\n",
    "    time_elapsed = np.random.choice(possible_times['Time'])\n",
    "\n",
    "    time_remaining-=time_elapsed\n",
    "\n",
    "    play_score = scoring[scoring['Transition']==transition].copy()\n",
    "    play_score['Time'] = time_remaining\n",
    "    second_half_events = pd.concat([second_half_events, play_score])\n",
    "    current_state = next_state\n",
    "\n",
    "first_half_events['Period']=1\n",
    "second_half_events['Period']=2\n",
    "\n",
    "final_df = pd.concat([first_half_events,second_half_events])\n",
    "\n",
    "final_df['Team_A_Final'] = final_df['Team_A'].cumsum()\n",
    "final_df['Team_B_Final'] = final_df['Team_B'].cumsum()"
   ]
  },
  {
   "cell_type": "code",
   "execution_count": 62,
   "metadata": {},
   "outputs": [
    {
     "data": {
      "text/html": [
       "<div>\n",
       "<style scoped>\n",
       "    .dataframe tbody tr th:only-of-type {\n",
       "        vertical-align: middle;\n",
       "    }\n",
       "\n",
       "    .dataframe tbody tr th {\n",
       "        vertical-align: top;\n",
       "    }\n",
       "\n",
       "    .dataframe thead th {\n",
       "        text-align: right;\n",
       "    }\n",
       "</style>\n",
       "<table border=\"1\" class=\"dataframe\">\n",
       "  <thead>\n",
       "    <tr style=\"text-align: right;\">\n",
       "      <th></th>\n",
       "      <th>Transition</th>\n",
       "      <th>Team_A</th>\n",
       "      <th>Team_B</th>\n",
       "      <th>Time</th>\n",
       "      <th>Team_A_Final</th>\n",
       "      <th>Team_B_Final</th>\n",
       "      <th>Period</th>\n",
       "    </tr>\n",
       "  </thead>\n",
       "  <tbody>\n",
       "    <tr>\n",
       "      <th>29</th>\n",
       "      <td>(Ai0, Br0)</td>\n",
       "      <td>0</td>\n",
       "      <td>0</td>\n",
       "      <td>1184</td>\n",
       "      <td>0</td>\n",
       "      <td>0</td>\n",
       "      <td>1</td>\n",
       "    </tr>\n",
       "    <tr>\n",
       "      <th>22</th>\n",
       "      <td>(Br0, Bf0)</td>\n",
       "      <td>0</td>\n",
       "      <td>0</td>\n",
       "      <td>1183</td>\n",
       "      <td>0</td>\n",
       "      <td>0</td>\n",
       "      <td>1</td>\n",
       "    </tr>\n",
       "    <tr>\n",
       "      <th>23</th>\n",
       "      <td>(Bf0, Bf1)</td>\n",
       "      <td>0</td>\n",
       "      <td>1</td>\n",
       "      <td>1183</td>\n",
       "      <td>0</td>\n",
       "      <td>1</td>\n",
       "      <td>1</td>\n",
       "    </tr>\n",
       "    <tr>\n",
       "      <th>65</th>\n",
       "      <td>(Bf1, Ar0)</td>\n",
       "      <td>0</td>\n",
       "      <td>0</td>\n",
       "      <td>1181</td>\n",
       "      <td>0</td>\n",
       "      <td>1</td>\n",
       "      <td>1</td>\n",
       "    </tr>\n",
       "    <tr>\n",
       "      <th>18</th>\n",
       "      <td>(Ar0, Bi2)</td>\n",
       "      <td>2</td>\n",
       "      <td>0</td>\n",
       "      <td>1177</td>\n",
       "      <td>2</td>\n",
       "      <td>1</td>\n",
       "      <td>1</td>\n",
       "    </tr>\n",
       "    <tr>\n",
       "      <th>...</th>\n",
       "      <td>...</td>\n",
       "      <td>...</td>\n",
       "      <td>...</td>\n",
       "      <td>...</td>\n",
       "      <td>...</td>\n",
       "      <td>...</td>\n",
       "      <td>...</td>\n",
       "    </tr>\n",
       "    <tr>\n",
       "      <th>36</th>\n",
       "      <td>(Ai2, Br0)</td>\n",
       "      <td>0</td>\n",
       "      <td>0</td>\n",
       "      <td>38</td>\n",
       "      <td>84</td>\n",
       "      <td>58</td>\n",
       "      <td>2</td>\n",
       "    </tr>\n",
       "    <tr>\n",
       "      <th>4</th>\n",
       "      <td>(Br0, Ar0)</td>\n",
       "      <td>0</td>\n",
       "      <td>0</td>\n",
       "      <td>29</td>\n",
       "      <td>84</td>\n",
       "      <td>58</td>\n",
       "      <td>2</td>\n",
       "    </tr>\n",
       "    <tr>\n",
       "      <th>3</th>\n",
       "      <td>(Ar0, Br0)</td>\n",
       "      <td>0</td>\n",
       "      <td>0</td>\n",
       "      <td>20</td>\n",
       "      <td>84</td>\n",
       "      <td>58</td>\n",
       "      <td>2</td>\n",
       "    </tr>\n",
       "    <tr>\n",
       "      <th>32</th>\n",
       "      <td>(Br0, Br0)</td>\n",
       "      <td>0</td>\n",
       "      <td>0</td>\n",
       "      <td>3</td>\n",
       "      <td>84</td>\n",
       "      <td>58</td>\n",
       "      <td>2</td>\n",
       "    </tr>\n",
       "    <tr>\n",
       "      <th>20</th>\n",
       "      <td>(Br0, Ai2)</td>\n",
       "      <td>0</td>\n",
       "      <td>2</td>\n",
       "      <td>-2</td>\n",
       "      <td>84</td>\n",
       "      <td>60</td>\n",
       "      <td>2</td>\n",
       "    </tr>\n",
       "  </tbody>\n",
       "</table>\n",
       "<p>223 rows × 7 columns</p>\n",
       "</div>"
      ],
      "text/plain": [
       "    Transition Team_A Team_B  Time Team_A_Final Team_B_Final  Period\n",
       "29  (Ai0, Br0)      0      0  1184            0            0       1\n",
       "22  (Br0, Bf0)      0      0  1183            0            0       1\n",
       "23  (Bf0, Bf1)      0      1  1183            0            1       1\n",
       "65  (Bf1, Ar0)      0      0  1181            0            1       1\n",
       "18  (Ar0, Bi2)      2      0  1177            2            1       1\n",
       "..         ...    ...    ...   ...          ...          ...     ...\n",
       "36  (Ai2, Br0)      0      0    38           84           58       2\n",
       "4   (Br0, Ar0)      0      0    29           84           58       2\n",
       "3   (Ar0, Br0)      0      0    20           84           58       2\n",
       "32  (Br0, Br0)      0      0     3           84           58       2\n",
       "20  (Br0, Ai2)      0      2    -2           84           60       2\n",
       "\n",
       "[223 rows x 7 columns]"
      ]
     },
     "execution_count": 62,
     "metadata": {},
     "output_type": "execute_result"
    }
   ],
   "source": [
    "final_df"
   ]
  },
  {
   "cell_type": "code",
   "execution_count": 63,
   "metadata": {},
   "outputs": [
    {
     "name": "stderr",
     "output_type": "stream",
     "text": [
      "100%|██████████| 100/100 [13:36<00:00,  8.17s/it]\n"
     ]
    }
   ],
   "source": [
    "#simulate that game 100 times to see average margin...\n",
    "margins_2 = []\n",
    "for i in tqdm(range(100)):\n",
    "\n",
    "\n",
    "    first_half_events = pd.DataFrame(columns=['Transition','Team_A','Team_B','Time'])\n",
    "    time_remaining=20*60\n",
    "    #first crack at real simulation - will be slowed by dataframe transition lookup - would be better to use each unique\n",
    "    #transition as a key with the value being the time distribution, but can switch later\n",
    "    current_state = np.random.choice(['Ai0','Bi0'])\n",
    "    while time_remaining >= 0:\n",
    "        next_state = choose_ending_state_2(current_state)\n",
    "        transition = (current_state, next_state)\n",
    "        possible_times = transition_times[transition_times['Transition']==transition].copy()\n",
    "        time_elapsed = np.random.choice(possible_times['Time'])\n",
    "\n",
    "        time_remaining-=time_elapsed\n",
    "\n",
    "        play_score = scoring[scoring['Transition']==transition].copy()\n",
    "        play_score['Time'] = time_remaining\n",
    "        first_half_events = pd.concat([first_half_events, play_score])\n",
    "        current_state = next_state\n",
    "\n",
    "    first_half_events['Team_A_Final'] = first_half_events['Team_A'].cumsum()\n",
    "    first_half_events['Team_B_Final'] = first_half_events['Team_B'].cumsum()\n",
    "\n",
    "    # print('First Half Result: ')\n",
    "    # print(first_half_events.tail(1))\n",
    "\n",
    "    second_half_events=pd.DataFrame(columns=['Transition','Team_A','Team_B','Time'])\n",
    "\n",
    "    current_state = np.random.choice(['Ai0','Bi0'])\n",
    "    time_remaining=20*60\n",
    "    while time_remaining >= 0:\n",
    "        next_state = choose_ending_state(current_state)\n",
    "        transition = (current_state, next_state)\n",
    "        possible_times = transition_times[transition_times['Transition']==transition].copy()\n",
    "        time_elapsed = np.random.choice(possible_times['Time'])\n",
    "\n",
    "        time_remaining-=time_elapsed\n",
    "\n",
    "        play_score = scoring[scoring['Transition']==transition].copy()\n",
    "        play_score['Time'] = time_remaining\n",
    "        second_half_events = pd.concat([second_half_events, play_score])\n",
    "        current_state = next_state\n",
    "\n",
    "    first_half_events['Period']=1\n",
    "    second_half_events['Period']=2\n",
    "\n",
    "    final_df = pd.concat([first_half_events,second_half_events])\n",
    "\n",
    "    final_df['Team_A_Final'] = final_df['Team_A'].cumsum()\n",
    "    final_df['Team_B_Final'] = final_df['Team_B'].cumsum()\n",
    "\n",
    "    #calculate margin\n",
    "    team_a_score = final_df.iloc[-1]['Team_A_Final']\n",
    "    team_b_score = final_df.iloc[-1]['Team_B_Final']\n",
    "    simulated_margin = team_a_score - team_b_score\n",
    "    margins_2.append(simulated_margin)\n",
    "\n"
   ]
  },
  {
   "cell_type": "code",
   "execution_count": 64,
   "metadata": {},
   "outputs": [
    {
     "data": {
      "text/plain": [
       "(array([ 1.,  1.,  8., 12., 16., 17., 25.,  9.,  7.,  4.]),\n",
       " array([-23. , -15.7,  -8.4,  -1.1,   6.2,  13.5,  20.8,  28.1,  35.4,\n",
       "         42.7,  50. ]),\n",
       " <BarContainer object of 10 artists>)"
      ]
     },
     "execution_count": 64,
     "metadata": {},
     "output_type": "execute_result"
    },
    {
     "data": {
      "image/png": "[encoded data removed]",
      "text/plain": [
       "<Figure size 640x480 with 1 Axes>"
      ]
     },
     "metadata": {},
     "output_type": "display_data"
    }
   ],
   "source": [
    "plt.hist(margins_2) #, bins=np.linspace(-20,45,14))"
   ]
  }
 ],
 "metadata": {
  "kernelspec": {
   "display_name": "base",
   "language": "python",
   "name": "python3"
  },
  "language_info": {
   "codemirror_mode": {
    "name": "ipython",
    "version": 3
   },
   "file_extension": ".py",
   "mimetype": "text/x-python",
   "name": "python",
   "nbconvert_exporter": "python",
   "pygments_lexer": "ipython3",
   "version": "3.9.13"
  }
 },
 "nbformat": 4,
 "nbformat_minor": 2
}
