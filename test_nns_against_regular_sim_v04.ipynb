{
 "cells": [
  {
   "cell_type": "code",
   "execution_count": 1,
   "metadata": {},
   "outputs": [
    {
     "name": "stdout",
     "output_type": "stream",
     "text": [
      "WARNING:tensorflow:From C:\\Users\\mdona\\AppData\\Roaming\\Python\\Python39\\site-packages\\keras\\src\\losses.py:2976: The name tf.losses.sparse_softmax_cross_entropy is deprecated. Please use tf.compat.v1.losses.sparse_softmax_cross_entropy instead.\n",
      "\n"
     ]
    }
   ],
   "source": [
    "#clean up in v02 and run tests\n",
    "#v03 cleaner\n",
    "#v04 moving NN's to py file\n",
    "\n",
    "import pandas as pd\n",
    "import os\n",
    "from tqdm import tqdm\n",
    "import time\n",
    "from matplotlib import pyplot as plt\n",
    "import numpy as np\n",
    "import tensorflow as tf\n",
    "from sklearn.model_selection import train_test_split\n",
    "from tensorflow.keras import layers, Model, regularizers\n",
    "from helper_functions.testing_functions import accuracy_distance, accuracy_moneyline, accuracy_ou\n",
    "from helper_functions.simulate_game import simulate_game\n",
    "from helper_functions.combine_matrices import combine_team_matrix\n",
    "from tensorflow.keras.losses import Loss\n",
    "import seaborn as sns\n",
    "import pickle\n",
    "from helper_functions import nn_architectures as nn"
   ]
  },
  {
   "cell_type": "code",
   "execution_count": 2,
   "metadata": {},
   "outputs": [],
   "source": [
    "def calc_dist(x1,x2,y1,y2):\n",
    "    return np.sqrt((x1-y1)**2 + (x2-y2)**2)\n",
    "\n",
    "def calc_ou(x1,x2,y1,y2):\n",
    "    return (y1+y2) - (x1+x2)\n",
    "\n",
    "def calc_winner(x1,x2,y1,y2):\n",
    "    return (x1>x2)==(y1>y2)\n",
    "\n",
    "def calc_score(data, var='Distance'):\n",
    "    if var == 'Distance':\n",
    "        func = np.vectorize(calc_dist)\n",
    "    elif var == 'OU':\n",
    "        func=np.vectorize(calc_ou)\n",
    "    elif var == 'Winner':\n",
    "        func=np.vectorize(calc_winner)\n",
    "\n",
    "    result = func(data['Real Home Score'],\n",
    "                    data['Real Away Score'],\n",
    "                    data['Projected Home Score'],\n",
    "                    data['Projected Away Score'])\n",
    "    return result"
   ]
  },
  {
   "cell_type": "code",
   "execution_count": 3,
   "metadata": {},
   "outputs": [],
   "source": [
    "avg_matrix = pd.read_excel('avg_transition_matrix_with_manual_edits.xlsx', sheet_name = 'Mean Pasted', index_col='Starting_State')"
   ]
  },
  {
   "cell_type": "code",
   "execution_count": 4,
   "metadata": {},
   "outputs": [],
   "source": [
    "#load game data\n",
    "with open('ma_list.pickle', 'rb') as file:\n",
    "    ma_list = pickle.load(file)\n",
    "\n",
    "with open('mb_list.pickle', 'rb') as file:\n",
    "    mb_list = pickle.load(file)\n",
    "\n",
    "with open('output_list.pickle', 'rb') as file:\n",
    "    output_list = pickle.load(file)"
   ]
  },
  {
   "cell_type": "code",
   "execution_count": 5,
   "metadata": {},
   "outputs": [
    {
     "name": "stderr",
     "output_type": "stream",
     "text": [
      "100%|██████████| 5498/5498 [00:00<00:00, 2750182.87it/s]\n"
     ]
    }
   ],
   "source": [
    "#going to zip these into dicts to access by game ID\n",
    "game_ids = []\n",
    "for game in tqdm(os.listdir('raw_game_pulls')):\n",
    "    game_ids.append(game.split('_')[0])\n",
    "\n",
    "\n",
    "#FINAL RAW DICTS\n",
    "team_A_matrices_raw = dict(zip(game_ids, ma_list))\n",
    "team_B_matrices_raw = dict(zip(game_ids, mb_list))\n",
    "outputs_raw = dict(zip(game_ids, output_list))"
   ]
  },
  {
   "cell_type": "code",
   "execution_count": 6,
   "metadata": {},
   "outputs": [],
   "source": [
    "#transform regular output data into argmax array form\n",
    "arr_outputs = []\n",
    "for x in output_list:\n",
    "    value1, value2 = x\n",
    "\n",
    "    # Create numpy arrays\n",
    "    array1 = np.zeros(201)\n",
    "    array2 = np.zeros(201)\n",
    "\n",
    "    # Set the corresponding indices to 1\n",
    "    array1[value1 - 1] = 1\n",
    "    array2[value2 - 1] = 1 \n",
    "    arr_outputs.append((array1, array2))\n",
    "\n",
    "#FINAL ARRAY DICT\n",
    "outputs_array = dict(zip(game_ids, arr_outputs))"
   ]
  },
  {
   "cell_type": "code",
   "execution_count": 7,
   "metadata": {},
   "outputs": [],
   "source": [
    "#normalize inputs ###############################################################################\n",
    "\n",
    "with open('helper_functions/avg_input_matrix.pickle', 'rb') as file:\n",
    "    avg_df = pickle.load(file)\n",
    "\n",
    "with open('helper_functions/std_input_matrix.pickle', 'rb') as file:\n",
    "    std_dev_df = pickle.load(file)\n",
    "\n",
    "norm_inputs_a = []\n",
    "norm_inputs_b = []\n",
    "\n",
    "#Normalize each value in each matrix\n",
    "for matrix in ma_list:\n",
    "    normalized_matrix = (matrix - avg_df) / std_dev_df\n",
    "    normalized_matrix=normalized_matrix.fillna(0.)\n",
    "    norm_inputs_a.append(normalized_matrix)\n",
    "\n",
    "for matrix in mb_list:\n",
    "    normalized_matrix = (matrix - avg_df) / std_dev_df\n",
    "    normalized_matrix=normalized_matrix.fillna(0.)\n",
    "    norm_inputs_b.append(normalized_matrix)\n",
    "\n",
    "\n",
    "#NORMALIZED MATRIX DICTS\n",
    "team_A_matrices_normal = dict(zip(game_ids, norm_inputs_a))\n",
    "team_B_matrices_normal = dict(zip(game_ids, norm_inputs_b))"
   ]
  },
  {
   "cell_type": "code",
   "execution_count": 8,
   "metadata": {},
   "outputs": [],
   "source": [
    "#load saved simulations into dicts with game ID and 1000 scores\n",
    "saved_sim_ids = [x.split('.')[0] for x in os.listdir('saved_sims_small')]\n",
    "simulated_scores = []\n",
    "for x in  os.listdir('saved_sims_small'):\n",
    "    with open('saved_sims_small/{}'.format(x), 'rb') as file:\n",
    "        data=pickle.load(file)\n",
    "        simulated_scores.append(data)\n",
    "simulated_scores_dict = dict(zip(saved_sim_ids, simulated_scores))"
   ]
  },
  {
   "cell_type": "code",
   "execution_count": 9,
   "metadata": {},
   "outputs": [],
   "source": [
    "#train test split on simulated score game IDS \n",
    "train_index, test_index = train_test_split(list(simulated_scores_dict.keys()), test_size=0.2)"
   ]
  },
  {
   "cell_type": "code",
   "execution_count": null,
   "metadata": {},
   "outputs": [],
   "source": []
  },
  {
   "cell_type": "code",
   "execution_count": 10,
   "metadata": {},
   "outputs": [],
   "source": [
    "#matrix_A_train is list of normalized input matrices used for training NN\n",
    "matrix_A_train = [team_A_matrices_normal[x] for x in train_index]\n",
    "matrix_B_train = [team_B_matrices_normal[x] for x in train_index]\n",
    "\n",
    "\n",
    "#y_train is training list of argmax formatted outputs\n",
    "y_train = [outputs_array[x] for x in train_index]\n",
    "\n",
    "#matrix_A_test is list of normalized input matrices used for testing NN\n",
    "matrix_A_test = [team_A_matrices_normal[x] for x in test_index]\n",
    "matrix_B_test = [team_B_matrices_normal[x] for x in test_index]\n",
    "\n",
    "#y_test is testing list of argmax formatted outputs\n",
    "y_test=[outputs_array[x] for x in test_index]\n",
    "\n",
    "#get testing versions of raw outputs (not for NN testing, just accuracy calcs)\n",
    "final_scores_test = [outputs_raw[x] for x in test_index]\n",
    "\n",
    "#do same as above for regular simulation testing - not normalized and no training data needed\n",
    "simulation_output_test = [simulated_scores_dict[x] for x in test_index]"
   ]
  },
  {
   "cell_type": "code",
   "execution_count": 11,
   "metadata": {},
   "outputs": [],
   "source": [
    "def test_nn_output(model, game_index, num_sims):\n",
    "    #Pull and Convert test matrices to numpy arrays\n",
    "    test_matrix_a_array = matrix_A_test[test_index.index(game_index)].values.reshape(-1, 18, 18)\n",
    "    test_matrix_b_array = matrix_B_test[test_index.index(game_index)].values.reshape(-1, 18, 18)\n",
    "\n",
    "    predictions = model.predict([test_matrix_a_array, test_matrix_b_array], verbose=0)\n",
    "\n",
    "    home_scores = np.random.choice(np.arange(1,202), num_sims, p=predictions[0][0])\n",
    "    away_scores = np.random.choice(np.arange(1,202), num_sims, p=predictions[1][0])\n",
    "\n",
    "    current_df = pd.DataFrame(zip(home_scores, away_scores), columns = ['Home','Away'])\n",
    "    current_df['Game']=game_index\n",
    "    return current_df"
   ]
  },
  {
   "cell_type": "code",
   "execution_count": 12,
   "metadata": {},
   "outputs": [],
   "source": [
    "#variables list\n",
    "\n",
    "#ALL GAMES:\n",
    "#team_A_matrices_raw - dict of key: game_id, val: home team matrix\n",
    "#team_B_matrices_raw - dict of key: game_id, val: away team matrix\n",
    "#outputs_raw - dict of key: game_id, val: final score tuple\n",
    "#outputs_array - dict of key: game_id, val: array version of output (one-hot format)\n",
    "#team_A_matrices_normal - dict of key: game_id, val: normalized home team matrix\n",
    "#team_B_matrices_normal - dict of key: game_id, val: normalized away team matrix\n",
    "\n",
    "#saved_sim_ids - list of game IDS in simulated data\n",
    "#simulated_scores_dict - dict of key: game_id, val: list of 1000 score tuples\n",
    "\n",
    "#train_index, test_index - lists of game id's for training and testing\n",
    "\n",
    "#TRAINING GAMES:\n",
    "#matrix_A_train - list of normalized home team matrices for training\n",
    "#matrix_B_train - list of normalized away team matrices for training\n",
    "#y_train - list of one-hot outputs for training\n",
    "\n",
    "#TESTING GAMES:\n",
    "#matrix_A_test - list of normalized home team matrices for testing\n",
    "#matrix_B_test - list of normalized away team matrices for testing\n",
    "#y_test - list of one-hot outputs for testing\n",
    "\n",
    "#simulation_output_test - list of 1000 score tuples for testing\n",
    "#final_scores_test - "
   ]
  },
  {
   "cell_type": "code",
   "execution_count": null,
   "metadata": {},
   "outputs": [],
   "source": []
  },
  {
   "cell_type": "code",
   "execution_count": 15,
   "metadata": {},
   "outputs": [],
   "source": [
    "m1 = nn.train_model(nn.nn1, \n",
    "                    matrix_A_train, \n",
    "                    matrix_B_train, \n",
    "                    y_train, 10, 64)"
   ]
  },
  {
   "cell_type": "code",
   "execution_count": 20,
   "metadata": {},
   "outputs": [
    {
     "name": "stderr",
     "output_type": "stream",
     "text": [
      "100%|██████████| 1100/1100 [00:05<00:00, 198.11it/s]\n"
     ]
    }
   ],
   "source": [
    "data_list = []\n",
    "for g in tqdm(range(len(final_scores_test))):\n",
    "    real_score = final_scores_test[g]\n",
    "    current_1000 = simulation_output_test[g]\n",
    "    current_df = pd.DataFrame(current_1000, columns=['Projected Home Score','Projected Away Score'])\n",
    "    current_df['Game'] = test_index[g]\n",
    "    current_df['Real Home Score'] = real_score[0]\n",
    "    current_df['Real Away Score'] = real_score[1]\n",
    "    data_list.append(current_df)\n",
    "testing_dataframe = pd.concat(data_list).reset_index(drop=True)"
   ]
  },
  {
   "cell_type": "code",
   "execution_count": 21,
   "metadata": {},
   "outputs": [],
   "source": [
    "testing_dataframe['Distance'] = calc_score(testing_dataframe)\n",
    "testing_dataframe['OU'] = calc_score(testing_dataframe, 'OU')\n",
    "testing_dataframe['Winner'] = calc_score(testing_dataframe, 'Winner')\n",
    "testing_df_grouped = testing_dataframe.groupby('Game')[['Distance','OU','Winner']].mean().reset_index()\n",
    "testing_df_grouped['Correct'] = testing_df_grouped['Winner']>0.5"
   ]
  },
  {
   "cell_type": "code",
   "execution_count": 22,
   "metadata": {},
   "outputs": [
    {
     "data": {
      "text/plain": [
       "0.7027272727272728"
      ]
     },
     "execution_count": 22,
     "metadata": {},
     "output_type": "execute_result"
    }
   ],
   "source": [
    "testing_df_grouped['Correct'].mean()"
   ]
  },
  {
   "cell_type": "code",
   "execution_count": 41,
   "metadata": {},
   "outputs": [],
   "source": [
    "m2 = nn.train_model(nn.nn1, matrix_A_train, matrix_B_train, y_train, 10, 64)"
   ]
  },
  {
   "cell_type": "code",
   "execution_count": 42,
   "metadata": {},
   "outputs": [],
   "source": [
    "m3=nn.train_model(nn.nn2, matrix_A_train, matrix_B_train, y_train, 10, 64)"
   ]
  },
  {
   "cell_type": "code",
   "execution_count": 43,
   "metadata": {},
   "outputs": [],
   "source": [
    "m4=nn.train_model(nn.nn3, matrix_A_train, matrix_B_train, y_train, 10, 64)"
   ]
  },
  {
   "cell_type": "code",
   "execution_count": 44,
   "metadata": {},
   "outputs": [],
   "source": [
    "m5=nn.train_model(nn.nn4, matrix_A_train, matrix_B_train, y_train, 10, 64)"
   ]
  },
  {
   "cell_type": "code",
   "execution_count": 45,
   "metadata": {},
   "outputs": [],
   "source": [
    "m6=nn.train_model(nn.nn5, matrix_A_train, matrix_B_train, y_train, 10, 64)"
   ]
  },
  {
   "cell_type": "code",
   "execution_count": 46,
   "metadata": {},
   "outputs": [],
   "source": [
    "nn_list=[m1,m2, m3, m4, m5, m6]"
   ]
  },
  {
   "cell_type": "code",
   "execution_count": 47,
   "metadata": {},
   "outputs": [
    {
     "name": "stderr",
     "output_type": "stream",
     "text": [
      "100%|██████████| 1100/1100 [01:08<00:00, 16.10it/s]\n",
      "100%|██████████| 1100/1100 [01:07<00:00, 16.29it/s]\n",
      "100%|██████████| 1100/1100 [01:08<00:00, 16.12it/s]\n",
      "100%|██████████| 1100/1100 [01:08<00:00, 16.08it/s]\n",
      "100%|██████████| 1100/1100 [01:08<00:00, 16.02it/s]\n",
      "100%|██████████| 1100/1100 [01:09<00:00, 15.88it/s]\n"
     ]
    }
   ],
   "source": [
    "models_dict=dict()\n",
    "models_dict['sim']=testing_df_grouped\n",
    "\n",
    "for model_num in range(len(nn_list)):    \n",
    "    current_data_list = []\n",
    "    for gid in tqdm(test_index):\n",
    "        real_score = final_scores_test[test_index.index(gid)]\n",
    "        current_nn_test = test_nn_output(nn_list[model_num], gid, 1000)\n",
    "        current_nn_test=current_nn_test.rename(columns={'Home':'Projected Home Score',\n",
    "                                                    'Away':'Projected Away Score'})\n",
    "        current_nn_test['Real Home Score'] = real_score[0]\n",
    "        current_nn_test['Real Away Score'] = real_score[1]\n",
    "\n",
    "        current_data_list.append(current_nn_test)\n",
    "\n",
    "    nn_testing_dataframe = pd.concat(current_data_list)\n",
    "\n",
    "    nn_testing_dataframe['Distance'] = calc_score(nn_testing_dataframe)\n",
    "    nn_testing_dataframe['OU'] = calc_score(nn_testing_dataframe, 'OU')\n",
    "    nn_testing_dataframe['Winner'] = calc_score(nn_testing_dataframe, 'Winner')\n",
    "\n",
    "    nn_testing_df_grouped = nn_testing_dataframe.groupby('Game')[['Distance','OU','Winner']].mean().reset_index()\n",
    "    nn_testing_df_grouped['Correct'] = nn_testing_df_grouped['Winner']>.5\n",
    "    models_dict['nn_{}'.format(model_num)]=nn_testing_df_grouped"
   ]
  },
  {
   "cell_type": "code",
   "execution_count": 48,
   "metadata": {},
   "outputs": [],
   "source": [
    "plot_data=dict()\n",
    "for var in ['Distance','OU','Winner','Correct']:\n",
    "    curr_dict=dict()\n",
    "    for model in models_dict.keys():\n",
    "        temp_df=models_dict[model][['Game',var]]\n",
    "        temp_df=temp_df.rename(columns={var:var+'_{}'.format(model)})\n",
    "        curr_dict[model]=temp_df\n",
    "    base_df=list(curr_dict.values())[0]\n",
    "    for df in list(curr_dict.values())[1:]:\n",
    "        base_df=base_df.merge(df, on='Game')\n",
    "    plot_data[var]=base_df\n"
   ]
  },
  {
   "cell_type": "code",
   "execution_count": 49,
   "metadata": {},
   "outputs": [
    {
     "data": {
      "image/png": "[encoded data removed]",
      "text/plain": [
       "<Figure size 576x576 with 1 Axes>"
      ]
     },
     "metadata": {
      "needs_background": "light"
     },
     "output_type": "display_data"
    },
    {
     "data": {
      "image/png": "[encoded data removed]",
      "text/plain": [
       "<Figure size 576x576 with 1 Axes>"
      ]
     },
     "metadata": {
      "needs_background": "light"
     },
     "output_type": "display_data"
    },
    {
     "data": {
      "image/png": "[encoded data removed]",
      "text/plain": [
       "<Figure size 576x576 with 1 Axes>"
      ]
     },
     "metadata": {
      "needs_background": "light"
     },
     "output_type": "display_data"
    },
    {
     "data": {
      "text/plain": [
       "Correct_sim     0.702727\n",
       "Correct_nn_0    0.731818\n",
       "Correct_nn_1    0.724545\n",
       "Correct_nn_2    0.673636\n",
       "Correct_nn_3    0.703636\n",
       "Correct_nn_4    0.721818\n",
       "Correct_nn_5    0.673636\n",
       "dtype: float64"
      ]
     },
     "execution_count": 49,
     "metadata": {},
     "output_type": "execute_result"
    }
   ],
   "source": [
    "for v in list(plot_data.values())[:-1]:\n",
    "    fig, ax=plt.subplots(figsize=(8,8))\n",
    "    to_plot=v.melt(id_vars='Game')\n",
    "    sns.boxplot(x='variable',y='value',data=to_plot)\n",
    "    plt.show()\n",
    "winner_accuracy = list(plot_data.values())[-1]\n",
    "winner_accuracy=winner_accuracy.drop('Game',axis=1).mean()\n",
    "winner_accuracy"
   ]
  },
  {
   "cell_type": "code",
   "execution_count": null,
   "metadata": {},
   "outputs": [],
   "source": [
    "nn_list=[m1,m2, m3, m4, m5, m6]"
   ]
  },
  {
   "cell_type": "code",
   "execution_count": 51,
   "metadata": {},
   "outputs": [],
   "source": [
    "with open('models/nn_732.pickle', 'wb') as handle:\n",
    "    pickle.dump(m1, handle)\n",
    "\n",
    "with open('models/nn_725.pickle', 'wb') as handle:\n",
    "    pickle.dump(m2, handle)\n",
    "\n",
    "with open('models/nn_722.pickle', 'wb') as handle:\n",
    "    pickle.dump(m5, handle)"
   ]
  }
 ],
 "metadata": {
  "kernelspec": {
   "display_name": "base",
   "language": "python",
   "name": "python3"
  },
  "language_info": {
   "codemirror_mode": {
    "name": "ipython",
    "version": 3
   },
   "file_extension": ".py",
   "mimetype": "text/x-python",
   "name": "python",
   "nbconvert_exporter": "python",
   "pygments_lexer": "ipython3",
   "version": "3.9.7"
  }
 },
 "nbformat": 4,
 "nbformat_minor": 2
}
