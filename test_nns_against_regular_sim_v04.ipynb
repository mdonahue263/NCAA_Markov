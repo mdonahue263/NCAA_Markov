{
 "cells": [
  {
   "cell_type": "code",
   "execution_count": 9,
   "metadata": {},
   "outputs": [],
   "source": [
    "#clean up in v02 and run tests\n",
    "#v03 cleaner\n",
    "#v04 moving NN's to py file\n",
    "\n",
    "import pandas as pd\n",
    "import os\n",
    "from tqdm import tqdm\n",
    "import time\n",
    "from matplotlib import pyplot as plt\n",
    "import numpy as np\n",
    "import tensorflow as tf\n",
    "from sklearn.model_selection import train_test_split\n",
    "from tensorflow.keras import layers, Model, regularizers\n",
    "from helper_functions.testing_functions import accuracy_distance, accuracy_moneyline, accuracy_ou\n",
    "from helper_functions.simulate_game import simulate_game\n",
    "from helper_functions.combine_matrices import combine_team_matrix\n",
    "from tensorflow.keras.losses import Loss\n",
    "import seaborn as sns\n",
    "import pickle\n",
    "from helper_functions import nn_architectures as nn"
   ]
  },
  {
   "cell_type": "code",
   "execution_count": 10,
   "metadata": {},
   "outputs": [],
   "source": [
    "def calc_dist(x1,x2,y1,y2):\n",
    "    return np.sqrt((x1-y1)**2 + (x2-y2)**2)\n",
    "\n",
    "def calc_ou(x1,x2,y1,y2):\n",
    "    return (y1+y2) - (x1+x2)\n",
    "\n",
    "def calc_winner(x1,x2,y1,y2):\n",
    "    return (x1>x2)==(y1>y2)\n",
    "\n",
    "def calc_score(data, var='Distance'):\n",
    "    if var == 'Distance':\n",
    "        func = np.vectorize(calc_dist)\n",
    "    elif var == 'OU':\n",
    "        func=np.vectorize(calc_ou)\n",
    "    elif var == 'Winner':\n",
    "        func=np.vectorize(calc_winner)\n",
    "\n",
    "    result = func(data['Real Home Score'],\n",
    "                    data['Real Away Score'],\n",
    "                    data['Projected Home Score'],\n",
    "                    data['Projected Away Score'])\n",
    "    return result"
   ]
  },
  {
   "cell_type": "code",
   "execution_count": 11,
   "metadata": {},
   "outputs": [],
   "source": [
    "avg_matrix = pd.read_excel('avg_transition_matrix_with_manual_edits.xlsx', sheet_name = 'Mean Pasted', index_col='Starting_State')"
   ]
  },
  {
   "cell_type": "code",
   "execution_count": 12,
   "metadata": {},
   "outputs": [],
   "source": [
    "#load game data\n",
    "with open('ma_list.pickle', 'rb') as file:\n",
    "    ma_list = pickle.load(file)\n",
    "\n",
    "with open('mb_list.pickle', 'rb') as file:\n",
    "    mb_list = pickle.load(file)\n",
    "\n",
    "with open('output_list.pickle', 'rb') as file:\n",
    "    output_list = pickle.load(file)"
   ]
  },
  {
   "cell_type": "code",
   "execution_count": 13,
   "metadata": {},
   "outputs": [
    {
     "name": "stderr",
     "output_type": "stream",
     "text": [
      "  0%|          | 0/5498 [00:00<?, ?it/s]"
     ]
    },
    {
     "name": "stderr",
     "output_type": "stream",
     "text": [
      "100%|██████████| 5498/5498 [00:00<00:00, 2747888.87it/s]\n"
     ]
    }
   ],
   "source": [
    "#going to zip these into dicts to access by game ID\n",
    "game_ids = []\n",
    "for game in tqdm(os.listdir('raw_game_pulls')):\n",
    "    game_ids.append(game.split('_')[0])\n",
    "\n",
    "\n",
    "#FINAL RAW DICTS\n",
    "team_A_matrices_raw = dict(zip(game_ids, ma_list))\n",
    "team_B_matrices_raw = dict(zip(game_ids, mb_list))\n",
    "outputs_raw = dict(zip(game_ids, output_list))"
   ]
  },
  {
   "cell_type": "code",
   "execution_count": 14,
   "metadata": {},
   "outputs": [],
   "source": [
    "#transform regular output data into argmax array form\n",
    "arr_outputs = []\n",
    "for x in output_list:\n",
    "    value1, value2 = x\n",
    "\n",
    "    # Create numpy arrays\n",
    "    array1 = np.zeros(201)\n",
    "    array2 = np.zeros(201)\n",
    "\n",
    "    # Set the corresponding indices to 1\n",
    "    array1[value1 - 1] = 1\n",
    "    array2[value2 - 1] = 1 \n",
    "    arr_outputs.append((array1, array2))\n",
    "\n",
    "#FINAL ARRAY DICT\n",
    "outputs_array = dict(zip(game_ids, arr_outputs))"
   ]
  },
  {
   "cell_type": "code",
   "execution_count": 15,
   "metadata": {},
   "outputs": [],
   "source": [
    "#normalize inputs ###############################################################################\n",
    "\n",
    "with open('helper_functions/avg_input_matrix.pickle', 'rb') as file:\n",
    "    avg_df = pickle.load(file)\n",
    "\n",
    "with open('helper_functions/std_input_matrix.pickle', 'rb') as file:\n",
    "    std_dev_df = pickle.load(file)\n",
    "\n",
    "norm_inputs_a = []\n",
    "norm_inputs_b = []\n",
    "\n",
    "#Normalize each value in each matrix\n",
    "for matrix in ma_list:\n",
    "    normalized_matrix = (matrix - avg_df) / std_dev_df\n",
    "    normalized_matrix=normalized_matrix.fillna(0.)\n",
    "    norm_inputs_a.append(normalized_matrix)\n",
    "\n",
    "for matrix in mb_list:\n",
    "    normalized_matrix = (matrix - avg_df) / std_dev_df\n",
    "    normalized_matrix=normalized_matrix.fillna(0.)\n",
    "    norm_inputs_b.append(normalized_matrix)\n",
    "\n",
    "\n",
    "#NORMALIZED MATRIX DICTS\n",
    "team_A_matrices_normal = dict(zip(game_ids, norm_inputs_a))\n",
    "team_B_matrices_normal = dict(zip(game_ids, norm_inputs_b))"
   ]
  },
  {
   "cell_type": "code",
   "execution_count": 16,
   "metadata": {},
   "outputs": [],
   "source": [
    "#load saved simulations into dicts with game ID and 1000 scores\n",
    "saved_sim_ids = [x.split('.')[0] for x in os.listdir('saved_sims_small')]\n",
    "simulated_scores = []\n",
    "for x in  os.listdir('saved_sims_small'):\n",
    "    with open('saved_sims_small/{}'.format(x), 'rb') as file:\n",
    "        data=pickle.load(file)\n",
    "        simulated_scores.append(data)\n",
    "simulated_scores_dict = dict(zip(saved_sim_ids, simulated_scores))"
   ]
  },
  {
   "cell_type": "code",
   "execution_count": 17,
   "metadata": {},
   "outputs": [],
   "source": [
    "#train test split on simulated score game IDS \n",
    "train_index, test_index = train_test_split(list(simulated_scores_dict.keys()), test_size=0.2)"
   ]
  },
  {
   "cell_type": "code",
   "execution_count": null,
   "metadata": {},
   "outputs": [],
   "source": []
  },
  {
   "cell_type": "code",
   "execution_count": 18,
   "metadata": {},
   "outputs": [],
   "source": [
    "#matrix_A_train is list of normalized input matrices used for training NN\n",
    "matrix_A_train = [team_A_matrices_normal[x] for x in train_index]\n",
    "matrix_B_train = [team_B_matrices_normal[x] for x in train_index]\n",
    "\n",
    "\n",
    "#y_train is training list of argmax formatted outputs\n",
    "y_train = [outputs_array[x] for x in train_index]\n",
    "\n",
    "#matrix_A_test is list of normalized input matrices used for testing NN\n",
    "matrix_A_test = [team_A_matrices_normal[x] for x in test_index]\n",
    "matrix_B_test = [team_B_matrices_normal[x] for x in test_index]\n",
    "\n",
    "#y_test is testing list of argmax formatted outputs\n",
    "y_test=[outputs_array[x] for x in test_index]\n",
    "\n",
    "#get testing versions of raw outputs (not for NN testing, just accuracy calcs)\n",
    "final_scores_test = [outputs_raw[x] for x in test_index]\n",
    "\n",
    "#do same as above for regular simulation testing - not normalized and no training data needed\n",
    "simulation_output_test = [simulated_scores_dict[x] for x in test_index]"
   ]
  },
  {
   "cell_type": "code",
   "execution_count": 19,
   "metadata": {},
   "outputs": [],
   "source": [
    "def test_nn_output(model, game_index, num_sims):\n",
    "    #Pull and Convert test matrices to numpy arrays\n",
    "    test_matrix_a_array = matrix_A_test[test_index.index(game_index)].values.reshape(-1, 18, 18)\n",
    "    test_matrix_b_array = matrix_B_test[test_index.index(game_index)].values.reshape(-1, 18, 18)\n",
    "\n",
    "    predictions = model.predict([test_matrix_a_array, test_matrix_b_array], verbose=0)\n",
    "\n",
    "    home_scores = np.random.choice(np.arange(1,202), num_sims, p=predictions[0][0])\n",
    "    away_scores = np.random.choice(np.arange(1,202), num_sims, p=predictions[1][0])\n",
    "\n",
    "    current_df = pd.DataFrame(zip(home_scores, away_scores), columns = ['Home','Away'])\n",
    "    current_df['Game']=game_index\n",
    "    return current_df"
   ]
  },
  {
   "cell_type": "code",
   "execution_count": 20,
   "metadata": {},
   "outputs": [],
   "source": [
    "#variables list\n",
    "\n",
    "#ALL GAMES:\n",
    "#team_A_matrices_raw - dict of key: game_id, val: home team matrix\n",
    "#team_B_matrices_raw - dict of key: game_id, val: away team matrix\n",
    "#outputs_raw - dict of key: game_id, val: final score tuple\n",
    "#outputs_array - dict of key: game_id, val: array version of output (one-hot format)\n",
    "#team_A_matrices_normal - dict of key: game_id, val: normalized home team matrix\n",
    "#team_B_matrices_normal - dict of key: game_id, val: normalized away team matrix\n",
    "\n",
    "#saved_sim_ids - list of game IDS in simulated data\n",
    "#simulated_scores_dict - dict of key: game_id, val: list of 1000 score tuples\n",
    "\n",
    "#train_index, test_index - lists of game id's for training and testing\n",
    "\n",
    "#TRAINING GAMES:\n",
    "#matrix_A_train - list of normalized home team matrices for training\n",
    "#matrix_B_train - list of normalized away team matrices for training\n",
    "#y_train - list of one-hot outputs for training\n",
    "\n",
    "#TESTING GAMES:\n",
    "#matrix_A_test - list of normalized home team matrices for testing\n",
    "#matrix_B_test - list of normalized away team matrices for testing\n",
    "#y_test - list of one-hot outputs for testing\n",
    "\n",
    "#simulation_output_test - list of 1000 score tuples for testing\n",
    "#final_scores_test - "
   ]
  },
  {
   "cell_type": "code",
   "execution_count": null,
   "metadata": {},
   "outputs": [],
   "source": []
  },
  {
   "cell_type": "code",
   "execution_count": 21,
   "metadata": {},
   "outputs": [
    {
     "name": "stdout",
     "output_type": "stream",
     "text": [
      "WARNING:tensorflow:From C:\\Users\\mdona\\AppData\\Roaming\\Python\\Python39\\site-packages\\keras\\src\\backend.py:1398: The name tf.executing_eagerly_outside_functions is deprecated. Please use tf.compat.v1.executing_eagerly_outside_functions instead.\n",
      "\n",
      "WARNING:tensorflow:From C:\\Users\\mdona\\AppData\\Roaming\\Python\\Python39\\site-packages\\keras\\src\\optimizers\\__init__.py:309: The name tf.train.Optimizer is deprecated. Please use tf.compat.v1.train.Optimizer instead.\n",
      "\n",
      "WARNING:tensorflow:From C:\\Users\\mdona\\AppData\\Roaming\\Python\\Python39\\site-packages\\keras\\src\\engine\\base_layer_utils.py:384: The name tf.executing_eagerly_outside_functions is deprecated. Please use tf.compat.v1.executing_eagerly_outside_functions instead.\n",
      "\n",
      "WARNING:tensorflow:From C:\\Users\\mdona\\AppData\\Roaming\\Python\\Python39\\site-packages\\keras\\src\\utils\\tf_utils.py:492: The name tf.ragged.RaggedTensorValue is deprecated. Please use tf.compat.v1.ragged.RaggedTensorValue instead.\n",
      "\n"
     ]
    }
   ],
   "source": [
    "m1 = nn.train_model(nn.nn1, \n",
    "                    matrix_A_train, \n",
    "                    matrix_B_train, \n",
    "                    y_train, 10, 64)"
   ]
  },
  {
   "cell_type": "code",
   "execution_count": 22,
   "metadata": {},
   "outputs": [
    {
     "name": "stderr",
     "output_type": "stream",
     "text": [
      "  0%|          | 0/1100 [00:00<?, ?it/s]"
     ]
    },
    {
     "name": "stderr",
     "output_type": "stream",
     "text": [
      "100%|██████████| 1100/1100 [00:05<00:00, 197.06it/s]\n"
     ]
    }
   ],
   "source": [
    "data_list = []\n",
    "for g in tqdm(range(len(final_scores_test))):\n",
    "    real_score = final_scores_test[g]\n",
    "    current_1000 = simulation_output_test[g]\n",
    "    current_df = pd.DataFrame(current_1000, columns=['Projected Home Score','Projected Away Score'])\n",
    "    current_df['Game'] = test_index[g]\n",
    "    current_df['Real Home Score'] = real_score[0]\n",
    "    current_df['Real Away Score'] = real_score[1]\n",
    "    data_list.append(current_df)\n",
    "testing_dataframe = pd.concat(data_list).reset_index(drop=True)"
   ]
  },
  {
   "cell_type": "code",
   "execution_count": 23,
   "metadata": {},
   "outputs": [],
   "source": [
    "testing_dataframe['Distance'] = calc_score(testing_dataframe)\n",
    "testing_dataframe['OU'] = calc_score(testing_dataframe, 'OU')\n",
    "testing_dataframe['Winner'] = calc_score(testing_dataframe, 'Winner')\n",
    "testing_df_grouped = testing_dataframe.groupby('Game')[['Distance','OU','Winner']].mean().reset_index()\n",
    "testing_df_grouped['Correct'] = testing_df_grouped['Winner']>0.5"
   ]
  },
  {
   "cell_type": "code",
   "execution_count": 24,
   "metadata": {},
   "outputs": [
    {
     "data": {
      "text/plain": [
       "0.6709090909090909"
      ]
     },
     "execution_count": 24,
     "metadata": {},
     "output_type": "execute_result"
    }
   ],
   "source": [
    "testing_df_grouped['Correct'].mean()"
   ]
  },
  {
   "cell_type": "code",
   "execution_count": 25,
   "metadata": {},
   "outputs": [],
   "source": [
    "m2 = nn.train_model(nn.nn1, matrix_A_train, matrix_B_train, y_train, 10, 64)"
   ]
  },
  {
   "cell_type": "code",
   "execution_count": 26,
   "metadata": {},
   "outputs": [],
   "source": [
    "m3=nn.train_model(nn.nn2, matrix_A_train, matrix_B_train, y_train, 10, 64)"
   ]
  },
  {
   "cell_type": "code",
   "execution_count": 27,
   "metadata": {},
   "outputs": [],
   "source": [
    "m4=nn.train_model(nn.nn3, matrix_A_train, matrix_B_train, y_train, 10, 64)"
   ]
  },
  {
   "cell_type": "code",
   "execution_count": 28,
   "metadata": {},
   "outputs": [],
   "source": [
    "m5=nn.train_model(nn.nn4, matrix_A_train, matrix_B_train, y_train, 10, 64)"
   ]
  },
  {
   "cell_type": "code",
   "execution_count": 29,
   "metadata": {},
   "outputs": [],
   "source": [
    "m6=nn.train_model(nn.nn5, matrix_A_train, matrix_B_train, y_train, 10, 64)"
   ]
  },
  {
   "cell_type": "code",
   "execution_count": 90,
   "metadata": {},
   "outputs": [],
   "source": [
    "m7=nn.train_model(nn.nn1, matrix_A_train, matrix_B_train, y_train, 16, 12)\n",
    "m8=nn.train_model(nn.nn3, matrix_A_train, matrix_B_train, y_train, 16, 12)\n",
    "m9=nn.train_model(nn.nn5, matrix_A_train, matrix_B_train, y_train, 6, 128)\n",
    "m10=nn.train_model(nn.nn4, matrix_A_train, matrix_B_train, y_train, 16, 8)\n",
    "m11=nn.train_model(nn.nn5, matrix_A_train, matrix_B_train, y_train, 10, 95)"
   ]
  },
  {
   "cell_type": "code",
   "execution_count": null,
   "metadata": {},
   "outputs": [],
   "source": []
  },
  {
   "cell_type": "code",
   "execution_count": 92,
   "metadata": {},
   "outputs": [],
   "source": [
    "nn_list=[m1,m2, m3, m4, m5, m6, m7, m8, m9, m10, m11]"
   ]
  },
  {
   "cell_type": "code",
   "execution_count": 93,
   "metadata": {},
   "outputs": [
    {
     "name": "stderr",
     "output_type": "stream",
     "text": [
      "100%|██████████| 1100/1100 [00:57<00:00, 19.15it/s]\n",
      "100%|██████████| 1100/1100 [00:57<00:00, 19.19it/s]\n",
      "100%|██████████| 1100/1100 [00:58<00:00, 18.85it/s]\n",
      "100%|██████████| 1100/1100 [00:56<00:00, 19.64it/s]\n",
      "100%|██████████| 1100/1100 [00:56<00:00, 19.55it/s]\n",
      "100%|██████████| 1100/1100 [01:12<00:00, 15.16it/s]\n",
      "100%|██████████| 1100/1100 [00:56<00:00, 19.53it/s]\n",
      "100%|██████████| 1100/1100 [00:56<00:00, 19.59it/s]\n",
      "100%|██████████| 1100/1100 [00:56<00:00, 19.62it/s]\n",
      "100%|██████████| 1100/1100 [00:56<00:00, 19.57it/s]\n",
      "100%|██████████| 1100/1100 [00:55<00:00, 19.69it/s]\n"
     ]
    }
   ],
   "source": [
    "models_dict=dict()\n",
    "models_dict['sim']=testing_df_grouped\n",
    "\n",
    "for model_num in range(len(nn_list)):    \n",
    "    current_data_list = []\n",
    "    for gid in tqdm(test_index):\n",
    "        real_score = final_scores_test[test_index.index(gid)]\n",
    "        current_nn_test = test_nn_output(nn_list[model_num], gid, 1000)\n",
    "        current_nn_test=current_nn_test.rename(columns={'Home':'Projected Home Score',\n",
    "                                                    'Away':'Projected Away Score'})\n",
    "        current_nn_test['Real Home Score'] = real_score[0]\n",
    "        current_nn_test['Real Away Score'] = real_score[1]\n",
    "\n",
    "        current_data_list.append(current_nn_test)\n",
    "\n",
    "    nn_testing_dataframe = pd.concat(current_data_list)\n",
    "\n",
    "    temp_df=nn_testing_dataframe.copy()\n",
    "    temp_df=temp_df.drop(['Real Home Score','Real Away Score'], axis=1).rename(columns={'Projected Home Score':'Projected Home Score {}'.format(model_num),\n",
    "                                                                                                    'Projected Away Score':'Projected Away Score {}'.format(model_num)})\n",
    "    if model_num == 0:\n",
    "        meta_tracker_df=temp_df.copy()\n",
    "    else:\n",
    "        meta_tracker_df=pd.concat([meta_tracker_df,temp_df],axis=1)\n",
    "\n",
    "\n",
    "    nn_testing_dataframe['Distance'] = calc_score(nn_testing_dataframe)\n",
    "    nn_testing_dataframe['OU'] = calc_score(nn_testing_dataframe, 'OU')\n",
    "    nn_testing_dataframe['Winner'] = calc_score(nn_testing_dataframe, 'Winner')\n",
    "\n",
    "    nn_testing_df_grouped = nn_testing_dataframe.groupby('Game')[['Distance','OU','Winner']].mean().reset_index()\n",
    "    nn_testing_df_grouped['Correct'] = nn_testing_df_grouped['Winner']>.5\n",
    "    models_dict['nn_{}'.format(model_num)]=nn_testing_df_grouped"
   ]
  },
  {
   "cell_type": "code",
   "execution_count": 94,
   "metadata": {},
   "outputs": [
    {
     "data": {
      "text/html": [
       "<div>\n",
       "<style scoped>\n",
       "    .dataframe tbody tr th:only-of-type {\n",
       "        vertical-align: middle;\n",
       "    }\n",
       "\n",
       "    .dataframe tbody tr th {\n",
       "        vertical-align: top;\n",
       "    }\n",
       "\n",
       "    .dataframe thead th {\n",
       "        text-align: right;\n",
       "    }\n",
       "</style>\n",
       "<table border=\"1\" class=\"dataframe\">\n",
       "  <thead>\n",
       "    <tr style=\"text-align: right;\">\n",
       "      <th></th>\n",
       "      <th>Projected Home Score 0</th>\n",
       "      <th>Projected Away Score 0</th>\n",
       "      <th>Game</th>\n",
       "      <th>Projected Home Score 1</th>\n",
       "      <th>Projected Away Score 1</th>\n",
       "      <th>Game</th>\n",
       "      <th>Projected Home Score 2</th>\n",
       "      <th>Projected Away Score 2</th>\n",
       "      <th>Game</th>\n",
       "      <th>Projected Home Score 3</th>\n",
       "      <th>...</th>\n",
       "      <th>Game</th>\n",
       "      <th>Projected Home Score 8</th>\n",
       "      <th>Projected Away Score 8</th>\n",
       "      <th>Game</th>\n",
       "      <th>Projected Home Score 9</th>\n",
       "      <th>Projected Away Score 9</th>\n",
       "      <th>Game</th>\n",
       "      <th>Projected Home Score 10</th>\n",
       "      <th>Projected Away Score 10</th>\n",
       "      <th>Game</th>\n",
       "    </tr>\n",
       "  </thead>\n",
       "  <tbody>\n",
       "    <tr>\n",
       "      <th>0</th>\n",
       "      <td>79</td>\n",
       "      <td>78</td>\n",
       "      <td>6196352</td>\n",
       "      <td>69</td>\n",
       "      <td>66</td>\n",
       "      <td>6196352</td>\n",
       "      <td>86</td>\n",
       "      <td>56</td>\n",
       "      <td>6196352</td>\n",
       "      <td>73</td>\n",
       "      <td>...</td>\n",
       "      <td>6196352</td>\n",
       "      <td>93</td>\n",
       "      <td>37</td>\n",
       "      <td>6196352</td>\n",
       "      <td>86</td>\n",
       "      <td>70</td>\n",
       "      <td>6196352</td>\n",
       "      <td>72</td>\n",
       "      <td>60</td>\n",
       "      <td>6196352</td>\n",
       "    </tr>\n",
       "    <tr>\n",
       "      <th>1</th>\n",
       "      <td>73</td>\n",
       "      <td>82</td>\n",
       "      <td>6196352</td>\n",
       "      <td>57</td>\n",
       "      <td>66</td>\n",
       "      <td>6196352</td>\n",
       "      <td>85</td>\n",
       "      <td>71</td>\n",
       "      <td>6196352</td>\n",
       "      <td>73</td>\n",
       "      <td>...</td>\n",
       "      <td>6196352</td>\n",
       "      <td>84</td>\n",
       "      <td>78</td>\n",
       "      <td>6196352</td>\n",
       "      <td>64</td>\n",
       "      <td>76</td>\n",
       "      <td>6196352</td>\n",
       "      <td>64</td>\n",
       "      <td>72</td>\n",
       "      <td>6196352</td>\n",
       "    </tr>\n",
       "    <tr>\n",
       "      <th>2</th>\n",
       "      <td>79</td>\n",
       "      <td>73</td>\n",
       "      <td>6196352</td>\n",
       "      <td>94</td>\n",
       "      <td>70</td>\n",
       "      <td>6196352</td>\n",
       "      <td>51</td>\n",
       "      <td>79</td>\n",
       "      <td>6196352</td>\n",
       "      <td>90</td>\n",
       "      <td>...</td>\n",
       "      <td>6196352</td>\n",
       "      <td>92</td>\n",
       "      <td>53</td>\n",
       "      <td>6196352</td>\n",
       "      <td>57</td>\n",
       "      <td>60</td>\n",
       "      <td>6196352</td>\n",
       "      <td>82</td>\n",
       "      <td>61</td>\n",
       "      <td>6196352</td>\n",
       "    </tr>\n",
       "    <tr>\n",
       "      <th>3</th>\n",
       "      <td>54</td>\n",
       "      <td>89</td>\n",
       "      <td>6196352</td>\n",
       "      <td>66</td>\n",
       "      <td>86</td>\n",
       "      <td>6196352</td>\n",
       "      <td>98</td>\n",
       "      <td>60</td>\n",
       "      <td>6196352</td>\n",
       "      <td>73</td>\n",
       "      <td>...</td>\n",
       "      <td>6196352</td>\n",
       "      <td>56</td>\n",
       "      <td>105</td>\n",
       "      <td>6196352</td>\n",
       "      <td>73</td>\n",
       "      <td>81</td>\n",
       "      <td>6196352</td>\n",
       "      <td>70</td>\n",
       "      <td>90</td>\n",
       "      <td>6196352</td>\n",
       "    </tr>\n",
       "    <tr>\n",
       "      <th>4</th>\n",
       "      <td>94</td>\n",
       "      <td>78</td>\n",
       "      <td>6196352</td>\n",
       "      <td>69</td>\n",
       "      <td>80</td>\n",
       "      <td>6196352</td>\n",
       "      <td>74</td>\n",
       "      <td>70</td>\n",
       "      <td>6196352</td>\n",
       "      <td>73</td>\n",
       "      <td>...</td>\n",
       "      <td>6196352</td>\n",
       "      <td>79</td>\n",
       "      <td>84</td>\n",
       "      <td>6196352</td>\n",
       "      <td>68</td>\n",
       "      <td>60</td>\n",
       "      <td>6196352</td>\n",
       "      <td>61</td>\n",
       "      <td>68</td>\n",
       "      <td>6196352</td>\n",
       "    </tr>\n",
       "  </tbody>\n",
       "</table>\n",
       "<p>5 rows × 33 columns</p>\n",
       "</div>"
      ],
      "text/plain": [
       "   Projected Home Score 0  Projected Away Score 0     Game  \\\n",
       "0                      79                      78  6196352   \n",
       "1                      73                      82  6196352   \n",
       "2                      79                      73  6196352   \n",
       "3                      54                      89  6196352   \n",
       "4                      94                      78  6196352   \n",
       "\n",
       "   Projected Home Score 1  Projected Away Score 1     Game  \\\n",
       "0                      69                      66  6196352   \n",
       "1                      57                      66  6196352   \n",
       "2                      94                      70  6196352   \n",
       "3                      66                      86  6196352   \n",
       "4                      69                      80  6196352   \n",
       "\n",
       "   Projected Home Score 2  Projected Away Score 2     Game  \\\n",
       "0                      86                      56  6196352   \n",
       "1                      85                      71  6196352   \n",
       "2                      51                      79  6196352   \n",
       "3                      98                      60  6196352   \n",
       "4                      74                      70  6196352   \n",
       "\n",
       "   Projected Home Score 3  ...     Game Projected Home Score 8  \\\n",
       "0                      73  ...  6196352                     93   \n",
       "1                      73  ...  6196352                     84   \n",
       "2                      90  ...  6196352                     92   \n",
       "3                      73  ...  6196352                     56   \n",
       "4                      73  ...  6196352                     79   \n",
       "\n",
       "   Projected Away Score 8     Game Projected Home Score 9  \\\n",
       "0                      37  6196352                     86   \n",
       "1                      78  6196352                     64   \n",
       "2                      53  6196352                     57   \n",
       "3                     105  6196352                     73   \n",
       "4                      84  6196352                     68   \n",
       "\n",
       "   Projected Away Score 9     Game Projected Home Score 10  \\\n",
       "0                      70  6196352                      72   \n",
       "1                      76  6196352                      64   \n",
       "2                      60  6196352                      82   \n",
       "3                      81  6196352                      70   \n",
       "4                      60  6196352                      61   \n",
       "\n",
       "   Projected Away Score 10     Game  \n",
       "0                       60  6196352  \n",
       "1                       72  6196352  \n",
       "2                       61  6196352  \n",
       "3                       90  6196352  \n",
       "4                       68  6196352  \n",
       "\n",
       "[5 rows x 33 columns]"
      ]
     },
     "execution_count": 94,
     "metadata": {},
     "output_type": "execute_result"
    }
   ],
   "source": [
    "meta_tracker_df.head()"
   ]
  },
  {
   "cell_type": "code",
   "execution_count": 95,
   "metadata": {},
   "outputs": [],
   "source": [
    "suffixes = ['0','1','2','3','4','5','6','7','8','9', '10']"
   ]
  },
  {
   "cell_type": "code",
   "execution_count": 96,
   "metadata": {},
   "outputs": [],
   "source": [
    "from itertools import combinations"
   ]
  },
  {
   "cell_type": "code",
   "execution_count": 102,
   "metadata": {},
   "outputs": [],
   "source": [
    "all_bumpus = list(combinations(suffixes, 11)) + list(combinations(suffixes, 10)) + list(combinations(suffixes, 9))"
   ]
  },
  {
   "cell_type": "code",
   "execution_count": 103,
   "metadata": {},
   "outputs": [
    {
     "data": {
      "text/plain": [
       "67"
      ]
     },
     "execution_count": 103,
     "metadata": {},
     "output_type": "execute_result"
    }
   ],
   "source": [
    "len(all_bumpus)"
   ]
  },
  {
   "cell_type": "code",
   "execution_count": 104,
   "metadata": {},
   "outputs": [],
   "source": [
    "# BIG_COPY = models_dict.copy()"
   ]
  },
  {
   "cell_type": "code",
   "execution_count": 105,
   "metadata": {},
   "outputs": [
    {
     "data": {
      "text/html": [
       "<div>\n",
       "<style scoped>\n",
       "    .dataframe tbody tr th:only-of-type {\n",
       "        vertical-align: middle;\n",
       "    }\n",
       "\n",
       "    .dataframe tbody tr th {\n",
       "        vertical-align: top;\n",
       "    }\n",
       "\n",
       "    .dataframe thead th {\n",
       "        text-align: right;\n",
       "    }\n",
       "</style>\n",
       "<table border=\"1\" class=\"dataframe\">\n",
       "  <thead>\n",
       "    <tr style=\"text-align: right;\">\n",
       "      <th></th>\n",
       "      <th>Projected Home Score 0</th>\n",
       "      <th>Projected Away Score 0</th>\n",
       "      <th>Game</th>\n",
       "      <th>Projected Home Score 1</th>\n",
       "      <th>Projected Away Score 1</th>\n",
       "      <th>Game</th>\n",
       "      <th>Projected Home Score 2</th>\n",
       "      <th>Projected Away Score 2</th>\n",
       "      <th>Game</th>\n",
       "      <th>Projected Home Score 3</th>\n",
       "      <th>...</th>\n",
       "      <th>Game</th>\n",
       "      <th>Projected Home Score 8</th>\n",
       "      <th>Projected Away Score 8</th>\n",
       "      <th>Game</th>\n",
       "      <th>Projected Home Score 9</th>\n",
       "      <th>Projected Away Score 9</th>\n",
       "      <th>Game</th>\n",
       "      <th>Projected Home Score 10</th>\n",
       "      <th>Projected Away Score 10</th>\n",
       "      <th>Game</th>\n",
       "    </tr>\n",
       "  </thead>\n",
       "  <tbody>\n",
       "    <tr>\n",
       "      <th>0</th>\n",
       "      <td>79</td>\n",
       "      <td>78</td>\n",
       "      <td>6196352</td>\n",
       "      <td>69</td>\n",
       "      <td>66</td>\n",
       "      <td>6196352</td>\n",
       "      <td>86</td>\n",
       "      <td>56</td>\n",
       "      <td>6196352</td>\n",
       "      <td>73</td>\n",
       "      <td>...</td>\n",
       "      <td>6196352</td>\n",
       "      <td>93</td>\n",
       "      <td>37</td>\n",
       "      <td>6196352</td>\n",
       "      <td>86</td>\n",
       "      <td>70</td>\n",
       "      <td>6196352</td>\n",
       "      <td>72</td>\n",
       "      <td>60</td>\n",
       "      <td>6196352</td>\n",
       "    </tr>\n",
       "    <tr>\n",
       "      <th>1</th>\n",
       "      <td>73</td>\n",
       "      <td>82</td>\n",
       "      <td>6196352</td>\n",
       "      <td>57</td>\n",
       "      <td>66</td>\n",
       "      <td>6196352</td>\n",
       "      <td>85</td>\n",
       "      <td>71</td>\n",
       "      <td>6196352</td>\n",
       "      <td>73</td>\n",
       "      <td>...</td>\n",
       "      <td>6196352</td>\n",
       "      <td>84</td>\n",
       "      <td>78</td>\n",
       "      <td>6196352</td>\n",
       "      <td>64</td>\n",
       "      <td>76</td>\n",
       "      <td>6196352</td>\n",
       "      <td>64</td>\n",
       "      <td>72</td>\n",
       "      <td>6196352</td>\n",
       "    </tr>\n",
       "  </tbody>\n",
       "</table>\n",
       "<p>2 rows × 33 columns</p>\n",
       "</div>"
      ],
      "text/plain": [
       "   Projected Home Score 0  Projected Away Score 0     Game  \\\n",
       "0                      79                      78  6196352   \n",
       "1                      73                      82  6196352   \n",
       "\n",
       "   Projected Home Score 1  Projected Away Score 1     Game  \\\n",
       "0                      69                      66  6196352   \n",
       "1                      57                      66  6196352   \n",
       "\n",
       "   Projected Home Score 2  Projected Away Score 2     Game  \\\n",
       "0                      86                      56  6196352   \n",
       "1                      85                      71  6196352   \n",
       "\n",
       "   Projected Home Score 3  ...     Game Projected Home Score 8  \\\n",
       "0                      73  ...  6196352                     93   \n",
       "1                      73  ...  6196352                     84   \n",
       "\n",
       "   Projected Away Score 8     Game Projected Home Score 9  \\\n",
       "0                      37  6196352                     86   \n",
       "1                      78  6196352                     64   \n",
       "\n",
       "   Projected Away Score 9     Game Projected Home Score 10  \\\n",
       "0                      70  6196352                      72   \n",
       "1                      76  6196352                      64   \n",
       "\n",
       "   Projected Away Score 10     Game  \n",
       "0                       60  6196352  \n",
       "1                       72  6196352  \n",
       "\n",
       "[2 rows x 33 columns]"
      ]
     },
     "execution_count": 105,
     "metadata": {},
     "output_type": "execute_result"
    }
   ],
   "source": [
    "\n",
    "meta_tracker_df.head(2)"
   ]
  },
  {
   "cell_type": "code",
   "execution_count": 106,
   "metadata": {},
   "outputs": [
    {
     "data": {
      "text/plain": [
       "('0', '1', '2', '3', '4', '5', '6', '7', '8', '9', '10')"
      ]
     },
     "execution_count": 106,
     "metadata": {},
     "output_type": "execute_result"
    }
   ],
   "source": [
    "all_bumpus[0]"
   ]
  },
  {
   "cell_type": "code",
   "execution_count": 107,
   "metadata": {},
   "outputs": [
    {
     "data": {
      "text/plain": [
       "False"
      ]
     },
     "execution_count": 107,
     "metadata": {},
     "output_type": "execute_result"
    }
   ],
   "source": [
    "'err' in comb"
   ]
  },
  {
   "cell_type": "code",
   "execution_count": 108,
   "metadata": {},
   "outputs": [
    {
     "name": "stderr",
     "output_type": "stream",
     "text": [
      "100%|██████████| 67/67 [01:48<00:00,  1.61s/it]\n"
     ]
    }
   ],
   "source": [
    "for comb in tqdm(all_bumpus):\n",
    "    df_copy=meta_tracker_df.copy()\n",
    "    size=len(comb)\n",
    "\n",
    "\n",
    "    df_copy['combo_home'] = (('0' in comb) * df_copy['Projected Home Score 0'] \\\n",
    "            + ('1' in comb) * df_copy['Projected Home Score 1'] \\\n",
    "                + ('2' in comb) * df_copy['Projected Home Score 2'] \\\n",
    "                    + ('3' in comb) * df_copy['Projected Home Score 3'] \\\n",
    "                    + ('4' in comb) * df_copy['Projected Home Score 4']\\\n",
    "        + ('5' in comb) * df_copy['Projected Home Score 5'] \\\n",
    "            + ('6' in comb) * df_copy['Projected Home Score 6'] \\\n",
    "                + ('7' in comb) * df_copy['Projected Home Score 7'] \\\n",
    "                    + ('8' in comb) * df_copy['Projected Home Score 8'] \\\n",
    "                    + ('9' in comb) * df_copy['Projected Home Score 9']\\\n",
    "                    + ('10' in comb) * df_copy['Projected Home Score 10'])/size\n",
    "\n",
    "    df_copy['combo_away'] = (('0' in comb) * df_copy['Projected Away Score 0'] \\\n",
    "            + ('1' in comb) * df_copy['Projected Away Score 1'] \\\n",
    "                + ('2' in comb) * df_copy['Projected Away Score 2'] \\\n",
    "                    + ('3' in comb) * df_copy['Projected Away Score 3'] \\\n",
    "                    + ('4' in comb) * df_copy['Projected Away Score 4']\\\n",
    "        + ('5' in comb) * df_copy['Projected Away Score 5'] \\\n",
    "            + ('6' in comb) * df_copy['Projected Away Score 6'] \\\n",
    "                + ('7' in comb) * df_copy['Projected Away Score 7'] \\\n",
    "                    + ('8' in comb) * df_copy['Projected Away Score 8'] \\\n",
    "                    + ('9' in comb) * df_copy['Projected Away Score 9']\\\n",
    "                    + ('10' in comb) * df_copy['Projected Away Score 10'])/size\n",
    "    \n",
    "    a_list = list(np.repeat('a', 10))\n",
    "\n",
    "    combo_1 = df_copy[['Game','combo_home','combo_away']].copy()\n",
    "    cols = a_list + ['Game','Projected Home Score','Projected Away Score']\n",
    "    combo_1.columns = cols\n",
    "    combo_1 = combo_1.drop('a', axis=1)\n",
    "\n",
    "    combo_1=pd.concat([combo_1, nn_testing_dataframe[['Real Home Score','Real Away Score']]], axis=1)\n",
    "\n",
    "    combo_1['Distance'] = calc_score(combo_1)\n",
    "    combo_1['OU'] = calc_score(combo_1, 'OU')\n",
    "    combo_1['Winner'] = calc_score(combo_1, 'Winner')\n",
    "\n",
    "    combo_1_grouped = combo_1.groupby('Game')[['Distance','OU','Winner']].mean().reset_index()\n",
    "    combo_1_grouped['Correct'] = combo_1_grouped['Winner']>.5\n",
    "    models_dict['combo_{}'.format(all_bumpus.index(comb))]=combo_1_grouped\n"
   ]
  },
  {
   "cell_type": "code",
   "execution_count": 109,
   "metadata": {},
   "outputs": [],
   "source": [
    "plot_data=dict()\n",
    "for var in ['Distance','OU','Winner','Correct']:\n",
    "    curr_dict=dict()\n",
    "    for model in models_dict.keys():\n",
    "        temp_df=models_dict[model][['Game',var]]\n",
    "        temp_df=temp_df.rename(columns={var:var+'_{}'.format(model)})\n",
    "        curr_dict[model]=temp_df\n",
    "    base_df=list(curr_dict.values())[0]\n",
    "    for df in list(curr_dict.values())[1:]:\n",
    "        base_df=base_df.merge(df, on='Game')\n",
    "    plot_data[var]=base_df\n"
   ]
  },
  {
   "cell_type": "code",
   "execution_count": 110,
   "metadata": {},
   "outputs": [
    {
     "data": {
      "image/png": "[encoded data removed]",
      "text/plain": [
       "<Figure size 576x576 with 1 Axes>"
      ]
     },
     "metadata": {
      "needs_background": "light"
     },
     "output_type": "display_data"
    },
    {
     "data": {
      "image/png": "[encoded data removed]",
      "text/plain": [
       "<Figure size 576x576 with 1 Axes>"
      ]
     },
     "metadata": {
      "needs_background": "light"
     },
     "output_type": "display_data"
    },
    {
     "data": {
      "image/png": "[encoded data removed]",
      "text/plain": [
       "<Figure size 576x576 with 1 Axes>"
      ]
     },
     "metadata": {
      "needs_background": "light"
     },
     "output_type": "display_data"
    },
    {
     "data": {
      "text/plain": [
       "Correct_sim         0.670909\n",
       "Correct_nn_0        0.723636\n",
       "Correct_nn_1        0.727273\n",
       "Correct_nn_2        0.680000\n",
       "Correct_nn_3        0.686364\n",
       "                      ...   \n",
       "Correct_combo_62    0.738182\n",
       "Correct_combo_63    0.716364\n",
       "Correct_combo_64    0.714545\n",
       "Correct_combo_65    0.739091\n",
       "Correct_combo_66    0.716364\n",
       "Length: 79, dtype: float64"
      ]
     },
     "execution_count": 110,
     "metadata": {},
     "output_type": "execute_result"
    }
   ],
   "source": [
    "for v in list(plot_data.values())[:-1]:\n",
    "    fig, ax=plt.subplots(figsize=(8,8))\n",
    "    to_plot=v.melt(id_vars='Game')\n",
    "    sns.boxplot(x='variable',y='value',data=to_plot)\n",
    "    plt.show()\n",
    "winner_accuracy = list(plot_data.values())[-1]\n",
    "winner_accuracy=winner_accuracy.drop('Game',axis=1).mean()\n",
    "winner_accuracy"
   ]
  },
  {
   "cell_type": "code",
   "execution_count": 111,
   "metadata": {},
   "outputs": [
    {
     "data": {
      "text/plain": [
       "[0.6709090909090909,\n",
       " 0.7236363636363636,\n",
       " 0.7272727272727273,\n",
       " 0.68,\n",
       " 0.6863636363636364,\n",
       " 0.7036363636363636,\n",
       " 0.68,\n",
       " 0.7018181818181818,\n",
       " 0.6827272727272727,\n",
       " 0.68,\n",
       " 0.7172727272727273,\n",
       " 0.68,\n",
       " 0.7318181818181818,\n",
       " 0.74,\n",
       " 0.7245454545454545,\n",
       " 0.74,\n",
       " 0.7181818181818181,\n",
       " 0.72,\n",
       " 0.7381818181818182,\n",
       " 0.7263636363636363,\n",
       " 0.7209090909090909,\n",
       " 0.74,\n",
       " 0.7227272727272728,\n",
       " 0.7254545454545455,\n",
       " 0.7390909090909091,\n",
       " 0.7509090909090909,\n",
       " 0.7381818181818182,\n",
       " 0.7363636363636363,\n",
       " 0.7090909090909091,\n",
       " 0.7354545454545455,\n",
       " 0.73,\n",
       " 0.7136363636363636,\n",
       " 0.7345454545454545,\n",
       " 0.71,\n",
       " 0.7518181818181818,\n",
       " 0.74,\n",
       " 0.7490909090909091,\n",
       " 0.7354545454545455,\n",
       " 0.7345454545454545,\n",
       " 0.7390909090909091,\n",
       " 0.7118181818181818,\n",
       " 0.7381818181818182,\n",
       " 0.7072727272727273,\n",
       " 0.7109090909090909,\n",
       " 0.7390909090909091,\n",
       " 0.7290909090909091,\n",
       " 0.7163636363636363,\n",
       " 0.7336363636363636,\n",
       " 0.7118181818181818,\n",
       " 0.7127272727272728,\n",
       " 0.7336363636363636,\n",
       " 0.7181818181818181,\n",
       " 0.75,\n",
       " 0.74,\n",
       " 0.7509090909090909,\n",
       " 0.7354545454545455,\n",
       " 0.7318181818181818,\n",
       " 0.7481818181818182,\n",
       " 0.7372727272727273,\n",
       " 0.730909090909091,\n",
       " 0.7390909090909091,\n",
       " 0.7154545454545455,\n",
       " 0.740909090909091,\n",
       " 0.7045454545454546,\n",
       " 0.7136363636363636,\n",
       " 0.740909090909091,\n",
       " 0.7172727272727273,\n",
       " 0.7090909090909091,\n",
       " 0.7372727272727273,\n",
       " 0.7390909090909091,\n",
       " 0.7136363636363636,\n",
       " 0.7354545454545455,\n",
       " 0.7036363636363636,\n",
       " 0.7109090909090909,\n",
       " 0.7381818181818182,\n",
       " 0.7163636363636363,\n",
       " 0.7145454545454546,\n",
       " 0.7390909090909091,\n",
       " 0.7163636363636363]"
      ]
     },
     "execution_count": 111,
     "metadata": {},
     "output_type": "execute_result"
    }
   ],
   "source": [
    "list(winner_accuracy)"
   ]
  },
  {
   "cell_type": "code",
   "execution_count": 114,
   "metadata": {},
   "outputs": [
    {
     "data": {
      "text/plain": [
       "34"
      ]
     },
     "execution_count": 114,
     "metadata": {},
     "output_type": "execute_result"
    }
   ],
   "source": [
    "list(winner_accuracy).index(np.max((list(winner_accuracy))))"
   ]
  },
  {
   "cell_type": "code",
   "execution_count": 121,
   "metadata": {},
   "outputs": [
    {
     "data": {
      "text/plain": [
       "Correct_sim         0.670909\n",
       "Correct_nn_2        0.680000\n",
       "Correct_nn_5        0.680000\n",
       "Correct_nn_8        0.680000\n",
       "Correct_nn_10       0.680000\n",
       "                      ...   \n",
       "Correct_combo_24    0.749091\n",
       "Correct_combo_40    0.750000\n",
       "Correct_combo_42    0.750909\n",
       "Correct_combo_13    0.750909\n",
       "Correct_combo_22    0.751818\n",
       "Length: 79, dtype: float64"
      ]
     },
     "execution_count": 121,
     "metadata": {},
     "output_type": "execute_result"
    }
   ],
   "source": [
    "winner_accuracy.sort_values()"
   ]
  },
  {
   "cell_type": "code",
   "execution_count": 112,
   "metadata": {},
   "outputs": [
    {
     "data": {
      "text/plain": [
       "Correct_sim         0.670909\n",
       "Correct_nn_0        0.723636\n",
       "Correct_nn_1        0.727273\n",
       "Correct_nn_2        0.680000\n",
       "Correct_nn_3        0.686364\n",
       "                      ...   \n",
       "Correct_combo_62    0.738182\n",
       "Correct_combo_63    0.716364\n",
       "Correct_combo_64    0.714545\n",
       "Correct_combo_65    0.739091\n",
       "Correct_combo_66    0.716364\n",
       "Length: 79, dtype: float64"
      ]
     },
     "execution_count": 112,
     "metadata": {},
     "output_type": "execute_result"
    }
   ],
   "source": [
    "# so best combo this time was all_bumpus 22, then 13, 42, 40, 24"
   ]
  },
  {
   "cell_type": "code",
   "execution_count": 117,
   "metadata": {},
   "outputs": [
    {
     "data": {
      "text/plain": [
       "('0', '1', '2', '3', '4', '6', '7', '8', '9')"
      ]
     },
     "execution_count": 117,
     "metadata": {},
     "output_type": "execute_result"
    }
   ],
   "source": [
    "all_bumpus[22]"
   ]
  },
  {
   "cell_type": "code",
   "execution_count": 122,
   "metadata": {},
   "outputs": [
    {
     "data": {
      "text/plain": [
       "('0', '1', '2', '3', '4', '5', '6', '7', '9')"
      ]
     },
     "execution_count": 122,
     "metadata": {},
     "output_type": "execute_result"
    }
   ],
   "source": [
    "all_bumpus[13]"
   ]
  },
  {
   "cell_type": "code",
   "execution_count": 123,
   "metadata": {},
   "outputs": [
    {
     "data": {
      "text/plain": [
       "('0', '1', '3', '4', '5', '6', '7', '9', '10')"
      ]
     },
     "execution_count": 123,
     "metadata": {},
     "output_type": "execute_result"
    }
   ],
   "source": [
    "all_bumpus[42]"
   ]
  },
  {
   "cell_type": "code",
   "execution_count": 124,
   "metadata": {},
   "outputs": [
    {
     "data": {
      "text/plain": [
       "('0', '1', '2', '3', '4', '6', '7', '9', '10')"
      ]
     },
     "execution_count": 124,
     "metadata": {},
     "output_type": "execute_result"
    }
   ],
   "source": [
    "all_bumpus[24]"
   ]
  },
  {
   "cell_type": "code",
   "execution_count": null,
   "metadata": {},
   "outputs": [],
   "source": [
    "#conclusion on this run - 8 is bad, 10 not great. So exclude m9, m11"
   ]
  },
  {
   "cell_type": "code",
   "execution_count": 125,
   "metadata": {},
   "outputs": [],
   "source": [
    "with open('models/nn_m1_319.pickle', 'wb') as handle:\n",
    "    pickle.dump(m1, handle)\n",
    "\n",
    "with open('models/nn_m2_319.pickle', 'wb') as handle:\n",
    "    pickle.dump(m2, handle)\n",
    "\n",
    "with open('models/nn_m3_319.pickle', 'wb') as handle:\n",
    "    pickle.dump(m3, handle)\n",
    "\n",
    "with open('models/nn_m4_319.pickle', 'wb') as handle:\n",
    "    pickle.dump(m4, handle)\n",
    "\n",
    "with open('models/nn_m5_319.pickle', 'wb') as handle:\n",
    "    pickle.dump(m5, handle)\n",
    "\n",
    "with open('models/nn_m6_319.pickle', 'wb') as handle:\n",
    "    pickle.dump(m6, handle)\n",
    "\n",
    "with open('models/nn_m7_319.pickle', 'wb') as handle:\n",
    "    pickle.dump(m7, handle)\n",
    "\n",
    "with open('models/nn_m8_319.pickle', 'wb') as handle:\n",
    "    pickle.dump(m8, handle)\n",
    "\n",
    "# with open('models/nn_m9_319.pickle', 'wb') as handle:\n",
    "#     pickle.dump(m2, handle)\n",
    "\n",
    "with open('models/nn_m10_319.pickle', 'wb') as handle:\n",
    "    pickle.dump(m10, handle)\n",
    "\n",
    "# with open('models/nn_m11_319.pickle', 'wb') as handle:\n",
    "#     pickle.dump(m2, handle)"
   ]
  },
  {
   "cell_type": "code",
   "execution_count": null,
   "metadata": {},
   "outputs": [],
   "source": [
    "m4, m5, m6, m7, m8, m9, m10, m11"
   ]
  }
 ],
 "metadata": {
  "kernelspec": {
   "display_name": "base",
   "language": "python",
   "name": "python3"
  },
  "language_info": {
   "codemirror_mode": {
    "name": "ipython",
    "version": 3
   },
   "file_extension": ".py",
   "mimetype": "text/x-python",
   "name": "python",
   "nbconvert_exporter": "python",
   "pygments_lexer": "ipython3",
   "version": "3.9.7"
  }
 },
 "nbformat": 4,
 "nbformat_minor": 2
}
