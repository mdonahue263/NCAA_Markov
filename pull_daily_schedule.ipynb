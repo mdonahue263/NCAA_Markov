{
 "cells": [
  {
   "cell_type": "code",
   "execution_count": 1,
   "metadata": {},
   "outputs": [],
   "source": [
    "import pandas as pd\n",
    "import requests\n",
    "import json"
   ]
  },
  {
   "cell_type": "code",
   "execution_count": 2,
   "metadata": {},
   "outputs": [],
   "source": [
    "url=\"https://sdataprod.ncaa.com/?meta=GetContests_web&extensions={%22persistedQuery%22:{%22version%22:1,%22sha256Hash%22:%22f9d668706317cc187ecbe89591256e257b14af95432e36d4a68160dc78a7256c%22}}&variables={%22sportCode%22:%22MBB%22,%22division%22:1,%22seasonYear%22:2023,%22contestDate%22:%2203/03/2024%22,%22week%22:null}\"\n",
    "\n",
    "headers= {\n",
    "    \"accept\": \"*/*\",\n",
    "    \"accept-language\": \"en-US,en;q=0.9\",\n",
    "    \"content-type\": \"application/json\",\n",
    "    \"if-modified-since\": \"Sun, 03 Mar 2024 15:36:49 GMT\",\n",
    "    \"if-none-match\": \"W/\\\"3cd2-GhSYM1jzUcEzEye0/usYJ6SfrmY\\\"\",\n",
    "    \"sec-ch-ua\": \"\\\"Chromium\\\";v=\\\"122\\\", \\\"Not(A:Brand\\\";v=\\\"24\\\", \\\"Google Chrome\\\";v=\\\"122\\\"\",\n",
    "    \"sec-ch-ua-mobile\": \"?0\",\n",
    "    \"sec-ch-ua-platform\": \"\\\"Windows\\\"\",\n",
    "    \"sec-fetch-dest\": \"empty\",\n",
    "    \"sec-fetch-mode\": \"cors\",\n",
    "    \"sec-fetch-site\": \"same-site\"\n",
    "  }\n",
    "js={\"referrer\": \"https://www.ncaa.com/\",\n",
    "  \"referrerPolicy\": \"strict-origin-when-cross-origin\",\n",
    "  \"body\": 'null',\n",
    "  \"method\": \"GET\",\n",
    "  \"mode\": \"cors\",\n",
    "  \"credentials\": \"omit\"\n",
    "}"
   ]
  },
  {
   "cell_type": "code",
   "execution_count": 3,
   "metadata": {},
   "outputs": [],
   "source": [
    "r=requests.get(url)"
   ]
  },
  {
   "cell_type": "code",
   "execution_count": 10,
   "metadata": {},
   "outputs": [],
   "source": [
    "contests = json.loads(r.content)['data']['contests']"
   ]
  },
  {
   "cell_type": "code",
   "execution_count": 38,
   "metadata": {},
   "outputs": [],
   "source": [
    "for c in contests:\n",
    "    t=c['teams']\n",
    "    team_A = t[0]['nameShort']\n",
    "    team_B = t[1]['nameShort']\n",
    "    team_A_matrix = pd.read_excel('team_specific_matrix/{}_A.xlsx'.format(team_A))\n",
    "    team_B_matrix = pd.read_excel('team_specific_matrix/{}_B.xlsx'.format(team_B))"
   ]
  }
 ],
 "metadata": {
  "kernelspec": {
   "display_name": "base",
   "language": "python",
   "name": "python3"
  },
  "language_info": {
   "codemirror_mode": {
    "name": "ipython",
    "version": 3
   },
   "file_extension": ".py",
   "mimetype": "text/x-python",
   "name": "python",
   "nbconvert_exporter": "python",
   "pygments_lexer": "ipython3",
   "version": "3.9.13"
  }
 },
 "nbformat": 4,
 "nbformat_minor": 2
}
