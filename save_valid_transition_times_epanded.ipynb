{
 "cells": [
  {
   "cell_type": "code",
   "execution_count": 1,
   "metadata": {},
   "outputs": [],
   "source": [
    "#v2\n",
    "#in v3, we are going to keep track of time duration per transition\n",
    "##expanded version - edit 3/3 - might try to retain team specific info for time distributions\n",
    "\n",
    "import pandas as pd\n",
    "from helper_functions.game_states_logic import get_play_states\n",
    "from helper_functions.pull_game_logic import pull_game\n",
    "import os\n",
    "from tqdm import tqdm\n",
    "from collections import Counter\n",
    "import numpy as np"
   ]
  },
  {
   "cell_type": "code",
   "execution_count": 2,
   "metadata": {},
   "outputs": [],
   "source": [
    "team_database = pd.read_excel('Team_Names_Abbrs_v02.xlsx')"
   ]
  },
  {
   "cell_type": "code",
   "execution_count": 3,
   "metadata": {},
   "outputs": [],
   "source": [
    "# existing_transition_times = pd.read_excel('All_Transition_With_Times_Not_Aggregated.xlsx')"
   ]
  },
  {
   "cell_type": "code",
   "execution_count": 4,
   "metadata": {},
   "outputs": [],
   "source": [
    "for filename in os.listdir('raw_game_pulls'):\n",
    "    teams = filename.split('for ')[1].split('.xlsx')[0]\n",
    "    team1, team2 = teams.split(' vs ')\n",
    "    reduce_df = team_database[team_database['name']==team1].copy()\n",
    "    if len(reduce_df) > 1:\n",
    "        print('Collision with {}'.format(team1))\n",
    "    elif len(reduce_df) == 0:\n",
    "        print('No match for {}'.format(team1))\n",
    "\n",
    "    reduce_df = team_database[team_database['name']==team2].copy()\n",
    "    if len(reduce_df) > 1:\n",
    "        print('Collision with {}'.format(team2))\n",
    "    elif len(reduce_df) == 0:\n",
    "        print('No match for {}'.format(team2))"
   ]
  },
  {
   "cell_type": "code",
   "execution_count": 5,
   "metadata": {},
   "outputs": [],
   "source": [
    "xs=[]\n",
    "ys=[]\n",
    "\n",
    "num_games = 0"
   ]
  },
  {
   "cell_type": "code",
   "execution_count": 6,
   "metadata": {},
   "outputs": [
    {
     "name": "stderr",
     "output_type": "stream",
     "text": [
      "  0%|          | 0/5497 [00:00<?, ?it/s]"
     ]
    },
    {
     "name": "stderr",
     "output_type": "stream",
     "text": [
      "100%|██████████| 5497/5497 [03:46<00:00, 24.24it/s]\n"
     ]
    }
   ],
   "source": [
    "#initialize full dataframe\n",
    "#changing this on 2/26 - speed up by making it a dict or list\n",
    "# final_df = pd.DataFrame()\n",
    "df_dict = dict()\n",
    "\n",
    "#iterate through files\n",
    "for filename in tqdm(os.listdir('raw_game_pulls')):\n",
    "\n",
    "    #initialize individual game dataframe\n",
    "    game_tracking_df = pd.DataFrame()\n",
    "\n",
    "    #parse filename\n",
    "    teams = filename.split('for ')[1].split('.xlsx')[0]\n",
    "    team1, team2 = teams.split(' vs ')\n",
    "    team_A = team_database[team_database['name']==team1]['abbreviations'].values[0]\n",
    "    team_B = team_database[team_database['name']==team2]['abbreviations'].values[0]\n",
    "\n",
    "    #pull file data\n",
    "    current_data = pd.read_excel('raw_game_pulls/{}'.format(filename))\n",
    "\n",
    "    #pull states\n",
    "    all_states = get_play_states(current_data, team_A, team_B)\n",
    "    final_game = pd.DataFrame()\n",
    "    for i in range(len(all_states)):\n",
    "        half_tuples = all_states[i]\n",
    "\n",
    "        # just take play, not timestamp\n",
    "        smaller_list = [x for x in half_tuples if x[0] != 'UNNEC']\n",
    "\n",
    "        transition_and_time_elapsed = []\n",
    "\n",
    "        for j in range(len(smaller_list)-1):\n",
    "            tran = (smaller_list[j][0], smaller_list[j+1][0])\n",
    "            timestamp_1 = smaller_list[j][1].split(':')\n",
    "            timestamp_2 = smaller_list[j+1][1].split(':')\n",
    "\n",
    "            seconds_1 = int(timestamp_1[0]) * 60 + int(timestamp_1[1])\n",
    "            seconds_2 = int(timestamp_2[0]) * 60 + int(timestamp_2[1])\n",
    "            time_elapsed = seconds_1-seconds_2\n",
    "            datum = (tran, time_elapsed)\n",
    "            transition_and_time_elapsed.append(datum)\n",
    "\n",
    "\n",
    "        #that means rather than this logic, we should count the transitions in here\n",
    "\n",
    "        curr_half = pd.DataFrame(transition_and_time_elapsed, columns = ['Transition','Time'])\n",
    "        curr_half['Period']=i+1\n",
    "        final_game = pd.concat([final_game,curr_half])\n",
    "\n",
    "        list_of_pairs = [tuple(smaller_list[j:j+2]) for j in range(len(smaller_list)-2)]\n",
    "\n",
    "        # curr_half = pd.DataFrame({'Transition': list_of_pairs})\n",
    "        # curr_half['Period']=i+1\n",
    "        game_tracking_df=pd.concat([game_tracking_df,curr_half]).reset_index(drop=True)\n",
    "    game_tracking_df['filename']=filename\n",
    "    # final_df=pd.concat([final_df,game_tracking_df]).reset_index(drop=True)\n",
    "    df_dict[filename] = game_tracking_df\n",
    "final_df = pd.concat(list(df_dict.values()))"
   ]
  },
  {
   "cell_type": "code",
   "execution_count": 7,
   "metadata": {},
   "outputs": [],
   "source": [
    "rel_data = final_df[['Transition','Time','filename']].copy().reset_index(drop=True)"
   ]
  },
  {
   "cell_type": "code",
   "execution_count": 8,
   "metadata": {},
   "outputs": [],
   "source": [
    "#v4 too big :("
   ]
  },
  {
   "cell_type": "code",
   "execution_count": 9,
   "metadata": {},
   "outputs": [],
   "source": [
    "rel_data.to_csv('All_Transition_With_Times_Not_Aggregated_v05.csv',index=False)"
   ]
  }
 ],
 "metadata": {
  "kernelspec": {
   "display_name": "base",
   "language": "python",
   "name": "python3"
  },
  "language_info": {
   "codemirror_mode": {
    "name": "ipython",
    "version": 3
   },
   "file_extension": ".py",
   "mimetype": "text/x-python",
   "name": "python",
   "nbconvert_exporter": "python",
   "pygments_lexer": "ipython3",
   "version": "3.9.13"
  }
 },
 "nbformat": 4,
 "nbformat_minor": 2
}
