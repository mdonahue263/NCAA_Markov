{
 "cells": [
  {
   "cell_type": "code",
   "execution_count": 1,
   "metadata": {},
   "outputs": [
    {
     "name": "stdout",
     "output_type": "stream",
     "text": [
      "WARNING:tensorflow:From C:\\Users\\mdona\\AppData\\Roaming\\Python\\Python39\\site-packages\\keras\\src\\losses.py:2976: The name tf.losses.sparse_softmax_cross_entropy is deprecated. Please use tf.compat.v1.losses.sparse_softmax_cross_entropy instead.\n",
      "\n"
     ]
    }
   ],
   "source": [
    "#clean up in v02 and run tests\n",
    "#v03 cleaner\n",
    "\n",
    "import pandas as pd\n",
    "import os\n",
    "from tqdm import tqdm\n",
    "import time\n",
    "from matplotlib import pyplot as plt\n",
    "import numpy as np\n",
    "import tensorflow as tf\n",
    "from sklearn.model_selection import train_test_split\n",
    "from tensorflow.keras import layers, Model, regularizers\n",
    "from helper_functions.testing_functions import accuracy_distance, accuracy_moneyline, accuracy_ou\n",
    "from helper_functions.simulate_game import simulate_game\n",
    "from helper_functions.combine_matrices import combine_team_matrix\n",
    "from tensorflow.keras.losses import Loss\n",
    "import seaborn as sns\n",
    "import pickle"
   ]
  },
  {
   "cell_type": "code",
   "execution_count": 2,
   "metadata": {},
   "outputs": [],
   "source": [
    "avg_matrix = pd.read_excel('avg_transition_matrix_with_manual_edits.xlsx', sheet_name = 'Mean Pasted', index_col='Starting_State')"
   ]
  },
  {
   "cell_type": "code",
   "execution_count": 3,
   "metadata": {},
   "outputs": [],
   "source": [
    "def pull_game_data(g):\n",
    "        game_res = pd.read_excel('raw_game_pulls/{}'.format(g))\n",
    "        game_strings = g.split(' vs ')\n",
    "        team_A = game_strings[0].split('for ')[-1]\n",
    "        team_B = game_strings[1].split('.xlsx')[0]\n",
    "\n",
    "        matrix1 = pd.read_excel('team_specific_matrix/{}_A.xlsx'.format(team_A), index_col='Starting_State')\n",
    "        matrix2 = pd.read_excel('team_specific_matrix/{}_B.xlsx'.format(team_B), index_col='Starting_State')\n",
    "\n",
    "        A_score = game_res.iloc[-1]['Home']\n",
    "        B_score = game_res.iloc[-1]['Away']\n",
    "        score = (A_score,B_score)\n",
    "\n",
    "        return matrix1, matrix2, score"
   ]
  },
  {
   "cell_type": "code",
   "execution_count": 4,
   "metadata": {},
   "outputs": [
    {
     "name": "stderr",
     "output_type": "stream",
     "text": [
      "  0%|          | 0/5498 [00:00<?, ?it/s]"
     ]
    },
    {
     "name": "stderr",
     "output_type": "stream",
     "text": [
      "100%|██████████| 5498/5498 [03:39<00:00, 24.99it/s]\n"
     ]
    }
   ],
   "source": [
    "#load game data\n",
    "ma_list = []\n",
    "mb_list = []\n",
    "output_list = []\n",
    "\n",
    "for game in tqdm(os.listdir('raw_game_pulls')):\n",
    "    a,b,c = pull_game_data(game)\n",
    "    ma_list.append(a)\n",
    "    mb_list.append(b)\n",
    "    output_list.append(c)"
   ]
  },
  {
   "cell_type": "code",
   "execution_count": 5,
   "metadata": {},
   "outputs": [
    {
     "name": "stderr",
     "output_type": "stream",
     "text": [
      "100%|██████████| 5498/5498 [00:00<00:00, 2752480.71it/s]\n"
     ]
    }
   ],
   "source": [
    "#going to zip these into dicts to access by game ID\n",
    "game_ids = []\n",
    "for game in tqdm(os.listdir('raw_game_pulls')):\n",
    "    game_ids.append(game.split('_')[0])\n",
    "\n",
    "\n",
    "#FINAL RAW DICTS\n",
    "team_A_matrices_raw = dict(zip(game_ids, ma_list))\n",
    "team_B_matrices_raw = dict(zip(game_ids, mb_list))\n",
    "outputs_raw = dict(zip(game_ids, output_list))"
   ]
  },
  {
   "cell_type": "code",
   "execution_count": 19,
   "metadata": {},
   "outputs": [],
   "source": [
    "#transform regular output data into argmax array form\n",
    "arr_outputs = []\n",
    "for x in output_list:\n",
    "    value1, value2 = x\n",
    "\n",
    "    # Create numpy arrays\n",
    "    array1 = np.zeros(201)\n",
    "    array2 = np.zeros(201)\n",
    "\n",
    "    # Set the corresponding indices to 1\n",
    "    array1[value1 - 1] = 1\n",
    "    array2[value2 - 1] = 1 \n",
    "    arr_outputs.append((array1, array2))\n",
    "\n",
    "#FINAL ARRAY DICT\n",
    "outputs_array = dict(zip(game_ids, arr_outputs))"
   ]
  },
  {
   "cell_type": "code",
   "execution_count": 20,
   "metadata": {},
   "outputs": [],
   "source": [
    "#normalize inputs ###############################################################################\n",
    "#save these matrices down for normalizing function\n",
    "all_inputs=ma_list+mb_list\n",
    "\n",
    "arr = np.array([df.values for df in all_inputs])\n",
    "\n",
    "# Calculate mean and standard deviation across the first axis (which represents different DataFrames)\n",
    "avg = np.mean(arr, axis=0)\n",
    "std_dev = np.std(arr, axis=0)\n",
    "\n",
    "# Create DataFrames from the calculated arrays\n",
    "avg_df = pd.DataFrame(avg, index=all_inputs[0].index, columns=all_inputs[0].columns)\n",
    "std_dev_df = pd.DataFrame(std_dev, index=all_inputs[0].index, columns=all_inputs[0].columns)\n",
    "\n",
    "with open('helper_functions/avg_input_matrix.pickle', 'wb') as file:\n",
    "    pickle.dump(avg_df, file)\n",
    "\n",
    "with open('helper_functions/std_input_matrix.pickle', 'wb') as file:\n",
    "    pickle.dump(std_dev_df, file)\n",
    "\n",
    "\n",
    "\n",
    "norm_inputs_a = []\n",
    "norm_inputs_b = []\n",
    "\n",
    "#Normalize each value in each matrix\n",
    "for matrix in ma_list:\n",
    "    normalized_matrix = (matrix - avg_df) / std_dev_df\n",
    "    normalized_matrix=normalized_matrix.fillna(0.)\n",
    "    norm_inputs_a.append(normalized_matrix)\n",
    "\n",
    "for matrix in mb_list:\n",
    "    normalized_matrix = (matrix - avg_df) / std_dev_df\n",
    "    normalized_matrix=normalized_matrix.fillna(0.)\n",
    "    norm_inputs_b.append(normalized_matrix)\n",
    "\n",
    "\n",
    "#NORMALIZED MATRIX DICTS\n",
    "team_A_matrices_normal = dict(zip(game_ids, norm_inputs_a))\n",
    "team_B_matrices_normal = dict(zip(game_ids, norm_inputs_b))"
   ]
  },
  {
   "cell_type": "code",
   "execution_count": 8,
   "metadata": {},
   "outputs": [],
   "source": [
    "#load saved simulations into dicts with game ID and 1000 scores\n",
    "saved_sim_ids = [x.split('.')[0] for x in os.listdir('saved_sims_small')]\n",
    "simulated_scores = []\n",
    "for x in  os.listdir('saved_sims_small'):\n",
    "    with open('saved_sims_small/{}'.format(x), 'rb') as file:\n",
    "        data=pickle.load(file)\n",
    "        simulated_scores.append(data)\n",
    "simulated_scores_dict = dict(zip(saved_sim_ids, simulated_scores))"
   ]
  },
  {
   "cell_type": "code",
   "execution_count": 9,
   "metadata": {},
   "outputs": [],
   "source": [
    "#train test split on simulated score game IDS \n",
    "train_index, test_index = train_test_split(list(simulated_scores_dict.keys()), test_size=0.2)"
   ]
  },
  {
   "cell_type": "code",
   "execution_count": null,
   "metadata": {},
   "outputs": [],
   "source": []
  },
  {
   "cell_type": "code",
   "execution_count": 10,
   "metadata": {},
   "outputs": [],
   "source": [
    "#matrix_A_train is list of normalized input matrices used for training NN\n",
    "matrix_A_train = [team_A_matrices_normal[x] for x in train_index]\n",
    "matrix_B_train = [team_B_matrices_normal[x] for x in train_index]\n",
    "\n",
    "\n",
    "#y_train is training list of argmax formatted outputs\n",
    "y_train = [outputs_array[x] for x in train_index]\n",
    "\n",
    "#matrix_A_test is list of normalized input matrices used for testing NN\n",
    "matrix_A_test = [team_A_matrices_normal[x] for x in test_index]\n",
    "matrix_B_test = [team_B_matrices_normal[x] for x in test_index]\n",
    "\n",
    "#y_test is testing list of argmax formatted outputs\n",
    "y_test=[outputs_array[x] for x in test_index]\n",
    "\n",
    "#get testing versions of raw outputs (not for NN testing, just accuracy calcs)\n",
    "final_scores_test = [outputs_raw[x] for x in test_index]\n",
    "\n",
    "#do same as above for regular simulation testing - not normalized and no training data needed\n",
    "simulation_output_test = [simulated_scores_dict[x] for x in test_index]"
   ]
  },
  {
   "cell_type": "code",
   "execution_count": 11,
   "metadata": {},
   "outputs": [],
   "source": [
    "def test_nn_output(model, game_index, num_sims):\n",
    "    #Pull and Convert test matrices to numpy arrays\n",
    "    test_matrix_a_array = matrix_A_test[test_index.index(game_index)].values.reshape(-1, 18, 18)\n",
    "    test_matrix_b_array = matrix_B_test[test_index.index(game_index)].values.reshape(-1, 18, 18)\n",
    "\n",
    "    predictions = model.predict([test_matrix_a_array, test_matrix_b_array], verbose=0)\n",
    "\n",
    "    home_scores = np.random.choice(np.arange(1,202), num_sims, p=predictions[0][0])\n",
    "    away_scores = np.random.choice(np.arange(1,202), num_sims, p=predictions[1][0])\n",
    "\n",
    "    current_df = pd.DataFrame(zip(home_scores, away_scores), columns = ['Home','Away'])\n",
    "    current_df['Game']=game_index\n",
    "    return current_df"
   ]
  },
  {
   "cell_type": "code",
   "execution_count": 12,
   "metadata": {},
   "outputs": [],
   "source": [
    "#not working right now\n",
    "# Define custom loss function\n",
    "class Distance(Loss):\n",
    "    def call(self, y_true, y_pred):\n",
    "        # Reshape the input tensors if necessary\n",
    "        y_true_reshaped = tf.reshape(y_true, (-1, 201))  # Assuming 101 is the number of classes\n",
    "        y_pred_reshaped = tf.reshape(y_pred, (-1, 201))\n",
    "\n",
    "        # Compute the argmax operation with the correct axis\n",
    "        a_pred = tf.argmax(y_pred_reshaped[0], axis=1)\n",
    "        b_pred = tf.argmax(y_pred_reshaped[1], axis=1)\n",
    "\n",
    "        # Compute the argmax operation for the true labels as well\n",
    "        a_true = tf.argmax(y_true_reshaped[0], axis=1)\n",
    "        b_true = tf.argmax(y_true_reshaped[1], axis=1)\n",
    "\n",
    "        # Compute the loss based on the difference between predicted and true values\n",
    "\n",
    "        global loss\n",
    "        global egg\n",
    "        # egg = tf.reduce_mean(tf.math.square(y_pred - y_true), axis=-1)\n",
    "        loss = tf.sqrt(tf.cast(tf.square(a_true - a_pred), dtype=tf.float32) + tf.cast(tf.square(b_true - b_pred), dtype=tf.float32))\n",
    "        # return egg\n",
    "\n",
    "        return loss"
   ]
  },
  {
   "cell_type": "code",
   "execution_count": 13,
   "metadata": {},
   "outputs": [],
   "source": [
    "# #attempting to train with customized loss function\n",
    "# def custom_loss(y_true, y_pred,):\n",
    "#     # Reshape the input tensors if necessary\n",
    "#     y_true_reshaped = tf.reshape(y_true, (-1, 201))  # Assuming 101 is the number of classes\n",
    "#     y_pred_reshaped = tf.reshape(y_pred, (-1, 201))\n",
    "\n",
    "#     # Compute the argmax operation with the correct axis\n",
    "#     a_pred = tf.argmax(y_pred_reshaped[0], axis=1)\n",
    "#     b_pred = tf.argmax(y_pred_reshaped[1], axis=1)\n",
    "\n",
    "#     # Compute the argmax operation for the true labels as well\n",
    "#     a_true = tf.argmax(y_true_reshaped[0], axis=1)\n",
    "#     b_true = tf.argmax(y_true_reshaped[1], axis=1)\n",
    "\n",
    "#     # Compute the loss based on the difference between predicted and true values\n",
    "#     loss = tf.sqrt(tf.cast(tf.square(a_true - a_pred), dtype=tf.float32) + tf.cast(tf.square(b_true - b_pred), dtype=tf.float32))\n",
    "#     return loss"
   ]
  },
  {
   "cell_type": "code",
   "execution_count": 14,
   "metadata": {},
   "outputs": [],
   "source": [
    "#variables list\n",
    "\n",
    "#ALL GAMES:\n",
    "#team_A_matrices_raw - dict of key: game_id, val: home team matrix\n",
    "#team_B_matrices_raw - dict of key: game_id, val: away team matrix\n",
    "#outputs_raw - dict of key: game_id, val: final score tuple\n",
    "#outputs_array - dict of key: game_id, val: array version of output (one-hot format)\n",
    "#team_A_matrices_normal - dict of key: game_id, val: normalized home team matrix\n",
    "#team_B_matrices_normal - dict of key: game_id, val: normalized away team matrix\n",
    "\n",
    "#saved_sim_ids - list of game IDS in simulated data\n",
    "#simulated_scores_dict - dict of key: game_id, val: list of 1000 score tuples\n",
    "\n",
    "#train_index, test_index - lists of game id's for training and testing\n",
    "\n",
    "#TRAINING GAMES:\n",
    "#matrix_A_train - list of normalized home team matrices for training\n",
    "#matrix_B_train - list of normalized away team matrices for training\n",
    "#y_train - list of one-hot outputs for training\n",
    "\n",
    "#TESTING GAMES:\n",
    "#matrix_A_test - list of normalized home team matrices for testing\n",
    "#matrix_B_test - list of normalized away team matrices for testing\n",
    "#y_test - list of one-hot outputs for testing\n",
    "\n",
    "#simulation_output_test - list of 1000 score tuples for testing\n",
    "#final_scores_test - "
   ]
  },
  {
   "cell_type": "code",
   "execution_count": 15,
   "metadata": {},
   "outputs": [],
   "source": [
    "# Define the neural network architecture\n",
    "def build_model():\n",
    "    input1 = layers.Input(shape=(18, 18))\n",
    "    input2 = layers.Input(shape=(18, 18))\n",
    "\n",
    "    flatten1 = layers.Flatten()(input1)\n",
    "    flatten2 = layers.Flatten()(input2)\n",
    "\n",
    "    concat = layers.Concatenate()([flatten1, flatten2])\n",
    "    dense1 = layers.Dense(200, activation='relu')(concat)\n",
    "    dense2 = layers.Dense(100, activation='relu')(dense1)\n",
    "\n",
    "    output1 = layers.Dense(201, activation='softmax', name='output1')(dense2)  # Adjust output dimension to match the range (150 - 50 + 1)\n",
    "    output2 = layers.Dense(201, activation='softmax', name='output2')(dense2)  # Adjust output dimension to match the range (150 - 50 + 1)\n",
    "\n",
    "    model = Model(inputs=[input1, input2], outputs=[output1, output2])\n",
    "    return model\n",
    "\n",
    "# Define your training function\n",
    "def train_model(model_function, matrixA_list, matrixB_list, output_tuple_list, epochs=10, batch_size=32):\n",
    "    # Convert DataFrame to numpy arrays\n",
    "    matrixA_array = np.array(matrixA_list)\n",
    "    matrixB_array = np.array(matrixB_list)\n",
    "    output_array = np.array(output_tuple_list)\n",
    "    \n",
    "    # Build the model\n",
    "    model = model_function()\n",
    "\n",
    "    # Compile the model\n",
    "    model.compile(optimizer='adam', loss='categorical_crossentropy', metrics=['accuracy'])\n",
    "\n",
    "    # Train the model\n",
    "    model.fit([matrixA_array, matrixB_array], [output_array[:, 0], output_array[:, 1]], epochs=epochs, batch_size=batch_size)\n",
    "    return model"
   ]
  },
  {
   "cell_type": "code",
   "execution_count": 16,
   "metadata": {},
   "outputs": [
    {
     "name": "stdout",
     "output_type": "stream",
     "text": [
      "WARNING:tensorflow:From C:\\Users\\mdona\\AppData\\Roaming\\Python\\Python39\\site-packages\\keras\\src\\backend.py:1398: The name tf.executing_eagerly_outside_functions is deprecated. Please use tf.compat.v1.executing_eagerly_outside_functions instead.\n",
      "\n",
      "WARNING:tensorflow:From C:\\Users\\mdona\\AppData\\Roaming\\Python\\Python39\\site-packages\\keras\\src\\optimizers\\__init__.py:309: The name tf.train.Optimizer is deprecated. Please use tf.compat.v1.train.Optimizer instead.\n",
      "\n",
      "Epoch 1/10\n",
      "WARNING:tensorflow:From C:\\Users\\mdona\\AppData\\Roaming\\Python\\Python39\\site-packages\\keras\\src\\engine\\base_layer_utils.py:384: The name tf.executing_eagerly_outside_functions is deprecated. Please use tf.compat.v1.executing_eagerly_outside_functions instead.\n",
      "\n",
      "WARNING:tensorflow:From C:\\Users\\mdona\\AppData\\Roaming\\Python\\Python39\\site-packages\\keras\\src\\utils\\tf_utils.py:492: The name tf.ragged.RaggedTensorValue is deprecated. Please use tf.compat.v1.ragged.RaggedTensorValue instead.\n",
      "\n",
      "69/69 [==============================] - 1s 2ms/step - loss: 8.9587 - output1_loss: 4.5277 - output2_loss: 4.4309 - output1_accuracy: 0.0271 - output2_accuracy: 0.0262\n",
      "Epoch 2/10\n",
      "69/69 [==============================] - 0s 2ms/step - loss: 7.6873 - output1_loss: 3.8911 - output2_loss: 3.7961 - output1_accuracy: 0.0682 - output2_accuracy: 0.0669\n",
      "Epoch 3/10\n",
      "69/69 [==============================] - 0s 2ms/step - loss: 7.2874 - output1_loss: 3.6837 - output2_loss: 3.6037 - output1_accuracy: 0.0964 - output2_accuracy: 0.1078\n",
      "Epoch 4/10\n",
      "69/69 [==============================] - 0s 2ms/step - loss: 6.9128 - output1_loss: 3.4860 - output2_loss: 3.4267 - output1_accuracy: 0.1383 - output2_accuracy: 0.1415\n",
      "Epoch 5/10\n",
      "69/69 [==============================] - 0s 2ms/step - loss: 6.5715 - output1_loss: 3.3036 - output2_loss: 3.2679 - output1_accuracy: 0.1710 - output2_accuracy: 0.1824\n",
      "Epoch 6/10\n",
      "69/69 [==============================] - 0s 2ms/step - loss: 6.2527 - output1_loss: 3.1410 - output2_loss: 3.1116 - output1_accuracy: 0.2020 - output2_accuracy: 0.2056\n",
      "Epoch 7/10\n",
      "69/69 [==============================] - 0s 2ms/step - loss: 5.9268 - output1_loss: 2.9703 - output2_loss: 2.9565 - output1_accuracy: 0.2390 - output2_accuracy: 0.2397\n",
      "Epoch 8/10\n",
      "69/69 [==============================] - 0s 2ms/step - loss: 5.6344 - output1_loss: 2.8237 - output2_loss: 2.8107 - output1_accuracy: 0.2629 - output2_accuracy: 0.2684\n",
      "Epoch 9/10\n",
      "69/69 [==============================] - 0s 2ms/step - loss: 5.3366 - output1_loss: 2.6673 - output2_loss: 2.6692 - output1_accuracy: 0.3052 - output2_accuracy: 0.3002\n",
      "Epoch 10/10\n",
      "69/69 [==============================] - 0s 2ms/step - loss: 5.0456 - output1_loss: 2.5194 - output2_loss: 2.5262 - output1_accuracy: 0.3264 - output2_accuracy: 0.3368\n"
     ]
    }
   ],
   "source": [
    "m1 = train_model(build_model, matrix_A_train, matrix_B_train, y_train, 10, 64)"
   ]
  },
  {
   "cell_type": "code",
   "execution_count": 18,
   "metadata": {},
   "outputs": [],
   "source": [
    "with open('models/nn1.pickle', 'wb') as handle:\n",
    "    pickle.dump(m1, handle)"
   ]
  },
  {
   "cell_type": "code",
   "execution_count": 18,
   "metadata": {},
   "outputs": [],
   "source": [
    "# predicted_scores = []\n",
    "# all_predictions_list = []\n",
    "\n",
    "# for i in tqdm(range(len(matrix_A_test))):\n",
    "#     # Convert test matrices to numpy arrays\n",
    "#     test_matrix_a_array = matrix_A_test[i].values.reshape(-1, 18, 18)\n",
    "#     test_matrix_b_array = matrix_B_test[i].values.reshape(-1, 18, 18)\n",
    "\n",
    "#     # Make predictions using the model\n",
    "#     predictions = m1.predict([test_matrix_a_array, test_matrix_b_array], verbose=0)\n",
    "#     all_predictions_list.append(predictions)\n",
    "\n",
    "#     predicted_score = (np.argmax(predictions[0]), np.argmax(predictions[1]))\n",
    "\n",
    "#     predicted_scores.append(predicted_score)"
   ]
  },
  {
   "cell_type": "code",
   "execution_count": 13,
   "metadata": {},
   "outputs": [],
   "source": [
    "#design test for outputs - we have ~1200 test games\n",
    "#one approach - run simulation 10-100 times for each, find overall accuracy, test against argmax values\n",
    "#one approach - run simulation 10 times for each, run random weighted choice 10 times for each, compare"
   ]
  },
  {
   "cell_type": "code",
   "execution_count": 19,
   "metadata": {},
   "outputs": [],
   "source": [
    "def calc_dist(x1,x2,y1,y2):\n",
    "    return np.sqrt((x1-y1)**2 + (x2-y2)**2)\n",
    "\n",
    "def calc_ou(x1,x2,y1,y2):\n",
    "    return (y1+y2) - (x1+x2)\n",
    "\n",
    "def calc_winner(x1,x2,y1,y2):\n",
    "    return (x1>x2)==(y1>y2)\n",
    "\n",
    "def calc_score(data, var='Distance'):\n",
    "    if var == 'Distance':\n",
    "        func = np.vectorize(calc_dist)\n",
    "    elif var == 'OU':\n",
    "        func=np.vectorize(calc_ou)\n",
    "    elif var == 'Winner':\n",
    "        func=np.vectorize(calc_winner)\n",
    "\n",
    "    result = func(data['Real Home Score'],\n",
    "                    data['Real Away Score'],\n",
    "                    data['Projected Home Score'],\n",
    "                    data['Projected Away Score'])\n",
    "    return result"
   ]
  },
  {
   "cell_type": "code",
   "execution_count": 65,
   "metadata": {},
   "outputs": [
    {
     "name": "stderr",
     "output_type": "stream",
     "text": [
      "  0%|          | 0/1100 [00:00<?, ?it/s]"
     ]
    },
    {
     "name": "stderr",
     "output_type": "stream",
     "text": [
      "100%|██████████| 1100/1100 [00:01<00:00, 887.98it/s]\n"
     ]
    }
   ],
   "source": [
    "data_list = []\n",
    "for g in tqdm(range(len(final_scores_test))):\n",
    "    real_score = final_scores_test[g]\n",
    "    current_1000 = simulation_output_test[g]\n",
    "    current_df = pd.DataFrame(current_1000, columns=['Projected Home Score','Projected Away Score'])\n",
    "    current_df['Game'] = test_index[g]\n",
    "    current_df['Real Home Score'] = real_score[0]\n",
    "    current_df['Real Away Score'] = real_score[1]\n",
    "    data_list.append(current_df)\n",
    "testing_dataframe = pd.concat(data_list).reset_index(drop=True)"
   ]
  },
  {
   "cell_type": "code",
   "execution_count": null,
   "metadata": {},
   "outputs": [],
   "source": []
  },
  {
   "cell_type": "code",
   "execution_count": 66,
   "metadata": {},
   "outputs": [],
   "source": [
    "testing_dataframe['Distance'] = calc_score(testing_dataframe)\n",
    "testing_dataframe['OU'] = calc_score(testing_dataframe, 'OU')\n",
    "testing_dataframe['Winner'] = calc_score(testing_dataframe, 'Winner')"
   ]
  },
  {
   "cell_type": "code",
   "execution_count": null,
   "metadata": {},
   "outputs": [],
   "source": []
  },
  {
   "cell_type": "code",
   "execution_count": 67,
   "metadata": {},
   "outputs": [],
   "source": [
    "testing_df_grouped = testing_dataframe.groupby('Game')[['Distance','OU','Winner']].mean().reset_index()"
   ]
  },
  {
   "cell_type": "code",
   "execution_count": null,
   "metadata": {},
   "outputs": [],
   "source": []
  },
  {
   "cell_type": "code",
   "execution_count": 70,
   "metadata": {},
   "outputs": [
    {
     "name": "stderr",
     "output_type": "stream",
     "text": [
      "100%|██████████| 1100/1100 [00:48<00:00, 22.48it/s]\n"
     ]
    }
   ],
   "source": [
    "data_list_2 = []\n",
    "for gid in tqdm(test_index):\n",
    "    real_score = final_scores_test[test_index.index(gid)]\n",
    "    current_nn_test = test_nn_output(m1, gid, 1000)\n",
    "    current_nn_test=current_nn_test.rename(columns={'Home':'Projected Home Score',\n",
    "                                                'Away':'Projected Away Score'})\n",
    "    current_nn_test['Real Home Score'] = real_score[0]\n",
    "    current_nn_test['Real Away Score'] = real_score[1]\n",
    "\n",
    "    data_list_2.append(current_nn_test)"
   ]
  },
  {
   "cell_type": "code",
   "execution_count": 71,
   "metadata": {},
   "outputs": [],
   "source": [
    "nn_testing_dataframe = pd.concat(data_list_2)"
   ]
  },
  {
   "cell_type": "code",
   "execution_count": 72,
   "metadata": {},
   "outputs": [],
   "source": [
    "nn_testing_dataframe['Distance'] = calc_score(nn_testing_dataframe)\n",
    "nn_testing_dataframe['OU'] = calc_score(nn_testing_dataframe, 'OU')\n",
    "nn_testing_dataframe['Winner'] = calc_score(nn_testing_dataframe, 'Winner')"
   ]
  },
  {
   "cell_type": "code",
   "execution_count": 74,
   "metadata": {},
   "outputs": [],
   "source": [
    "nn_testing_df_grouped = nn_testing_dataframe.groupby('Game')[['Distance','OU','Winner']].mean().reset_index()"
   ]
  },
  {
   "cell_type": "code",
   "execution_count": 76,
   "metadata": {},
   "outputs": [],
   "source": [
    "models_dict=dict()\n",
    "models_dict['sim']=testing_df_grouped\n",
    "# models_dict['nn']=nn_testing_df_grouped"
   ]
  },
  {
   "cell_type": "code",
   "execution_count": 77,
   "metadata": {},
   "outputs": [],
   "source": [
    "plot_data=dict()\n",
    "for var in ['Distance','OU','Winner']:\n",
    "    curr_dict=dict()\n",
    "    for model in models_dict.keys():\n",
    "        temp_df=models_dict[model][['Game',var]]\n",
    "        temp_df=temp_df.rename(columns={var:var+'_{}'.format(model)})\n",
    "        curr_dict[model]=temp_df\n",
    "    base_df=list(curr_dict.values())[0]\n",
    "    for df in list(curr_dict.values())[1:]:\n",
    "        base_df=base_df.merge(df, on='Game')\n",
    "    plot_data[var]=base_df\n"
   ]
  },
  {
   "cell_type": "code",
   "execution_count": 79,
   "metadata": {},
   "outputs": [
    {
     "data": {
      "image/png": "[encoded data removed]",
      "text/plain": [
       "<Figure size 800x800 with 1 Axes>"
      ]
     },
     "metadata": {},
     "output_type": "display_data"
    },
    {
     "data": {
      "image/png": "[encoded data removed]",
      "text/plain": [
       "<Figure size 800x800 with 1 Axes>"
      ]
     },
     "metadata": {},
     "output_type": "display_data"
    },
    {
     "data": {
      "image/png": "[encoded data removed]",
      "text/plain": [
       "<Figure size 800x800 with 1 Axes>"
      ]
     },
     "metadata": {},
     "output_type": "display_data"
    }
   ],
   "source": [
    "for v in plot_data.values():\n",
    "    fig, ax=plt.subplots(figsize=(8,8))\n",
    "    to_plot=v.melt(id_vars='Game')\n",
    "    sns.boxplot(x='variable',y='value',data=to_plot)\n",
    "    plt.show()"
   ]
  },
  {
   "cell_type": "code",
   "execution_count": null,
   "metadata": {},
   "outputs": [],
   "source": [
    "#above looks good.\n",
    "#add 2 more nn archs and generalize "
   ]
  },
  {
   "cell_type": "code",
   "execution_count": 107,
   "metadata": {},
   "outputs": [],
   "source": [
    "def build_regularized_model():\n",
    "    input1 = layers.Input(shape=(18, 18))\n",
    "    input2 = layers.Input(shape=(18, 18))\n",
    "\n",
    "    flatten1 = layers.Flatten()(input1)\n",
    "    flatten2 = layers.Flatten()(input2)\n",
    "\n",
    "    concat = layers.Concatenate()([flatten1, flatten2])\n",
    "    \n",
    "    # Wide sparse layers with L1 regularization\n",
    "    dense1 = layers.Dense(512, activation='relu', kernel_regularizer=regularizers.l1(0.01))(concat)\n",
    "    dropout1 = layers.Dropout(0.5)(dense1)\n",
    "    \n",
    "    dense2 = layers.Dense(256, activation='sigmoid', kernel_regularizer=regularizers.l1(0.01))(dropout1)\n",
    "    dropout2 = layers.Dropout(0.5)(dense2)\n",
    "\n",
    "    output1 = layers.Dense(201, activation='softmax', name='output1')(dropout2)  # Adjust output dimension to match the range (150 - 50 + 1)\n",
    "    output2 = layers.Dense(201, activation='softmax', name='output2')(dropout2)  # Adjust output dimension to match the range (150 - 50 + 1)\n",
    "\n",
    "    model = Model(inputs=[input1, input2], outputs=[output1, output2])\n",
    "    return model"
   ]
  },
  {
   "cell_type": "code",
   "execution_count": 108,
   "metadata": {},
   "outputs": [
    {
     "name": "stdout",
     "output_type": "stream",
     "text": [
      "Epoch 1/10\n",
      "69/69 [==============================] - 2s 8ms/step - loss: 78.5857 - output1_loss: 4.3596 - output2_loss: 4.2907 - output1_accuracy: 0.0266 - output2_accuracy: 0.0312\n",
      "Epoch 2/10\n",
      "69/69 [==============================] - 0s 7ms/step - loss: 9.8405 - output1_loss: 4.1409 - output2_loss: 4.0446 - output1_accuracy: 0.0316 - output2_accuracy: 0.0305\n",
      "Epoch 3/10\n",
      "69/69 [==============================] - 0s 7ms/step - loss: 8.7411 - output1_loss: 4.1396 - output2_loss: 4.0299 - output1_accuracy: 0.0237 - output2_accuracy: 0.0371\n",
      "Epoch 4/10\n",
      "69/69 [==============================] - 0s 7ms/step - loss: 8.7159 - output1_loss: 4.1252 - output2_loss: 4.0268 - output1_accuracy: 0.0309 - output2_accuracy: 0.0307\n",
      "Epoch 5/10\n",
      "69/69 [==============================] - 0s 7ms/step - loss: 8.6829 - output1_loss: 4.1111 - output2_loss: 4.0105 - output1_accuracy: 0.0296 - output2_accuracy: 0.0327\n",
      "Epoch 6/10\n",
      "69/69 [==============================] - 0s 7ms/step - loss: 8.6789 - output1_loss: 4.1033 - output2_loss: 4.0161 - output1_accuracy: 0.0255 - output2_accuracy: 0.0321\n",
      "Epoch 7/10\n",
      "69/69 [==============================] - 0s 6ms/step - loss: 8.6647 - output1_loss: 4.1060 - output2_loss: 4.0002 - output1_accuracy: 0.0255 - output2_accuracy: 0.0271\n",
      "Epoch 8/10\n",
      "69/69 [==============================] - 0s 6ms/step - loss: 8.6403 - output1_loss: 4.0890 - output2_loss: 3.9939 - output1_accuracy: 0.0305 - output2_accuracy: 0.0287\n",
      "Epoch 9/10\n",
      "69/69 [==============================] - 0s 7ms/step - loss: 8.6237 - output1_loss: 4.0856 - output2_loss: 3.9812 - output1_accuracy: 0.0287 - output2_accuracy: 0.0341\n",
      "Epoch 10/10\n",
      "69/69 [==============================] - 0s 6ms/step - loss: 8.6210 - output1_loss: 4.0850 - output2_loss: 3.9797 - output1_accuracy: 0.0284 - output2_accuracy: 0.0287\n"
     ]
    }
   ],
   "source": [
    "m2 = train_model(build_regularized_model, matrix_A_train, matrix_B_train, y_train, 10, 64)"
   ]
  },
  {
   "cell_type": "code",
   "execution_count": 151,
   "metadata": {},
   "outputs": [],
   "source": [
    "def build_model_3():\n",
    "    input1 = layers.Input(shape=(18, 18))\n",
    "    input2 = layers.Input(shape=(18, 18))\n",
    "\n",
    "    flatten1 = layers.Flatten()(input1)\n",
    "    flatten2 = layers.Flatten()(input2)\n",
    "\n",
    "    concat = layers.Concatenate()([flatten1, flatten2])\n",
    "    dense1 = layers.Dense(69, activation='relu')(concat)\n",
    "    dense2 = layers.Dense(6969, activation='relu')(dense1)\n",
    "    dense3 = layers.Dense(123, activation='relu')(concat)\n",
    "\n",
    "\n",
    "\n",
    "\n",
    "    output1 = layers.Dense(201, activation='softmax', name='output1')(dense2)  # Adjust output dimension to match the range (150 - 50 + 1)\n",
    "    output2 = layers.Dense(201, activation='softmax', name='output2')(dense2)  # Adjust output dimension to match the range (150 - 50 + 1)\n",
    "\n",
    "    model = Model(inputs=[input1, input2], outputs=[output1, output2])\n",
    "    return model"
   ]
  },
  {
   "cell_type": "code",
   "execution_count": 152,
   "metadata": {},
   "outputs": [],
   "source": [
    "m6=train_model(build_model_3, matrix_A_train, matrix_B_train, y_train, 16, 64)"
   ]
  },
  {
   "cell_type": "code",
   "execution_count": 135,
   "metadata": {},
   "outputs": [],
   "source": [
    "nn_list=[m1,m3, m4]"
   ]
  },
  {
   "cell_type": "code",
   "execution_count": null,
   "metadata": {},
   "outputs": [],
   "source": [
    "nn_list = [m4]"
   ]
  },
  {
   "cell_type": "code",
   "execution_count": 136,
   "metadata": {},
   "outputs": [
    {
     "name": "stderr",
     "output_type": "stream",
     "text": [
      "  0%|          | 0/1100 [00:00<?, ?it/s]"
     ]
    },
    {
     "name": "stderr",
     "output_type": "stream",
     "text": [
      "100%|██████████| 1100/1100 [00:42<00:00, 25.73it/s]\n",
      "100%|██████████| 1100/1100 [00:44<00:00, 24.85it/s]\n"
     ]
    }
   ],
   "source": [
    "# models_dict=dict()\n",
    "# models_dict['sim']=testing_df_grouped\n",
    "\n",
    "for model_num in range(len(nn_list)):    \n",
    "    current_data_list = []\n",
    "    for gid in tqdm(test_index):\n",
    "        real_score = final_scores_test[test_index.index(gid)]\n",
    "        current_nn_test = test_nn_output(nn_list[model_num], gid, 100)\n",
    "        current_nn_test=current_nn_test.rename(columns={'Home':'Projected Home Score',\n",
    "                                                    'Away':'Projected Away Score'})\n",
    "        current_nn_test['Real Home Score'] = real_score[0]\n",
    "        current_nn_test['Real Away Score'] = real_score[1]\n",
    "\n",
    "        current_data_list.append(current_nn_test)\n",
    "\n",
    "    nn_testing_dataframe = pd.concat(current_data_list)\n",
    "\n",
    "    nn_testing_dataframe['Distance'] = calc_score(nn_testing_dataframe)\n",
    "    nn_testing_dataframe['OU'] = calc_score(nn_testing_dataframe, 'OU')\n",
    "    nn_testing_dataframe['Winner'] = calc_score(nn_testing_dataframe, 'Winner')\n",
    "\n",
    "    nn_testing_df_grouped = nn_testing_dataframe.groupby('Game')[['Distance','OU','Winner']].mean().reset_index()\n",
    "    models_dict['nn_{}'.format(model_num)]=nn_testing_df_grouped"
   ]
  },
  {
   "cell_type": "code",
   "execution_count": 137,
   "metadata": {},
   "outputs": [],
   "source": [
    "plot_data=dict()\n",
    "for var in ['Distance','OU','Winner']:\n",
    "    curr_dict=dict()\n",
    "    for model in models_dict.keys():\n",
    "        temp_df=models_dict[model][['Game',var]]\n",
    "        temp_df=temp_df.rename(columns={var:var+'_{}'.format(model)})\n",
    "        curr_dict[model]=temp_df\n",
    "    base_df=list(curr_dict.values())[0]\n",
    "    for df in list(curr_dict.values())[1:]:\n",
    "        base_df=base_df.merge(df, on='Game')\n",
    "    plot_data[var]=base_df\n"
   ]
  },
  {
   "cell_type": "code",
   "execution_count": 138,
   "metadata": {},
   "outputs": [
    {
     "data": {
      "image/png": "[encoded data removed]",
      "text/plain": [
       "<Figure size 800x800 with 1 Axes>"
      ]
     },
     "metadata": {},
     "output_type": "display_data"
    },
    {
     "data": {
      "image/png": "[encoded data removed]",
      "text/plain": [
       "<Figure size 800x800 with 1 Axes>"
      ]
     },
     "metadata": {},
     "output_type": "display_data"
    },
    {
     "data": {
      "image/png": "[encoded data removed]",
      "text/plain": [
       "<Figure size 800x800 with 1 Axes>"
      ]
     },
     "metadata": {},
     "output_type": "display_data"
    }
   ],
   "source": [
    "for v in plot_data.values():\n",
    "    fig, ax=plt.subplots(figsize=(8,8))\n",
    "    to_plot=v.melt(id_vars='Game')\n",
    "    sns.boxplot(x='variable',y='value',data=to_plot)\n",
    "    plt.show()"
   ]
  },
  {
   "cell_type": "code",
   "execution_count": 95,
   "metadata": {},
   "outputs": [
    {
     "data": {
      "text/html": [
       "<div>\n",
       "<style scoped>\n",
       "    .dataframe tbody tr th:only-of-type {\n",
       "        vertical-align: middle;\n",
       "    }\n",
       "\n",
       "    .dataframe tbody tr th {\n",
       "        vertical-align: top;\n",
       "    }\n",
       "\n",
       "    .dataframe thead th {\n",
       "        text-align: right;\n",
       "    }\n",
       "</style>\n",
       "<table border=\"1\" class=\"dataframe\">\n",
       "  <thead>\n",
       "    <tr style=\"text-align: right;\">\n",
       "      <th></th>\n",
       "      <th>Game</th>\n",
       "      <th>Distance</th>\n",
       "      <th>OU</th>\n",
       "      <th>Winner</th>\n",
       "    </tr>\n",
       "  </thead>\n",
       "  <tbody>\n",
       "    <tr>\n",
       "      <th>0</th>\n",
       "      <td>6195971</td>\n",
       "      <td>18.473217</td>\n",
       "      <td>17.0</td>\n",
       "      <td>0.8</td>\n",
       "    </tr>\n",
       "    <tr>\n",
       "      <th>1</th>\n",
       "      <td>6195976</td>\n",
       "      <td>15.537389</td>\n",
       "      <td>6.8</td>\n",
       "      <td>1.0</td>\n",
       "    </tr>\n",
       "    <tr>\n",
       "      <th>2</th>\n",
       "      <td>6195979</td>\n",
       "      <td>23.021729</td>\n",
       "      <td>-6.0</td>\n",
       "      <td>0.0</td>\n",
       "    </tr>\n",
       "    <tr>\n",
       "      <th>3</th>\n",
       "      <td>6195986</td>\n",
       "      <td>7.071068</td>\n",
       "      <td>8.0</td>\n",
       "      <td>1.0</td>\n",
       "    </tr>\n",
       "    <tr>\n",
       "      <th>4</th>\n",
       "      <td>6195990</td>\n",
       "      <td>12.286107</td>\n",
       "      <td>-4.6</td>\n",
       "      <td>0.8</td>\n",
       "    </tr>\n",
       "    <tr>\n",
       "      <th>...</th>\n",
       "      <td>...</td>\n",
       "      <td>...</td>\n",
       "      <td>...</td>\n",
       "      <td>...</td>\n",
       "    </tr>\n",
       "    <tr>\n",
       "      <th>1095</th>\n",
       "      <td>6201772</td>\n",
       "      <td>14.253170</td>\n",
       "      <td>-19.4</td>\n",
       "      <td>1.0</td>\n",
       "    </tr>\n",
       "    <tr>\n",
       "      <th>1096</th>\n",
       "      <td>6201778</td>\n",
       "      <td>16.906588</td>\n",
       "      <td>-7.0</td>\n",
       "      <td>0.2</td>\n",
       "    </tr>\n",
       "    <tr>\n",
       "      <th>1097</th>\n",
       "      <td>6201780</td>\n",
       "      <td>5.200000</td>\n",
       "      <td>-3.6</td>\n",
       "      <td>0.8</td>\n",
       "    </tr>\n",
       "    <tr>\n",
       "      <th>1098</th>\n",
       "      <td>6201783</td>\n",
       "      <td>13.892444</td>\n",
       "      <td>-5.0</td>\n",
       "      <td>1.0</td>\n",
       "    </tr>\n",
       "    <tr>\n",
       "      <th>1099</th>\n",
       "      <td>6201786</td>\n",
       "      <td>23.330267</td>\n",
       "      <td>-27.8</td>\n",
       "      <td>0.8</td>\n",
       "    </tr>\n",
       "  </tbody>\n",
       "</table>\n",
       "<p>1100 rows × 4 columns</p>\n",
       "</div>"
      ],
      "text/plain": [
       "         Game   Distance    OU  Winner\n",
       "0     6195971  18.473217  17.0     0.8\n",
       "1     6195976  15.537389   6.8     1.0\n",
       "2     6195979  23.021729  -6.0     0.0\n",
       "3     6195986   7.071068   8.0     1.0\n",
       "4     6195990  12.286107  -4.6     0.8\n",
       "...       ...        ...   ...     ...\n",
       "1095  6201772  14.253170 -19.4     1.0\n",
       "1096  6201778  16.906588  -7.0     0.2\n",
       "1097  6201780   5.200000  -3.6     0.8\n",
       "1098  6201783  13.892444  -5.0     1.0\n",
       "1099  6201786  23.330267 -27.8     0.8\n",
       "\n",
       "[1100 rows x 4 columns]"
      ]
     },
     "execution_count": 95,
     "metadata": {},
     "output_type": "execute_result"
    }
   ],
   "source": [
    "models_dict['nn_2']"
   ]
  },
  {
   "cell_type": "code",
   "execution_count": 91,
   "metadata": {},
   "outputs": [
    {
     "data": {
      "text/html": [
       "<div>\n",
       "<style scoped>\n",
       "    .dataframe tbody tr th:only-of-type {\n",
       "        vertical-align: middle;\n",
       "    }\n",
       "\n",
       "    .dataframe tbody tr th {\n",
       "        vertical-align: top;\n",
       "    }\n",
       "\n",
       "    .dataframe thead th {\n",
       "        text-align: right;\n",
       "    }\n",
       "</style>\n",
       "<table border=\"1\" class=\"dataframe\">\n",
       "  <thead>\n",
       "    <tr style=\"text-align: right;\">\n",
       "      <th></th>\n",
       "      <th>Projected Home Score</th>\n",
       "      <th>Projected Away Score</th>\n",
       "      <th>Game</th>\n",
       "      <th>Real Home Score</th>\n",
       "      <th>Real Away Score</th>\n",
       "      <th>Distance</th>\n",
       "      <th>OU</th>\n",
       "      <th>Winner</th>\n",
       "    </tr>\n",
       "  </thead>\n",
       "  <tbody>\n",
       "    <tr>\n",
       "      <th>0</th>\n",
       "      <td>81</td>\n",
       "      <td>59</td>\n",
       "      <td>6195986</td>\n",
       "      <td>59</td>\n",
       "      <td>58</td>\n",
       "      <td>22.022716</td>\n",
       "      <td>23</td>\n",
       "      <td>True</td>\n",
       "    </tr>\n",
       "    <tr>\n",
       "      <th>1</th>\n",
       "      <td>66</td>\n",
       "      <td>59</td>\n",
       "      <td>6195986</td>\n",
       "      <td>59</td>\n",
       "      <td>58</td>\n",
       "      <td>7.071068</td>\n",
       "      <td>8</td>\n",
       "      <td>True</td>\n",
       "    </tr>\n",
       "    <tr>\n",
       "      <th>2</th>\n",
       "      <td>66</td>\n",
       "      <td>59</td>\n",
       "      <td>6195986</td>\n",
       "      <td>59</td>\n",
       "      <td>58</td>\n",
       "      <td>7.071068</td>\n",
       "      <td>8</td>\n",
       "      <td>True</td>\n",
       "    </tr>\n",
       "    <tr>\n",
       "      <th>3</th>\n",
       "      <td>66</td>\n",
       "      <td>59</td>\n",
       "      <td>6195986</td>\n",
       "      <td>59</td>\n",
       "      <td>58</td>\n",
       "      <td>7.071068</td>\n",
       "      <td>8</td>\n",
       "      <td>True</td>\n",
       "    </tr>\n",
       "    <tr>\n",
       "      <th>4</th>\n",
       "      <td>66</td>\n",
       "      <td>59</td>\n",
       "      <td>6195986</td>\n",
       "      <td>59</td>\n",
       "      <td>58</td>\n",
       "      <td>7.071068</td>\n",
       "      <td>8</td>\n",
       "      <td>True</td>\n",
       "    </tr>\n",
       "    <tr>\n",
       "      <th>...</th>\n",
       "      <td>...</td>\n",
       "      <td>...</td>\n",
       "      <td>...</td>\n",
       "      <td>...</td>\n",
       "      <td>...</td>\n",
       "      <td>...</td>\n",
       "      <td>...</td>\n",
       "      <td>...</td>\n",
       "    </tr>\n",
       "    <tr>\n",
       "      <th>995</th>\n",
       "      <td>66</td>\n",
       "      <td>59</td>\n",
       "      <td>6195986</td>\n",
       "      <td>59</td>\n",
       "      <td>58</td>\n",
       "      <td>7.071068</td>\n",
       "      <td>8</td>\n",
       "      <td>True</td>\n",
       "    </tr>\n",
       "    <tr>\n",
       "      <th>996</th>\n",
       "      <td>66</td>\n",
       "      <td>59</td>\n",
       "      <td>6195986</td>\n",
       "      <td>59</td>\n",
       "      <td>58</td>\n",
       "      <td>7.071068</td>\n",
       "      <td>8</td>\n",
       "      <td>True</td>\n",
       "    </tr>\n",
       "    <tr>\n",
       "      <th>997</th>\n",
       "      <td>66</td>\n",
       "      <td>59</td>\n",
       "      <td>6195986</td>\n",
       "      <td>59</td>\n",
       "      <td>58</td>\n",
       "      <td>7.071068</td>\n",
       "      <td>8</td>\n",
       "      <td>True</td>\n",
       "    </tr>\n",
       "    <tr>\n",
       "      <th>998</th>\n",
       "      <td>81</td>\n",
       "      <td>59</td>\n",
       "      <td>6195986</td>\n",
       "      <td>59</td>\n",
       "      <td>58</td>\n",
       "      <td>22.022716</td>\n",
       "      <td>23</td>\n",
       "      <td>True</td>\n",
       "    </tr>\n",
       "    <tr>\n",
       "      <th>999</th>\n",
       "      <td>66</td>\n",
       "      <td>59</td>\n",
       "      <td>6195986</td>\n",
       "      <td>59</td>\n",
       "      <td>58</td>\n",
       "      <td>7.071068</td>\n",
       "      <td>8</td>\n",
       "      <td>True</td>\n",
       "    </tr>\n",
       "  </tbody>\n",
       "</table>\n",
       "<p>1000 rows × 8 columns</p>\n",
       "</div>"
      ],
      "text/plain": [
       "     Projected Home Score  Projected Away Score     Game  Real Home Score  \\\n",
       "0                      81                    59  6195986               59   \n",
       "1                      66                    59  6195986               59   \n",
       "2                      66                    59  6195986               59   \n",
       "3                      66                    59  6195986               59   \n",
       "4                      66                    59  6195986               59   \n",
       "..                    ...                   ...      ...              ...   \n",
       "995                    66                    59  6195986               59   \n",
       "996                    66                    59  6195986               59   \n",
       "997                    66                    59  6195986               59   \n",
       "998                    81                    59  6195986               59   \n",
       "999                    66                    59  6195986               59   \n",
       "\n",
       "     Real Away Score   Distance  OU  Winner  \n",
       "0                 58  22.022716  23    True  \n",
       "1                 58   7.071068   8    True  \n",
       "2                 58   7.071068   8    True  \n",
       "3                 58   7.071068   8    True  \n",
       "4                 58   7.071068   8    True  \n",
       "..               ...        ...  ..     ...  \n",
       "995               58   7.071068   8    True  \n",
       "996               58   7.071068   8    True  \n",
       "997               58   7.071068   8    True  \n",
       "998               58  22.022716  23    True  \n",
       "999               58   7.071068   8    True  \n",
       "\n",
       "[1000 rows x 8 columns]"
      ]
     },
     "execution_count": 91,
     "metadata": {},
     "output_type": "execute_result"
    }
   ],
   "source": [
    "nn_testing_dataframe[nn_testing_dataframe['Game']=='6195986']"
   ]
  },
  {
   "cell_type": "code",
   "execution_count": null,
   "metadata": {},
   "outputs": [],
   "source": []
  }
 ],
 "metadata": {
  "kernelspec": {
   "display_name": "base",
   "language": "python",
   "name": "python3"
  },
  "language_info": {
   "codemirror_mode": {
    "name": "ipython",
    "version": 3
   },
   "file_extension": ".py",
   "mimetype": "text/x-python",
   "name": "python",
   "nbconvert_exporter": "python",
   "pygments_lexer": "ipython3",
   "version": "3.9.7"
  }
 },
 "nbformat": 4,
 "nbformat_minor": 2
}
