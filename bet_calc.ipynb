{
 "cells": [
  {
   "cell_type": "code",
   "execution_count": 1,
   "metadata": {},
   "outputs": [],
   "source": [
    "# from helper_functions.tourney_sim import simulate_tournament\n",
    "import os\n",
    "import numpy as np\n",
    "import pickle\n",
    "from tqdm import tqdm\n",
    "import pandas as pd\n",
    "pd.set_option('display.max_columns', 90)"
   ]
  },
  {
   "cell_type": "code",
   "execution_count": null,
   "metadata": {},
   "outputs": [],
   "source": []
  },
  {
   "cell_type": "code",
   "execution_count": 7,
   "metadata": {},
   "outputs": [],
   "source": [
    "real_winners = ['Michigan St.','Duquesne','Creighton', 'Arizona', 'North Carolina','Illinois','Oregon', 'Dayton',\n",
    "                'Texas','Oakland','Gonzaga','Iowa St.','Tennessee', 'NC State', 'Washington St.','Kansas']\n",
    "real_losers = ['Mississippi St.','BYU', 'Akron', 'Long Beach St.', 'Wagner', 'Morehead St.','South Carolina','Nevada',\n",
    "               'Colorado St.', 'Kentucky','McNeese','South Dakota St.',\"Saint Peter's\", 'Texas Tech','Drake','Samford']"
   ]
  },
  {
   "cell_type": "code",
   "execution_count": 8,
   "metadata": {},
   "outputs": [],
   "source": [
    "game_ids = [9, 4, 29, 15, 8, 5, 28, 14, 30, 21, 26, 7, 31, 20,6,27]"
   ]
  },
  {
   "cell_type": "code",
   "execution_count": 104,
   "metadata": {},
   "outputs": [],
   "source": [
    "lines = {'Arizona':-395,\n",
    "         'Gonzaga':-170,\n",
    "         'North Carolina':-185,\n",
    "         'Iowa St.':-290,\n",
    "         'NC State':-258,\n",
    "         'Tennesee':-285,\n",
    "         'Illinois':-535,\n",
    "         \"Creighton\":-298}"
   ]
  },
  {
   "cell_type": "code",
   "execution_count": 28,
   "metadata": {},
   "outputs": [],
   "source": [
    "def implied_prob(line):\n",
    "    if line < 0:\n",
    "        ip = (-1*line)/(-1*line+100)\n",
    "    else:\n",
    "        ip=100/(line+100)\n",
    "    return ip"
   ]
  },
  {
   "cell_type": "code",
   "execution_count": 40,
   "metadata": {},
   "outputs": [],
   "source": [
    "def reverse_prob(p):\n",
    "    if p <= .5:\n",
    "        line = (100/p)-100\n",
    "    else:\n",
    "        line = (100*p)/(p-1)\n",
    "    return line\n"
   ]
  },
  {
   "cell_type": "code",
   "execution_count": 87,
   "metadata": {},
   "outputs": [],
   "source": [
    "def payout(line, bet):\n",
    "    winnings=0\n",
    "    if line < 0:\n",
    "        winnings = bet/(-line/100)\n",
    "    else:\n",
    "        winnings = bet * (line/100)\n",
    "    return (bet + winnings)"
   ]
  },
  {
   "cell_type": "code",
   "execution_count": 42,
   "metadata": {},
   "outputs": [],
   "source": [
    "def combine_lines(lines=[]):\n",
    "    probs=[]\n",
    "    for l in lines:\n",
    "        probs.append(implied_prob(l))\n",
    "    total_prob=1\n",
    "    for p in probs:\n",
    "        total_prob*=p\n",
    "    return reverse_prob(total_prob)\n"
   ]
  },
  {
   "cell_type": "code",
   "execution_count": 79,
   "metadata": {},
   "outputs": [],
   "source": [
    "def find_ones_indexes(binary_tuple):\n",
    "    indexes = []\n",
    "    for index, bit in enumerate(binary_tuple):\n",
    "        if bit == 1:\n",
    "            indexes.append(index+1)\n",
    "    return indexes"
   ]
  },
  {
   "cell_type": "code",
   "execution_count": 48,
   "metadata": {},
   "outputs": [],
   "source": [
    "from itertools import combinations"
   ]
  },
  {
   "cell_type": "code",
   "execution_count": 51,
   "metadata": {},
   "outputs": [
    {
     "data": {
      "text/plain": [
       "[(1, 2),\n",
       " (1, 3),\n",
       " (1, 4),\n",
       " (1, 5),\n",
       " (2, 3),\n",
       " (2, 4),\n",
       " (2, 5),\n",
       " (3, 4),\n",
       " (3, 5),\n",
       " (4, 5)]"
      ]
     },
     "execution_count": 51,
     "metadata": {},
     "output_type": "execute_result"
    }
   ],
   "source": [
    "list(combinations([1,2,3,4,5],2))"
   ]
  },
  {
   "cell_type": "code",
   "execution_count": 58,
   "metadata": {},
   "outputs": [],
   "source": [
    "success = [1,1,1,1,1,1,1,1]"
   ]
  },
  {
   "cell_type": "code",
   "execution_count": 59,
   "metadata": {},
   "outputs": [],
   "source": [
    "combos_chosen = [1,1,1,1,1,1,1,1]"
   ]
  },
  {
   "cell_type": "code",
   "execution_count": 57,
   "metadata": {},
   "outputs": [
    {
     "name": "stdout",
     "output_type": "stream",
     "text": [
      "0.12439024390243902\n",
      "0.25\n",
      "0.15405405405405406\n",
      "0.13597122302158274\n",
      "0.13875968992248064\n",
      "0.13703703703703707\n",
      "0.11869158878504674\n",
      "0.14878048780487807\n",
      "0.3109756097560975\n",
      "0.1916282135794331\n",
      "0.1691349359536761\n",
      "0.17260351673284174\n",
      "0.17046070460704607\n",
      "0.1476407567813996\n",
      "0.18506841165972637\n",
      "0.3851351351351351\n",
      "0.33992805755395683\n",
      "0.3468992248062016\n",
      "0.34259259259259256\n",
      "0.2967289719626168\n",
      "0.37195121951219523\n",
      "0.20946918141162743\n",
      "0.2137649277184161\n",
      "0.2111111111111111\n",
      "0.18284920434453147\n",
      "0.22920237310481215\n",
      "0.1886732474485528\n",
      "0.18633093525179856\n",
      "0.1613864048947758\n",
      "0.20229864888576943\n",
      "0.19015216767154752\n",
      "0.16469608056219665\n",
      "0.2064473435432029\n",
      "0.1626514364832122\n",
      "0.20388437217705513\n",
      "0.17658992477775248\n",
      "0.4790705339485827\n",
      "0.42283733988419014\n",
      "0.43150879183210433\n",
      "0.42615176151761525\n",
      "0.36910189195349896\n",
      "0.4626710291493159\n",
      "0.26055922565836587\n",
      "0.2659027149668103\n",
      "0.2626016260162602\n",
      "0.22744657125783185\n",
      "0.2851053909352541\n",
      "0.23469111267990717\n",
      "0.23177750482540796\n",
      "0.2007489426739894\n",
      "0.2516397827603474\n",
      "0.23653074515241276\n",
      "0.20486585630907386\n",
      "0.2568003541634962\n",
      "0.20232251855228833\n",
      "0.25361226782999535\n",
      "0.21966063813817993\n",
      "0.5236729535290685\n",
      "0.5344123192960403\n",
      "0.5277777777777777\n",
      "0.45712301086132856\n",
      "0.5730059327620304\n",
      "0.471683118621382\n",
      "0.4658273381294964\n",
      "0.40346601223693945\n",
      "0.5057466222144236\n",
      "0.47538041917886886\n",
      "0.4117402014054916\n",
      "0.5161183588580073\n",
      "0.4066285912080305\n",
      "0.5097109304426377\n",
      "0.4414748119443812\n",
      "0.2906587866099327\n",
      "0.28705035971223025\n",
      "0.24862229943249242\n",
      "0.31164926990510433\n",
      "0.2929371231696813\n",
      "0.2537209889741948\n",
      "0.31804050221520447\n",
      "0.2505711318795431\n",
      "0.31409214092140925\n",
      "0.27204393817113215\n",
      "0.2585522279850538\n",
      "0.22393927500902996\n",
      "0.2807089779112615\n",
      "0.22115914744839643\n",
      "0.27722407439901736\n",
      "0.24011148045320296\n",
      "0.22569462891856581\n",
      "0.28290932263327806\n",
      "0.2450356320559511\n",
      "0.24199360062136446\n",
      "0.6513980641459145\n",
      "0.6647567874170255\n",
      "0.6565040650406503\n",
      "0.5686164281445795\n",
      "0.7127634773381353\n",
      "0.5867277816997678\n",
      "0.5794437620635198\n",
      "0.5018723566849735\n",
      "0.6290994569008683\n",
      "0.5913268628810319\n",
      "0.5121646407726846\n",
      "0.6420008854087407\n",
      "0.5058062963807208\n",
      "0.6340306695749884\n",
      "0.5491515953454497\n",
      "0.36155117358796507\n",
      "0.35706264256887177\n",
      "0.3092618846599296\n",
      "0.3876612869551297\n",
      "0.3643852019915549\n",
      "0.31560415701668143\n",
      "0.3956113564140348\n",
      "0.3116860420940658\n",
      "0.39069998017053353\n",
      "0.33839611821287174\n",
      "0.3216137470057987\n",
      "0.27855861037708607\n",
      "0.34917458227986187\n",
      "0.27510040292361504\n",
      "0.34483970230121674\n",
      "0.29867525617349644\n",
      "0.2807420993865086\n",
      "0.3519115964462727\n",
      "0.3048004203622806\n",
      "0.3010164300412095\n",
      "0.7266469665248316\n",
      "0.7176258992805755\n",
      "0.6215557485812309\n",
      "0.7791231747627605\n",
      "0.7323428079242031\n",
      "0.6343024724354871\n",
      "0.7951012555380109\n",
      "0.6264278296988578\n",
      "0.7852303523035231\n",
      "0.6801098454278304\n",
      "0.6463805699626345\n",
      "0.5598481875225749\n",
      "0.7017724447781538\n",
      "0.5528978686209911\n",
      "0.6930601859975434\n",
      "0.6002787011330074\n",
      "0.5642365722964144\n",
      "0.7072733065831951\n",
      "0.6125890801398779\n",
      "0.6049840015534114\n",
      "0.39831018905805593\n",
      "0.34498753177066777\n",
      "0.43244356056599753\n",
      "0.34070463255563777\n",
      "0.4270749254255132\n",
      "0.36990146988736683\n",
      "0.347691725631304\n",
      "0.4358332808134283\n",
      "0.37748732505916793\n",
      "0.37280095230858856\n",
      "0.30687974723459654\n",
      "0.38467526602654345\n",
      "0.33317794574514215\n",
      "0.3290416583988337\n",
      "0.3357895698544516\n",
      "0.9038779339699125\n",
      "0.8926566064221791\n",
      "0.7731547116498239\n",
      "0.9691532173878242\n",
      "0.9109630049788869\n",
      "0.7890103925417034\n",
      "0.9890283910350867\n",
      "0.7792151052351646\n",
      "0.9767499504263334\n",
      "0.8459902955321792\n",
      "0.8040343675144966\n",
      "0.6963965259427152\n",
      "0.8729364556996545\n",
      "0.6877510073090376\n",
      "0.8620992557530418\n",
      "0.746688140433741\n",
      "0.7018552484662716\n",
      "0.8797789911156816\n",
      "0.7620010509057016\n",
      "0.7525410751030237\n",
      "0.49545901565758177\n",
      "0.429130832202538\n",
      "0.5379175997284359\n",
      "0.42380332342286653\n",
      "0.5312395413829555\n",
      "0.4601213405916026\n",
      "0.4324945855413782\n",
      "0.5421340810118255\n",
      "0.46955740434189186\n",
      "0.4637280138472687\n",
      "0.38172846607230315\n",
      "0.47849850164277363\n",
      "0.4144408593415183\n",
      "0.40929572142293946\n",
      "0.4176894649409032\n",
      "0.9957754726451397\n",
      "0.8624688294266692\n",
      "1.0811089014149935\n",
      "0.8517615813890943\n",
      "1.067687313563783\n",
      "0.924753674718417\n",
      "0.86922931407826\n",
      "1.0895832020335707\n",
      "0.9437183126479198\n",
      "0.9320023807714712\n",
      "0.7671993680864916\n",
      "0.9616881650663587\n",
      "0.8329448643628553\n",
      "0.8226041459970843\n",
      "0.8394739246361288\n",
      "0.47276069168573\n",
      "0.5926078422571077\n",
      "0.5132741326344082\n",
      "0.5069020142900952\n",
      "0.5172974454514523\n",
      "0.45657718491000965\n",
      "1.2386475391439542\n",
      "1.0728270805063447\n",
      "1.3447939993210896\n",
      "1.059508308557166\n",
      "1.3280988534573885\n",
      "1.1503033514790064\n",
      "1.0812364638534453\n",
      "1.355335202529564\n",
      "1.1738935108547295\n",
      "1.1593200346181718\n",
      "0.9543211651807576\n",
      "1.196246254106934\n",
      "1.0361021483537958\n",
      "1.0232393035573488\n",
      "1.0442236623522578\n",
      "0.5880681774627373\n",
      "0.7371463403685973\n",
      "0.6384629454720686\n",
      "0.6305366519218258\n",
      "0.643467554098148\n",
      "0.567937473912451\n",
      "1.1819017292143248\n",
      "1.481519605642769\n",
      "1.2831853315860204\n",
      "1.2672550357252381\n",
      "1.293243613628631\n",
      "1.1414429622750242\n",
      "0.7033756632397445\n",
      "1.4701704436568428\n",
      "1.8428658509214932\n",
      "1.5961573636801716\n",
      "1.5763416298045643\n",
      "1.6086688852453703\n",
      "1.4198436847811275\n",
      "0.8749307030543164\n",
      "1.7584391580993612\n",
      "2.1873267576357907\n"
     ]
    }
   ],
   "source": [
    "for i in range(8):\n",
    "    current_combinations =list(combinations(lines.keys(),i+1))\n",
    "    for c in current_combinations:\n",
    "        line = combine_lines([lines[x] for x in c])\n",
    "        print(payout(line,0.1))"
   ]
  },
  {
   "cell_type": "code",
   "execution_count": 65,
   "metadata": {},
   "outputs": [
    {
     "name": "stdout",
     "output_type": "stream",
     "text": [
      "(0, 0, 0, 0, 0, 0, 0, 0)\n",
      "(0, 0, 0, 0, 0, 0, 0, 1)\n",
      "(0, 0, 0, 0, 0, 0, 1, 0)\n",
      "(0, 0, 0, 0, 0, 0, 1, 1)\n",
      "(0, 0, 0, 0, 0, 1, 0, 0)\n",
      "(0, 0, 0, 0, 0, 1, 0, 1)\n",
      "(0, 0, 0, 0, 0, 1, 1, 0)\n",
      "(0, 0, 0, 0, 0, 1, 1, 1)\n",
      "(0, 0, 0, 0, 1, 0, 0, 0)\n",
      "(0, 0, 0, 0, 1, 0, 0, 1)\n"
     ]
    }
   ],
   "source": [
    "binary_tuples = [tuple(int(bit) for bit in bin(i)[2:].zfill(8)) for i in range(256)]\n",
    "\n",
    "# Printing the first few values\n",
    "for i in range(10):\n",
    "    print(binary_tuples[i])"
   ]
  },
  {
   "cell_type": "code",
   "execution_count": 123,
   "metadata": {},
   "outputs": [],
   "source": [
    "n=4"
   ]
  },
  {
   "cell_type": "code",
   "execution_count": 124,
   "metadata": {},
   "outputs": [],
   "source": [
    "binary_tuples = [tuple(int(bit) for bit in bin(i)[2:].zfill(n)) for i in range(2**n)]"
   ]
  },
  {
   "cell_type": "code",
   "execution_count": 125,
   "metadata": {},
   "outputs": [
    {
     "data": {
      "text/plain": [
       "[(0, 0, 0, 0),\n",
       " (0, 0, 0, 1),\n",
       " (0, 0, 1, 0),\n",
       " (0, 0, 1, 1),\n",
       " (0, 1, 0, 0),\n",
       " (0, 1, 0, 1),\n",
       " (0, 1, 1, 0),\n",
       " (0, 1, 1, 1),\n",
       " (1, 0, 0, 0),\n",
       " (1, 0, 0, 1),\n",
       " (1, 0, 1, 0),\n",
       " (1, 0, 1, 1),\n",
       " (1, 1, 0, 0),\n",
       " (1, 1, 0, 1),\n",
       " (1, 1, 1, 0),\n",
       " (1, 1, 1, 1)]"
      ]
     },
     "execution_count": 125,
     "metadata": {},
     "output_type": "execute_result"
    }
   ],
   "source": [
    "binary_tuples"
   ]
  },
  {
   "cell_type": "code",
   "execution_count": 128,
   "metadata": {},
   "outputs": [],
   "source": [
    "lines={'Oakland':210,\n",
    "       'MSU':160,\n",
    "       'Texas':235,\n",
    "       'Dq':380}"
   ]
  },
  {
   "cell_type": "code",
   "execution_count": 127,
   "metadata": {},
   "outputs": [],
   "source": [
    "probs={'Oakland':.381,\n",
    "       'MSU':.284,\n",
    "       'Texas':.349,\n",
    "       'Dq':.348}"
   ]
  },
  {
   "cell_type": "code",
   "execution_count": 126,
   "metadata": {},
   "outputs": [],
   "source": [
    "rr_possibilities = binary_tuples.copy()"
   ]
  },
  {
   "cell_type": "code",
   "execution_count": 130,
   "metadata": {},
   "outputs": [
    {
     "name": "stderr",
     "output_type": "stream",
     "text": [
      "100%|██████████| 10000/10000 [00:15<00:00, 658.34it/s]\n"
     ]
    }
   ],
   "source": [
    "best_rr = []\n",
    "moneys = []\n",
    "all_df = pd.DataFrame()\n",
    "\n",
    "for i in tqdm(range(10000)):\n",
    "    current_success = (np.random.choice([1,0],p=[probs['Oakland'], 1-probs['Oakland']]),\n",
    "                       np.random.choice([1,0],p=[probs['MSU'], 1-probs['MSU']]),\n",
    "                       np.random.choice([1,0],p=[probs['Texas'], 1-probs['Texas']]),\n",
    "                       np.random.choice([1,0],p=[probs['Dq'], 1-probs['Dq']]))\n",
    "    success_dict = dict(zip(lines.keys(), current_success))\n",
    "    rr_moneys = []\n",
    "    for c in rr_possibilities:\n",
    "        cost = 0\n",
    "        current_payout = 0\n",
    "        current_rrs = find_ones_indexes(c)\n",
    "        for i in current_rrs:\n",
    "            current_combinations =list(combinations(lines.keys(),i))\n",
    "            for combo in current_combinations:\n",
    "                line = combine_lines([lines[x] for x in combo])\n",
    "                cost += 0.1\n",
    "                win = True\n",
    "                for choice in combo:\n",
    "                    if success_dict[choice] == 0:\n",
    "                        win=False\n",
    "                if win:\n",
    "                    current_payout += payout(line,0.1)\n",
    "        rr_moneys.append(current_payout-cost)\n",
    "    df = pd.DataFrame(zip(rr_possibilities,rr_moneys)).sort_values(by=1,ascending=False)\n",
    "    df['iter']=1\n",
    "    all_df=pd.concat([all_df, df])\n",
    "    best_rr.append(df[0].iloc[0])\n",
    "    moneys.append(df[1].iloc[0])\n"
   ]
  },
  {
   "cell_type": "code",
   "execution_count": 135,
   "metadata": {},
   "outputs": [],
   "source": [
    "new_df = all_df.groupby(0)[1].mean().reset_index().sort_values(by=1).copy()\n",
    "new_df.columns=['RR Set','Expected Return']"
   ]
  },
  {
   "cell_type": "code",
   "execution_count": 138,
   "metadata": {},
   "outputs": [],
   "source": [
    "new_df['Expected Return'] *= 10"
   ]
  },
  {
   "cell_type": "code",
   "execution_count": 139,
   "metadata": {},
   "outputs": [
    {
     "data": {
      "text/html": [
       "<div>\n",
       "<style scoped>\n",
       "    .dataframe tbody tr th:only-of-type {\n",
       "        vertical-align: middle;\n",
       "    }\n",
       "\n",
       "    .dataframe tbody tr th {\n",
       "        vertical-align: top;\n",
       "    }\n",
       "\n",
       "    .dataframe thead th {\n",
       "        text-align: right;\n",
       "    }\n",
       "</style>\n",
       "<table border=\"1\" class=\"dataframe\">\n",
       "  <thead>\n",
       "    <tr style=\"text-align: right;\">\n",
       "      <th></th>\n",
       "      <th>RR Set</th>\n",
       "      <th>Expected Return</th>\n",
       "    </tr>\n",
       "  </thead>\n",
       "  <tbody>\n",
       "    <tr>\n",
       "      <th>0</th>\n",
       "      <td>(0, 0, 0, 0)</td>\n",
       "      <td>0.000000</td>\n",
       "    </tr>\n",
       "    <tr>\n",
       "      <th>1</th>\n",
       "      <td>(0, 0, 0, 1)</td>\n",
       "      <td>0.710783</td>\n",
       "    </tr>\n",
       "    <tr>\n",
       "      <th>8</th>\n",
       "      <td>(1, 0, 0, 0)</td>\n",
       "      <td>0.753825</td>\n",
       "    </tr>\n",
       "    <tr>\n",
       "      <th>9</th>\n",
       "      <td>(1, 0, 0, 1)</td>\n",
       "      <td>1.464608</td>\n",
       "    </tr>\n",
       "    <tr>\n",
       "      <th>2</th>\n",
       "      <td>(0, 0, 1, 0)</td>\n",
       "      <td>2.119748</td>\n",
       "    </tr>\n",
       "    <tr>\n",
       "      <th>4</th>\n",
       "      <td>(0, 1, 0, 0)</td>\n",
       "      <td>2.222667</td>\n",
       "    </tr>\n",
       "    <tr>\n",
       "      <th>3</th>\n",
       "      <td>(0, 0, 1, 1)</td>\n",
       "      <td>2.830531</td>\n",
       "    </tr>\n",
       "    <tr>\n",
       "      <th>10</th>\n",
       "      <td>(1, 0, 1, 0)</td>\n",
       "      <td>2.873573</td>\n",
       "    </tr>\n",
       "    <tr>\n",
       "      <th>5</th>\n",
       "      <td>(0, 1, 0, 1)</td>\n",
       "      <td>2.933450</td>\n",
       "    </tr>\n",
       "    <tr>\n",
       "      <th>12</th>\n",
       "      <td>(1, 1, 0, 0)</td>\n",
       "      <td>2.976492</td>\n",
       "    </tr>\n",
       "    <tr>\n",
       "      <th>11</th>\n",
       "      <td>(1, 0, 1, 1)</td>\n",
       "      <td>3.584356</td>\n",
       "    </tr>\n",
       "    <tr>\n",
       "      <th>13</th>\n",
       "      <td>(1, 1, 0, 1)</td>\n",
       "      <td>3.687275</td>\n",
       "    </tr>\n",
       "    <tr>\n",
       "      <th>6</th>\n",
       "      <td>(0, 1, 1, 0)</td>\n",
       "      <td>4.342415</td>\n",
       "    </tr>\n",
       "    <tr>\n",
       "      <th>7</th>\n",
       "      <td>(0, 1, 1, 1)</td>\n",
       "      <td>5.053198</td>\n",
       "    </tr>\n",
       "    <tr>\n",
       "      <th>14</th>\n",
       "      <td>(1, 1, 1, 0)</td>\n",
       "      <td>5.096240</td>\n",
       "    </tr>\n",
       "    <tr>\n",
       "      <th>15</th>\n",
       "      <td>(1, 1, 1, 1)</td>\n",
       "      <td>5.807023</td>\n",
       "    </tr>\n",
       "  </tbody>\n",
       "</table>\n",
       "</div>"
      ],
      "text/plain": [
       "          RR Set  Expected Return\n",
       "0   (0, 0, 0, 0)         0.000000\n",
       "1   (0, 0, 0, 1)         0.710783\n",
       "8   (1, 0, 0, 0)         0.753825\n",
       "9   (1, 0, 0, 1)         1.464608\n",
       "2   (0, 0, 1, 0)         2.119748\n",
       "4   (0, 1, 0, 0)         2.222667\n",
       "3   (0, 0, 1, 1)         2.830531\n",
       "10  (1, 0, 1, 0)         2.873573\n",
       "5   (0, 1, 0, 1)         2.933450\n",
       "12  (1, 1, 0, 0)         2.976492\n",
       "11  (1, 0, 1, 1)         3.584356\n",
       "13  (1, 1, 0, 1)         3.687275\n",
       "6   (0, 1, 1, 0)         4.342415\n",
       "7   (0, 1, 1, 1)         5.053198\n",
       "14  (1, 1, 1, 0)         5.096240\n",
       "15  (1, 1, 1, 1)         5.807023"
      ]
     },
     "execution_count": 139,
     "metadata": {},
     "output_type": "execute_result"
    }
   ],
   "source": [
    "new_df"
   ]
  },
  {
   "cell_type": "code",
   "execution_count": 136,
   "metadata": {},
   "outputs": [
    {
     "data": {
      "text/html": [
       "<div>\n",
       "<style scoped>\n",
       "    .dataframe tbody tr th:only-of-type {\n",
       "        vertical-align: middle;\n",
       "    }\n",
       "\n",
       "    .dataframe tbody tr th {\n",
       "        vertical-align: top;\n",
       "    }\n",
       "\n",
       "    .dataframe thead th {\n",
       "        text-align: right;\n",
       "    }\n",
       "</style>\n",
       "<table border=\"1\" class=\"dataframe\">\n",
       "  <thead>\n",
       "    <tr style=\"text-align: right;\">\n",
       "      <th></th>\n",
       "      <th>0</th>\n",
       "      <th>1</th>\n",
       "    </tr>\n",
       "  </thead>\n",
       "  <tbody>\n",
       "    <tr>\n",
       "      <th>0</th>\n",
       "      <td>(0, 0, 0, 0)</td>\n",
       "      <td>0.000000</td>\n",
       "    </tr>\n",
       "    <tr>\n",
       "      <th>1</th>\n",
       "      <td>(0, 0, 0, 1)</td>\n",
       "      <td>0.071078</td>\n",
       "    </tr>\n",
       "    <tr>\n",
       "      <th>8</th>\n",
       "      <td>(1, 0, 0, 0)</td>\n",
       "      <td>0.075383</td>\n",
       "    </tr>\n",
       "    <tr>\n",
       "      <th>9</th>\n",
       "      <td>(1, 0, 0, 1)</td>\n",
       "      <td>0.146461</td>\n",
       "    </tr>\n",
       "    <tr>\n",
       "      <th>2</th>\n",
       "      <td>(0, 0, 1, 0)</td>\n",
       "      <td>0.211975</td>\n",
       "    </tr>\n",
       "    <tr>\n",
       "      <th>4</th>\n",
       "      <td>(0, 1, 0, 0)</td>\n",
       "      <td>0.222267</td>\n",
       "    </tr>\n",
       "    <tr>\n",
       "      <th>3</th>\n",
       "      <td>(0, 0, 1, 1)</td>\n",
       "      <td>0.283053</td>\n",
       "    </tr>\n",
       "    <tr>\n",
       "      <th>10</th>\n",
       "      <td>(1, 0, 1, 0)</td>\n",
       "      <td>0.287357</td>\n",
       "    </tr>\n",
       "    <tr>\n",
       "      <th>5</th>\n",
       "      <td>(0, 1, 0, 1)</td>\n",
       "      <td>0.293345</td>\n",
       "    </tr>\n",
       "    <tr>\n",
       "      <th>12</th>\n",
       "      <td>(1, 1, 0, 0)</td>\n",
       "      <td>0.297649</td>\n",
       "    </tr>\n",
       "    <tr>\n",
       "      <th>11</th>\n",
       "      <td>(1, 0, 1, 1)</td>\n",
       "      <td>0.358436</td>\n",
       "    </tr>\n",
       "    <tr>\n",
       "      <th>13</th>\n",
       "      <td>(1, 1, 0, 1)</td>\n",
       "      <td>0.368728</td>\n",
       "    </tr>\n",
       "    <tr>\n",
       "      <th>6</th>\n",
       "      <td>(0, 1, 1, 0)</td>\n",
       "      <td>0.434242</td>\n",
       "    </tr>\n",
       "    <tr>\n",
       "      <th>7</th>\n",
       "      <td>(0, 1, 1, 1)</td>\n",
       "      <td>0.505320</td>\n",
       "    </tr>\n",
       "    <tr>\n",
       "      <th>14</th>\n",
       "      <td>(1, 1, 1, 0)</td>\n",
       "      <td>0.509624</td>\n",
       "    </tr>\n",
       "    <tr>\n",
       "      <th>15</th>\n",
       "      <td>(1, 1, 1, 1)</td>\n",
       "      <td>0.580702</td>\n",
       "    </tr>\n",
       "  </tbody>\n",
       "</table>\n",
       "</div>"
      ],
      "text/plain": [
       "               0         1\n",
       "0   (0, 0, 0, 0)  0.000000\n",
       "1   (0, 0, 0, 1)  0.071078\n",
       "8   (1, 0, 0, 0)  0.075383\n",
       "9   (1, 0, 0, 1)  0.146461\n",
       "2   (0, 0, 1, 0)  0.211975\n",
       "4   (0, 1, 0, 0)  0.222267\n",
       "3   (0, 0, 1, 1)  0.283053\n",
       "10  (1, 0, 1, 0)  0.287357\n",
       "5   (0, 1, 0, 1)  0.293345\n",
       "12  (1, 1, 0, 0)  0.297649\n",
       "11  (1, 0, 1, 1)  0.358436\n",
       "13  (1, 1, 0, 1)  0.368728\n",
       "6   (0, 1, 1, 0)  0.434242\n",
       "7   (0, 1, 1, 1)  0.505320\n",
       "14  (1, 1, 1, 0)  0.509624\n",
       "15  (1, 1, 1, 1)  0.580702"
      ]
     },
     "execution_count": 136,
     "metadata": {},
     "output_type": "execute_result"
    }
   ],
   "source": [
    "all_df.groupby(0)[1].mean().reset_index().sort_values(by=1)"
   ]
  },
  {
   "cell_type": "code",
   "execution_count": 115,
   "metadata": {},
   "outputs": [
    {
     "data": {
      "text/plain": [
       "0\n",
       "(0, 0, 0, 0, 0, 0, 0, 0)    500\n",
       "(1, 1, 0, 0, 0, 0, 0, 0)    183\n",
       "(1, 1, 1, 1, 1, 1, 1, 0)    153\n",
       "(1, 0, 0, 0, 0, 0, 0, 0)     73\n",
       "(1, 1, 1, 1, 1, 1, 1, 1)     46\n",
       "(1, 1, 1, 1, 1, 1, 0, 0)     25\n",
       "(1, 1, 1, 0, 0, 0, 0, 0)     15\n",
       "Name: count, dtype: int64"
      ]
     },
     "execution_count": 115,
     "metadata": {},
     "output_type": "execute_result"
    }
   ],
   "source": [
    "pd.DataFrame(zip(best_rr,moneys))[0].value_counts()"
   ]
  },
  {
   "cell_type": "code",
   "execution_count": 116,
   "metadata": {},
   "outputs": [
    {
     "data": {
      "text/html": [
       "<div>\n",
       "<style scoped>\n",
       "    .dataframe tbody tr th:only-of-type {\n",
       "        vertical-align: middle;\n",
       "    }\n",
       "\n",
       "    .dataframe tbody tr th {\n",
       "        vertical-align: top;\n",
       "    }\n",
       "\n",
       "    .dataframe thead th {\n",
       "        text-align: right;\n",
       "    }\n",
       "</style>\n",
       "<table border=\"1\" class=\"dataframe\">\n",
       "  <thead>\n",
       "    <tr style=\"text-align: right;\">\n",
       "      <th></th>\n",
       "      <th>0</th>\n",
       "      <th>1</th>\n",
       "    </tr>\n",
       "  </thead>\n",
       "  <tbody>\n",
       "    <tr>\n",
       "      <th>0</th>\n",
       "      <td>(0, 0, 0, 0, 0, 0, 0, 0)</td>\n",
       "      <td>0.000000</td>\n",
       "    </tr>\n",
       "    <tr>\n",
       "      <th>1</th>\n",
       "      <td>(0, 0, 0, 0, 0, 0, 0, 0)</td>\n",
       "      <td>0.000000</td>\n",
       "    </tr>\n",
       "    <tr>\n",
       "      <th>2</th>\n",
       "      <td>(0, 0, 0, 0, 0, 0, 0, 0)</td>\n",
       "      <td>0.000000</td>\n",
       "    </tr>\n",
       "    <tr>\n",
       "      <th>3</th>\n",
       "      <td>(0, 0, 0, 0, 0, 0, 0, 0)</td>\n",
       "      <td>0.000000</td>\n",
       "    </tr>\n",
       "    <tr>\n",
       "      <th>4</th>\n",
       "      <td>(1, 1, 1, 1, 1, 1, 1, 0)</td>\n",
       "      <td>18.703515</td>\n",
       "    </tr>\n",
       "    <tr>\n",
       "      <th>...</th>\n",
       "      <td>...</td>\n",
       "      <td>...</td>\n",
       "    </tr>\n",
       "    <tr>\n",
       "      <th>990</th>\n",
       "      <td>(1, 0, 0, 0, 0, 0, 0, 0)</td>\n",
       "      <td>0.014633</td>\n",
       "    </tr>\n",
       "    <tr>\n",
       "      <th>991</th>\n",
       "      <td>(0, 0, 0, 0, 0, 0, 0, 0)</td>\n",
       "      <td>0.000000</td>\n",
       "    </tr>\n",
       "    <tr>\n",
       "      <th>992</th>\n",
       "      <td>(0, 0, 0, 0, 0, 0, 0, 0)</td>\n",
       "      <td>0.000000</td>\n",
       "    </tr>\n",
       "    <tr>\n",
       "      <th>993</th>\n",
       "      <td>(1, 1, 0, 0, 0, 0, 0, 0)</td>\n",
       "      <td>0.166429</td>\n",
       "    </tr>\n",
       "    <tr>\n",
       "      <th>994</th>\n",
       "      <td>(0, 0, 0, 0, 0, 0, 0, 0)</td>\n",
       "      <td>0.000000</td>\n",
       "    </tr>\n",
       "  </tbody>\n",
       "</table>\n",
       "<p>995 rows × 2 columns</p>\n",
       "</div>"
      ],
      "text/plain": [
       "                            0          1\n",
       "0    (0, 0, 0, 0, 0, 0, 0, 0)   0.000000\n",
       "1    (0, 0, 0, 0, 0, 0, 0, 0)   0.000000\n",
       "2    (0, 0, 0, 0, 0, 0, 0, 0)   0.000000\n",
       "3    (0, 0, 0, 0, 0, 0, 0, 0)   0.000000\n",
       "4    (1, 1, 1, 1, 1, 1, 1, 0)  18.703515\n",
       "..                        ...        ...\n",
       "990  (1, 0, 0, 0, 0, 0, 0, 0)   0.014633\n",
       "991  (0, 0, 0, 0, 0, 0, 0, 0)   0.000000\n",
       "992  (0, 0, 0, 0, 0, 0, 0, 0)   0.000000\n",
       "993  (1, 1, 0, 0, 0, 0, 0, 0)   0.166429\n",
       "994  (0, 0, 0, 0, 0, 0, 0, 0)   0.000000\n",
       "\n",
       "[995 rows x 2 columns]"
      ]
     },
     "execution_count": 116,
     "metadata": {},
     "output_type": "execute_result"
    }
   ],
   "source": [
    "pd.DataFrame(zip(best_rr,moneys))"
   ]
  },
  {
   "cell_type": "code",
   "execution_count": 90,
   "metadata": {},
   "outputs": [
    {
     "data": {
      "text/html": [
       "<div>\n",
       "<style scoped>\n",
       "    .dataframe tbody tr th:only-of-type {\n",
       "        vertical-align: middle;\n",
       "    }\n",
       "\n",
       "    .dataframe tbody tr th {\n",
       "        vertical-align: top;\n",
       "    }\n",
       "\n",
       "    .dataframe thead th {\n",
       "        text-align: right;\n",
       "    }\n",
       "</style>\n",
       "<table border=\"1\" class=\"dataframe\">\n",
       "  <thead>\n",
       "    <tr style=\"text-align: right;\">\n",
       "      <th></th>\n",
       "      <th>0</th>\n",
       "      <th>1</th>\n",
       "    </tr>\n",
       "  </thead>\n",
       "  <tbody>\n",
       "    <tr>\n",
       "      <th>0</th>\n",
       "      <td>(0, 0, 0, 0, 0, 0, 0, 0)</td>\n",
       "      <td>0.000000</td>\n",
       "    </tr>\n",
       "    <tr>\n",
       "      <th>1</th>\n",
       "      <td>(0, 0, 0, 0, 0, 0, 0, 1)</td>\n",
       "      <td>2.087327</td>\n",
       "    </tr>\n",
       "    <tr>\n",
       "      <th>2</th>\n",
       "      <td>(0, 0, 0, 0, 0, 0, 1, 0)</td>\n",
       "      <td>11.347418</td>\n",
       "    </tr>\n",
       "    <tr>\n",
       "      <th>3</th>\n",
       "      <td>(0, 0, 0, 0, 0, 0, 1, 1)</td>\n",
       "      <td>13.434744</td>\n",
       "    </tr>\n",
       "    <tr>\n",
       "      <th>4</th>\n",
       "      <td>(0, 0, 0, 0, 0, 1, 0, 0)</td>\n",
       "      <td>26.575640</td>\n",
       "    </tr>\n",
       "    <tr>\n",
       "      <th>...</th>\n",
       "      <td>...</td>\n",
       "      <td>...</td>\n",
       "    </tr>\n",
       "    <tr>\n",
       "      <th>251</th>\n",
       "      <td>(1, 1, 1, 1, 1, 0, 1, 1)</td>\n",
       "      <td>92.795916</td>\n",
       "    </tr>\n",
       "    <tr>\n",
       "      <th>252</th>\n",
       "      <td>(1, 1, 1, 1, 1, 1, 0, 0)</td>\n",
       "      <td>105.936811</td>\n",
       "    </tr>\n",
       "    <tr>\n",
       "      <th>253</th>\n",
       "      <td>(1, 1, 1, 1, 1, 1, 0, 1)</td>\n",
       "      <td>108.024138</td>\n",
       "    </tr>\n",
       "    <tr>\n",
       "      <th>254</th>\n",
       "      <td>(1, 1, 1, 1, 1, 1, 1, 0)</td>\n",
       "      <td>117.284229</td>\n",
       "    </tr>\n",
       "    <tr>\n",
       "      <th>255</th>\n",
       "      <td>(1, 1, 1, 1, 1, 1, 1, 1)</td>\n",
       "      <td>119.371555</td>\n",
       "    </tr>\n",
       "  </tbody>\n",
       "</table>\n",
       "<p>256 rows × 2 columns</p>\n",
       "</div>"
      ],
      "text/plain": [
       "                            0           1\n",
       "0    (0, 0, 0, 0, 0, 0, 0, 0)    0.000000\n",
       "1    (0, 0, 0, 0, 0, 0, 0, 1)    2.087327\n",
       "2    (0, 0, 0, 0, 0, 0, 1, 0)   11.347418\n",
       "3    (0, 0, 0, 0, 0, 0, 1, 1)   13.434744\n",
       "4    (0, 0, 0, 0, 0, 1, 0, 0)   26.575640\n",
       "..                        ...         ...\n",
       "251  (1, 1, 1, 1, 1, 0, 1, 1)   92.795916\n",
       "252  (1, 1, 1, 1, 1, 1, 0, 0)  105.936811\n",
       "253  (1, 1, 1, 1, 1, 1, 0, 1)  108.024138\n",
       "254  (1, 1, 1, 1, 1, 1, 1, 0)  117.284229\n",
       "255  (1, 1, 1, 1, 1, 1, 1, 1)  119.371555\n",
       "\n",
       "[256 rows x 2 columns]"
      ]
     },
     "execution_count": 90,
     "metadata": {},
     "output_type": "execute_result"
    }
   ],
   "source": [
    "pd.DataFrame(zip(rr_possibilities,rr_moneys))"
   ]
  },
  {
   "cell_type": "code",
   "execution_count": 85,
   "metadata": {},
   "outputs": [
    {
     "data": {
      "text/plain": [
       "[('Arizona',\n",
       "  'Kansas',\n",
       "  'North Carolina',\n",
       "  'Iowa St.',\n",
       "  'NC State',\n",
       "  'Tennesee',\n",
       "  'Illinois',\n",
       "  'Creighton')]"
      ]
     },
     "execution_count": 85,
     "metadata": {},
     "output_type": "execute_result"
    }
   ],
   "source": [
    "current_combinations"
   ]
  },
  {
   "cell_type": "code",
   "execution_count": 70,
   "metadata": {},
   "outputs": [
    {
     "data": {
      "text/plain": [
       "(0, 0, 0, 0, 0, 0, 0, 0)"
      ]
     },
     "execution_count": 70,
     "metadata": {},
     "output_type": "execute_result"
    }
   ],
   "source": [
    "rr_possibilities[0]"
   ]
  },
  {
   "cell_type": "code",
   "execution_count": 80,
   "metadata": {},
   "outputs": [],
   "source": [
    "abc=find_ones_indexes((0,0,1,0,1,1,0,1))"
   ]
  },
  {
   "cell_type": "code",
   "execution_count": 81,
   "metadata": {},
   "outputs": [
    {
     "data": {
      "text/plain": [
       "[3, 5, 6, 8]"
      ]
     },
     "execution_count": 81,
     "metadata": {},
     "output_type": "execute_result"
    }
   ],
   "source": [
    "abc"
   ]
  },
  {
   "cell_type": "code",
   "execution_count": 117,
   "metadata": {},
   "outputs": [],
   "source": [
    "d2={'MSU':160,\n",
    "    'Oregon':160,\n",
    "    'GCU':200,\n",
    "    'Oakland':210}"
   ]
  },
  {
   "cell_type": "code",
   "execution_count": 118,
   "metadata": {},
   "outputs": [],
   "source": [
    "all_combs = list(combinations(d2.keys(),2))"
   ]
  },
  {
   "cell_type": "code",
   "execution_count": 119,
   "metadata": {},
   "outputs": [
    {
     "data": {
      "text/plain": [
       "[('MSU', 'Oregon'),\n",
       " ('MSU', 'GCU'),\n",
       " ('MSU', 'Oakland'),\n",
       " ('Oregon', 'GCU'),\n",
       " ('Oregon', 'Oakland'),\n",
       " ('GCU', 'Oakland')]"
      ]
     },
     "execution_count": 119,
     "metadata": {},
     "output_type": "execute_result"
    }
   ],
   "source": [
    "all_combs"
   ]
  },
  {
   "cell_type": "code",
   "execution_count": 121,
   "metadata": {},
   "outputs": [
    {
     "name": "stdout",
     "output_type": "stream",
     "text": [
      "('MSU', 'Oregon'): 576.0\n",
      "('MSU', 'GCU'): 680.0000000000001\n",
      "('MSU', 'Oakland'): 706.0\n",
      "('Oregon', 'GCU'): 680.0000000000001\n",
      "('Oregon', 'Oakland'): 706.0\n",
      "('GCU', 'Oakland'): 830.0000000000001\n"
     ]
    }
   ],
   "source": [
    "for k in all_combs:\n",
    "    L = combine_lines([d2[x] for x in k])\n",
    "    print(\"{}: {}\".format(k, L))"
   ]
  }
 ],
 "metadata": {
  "kernelspec": {
   "display_name": "base",
   "language": "python",
   "name": "python3"
  },
  "language_info": {
   "codemirror_mode": {
    "name": "ipython",
    "version": 3
   },
   "file_extension": ".py",
   "mimetype": "text/x-python",
   "name": "python",
   "nbconvert_exporter": "python",
   "pygments_lexer": "ipython3",
   "version": "3.9.7"
  }
 },
 "nbformat": 4,
 "nbformat_minor": 2
}
