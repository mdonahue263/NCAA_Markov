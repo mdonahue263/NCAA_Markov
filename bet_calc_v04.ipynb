{
 "cells": [
  {
   "cell_type": "code",
   "execution_count": 1,
   "metadata": {},
   "outputs": [],
   "source": [
    "# from helper_functions.tourney_sim import simulate_tournament\n",
    "#in v02 im just going to test 8 combo\n",
    "#v03 calculate expected value format\n",
    "#v04 do the same for generalized to n=4 games\n",
    "import os\n",
    "import numpy as np\n",
    "import pickle\n",
    "from tqdm import tqdm\n",
    "from itertools import combinations, product\n",
    "import pandas as pd\n",
    "pd.set_option('display.max_columns', 90)"
   ]
  },
  {
   "cell_type": "code",
   "execution_count": 2,
   "metadata": {},
   "outputs": [],
   "source": [
    "def implied_prob(line):\n",
    "    if line < 0:\n",
    "        ip = (-1*line)/(-1*line+100)\n",
    "    else:\n",
    "        ip=100/(line+100)\n",
    "    return ip"
   ]
  },
  {
   "cell_type": "code",
   "execution_count": 3,
   "metadata": {},
   "outputs": [],
   "source": [
    "def reverse_prob(p):\n",
    "    if p <= .5:\n",
    "        line = (100/p)-100\n",
    "    else:\n",
    "        line = (100*p)/(p-1)\n",
    "    return line\n"
   ]
  },
  {
   "cell_type": "code",
   "execution_count": 4,
   "metadata": {},
   "outputs": [],
   "source": [
    "def payout(line, bet):\n",
    "    winnings=0\n",
    "    if line < 0:\n",
    "        winnings = bet/(-line/100)\n",
    "    else:\n",
    "        winnings = bet * (line/100)\n",
    "    return (bet + winnings)"
   ]
  },
  {
   "cell_type": "code",
   "execution_count": 5,
   "metadata": {},
   "outputs": [],
   "source": [
    "def combine_lines(lines=[]):\n",
    "    probs=[]\n",
    "    for l in lines:\n",
    "        probs.append(implied_prob(l))\n",
    "    total_prob=1\n",
    "    for p in probs:\n",
    "        total_prob*=p\n",
    "    return reverse_prob(total_prob)\n"
   ]
  },
  {
   "cell_type": "code",
   "execution_count": 6,
   "metadata": {},
   "outputs": [],
   "source": [
    "def find_ones_indexes(binary_tuple):\n",
    "    indexes = []\n",
    "    for index, bit in enumerate(binary_tuple):\n",
    "        if bit == 1:\n",
    "            indexes.append(index+1)\n",
    "    return indexes"
   ]
  },
  {
   "cell_type": "code",
   "execution_count": null,
   "metadata": {},
   "outputs": [],
   "source": []
  },
  {
   "cell_type": "code",
   "execution_count": 7,
   "metadata": {},
   "outputs": [],
   "source": [
    "lines1 = {'Marqette':-285,\n",
    "         'Purdue':-230,\n",
    "         'Houston':-192,\n",
    "         'Tennessee':-148}"
   ]
  },
  {
   "cell_type": "code",
   "execution_count": 8,
   "metadata": {},
   "outputs": [],
   "source": [
    "lines2 = {'NC State':230,\n",
    "         'Gonzaga':190,\n",
    "         'Duke':160,\n",
    "         'Creighton':124}"
   ]
  },
  {
   "cell_type": "code",
   "execution_count": 9,
   "metadata": {},
   "outputs": [],
   "source": [
    "probs1={'Marqette':.832,\n",
    "       'Purdue':.566,\n",
    "       'Houston':.416,\n",
    "       'Tennessee':.481}"
   ]
  },
  {
   "cell_type": "code",
   "execution_count": 10,
   "metadata": {},
   "outputs": [],
   "source": [
    "probs2={'NC State':.168,\n",
    "       'Gonzaga':.434,\n",
    "       'Duke':.584,\n",
    "       'Creighton':.519}"
   ]
  },
  {
   "cell_type": "code",
   "execution_count": 11,
   "metadata": {},
   "outputs": [],
   "source": [
    "lines_comb = dict(zip(list(lines1.keys()) + list(lines2.keys()),\n",
    "                      list(lines1.values())+list(lines2.values())))\n",
    "\n",
    "probs_comb = dict(zip(list(probs1.keys()) + list(probs2.keys()),\n",
    "                      list(probs1.values())+list(probs2.values())))"
   ]
  },
  {
   "cell_type": "code",
   "execution_count": 12,
   "metadata": {},
   "outputs": [],
   "source": [
    "lines_df = pd.DataFrame(zip(lines1,lines2))"
   ]
  },
  {
   "cell_type": "code",
   "execution_count": 13,
   "metadata": {},
   "outputs": [
    {
     "name": "stderr",
     "output_type": "stream",
     "text": [
      "100%|██████████| 4096/4096 [00:00<00:00, 4094344.42it/s]\n"
     ]
    }
   ],
   "source": [
    "\n",
    "n=4\n",
    "N=2**n\n",
    "\n",
    "# Generate all possible combinations of three bytes\n",
    "combos = product(range(N), repeat=3)\n",
    "\n",
    "# Convert each combination into the desired format\n",
    "data = tqdm([tuple(tuple(int(bit) for bit in bin(byte)[2:].zfill(n)) for byte in combo) for combo in combos])\n",
    "\n",
    "# Create DataFrame\n",
    "df = pd.DataFrame(data, columns=['Byte1', 'Byte2', 'Byte3'])"
   ]
  },
  {
   "cell_type": "code",
   "execution_count": 15,
   "metadata": {},
   "outputs": [],
   "source": [
    "df.columns=['Picks','Winners','RR Choice']"
   ]
  },
  {
   "cell_type": "code",
   "execution_count": 16,
   "metadata": {},
   "outputs": [],
   "source": [
    "def map_byte_to_teams(b):\n",
    "    return str(list(map(lambda x,y: lines_df.loc[x][y], range(n), b)))\n",
    "\n",
    "vec_map = np.vectorize(map_byte_to_teams)"
   ]
  },
  {
   "cell_type": "code",
   "execution_count": 17,
   "metadata": {},
   "outputs": [],
   "source": [
    "kreb = df['Picks'].unique()"
   ]
  },
  {
   "cell_type": "code",
   "execution_count": 18,
   "metadata": {},
   "outputs": [
    {
     "data": {
      "text/plain": [
       "16"
      ]
     },
     "execution_count": 18,
     "metadata": {},
     "output_type": "execute_result"
    }
   ],
   "source": [
    "len(kreb)"
   ]
  },
  {
   "cell_type": "code",
   "execution_count": 19,
   "metadata": {},
   "outputs": [],
   "source": [
    "all_teams = vec_map(kreb)"
   ]
  },
  {
   "cell_type": "code",
   "execution_count": 20,
   "metadata": {},
   "outputs": [],
   "source": [
    "all_probs = []\n",
    "for team_combo in all_teams:\n",
    "    starting_p = 1\n",
    "    winner_list = team_combo.strip(\"[]''\").split(\"', '\")\n",
    "    for w in winner_list:\n",
    "        starting_p *= probs_comb[w]\n",
    "    all_probs.append(starting_p)"
   ]
  },
  {
   "cell_type": "code",
   "execution_count": 21,
   "metadata": {},
   "outputs": [],
   "source": [
    "# all_teams"
   ]
  },
  {
   "cell_type": "code",
   "execution_count": 22,
   "metadata": {},
   "outputs": [
    {
     "name": "stderr",
     "output_type": "stream",
     "text": [
      "100%|██████████| 16/16 [00:00<00:00, 13986.84it/s]\n"
     ]
    }
   ],
   "source": [
    "#make success dict\n",
    "outer_successes = dict()\n",
    "for pick_combo in tqdm(all_teams):\n",
    "    pick_list = pick_combo.strip(\"[]''\").split(\"', '\")\n",
    "    inner_dict = dict()\n",
    "    for winner_combo in all_teams:\n",
    "        winner_list = winner_combo.strip(\"[]''\").split(\"', '\")\n",
    "        success_list = [winner_list[x] == pick_list[x] for x in range(len(pick_list))]\n",
    "        inner_dict[winner_combo] = success_list\n",
    "    outer_successes[pick_combo] = inner_dict\n"
   ]
  },
  {
   "cell_type": "code",
   "execution_count": 23,
   "metadata": {},
   "outputs": [],
   "source": [
    "probs_dict = dict(zip(kreb, all_probs))"
   ]
  },
  {
   "cell_type": "code",
   "execution_count": 24,
   "metadata": {},
   "outputs": [],
   "source": [
    "choices_dict = dict(zip(kreb, all_teams))"
   ]
  },
  {
   "cell_type": "code",
   "execution_count": 25,
   "metadata": {},
   "outputs": [],
   "source": [
    "df['Pick_List'] = [choices_dict[x] for x in df['Picks']]"
   ]
  },
  {
   "cell_type": "code",
   "execution_count": 26,
   "metadata": {},
   "outputs": [],
   "source": [
    "df['Winner_List'] = [choices_dict[x] for x in df['Winners']]"
   ]
  },
  {
   "cell_type": "code",
   "execution_count": 27,
   "metadata": {},
   "outputs": [],
   "source": [
    "df['Outcome_Prob'] = [probs_dict[x] for x in df['Winners']]"
   ]
  },
  {
   "cell_type": "code",
   "execution_count": 28,
   "metadata": {},
   "outputs": [],
   "source": [
    "df['Success_List'] = list(map(lambda x,y: outer_successes[x][y], df['Pick_List'], df['Winner_List']))"
   ]
  },
  {
   "cell_type": "code",
   "execution_count": 29,
   "metadata": {},
   "outputs": [
    {
     "data": {
      "text/html": [
       "<div>\n",
       "<style scoped>\n",
       "    .dataframe tbody tr th:only-of-type {\n",
       "        vertical-align: middle;\n",
       "    }\n",
       "\n",
       "    .dataframe tbody tr th {\n",
       "        vertical-align: top;\n",
       "    }\n",
       "\n",
       "    .dataframe thead th {\n",
       "        text-align: right;\n",
       "    }\n",
       "</style>\n",
       "<table border=\"1\" class=\"dataframe\">\n",
       "  <thead>\n",
       "    <tr style=\"text-align: right;\">\n",
       "      <th></th>\n",
       "      <th>Picks</th>\n",
       "      <th>Winners</th>\n",
       "      <th>RR Choice</th>\n",
       "      <th>Pick_List</th>\n",
       "      <th>Winner_List</th>\n",
       "      <th>Outcome_Prob</th>\n",
       "      <th>Success_List</th>\n",
       "    </tr>\n",
       "  </thead>\n",
       "  <tbody>\n",
       "    <tr>\n",
       "      <th>0</th>\n",
       "      <td>(0, 0, 0, 0)</td>\n",
       "      <td>(0, 0, 0, 0)</td>\n",
       "      <td>(0, 0, 0, 0)</td>\n",
       "      <td>['Marqette', 'Purdue', 'Houston', 'Tennessee']</td>\n",
       "      <td>['Marqette', 'Purdue', 'Houston', 'Tennessee']</td>\n",
       "      <td>0.094228</td>\n",
       "      <td>[True, True, True, True]</td>\n",
       "    </tr>\n",
       "    <tr>\n",
       "      <th>1</th>\n",
       "      <td>(0, 0, 0, 0)</td>\n",
       "      <td>(0, 0, 0, 0)</td>\n",
       "      <td>(0, 0, 0, 1)</td>\n",
       "      <td>['Marqette', 'Purdue', 'Houston', 'Tennessee']</td>\n",
       "      <td>['Marqette', 'Purdue', 'Houston', 'Tennessee']</td>\n",
       "      <td>0.094228</td>\n",
       "      <td>[True, True, True, True]</td>\n",
       "    </tr>\n",
       "    <tr>\n",
       "      <th>2</th>\n",
       "      <td>(0, 0, 0, 0)</td>\n",
       "      <td>(0, 0, 0, 0)</td>\n",
       "      <td>(0, 0, 1, 0)</td>\n",
       "      <td>['Marqette', 'Purdue', 'Houston', 'Tennessee']</td>\n",
       "      <td>['Marqette', 'Purdue', 'Houston', 'Tennessee']</td>\n",
       "      <td>0.094228</td>\n",
       "      <td>[True, True, True, True]</td>\n",
       "    </tr>\n",
       "    <tr>\n",
       "      <th>3</th>\n",
       "      <td>(0, 0, 0, 0)</td>\n",
       "      <td>(0, 0, 0, 0)</td>\n",
       "      <td>(0, 0, 1, 1)</td>\n",
       "      <td>['Marqette', 'Purdue', 'Houston', 'Tennessee']</td>\n",
       "      <td>['Marqette', 'Purdue', 'Houston', 'Tennessee']</td>\n",
       "      <td>0.094228</td>\n",
       "      <td>[True, True, True, True]</td>\n",
       "    </tr>\n",
       "    <tr>\n",
       "      <th>4</th>\n",
       "      <td>(0, 0, 0, 0)</td>\n",
       "      <td>(0, 0, 0, 0)</td>\n",
       "      <td>(0, 1, 0, 0)</td>\n",
       "      <td>['Marqette', 'Purdue', 'Houston', 'Tennessee']</td>\n",
       "      <td>['Marqette', 'Purdue', 'Houston', 'Tennessee']</td>\n",
       "      <td>0.094228</td>\n",
       "      <td>[True, True, True, True]</td>\n",
       "    </tr>\n",
       "  </tbody>\n",
       "</table>\n",
       "</div>"
      ],
      "text/plain": [
       "          Picks       Winners     RR Choice  \\\n",
       "0  (0, 0, 0, 0)  (0, 0, 0, 0)  (0, 0, 0, 0)   \n",
       "1  (0, 0, 0, 0)  (0, 0, 0, 0)  (0, 0, 0, 1)   \n",
       "2  (0, 0, 0, 0)  (0, 0, 0, 0)  (0, 0, 1, 0)   \n",
       "3  (0, 0, 0, 0)  (0, 0, 0, 0)  (0, 0, 1, 1)   \n",
       "4  (0, 0, 0, 0)  (0, 0, 0, 0)  (0, 1, 0, 0)   \n",
       "\n",
       "                                        Pick_List  \\\n",
       "0  ['Marqette', 'Purdue', 'Houston', 'Tennessee']   \n",
       "1  ['Marqette', 'Purdue', 'Houston', 'Tennessee']   \n",
       "2  ['Marqette', 'Purdue', 'Houston', 'Tennessee']   \n",
       "3  ['Marqette', 'Purdue', 'Houston', 'Tennessee']   \n",
       "4  ['Marqette', 'Purdue', 'Houston', 'Tennessee']   \n",
       "\n",
       "                                      Winner_List  Outcome_Prob  \\\n",
       "0  ['Marqette', 'Purdue', 'Houston', 'Tennessee']      0.094228   \n",
       "1  ['Marqette', 'Purdue', 'Houston', 'Tennessee']      0.094228   \n",
       "2  ['Marqette', 'Purdue', 'Houston', 'Tennessee']      0.094228   \n",
       "3  ['Marqette', 'Purdue', 'Houston', 'Tennessee']      0.094228   \n",
       "4  ['Marqette', 'Purdue', 'Houston', 'Tennessee']      0.094228   \n",
       "\n",
       "               Success_List  \n",
       "0  [True, True, True, True]  \n",
       "1  [True, True, True, True]  \n",
       "2  [True, True, True, True]  \n",
       "3  [True, True, True, True]  \n",
       "4  [True, True, True, True]  "
      ]
     },
     "execution_count": 29,
     "metadata": {},
     "output_type": "execute_result"
    }
   ],
   "source": [
    "df.head()"
   ]
  },
  {
   "cell_type": "code",
   "execution_count": 31,
   "metadata": {},
   "outputs": [],
   "source": [
    "working_df = df[['Pick_List','Winner_List','Outcome_Prob','RR Choice','Success_List']].copy()"
   ]
  },
  {
   "cell_type": "code",
   "execution_count": 33,
   "metadata": {},
   "outputs": [],
   "source": [
    "del df"
   ]
  },
  {
   "cell_type": "code",
   "execution_count": 34,
   "metadata": {},
   "outputs": [],
   "source": [
    "def calculate_rr_winning(picks, success, rr_combo):\n",
    "    \"\"\"\n",
    "    current_rrs = find_ones_indexes(test_rr)\n",
    "    \"\"\"\n",
    "    current_rrs = find_ones_indexes(rr_combo)\n",
    "    rr_moneys=[]\n",
    "    pick_list = picks.strip(\"[]''\").split(\"', '\")\n",
    "    success_dict = dict(zip(pick_list,success))\n",
    "    \n",
    "\n",
    "\n",
    "\n",
    "    for i in current_rrs:\n",
    "        current_combinations =list(combinations(pick_list,i))\n",
    "        for combo in current_combinations:\n",
    "            current_payout = 0\n",
    "            cost=0\n",
    "            line = combine_lines([lines_comb[x] for x in combo])\n",
    "            cost += 0.1\n",
    "            win = True\n",
    "            for choice in combo:\n",
    "                if success_dict[choice] == 0:\n",
    "                    win=False\n",
    "            if win:\n",
    "                current_payout += payout(line,0.1)\n",
    "        rr_moneys.append(current_payout-cost)\n",
    "    return np.sum(rr_moneys)"
   ]
  },
  {
   "cell_type": "code",
   "execution_count": 35,
   "metadata": {},
   "outputs": [],
   "source": [
    "vec_rr = np.vectorize(calculate_rr_winning)"
   ]
  },
  {
   "cell_type": "code",
   "execution_count": 36,
   "metadata": {},
   "outputs": [
    {
     "name": "stdout",
     "output_type": "stream",
     "text": [
      "Wall time: 63 ms\n"
     ]
    }
   ],
   "source": [
    "%%time\n",
    "working_df['Winnings']=vec_rr(working_df['Pick_List'], working_df['Success_List'], working_df['RR Choice'])"
   ]
  },
  {
   "cell_type": "code",
   "execution_count": 37,
   "metadata": {},
   "outputs": [
    {
     "data": {
      "text/html": [
       "<div>\n",
       "<style scoped>\n",
       "    .dataframe tbody tr th:only-of-type {\n",
       "        vertical-align: middle;\n",
       "    }\n",
       "\n",
       "    .dataframe tbody tr th {\n",
       "        vertical-align: top;\n",
       "    }\n",
       "\n",
       "    .dataframe thead th {\n",
       "        text-align: right;\n",
       "    }\n",
       "</style>\n",
       "<table border=\"1\" class=\"dataframe\">\n",
       "  <thead>\n",
       "    <tr style=\"text-align: right;\">\n",
       "      <th></th>\n",
       "      <th>Pick_List</th>\n",
       "      <th>Winner_List</th>\n",
       "      <th>Outcome_Prob</th>\n",
       "      <th>RR Choice</th>\n",
       "      <th>Success_List</th>\n",
       "      <th>Winnings</th>\n",
       "    </tr>\n",
       "  </thead>\n",
       "  <tbody>\n",
       "    <tr>\n",
       "      <th>0</th>\n",
       "      <td>['Marqette', 'Purdue', 'Houston', 'Tennessee']</td>\n",
       "      <td>['Marqette', 'Purdue', 'Houston', 'Tennessee']</td>\n",
       "      <td>0.094228</td>\n",
       "      <td>(0, 0, 0, 0)</td>\n",
       "      <td>[True, True, True, True]</td>\n",
       "      <td>0.000000</td>\n",
       "    </tr>\n",
       "    <tr>\n",
       "      <th>1</th>\n",
       "      <td>['Marqette', 'Purdue', 'Houston', 'Tennessee']</td>\n",
       "      <td>['Marqette', 'Purdue', 'Houston', 'Tennessee']</td>\n",
       "      <td>0.094228</td>\n",
       "      <td>(0, 0, 0, 1)</td>\n",
       "      <td>[True, True, True, True]</td>\n",
       "      <td>0.393939</td>\n",
       "    </tr>\n",
       "    <tr>\n",
       "      <th>2</th>\n",
       "      <td>['Marqette', 'Purdue', 'Houston', 'Tennessee']</td>\n",
       "      <td>['Marqette', 'Purdue', 'Houston', 'Tennessee']</td>\n",
       "      <td>0.094228</td>\n",
       "      <td>(0, 0, 1, 0)</td>\n",
       "      <td>[True, True, True, True]</td>\n",
       "      <td>0.265643</td>\n",
       "    </tr>\n",
       "    <tr>\n",
       "      <th>3</th>\n",
       "      <td>['Marqette', 'Purdue', 'Houston', 'Tennessee']</td>\n",
       "      <td>['Marqette', 'Purdue', 'Houston', 'Tennessee']</td>\n",
       "      <td>0.094228</td>\n",
       "      <td>(0, 0, 1, 1)</td>\n",
       "      <td>[True, True, True, True]</td>\n",
       "      <td>0.659583</td>\n",
       "    </tr>\n",
       "    <tr>\n",
       "      <th>4</th>\n",
       "      <td>['Marqette', 'Purdue', 'Houston', 'Tennessee']</td>\n",
       "      <td>['Marqette', 'Purdue', 'Houston', 'Tennessee']</td>\n",
       "      <td>0.094228</td>\n",
       "      <td>(0, 1, 0, 0)</td>\n",
       "      <td>[True, True, True, True]</td>\n",
       "      <td>0.154842</td>\n",
       "    </tr>\n",
       "    <tr>\n",
       "      <th>...</th>\n",
       "      <td>...</td>\n",
       "      <td>...</td>\n",
       "      <td>...</td>\n",
       "      <td>...</td>\n",
       "      <td>...</td>\n",
       "      <td>...</td>\n",
       "    </tr>\n",
       "    <tr>\n",
       "      <th>4091</th>\n",
       "      <td>['NC State', 'Gonzaga', 'Duke', 'Creighton']</td>\n",
       "      <td>['NC State', 'Gonzaga', 'Duke', 'Creighton']</td>\n",
       "      <td>0.022099</td>\n",
       "      <td>(1, 0, 1, 1)</td>\n",
       "      <td>[True, True, True, True]</td>\n",
       "      <td>7.186528</td>\n",
       "    </tr>\n",
       "    <tr>\n",
       "      <th>4092</th>\n",
       "      <td>['NC State', 'Gonzaga', 'Duke', 'Creighton']</td>\n",
       "      <td>['NC State', 'Gonzaga', 'Duke', 'Creighton']</td>\n",
       "      <td>0.022099</td>\n",
       "      <td>(1, 1, 0, 0)</td>\n",
       "      <td>[True, True, True, True]</td>\n",
       "      <td>0.606400</td>\n",
       "    </tr>\n",
       "    <tr>\n",
       "      <th>4093</th>\n",
       "      <td>['NC State', 'Gonzaga', 'Duke', 'Creighton']</td>\n",
       "      <td>['NC State', 'Gonzaga', 'Duke', 'Creighton']</td>\n",
       "      <td>0.022099</td>\n",
       "      <td>(1, 1, 0, 1)</td>\n",
       "      <td>[True, True, True, True]</td>\n",
       "      <td>6.079968</td>\n",
       "    </tr>\n",
       "    <tr>\n",
       "      <th>4094</th>\n",
       "      <td>['NC State', 'Gonzaga', 'Duke', 'Creighton']</td>\n",
       "      <td>['NC State', 'Gonzaga', 'Duke', 'Creighton']</td>\n",
       "      <td>0.022099</td>\n",
       "      <td>(1, 1, 1, 0)</td>\n",
       "      <td>[True, True, True, True]</td>\n",
       "      <td>2.195360</td>\n",
       "    </tr>\n",
       "    <tr>\n",
       "      <th>4095</th>\n",
       "      <td>['NC State', 'Gonzaga', 'Duke', 'Creighton']</td>\n",
       "      <td>['NC State', 'Gonzaga', 'Duke', 'Creighton']</td>\n",
       "      <td>0.022099</td>\n",
       "      <td>(1, 1, 1, 1)</td>\n",
       "      <td>[True, True, True, True]</td>\n",
       "      <td>7.668928</td>\n",
       "    </tr>\n",
       "  </tbody>\n",
       "</table>\n",
       "<p>4096 rows × 6 columns</p>\n",
       "</div>"
      ],
      "text/plain": [
       "                                           Pick_List  \\\n",
       "0     ['Marqette', 'Purdue', 'Houston', 'Tennessee']   \n",
       "1     ['Marqette', 'Purdue', 'Houston', 'Tennessee']   \n",
       "2     ['Marqette', 'Purdue', 'Houston', 'Tennessee']   \n",
       "3     ['Marqette', 'Purdue', 'Houston', 'Tennessee']   \n",
       "4     ['Marqette', 'Purdue', 'Houston', 'Tennessee']   \n",
       "...                                              ...   \n",
       "4091    ['NC State', 'Gonzaga', 'Duke', 'Creighton']   \n",
       "4092    ['NC State', 'Gonzaga', 'Duke', 'Creighton']   \n",
       "4093    ['NC State', 'Gonzaga', 'Duke', 'Creighton']   \n",
       "4094    ['NC State', 'Gonzaga', 'Duke', 'Creighton']   \n",
       "4095    ['NC State', 'Gonzaga', 'Duke', 'Creighton']   \n",
       "\n",
       "                                         Winner_List  Outcome_Prob  \\\n",
       "0     ['Marqette', 'Purdue', 'Houston', 'Tennessee']      0.094228   \n",
       "1     ['Marqette', 'Purdue', 'Houston', 'Tennessee']      0.094228   \n",
       "2     ['Marqette', 'Purdue', 'Houston', 'Tennessee']      0.094228   \n",
       "3     ['Marqette', 'Purdue', 'Houston', 'Tennessee']      0.094228   \n",
       "4     ['Marqette', 'Purdue', 'Houston', 'Tennessee']      0.094228   \n",
       "...                                              ...           ...   \n",
       "4091    ['NC State', 'Gonzaga', 'Duke', 'Creighton']      0.022099   \n",
       "4092    ['NC State', 'Gonzaga', 'Duke', 'Creighton']      0.022099   \n",
       "4093    ['NC State', 'Gonzaga', 'Duke', 'Creighton']      0.022099   \n",
       "4094    ['NC State', 'Gonzaga', 'Duke', 'Creighton']      0.022099   \n",
       "4095    ['NC State', 'Gonzaga', 'Duke', 'Creighton']      0.022099   \n",
       "\n",
       "         RR Choice              Success_List  Winnings  \n",
       "0     (0, 0, 0, 0)  [True, True, True, True]  0.000000  \n",
       "1     (0, 0, 0, 1)  [True, True, True, True]  0.393939  \n",
       "2     (0, 0, 1, 0)  [True, True, True, True]  0.265643  \n",
       "3     (0, 0, 1, 1)  [True, True, True, True]  0.659583  \n",
       "4     (0, 1, 0, 0)  [True, True, True, True]  0.154842  \n",
       "...            ...                       ...       ...  \n",
       "4091  (1, 0, 1, 1)  [True, True, True, True]  7.186528  \n",
       "4092  (1, 1, 0, 0)  [True, True, True, True]  0.606400  \n",
       "4093  (1, 1, 0, 1)  [True, True, True, True]  6.079968  \n",
       "4094  (1, 1, 1, 0)  [True, True, True, True]  2.195360  \n",
       "4095  (1, 1, 1, 1)  [True, True, True, True]  7.668928  \n",
       "\n",
       "[4096 rows x 6 columns]"
      ]
     },
     "execution_count": 37,
     "metadata": {},
     "output_type": "execute_result"
    }
   ],
   "source": [
    "working_df"
   ]
  },
  {
   "cell_type": "code",
   "execution_count": 38,
   "metadata": {},
   "outputs": [],
   "source": [
    "working_df['EV'] = working_df['Outcome_Prob'] * working_df['Winnings']"
   ]
  },
  {
   "cell_type": "code",
   "execution_count": 39,
   "metadata": {},
   "outputs": [],
   "source": [
    "grps = working_df.groupby(['Pick_List','RR Choice'])[['Outcome_Prob','EV']].sum().reset_index()"
   ]
  },
  {
   "cell_type": "code",
   "execution_count": 40,
   "metadata": {},
   "outputs": [
    {
     "data": {
      "text/html": [
       "<div>\n",
       "<style scoped>\n",
       "    .dataframe tbody tr th:only-of-type {\n",
       "        vertical-align: middle;\n",
       "    }\n",
       "\n",
       "    .dataframe tbody tr th {\n",
       "        vertical-align: top;\n",
       "    }\n",
       "\n",
       "    .dataframe thead th {\n",
       "        text-align: right;\n",
       "    }\n",
       "</style>\n",
       "<table border=\"1\" class=\"dataframe\">\n",
       "  <thead>\n",
       "    <tr style=\"text-align: right;\">\n",
       "      <th></th>\n",
       "      <th>Pick_List</th>\n",
       "      <th>RR Choice</th>\n",
       "      <th>Outcome_Prob</th>\n",
       "      <th>EV</th>\n",
       "    </tr>\n",
       "  </thead>\n",
       "  <tbody>\n",
       "    <tr>\n",
       "      <th>0</th>\n",
       "      <td>['NC State', 'Purdue', 'Houston', 'Tennessee']</td>\n",
       "      <td>(1, 1, 1, 1)</td>\n",
       "      <td>1.0</td>\n",
       "      <td>-0.204038</td>\n",
       "    </tr>\n",
       "    <tr>\n",
       "      <th>1</th>\n",
       "      <td>['NC State', 'Purdue', 'Houston', 'Tennessee']</td>\n",
       "      <td>(0, 1, 1, 1)</td>\n",
       "      <td>1.0</td>\n",
       "      <td>-0.184638</td>\n",
       "    </tr>\n",
       "    <tr>\n",
       "      <th>2</th>\n",
       "      <td>['Marqette', 'Purdue', 'Houston', 'Tennessee']</td>\n",
       "      <td>(1, 1, 1, 1)</td>\n",
       "      <td>1.0</td>\n",
       "      <td>-0.180454</td>\n",
       "    </tr>\n",
       "    <tr>\n",
       "      <th>3</th>\n",
       "      <td>['NC State', 'Gonzaga', 'Houston', 'Tennessee']</td>\n",
       "      <td>(1, 1, 1, 1)</td>\n",
       "      <td>1.0</td>\n",
       "      <td>-0.168646</td>\n",
       "    </tr>\n",
       "    <tr>\n",
       "      <th>4</th>\n",
       "      <td>['Marqette', 'Purdue', 'Houston', 'Tennessee']</td>\n",
       "      <td>(0, 1, 1, 1)</td>\n",
       "      <td>1.0</td>\n",
       "      <td>-0.161054</td>\n",
       "    </tr>\n",
       "    <tr>\n",
       "      <th>...</th>\n",
       "      <td>...</td>\n",
       "      <td>...</td>\n",
       "      <td>...</td>\n",
       "      <td>...</td>\n",
       "    </tr>\n",
       "    <tr>\n",
       "      <th>251</th>\n",
       "      <td>['Marqette', 'Gonzaga', 'Duke', 'Creighton']</td>\n",
       "      <td>(1, 1, 0, 1)</td>\n",
       "      <td>1.0</td>\n",
       "      <td>0.242485</td>\n",
       "    </tr>\n",
       "    <tr>\n",
       "      <th>252</th>\n",
       "      <td>['Marqette', 'Gonzaga', 'Duke', 'Creighton']</td>\n",
       "      <td>(0, 0, 1, 1)</td>\n",
       "      <td>1.0</td>\n",
       "      <td>0.271878</td>\n",
       "    </tr>\n",
       "    <tr>\n",
       "      <th>253</th>\n",
       "      <td>['Marqette', 'Gonzaga', 'Duke', 'Creighton']</td>\n",
       "      <td>(1, 0, 1, 1)</td>\n",
       "      <td>1.0</td>\n",
       "      <td>0.288134</td>\n",
       "    </tr>\n",
       "    <tr>\n",
       "      <th>254</th>\n",
       "      <td>['Marqette', 'Gonzaga', 'Duke', 'Creighton']</td>\n",
       "      <td>(0, 1, 1, 1)</td>\n",
       "      <td>1.0</td>\n",
       "      <td>0.348401</td>\n",
       "    </tr>\n",
       "    <tr>\n",
       "      <th>255</th>\n",
       "      <td>['Marqette', 'Gonzaga', 'Duke', 'Creighton']</td>\n",
       "      <td>(1, 1, 1, 1)</td>\n",
       "      <td>1.0</td>\n",
       "      <td>0.364657</td>\n",
       "    </tr>\n",
       "  </tbody>\n",
       "</table>\n",
       "<p>256 rows × 4 columns</p>\n",
       "</div>"
      ],
      "text/plain": [
       "                                           Pick_List     RR Choice  \\\n",
       "0     ['NC State', 'Purdue', 'Houston', 'Tennessee']  (1, 1, 1, 1)   \n",
       "1     ['NC State', 'Purdue', 'Houston', 'Tennessee']  (0, 1, 1, 1)   \n",
       "2     ['Marqette', 'Purdue', 'Houston', 'Tennessee']  (1, 1, 1, 1)   \n",
       "3    ['NC State', 'Gonzaga', 'Houston', 'Tennessee']  (1, 1, 1, 1)   \n",
       "4     ['Marqette', 'Purdue', 'Houston', 'Tennessee']  (0, 1, 1, 1)   \n",
       "..                                               ...           ...   \n",
       "251     ['Marqette', 'Gonzaga', 'Duke', 'Creighton']  (1, 1, 0, 1)   \n",
       "252     ['Marqette', 'Gonzaga', 'Duke', 'Creighton']  (0, 0, 1, 1)   \n",
       "253     ['Marqette', 'Gonzaga', 'Duke', 'Creighton']  (1, 0, 1, 1)   \n",
       "254     ['Marqette', 'Gonzaga', 'Duke', 'Creighton']  (0, 1, 1, 1)   \n",
       "255     ['Marqette', 'Gonzaga', 'Duke', 'Creighton']  (1, 1, 1, 1)   \n",
       "\n",
       "     Outcome_Prob        EV  \n",
       "0             1.0 -0.204038  \n",
       "1             1.0 -0.184638  \n",
       "2             1.0 -0.180454  \n",
       "3             1.0 -0.168646  \n",
       "4             1.0 -0.161054  \n",
       "..            ...       ...  \n",
       "251           1.0  0.242485  \n",
       "252           1.0  0.271878  \n",
       "253           1.0  0.288134  \n",
       "254           1.0  0.348401  \n",
       "255           1.0  0.364657  \n",
       "\n",
       "[256 rows x 4 columns]"
      ]
     },
     "execution_count": 40,
     "metadata": {},
     "output_type": "execute_result"
    }
   ],
   "source": [
    "grps.sort_values(by='EV').reset_index(drop=True)#.loc[65535]['Pick_List']"
   ]
  },
  {
   "cell_type": "code",
   "execution_count": 144,
   "metadata": {},
   "outputs": [
    {
     "data": {
      "text/html": [
       "<div>\n",
       "<style scoped>\n",
       "    .dataframe tbody tr th:only-of-type {\n",
       "        vertical-align: middle;\n",
       "    }\n",
       "\n",
       "    .dataframe tbody tr th {\n",
       "        vertical-align: top;\n",
       "    }\n",
       "\n",
       "    .dataframe thead th {\n",
       "        text-align: right;\n",
       "    }\n",
       "</style>\n",
       "<table border=\"1\" class=\"dataframe\">\n",
       "  <thead>\n",
       "    <tr style=\"text-align: right;\">\n",
       "      <th></th>\n",
       "      <th>Pick_List</th>\n",
       "      <th>Winner_List</th>\n",
       "      <th>Outcome_Prob</th>\n",
       "      <th>RR Choice</th>\n",
       "      <th>Success_List</th>\n",
       "      <th>Winnings</th>\n",
       "      <th>EV</th>\n",
       "    </tr>\n",
       "  </thead>\n",
       "  <tbody>\n",
       "    <tr>\n",
       "      <th>13056255</th>\n",
       "      <td>['Clemson', 'San Diego St.', 'North Carolina',...</td>\n",
       "      <td>['Arizona', 'UConn', 'Alabama', 'Illinois', 'N...</td>\n",
       "      <td>0.000430</td>\n",
       "      <td>(1, 1, 1, 1, 1, 1, 1, 1)</td>\n",
       "      <td>[False, False, False, False, False, False, Fal...</td>\n",
       "      <td>-0.800000</td>\n",
       "      <td>-0.000344</td>\n",
       "    </tr>\n",
       "    <tr>\n",
       "      <th>13056511</th>\n",
       "      <td>['Clemson', 'San Diego St.', 'North Carolina',...</td>\n",
       "      <td>['Arizona', 'UConn', 'Alabama', 'Illinois', 'N...</td>\n",
       "      <td>0.000464</td>\n",
       "      <td>(1, 1, 1, 1, 1, 1, 1, 1)</td>\n",
       "      <td>[False, False, False, False, False, False, Fal...</td>\n",
       "      <td>-0.576000</td>\n",
       "      <td>-0.000267</td>\n",
       "    </tr>\n",
       "    <tr>\n",
       "      <th>13056767</th>\n",
       "      <td>['Clemson', 'San Diego St.', 'North Carolina',...</td>\n",
       "      <td>['Arizona', 'UConn', 'Alabama', 'Illinois', 'N...</td>\n",
       "      <td>0.000603</td>\n",
       "      <td>(1, 1, 1, 1, 1, 1, 1, 1)</td>\n",
       "      <td>[False, False, False, False, False, False, Tru...</td>\n",
       "      <td>-0.800000</td>\n",
       "      <td>-0.000483</td>\n",
       "    </tr>\n",
       "    <tr>\n",
       "      <th>13057023</th>\n",
       "      <td>['Clemson', 'San Diego St.', 'North Carolina',...</td>\n",
       "      <td>['Arizona', 'UConn', 'Alabama', 'Illinois', 'N...</td>\n",
       "      <td>0.000651</td>\n",
       "      <td>(1, 1, 1, 1, 1, 1, 1, 1)</td>\n",
       "      <td>[False, False, False, False, False, False, Tru...</td>\n",
       "      <td>0.006400</td>\n",
       "      <td>0.000004</td>\n",
       "    </tr>\n",
       "    <tr>\n",
       "      <th>13057279</th>\n",
       "      <td>['Clemson', 'San Diego St.', 'North Carolina',...</td>\n",
       "      <td>['Arizona', 'UConn', 'Alabama', 'Illinois', 'N...</td>\n",
       "      <td>0.000329</td>\n",
       "      <td>(1, 1, 1, 1, 1, 1, 1, 1)</td>\n",
       "      <td>[False, False, False, False, False, True, Fals...</td>\n",
       "      <td>-0.800000</td>\n",
       "      <td>-0.000264</td>\n",
       "    </tr>\n",
       "    <tr>\n",
       "      <th>...</th>\n",
       "      <td>...</td>\n",
       "      <td>...</td>\n",
       "      <td>...</td>\n",
       "      <td>...</td>\n",
       "      <td>...</td>\n",
       "      <td>...</td>\n",
       "      <td>...</td>\n",
       "    </tr>\n",
       "    <tr>\n",
       "      <th>13091839</th>\n",
       "      <td>['Clemson', 'San Diego St.', 'North Carolina',...</td>\n",
       "      <td>['Clemson', 'San Diego St.', 'North Carolina',...</td>\n",
       "      <td>0.007929</td>\n",
       "      <td>(1, 1, 1, 1, 1, 1, 1, 1)</td>\n",
       "      <td>[True, True, True, True, True, False, True, True]</td>\n",
       "      <td>0.006400</td>\n",
       "      <td>0.000051</td>\n",
       "    </tr>\n",
       "    <tr>\n",
       "      <th>13092095</th>\n",
       "      <td>['Clemson', 'San Diego St.', 'North Carolina',...</td>\n",
       "      <td>['Clemson', 'San Diego St.', 'North Carolina',...</td>\n",
       "      <td>0.004014</td>\n",
       "      <td>(1, 1, 1, 1, 1, 1, 1, 1)</td>\n",
       "      <td>[True, True, True, True, True, True, False, Fa...</td>\n",
       "      <td>-0.800000</td>\n",
       "      <td>-0.003211</td>\n",
       "    </tr>\n",
       "    <tr>\n",
       "      <th>13092351</th>\n",
       "      <td>['Clemson', 'San Diego St.', 'North Carolina',...</td>\n",
       "      <td>['Clemson', 'San Diego St.', 'North Carolina',...</td>\n",
       "      <td>0.004331</td>\n",
       "      <td>(1, 1, 1, 1, 1, 1, 1, 1)</td>\n",
       "      <td>[True, True, True, True, True, True, False, True]</td>\n",
       "      <td>-0.576000</td>\n",
       "      <td>-0.002494</td>\n",
       "    </tr>\n",
       "    <tr>\n",
       "      <th>13092607</th>\n",
       "      <td>['Clemson', 'San Diego St.', 'North Carolina',...</td>\n",
       "      <td>['Clemson', 'San Diego St.', 'North Carolina',...</td>\n",
       "      <td>0.005634</td>\n",
       "      <td>(1, 1, 1, 1, 1, 1, 1, 1)</td>\n",
       "      <td>[True, True, True, True, True, True, True, False]</td>\n",
       "      <td>-0.800000</td>\n",
       "      <td>-0.004507</td>\n",
       "    </tr>\n",
       "    <tr>\n",
       "      <th>13092863</th>\n",
       "      <td>['Clemson', 'San Diego St.', 'North Carolina',...</td>\n",
       "      <td>['Clemson', 'San Diego St.', 'North Carolina',...</td>\n",
       "      <td>0.006079</td>\n",
       "      <td>(1, 1, 1, 1, 1, 1, 1, 1)</td>\n",
       "      <td>[True, True, True, True, True, True, True, True]</td>\n",
       "      <td>197.147386</td>\n",
       "      <td>1.198553</td>\n",
       "    </tr>\n",
       "  </tbody>\n",
       "</table>\n",
       "<p>256 rows × 7 columns</p>\n",
       "</div>"
      ],
      "text/plain": [
       "                                                  Pick_List  \\\n",
       "13056255  ['Clemson', 'San Diego St.', 'North Carolina',...   \n",
       "13056511  ['Clemson', 'San Diego St.', 'North Carolina',...   \n",
       "13056767  ['Clemson', 'San Diego St.', 'North Carolina',...   \n",
       "13057023  ['Clemson', 'San Diego St.', 'North Carolina',...   \n",
       "13057279  ['Clemson', 'San Diego St.', 'North Carolina',...   \n",
       "...                                                     ...   \n",
       "13091839  ['Clemson', 'San Diego St.', 'North Carolina',...   \n",
       "13092095  ['Clemson', 'San Diego St.', 'North Carolina',...   \n",
       "13092351  ['Clemson', 'San Diego St.', 'North Carolina',...   \n",
       "13092607  ['Clemson', 'San Diego St.', 'North Carolina',...   \n",
       "13092863  ['Clemson', 'San Diego St.', 'North Carolina',...   \n",
       "\n",
       "                                                Winner_List  Outcome_Prob  \\\n",
       "13056255  ['Arizona', 'UConn', 'Alabama', 'Illinois', 'N...      0.000430   \n",
       "13056511  ['Arizona', 'UConn', 'Alabama', 'Illinois', 'N...      0.000464   \n",
       "13056767  ['Arizona', 'UConn', 'Alabama', 'Illinois', 'N...      0.000603   \n",
       "13057023  ['Arizona', 'UConn', 'Alabama', 'Illinois', 'N...      0.000651   \n",
       "13057279  ['Arizona', 'UConn', 'Alabama', 'Illinois', 'N...      0.000329   \n",
       "...                                                     ...           ...   \n",
       "13091839  ['Clemson', 'San Diego St.', 'North Carolina',...      0.007929   \n",
       "13092095  ['Clemson', 'San Diego St.', 'North Carolina',...      0.004014   \n",
       "13092351  ['Clemson', 'San Diego St.', 'North Carolina',...      0.004331   \n",
       "13092607  ['Clemson', 'San Diego St.', 'North Carolina',...      0.005634   \n",
       "13092863  ['Clemson', 'San Diego St.', 'North Carolina',...      0.006079   \n",
       "\n",
       "                         RR Choice  \\\n",
       "13056255  (1, 1, 1, 1, 1, 1, 1, 1)   \n",
       "13056511  (1, 1, 1, 1, 1, 1, 1, 1)   \n",
       "13056767  (1, 1, 1, 1, 1, 1, 1, 1)   \n",
       "13057023  (1, 1, 1, 1, 1, 1, 1, 1)   \n",
       "13057279  (1, 1, 1, 1, 1, 1, 1, 1)   \n",
       "...                            ...   \n",
       "13091839  (1, 1, 1, 1, 1, 1, 1, 1)   \n",
       "13092095  (1, 1, 1, 1, 1, 1, 1, 1)   \n",
       "13092351  (1, 1, 1, 1, 1, 1, 1, 1)   \n",
       "13092607  (1, 1, 1, 1, 1, 1, 1, 1)   \n",
       "13092863  (1, 1, 1, 1, 1, 1, 1, 1)   \n",
       "\n",
       "                                               Success_List    Winnings  \\\n",
       "13056255  [False, False, False, False, False, False, Fal...   -0.800000   \n",
       "13056511  [False, False, False, False, False, False, Fal...   -0.576000   \n",
       "13056767  [False, False, False, False, False, False, Tru...   -0.800000   \n",
       "13057023  [False, False, False, False, False, False, Tru...    0.006400   \n",
       "13057279  [False, False, False, False, False, True, Fals...   -0.800000   \n",
       "...                                                     ...         ...   \n",
       "13091839  [True, True, True, True, True, False, True, True]    0.006400   \n",
       "13092095  [True, True, True, True, True, True, False, Fa...   -0.800000   \n",
       "13092351  [True, True, True, True, True, True, False, True]   -0.576000   \n",
       "13092607  [True, True, True, True, True, True, True, False]   -0.800000   \n",
       "13092863   [True, True, True, True, True, True, True, True]  197.147386   \n",
       "\n",
       "                EV  \n",
       "13056255 -0.000344  \n",
       "13056511 -0.000267  \n",
       "13056767 -0.000483  \n",
       "13057023  0.000004  \n",
       "13057279 -0.000264  \n",
       "...            ...  \n",
       "13091839  0.000051  \n",
       "13092095 -0.003211  \n",
       "13092351 -0.002494  \n",
       "13092607 -0.004507  \n",
       "13092863  1.198553  \n",
       "\n",
       "[256 rows x 7 columns]"
      ]
     },
     "execution_count": 144,
     "metadata": {},
     "output_type": "execute_result"
    }
   ],
   "source": [
    "working_df[(working_df['Pick_List']==\"['Clemson', 'San Diego St.', 'North Carolina', 'Iowa St.', 'Marqette', 'Gonzaga', 'Duke', 'Creighton']\")\n",
    "           &(working_df['RR Choice']==(1,1,1,1,1,1,1,1))].sort_values(by='Success_List')"
   ]
  },
  {
   "cell_type": "code",
   "execution_count": null,
   "metadata": {},
   "outputs": [],
   "source": []
  },
  {
   "cell_type": "code",
   "execution_count": null,
   "metadata": {},
   "outputs": [],
   "source": []
  },
  {
   "cell_type": "code",
   "execution_count": null,
   "metadata": {},
   "outputs": [],
   "source": []
  },
  {
   "cell_type": "code",
   "execution_count": null,
   "metadata": {},
   "outputs": [],
   "source": []
  },
  {
   "cell_type": "code",
   "execution_count": null,
   "metadata": {},
   "outputs": [],
   "source": []
  },
  {
   "cell_type": "code",
   "execution_count": null,
   "metadata": {},
   "outputs": [],
   "source": [
    "vec_rr(small_df['Pick_List'], small_df['Success_List'], small_df['RR Choice'])"
   ]
  },
  {
   "cell_type": "code",
   "execution_count": 73,
   "metadata": {},
   "outputs": [
    {
     "data": {
      "text/html": [
       "<div>\n",
       "<style scoped>\n",
       "    .dataframe tbody tr th:only-of-type {\n",
       "        vertical-align: middle;\n",
       "    }\n",
       "\n",
       "    .dataframe tbody tr th {\n",
       "        vertical-align: top;\n",
       "    }\n",
       "\n",
       "    .dataframe thead th {\n",
       "        text-align: right;\n",
       "    }\n",
       "</style>\n",
       "<table border=\"1\" class=\"dataframe\">\n",
       "  <thead>\n",
       "    <tr style=\"text-align: right;\">\n",
       "      <th></th>\n",
       "      <th>Pick_List</th>\n",
       "      <th>Winner_List</th>\n",
       "      <th>Outcome_Prob</th>\n",
       "      <th>RR Choice</th>\n",
       "      <th>Success_List</th>\n",
       "      <th>Winnings</th>\n",
       "    </tr>\n",
       "  </thead>\n",
       "  <tbody>\n",
       "    <tr>\n",
       "      <th>0</th>\n",
       "      <td>['Arizona', 'UConn', 'North Carolina', 'Iowa S...</td>\n",
       "      <td>['Arizona', 'UConn', 'North Carolina', 'Iowa S...</td>\n",
       "      <td>0.024962</td>\n",
       "      <td>(0, 0, 0, 0, 0, 0, 0, 0)</td>\n",
       "      <td>[True, True, True, True, True, True, True, True]</td>\n",
       "      <td>0.000000</td>\n",
       "    </tr>\n",
       "    <tr>\n",
       "      <th>1</th>\n",
       "      <td>['Arizona', 'UConn', 'North Carolina', 'Iowa S...</td>\n",
       "      <td>['Arizona', 'UConn', 'North Carolina', 'Iowa S...</td>\n",
       "      <td>0.024962</td>\n",
       "      <td>(0, 0, 0, 0, 0, 0, 0, 1)</td>\n",
       "      <td>[True, True, True, True, True, True, True, True]</td>\n",
       "      <td>1.912762</td>\n",
       "    </tr>\n",
       "    <tr>\n",
       "      <th>2</th>\n",
       "      <td>['Arizona', 'UConn', 'North Carolina', 'Iowa S...</td>\n",
       "      <td>['Arizona', 'UConn', 'North Carolina', 'Iowa S...</td>\n",
       "      <td>0.024962</td>\n",
       "      <td>(0, 0, 0, 0, 0, 0, 1, 0)</td>\n",
       "      <td>[True, True, True, True, True, True, True, True]</td>\n",
       "      <td>10.371843</td>\n",
       "    </tr>\n",
       "    <tr>\n",
       "      <th>3</th>\n",
       "      <td>['Arizona', 'UConn', 'North Carolina', 'Iowa S...</td>\n",
       "      <td>['Arizona', 'UConn', 'North Carolina', 'Iowa S...</td>\n",
       "      <td>0.024962</td>\n",
       "      <td>(0, 0, 0, 0, 0, 0, 1, 1)</td>\n",
       "      <td>[True, True, True, True, True, True, True, True]</td>\n",
       "      <td>22.656449</td>\n",
       "    </tr>\n",
       "    <tr>\n",
       "      <th>4</th>\n",
       "      <td>['Arizona', 'UConn', 'North Carolina', 'Iowa S...</td>\n",
       "      <td>['Arizona', 'UConn', 'North Carolina', 'Iowa S...</td>\n",
       "      <td>0.024962</td>\n",
       "      <td>(0, 0, 0, 0, 0, 1, 0, 0)</td>\n",
       "      <td>[True, True, True, True, True, True, True, True]</td>\n",
       "      <td>24.252095</td>\n",
       "    </tr>\n",
       "    <tr>\n",
       "      <th>...</th>\n",
       "      <td>...</td>\n",
       "      <td>...</td>\n",
       "      <td>...</td>\n",
       "      <td>...</td>\n",
       "      <td>...</td>\n",
       "      <td>...</td>\n",
       "    </tr>\n",
       "    <tr>\n",
       "      <th>9996</th>\n",
       "      <td>['Arizona', 'UConn', 'North Carolina', 'Iowa S...</td>\n",
       "      <td>['Arizona', 'UConn', 'Alabama', 'Iowa St.', 'M...</td>\n",
       "      <td>0.006451</td>\n",
       "      <td>(0, 0, 0, 0, 1, 1, 0, 0)</td>\n",
       "      <td>[True, True, False, True, True, False, False, ...</td>\n",
       "      <td>-14.000000</td>\n",
       "    </tr>\n",
       "    <tr>\n",
       "      <th>9997</th>\n",
       "      <td>['Arizona', 'UConn', 'North Carolina', 'Iowa S...</td>\n",
       "      <td>['Arizona', 'UConn', 'Alabama', 'Iowa St.', 'M...</td>\n",
       "      <td>0.006451</td>\n",
       "      <td>(0, 0, 0, 0, 1, 1, 0, 1)</td>\n",
       "      <td>[True, True, False, True, True, False, False, ...</td>\n",
       "      <td>-22.500000</td>\n",
       "    </tr>\n",
       "    <tr>\n",
       "      <th>9998</th>\n",
       "      <td>['Arizona', 'UConn', 'North Carolina', 'Iowa S...</td>\n",
       "      <td>['Arizona', 'UConn', 'Alabama', 'Iowa St.', 'M...</td>\n",
       "      <td>0.006451</td>\n",
       "      <td>(0, 0, 0, 0, 1, 1, 1, 0)</td>\n",
       "      <td>[True, True, False, True, True, False, False, ...</td>\n",
       "      <td>-23.200000</td>\n",
       "    </tr>\n",
       "    <tr>\n",
       "      <th>9999</th>\n",
       "      <td>['Arizona', 'UConn', 'North Carolina', 'Iowa S...</td>\n",
       "      <td>['Arizona', 'UConn', 'Alabama', 'Iowa St.', 'M...</td>\n",
       "      <td>0.006451</td>\n",
       "      <td>(0, 0, 0, 0, 1, 1, 1, 1)</td>\n",
       "      <td>[True, True, False, True, True, False, False, ...</td>\n",
       "      <td>-32.500000</td>\n",
       "    </tr>\n",
       "    <tr>\n",
       "      <th>10000</th>\n",
       "      <td>['Arizona', 'UConn', 'North Carolina', 'Iowa S...</td>\n",
       "      <td>['Arizona', 'UConn', 'Alabama', 'Iowa St.', 'M...</td>\n",
       "      <td>0.006451</td>\n",
       "      <td>(0, 0, 0, 1, 0, 0, 0, 0)</td>\n",
       "      <td>[True, True, False, True, True, False, False, ...</td>\n",
       "      <td>-6.634251</td>\n",
       "    </tr>\n",
       "  </tbody>\n",
       "</table>\n",
       "<p>10001 rows × 6 columns</p>\n",
       "</div>"
      ],
      "text/plain": [
       "                                               Pick_List  \\\n",
       "0      ['Arizona', 'UConn', 'North Carolina', 'Iowa S...   \n",
       "1      ['Arizona', 'UConn', 'North Carolina', 'Iowa S...   \n",
       "2      ['Arizona', 'UConn', 'North Carolina', 'Iowa S...   \n",
       "3      ['Arizona', 'UConn', 'North Carolina', 'Iowa S...   \n",
       "4      ['Arizona', 'UConn', 'North Carolina', 'Iowa S...   \n",
       "...                                                  ...   \n",
       "9996   ['Arizona', 'UConn', 'North Carolina', 'Iowa S...   \n",
       "9997   ['Arizona', 'UConn', 'North Carolina', 'Iowa S...   \n",
       "9998   ['Arizona', 'UConn', 'North Carolina', 'Iowa S...   \n",
       "9999   ['Arizona', 'UConn', 'North Carolina', 'Iowa S...   \n",
       "10000  ['Arizona', 'UConn', 'North Carolina', 'Iowa S...   \n",
       "\n",
       "                                             Winner_List  Outcome_Prob  \\\n",
       "0      ['Arizona', 'UConn', 'North Carolina', 'Iowa S...      0.024962   \n",
       "1      ['Arizona', 'UConn', 'North Carolina', 'Iowa S...      0.024962   \n",
       "2      ['Arizona', 'UConn', 'North Carolina', 'Iowa S...      0.024962   \n",
       "3      ['Arizona', 'UConn', 'North Carolina', 'Iowa S...      0.024962   \n",
       "4      ['Arizona', 'UConn', 'North Carolina', 'Iowa S...      0.024962   \n",
       "...                                                  ...           ...   \n",
       "9996   ['Arizona', 'UConn', 'Alabama', 'Iowa St.', 'M...      0.006451   \n",
       "9997   ['Arizona', 'UConn', 'Alabama', 'Iowa St.', 'M...      0.006451   \n",
       "9998   ['Arizona', 'UConn', 'Alabama', 'Iowa St.', 'M...      0.006451   \n",
       "9999   ['Arizona', 'UConn', 'Alabama', 'Iowa St.', 'M...      0.006451   \n",
       "10000  ['Arizona', 'UConn', 'Alabama', 'Iowa St.', 'M...      0.006451   \n",
       "\n",
       "                      RR Choice  \\\n",
       "0      (0, 0, 0, 0, 0, 0, 0, 0)   \n",
       "1      (0, 0, 0, 0, 0, 0, 0, 1)   \n",
       "2      (0, 0, 0, 0, 0, 0, 1, 0)   \n",
       "3      (0, 0, 0, 0, 0, 0, 1, 1)   \n",
       "4      (0, 0, 0, 0, 0, 1, 0, 0)   \n",
       "...                         ...   \n",
       "9996   (0, 0, 0, 0, 1, 1, 0, 0)   \n",
       "9997   (0, 0, 0, 0, 1, 1, 0, 1)   \n",
       "9998   (0, 0, 0, 0, 1, 1, 1, 0)   \n",
       "9999   (0, 0, 0, 0, 1, 1, 1, 1)   \n",
       "10000  (0, 0, 0, 1, 0, 0, 0, 0)   \n",
       "\n",
       "                                            Success_List   Winnings  \n",
       "0       [True, True, True, True, True, True, True, True]   0.000000  \n",
       "1       [True, True, True, True, True, True, True, True]   1.912762  \n",
       "2       [True, True, True, True, True, True, True, True]  10.371843  \n",
       "3       [True, True, True, True, True, True, True, True]  22.656449  \n",
       "4       [True, True, True, True, True, True, True, True]  24.252095  \n",
       "...                                                  ...        ...  \n",
       "9996   [True, True, False, True, True, False, False, ... -14.000000  \n",
       "9997   [True, True, False, True, True, False, False, ... -22.500000  \n",
       "9998   [True, True, False, True, True, False, False, ... -23.200000  \n",
       "9999   [True, True, False, True, True, False, False, ... -32.500000  \n",
       "10000  [True, True, False, True, True, False, False, ...  -6.634251  \n",
       "\n",
       "[10001 rows x 6 columns]"
      ]
     },
     "execution_count": 73,
     "metadata": {},
     "output_type": "execute_result"
    }
   ],
   "source": [
    "small_df"
   ]
  },
  {
   "cell_type": "code",
   "execution_count": 107,
   "metadata": {},
   "outputs": [],
   "source": [
    "i=3"
   ]
  },
  {
   "cell_type": "code",
   "execution_count": 108,
   "metadata": {},
   "outputs": [],
   "source": [
    "p=working_df.iloc[i]['Pick_List']\n",
    "s=working_df.iloc[i]['Success_List']\n",
    "r=working_df.iloc[i]['RR Choice']"
   ]
  },
  {
   "cell_type": "code",
   "execution_count": 109,
   "metadata": {},
   "outputs": [
    {
     "name": "stdout",
     "output_type": "stream",
     "text": [
      "[7, 8]\n"
     ]
    },
    {
     "data": {
      "text/plain": [
       "3.3346067637018413"
      ]
     },
     "execution_count": 109,
     "metadata": {},
     "output_type": "execute_result"
    }
   ],
   "source": [
    "calculate_rr_winning(p,s,r)"
   ]
  },
  {
   "cell_type": "code",
   "execution_count": 37,
   "metadata": {},
   "outputs": [],
   "source": [
    "test_rr = (1,1,0,0,0,0,0,0,)"
   ]
  },
  {
   "cell_type": "code",
   "execution_count": 41,
   "metadata": {},
   "outputs": [],
   "source": [
    "test_picks = working_df['Pick_List'][0]"
   ]
  },
  {
   "cell_type": "code",
   "execution_count": 42,
   "metadata": {},
   "outputs": [
    {
     "data": {
      "text/plain": [
       "\"['Arizona', 'UConn', 'North Carolina', 'Iowa St.', 'Marqette', 'Purdue', 'Houston', 'Tennessee']\""
      ]
     },
     "execution_count": 42,
     "metadata": {},
     "output_type": "execute_result"
    }
   ],
   "source": [
    "test_picks"
   ]
  },
  {
   "cell_type": "code",
   "execution_count": 49,
   "metadata": {},
   "outputs": [
    {
     "data": {
      "text/plain": [
       "[1, 2]"
      ]
     },
     "execution_count": 49,
     "metadata": {},
     "output_type": "execute_result"
    }
   ],
   "source": [
    "current_rrs"
   ]
  },
  {
   "cell_type": "code",
   "execution_count": 57,
   "metadata": {},
   "outputs": [
    {
     "data": {
      "text/plain": [
       "(1, 1, 0, 0, 0, 0, 0, 0)"
      ]
     },
     "execution_count": 57,
     "metadata": {},
     "output_type": "execute_result"
    }
   ],
   "source": [
    "test_rr"
   ]
  },
  {
   "cell_type": "code",
   "execution_count": 58,
   "metadata": {},
   "outputs": [
    {
     "name": "stdout",
     "output_type": "stream",
     "text": [
      "3.979499047886855\n"
     ]
    }
   ],
   "source": [
    "current_rrs = find_ones_indexes(test_rr)\n",
    "cost = 0\n",
    "current_payout = 0\n",
    "rr_moneys=[]\n",
    "pick_list = test_picks.strip(\"[]''\").split(\"', '\")\n",
    "success_dict = dict(zip(pick_list,(1,1,1,1,1,1,1,1)))\n",
    "for i in current_rrs:\n",
    "    current_combinations =list(combinations(pick_list,i))\n",
    "    for combo in current_combinations:\n",
    "        line = combine_lines([lines_comb[x] for x in combo])\n",
    "        cost += 0.1\n",
    "        win = True\n",
    "        for choice in combo:\n",
    "            if success_dict[choice] == 0:\n",
    "                win=False\n",
    "        if win:\n",
    "            current_payout += payout(line,0.1)\n",
    "    rr_moneys.append(current_payout-cost)\n",
    "print(np.sum(rr_moneys))"
   ]
  },
  {
   "cell_type": "code",
   "execution_count": null,
   "metadata": {},
   "outputs": [],
   "source": []
  },
  {
   "cell_type": "code",
   "execution_count": 56,
   "metadata": {},
   "outputs": [
    {
     "data": {
      "text/plain": [
       "[0.3754472092046456, 3.6040518386822096]"
      ]
     },
     "execution_count": 56,
     "metadata": {},
     "output_type": "execute_result"
    }
   ],
   "source": [
    "rr_moneys"
   ]
  },
  {
   "cell_type": "code",
   "execution_count": null,
   "metadata": {},
   "outputs": [],
   "source": []
  }
 ],
 "metadata": {
  "kernelspec": {
   "display_name": "base",
   "language": "python",
   "name": "python3"
  },
  "language_info": {
   "codemirror_mode": {
    "name": "ipython",
    "version": 3
   },
   "file_extension": ".py",
   "mimetype": "text/x-python",
   "name": "python",
   "nbconvert_exporter": "python",
   "pygments_lexer": "ipython3",
   "version": "3.9.7"
  }
 },
 "nbformat": 4,
 "nbformat_minor": 2
}
