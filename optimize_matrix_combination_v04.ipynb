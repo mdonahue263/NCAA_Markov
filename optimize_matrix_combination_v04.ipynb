{
 "cells": [
  {
   "cell_type": "code",
   "execution_count": 1,
   "metadata": {},
   "outputs": [],
   "source": [
    "#in v03, I am going to limit the options to games where both teams have sufficient data. \n",
    "#in v04, I am going to experiment with row combinations\n",
    "\n",
    "import pandas as pd\n",
    "import numpy as np\n",
    "import os\n",
    "from tqdm import tqdm\n",
    "from matplotlib import pyplot as plt\n",
    "import seaborn as sns\n",
    "import time"
   ]
  },
  {
   "cell_type": "code",
   "execution_count": 2,
   "metadata": {},
   "outputs": [],
   "source": [
    "from helper_functions.clean_transitions import clean_transition_column\n",
    "from helper_functions.simulate_game import simulate_game"
   ]
  },
  {
   "cell_type": "code",
   "execution_count": 3,
   "metadata": {},
   "outputs": [],
   "source": [
    "avg_matrix = pd.read_excel('avg_transition_matrix_with_manual_edits.xlsx', sheet_name = 'Mean Pasted', index_col='Starting_State')"
   ]
  },
  {
   "cell_type": "code",
   "execution_count": 4,
   "metadata": {},
   "outputs": [],
   "source": [
    "# def combine_matrices(matrix_A, matrix_B, avg, params=[]):\n",
    "#     pass"
   ]
  },
  {
   "cell_type": "code",
   "execution_count": 5,
   "metadata": {},
   "outputs": [],
   "source": [
    "#limit games to sufficient data\n",
    "all_games = os.listdir('raw_game_pulls')"
   ]
  },
  {
   "cell_type": "code",
   "execution_count": 6,
   "metadata": {},
   "outputs": [],
   "source": [
    "games_meta_df = pd.DataFrame()\n",
    "for g in all_games:\n",
    "    game_strings = g.split(' vs ')\n",
    "    team_A = game_strings[0].split('for ')[-1]\n",
    "    team_B = game_strings[1].split('.xlsx')[0]\n",
    "    games_meta_df = pd.concat([games_meta_df, pd.DataFrame({'Game':g,\n",
    "                                                            'Team A':team_A,\n",
    "                                                            'Team B':team_B}, index=[0])])"
   ]
  },
  {
   "cell_type": "code",
   "execution_count": 7,
   "metadata": {},
   "outputs": [],
   "source": [
    "games_meta_df=games_meta_df.reset_index(drop=True)"
   ]
  },
  {
   "cell_type": "code",
   "execution_count": 8,
   "metadata": {},
   "outputs": [],
   "source": [
    "# gmd2 = games_meta_df.copy()"
   ]
  },
  {
   "cell_type": "code",
   "execution_count": 9,
   "metadata": {},
   "outputs": [],
   "source": [
    "# process_1_df = games_meta_df.copy()\n",
    "# process_2_df = games_meta_df.copy()"
   ]
  },
  {
   "cell_type": "code",
   "execution_count": 10,
   "metadata": {},
   "outputs": [],
   "source": [
    "# t1=time.time()\n",
    "# for i in tqdm(range(100)):\n",
    "# games_meta_df=process_1_df.copy()\n",
    "team_A_count = games_meta_df\\\n",
    "    .groupby('Team A')['Game']\\\n",
    "        .count()\\\n",
    "            .reset_index()\\\n",
    "                .rename(columns={'Game':'Team A Count'})\n",
    "\n",
    "team_B_count = games_meta_df\\\n",
    "    .groupby('Team B')['Game']\\\n",
    "        .count()\\\n",
    "            .reset_index()\\\n",
    "                .rename(columns={'Game':'Team B Count',\n",
    "                                'Team B':'Team A'})\n",
    "\n",
    "games_meta_df=games_meta_df.merge(team_A_count, on = 'Team A', how='left')\n",
    "games_meta_df=games_meta_df.merge(team_B_count, on = 'Team A', how='left')\n",
    "games_meta_df=games_meta_df.fillna(0)\n",
    "\n",
    "games_meta_df['Team A Total Games'] = games_meta_df['Team A Count'] + games_meta_df['Team B Count']\n",
    "\n",
    "games_meta_df=games_meta_df.drop([\"Team A Count\", 'Team B Count'], axis=1)\n",
    "\n",
    "games_meta_df=games_meta_df.merge(team_A_count, left_on = 'Team B', right_on='Team A', how='left')\n",
    "games_meta_df=games_meta_df.merge(team_B_count, left_on = 'Team B', right_on='Team A', how='left')\n",
    "games_meta_df=games_meta_df.fillna(0)\n",
    "\n",
    "games_meta_df['Team B Total Games'] = games_meta_df['Team A Count'] + games_meta_df['Team B Count']\n",
    "games_meta_df=games_meta_df.drop([\"Team A Count\", 'Team B Count', 'Team A_y','Team A'], axis=1).rename(columns={'Team A_x': 'Team A'})\n",
    "# t2=time.time()"
   ]
  },
  {
   "cell_type": "code",
   "execution_count": 11,
   "metadata": {},
   "outputs": [],
   "source": [
    "#this was just to test looping method speed - was ~59x slower than groupby method\n",
    "# unique_teams = pd.Series(list(gmd2['Team A']) + list(gmd2['Team B'])).unique()\n",
    "# t3=time.time()\n",
    "# for i in tqdm(range(100)):\n",
    "#     gmd2=process_2_df.copy()\n",
    "#     for t in unique_teams:\n",
    "#         total_games = int(len(gmd2[gmd2['Team A']==t])) + int(len(gmd2[gmd2['Team B']==t]))\n",
    "#         gmd2.loc[gmd2['Team A']==t, 'Team A Total Games'] = total_games\n",
    "#         gmd2.loc[gmd2['Team B']==t, 'Team B Total Games'] = total_games\n",
    "# t4=time.time()"
   ]
  },
  {
   "cell_type": "code",
   "execution_count": 12,
   "metadata": {},
   "outputs": [],
   "source": [
    "n_cutoff = 20"
   ]
  },
  {
   "cell_type": "code",
   "execution_count": 13,
   "metadata": {},
   "outputs": [
    {
     "data": {
      "text/html": [
       "<div>\n",
       "<style scoped>\n",
       "    .dataframe tbody tr th:only-of-type {\n",
       "        vertical-align: middle;\n",
       "    }\n",
       "\n",
       "    .dataframe tbody tr th {\n",
       "        vertical-align: top;\n",
       "    }\n",
       "\n",
       "    .dataframe thead th {\n",
       "        text-align: right;\n",
       "    }\n",
       "</style>\n",
       "<table border=\"1\" class=\"dataframe\">\n",
       "  <thead>\n",
       "    <tr style=\"text-align: right;\">\n",
       "      <th></th>\n",
       "      <th>Game</th>\n",
       "      <th>Team A</th>\n",
       "      <th>Team B</th>\n",
       "      <th>Team A Total Games</th>\n",
       "      <th>Team B Total Games</th>\n",
       "    </tr>\n",
       "  </thead>\n",
       "  <tbody>\n",
       "    <tr>\n",
       "      <th>0</th>\n",
       "      <td>6195965_Play-By-Play for Indiana vs Army West ...</td>\n",
       "      <td>Indiana</td>\n",
       "      <td>Army West Point</td>\n",
       "      <td>25.0</td>\n",
       "      <td>28.0</td>\n",
       "    </tr>\n",
       "    <tr>\n",
       "      <th>1</th>\n",
       "      <td>6195966_Play-By-Play for Indiana vs Wright St....</td>\n",
       "      <td>Indiana</td>\n",
       "      <td>Wright St.</td>\n",
       "      <td>25.0</td>\n",
       "      <td>26.0</td>\n",
       "    </tr>\n",
       "    <tr>\n",
       "      <th>2</th>\n",
       "      <td>6195967_Play-By-Play for Indiana vs UConn.xlsx</td>\n",
       "      <td>Indiana</td>\n",
       "      <td>UConn</td>\n",
       "      <td>25.0</td>\n",
       "      <td>26.0</td>\n",
       "    </tr>\n",
       "    <tr>\n",
       "      <th>3</th>\n",
       "      <td>6195968_Play-By-Play for Indiana vs Harvard.xlsx</td>\n",
       "      <td>Indiana</td>\n",
       "      <td>Harvard</td>\n",
       "      <td>25.0</td>\n",
       "      <td>23.0</td>\n",
       "    </tr>\n",
       "    <tr>\n",
       "      <th>4</th>\n",
       "      <td>6195969_Play-By-Play for Indiana vs Auburn.xlsx</td>\n",
       "      <td>Indiana</td>\n",
       "      <td>Auburn</td>\n",
       "      <td>25.0</td>\n",
       "      <td>25.0</td>\n",
       "    </tr>\n",
       "    <tr>\n",
       "      <th>...</th>\n",
       "      <td>...</td>\n",
       "      <td>...</td>\n",
       "      <td>...</td>\n",
       "      <td>...</td>\n",
       "      <td>...</td>\n",
       "    </tr>\n",
       "    <tr>\n",
       "      <th>4804</th>\n",
       "      <td>6201017_Play-By-Play for Milwaukee vs Youngsto...</td>\n",
       "      <td>Milwaukee</td>\n",
       "      <td>Youngstown St.</td>\n",
       "      <td>27.0</td>\n",
       "      <td>28.0</td>\n",
       "    </tr>\n",
       "    <tr>\n",
       "      <th>4805</th>\n",
       "      <td>6201018_Play-By-Play for Cornell vs Yale.xlsx</td>\n",
       "      <td>Cornell</td>\n",
       "      <td>Yale</td>\n",
       "      <td>21.0</td>\n",
       "      <td>25.0</td>\n",
       "    </tr>\n",
       "    <tr>\n",
       "      <th>4806</th>\n",
       "      <td>6201019_Play-By-Play for Dartmouth vs Penn.xlsx</td>\n",
       "      <td>Dartmouth</td>\n",
       "      <td>Penn</td>\n",
       "      <td>22.0</td>\n",
       "      <td>24.0</td>\n",
       "    </tr>\n",
       "    <tr>\n",
       "      <th>4807</th>\n",
       "      <td>6201020_Play-By-Play for Quinnipiac vs Fairfie...</td>\n",
       "      <td>Quinnipiac</td>\n",
       "      <td>Fairfield</td>\n",
       "      <td>26.0</td>\n",
       "      <td>27.0</td>\n",
       "    </tr>\n",
       "    <tr>\n",
       "      <th>4808</th>\n",
       "      <td>6201021_Play-By-Play for Arkansas St. vs South...</td>\n",
       "      <td>Arkansas St.</td>\n",
       "      <td>South Alabama</td>\n",
       "      <td>27.0</td>\n",
       "      <td>28.0</td>\n",
       "    </tr>\n",
       "  </tbody>\n",
       "</table>\n",
       "<p>4181 rows × 5 columns</p>\n",
       "</div>"
      ],
      "text/plain": [
       "                                                   Game        Team A  \\\n",
       "0     6195965_Play-By-Play for Indiana vs Army West ...       Indiana   \n",
       "1     6195966_Play-By-Play for Indiana vs Wright St....       Indiana   \n",
       "2        6195967_Play-By-Play for Indiana vs UConn.xlsx       Indiana   \n",
       "3      6195968_Play-By-Play for Indiana vs Harvard.xlsx       Indiana   \n",
       "4       6195969_Play-By-Play for Indiana vs Auburn.xlsx       Indiana   \n",
       "...                                                 ...           ...   \n",
       "4804  6201017_Play-By-Play for Milwaukee vs Youngsto...     Milwaukee   \n",
       "4805      6201018_Play-By-Play for Cornell vs Yale.xlsx       Cornell   \n",
       "4806    6201019_Play-By-Play for Dartmouth vs Penn.xlsx     Dartmouth   \n",
       "4807  6201020_Play-By-Play for Quinnipiac vs Fairfie...    Quinnipiac   \n",
       "4808  6201021_Play-By-Play for Arkansas St. vs South...  Arkansas St.   \n",
       "\n",
       "               Team B  Team A Total Games  Team B Total Games  \n",
       "0     Army West Point                25.0                28.0  \n",
       "1          Wright St.                25.0                26.0  \n",
       "2               UConn                25.0                26.0  \n",
       "3             Harvard                25.0                23.0  \n",
       "4              Auburn                25.0                25.0  \n",
       "...               ...                 ...                 ...  \n",
       "4804   Youngstown St.                27.0                28.0  \n",
       "4805             Yale                21.0                25.0  \n",
       "4806             Penn                22.0                24.0  \n",
       "4807        Fairfield                26.0                27.0  \n",
       "4808    South Alabama                27.0                28.0  \n",
       "\n",
       "[4181 rows x 5 columns]"
      ]
     },
     "execution_count": 13,
     "metadata": {},
     "output_type": "execute_result"
    }
   ],
   "source": [
    "games_meta_df[(games_meta_df['Team A Total Games']>n_cutoff)&(games_meta_df['Team B Total Games']>n_cutoff)]"
   ]
  },
  {
   "cell_type": "code",
   "execution_count": 14,
   "metadata": {},
   "outputs": [],
   "source": [
    "games_to_consider = list(games_meta_df[(games_meta_df['Team A Total Games']>n_cutoff)&(games_meta_df['Team B Total Games']>n_cutoff)]['Game'].unique())"
   ]
  },
  {
   "cell_type": "code",
   "execution_count": 121,
   "metadata": {},
   "outputs": [],
   "source": [
    "def accuracy(simulation_outcome, game_result):\n",
    "    real_A_score = game_result.iloc[-1]['Home']\n",
    "    real_B_score = game_result.iloc[-1]['Away']\n",
    "\n",
    "    sim_A_score=[simulation_outcome[1][x][0] for x in range(len(simulation_outcome[1]))]\n",
    "    sim_B_score=[simulation_outcome[1][x][1] for x in range(len(simulation_outcome[1]))]\n",
    "    a_error = (real_A_score-sim_A_score)**2\n",
    "    b_error = (real_B_score-sim_B_score)**2\n",
    "\n",
    "    return np.mean(np.sqrt(a_error+b_error))"
   ]
  },
  {
   "cell_type": "code",
   "execution_count": 135,
   "metadata": {},
   "outputs": [],
   "source": [
    "def accuracy_ou(simulation_outcome, game_result):\n",
    "    real_A_score = game_result.iloc[-1]['Home']\n",
    "    real_B_score = game_result.iloc[-1]['Away']\n",
    "\n",
    "    real_total = real_A_score + real_B_score\n",
    "\n",
    "    sim_A_score=[simulation_outcome[1][x][0] for x in range(len(simulation_outcome[1]))]\n",
    "    sim_B_score=[simulation_outcome[1][x][1] for x in range(len(simulation_outcome[1]))]\n",
    "    sim_total = np.array(list(map(lambda x,y: x+y, sim_B_score, sim_A_score)))\n",
    "\n",
    "\n",
    "    return np.mean(sim_total-real_total)"
   ]
  },
  {
   "cell_type": "code",
   "execution_count": 136,
   "metadata": {},
   "outputs": [],
   "source": [
    "def accuracy_winner(simulation_outcome, game_result):\n",
    "    #when X = 1, this will only be 1 or 0\n",
    "    real_A_score = game_result.iloc[-1]['Home']\n",
    "    real_B_score = game_result.iloc[-1]['Away']\n",
    "\n",
    "    team_A_win = real_A_score > real_B_score\n",
    "\n",
    "    sim_A_score=np.array([simulation_outcome[1][x][0] for x in range(len(simulation_outcome[1]))])\n",
    "    sim_B_score=np.array([simulation_outcome[1][x][1] for x in range(len(simulation_outcome[1]))])\n",
    "    sim_win = sim_A_score > sim_B_score\n",
    "\n",
    "\n",
    "    return np.mean(team_A_win == sim_win)"
   ]
  },
  {
   "cell_type": "code",
   "execution_count": 19,
   "metadata": {},
   "outputs": [],
   "source": [
    "t1=pd.read_excel('team_specific_matrix/UCONN_A.xlsx', index_col='Starting_State')\n",
    "t2=pd.read_excel('team_specific_matrix/Duke_B.xlsx', index_col='Starting_State')"
   ]
  },
  {
   "cell_type": "code",
   "execution_count": 151,
   "metadata": {},
   "outputs": [],
   "source": [
    "# Define optimization problem\n",
    "#need to adjust so that all of the algo's use the same games\n",
    "def optimization_problem_v2(guesses, games_list, x=10):\n",
    "    global g, guess, distance_score, ou_score, moneyline_score\n",
    "\n",
    "    all_results=pd.DataFrame()\n",
    "    \n",
    "    for g in games_list:\n",
    "\n",
    "        #locate teams to find matrices\n",
    "        game_res = pd.read_excel('raw_game_pulls/{}'.format(g))\n",
    "        game_strings = g.split(' vs ')\n",
    "        team_A = game_strings[0].split('for ')[-1]\n",
    "        team_B = game_strings[1].split('.xlsx')[0]\n",
    "\n",
    "        matrix1 = pd.read_excel('team_specific_matrix/{}_A.xlsx'.format(team_A), index_col='Starting_State')\n",
    "        matrix2 = pd.read_excel('team_specific_matrix/{}_B.xlsx'.format(team_B), index_col='Starting_State')\n",
    "\n",
    "\n",
    "        # Reshape the parameters into matrices\n",
    "        for guess in range(len(guesses)):\n",
    "            m1 = guesses[guess][:18]\n",
    "            m2 = guesses[guess][18:36]\n",
    "            m3 = guesses[guess][36:]\n",
    "\n",
    "            # Construct combined matrix\n",
    "            # combined_matrix = m1 * matrix1 + m2 * matrix2 + m3 * avg_matrix  # Adjust with scalar multiples\n",
    "            combined_matrix = matrix1.mul(m1, axis=0) + matrix2.mul(m2,axis=0)+avg_matrix.mul(m3,axis=0)\n",
    "            \n",
    "            for r in combined_matrix.index:\n",
    "                if combined_matrix.loc[r].sum()==0.:\n",
    "                    combined_matrix.loc[r]=avg_matrix.loc[r].copy()\n",
    "                \n",
    "            combined_matrix = combined_matrix.div(combined_matrix.sum(axis=1), axis=0)\n",
    "            combined_matrix.columns=avg_matrix.columns\n",
    "\n",
    "            # Evaluate performance on X game simulations\n",
    "            result = simulate_game(combined_matrix, x)\n",
    "\n",
    "\n",
    "\n",
    "            distance_score = accuracy(result, game_res)\n",
    "            ou_score = accuracy_ou(result, game_res)\n",
    "            moneyline_score = accuracy_winner(result, game_res)\n",
    "\n",
    "            all_results=pd.concat([all_results, pd.DataFrame({'Game':g,\n",
    "                                                              'Guess':guess+1,\n",
    "                                                              'Distance':distance_score,\n",
    "                                                              'OU':ou_score,\n",
    "                                                              'Moneyline':moneyline_score}, index=[0])])\n",
    "    return all_results"
   ]
  },
  {
   "cell_type": "code",
   "execution_count": 152,
   "metadata": {},
   "outputs": [],
   "source": [
    "# Initialize parameters\n",
    "# initial_guess = np.random.rand(54)\n",
    "    \n",
    "initial_guess=   np.array([1,1,1,1,1,0,0,0,1,0,0,0,0,0,1,1,1,0,\n",
    "                    0,0,0,0,0,1,1,1,0,1,1,1,1,1,0,0,0,1,\n",
    "                    0,0,0,0,0,0,0,0,0,0,0,0,0,0,0,0,0,0])"
   ]
  },
  {
   "cell_type": "code",
   "execution_count": 153,
   "metadata": {},
   "outputs": [],
   "source": [
    "team_A_guess = np.array([1,1,1,1,1,1,1,1,1,1,1,1,1,1,1,1,1,1,\n",
    "                0,0,0,0,0,0,0,0,0,0,0,0,0,0,0,0,0,0,\n",
    "                0,0,0,0,0,0,0,0,0,0,0,0,0,0,0,0,0,0])\n",
    "team_B_guess = np.array([0,0,0,0,0,0,0,0,0,0,0,0,0,0,0,0,0,0,\n",
    "                1,1,1,1,1,1,1,1,1,1,1,1,1,1,1,1,1,1,\n",
    "                0,0,0,0,0,0,0,0,0,0,0,0,0,0,0,0,0,0])\n",
    "avg_guess = np.array([0,0,0,0,0,0,0,0,0,0,0,0,0,0,0,0,0,0,\n",
    "             0,0,0,0,0,0,0,0,0,0,0,0,0,0,0,0,0,0,\n",
    "             1,1,1,1,1,1,1,1,1,1,1,1,1,1,1,1,1,1])\n",
    "two_one = np.array([ 1, 1, 1, 1, 1, 1, 1, 1, 1,.5,.5,.5,.5,.5,.5,.5,.5,.5,\n",
    "                    .5,.5,.5,.5,.5,.5,.5,.5,.5, 1, 1, 1, 1, 1, 1, 1, 1, 1,\n",
    "                    0,0,0,0,0,0,0,0,0,0,0,0,0,0,0,0,0,0])\n",
    "overlay = team_A_guess + team_B_guess\n",
    "overlay_and_avg = np.repeat(1,54)\n",
    "overlay_with_revert = overlay + 0.1*avg_guess"
   ]
  },
  {
   "cell_type": "code",
   "execution_count": 154,
   "metadata": {},
   "outputs": [],
   "source": [
    "# lob = []\n",
    "# acc_history=[]\n",
    "# ou_history = []\n",
    "# winner_history = []\n",
    "\n",
    "# gsss = [avg_guess, two_one, overlay, overlay_and_avg, overlay_with_revert]\n",
    "# for guess in tqdm(range(len(gsss))):\n",
    "#         # for i in range(10):\n",
    "#         res1, res2, res3 = optimization_problem_v2(np.array(gsss[guess]))\n",
    "#         acc_history+=res1\n",
    "#         ou_history+=res2\n",
    "#         winner_history+=res3\n",
    "#         rep_lob = list(np.repeat(guess,len(res1)))\n",
    "#         lob+=rep_lob"
   ]
  },
  {
   "cell_type": "code",
   "execution_count": 173,
   "metadata": {},
   "outputs": [],
   "source": [
    "t1_scale = two_one * 0.9 + 0.1*avg_guess\n",
    "skibidi_pongus = np.random.rand(54)"
   ]
  },
  {
   "cell_type": "code",
   "execution_count": 174,
   "metadata": {},
   "outputs": [],
   "source": [
    "guess_dict = {'Avg':avg_guess,\n",
    "              'Two One':two_one,\n",
    "              'Overlay':overlay,\n",
    "              'Over Avg':overlay_and_avg,\n",
    "              'Over Rev':overlay_with_revert,\n",
    "              'Two One Rev':t1_scale,\n",
    "              \"Bad Guess\":skibidi_pongus}"
   ]
  },
  {
   "cell_type": "code",
   "execution_count": 193,
   "metadata": {},
   "outputs": [],
   "source": [
    "all_guesses = list(guess_dict.values())\n",
    "games = np.random.choice(os.listdir('raw_game_pulls'),10)"
   ]
  },
  {
   "cell_type": "code",
   "execution_count": 194,
   "metadata": {},
   "outputs": [],
   "source": [
    "results=optimization_problem_v2(all_guesses, games, 100)"
   ]
  },
  {
   "cell_type": "code",
   "execution_count": 195,
   "metadata": {},
   "outputs": [
    {
     "data": {
      "image/png": "[encoded data removed]",
      "text/plain": [
       "<Figure size 640x480 with 1 Axes>"
      ]
     },
     "metadata": {},
     "output_type": "display_data"
    },
    {
     "data": {
      "image/png": "[encoded data removed]",
      "text/plain": [
       "<Figure size 640x480 with 1 Axes>"
      ]
     },
     "metadata": {},
     "output_type": "display_data"
    },
    {
     "data": {
      "image/png": "[encoded data removed]",
      "text/plain": [
       "<Figure size 640x480 with 1 Axes>"
      ]
     },
     "metadata": {},
     "output_type": "display_data"
    }
   ],
   "source": [
    "results_melt =results.melt(id_vars=['Game','Guess'])\n",
    "for v in ['Distance','OU','Moneyline']:\n",
    "    data =results_melt[results_melt['variable']==v]\n",
    "    fig,ax = plt.subplots()\n",
    "    sns.boxplot(x='Guess',y='value', data = data, hue='Guess')\n",
    "    ax.set_xticklabels(list(guess_dict.keys()))"
   ]
  },
  {
   "cell_type": "code",
   "execution_count": 199,
   "metadata": {},
   "outputs": [
    {
     "data": {
      "text/html": [
       "<div>\n",
       "<style scoped>\n",
       "    .dataframe tbody tr th:only-of-type {\n",
       "        vertical-align: middle;\n",
       "    }\n",
       "\n",
       "    .dataframe tbody tr th {\n",
       "        vertical-align: top;\n",
       "    }\n",
       "\n",
       "    .dataframe thead th {\n",
       "        text-align: right;\n",
       "    }\n",
       "</style>\n",
       "<table border=\"1\" class=\"dataframe\">\n",
       "  <thead>\n",
       "    <tr style=\"text-align: right;\">\n",
       "      <th></th>\n",
       "      <th>Game</th>\n",
       "      <th>Guess</th>\n",
       "      <th>Distance</th>\n",
       "      <th>OU</th>\n",
       "      <th>Moneyline</th>\n",
       "    </tr>\n",
       "  </thead>\n",
       "  <tbody>\n",
       "    <tr>\n",
       "      <th>0</th>\n",
       "      <td>6196421_Play-By-Play for Baylor vs Auburn.xlsx</td>\n",
       "      <td>1</td>\n",
       "      <td>15.969561</td>\n",
       "      <td>-15.46</td>\n",
       "      <td>0.46</td>\n",
       "    </tr>\n",
       "    <tr>\n",
       "      <th>0</th>\n",
       "      <td>6196421_Play-By-Play for Baylor vs Auburn.xlsx</td>\n",
       "      <td>2</td>\n",
       "      <td>14.923516</td>\n",
       "      <td>-7.91</td>\n",
       "      <td>0.48</td>\n",
       "    </tr>\n",
       "    <tr>\n",
       "      <th>0</th>\n",
       "      <td>6196421_Play-By-Play for Baylor vs Auburn.xlsx</td>\n",
       "      <td>3</td>\n",
       "      <td>15.967919</td>\n",
       "      <td>-9.75</td>\n",
       "      <td>0.46</td>\n",
       "    </tr>\n",
       "    <tr>\n",
       "      <th>0</th>\n",
       "      <td>6196421_Play-By-Play for Baylor vs Auburn.xlsx</td>\n",
       "      <td>4</td>\n",
       "      <td>14.799354</td>\n",
       "      <td>-11.02</td>\n",
       "      <td>0.52</td>\n",
       "    </tr>\n",
       "    <tr>\n",
       "      <th>0</th>\n",
       "      <td>6196421_Play-By-Play for Baylor vs Auburn.xlsx</td>\n",
       "      <td>5</td>\n",
       "      <td>16.447679</td>\n",
       "      <td>-9.47</td>\n",
       "      <td>0.33</td>\n",
       "    </tr>\n",
       "    <tr>\n",
       "      <th>0</th>\n",
       "      <td>6196421_Play-By-Play for Baylor vs Auburn.xlsx</td>\n",
       "      <td>6</td>\n",
       "      <td>14.672990</td>\n",
       "      <td>-7.38</td>\n",
       "      <td>0.43</td>\n",
       "    </tr>\n",
       "    <tr>\n",
       "      <th>0</th>\n",
       "      <td>6196421_Play-By-Play for Baylor vs Auburn.xlsx</td>\n",
       "      <td>7</td>\n",
       "      <td>14.833608</td>\n",
       "      <td>-10.47</td>\n",
       "      <td>0.45</td>\n",
       "    </tr>\n",
       "  </tbody>\n",
       "</table>\n",
       "</div>"
      ],
      "text/plain": [
       "                                             Game  Guess   Distance     OU  \\\n",
       "0  6196421_Play-By-Play for Baylor vs Auburn.xlsx      1  15.969561 -15.46   \n",
       "0  6196421_Play-By-Play for Baylor vs Auburn.xlsx      2  14.923516  -7.91   \n",
       "0  6196421_Play-By-Play for Baylor vs Auburn.xlsx      3  15.967919  -9.75   \n",
       "0  6196421_Play-By-Play for Baylor vs Auburn.xlsx      4  14.799354 -11.02   \n",
       "0  6196421_Play-By-Play for Baylor vs Auburn.xlsx      5  16.447679  -9.47   \n",
       "0  6196421_Play-By-Play for Baylor vs Auburn.xlsx      6  14.672990  -7.38   \n",
       "0  6196421_Play-By-Play for Baylor vs Auburn.xlsx      7  14.833608 -10.47   \n",
       "\n",
       "   Moneyline  \n",
       "0       0.46  \n",
       "0       0.48  \n",
       "0       0.46  \n",
       "0       0.52  \n",
       "0       0.33  \n",
       "0       0.43  \n",
       "0       0.45  "
      ]
     },
     "execution_count": 199,
     "metadata": {},
     "output_type": "execute_result"
    }
   ],
   "source": [
    "results[results['Game']==list(results['Game'].unique())[3]]"
   ]
  },
  {
   "cell_type": "code",
   "execution_count": 170,
   "metadata": {},
   "outputs": [
    {
     "ename": "ValueError",
     "evalue": "Could not interpret input 'Distance'",
     "output_type": "error",
     "traceback": [
      "\u001b[1;31m---------------------------------------------------------------------------\u001b[0m",
      "\u001b[1;31mValueError\u001b[0m                                Traceback (most recent call last)",
      "\u001b[1;32m~\\AppData\\Local\\Temp\\ipykernel_10624\\3839694950.py\u001b[0m in \u001b[0;36m<module>\u001b[1;34m\u001b[0m\n\u001b[0;32m      1\u001b[0m \u001b[0mfig\u001b[0m\u001b[1;33m,\u001b[0m\u001b[0max\u001b[0m\u001b[1;33m=\u001b[0m\u001b[0mplt\u001b[0m\u001b[1;33m.\u001b[0m\u001b[0msubplots\u001b[0m\u001b[1;33m(\u001b[0m\u001b[1;33m)\u001b[0m\u001b[1;33m\u001b[0m\u001b[1;33m\u001b[0m\u001b[0m\n\u001b[1;32m----> 2\u001b[1;33m \u001b[0msns\u001b[0m\u001b[1;33m.\u001b[0m\u001b[0mboxplot\u001b[0m\u001b[1;33m(\u001b[0m\u001b[0mx\u001b[0m\u001b[1;33m=\u001b[0m\u001b[1;34m'Guess'\u001b[0m\u001b[1;33m,\u001b[0m \u001b[0my\u001b[0m\u001b[1;33m=\u001b[0m\u001b[1;34m'Distance'\u001b[0m\u001b[1;33m,\u001b[0m \u001b[0mdata\u001b[0m\u001b[1;33m=\u001b[0m\u001b[0mresults\u001b[0m\u001b[1;33m.\u001b[0m\u001b[0mmelt\u001b[0m\u001b[1;33m(\u001b[0m\u001b[0mid_vars\u001b[0m\u001b[1;33m=\u001b[0m\u001b[1;33m[\u001b[0m\u001b[1;34m'Game'\u001b[0m\u001b[1;33m,\u001b[0m\u001b[1;34m'Guess'\u001b[0m\u001b[1;33m]\u001b[0m\u001b[1;33m)\u001b[0m\u001b[1;33m,\u001b[0m \u001b[1;33m)\u001b[0m\u001b[1;31m#, labels = ['g1','g2','g3','g4','g5','g8'])\u001b[0m\u001b[1;33m\u001b[0m\u001b[1;33m\u001b[0m\u001b[0m\n\u001b[0m\u001b[0;32m      3\u001b[0m \u001b[0max\u001b[0m\u001b[1;33m.\u001b[0m\u001b[0mset_xticklabels\u001b[0m\u001b[1;33m(\u001b[0m\u001b[1;33m[\u001b[0m\u001b[1;34m'avg'\u001b[0m\u001b[1;33m,\u001b[0m \u001b[1;34m'2-1'\u001b[0m\u001b[1;33m,\u001b[0m \u001b[1;34m'overlay'\u001b[0m\u001b[1;33m,\u001b[0m \u001b[1;34m'over-avg'\u001b[0m\u001b[1;33m,\u001b[0m\u001b[1;34m'over-rev'\u001b[0m\u001b[1;33m]\u001b[0m\u001b[1;33m)\u001b[0m\u001b[1;33m\u001b[0m\u001b[1;33m\u001b[0m\u001b[0m\n\u001b[0;32m      4\u001b[0m \u001b[0max\u001b[0m\u001b[1;33m.\u001b[0m\u001b[0mlegend\u001b[0m\u001b[1;33m(\u001b[0m\u001b[0mbbox_to_anchor\u001b[0m\u001b[1;33m=\u001b[0m\u001b[1;33m(\u001b[0m\u001b[1;36m1\u001b[0m\u001b[1;33m,\u001b[0m\u001b[1;36m1\u001b[0m\u001b[1;33m)\u001b[0m\u001b[1;33m)\u001b[0m\u001b[1;33m\u001b[0m\u001b[1;33m\u001b[0m\u001b[0m\n",
      "\u001b[1;32mc:\\Users\\mdona\\anaconda3\\lib\\site-packages\\seaborn\\_decorators.py\u001b[0m in \u001b[0;36minner_f\u001b[1;34m(*args, **kwargs)\u001b[0m\n\u001b[0;32m     44\u001b[0m             )\n\u001b[0;32m     45\u001b[0m         \u001b[0mkwargs\u001b[0m\u001b[1;33m.\u001b[0m\u001b[0mupdate\u001b[0m\u001b[1;33m(\u001b[0m\u001b[1;33m{\u001b[0m\u001b[0mk\u001b[0m\u001b[1;33m:\u001b[0m \u001b[0marg\u001b[0m \u001b[1;32mfor\u001b[0m \u001b[0mk\u001b[0m\u001b[1;33m,\u001b[0m \u001b[0marg\u001b[0m \u001b[1;32min\u001b[0m \u001b[0mzip\u001b[0m\u001b[1;33m(\u001b[0m\u001b[0msig\u001b[0m\u001b[1;33m.\u001b[0m\u001b[0mparameters\u001b[0m\u001b[1;33m,\u001b[0m \u001b[0margs\u001b[0m\u001b[1;33m)\u001b[0m\u001b[1;33m}\u001b[0m\u001b[1;33m)\u001b[0m\u001b[1;33m\u001b[0m\u001b[1;33m\u001b[0m\u001b[0m\n\u001b[1;32m---> 46\u001b[1;33m         \u001b[1;32mreturn\u001b[0m \u001b[0mf\u001b[0m\u001b[1;33m(\u001b[0m\u001b[1;33m**\u001b[0m\u001b[0mkwargs\u001b[0m\u001b[1;33m)\u001b[0m\u001b[1;33m\u001b[0m\u001b[1;33m\u001b[0m\u001b[0m\n\u001b[0m\u001b[0;32m     47\u001b[0m     \u001b[1;32mreturn\u001b[0m \u001b[0minner_f\u001b[0m\u001b[1;33m\u001b[0m\u001b[1;33m\u001b[0m\u001b[0m\n\u001b[0;32m     48\u001b[0m \u001b[1;33m\u001b[0m\u001b[0m\n",
      "\u001b[1;32mc:\\Users\\mdona\\anaconda3\\lib\\site-packages\\seaborn\\categorical.py\u001b[0m in \u001b[0;36mboxplot\u001b[1;34m(x, y, hue, data, order, hue_order, orient, color, palette, saturation, width, dodge, fliersize, linewidth, whis, ax, **kwargs)\u001b[0m\n\u001b[0;32m   2241\u001b[0m ):\n\u001b[0;32m   2242\u001b[0m \u001b[1;33m\u001b[0m\u001b[0m\n\u001b[1;32m-> 2243\u001b[1;33m     plotter = _BoxPlotter(x, y, hue, data, order, hue_order,\n\u001b[0m\u001b[0;32m   2244\u001b[0m                           \u001b[0morient\u001b[0m\u001b[1;33m,\u001b[0m \u001b[0mcolor\u001b[0m\u001b[1;33m,\u001b[0m \u001b[0mpalette\u001b[0m\u001b[1;33m,\u001b[0m \u001b[0msaturation\u001b[0m\u001b[1;33m,\u001b[0m\u001b[1;33m\u001b[0m\u001b[1;33m\u001b[0m\u001b[0m\n\u001b[0;32m   2245\u001b[0m                           width, dodge, fliersize, linewidth)\n",
      "\u001b[1;32mc:\\Users\\mdona\\anaconda3\\lib\\site-packages\\seaborn\\categorical.py\u001b[0m in \u001b[0;36m__init__\u001b[1;34m(self, x, y, hue, data, order, hue_order, orient, color, palette, saturation, width, dodge, fliersize, linewidth)\u001b[0m\n\u001b[0;32m    404\u001b[0m                  width, dodge, fliersize, linewidth):\n\u001b[0;32m    405\u001b[0m \u001b[1;33m\u001b[0m\u001b[0m\n\u001b[1;32m--> 406\u001b[1;33m         \u001b[0mself\u001b[0m\u001b[1;33m.\u001b[0m\u001b[0mestablish_variables\u001b[0m\u001b[1;33m(\u001b[0m\u001b[0mx\u001b[0m\u001b[1;33m,\u001b[0m \u001b[0my\u001b[0m\u001b[1;33m,\u001b[0m \u001b[0mhue\u001b[0m\u001b[1;33m,\u001b[0m \u001b[0mdata\u001b[0m\u001b[1;33m,\u001b[0m \u001b[0morient\u001b[0m\u001b[1;33m,\u001b[0m \u001b[0morder\u001b[0m\u001b[1;33m,\u001b[0m \u001b[0mhue_order\u001b[0m\u001b[1;33m)\u001b[0m\u001b[1;33m\u001b[0m\u001b[1;33m\u001b[0m\u001b[0m\n\u001b[0m\u001b[0;32m    407\u001b[0m         \u001b[0mself\u001b[0m\u001b[1;33m.\u001b[0m\u001b[0mestablish_colors\u001b[0m\u001b[1;33m(\u001b[0m\u001b[0mcolor\u001b[0m\u001b[1;33m,\u001b[0m \u001b[0mpalette\u001b[0m\u001b[1;33m,\u001b[0m \u001b[0msaturation\u001b[0m\u001b[1;33m)\u001b[0m\u001b[1;33m\u001b[0m\u001b[1;33m\u001b[0m\u001b[0m\n\u001b[0;32m    408\u001b[0m \u001b[1;33m\u001b[0m\u001b[0m\n",
      "\u001b[1;32mc:\\Users\\mdona\\anaconda3\\lib\\site-packages\\seaborn\\categorical.py\u001b[0m in \u001b[0;36mestablish_variables\u001b[1;34m(self, x, y, hue, data, orient, order, hue_order, units)\u001b[0m\n\u001b[0;32m    151\u001b[0m                 \u001b[1;32mif\u001b[0m \u001b[0misinstance\u001b[0m\u001b[1;33m(\u001b[0m\u001b[0mvar\u001b[0m\u001b[1;33m,\u001b[0m \u001b[0mstr\u001b[0m\u001b[1;33m)\u001b[0m\u001b[1;33m:\u001b[0m\u001b[1;33m\u001b[0m\u001b[1;33m\u001b[0m\u001b[0m\n\u001b[0;32m    152\u001b[0m                     \u001b[0merr\u001b[0m \u001b[1;33m=\u001b[0m \u001b[1;34m\"Could not interpret input '{}'\"\u001b[0m\u001b[1;33m.\u001b[0m\u001b[0mformat\u001b[0m\u001b[1;33m(\u001b[0m\u001b[0mvar\u001b[0m\u001b[1;33m)\u001b[0m\u001b[1;33m\u001b[0m\u001b[1;33m\u001b[0m\u001b[0m\n\u001b[1;32m--> 153\u001b[1;33m                     \u001b[1;32mraise\u001b[0m \u001b[0mValueError\u001b[0m\u001b[1;33m(\u001b[0m\u001b[0merr\u001b[0m\u001b[1;33m)\u001b[0m\u001b[1;33m\u001b[0m\u001b[1;33m\u001b[0m\u001b[0m\n\u001b[0m\u001b[0;32m    154\u001b[0m \u001b[1;33m\u001b[0m\u001b[0m\n\u001b[0;32m    155\u001b[0m             \u001b[1;31m# Figure out the plotting orientation\u001b[0m\u001b[1;33m\u001b[0m\u001b[1;33m\u001b[0m\u001b[0m\n",
      "\u001b[1;31mValueError\u001b[0m: Could not interpret input 'Distance'"
     ]
    },
    {
     "data": {
      "image/png": "[encoded data removed]",
      "text/plain": [
       "<Figure size 640x480 with 1 Axes>"
      ]
     },
     "metadata": {},
     "output_type": "display_data"
    }
   ],
   "source": [
    "fig,ax=plt.subplots()\n",
    "sns.boxplot(x='Guess', y='Distance', data=results, )#, labels = ['g1','g2','g3','g4','g5','g8'])\n",
    "ax.set_xticklabels(['avg', '2-1', 'overlay', 'over-avg','over-rev'])\n",
    "ax.legend(bbox_to_anchor=(1,1))"
   ]
  },
  {
   "cell_type": "code",
   "execution_count": 116,
   "metadata": {},
   "outputs": [
    {
     "data": {
      "image/png": "[encoded data removed]",
      "text/plain": [
       "<Figure size 640x480 with 1 Axes>"
      ]
     },
     "metadata": {},
     "output_type": "display_data"
    }
   ],
   "source": [
    "fig,ax=plt.subplots()\n",
    "sns.boxplot(x=0, y=1, data=results_plot_2)#, labels = ['g1','g2','g3','g4','g5','g8'])\n",
    "ax.set_xticklabels(['avg', '2-1', 'overlay', 'over-avg','over-rev']);"
   ]
  },
  {
   "cell_type": "code",
   "execution_count": 114,
   "metadata": {},
   "outputs": [
    {
     "data": {
      "image/png": "[encoded data removed]",
      "text/plain": [
       "<Figure size 640x480 with 1 Axes>"
      ]
     },
     "metadata": {},
     "output_type": "display_data"
    }
   ],
   "source": [
    "fig,ax=plt.subplots()\n",
    "sns.boxplot(x=0, y=1, data=results_plot_3)\n",
    "plt.plot(np.arange(0,8), np.repeat(0.5, len(np.arange(0,8))))\n",
    "ax.set_xticklabels(['avg', '2-1', 'overlay', 'over-avg','over-rev']);"
   ]
  },
  {
   "cell_type": "code",
   "execution_count": 215,
   "metadata": {},
   "outputs": [
    {
     "data": {
      "text/html": [
       "<div>\n",
       "<style scoped>\n",
       "    .dataframe tbody tr th:only-of-type {\n",
       "        vertical-align: middle;\n",
       "    }\n",
       "\n",
       "    .dataframe tbody tr th {\n",
       "        vertical-align: top;\n",
       "    }\n",
       "\n",
       "    .dataframe thead th {\n",
       "        text-align: right;\n",
       "    }\n",
       "</style>\n",
       "<table border=\"1\" class=\"dataframe\">\n",
       "  <thead>\n",
       "    <tr style=\"text-align: right;\">\n",
       "      <th></th>\n",
       "      <th>0</th>\n",
       "      <th>1</th>\n",
       "    </tr>\n",
       "  </thead>\n",
       "  <tbody>\n",
       "    <tr>\n",
       "      <th>0</th>\n",
       "      <td>0</td>\n",
       "      <td>0.5</td>\n",
       "    </tr>\n",
       "    <tr>\n",
       "      <th>1</th>\n",
       "      <td>0</td>\n",
       "      <td>0.3</td>\n",
       "    </tr>\n",
       "    <tr>\n",
       "      <th>2</th>\n",
       "      <td>0</td>\n",
       "      <td>0.9</td>\n",
       "    </tr>\n",
       "    <tr>\n",
       "      <th>3</th>\n",
       "      <td>0</td>\n",
       "      <td>0.6</td>\n",
       "    </tr>\n",
       "    <tr>\n",
       "      <th>4</th>\n",
       "      <td>0</td>\n",
       "      <td>0.7</td>\n",
       "    </tr>\n",
       "    <tr>\n",
       "      <th>...</th>\n",
       "      <td>...</td>\n",
       "      <td>...</td>\n",
       "    </tr>\n",
       "    <tr>\n",
       "      <th>895</th>\n",
       "      <td>8</td>\n",
       "      <td>0.1</td>\n",
       "    </tr>\n",
       "    <tr>\n",
       "      <th>896</th>\n",
       "      <td>8</td>\n",
       "      <td>0.5</td>\n",
       "    </tr>\n",
       "    <tr>\n",
       "      <th>897</th>\n",
       "      <td>8</td>\n",
       "      <td>0.3</td>\n",
       "    </tr>\n",
       "    <tr>\n",
       "      <th>898</th>\n",
       "      <td>8</td>\n",
       "      <td>0.4</td>\n",
       "    </tr>\n",
       "    <tr>\n",
       "      <th>899</th>\n",
       "      <td>8</td>\n",
       "      <td>0.5</td>\n",
       "    </tr>\n",
       "  </tbody>\n",
       "</table>\n",
       "<p>900 rows × 2 columns</p>\n",
       "</div>"
      ],
      "text/plain": [
       "     0    1\n",
       "0    0  0.5\n",
       "1    0  0.3\n",
       "2    0  0.9\n",
       "3    0  0.6\n",
       "4    0  0.7\n",
       "..  ..  ...\n",
       "895  8  0.1\n",
       "896  8  0.5\n",
       "897  8  0.3\n",
       "898  8  0.4\n",
       "899  8  0.5\n",
       "\n",
       "[900 rows x 2 columns]"
      ]
     },
     "execution_count": 215,
     "metadata": {},
     "output_type": "execute_result"
    }
   ],
   "source": [
    "results_plot_3"
   ]
  },
  {
   "cell_type": "code",
   "execution_count": 133,
   "metadata": {},
   "outputs": [
    {
     "data": {
      "text/html": [
       "<div>\n",
       "<style scoped>\n",
       "    .dataframe tbody tr th:only-of-type {\n",
       "        vertical-align: middle;\n",
       "    }\n",
       "\n",
       "    .dataframe tbody tr th {\n",
       "        vertical-align: top;\n",
       "    }\n",
       "\n",
       "    .dataframe thead th {\n",
       "        text-align: right;\n",
       "    }\n",
       "</style>\n",
       "<table border=\"1\" class=\"dataframe\">\n",
       "  <thead>\n",
       "    <tr style=\"text-align: right;\">\n",
       "      <th></th>\n",
       "      <th>0</th>\n",
       "      <th>1</th>\n",
       "    </tr>\n",
       "  </thead>\n",
       "  <tbody>\n",
       "    <tr>\n",
       "      <th>0</th>\n",
       "      <td>0</td>\n",
       "      <td>False</td>\n",
       "    </tr>\n",
       "    <tr>\n",
       "      <th>1</th>\n",
       "      <td>0</td>\n",
       "      <td>True</td>\n",
       "    </tr>\n",
       "    <tr>\n",
       "      <th>2</th>\n",
       "      <td>0</td>\n",
       "      <td>False</td>\n",
       "    </tr>\n",
       "    <tr>\n",
       "      <th>3</th>\n",
       "      <td>0</td>\n",
       "      <td>False</td>\n",
       "    </tr>\n",
       "    <tr>\n",
       "      <th>4</th>\n",
       "      <td>0</td>\n",
       "      <td>False</td>\n",
       "    </tr>\n",
       "    <tr>\n",
       "      <th>...</th>\n",
       "      <td>...</td>\n",
       "      <td>...</td>\n",
       "    </tr>\n",
       "    <tr>\n",
       "      <th>85</th>\n",
       "      <td>8</td>\n",
       "      <td>True</td>\n",
       "    </tr>\n",
       "    <tr>\n",
       "      <th>86</th>\n",
       "      <td>8</td>\n",
       "      <td>False</td>\n",
       "    </tr>\n",
       "    <tr>\n",
       "      <th>87</th>\n",
       "      <td>8</td>\n",
       "      <td>False</td>\n",
       "    </tr>\n",
       "    <tr>\n",
       "      <th>88</th>\n",
       "      <td>8</td>\n",
       "      <td>False</td>\n",
       "    </tr>\n",
       "    <tr>\n",
       "      <th>89</th>\n",
       "      <td>8</td>\n",
       "      <td>False</td>\n",
       "    </tr>\n",
       "  </tbody>\n",
       "</table>\n",
       "<p>90 rows × 2 columns</p>\n",
       "</div>"
      ],
      "text/plain": [
       "    0      1\n",
       "0   0  False\n",
       "1   0   True\n",
       "2   0  False\n",
       "3   0  False\n",
       "4   0  False\n",
       ".. ..    ...\n",
       "85  8   True\n",
       "86  8  False\n",
       "87  8  False\n",
       "88  8  False\n",
       "89  8  False\n",
       "\n",
       "[90 rows x 2 columns]"
      ]
     },
     "execution_count": 133,
     "metadata": {},
     "output_type": "execute_result"
    }
   ],
   "source": [
    "results_plot_3"
   ]
  },
  {
   "cell_type": "code",
   "execution_count": null,
   "metadata": {},
   "outputs": [],
   "source": [
    "#test results first time around - g8 undershoots the OU, all others overshoot by about 10"
   ]
  },
  {
   "cell_type": "code",
   "execution_count": null,
   "metadata": {},
   "outputs": [],
   "source": [
    "#pure distance accuracy tests is not yielding promising results.\n",
    "#other accuracy tests to perform - winner, margin, and O/U total."
   ]
  },
  {
   "cell_type": "code",
   "execution_count": 90,
   "metadata": {},
   "outputs": [],
   "source": [
    "# Define optimization problem\n",
    "def optimization_problem_2(scalar_multiples):\n",
    "    # global m1, m2, m3, matrix1, matrix2, combined_matrix, checked\n",
    "    for g in np.random.choice(os.listdir('raw_game_pulls'),100):\n",
    "        total_acc=0\n",
    "        # game_res = pd.read_excel('raw_game_pulls/6195965_Play-By-Play for Indiana vs Army West Point.xlsx')\n",
    "        game_res = pd.read_excel('raw_game_pulls/{}'.format(g))\n",
    "        game_strings = g.split(' vs ')\n",
    "        team_A = game_strings[0].split('for ')[-1]\n",
    "        team_B = game_strings[1].split('.xlsx')[0]\n",
    "\n",
    "        matrix1 = pd.read_excel('team_specific_matrix/{}_A.xlsx'.format(team_A), index_col='Starting_State')\n",
    "        matrix2 = pd.read_excel('team_specific_matrix/{}_B.xlsx'.format(team_B), index_col='Starting_State')\n",
    "\n",
    "\n",
    "        # Reshape the parameters into matrices\n",
    "        m1 = scalar_multiples[:18].reshape(-1, 1)\n",
    "        m2 = scalar_multiples[18:36].reshape(-1, 1)\n",
    "        m3 = scalar_multiples[36:].reshape(-1, 1)\n",
    "\n",
    "        # Construct combined matrix\n",
    "        # combined_matrix = m1 * matrix1 + m2 * matrix2 + m3 * avg_matrix  # Adjust with scalar multiples\n",
    "        combined_matrix = pd.DataFrame()\n",
    "        for i in range(18):\n",
    "            combined_matrix[i] = matrix1.iloc[:, i] * m1[i] + \\\n",
    "                                matrix2.iloc[:, i] * m2[i] + \\\n",
    "                                avg_matrix.iloc[:, i] * m3[i]\n",
    "            \n",
    "        combined_matrix.columns=avg_matrix.columns\n",
    "        \n",
    "            \n",
    "        \n",
    "            \n",
    "            #this is constantly failing. Instead, I am just going to force all matrices\n",
    "            #to have the same lines for Af3 and Bf3\n",
    "        for r in combined_matrix.index:\n",
    "            if combined_matrix.loc[r].sum()==0.:\n",
    "                combined_matrix.loc[r]=avg_matrix.loc[r].copy()\n",
    "            \n",
    "        combined_matrix = combined_matrix.div(combined_matrix.sum(axis=1), axis=0)\n",
    "        combined_matrix.columns=avg_matrix.columns\n",
    "\n",
    "        # Evaluate performance\n",
    "        result = simulate_game(combined_matrix, 1)\n",
    "        total_acc += accuracy_ou(result, game_res)\n",
    "    # scalar_history.append(scalar_multiples)\n",
    "    # acc_history.append(np.mean(total_acc))\n",
    "    return np.mean(total_acc)"
   ]
  },
  {
   "cell_type": "code",
   "execution_count": 91,
   "metadata": {},
   "outputs": [
    {
     "name": "stderr",
     "output_type": "stream",
     "text": [
      " 12%|█▎        | 1/8 [02:01<14:10, 121.47s/it]Exception ignored in: <function ZipFile.__del__ at 0x0000022949E1CC10>\n",
      "Traceback (most recent call last):\n",
      "  File \"c:\\Users\\mdona\\anaconda3\\lib\\zipfile.py\", line 1816, in __del__\n",
      "    self.close()\n",
      "KeyboardInterrupt: \n"
     ]
    }
   ],
   "source": [
    "lob_2 = []\n",
    "gsss = [g1,g2,g3,g4,g5,g6,g7,g8]\n",
    "acc_history_2 = []\n",
    "for guess in tqdm(range(len(gsss))):\n",
    "        for i in range(10):\n",
    "                res = optimization_problem_2(gsss[guess])\n",
    "                acc_history_2.append(res)\n",
    "                lob_2.append(guess)"
   ]
  }
 ],
 "metadata": {
  "kernelspec": {
   "display_name": "base",
   "language": "python",
   "name": "python3"
  },
  "language_info": {
   "codemirror_mode": {
    "name": "ipython",
    "version": 3
   },
   "file_extension": ".py",
   "mimetype": "text/x-python",
   "name": "python",
   "nbconvert_exporter": "python",
   "pygments_lexer": "ipython3",
   "version": "3.9.13"
  }
 },
 "nbformat": 4,
 "nbformat_minor": 2
}
