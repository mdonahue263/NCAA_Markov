{
 "cells": [
  {
   "cell_type": "code",
   "execution_count": 6,
   "metadata": {},
   "outputs": [],
   "source": [
    "import pandas as pd\n",
    "from helper_functions.game_states_logic import get_play_states\n",
    "from helper_functions.pull_game_logic import pull_game\n",
    "import os\n",
    "from tqdm import tqdm\n",
    "from collections import Counter\n",
    "import numpy as np"
   ]
  },
  {
   "cell_type": "code",
   "execution_count": 7,
   "metadata": {},
   "outputs": [],
   "source": [
    "team_database = pd.read_excel('Team_Names_Abbrs_v02.xlsx')"
   ]
  },
  {
   "cell_type": "code",
   "execution_count": 8,
   "metadata": {},
   "outputs": [],
   "source": [
    "existing_transitions = pd.read_csv('ALL_VALID_TRANSITIONS_v04.csv')"
   ]
  },
  {
   "cell_type": "code",
   "execution_count": 47,
   "metadata": {},
   "outputs": [],
   "source": [
    "files_read = list(existing_transitions['filename'].unique())"
   ]
  },
  {
   "cell_type": "code",
   "execution_count": 10,
   "metadata": {},
   "outputs": [],
   "source": [
    "for filename in os.listdir('raw_game_pulls'):\n",
    "    teams = filename.split('for ')[1].split('.xlsx')[0]\n",
    "    team1, team2 = teams.split(' vs ')\n",
    "    reduce_df = team_database[team_database['name']==team1].copy()\n",
    "    if len(reduce_df) > 1:\n",
    "        print('Collision with {}'.format(team1))\n",
    "    elif len(reduce_df) == 0:\n",
    "        print('No match for {}'.format(team1))\n",
    "\n",
    "    reduce_df = team_database[team_database['name']==team2].copy()\n",
    "    if len(reduce_df) > 1:\n",
    "        print('Collision with {}'.format(team2))\n",
    "    elif len(reduce_df) == 0:\n",
    "        print('No match for {}'.format(team2))"
   ]
  },
  {
   "cell_type": "code",
   "execution_count": 48,
   "metadata": {},
   "outputs": [],
   "source": [
    "xs=[]\n",
    "ys=[]\n",
    "\n",
    "num_games = 0"
   ]
  },
  {
   "cell_type": "code",
   "execution_count": 49,
   "metadata": {},
   "outputs": [
    {
     "name": "stderr",
     "output_type": "stream",
     "text": [
      "  0%|          | 0/5497 [00:00<?, ?it/s]"
     ]
    },
    {
     "name": "stderr",
     "output_type": "stream",
     "text": [
      "100%|██████████| 5497/5497 [00:10<00:00, 540.12it/s]  \n"
     ]
    }
   ],
   "source": [
    "#PROCESS NEW GAMES\n",
    "#RE RUN WITH TIME DIFFERENTIALS LATER\n",
    "\n",
    "#initialize full dataframe\n",
    "final_df = pd.DataFrame()\n",
    "\n",
    "#iterate through files\n",
    "for filename in tqdm(os.listdir('raw_game_pulls')):\n",
    "    if filename not in files_read:\n",
    "        #initialize individual game dataframe\n",
    "        game_tracking_df = pd.DataFrame()\n",
    "\n",
    "        #parse filename\n",
    "        teams = filename.split('for ')[1].split('.xlsx')[0]\n",
    "        team1, team2 = teams.split(' vs ')\n",
    "        team_A = team_database[team_database['name']==team1]['abbreviations'].values[0]\n",
    "        team_B = team_database[team_database['name']==team2]['abbreviations'].values[0]\n",
    "\n",
    "        #pull file data\n",
    "        current_data = pd.read_excel('raw_game_pulls/{}'.format(filename))\n",
    "\n",
    "        #quick check that the abbrev is in there \n",
    "        #(had to manually change some because abbrev changed throughout season)\n",
    "        all_text = ' '.join(list(current_data['PLAY']))\n",
    "        assert team_A in all_text\n",
    "        assert team_B in all_text\n",
    "\n",
    "\n",
    "        #pull states\n",
    "        all_states = get_play_states(current_data, team_A, team_B)\n",
    "        final_game = pd.DataFrame()\n",
    "        for i in range(len(all_states)):\n",
    "            half_tuples = all_states[i]\n",
    "\n",
    "            #just take play, not timestamp\n",
    "            smaller_list = [x[0] for x in half_tuples if x[0] != 'UNNEC']\n",
    "\n",
    "            #that means rather than this logic, we should count the transitions in here\n",
    "\n",
    "            # curr_half = pd.DataFrame(smaller_list, columns = ['State','Time'])\n",
    "            # curr_half['Period']=i+1\n",
    "            # final_game = pd.concat([final_game,curr_half])\n",
    "\n",
    "            list_of_pairs = [tuple(smaller_list[j:j+2]) for j in range(len(smaller_list)-2)]\n",
    "\n",
    "            curr_half = pd.DataFrame({'Transition': list_of_pairs})\n",
    "            curr_half['Period']=i+1\n",
    "            game_tracking_df=pd.concat([game_tracking_df,curr_half]).reset_index(drop=True)\n",
    "        game_tracking_df['filename']=filename\n",
    "        final_df=pd.concat([final_df,game_tracking_df]).reset_index(drop=True)"
   ]
  },
  {
   "cell_type": "code",
   "execution_count": 45,
   "metadata": {},
   "outputs": [
    {
     "data": {
      "text/plain": [
       "'6201772_Play-By-Play for Nebraska vs South Carolina St..xlsx'"
      ]
     },
     "execution_count": 45,
     "metadata": {},
     "output_type": "execute_result"
    }
   ],
   "source": [
    "filename"
   ]
  },
  {
   "cell_type": "code",
   "execution_count": 46,
   "metadata": {},
   "outputs": [
    {
     "data": {
      "text/plain": [
       "'SCSTATE'"
      ]
     },
     "execution_count": 46,
     "metadata": {},
     "output_type": "execute_result"
    }
   ],
   "source": [
    "team_B"
   ]
  },
  {
   "cell_type": "code",
   "execution_count": 50,
   "metadata": {},
   "outputs": [],
   "source": [
    "#delete all transitions from FREETHROW state that don't result in either team r or opposite team i\n",
    "#also delete when freethrow turns to i2 or i3\n",
    "validate = []\n",
    "for i in range(len(final_df)):\n",
    "    curr_tran = final_df['Transition'][i]\n",
    "    if curr_tran in [('Bi1', 'Af3'),\n",
    "                       ('Ai2', 'Bf3'),\n",
    "                       ('Af0', 'Af3'),\n",
    "                       ('Ai0', 'Bf3'),\n",
    "                       ('Bf2', 'Bf2'),\n",
    "                       ('Bi3', 'Af3'),\n",
    "                       ('Ai0', 'Bf2'),\n",
    "                       ('Bf3', 'Bf0'),\n",
    "                       ('Af3', 'Af1'),\n",
    "                       ('Af3', 'Af0'),\n",
    "                       ('Bf0', 'Bf2'),\n",
    "                       ('Bf3', 'Bf1'),\n",
    "                       ('Ai1', 'Bf3'),\n",
    "                       ('Br0', 'Af3'),\n",
    "                       ('Ar0', 'Bf3'),\n",
    "                       ('Af0', 'Af2'),\n",
    "                       ('Ai3', 'Bf2'),\n",
    "                       ('Bi3', 'Af2'),\n",
    "                       ('Bf2', 'Bf1'),\n",
    "                       ('Bf2', 'Bf0'),\n",
    "                       ('Ai2', 'Bf2'),\n",
    "                       ('Ai1', 'Bf2'),\n",
    "                       ('Af2', 'Af1'),\n",
    "                       ('Bi0', 'Af2'),\n",
    "                       ('Bi2', 'Af2'),\n",
    "                       ('Af2', 'Af0'),\n",
    "                       ('Bi1', 'Af2'),\n",
    "                       ('Bi3', 'Bi3'),\n",
    "                       ('Ai3', 'Ai3'),\n",
    "                       ('Ai0', 'Ai3'),\n",
    "                       ('Bi0', 'Bi3'),\n",
    "                       ('Ai2', 'Ai3'),\n",
    "                       ('Ai3', 'Ai2'),\n",
    "                       ('Ai3', 'Bf0'),\n",
    "                       ('Br0', 'Af2'),\n",
    "                       ('Ar0', 'Bf2'),\n",
    "                       ('Ai1', 'Ai3'),\n",
    "                       ('Bi3', 'Af0'),\n",
    "                       ('Bi0', 'Af0'),\n",
    "                       ('Ai0', 'Ai2'),\n",
    "                       ('Ai1', 'Bf0'),\n",
    "                       ('Bi3', 'Bi2'),\n",
    "                       ('Ai0', 'Bf0'),\n",
    "                       ('Ai2', 'Ai2'),\n",
    "                       ('Bi1', 'Bi3'),\n",
    "                       ('Bi0', 'Bi2'),\n",
    "                       ('Bi2', 'Bi3'),\n",
    "                       ('Bi1', 'Af0'),\n",
    "                       ('Br0', 'Bi3'),\n",
    "                       ('Ai1', 'Ai2'),\n",
    "                       ('Bi2', 'Bi2'),\n",
    "                       ('Bi1', 'Bi2'),\n",
    "                       ('Ai2', 'Bf0'),\n",
    "                       ('Ar0', 'Ai3'),\n",
    "                       ('Bi2', 'Af0'),\n",
    "                       ('Br0', 'Bi2'),\n",
    "                       ('Br0', 'Af0'),\n",
    "                       ('Ar0', 'Ai2'),\n",
    "                       ('Ar0', 'Bf0'),\n",
    "                       ('Bi2','Af3'),\n",
    "                       ('Af3','Af2')]:\n",
    "        validate.append(False)\n",
    "\n",
    "    elif ('f' in curr_tran[0])&('f' in curr_tran[1]):\n",
    "        if (('A' in curr_tran[0])&('A' in curr_tran[1])) | (('B' in curr_tran[0])&('B' in curr_tran[1])):\n",
    "            validate.append(True)\n",
    "        else:\n",
    "            validate.append(False)\n",
    "    elif (('Af' in curr_tran[0])&('Ai' in curr_tran[1])) | (('Bf' in curr_tran[0])&('Bi' in curr_tran[1])):\n",
    "        validate.append(False)\n",
    "    elif ('f' in curr_tran[0])&(('i3' in curr_tran[1]) | ('i2' in curr_tran[1])):\n",
    "        validate.append(False)\n",
    "    elif ('1' in curr_tran[1])&('f' not in curr_tran[0]):\n",
    "        validate.append(False)\n",
    "    else:\n",
    "        validate.append(True)"
   ]
  },
  {
   "cell_type": "code",
   "execution_count": 51,
   "metadata": {},
   "outputs": [],
   "source": [
    "final_df['is_valid']=validate"
   ]
  },
  {
   "cell_type": "code",
   "execution_count": 52,
   "metadata": {},
   "outputs": [
    {
     "data": {
      "text/plain": [
       "True     53235\n",
       "False      316\n",
       "Name: is_valid, dtype: int64"
      ]
     },
     "execution_count": 52,
     "metadata": {},
     "output_type": "execute_result"
    }
   ],
   "source": [
    "final_df['is_valid'].value_counts(dropna=False)"
   ]
  },
  {
   "cell_type": "code",
   "execution_count": 53,
   "metadata": {},
   "outputs": [
    {
     "data": {
      "text/plain": [
       "(Br0, Ar0)    4275\n",
       "(Ar0, Br0)    4255\n",
       "(Ar0, Bi2)    2634\n",
       "(Br0, Ai2)    2436\n",
       "(Bi2, Ar0)    1892\n",
       "(Ai2, Br0)    1675\n",
       "(Af0, Af1)    1596\n",
       "(Ar0, Ar0)    1518\n",
       "(Bf0, Bf1)    1414\n",
       "(Ar0, Af0)    1374\n",
       "Name: Transition, dtype: int64"
      ]
     },
     "execution_count": 53,
     "metadata": {},
     "output_type": "execute_result"
    }
   ],
   "source": [
    "final_df[final_df['is_valid']==True]['Transition'].value_counts(dropna=False)[:10]"
   ]
  },
  {
   "cell_type": "code",
   "execution_count": 54,
   "metadata": {},
   "outputs": [],
   "source": [
    "valid_df = final_df[final_df['is_valid']==True].copy().reset_index(drop=True)"
   ]
  },
  {
   "cell_type": "code",
   "execution_count": 55,
   "metadata": {},
   "outputs": [],
   "source": [
    "to_save = pd.concat([existing_transitions,valid_df]).copy().reset_index(drop=True)"
   ]
  },
  {
   "cell_type": "code",
   "execution_count": 56,
   "metadata": {},
   "outputs": [
    {
     "data": {
      "text/html": [
       "<div>\n",
       "<style scoped>\n",
       "    .dataframe tbody tr th:only-of-type {\n",
       "        vertical-align: middle;\n",
       "    }\n",
       "\n",
       "    .dataframe tbody tr th {\n",
       "        vertical-align: top;\n",
       "    }\n",
       "\n",
       "    .dataframe thead th {\n",
       "        text-align: right;\n",
       "    }\n",
       "</style>\n",
       "<table border=\"1\" class=\"dataframe\">\n",
       "  <thead>\n",
       "    <tr style=\"text-align: right;\">\n",
       "      <th></th>\n",
       "      <th>Transition</th>\n",
       "      <th>Period</th>\n",
       "      <th>filename</th>\n",
       "      <th>is_valid</th>\n",
       "    </tr>\n",
       "  </thead>\n",
       "  <tbody>\n",
       "    <tr>\n",
       "      <th>0</th>\n",
       "      <td>('Ai0', 'Bi2')</td>\n",
       "      <td>1</td>\n",
       "      <td>6195965_Play-By-Play for Indiana vs Army West ...</td>\n",
       "      <td>True</td>\n",
       "    </tr>\n",
       "    <tr>\n",
       "      <th>1</th>\n",
       "      <td>('Bi2', 'Ar0')</td>\n",
       "      <td>1</td>\n",
       "      <td>6195965_Play-By-Play for Indiana vs Army West ...</td>\n",
       "      <td>True</td>\n",
       "    </tr>\n",
       "    <tr>\n",
       "      <th>2</th>\n",
       "      <td>('Ar0', 'Br0')</td>\n",
       "      <td>1</td>\n",
       "      <td>6195965_Play-By-Play for Indiana vs Army West ...</td>\n",
       "      <td>True</td>\n",
       "    </tr>\n",
       "    <tr>\n",
       "      <th>3</th>\n",
       "      <td>('Br0', 'Ar0')</td>\n",
       "      <td>1</td>\n",
       "      <td>6195965_Play-By-Play for Indiana vs Army West ...</td>\n",
       "      <td>True</td>\n",
       "    </tr>\n",
       "    <tr>\n",
       "      <th>4</th>\n",
       "      <td>('Ar0', 'Br0')</td>\n",
       "      <td>1</td>\n",
       "      <td>6195965_Play-By-Play for Indiana vs Army West ...</td>\n",
       "      <td>True</td>\n",
       "    </tr>\n",
       "    <tr>\n",
       "      <th>...</th>\n",
       "      <td>...</td>\n",
       "      <td>...</td>\n",
       "      <td>...</td>\n",
       "      <td>...</td>\n",
       "    </tr>\n",
       "    <tr>\n",
       "      <th>1135157</th>\n",
       "      <td>(Ai1, Ar0)</td>\n",
       "      <td>3</td>\n",
       "      <td>6201788_Play-By-Play for Utah vs Arizona.xlsx</td>\n",
       "      <td>True</td>\n",
       "    </tr>\n",
       "    <tr>\n",
       "      <th>1135158</th>\n",
       "      <td>(Ar0, Bi2)</td>\n",
       "      <td>3</td>\n",
       "      <td>6201788_Play-By-Play for Utah vs Arizona.xlsx</td>\n",
       "      <td>True</td>\n",
       "    </tr>\n",
       "    <tr>\n",
       "      <th>1135159</th>\n",
       "      <td>(Bi2, Bf0)</td>\n",
       "      <td>3</td>\n",
       "      <td>6201788_Play-By-Play for Utah vs Arizona.xlsx</td>\n",
       "      <td>True</td>\n",
       "    </tr>\n",
       "    <tr>\n",
       "      <th>1135160</th>\n",
       "      <td>(Bf0, Bf1)</td>\n",
       "      <td>3</td>\n",
       "      <td>6201788_Play-By-Play for Utah vs Arizona.xlsx</td>\n",
       "      <td>True</td>\n",
       "    </tr>\n",
       "    <tr>\n",
       "      <th>1135161</th>\n",
       "      <td>(Bf1, Ai1)</td>\n",
       "      <td>3</td>\n",
       "      <td>6201788_Play-By-Play for Utah vs Arizona.xlsx</td>\n",
       "      <td>True</td>\n",
       "    </tr>\n",
       "  </tbody>\n",
       "</table>\n",
       "<p>1135162 rows × 4 columns</p>\n",
       "</div>"
      ],
      "text/plain": [
       "             Transition  Period  \\\n",
       "0        ('Ai0', 'Bi2')       1   \n",
       "1        ('Bi2', 'Ar0')       1   \n",
       "2        ('Ar0', 'Br0')       1   \n",
       "3        ('Br0', 'Ar0')       1   \n",
       "4        ('Ar0', 'Br0')       1   \n",
       "...                 ...     ...   \n",
       "1135157      (Ai1, Ar0)       3   \n",
       "1135158      (Ar0, Bi2)       3   \n",
       "1135159      (Bi2, Bf0)       3   \n",
       "1135160      (Bf0, Bf1)       3   \n",
       "1135161      (Bf1, Ai1)       3   \n",
       "\n",
       "                                                  filename  is_valid  \n",
       "0        6195965_Play-By-Play for Indiana vs Army West ...      True  \n",
       "1        6195965_Play-By-Play for Indiana vs Army West ...      True  \n",
       "2        6195965_Play-By-Play for Indiana vs Army West ...      True  \n",
       "3        6195965_Play-By-Play for Indiana vs Army West ...      True  \n",
       "4        6195965_Play-By-Play for Indiana vs Army West ...      True  \n",
       "...                                                    ...       ...  \n",
       "1135157      6201788_Play-By-Play for Utah vs Arizona.xlsx      True  \n",
       "1135158      6201788_Play-By-Play for Utah vs Arizona.xlsx      True  \n",
       "1135159      6201788_Play-By-Play for Utah vs Arizona.xlsx      True  \n",
       "1135160      6201788_Play-By-Play for Utah vs Arizona.xlsx      True  \n",
       "1135161      6201788_Play-By-Play for Utah vs Arizona.xlsx      True  \n",
       "\n",
       "[1135162 rows x 4 columns]"
      ]
     },
     "execution_count": 56,
     "metadata": {},
     "output_type": "execute_result"
    }
   ],
   "source": [
    "to_save"
   ]
  },
  {
   "cell_type": "code",
   "execution_count": null,
   "metadata": {},
   "outputs": [],
   "source": []
  },
  {
   "cell_type": "code",
   "execution_count": 57,
   "metadata": {},
   "outputs": [],
   "source": [
    "#v04 is too big for excel :(\n",
    "to_save.to_csv('ALL_VALID_TRANSITIONS_v05.csv',index=False)"
   ]
  },
  {
   "cell_type": "code",
   "execution_count": 16,
   "metadata": {},
   "outputs": [],
   "source": [
    "# valid_df.to_excel('ALL_VALID_TRANSITIONS_v03.xlsx',index=False)"
   ]
  },
  {
   "cell_type": "code",
   "execution_count": null,
   "metadata": {},
   "outputs": [],
   "source": []
  }
 ],
 "metadata": {
  "kernelspec": {
   "display_name": "base",
   "language": "python",
   "name": "python3"
  },
  "language_info": {
   "codemirror_mode": {
    "name": "ipython",
    "version": 3
   },
   "file_extension": ".py",
   "mimetype": "text/x-python",
   "name": "python",
   "nbconvert_exporter": "python",
   "pygments_lexer": "ipython3",
   "version": "3.9.13"
  }
 },
 "nbformat": 4,
 "nbformat_minor": 2
}
