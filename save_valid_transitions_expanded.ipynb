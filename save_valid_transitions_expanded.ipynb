{
 "cells": [
  {
   "cell_type": "code",
   "execution_count": 1,
   "metadata": {},
   "outputs": [],
   "source": [
    "import pandas as pd\n",
    "from helper_functions.game_states_logic import get_play_states\n",
    "from helper_functions.pull_game_logic import pull_game\n",
    "import os\n",
    "from tqdm import tqdm\n",
    "from collections import Counter\n",
    "import numpy as np"
   ]
  },
  {
   "cell_type": "code",
   "execution_count": 2,
   "metadata": {},
   "outputs": [],
   "source": [
    "team_database = pd.read_excel('Team_Names_Abbrs_v02.xlsx')"
   ]
  },
  {
   "cell_type": "code",
   "execution_count": 3,
   "metadata": {},
   "outputs": [
    {
     "ename": "KeyboardInterrupt",
     "evalue": "",
     "output_type": "error",
     "traceback": [
      "\u001b[1;31m---------------------------------------------------------------------------\u001b[0m",
      "\u001b[1;31mKeyboardInterrupt\u001b[0m                         Traceback (most recent call last)",
      "\u001b[1;32m~\\AppData\\Local\\Temp/ipykernel_23804/1552396384.py\u001b[0m in \u001b[0;36m<module>\u001b[1;34m\u001b[0m\n\u001b[1;32m----> 1\u001b[1;33m \u001b[0mexisting_transitions\u001b[0m \u001b[1;33m=\u001b[0m \u001b[0mpd\u001b[0m\u001b[1;33m.\u001b[0m\u001b[0mread_excel\u001b[0m\u001b[1;33m(\u001b[0m\u001b[1;34m'ALL_VALID_TRANSITIONS_v02.xlsx'\u001b[0m\u001b[1;33m)\u001b[0m\u001b[1;33m\u001b[0m\u001b[1;33m\u001b[0m\u001b[0m\n\u001b[0m",
      "\u001b[1;32mc:\\Users\\mdona\\anaconda3\\lib\\site-packages\\pandas\\io\\excel\\_base.py\u001b[0m in \u001b[0;36mread_excel\u001b[1;34m(io, sheet_name, header, names, index_col, usecols, dtype, engine, converters, true_values, false_values, skiprows, nrows, na_values, keep_default_na, na_filter, verbose, parse_dates, date_parser, date_format, thousands, decimal, comment, skipfooter, storage_options, dtype_backend, engine_kwargs)\u001b[0m\n\u001b[0;32m    515\u001b[0m \u001b[1;33m\u001b[0m\u001b[0m\n\u001b[0;32m    516\u001b[0m     \u001b[1;32mtry\u001b[0m\u001b[1;33m:\u001b[0m\u001b[1;33m\u001b[0m\u001b[1;33m\u001b[0m\u001b[0m\n\u001b[1;32m--> 517\u001b[1;33m         data = io.parse(\n\u001b[0m\u001b[0;32m    518\u001b[0m             \u001b[0msheet_name\u001b[0m\u001b[1;33m=\u001b[0m\u001b[0msheet_name\u001b[0m\u001b[1;33m,\u001b[0m\u001b[1;33m\u001b[0m\u001b[1;33m\u001b[0m\u001b[0m\n\u001b[0;32m    519\u001b[0m             \u001b[0mheader\u001b[0m\u001b[1;33m=\u001b[0m\u001b[0mheader\u001b[0m\u001b[1;33m,\u001b[0m\u001b[1;33m\u001b[0m\u001b[1;33m\u001b[0m\u001b[0m\n",
      "\u001b[1;32mc:\\Users\\mdona\\anaconda3\\lib\\site-packages\\pandas\\io\\excel\\_base.py\u001b[0m in \u001b[0;36mparse\u001b[1;34m(self, sheet_name, header, names, index_col, usecols, converters, true_values, false_values, skiprows, nrows, na_values, parse_dates, date_parser, date_format, thousands, comment, skipfooter, dtype_backend, **kwds)\u001b[0m\n\u001b[0;32m   1627\u001b[0m         \u001b[1;33m>>\u001b[0m\u001b[1;33m>\u001b[0m \u001b[0mfile\u001b[0m\u001b[1;33m.\u001b[0m\u001b[0mparse\u001b[0m\u001b[1;33m(\u001b[0m\u001b[1;33m)\u001b[0m  \u001b[1;31m# doctest: +SKIP\u001b[0m\u001b[1;33m\u001b[0m\u001b[1;33m\u001b[0m\u001b[0m\n\u001b[0;32m   1628\u001b[0m         \"\"\"\n\u001b[1;32m-> 1629\u001b[1;33m         return self._reader.parse(\n\u001b[0m\u001b[0;32m   1630\u001b[0m             \u001b[0msheet_name\u001b[0m\u001b[1;33m=\u001b[0m\u001b[0msheet_name\u001b[0m\u001b[1;33m,\u001b[0m\u001b[1;33m\u001b[0m\u001b[1;33m\u001b[0m\u001b[0m\n\u001b[0;32m   1631\u001b[0m             \u001b[0mheader\u001b[0m\u001b[1;33m=\u001b[0m\u001b[0mheader\u001b[0m\u001b[1;33m,\u001b[0m\u001b[1;33m\u001b[0m\u001b[1;33m\u001b[0m\u001b[0m\n",
      "\u001b[1;32mc:\\Users\\mdona\\anaconda3\\lib\\site-packages\\pandas\\io\\excel\\_base.py\u001b[0m in \u001b[0;36mparse\u001b[1;34m(self, sheet_name, header, names, index_col, usecols, dtype, true_values, false_values, skiprows, nrows, na_values, verbose, parse_dates, date_parser, date_format, thousands, decimal, comment, skipfooter, dtype_backend, **kwds)\u001b[0m\n\u001b[0;32m    791\u001b[0m \u001b[1;33m\u001b[0m\u001b[0m\n\u001b[0;32m    792\u001b[0m             \u001b[0mfile_rows_needed\u001b[0m \u001b[1;33m=\u001b[0m \u001b[0mself\u001b[0m\u001b[1;33m.\u001b[0m\u001b[0m_calc_rows\u001b[0m\u001b[1;33m(\u001b[0m\u001b[0mheader\u001b[0m\u001b[1;33m,\u001b[0m \u001b[0mindex_col\u001b[0m\u001b[1;33m,\u001b[0m \u001b[0mskiprows\u001b[0m\u001b[1;33m,\u001b[0m \u001b[0mnrows\u001b[0m\u001b[1;33m)\u001b[0m\u001b[1;33m\u001b[0m\u001b[1;33m\u001b[0m\u001b[0m\n\u001b[1;32m--> 793\u001b[1;33m             \u001b[0mdata\u001b[0m \u001b[1;33m=\u001b[0m \u001b[0mself\u001b[0m\u001b[1;33m.\u001b[0m\u001b[0mget_sheet_data\u001b[0m\u001b[1;33m(\u001b[0m\u001b[0msheet\u001b[0m\u001b[1;33m,\u001b[0m \u001b[0mfile_rows_needed\u001b[0m\u001b[1;33m)\u001b[0m\u001b[1;33m\u001b[0m\u001b[1;33m\u001b[0m\u001b[0m\n\u001b[0m\u001b[0;32m    794\u001b[0m             \u001b[1;32mif\u001b[0m \u001b[0mhasattr\u001b[0m\u001b[1;33m(\u001b[0m\u001b[0msheet\u001b[0m\u001b[1;33m,\u001b[0m \u001b[1;34m\"close\"\u001b[0m\u001b[1;33m)\u001b[0m\u001b[1;33m:\u001b[0m\u001b[1;33m\u001b[0m\u001b[1;33m\u001b[0m\u001b[0m\n\u001b[0;32m    795\u001b[0m                 \u001b[1;31m# pyxlsb opens two TemporaryFiles\u001b[0m\u001b[1;33m\u001b[0m\u001b[1;33m\u001b[0m\u001b[0m\n",
      "\u001b[1;32mc:\\Users\\mdona\\anaconda3\\lib\\site-packages\\pandas\\io\\excel\\_openpyxl.py\u001b[0m in \u001b[0;36mget_sheet_data\u001b[1;34m(self, sheet, file_rows_needed)\u001b[0m\n\u001b[0;32m    614\u001b[0m         \u001b[0mdata\u001b[0m\u001b[1;33m:\u001b[0m \u001b[0mlist\u001b[0m\u001b[1;33m[\u001b[0m\u001b[0mlist\u001b[0m\u001b[1;33m[\u001b[0m\u001b[0mScalar\u001b[0m\u001b[1;33m]\u001b[0m\u001b[1;33m]\u001b[0m \u001b[1;33m=\u001b[0m \u001b[1;33m[\u001b[0m\u001b[1;33m]\u001b[0m\u001b[1;33m\u001b[0m\u001b[1;33m\u001b[0m\u001b[0m\n\u001b[0;32m    615\u001b[0m         \u001b[0mlast_row_with_data\u001b[0m \u001b[1;33m=\u001b[0m \u001b[1;33m-\u001b[0m\u001b[1;36m1\u001b[0m\u001b[1;33m\u001b[0m\u001b[1;33m\u001b[0m\u001b[0m\n\u001b[1;32m--> 616\u001b[1;33m         \u001b[1;32mfor\u001b[0m \u001b[0mrow_number\u001b[0m\u001b[1;33m,\u001b[0m \u001b[0mrow\u001b[0m \u001b[1;32min\u001b[0m \u001b[0menumerate\u001b[0m\u001b[1;33m(\u001b[0m\u001b[0msheet\u001b[0m\u001b[1;33m.\u001b[0m\u001b[0mrows\u001b[0m\u001b[1;33m)\u001b[0m\u001b[1;33m:\u001b[0m\u001b[1;33m\u001b[0m\u001b[1;33m\u001b[0m\u001b[0m\n\u001b[0m\u001b[0;32m    617\u001b[0m             \u001b[0mconverted_row\u001b[0m \u001b[1;33m=\u001b[0m \u001b[1;33m[\u001b[0m\u001b[0mself\u001b[0m\u001b[1;33m.\u001b[0m\u001b[0m_convert_cell\u001b[0m\u001b[1;33m(\u001b[0m\u001b[0mcell\u001b[0m\u001b[1;33m)\u001b[0m \u001b[1;32mfor\u001b[0m \u001b[0mcell\u001b[0m \u001b[1;32min\u001b[0m \u001b[0mrow\u001b[0m\u001b[1;33m]\u001b[0m\u001b[1;33m\u001b[0m\u001b[1;33m\u001b[0m\u001b[0m\n\u001b[0;32m    618\u001b[0m             \u001b[1;32mwhile\u001b[0m \u001b[0mconverted_row\u001b[0m \u001b[1;32mand\u001b[0m \u001b[0mconverted_row\u001b[0m\u001b[1;33m[\u001b[0m\u001b[1;33m-\u001b[0m\u001b[1;36m1\u001b[0m\u001b[1;33m]\u001b[0m \u001b[1;33m==\u001b[0m \u001b[1;34m\"\"\u001b[0m\u001b[1;33m:\u001b[0m\u001b[1;33m\u001b[0m\u001b[1;33m\u001b[0m\u001b[0m\n",
      "\u001b[1;32mc:\\Users\\mdona\\anaconda3\\lib\\site-packages\\openpyxl\\worksheet\\_read_only.py\u001b[0m in \u001b[0;36m_cells_by_row\u001b[1;34m(self, min_col, min_row, max_col, max_row, values_only)\u001b[0m\n\u001b[0;32m     79\u001b[0m                                  \u001b[0mdata_only\u001b[0m\u001b[1;33m=\u001b[0m\u001b[0mself\u001b[0m\u001b[1;33m.\u001b[0m\u001b[0mparent\u001b[0m\u001b[1;33m.\u001b[0m\u001b[0mdata_only\u001b[0m\u001b[1;33m,\u001b[0m \u001b[0mepoch\u001b[0m\u001b[1;33m=\u001b[0m\u001b[0mself\u001b[0m\u001b[1;33m.\u001b[0m\u001b[0mparent\u001b[0m\u001b[1;33m.\u001b[0m\u001b[0mepoch\u001b[0m\u001b[1;33m,\u001b[0m\u001b[1;33m\u001b[0m\u001b[1;33m\u001b[0m\u001b[0m\n\u001b[0;32m     80\u001b[0m                                  date_formats=self.parent._date_formats)\n\u001b[1;32m---> 81\u001b[1;33m         \u001b[1;32mfor\u001b[0m \u001b[0midx\u001b[0m\u001b[1;33m,\u001b[0m \u001b[0mrow\u001b[0m \u001b[1;32min\u001b[0m \u001b[0mparser\u001b[0m\u001b[1;33m.\u001b[0m\u001b[0mparse\u001b[0m\u001b[1;33m(\u001b[0m\u001b[1;33m)\u001b[0m\u001b[1;33m:\u001b[0m\u001b[1;33m\u001b[0m\u001b[1;33m\u001b[0m\u001b[0m\n\u001b[0m\u001b[0;32m     82\u001b[0m             \u001b[1;32mif\u001b[0m \u001b[0mmax_row\u001b[0m \u001b[1;32mis\u001b[0m \u001b[1;32mnot\u001b[0m \u001b[1;32mNone\u001b[0m \u001b[1;32mand\u001b[0m \u001b[0midx\u001b[0m \u001b[1;33m>\u001b[0m \u001b[0mmax_row\u001b[0m\u001b[1;33m:\u001b[0m\u001b[1;33m\u001b[0m\u001b[1;33m\u001b[0m\u001b[0m\n\u001b[0;32m     83\u001b[0m                 \u001b[1;32mbreak\u001b[0m\u001b[1;33m\u001b[0m\u001b[1;33m\u001b[0m\u001b[0m\n",
      "\u001b[1;32mc:\\Users\\mdona\\anaconda3\\lib\\site-packages\\openpyxl\\worksheet\\_reader.py\u001b[0m in \u001b[0;36mparse\u001b[1;34m(self)\u001b[0m\n\u001b[0;32m    154\u001b[0m         \u001b[0mit\u001b[0m \u001b[1;33m=\u001b[0m \u001b[0miterparse\u001b[0m\u001b[1;33m(\u001b[0m\u001b[0mself\u001b[0m\u001b[1;33m.\u001b[0m\u001b[0msource\u001b[0m\u001b[1;33m)\u001b[0m \u001b[1;31m# add a finaliser to close the source when this becomes possible\u001b[0m\u001b[1;33m\u001b[0m\u001b[1;33m\u001b[0m\u001b[0m\n\u001b[0;32m    155\u001b[0m \u001b[1;33m\u001b[0m\u001b[0m\n\u001b[1;32m--> 156\u001b[1;33m         \u001b[1;32mfor\u001b[0m \u001b[0m_\u001b[0m\u001b[1;33m,\u001b[0m \u001b[0melement\u001b[0m \u001b[1;32min\u001b[0m \u001b[0mit\u001b[0m\u001b[1;33m:\u001b[0m\u001b[1;33m\u001b[0m\u001b[1;33m\u001b[0m\u001b[0m\n\u001b[0m\u001b[0;32m    157\u001b[0m             \u001b[0mtag_name\u001b[0m \u001b[1;33m=\u001b[0m \u001b[0melement\u001b[0m\u001b[1;33m.\u001b[0m\u001b[0mtag\u001b[0m\u001b[1;33m\u001b[0m\u001b[1;33m\u001b[0m\u001b[0m\n\u001b[0;32m    158\u001b[0m             \u001b[1;32mif\u001b[0m \u001b[0mtag_name\u001b[0m \u001b[1;32min\u001b[0m \u001b[0mdispatcher\u001b[0m\u001b[1;33m:\u001b[0m\u001b[1;33m\u001b[0m\u001b[1;33m\u001b[0m\u001b[0m\n",
      "\u001b[1;32mc:\\Users\\mdona\\anaconda3\\lib\\xml\\etree\\ElementTree.py\u001b[0m in \u001b[0;36miterator\u001b[1;34m()\u001b[0m\n\u001b[0;32m   1254\u001b[0m                 \u001b[1;32myield\u001b[0m \u001b[1;32mfrom\u001b[0m \u001b[0mpullparser\u001b[0m\u001b[1;33m.\u001b[0m\u001b[0mread_events\u001b[0m\u001b[1;33m(\u001b[0m\u001b[1;33m)\u001b[0m\u001b[1;33m\u001b[0m\u001b[1;33m\u001b[0m\u001b[0m\n\u001b[0;32m   1255\u001b[0m                 \u001b[1;31m# load event buffer\u001b[0m\u001b[1;33m\u001b[0m\u001b[1;33m\u001b[0m\u001b[0m\n\u001b[1;32m-> 1256\u001b[1;33m                 \u001b[0mdata\u001b[0m \u001b[1;33m=\u001b[0m \u001b[0msource\u001b[0m\u001b[1;33m.\u001b[0m\u001b[0mread\u001b[0m\u001b[1;33m(\u001b[0m\u001b[1;36m16\u001b[0m \u001b[1;33m*\u001b[0m \u001b[1;36m1024\u001b[0m\u001b[1;33m)\u001b[0m\u001b[1;33m\u001b[0m\u001b[1;33m\u001b[0m\u001b[0m\n\u001b[0m\u001b[0;32m   1257\u001b[0m                 \u001b[1;32mif\u001b[0m \u001b[1;32mnot\u001b[0m \u001b[0mdata\u001b[0m\u001b[1;33m:\u001b[0m\u001b[1;33m\u001b[0m\u001b[1;33m\u001b[0m\u001b[0m\n\u001b[0;32m   1258\u001b[0m                     \u001b[1;32mbreak\u001b[0m\u001b[1;33m\u001b[0m\u001b[1;33m\u001b[0m\u001b[0m\n",
      "\u001b[1;32mc:\\Users\\mdona\\anaconda3\\lib\\zipfile.py\u001b[0m in \u001b[0;36mread\u001b[1;34m(self, n)\u001b[0m\n\u001b[0;32m    920\u001b[0m         \u001b[0mself\u001b[0m\u001b[1;33m.\u001b[0m\u001b[0m_offset\u001b[0m \u001b[1;33m=\u001b[0m \u001b[1;36m0\u001b[0m\u001b[1;33m\u001b[0m\u001b[1;33m\u001b[0m\u001b[0m\n\u001b[0;32m    921\u001b[0m         \u001b[1;32mwhile\u001b[0m \u001b[0mn\u001b[0m \u001b[1;33m>\u001b[0m \u001b[1;36m0\u001b[0m \u001b[1;32mand\u001b[0m \u001b[1;32mnot\u001b[0m \u001b[0mself\u001b[0m\u001b[1;33m.\u001b[0m\u001b[0m_eof\u001b[0m\u001b[1;33m:\u001b[0m\u001b[1;33m\u001b[0m\u001b[1;33m\u001b[0m\u001b[0m\n\u001b[1;32m--> 922\u001b[1;33m             \u001b[0mdata\u001b[0m \u001b[1;33m=\u001b[0m \u001b[0mself\u001b[0m\u001b[1;33m.\u001b[0m\u001b[0m_read1\u001b[0m\u001b[1;33m(\u001b[0m\u001b[0mn\u001b[0m\u001b[1;33m)\u001b[0m\u001b[1;33m\u001b[0m\u001b[1;33m\u001b[0m\u001b[0m\n\u001b[0m\u001b[0;32m    923\u001b[0m             \u001b[1;32mif\u001b[0m \u001b[0mn\u001b[0m \u001b[1;33m<\u001b[0m \u001b[0mlen\u001b[0m\u001b[1;33m(\u001b[0m\u001b[0mdata\u001b[0m\u001b[1;33m)\u001b[0m\u001b[1;33m:\u001b[0m\u001b[1;33m\u001b[0m\u001b[1;33m\u001b[0m\u001b[0m\n\u001b[0;32m    924\u001b[0m                 \u001b[0mself\u001b[0m\u001b[1;33m.\u001b[0m\u001b[0m_readbuffer\u001b[0m \u001b[1;33m=\u001b[0m \u001b[0mdata\u001b[0m\u001b[1;33m\u001b[0m\u001b[1;33m\u001b[0m\u001b[0m\n",
      "\u001b[1;32mc:\\Users\\mdona\\anaconda3\\lib\\zipfile.py\u001b[0m in \u001b[0;36m_read1\u001b[1;34m(self, n)\u001b[0m\n\u001b[0;32m    996\u001b[0m         \u001b[1;32melif\u001b[0m \u001b[0mself\u001b[0m\u001b[1;33m.\u001b[0m\u001b[0m_compress_type\u001b[0m \u001b[1;33m==\u001b[0m \u001b[0mZIP_DEFLATED\u001b[0m\u001b[1;33m:\u001b[0m\u001b[1;33m\u001b[0m\u001b[1;33m\u001b[0m\u001b[0m\n\u001b[0;32m    997\u001b[0m             \u001b[0mn\u001b[0m \u001b[1;33m=\u001b[0m \u001b[0mmax\u001b[0m\u001b[1;33m(\u001b[0m\u001b[0mn\u001b[0m\u001b[1;33m,\u001b[0m \u001b[0mself\u001b[0m\u001b[1;33m.\u001b[0m\u001b[0mMIN_READ_SIZE\u001b[0m\u001b[1;33m)\u001b[0m\u001b[1;33m\u001b[0m\u001b[1;33m\u001b[0m\u001b[0m\n\u001b[1;32m--> 998\u001b[1;33m             \u001b[0mdata\u001b[0m \u001b[1;33m=\u001b[0m \u001b[0mself\u001b[0m\u001b[1;33m.\u001b[0m\u001b[0m_decompressor\u001b[0m\u001b[1;33m.\u001b[0m\u001b[0mdecompress\u001b[0m\u001b[1;33m(\u001b[0m\u001b[0mdata\u001b[0m\u001b[1;33m,\u001b[0m \u001b[0mn\u001b[0m\u001b[1;33m)\u001b[0m\u001b[1;33m\u001b[0m\u001b[1;33m\u001b[0m\u001b[0m\n\u001b[0m\u001b[0;32m    999\u001b[0m             self._eof = (self._decompressor.eof or\n\u001b[0;32m   1000\u001b[0m                          \u001b[0mself\u001b[0m\u001b[1;33m.\u001b[0m\u001b[0m_compress_left\u001b[0m \u001b[1;33m<=\u001b[0m \u001b[1;36m0\u001b[0m \u001b[1;32mand\u001b[0m\u001b[1;33m\u001b[0m\u001b[1;33m\u001b[0m\u001b[0m\n",
      "\u001b[1;31mKeyboardInterrupt\u001b[0m: "
     ]
    }
   ],
   "source": [
    "existing_transitions = pd.read_excel('ALL_VALID_TRANSITIONS_v02.xlsx')"
   ]
  },
  {
   "cell_type": "code",
   "execution_count": 12,
   "metadata": {},
   "outputs": [],
   "source": [
    "files_read = list(existing_transitions['filename'].unique())"
   ]
  },
  {
   "cell_type": "code",
   "execution_count": 4,
   "metadata": {},
   "outputs": [],
   "source": [
    "for filename in os.listdir('raw_game_pulls'):\n",
    "    teams = filename.split('for ')[1].split('.xlsx')[0]\n",
    "    team1, team2 = teams.split(' vs ')\n",
    "    reduce_df = team_database[team_database['name']==team1].copy()\n",
    "    if len(reduce_df) > 1:\n",
    "        print('Collision with {}'.format(team1))\n",
    "    elif len(reduce_df) == 0:\n",
    "        print('No match for {}'.format(team1))\n",
    "\n",
    "    reduce_df = team_database[team_database['name']==team2].copy()\n",
    "    if len(reduce_df) > 1:\n",
    "        print('Collision with {}'.format(team2))\n",
    "    elif len(reduce_df) == 0:\n",
    "        print('No match for {}'.format(team2))"
   ]
  },
  {
   "cell_type": "code",
   "execution_count": 5,
   "metadata": {},
   "outputs": [],
   "source": [
    "xs=[]\n",
    "ys=[]\n",
    "\n",
    "num_games = 0"
   ]
  },
  {
   "cell_type": "code",
   "execution_count": 6,
   "metadata": {},
   "outputs": [],
   "source": [
    "#going to re run all with no files read just beacuse some abbreviations have been altered"
   ]
  },
  {
   "cell_type": "code",
   "execution_count": 7,
   "metadata": {},
   "outputs": [],
   "source": [
    "files_read = []"
   ]
  },
  {
   "cell_type": "code",
   "execution_count": 8,
   "metadata": {},
   "outputs": [
    {
     "name": "stderr",
     "output_type": "stream",
     "text": [
      "  0%|          | 0/4809 [00:00<?, ?it/s]"
     ]
    },
    {
     "name": "stderr",
     "output_type": "stream",
     "text": [
      "100%|██████████| 4809/4809 [05:54<00:00, 13.56it/s]\n"
     ]
    }
   ],
   "source": [
    "#RE RUN WITH TIME DIFFERENTIALS LATER\n",
    "\n",
    "#initialize full dataframe\n",
    "final_df = pd.DataFrame()\n",
    "\n",
    "#iterate through files\n",
    "for filename in tqdm(os.listdir('raw_game_pulls')):\n",
    "    if filename not in files_read:\n",
    "        #initialize individual game dataframe\n",
    "        game_tracking_df = pd.DataFrame()\n",
    "\n",
    "        #parse filename\n",
    "        teams = filename.split('for ')[1].split('.xlsx')[0]\n",
    "        team1, team2 = teams.split(' vs ')\n",
    "        team_A = team_database[team_database['name']==team1]['abbreviations'].values[0]\n",
    "        team_B = team_database[team_database['name']==team2]['abbreviations'].values[0]\n",
    "\n",
    "        #pull file data\n",
    "        current_data = pd.read_excel('raw_game_pulls/{}'.format(filename))\n",
    "\n",
    "        #quick check that the abbrev is in there \n",
    "        #(had to manually change some because abbrev changed throughout season)\n",
    "        all_text = ' '.join(list(current_data['PLAY']))\n",
    "        assert team_A in all_text\n",
    "        assert team_B in all_text\n",
    "\n",
    "\n",
    "        #pull states\n",
    "        all_states = get_play_states(current_data, team_A, team_B)\n",
    "        final_game = pd.DataFrame()\n",
    "        for i in range(len(all_states)):\n",
    "            half_tuples = all_states[i]\n",
    "\n",
    "            #just take play, not timestamp\n",
    "            smaller_list = [x[0] for x in half_tuples if x[0] != 'UNNEC']\n",
    "\n",
    "            #that means rather than this logic, we should count the transitions in here\n",
    "\n",
    "            # curr_half = pd.DataFrame(smaller_list, columns = ['State','Time'])\n",
    "            # curr_half['Period']=i+1\n",
    "            # final_game = pd.concat([final_game,curr_half])\n",
    "\n",
    "            list_of_pairs = [tuple(smaller_list[j:j+2]) for j in range(len(smaller_list)-2)]\n",
    "\n",
    "            curr_half = pd.DataFrame({'Transition': list_of_pairs})\n",
    "            curr_half['Period']=i+1\n",
    "            game_tracking_df=pd.concat([game_tracking_df,curr_half]).reset_index(drop=True)\n",
    "        game_tracking_df['filename']=filename\n",
    "        final_df=pd.concat([final_df,game_tracking_df]).reset_index(drop=True)"
   ]
  },
  {
   "cell_type": "code",
   "execution_count": 9,
   "metadata": {},
   "outputs": [],
   "source": [
    "# filename"
   ]
  },
  {
   "cell_type": "code",
   "execution_count": 10,
   "metadata": {},
   "outputs": [],
   "source": [
    "# team_B"
   ]
  },
  {
   "cell_type": "code",
   "execution_count": 11,
   "metadata": {},
   "outputs": [],
   "source": [
    "#delete all transitions from FREETHROW state that don't result in either team r or opposite team i\n",
    "#also delete when freethrow turns to i2 or i3\n",
    "validate = []\n",
    "for i in range(len(final_df)):\n",
    "    curr_tran = final_df['Transition'][i]\n",
    "    if curr_tran in [('Bi1', 'Af3'),\n",
    "                       ('Ai2', 'Bf3'),\n",
    "                       ('Af0', 'Af3'),\n",
    "                       ('Ai0', 'Bf3'),\n",
    "                       ('Bf2', 'Bf2'),\n",
    "                       ('Bi3', 'Af3'),\n",
    "                       ('Ai0', 'Bf2'),\n",
    "                       ('Bf3', 'Bf0'),\n",
    "                       ('Af3', 'Af1'),\n",
    "                       ('Af3', 'Af0'),\n",
    "                       ('Bf0', 'Bf2'),\n",
    "                       ('Bf3', 'Bf1'),\n",
    "                       ('Ai1', 'Bf3'),\n",
    "                       ('Br0', 'Af3'),\n",
    "                       ('Ar0', 'Bf3'),\n",
    "                       ('Af0', 'Af2'),\n",
    "                       ('Ai3', 'Bf2'),\n",
    "                       ('Bi3', 'Af2'),\n",
    "                       ('Bf2', 'Bf1'),\n",
    "                       ('Bf2', 'Bf0'),\n",
    "                       ('Ai2', 'Bf2'),\n",
    "                       ('Ai1', 'Bf2'),\n",
    "                       ('Af2', 'Af1'),\n",
    "                       ('Bi0', 'Af2'),\n",
    "                       ('Bi2', 'Af2'),\n",
    "                       ('Af2', 'Af0'),\n",
    "                       ('Bi1', 'Af2'),\n",
    "                       ('Bi3', 'Bi3'),\n",
    "                       ('Ai3', 'Ai3'),\n",
    "                       ('Ai0', 'Ai3'),\n",
    "                       ('Bi0', 'Bi3'),\n",
    "                       ('Ai2', 'Ai3'),\n",
    "                       ('Ai3', 'Ai2'),\n",
    "                       ('Ai3', 'Bf0'),\n",
    "                       ('Br0', 'Af2'),\n",
    "                       ('Ar0', 'Bf2'),\n",
    "                       ('Ai1', 'Ai3'),\n",
    "                       ('Bi3', 'Af0'),\n",
    "                       ('Bi0', 'Af0'),\n",
    "                       ('Ai0', 'Ai2'),\n",
    "                       ('Ai1', 'Bf0'),\n",
    "                       ('Bi3', 'Bi2'),\n",
    "                       ('Ai0', 'Bf0'),\n",
    "                       ('Ai2', 'Ai2'),\n",
    "                       ('Bi1', 'Bi3'),\n",
    "                       ('Bi0', 'Bi2'),\n",
    "                       ('Bi2', 'Bi3'),\n",
    "                       ('Bi1', 'Af0'),\n",
    "                       ('Br0', 'Bi3'),\n",
    "                       ('Ai1', 'Ai2'),\n",
    "                       ('Bi2', 'Bi2'),\n",
    "                       ('Bi1', 'Bi2'),\n",
    "                       ('Ai2', 'Bf0'),\n",
    "                       ('Ar0', 'Ai3'),\n",
    "                       ('Bi2', 'Af0'),\n",
    "                       ('Br0', 'Bi2'),\n",
    "                       ('Br0', 'Af0'),\n",
    "                       ('Ar0', 'Ai2'),\n",
    "                       ('Ar0', 'Bf0'),\n",
    "                       ('Bi2','Af3'),\n",
    "                       ('Af3','Af2')]:\n",
    "        validate.append(False)\n",
    "\n",
    "    elif ('f' in curr_tran[0])&('f' in curr_tran[1]):\n",
    "        if (('A' in curr_tran[0])&('A' in curr_tran[1])) | (('B' in curr_tran[0])&('B' in curr_tran[1])):\n",
    "            validate.append(True)\n",
    "        else:\n",
    "            validate.append(False)\n",
    "    elif (('Af' in curr_tran[0])&('Ai' in curr_tran[1])) | (('Bf' in curr_tran[0])&('Bi' in curr_tran[1])):\n",
    "        validate.append(False)\n",
    "    elif ('f' in curr_tran[0])&(('i3' in curr_tran[1]) | ('i2' in curr_tran[1])):\n",
    "        validate.append(False)\n",
    "    elif ('1' in curr_tran[1])&('f' not in curr_tran[0]):\n",
    "        validate.append(False)\n",
    "    else:\n",
    "        validate.append(True)"
   ]
  },
  {
   "cell_type": "code",
   "execution_count": 12,
   "metadata": {},
   "outputs": [],
   "source": [
    "final_df['is_valid']=validate"
   ]
  },
  {
   "cell_type": "code",
   "execution_count": 13,
   "metadata": {},
   "outputs": [
    {
     "data": {
      "text/plain": [
       "is_valid\n",
       "True     995139\n",
       "False      6938\n",
       "Name: count, dtype: int64"
      ]
     },
     "execution_count": 13,
     "metadata": {},
     "output_type": "execute_result"
    }
   ],
   "source": [
    "final_df['is_valid'].value_counts(dropna=False)"
   ]
  },
  {
   "cell_type": "code",
   "execution_count": 14,
   "metadata": {},
   "outputs": [
    {
     "data": {
      "text/plain": [
       "Transition\n",
       "(Br0, Ar0)    82705\n",
       "(Ar0, Br0)    80597\n",
       "(Ar0, Bi2)    51727\n",
       "(Br0, Ai2)    42984\n",
       "(Bi2, Ar0)    37094\n",
       "(Af0, Af1)    30975\n",
       "(Ai2, Br0)    29680\n",
       "(Ar0, Ar0)    29302\n",
       "(Ar0, Af0)    26829\n",
       "(Bf0, Bf1)    25987\n",
       "Name: count, dtype: int64"
      ]
     },
     "execution_count": 14,
     "metadata": {},
     "output_type": "execute_result"
    }
   ],
   "source": [
    "final_df[final_df['is_valid']==True]['Transition'].value_counts(dropna=False)[:10]"
   ]
  },
  {
   "cell_type": "code",
   "execution_count": 15,
   "metadata": {},
   "outputs": [],
   "source": [
    "valid_df = final_df[final_df['is_valid']==True].copy().reset_index(drop=True)"
   ]
  },
  {
   "cell_type": "code",
   "execution_count": 23,
   "metadata": {},
   "outputs": [],
   "source": [
    "# to_save = pd.concat([existing_transitions,valid_df]).copy().reset_index(drop=True)"
   ]
  },
  {
   "cell_type": "code",
   "execution_count": null,
   "metadata": {},
   "outputs": [],
   "source": []
  },
  {
   "cell_type": "code",
   "execution_count": null,
   "metadata": {},
   "outputs": [],
   "source": []
  },
  {
   "cell_type": "code",
   "execution_count": 24,
   "metadata": {},
   "outputs": [],
   "source": [
    "# to_save.to_excel('ALL_VALID_TRANSITIONS_v02.xlsx',index=False)"
   ]
  },
  {
   "cell_type": "code",
   "execution_count": 16,
   "metadata": {},
   "outputs": [],
   "source": [
    "valid_df.to_excel('ALL_VALID_TRANSITIONS_v03.xlsx',index=False)"
   ]
  },
  {
   "cell_type": "code",
   "execution_count": null,
   "metadata": {},
   "outputs": [],
   "source": []
  }
 ],
 "metadata": {
  "kernelspec": {
   "display_name": "base",
   "language": "python",
   "name": "python3"
  },
  "language_info": {
   "codemirror_mode": {
    "name": "ipython",
    "version": 3
   },
   "file_extension": ".py",
   "mimetype": "text/x-python",
   "name": "python",
   "nbconvert_exporter": "python",
   "pygments_lexer": "ipython3",
   "version": "3.9.7"
  }
 },
 "nbformat": 4,
 "nbformat_minor": 2
}
