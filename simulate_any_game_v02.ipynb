{
 "cells": [
  {
   "cell_type": "code",
   "execution_count": 1,
   "metadata": {},
   "outputs": [],
   "source": [
    "import pandas as pd\n",
    "import numpy as np\n",
    "from helper_functions.clean_transitions import clean_transition_column\n",
    "from helper_functions.simulate_game import simulate_game\n",
    "from helper_functions.combine_matrices import combine_team_matrix\n",
    "import time\n",
    "from matplotlib import pyplot as plt\n",
    "#troubleshooting simulate game"
   ]
  },
  {
   "cell_type": "code",
   "execution_count": 2,
   "metadata": {},
   "outputs": [],
   "source": [
    "def clean_result(sim_game, over_under, a_margin):\n",
    "    \"\"\"\n",
    "    Takes simulated game and produces relevant lines\n",
    "    \"\"\"\n",
    "    totals = []\n",
    "    for item in sim_game[1]:\n",
    "        totals.append(item[0]+item[1])\n",
    "\n",
    "    t_array = np.array(totals)-10\n",
    "    under_prob= np.mean(t_array<over_under)\n",
    "    over_prob= np.mean(t_array>over_under)\n",
    "\n",
    "    if (under_prob<.6)and(over_prob)<.6:\n",
    "        print('Over-Under Wash')\n",
    "        print()\n",
    "\n",
    "    else:\n",
    "        print('Over {} probabilty: {}%'.format(over_under, np.round(100*over_prob, 1)))\n",
    "        print('Under {} probabilty: {}%'.format(over_under, np.round(100*under_prob, 1)))\n",
    "        print()\n",
    "\n",
    "    margins = []\n",
    "    for aaa in sim_game[1]:\n",
    "        margins.append(aaa[0]-aaa[1])\n",
    "\n",
    "    margins_b = []\n",
    "    for aaa in sim_game[1]:\n",
    "        margins_b.append(aaa[1]-aaa[0])\n",
    "\n",
    "    a_cover = np.mean(np.array(margins)>a_margin)\n",
    "    b_cover = np.mean(np.array(margins_b) > -a_margin)\n",
    "\n",
    "    if (a_cover<.6)and(b_cover<.6):\n",
    "        print('Spread Wash')\n",
    "        print()\n",
    "\n",
    "    else:\n",
    "        print('Team A cover {} probability: {}%'.format(-a_margin, np.round(100*a_cover, 1)))\n",
    "        print('Team B cover {} probability: {}%'.format(a_margin, np.round(100*b_cover, 1)))\n",
    "        print()\n",
    "\n",
    "    a_win = np.mean([x[0]>x[1] for x in sim_game[1]])\n",
    "\n",
    "    print('Team A win probability: {}%'.format(np.round(100*a_win, 1)))\n",
    "    print('Team B win probability: {}%'.format(np.round(100*(1-a_win), 1)))\n",
    "\n",
    "    \n",
    "    "
   ]
  },
  {
   "cell_type": "code",
   "execution_count": 3,
   "metadata": {},
   "outputs": [],
   "source": [
    "#if one team does not have data for a certain starting state, we will get a row of nan's which will break the code.\n",
    "#if this occurs, we can just substitute the average probability for this row?\n",
    "avg_matrix = pd.read_excel('avg_transition_matrix_with_manual_edits.xlsx', sheet_name = 'Mean Pasted', index_col='Starting_State')"
   ]
  },
  {
   "cell_type": "code",
   "execution_count": 9,
   "metadata": {},
   "outputs": [],
   "source": [
    "team_A = pd.read_excel(\"team_specific_matrix/NC State_A.xlsx\", index_col = 'Starting_State')\n",
    "team_B = pd.read_excel(\"team_specific_matrix/Duke_B.xlsx\", index_col = 'Starting_State')"
   ]
  },
  {
   "cell_type": "code",
   "execution_count": 10,
   "metadata": {},
   "outputs": [],
   "source": [
    "transition_matrix = combine_team_matrix(team_A, team_B)"
   ]
  },
  {
   "cell_type": "code",
   "execution_count": 11,
   "metadata": {},
   "outputs": [],
   "source": [
    "abc = simulate_game(transition_matrix, num_games=1000)"
   ]
  },
  {
   "cell_type": "code",
   "execution_count": 12,
   "metadata": {},
   "outputs": [],
   "source": [
    "OU = 148\n",
    "team_A_margin = -6"
   ]
  },
  {
   "cell_type": "code",
   "execution_count": 13,
   "metadata": {},
   "outputs": [
    {
     "name": "stdout",
     "output_type": "stream",
     "text": [
      "Over 148 probabilty: 63.5%\n",
      "Under 148 probabilty: 34.3%\n",
      "\n",
      "Spread Wash\n",
      "\n",
      "Team A win probability: 30.2%\n",
      "Team B win probability: 69.8%\n"
     ]
    }
   ],
   "source": [
    "clean_result(abc, OU, team_A_margin)"
   ]
  },
  {
   "cell_type": "code",
   "execution_count": 79,
   "metadata": {},
   "outputs": [
    {
     "data": {
      "text/html": [
       "<div>\n",
       "<style scoped>\n",
       "    .dataframe tbody tr th:only-of-type {\n",
       "        vertical-align: middle;\n",
       "    }\n",
       "\n",
       "    .dataframe tbody tr th {\n",
       "        vertical-align: top;\n",
       "    }\n",
       "\n",
       "    .dataframe thead th {\n",
       "        text-align: right;\n",
       "    }\n",
       "</style>\n",
       "<table border=\"1\" class=\"dataframe\">\n",
       "  <thead>\n",
       "    <tr style=\"text-align: right;\">\n",
       "      <th></th>\n",
       "      <th>Transition</th>\n",
       "      <th>Team_A</th>\n",
       "      <th>Team_B</th>\n",
       "      <th>Time</th>\n",
       "      <th>Period</th>\n",
       "      <th>Team_A_Final</th>\n",
       "      <th>Team_B_Final</th>\n",
       "      <th>Game Number</th>\n",
       "    </tr>\n",
       "  </thead>\n",
       "  <tbody>\n",
       "    <tr>\n",
       "      <th>0</th>\n",
       "      <td>(Bi0, Ai2)</td>\n",
       "      <td>0</td>\n",
       "      <td>2</td>\n",
       "      <td>1193</td>\n",
       "      <td>1</td>\n",
       "      <td>0</td>\n",
       "      <td>2</td>\n",
       "      <td>1</td>\n",
       "    </tr>\n",
       "    <tr>\n",
       "      <th>1</th>\n",
       "      <td>(Ai2, Bi0)</td>\n",
       "      <td>0</td>\n",
       "      <td>0</td>\n",
       "      <td>1172</td>\n",
       "      <td>1</td>\n",
       "      <td>0</td>\n",
       "      <td>2</td>\n",
       "      <td>1</td>\n",
       "    </tr>\n",
       "    <tr>\n",
       "      <th>2</th>\n",
       "      <td>(Bi0, Ar0)</td>\n",
       "      <td>0</td>\n",
       "      <td>0</td>\n",
       "      <td>541</td>\n",
       "      <td>1</td>\n",
       "      <td>0</td>\n",
       "      <td>2</td>\n",
       "      <td>1</td>\n",
       "    </tr>\n",
       "    <tr>\n",
       "      <th>3</th>\n",
       "      <td>(Ar0, Bi3)</td>\n",
       "      <td>3</td>\n",
       "      <td>0</td>\n",
       "      <td>1157</td>\n",
       "      <td>1</td>\n",
       "      <td>3</td>\n",
       "      <td>2</td>\n",
       "      <td>1</td>\n",
       "    </tr>\n",
       "    <tr>\n",
       "      <th>4</th>\n",
       "      <td>(Bi3, Ar0)</td>\n",
       "      <td>0</td>\n",
       "      <td>0</td>\n",
       "      <td>223</td>\n",
       "      <td>1</td>\n",
       "      <td>3</td>\n",
       "      <td>2</td>\n",
       "      <td>1</td>\n",
       "    </tr>\n",
       "    <tr>\n",
       "      <th>5</th>\n",
       "      <td>(Ar0, Bi2)</td>\n",
       "      <td>2</td>\n",
       "      <td>0</td>\n",
       "      <td>219</td>\n",
       "      <td>1</td>\n",
       "      <td>5</td>\n",
       "      <td>2</td>\n",
       "      <td>1</td>\n",
       "    </tr>\n",
       "    <tr>\n",
       "      <th>6</th>\n",
       "      <td>(Bi2, Br0)</td>\n",
       "      <td>0</td>\n",
       "      <td>0</td>\n",
       "      <td>410</td>\n",
       "      <td>1</td>\n",
       "      <td>5</td>\n",
       "      <td>2</td>\n",
       "      <td>1</td>\n",
       "    </tr>\n",
       "    <tr>\n",
       "      <th>7</th>\n",
       "      <td>(Br0, Bf0)</td>\n",
       "      <td>0</td>\n",
       "      <td>0</td>\n",
       "      <td>625</td>\n",
       "      <td>1</td>\n",
       "      <td>5</td>\n",
       "      <td>2</td>\n",
       "      <td>1</td>\n",
       "    </tr>\n",
       "    <tr>\n",
       "      <th>8</th>\n",
       "      <td>(Bf0, Ai1)</td>\n",
       "      <td>0</td>\n",
       "      <td>1</td>\n",
       "      <td>625</td>\n",
       "      <td>1</td>\n",
       "      <td>5</td>\n",
       "      <td>3</td>\n",
       "      <td>1</td>\n",
       "    </tr>\n",
       "    <tr>\n",
       "      <th>9</th>\n",
       "      <td>(Ai1, Br0)</td>\n",
       "      <td>0</td>\n",
       "      <td>0</td>\n",
       "      <td>1010</td>\n",
       "      <td>1</td>\n",
       "      <td>5</td>\n",
       "      <td>3</td>\n",
       "      <td>1</td>\n",
       "    </tr>\n",
       "  </tbody>\n",
       "</table>\n",
       "</div>"
      ],
      "text/plain": [
       "   Transition  Team_A  Team_B  Time  Period  Team_A_Final  Team_B_Final  \\\n",
       "0  (Bi0, Ai2)       0       2  1193       1             0             2   \n",
       "1  (Ai2, Bi0)       0       0  1172       1             0             2   \n",
       "2  (Bi0, Ar0)       0       0   541       1             0             2   \n",
       "3  (Ar0, Bi3)       3       0  1157       1             3             2   \n",
       "4  (Bi3, Ar0)       0       0   223       1             3             2   \n",
       "5  (Ar0, Bi2)       2       0   219       1             5             2   \n",
       "6  (Bi2, Br0)       0       0   410       1             5             2   \n",
       "7  (Br0, Bf0)       0       0   625       1             5             2   \n",
       "8  (Bf0, Ai1)       0       1   625       1             5             3   \n",
       "9  (Ai1, Br0)       0       0  1010       1             5             3   \n",
       "\n",
       "   Game Number  \n",
       "0            1  \n",
       "1            1  \n",
       "2            1  \n",
       "3            1  \n",
       "4            1  \n",
       "5            1  \n",
       "6            1  \n",
       "7            1  \n",
       "8            1  \n",
       "9            1  "
      ]
     },
     "execution_count": 79,
     "metadata": {},
     "output_type": "execute_result"
    }
   ],
   "source": [
    "abc[0].head(10)"
   ]
  },
  {
   "cell_type": "code",
   "execution_count": null,
   "metadata": {},
   "outputs": [],
   "source": []
  },
  {
   "cell_type": "code",
   "execution_count": null,
   "metadata": {},
   "outputs": [],
   "source": []
  },
  {
   "cell_type": "code",
   "execution_count": 98,
   "metadata": {},
   "outputs": [],
   "source": [
    "margins = []\n",
    "for aaa in abc[1]:\n",
    "    margins.append(aaa[0]-aaa[1])"
   ]
  },
  {
   "cell_type": "code",
   "execution_count": 39,
   "metadata": {},
   "outputs": [
    {
     "data": {
      "image/png": "[encoded data removed]",
      "text/plain": [
       "<Figure size 432x288 with 1 Axes>"
      ]
     },
     "metadata": {
      "needs_background": "light"
     },
     "output_type": "display_data"
    }
   ],
   "source": [
    "plt.hist(margins, bins=np.linspace(-25,55,17));"
   ]
  },
  {
   "cell_type": "code",
   "execution_count": 40,
   "metadata": {},
   "outputs": [
    {
     "data": {
      "text/plain": [
       "11.434"
      ]
     },
     "execution_count": 40,
     "metadata": {},
     "output_type": "execute_result"
    }
   ],
   "source": [
    "np.mean(margins)"
   ]
  },
  {
   "cell_type": "code",
   "execution_count": 41,
   "metadata": {},
   "outputs": [
    {
     "data": {
      "text/plain": [
       "11.0"
      ]
     },
     "execution_count": 41,
     "metadata": {},
     "output_type": "execute_result"
    }
   ],
   "source": [
    "np.median(margins)"
   ]
  },
  {
   "cell_type": "code",
   "execution_count": 20,
   "metadata": {},
   "outputs": [
    {
     "data": {
      "text/plain": [
       "0.656"
      ]
     },
     "execution_count": 20,
     "metadata": {},
     "output_type": "execute_result"
    }
   ],
   "source": [
    "np.mean([x[0]>x[1] for x in abc[1]])"
   ]
  },
  {
   "cell_type": "code",
   "execution_count": null,
   "metadata": {},
   "outputs": [],
   "source": []
  },
  {
   "cell_type": "code",
   "execution_count": null,
   "metadata": {},
   "outputs": [],
   "source": []
  },
  {
   "cell_type": "code",
   "execution_count": null,
   "metadata": {},
   "outputs": [],
   "source": []
  },
  {
   "cell_type": "code",
   "execution_count": null,
   "metadata": {},
   "outputs": [],
   "source": []
  }
 ],
 "metadata": {
  "kernelspec": {
   "display_name": "base",
   "language": "python",
   "name": "python3"
  },
  "language_info": {
   "codemirror_mode": {
    "name": "ipython",
    "version": 3
   },
   "file_extension": ".py",
   "mimetype": "text/x-python",
   "name": "python",
   "nbconvert_exporter": "python",
   "pygments_lexer": "ipython3",
   "version": "3.9.7"
  }
 },
 "nbformat": 4,
 "nbformat_minor": 2
}
