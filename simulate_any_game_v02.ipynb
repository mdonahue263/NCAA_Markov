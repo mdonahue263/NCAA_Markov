{
 "cells": [
  {
   "cell_type": "code",
   "execution_count": 1,
   "metadata": {},
   "outputs": [
    {
     "name": "stderr",
     "output_type": "stream",
     "text": [
      "C:\\Users\\mdona\\AppData\\Roaming\\Python\\Python39\\site-packages\\pandas\\core\\computation\\expressions.py:21: UserWarning: Pandas requires version '2.8.4' or newer of 'numexpr' (version '2.8.3' currently installed).\n",
      "  from pandas.core.computation.check import NUMEXPR_INSTALLED\n",
      "C:\\Users\\mdona\\AppData\\Roaming\\Python\\Python39\\site-packages\\pandas\\core\\arrays\\masked.py:60: UserWarning: Pandas requires version '1.3.6' or newer of 'bottleneck' (version '1.3.5' currently installed).\n",
      "  from pandas.core import (\n"
     ]
    }
   ],
   "source": [
    "import pandas as pd\n",
    "import numpy as np\n",
    "from helper_functions.clean_transitions import clean_transition_column\n",
    "from helper_functions.simulate_game import simulate_game\n",
    "from helper_functions.combine_matrices import combine_team_matrix\n",
    "import time\n",
    "from matplotlib import pyplot as plt\n",
    "#troubleshooting simulate game"
   ]
  },
  {
   "cell_type": "code",
   "execution_count": 2,
   "metadata": {},
   "outputs": [],
   "source": [
    "def clean_result(sim_game, over_under, a_margin):\n",
    "    \"\"\"\n",
    "    Takes simulated game and produces relevant lines\n",
    "    \"\"\"\n",
    "    totals = []\n",
    "    for item in sim_game[1]:\n",
    "        totals.append(item[0]+item[1])\n",
    "\n",
    "    t_array = np.array(totals)-10\n",
    "    under_prob= np.mean(t_array<over_under)\n",
    "    over_prob= np.mean(t_array>over_under)\n",
    "\n",
    "    if (under_prob<.6)and(over_prob)<.6:\n",
    "        print('Over-Under Wash')\n",
    "        print()\n",
    "\n",
    "    else:\n",
    "        print('Over {} probabilty: {}%'.format(over_under, np.round(100*over_prob, 1)))\n",
    "        print('Under {} probabilty: {}%'.format(over_under, np.round(100*under_prob, 1)))\n",
    "        print()\n",
    "\n",
    "    margins = []\n",
    "    for aaa in sim_game[1]:\n",
    "        margins.append(aaa[0]-aaa[1])\n",
    "\n",
    "    margins_b = []\n",
    "    for aaa in sim_game[1]:\n",
    "        margins_b.append(aaa[1]-aaa[0])\n",
    "\n",
    "    a_cover = np.mean(np.array(margins)>a_margin)\n",
    "    b_cover = np.mean(np.array(margins_b) > -a_margin)\n",
    "\n",
    "    if (a_cover<.6)and(b_cover<.6):\n",
    "        print('Spread Wash')\n",
    "        print()\n",
    "\n",
    "    else:\n",
    "        print('Team A cover {} probability: {}%'.format(-a_margin, np.round(100*a_cover, 1)))\n",
    "        print('Team B cover {} probability: {}%'.format(a_margin, np.round(100*b_cover, 1)))\n",
    "        print()\n",
    "\n",
    "    a_win = np.mean([x[0]>x[1] for x in sim_game[1]])\n",
    "\n",
    "    print('Team A win probability: {}%'.format(np.round(100*a_win, 1)))\n",
    "    print('Team B win probability: {}%'.format(np.round(100*(1-a_win), 1)))\n",
    "\n",
    "    \n",
    "    "
   ]
  },
  {
   "cell_type": "code",
   "execution_count": 3,
   "metadata": {},
   "outputs": [],
   "source": [
    "#if one team does not have data for a certain starting state, we will get a row of nan's which will break the code.\n",
    "#if this occurs, we can just substitute the average probability for this row?\n",
    "avg_matrix = pd.read_excel('avg_transition_matrix_with_manual_edits.xlsx', sheet_name = 'Mean Pasted', index_col='Starting_State')"
   ]
  },
  {
   "cell_type": "code",
   "execution_count": null,
   "metadata": {},
   "outputs": [],
   "source": [
    "team_A = pd.read_excel(\"team_specific_matrix/Colorado St._A.xlsx\", index_col = 'Starting_State')\n",
    "team_B = pd.read_excel(\"team_specific_matrix/Tennessee_B.xlsx\", index_col = 'Starting_State')"
   ]
  },
  {
   "cell_type": "code",
   "execution_count": 23,
   "metadata": {},
   "outputs": [],
   "source": [
    "team_A = pd.read_excel(\"team_specific_matrix/Colorado St._A.xlsx\", index_col = 'Starting_State')\n",
    "team_B = pd.read_excel(\"team_specific_matrix/Tennessee_B.xlsx\", index_col = 'Starting_State')"
   ]
  },
  {
   "cell_type": "code",
   "execution_count": 28,
   "metadata": {},
   "outputs": [],
   "source": [
    "team_A = pd.read_excel(\"team_specific_matrix/Creighton_A.xlsx\", index_col = 'Starting_State')\n",
    "team_B = pd.read_excel(\"team_specific_matrix/Colorado St._B.xlsx\", index_col = 'Starting_State')"
   ]
  },
  {
   "cell_type": "code",
   "execution_count": 29,
   "metadata": {},
   "outputs": [],
   "source": [
    "transition_matrix = combine_team_matrix(team_A, team_B)"
   ]
  },
  {
   "cell_type": "code",
   "execution_count": 30,
   "metadata": {},
   "outputs": [],
   "source": [
    "abc = simulate_game(transition_matrix, num_games=100)"
   ]
  },
  {
   "cell_type": "code",
   "execution_count": 31,
   "metadata": {},
   "outputs": [],
   "source": [
    "OU = 144.5\n",
    "team_A_margin = 26.5"
   ]
  },
  {
   "cell_type": "code",
   "execution_count": 32,
   "metadata": {},
   "outputs": [
    {
     "name": "stdout",
     "output_type": "stream",
     "text": [
      "Over 144.5 probabilty: 81.0%\n",
      "Under 144.5 probabilty: 19.0%\n",
      "\n",
      "Team A cover -26.5 probability: 7.0%\n",
      "Team B cover 26.5 probability: 93.0%\n",
      "\n",
      "Team A win probability: 61.0%\n",
      "Team B win probability: 39.0%\n"
     ]
    }
   ],
   "source": [
    "clean_result(abc, OU, team_A_margin)"
   ]
  },
  {
   "cell_type": "code",
   "execution_count": null,
   "metadata": {},
   "outputs": [],
   "source": []
  },
  {
   "cell_type": "code",
   "execution_count": null,
   "metadata": {},
   "outputs": [],
   "source": []
  },
  {
   "cell_type": "code",
   "execution_count": 9,
   "metadata": {},
   "outputs": [],
   "source": [
    "margins = []\n",
    "for aaa in abc[1]:\n",
    "    margins.append(aaa[0]-aaa[1])"
   ]
  },
  {
   "cell_type": "code",
   "execution_count": 10,
   "metadata": {},
   "outputs": [
    {
     "data": {
      "image/png": "[encoded data removed]",
      "text/plain": [
       "<Figure size 432x288 with 1 Axes>"
      ]
     },
     "metadata": {
      "needs_background": "light"
     },
     "output_type": "display_data"
    }
   ],
   "source": [
    "plt.hist(margins, bins=np.linspace(-25,55,17));"
   ]
  },
  {
   "cell_type": "code",
   "execution_count": 40,
   "metadata": {},
   "outputs": [
    {
     "data": {
      "text/plain": [
       "11.434"
      ]
     },
     "execution_count": 40,
     "metadata": {},
     "output_type": "execute_result"
    }
   ],
   "source": [
    "np.mean(margins)"
   ]
  },
  {
   "cell_type": "code",
   "execution_count": 41,
   "metadata": {},
   "outputs": [
    {
     "data": {
      "text/plain": [
       "11.0"
      ]
     },
     "execution_count": 41,
     "metadata": {},
     "output_type": "execute_result"
    }
   ],
   "source": [
    "np.median(margins)"
   ]
  },
  {
   "cell_type": "code",
   "execution_count": 20,
   "metadata": {},
   "outputs": [
    {
     "data": {
      "text/plain": [
       "0.656"
      ]
     },
     "execution_count": 20,
     "metadata": {},
     "output_type": "execute_result"
    }
   ],
   "source": [
    "np.mean([x[0]>x[1] for x in abc[1]])"
   ]
  },
  {
   "cell_type": "code",
   "execution_count": null,
   "metadata": {},
   "outputs": [],
   "source": []
  },
  {
   "cell_type": "code",
   "execution_count": null,
   "metadata": {},
   "outputs": [],
   "source": []
  },
  {
   "cell_type": "code",
   "execution_count": null,
   "metadata": {},
   "outputs": [],
   "source": []
  },
  {
   "cell_type": "code",
   "execution_count": null,
   "metadata": {},
   "outputs": [],
   "source": []
  }
 ],
 "metadata": {
  "kernelspec": {
   "display_name": "base",
   "language": "python",
   "name": "python3"
  },
  "language_info": {
   "codemirror_mode": {
    "name": "ipython",
    "version": 3
   },
   "file_extension": ".py",
   "mimetype": "text/x-python",
   "name": "python",
   "nbconvert_exporter": "python",
   "pygments_lexer": "ipython3",
   "version": "3.9.13"
  }
 },
 "nbformat": 4,
 "nbformat_minor": 2
}
