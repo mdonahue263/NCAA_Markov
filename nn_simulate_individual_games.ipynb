{
 "cells": [
  {
   "cell_type": "code",
   "execution_count": 2,
   "metadata": {},
   "outputs": [],
   "source": [
    "#v02 - run simulation with 2-10-100 games each rep"
   ]
  },
  {
   "cell_type": "code",
   "execution_count": 1,
   "metadata": {},
   "outputs": [
    {
     "name": "stderr",
     "output_type": "stream",
     "text": [
      "C:\\Users\\mdona\\AppData\\Roaming\\Python\\Python39\\site-packages\\pandas\\core\\computation\\expressions.py:21: UserWarning: Pandas requires version '2.8.4' or newer of 'numexpr' (version '2.8.3' currently installed).\n",
      "  from pandas.core.computation.check import NUMEXPR_INSTALLED\n",
      "C:\\Users\\mdona\\AppData\\Roaming\\Python\\Python39\\site-packages\\pandas\\core\\arrays\\masked.py:60: UserWarning: Pandas requires version '1.3.6' or newer of 'bottleneck' (version '1.3.5' currently installed).\n",
      "  from pandas.core import (\n",
      "c:\\Users\\mdona\\anaconda3\\lib\\site-packages\\scipy\\__init__.py:155: UserWarning: A NumPy version >=1.18.5 and <1.25.0 is required for this version of SciPy (detected version 1.26.4\n",
      "  warnings.warn(f\"A NumPy version >={np_minversion} and <{np_maxversion}\"\n"
     ]
    },
    {
     "name": "stdout",
     "output_type": "stream",
     "text": [
      "WARNING:tensorflow:From C:\\Users\\mdona\\AppData\\Roaming\\Python\\Python39\\site-packages\\keras\\src\\losses.py:2976: The name tf.losses.sparse_softmax_cross_entropy is deprecated. Please use tf.compat.v1.losses.sparse_softmax_cross_entropy instead.\n",
      "\n",
      "WARNING:tensorflow:From C:\\Users\\mdona\\AppData\\Roaming\\Python\\Python39\\site-packages\\keras\\src\\backend.py:1398: The name tf.executing_eagerly_outside_functions is deprecated. Please use tf.compat.v1.executing_eagerly_outside_functions instead.\n",
      "\n",
      "WARNING:tensorflow:From C:\\Users\\mdona\\AppData\\Roaming\\Python\\Python39\\site-packages\\keras\\src\\optimizers\\__init__.py:309: The name tf.train.Optimizer is deprecated. Please use tf.compat.v1.train.Optimizer instead.\n",
      "\n"
     ]
    },
    {
     "name": "stderr",
     "output_type": "stream",
     "text": [
      "100%|██████████| 1378/1378 [00:12<00:00, 114.30it/s]\n"
     ]
    }
   ],
   "source": [
    "from helper_functions.tourney_sim import matchup, simulate_tournament\n",
    "import os\n",
    "import numpy as np\n",
    "import pickle\n",
    "from tqdm import tqdm\n",
    "import pandas as pd"
   ]
  },
  {
   "cell_type": "code",
   "execution_count": 2,
   "metadata": {},
   "outputs": [],
   "source": [
    "all_models = []\n",
    "for x in os.listdir('models'):\n",
    "    with open('models/{}'.format(x), 'rb') as file:\n",
    "        y=pickle.load(file)\n",
    "    all_models.append(y)"
   ]
  },
  {
   "cell_type": "code",
   "execution_count": 99,
   "metadata": {},
   "outputs": [],
   "source": [
    "with open('models/{}'.format('nn_m10_319.pickle'), 'rb') as file:\n",
    "    mmm=pickle.load(file)"
   ]
  },
  {
   "cell_type": "code",
   "execution_count": 100,
   "metadata": {},
   "outputs": [
    {
     "data": {
      "text/plain": [
       "True     55\n",
       "False    45\n",
       "Name: count, dtype: int64"
      ]
     },
     "execution_count": 100,
     "metadata": {},
     "output_type": "execute_result"
    }
   ],
   "source": [
    "pd.Series([x[0] > x[1] for x in matchup(\"Florida\",\"Colorado\", strategy='nn', reps=100, model=mmm)]).value_counts()"
   ]
  },
  {
   "cell_type": "code",
   "execution_count": 101,
   "metadata": {},
   "outputs": [
    {
     "data": {
      "text/plain": [
       "False    59\n",
       "True     41\n",
       "Name: count, dtype: int64"
      ]
     },
     "execution_count": 101,
     "metadata": {},
     "output_type": "execute_result"
    }
   ],
   "source": [
    "pd.Series([x[0] > x[1] for x in matchup(\"Florida\",\"Marquette\", strategy='nn', reps=100, model=mmm)]).value_counts()"
   ]
  },
  {
   "cell_type": "code",
   "execution_count": 59,
   "metadata": {},
   "outputs": [
    {
     "data": {
      "text/plain": [
       "True     67\n",
       "False    33\n",
       "Name: count, dtype: int64"
      ]
     },
     "execution_count": 59,
     "metadata": {},
     "output_type": "execute_result"
    }
   ],
   "source": [
    "pd.Series([x[0] > x[1] for x in matchup(\"Florida\",\"Dayton\", strategy='nn', reps=100, model=mmm)]).value_counts()"
   ]
  },
  {
   "cell_type": "code",
   "execution_count": 46,
   "metadata": {},
   "outputs": [
    {
     "data": {
      "text/plain": [
       "True     61\n",
       "False    39\n",
       "Name: count, dtype: int64"
      ]
     },
     "execution_count": 46,
     "metadata": {},
     "output_type": "execute_result"
    }
   ],
   "source": [
    "pd.Series([x[0] > x[1] for x in matchup(\"Kentucky\",\"UConn\", strategy='nn', reps=100, model=mmm)]).value_counts()"
   ]
  },
  {
   "cell_type": "code",
   "execution_count": 52,
   "metadata": {},
   "outputs": [
    {
     "data": {
      "text/plain": [
       "True     62\n",
       "False    38\n",
       "Name: count, dtype: int64"
      ]
     },
     "execution_count": 52,
     "metadata": {},
     "output_type": "execute_result"
    }
   ],
   "source": [
    "pd.Series([x[0] > x[1] for x in matchup(\"Utah St.\",\"Colorado\", strategy='nn', reps=100, model=mmm)]).value_counts()"
   ]
  },
  {
   "cell_type": "code",
   "execution_count": 175,
   "metadata": {},
   "outputs": [
    {
     "data": {
      "text/plain": [
       "1"
      ]
     },
     "execution_count": 175,
     "metadata": {},
     "output_type": "execute_result"
    }
   ],
   "source": [
    "np.random.randint(1,5)"
   ]
  },
  {
   "cell_type": "code",
   "execution_count": 205,
   "metadata": {},
   "outputs": [],
   "source": [
    "te1='UConn'\n",
    "te2='Iowa St.'\n",
    "te3='Illinois'\n",
    "te4='Auburn'\n",
    "te5='San Diego St.'\n",
    "te6='BYU'\n",
    "te7='Washington St.'\n",
    "te8='Fla. Atlantic'\n",
    "te9='Northwestern'\n",
    "te10='Drake'\n",
    "te11='Duquesne'\n",
    "te12='UAB'\n",
    "te13='Yale'\n",
    "te14='Morehead St.'\n",
    "te15='South Dakota St.'\n",
    "te16='Stetson'\n",
    "\n",
    "tw1='North Carolina'\n",
    "tw2='Arizona'\n",
    "tw3='Baylor'\n",
    "tw4='Alabama'\n",
    "tw5=\"Saint Mary's (CA)\"\n",
    "tw6='Clemson'\n",
    "tw7='Dayton'\n",
    "tw8='Mississippi St.'\n",
    "tw9='Michigan St.'\n",
    "tw10='Nevada'\n",
    "tw11='New Mexico'\n",
    "tw12 = 'Grand Canyon'\n",
    "tw13='Col. of Charleston'\n",
    "tw14='Colgate'\n",
    "tw15='Long Beach St.'\n",
    "tw16='Howard'\n",
    "\n",
    "ts1='Houston'\n",
    "ts2 = 'Marquette'\n",
    "ts3='Kentucky'\n",
    "ts4='Duke'\n",
    "ts5='Wisconsin'\n",
    "ts6='Texas Tech'\n",
    "ts7='Florida'\n",
    "ts8='Nebraska'\n",
    "ts9='Texas A&M'\n",
    "ts10='Boise St.'\n",
    "ts11='NC State'\n",
    "ts12='James Madison'\n",
    "ts13='Vermont'\n",
    "ts14 = 'Oakland'\n",
    "ts15='Western Ky.'\n",
    "ts16='Longwood'\n",
    "\n",
    "tm1='Purdue'\n",
    "tm2='Tennessee'\n",
    "tm3='Creighton'\n",
    "tm4='Kansas'\n",
    "tm5='Gonzaga'\n",
    "tm6='South Carolina'\n",
    "tm7='Texas'\n",
    "tm8='Utah St.'\n",
    "tm9='TCU'\n",
    "tm10='Virginia'\n",
    "tm11='Oregon'\n",
    "tm12='McNeese'\n",
    "tm13='Samford'\n",
    "tm14='Akron'\n",
    "tm15=\"Saint Peter's\"\n",
    "tm16='Grambling'"
   ]
  },
  {
   "cell_type": "code",
   "execution_count": 206,
   "metadata": {},
   "outputs": [],
   "source": [
    "eastern_bracket = [(te1,te16),\n",
    "                    (te8,te9),\n",
    "                    (te5,te12),\n",
    "                    (te4,te13),\n",
    "                    (te6,te11),\n",
    "                    (te3,te14),\n",
    "                    (te7,te10),\n",
    "                    (te2,te15)]\n",
    "\n",
    "western_bracket = [(tw1,tw16),\n",
    "                    (tw8,tw9),\n",
    "                    (tw5,tw12),\n",
    "                    (tw4,tw13),\n",
    "                    (tw6,tw11),\n",
    "                    (tw3,tw14),\n",
    "                    (tw7,tw10),\n",
    "                    (tw2,tw15)]\n",
    "\n",
    "southern_bracket = [(ts1,ts16),\n",
    "                    (ts8,ts9),\n",
    "                    (ts5,ts12),\n",
    "                    (ts4,ts13),\n",
    "                    (ts6,ts11),\n",
    "                    (ts3,ts14),\n",
    "                    (ts7,ts10),\n",
    "                    (ts2,ts15)]\n",
    "\n",
    "midwestern_bracket = [(tm1,tm16),\n",
    "                    (tm8,tm9),\n",
    "                    (tm5,tm12),\n",
    "                    (tm4,tm13),\n",
    "                    (tm6,tm11),\n",
    "                    (tm3,tm14),\n",
    "                    (tm7,tm10),\n",
    "                    (tm2,tm15)]\n",
    "\n",
    "first_round = [eastern_bracket, western_bracket, southern_bracket, midwestern_bracket]\n",
    "\n",
    "#RUN FIRST ROUND\n",
    "#try with 10 simulations\n",
    "east_round_2 = []\n",
    "west_round_2 = []\n",
    "south_round_2 = []\n",
    "midwest_round_2 = []\n",
    "second_round = [east_round_2,west_round_2,south_round_2,midwest_round_2]"
   ]
  },
  {
   "cell_type": "code",
   "execution_count": null,
   "metadata": {},
   "outputs": [],
   "source": []
  },
  {
   "cell_type": "code",
   "execution_count": null,
   "metadata": {},
   "outputs": [],
   "source": []
  },
  {
   "cell_type": "code",
   "execution_count": 232,
   "metadata": {},
   "outputs": [
    {
     "name": "stdout",
     "output_type": "stream",
     "text": [
      "True     556137\n",
      "False    443863\n",
      "Name: count, dtype: int64\n",
      "\n"
     ]
    }
   ],
   "source": [
    "home_scores = pd.DataFrame()\n",
    "away_scores = pd.DataFrame()\n",
    "for m in np.random.choice(all_models, np.random.randint(1,6)):\n",
    "    data=matchup('Virginia','Colorado St.', strategy='nn', reps=1000000, model=m)\n",
    "    hs = [x[0] for x in data]\n",
    "    aw = [x[1] for x in data]\n",
    "    home_scores[all_models.index(m)] = hs\n",
    "    away_scores[all_models.index(m)] = aw\n",
    "home_scores_mean = home_scores.mean(axis=1)\n",
    "away_scores_mean = away_scores.mean(axis=1)\n",
    "final_data = pd.DataFrame(zip(home_scores_mean, away_scores_mean))\n",
    "print((final_data[0]>final_data[1]).value_counts())\n",
    "print()"
   ]
  },
  {
   "cell_type": "code",
   "execution_count": 199,
   "metadata": {},
   "outputs": [
    {
     "data": {
      "text/html": [
       "<div>\n",
       "<style scoped>\n",
       "    .dataframe tbody tr th:only-of-type {\n",
       "        vertical-align: middle;\n",
       "    }\n",
       "\n",
       "    .dataframe tbody tr th {\n",
       "        vertical-align: top;\n",
       "    }\n",
       "\n",
       "    .dataframe thead th {\n",
       "        text-align: right;\n",
       "    }\n",
       "</style>\n",
       "<table border=\"1\" class=\"dataframe\">\n",
       "  <thead>\n",
       "    <tr style=\"text-align: right;\">\n",
       "      <th></th>\n",
       "      <th>0</th>\n",
       "      <th>1</th>\n",
       "    </tr>\n",
       "  </thead>\n",
       "  <tbody>\n",
       "    <tr>\n",
       "      <th>0</th>\n",
       "      <td>78.818182</td>\n",
       "      <td>70.727273</td>\n",
       "    </tr>\n",
       "  </tbody>\n",
       "</table>\n",
       "</div>"
      ],
      "text/plain": [
       "           0          1\n",
       "0  78.818182  70.727273"
      ]
     },
     "execution_count": 199,
     "metadata": {},
     "output_type": "execute_result"
    }
   ],
   "source": [
    "final_data"
   ]
  },
  {
   "cell_type": "code",
   "execution_count": 190,
   "metadata": {},
   "outputs": [
    {
     "data": {
      "text/plain": [
       "True     85\n",
       "False    15\n",
       "Name: count, dtype: int64"
      ]
     },
     "execution_count": 190,
     "metadata": {},
     "output_type": "execute_result"
    }
   ],
   "source": [
    "(final_data[0]>final_data[1]).value_counts()"
   ]
  },
  {
   "cell_type": "code",
   "execution_count": 65,
   "metadata": {},
   "outputs": [],
   "source": [
    "all_results_repeat = []"
   ]
  },
  {
   "cell_type": "code",
   "execution_count": 19,
   "metadata": {},
   "outputs": [],
   "source": [
    "all_results_dict = dict()\n",
    "unique_values=0\n"
   ]
  },
  {
   "cell_type": "code",
   "execution_count": 20,
   "metadata": {},
   "outputs": [],
   "source": [
    "%%capture\n",
    "for i in tqdm(range(1000)):\n",
    "    current_result = simulate_tournament(strategy='nn', reps=10, auto=True, model=np.random.choice(all_models))\n",
    "    if current_result in all_results_dict.values():\n",
    "        all_results_repeat.append(list(all_results_dict.values()).index(current_result) + 1)\n",
    "    else:\n",
    "        unique_values+=1\n",
    "        all_results_dict[unique_values]=current_result\n",
    "        all_results_repeat.append(unique_values)"
   ]
  },
  {
   "cell_type": "code",
   "execution_count": 7,
   "metadata": {},
   "outputs": [
    {
     "data": {
      "text/plain": [
       "6"
      ]
     },
     "execution_count": 7,
     "metadata": {},
     "output_type": "execute_result"
    }
   ],
   "source": [
    "unique_values"
   ]
  },
  {
   "cell_type": "code",
   "execution_count": 8,
   "metadata": {},
   "outputs": [
    {
     "data": {
      "text/plain": [
       "6"
      ]
     },
     "execution_count": 8,
     "metadata": {},
     "output_type": "execute_result"
    }
   ],
   "source": [
    "len(all_results_repeat)"
   ]
  },
  {
   "cell_type": "code",
   "execution_count": 14,
   "metadata": {},
   "outputs": [],
   "source": [
    "egg = []"
   ]
  },
  {
   "cell_type": "code",
   "execution_count": 15,
   "metadata": {},
   "outputs": [],
   "source": [
    "for v in all_results_dict.values():\n",
    "    egg.append(v[-1])"
   ]
  },
  {
   "cell_type": "code",
   "execution_count": 16,
   "metadata": {},
   "outputs": [
    {
     "data": {
      "text/plain": [
       "UConn             2\n",
       "North Carolina    1\n",
       "Creighton         1\n",
       "Gonzaga           1\n",
       "Clemson           1\n",
       "Name: count, dtype: int64"
      ]
     },
     "execution_count": 16,
     "metadata": {},
     "output_type": "execute_result"
    }
   ],
   "source": [
    "pd.Series(egg).value_counts()"
   ]
  },
  {
   "cell_type": "code",
   "execution_count": 47,
   "metadata": {},
   "outputs": [
    {
     "data": {
      "text/plain": [
       "0.8734177215189873"
      ]
     },
     "execution_count": 47,
     "metadata": {},
     "output_type": "execute_result"
    }
   ],
   "source": [
    "276/(276+40)"
   ]
  }
 ],
 "metadata": {
  "kernelspec": {
   "display_name": "base",
   "language": "python",
   "name": "python3"
  },
  "language_info": {
   "codemirror_mode": {
    "name": "ipython",
    "version": 3
   },
   "file_extension": ".py",
   "mimetype": "text/x-python",
   "name": "python",
   "nbconvert_exporter": "python",
   "pygments_lexer": "ipython3",
   "version": "3.9.13"
  }
 },
 "nbformat": 4,
 "nbformat_minor": 2
}
