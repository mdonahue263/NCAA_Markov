{
 "cells": [
  {
   "cell_type": "code",
   "execution_count": 1,
   "metadata": {},
   "outputs": [],
   "source": [
    "import pandas as pd\n",
    "import numpy as np\n",
    "from helper_functions.clean_transitions import clean_transition_column\n",
    "from helper_functions.simulate_game import simulate_game\n",
    "from helper_functions.combine_matrices import combine_team_matrix\n",
    "import time"
   ]
  },
  {
   "cell_type": "code",
   "execution_count": 2,
   "metadata": {},
   "outputs": [],
   "source": [
    "team_A = pd.read_excel('team_specific_matrix/Washington St._A.xlsx', index_col = 'Starting_State')\n",
    "team_B = pd.read_excel('team_specific_matrix/Arizona St._B.xlsx', index_col = 'Starting_State')"
   ]
  },
  {
   "cell_type": "code",
   "execution_count": 3,
   "metadata": {},
   "outputs": [],
   "source": [
    "transition_matrix = combine_team_matrix(team_A, team_B)"
   ]
  },
  {
   "cell_type": "code",
   "execution_count": 31,
   "metadata": {},
   "outputs": [
    {
     "name": "stderr",
     "output_type": "stream",
     "text": [
      "  0%|          | 0/10 [00:00<?, ?it/s]"
     ]
    },
    {
     "name": "stdout",
     "output_type": "stream",
     "text": [
      "Game number 1\n",
      "First Half Result: \n",
      "   Team_A_Final Team_B_Final\n",
      "18           35           38\n"
     ]
    },
    {
     "name": "stderr",
     "output_type": "stream",
     "text": [
      " 10%|█         | 1/10 [00:06<00:58,  6.45s/it]"
     ]
    },
    {
     "name": "stdout",
     "output_type": "stream",
     "text": [
      "Game number 1\n",
      "Final score: 85 - 78\n",
      "Game number 2\n",
      "First Half Result: \n",
      "   Team_A_Final Team_B_Final\n",
      "29           33           42\n"
     ]
    },
    {
     "name": "stderr",
     "output_type": "stream",
     "text": [
      " 20%|██        | 2/10 [00:14<00:58,  7.32s/it]"
     ]
    },
    {
     "name": "stdout",
     "output_type": "stream",
     "text": [
      "Game number 2\n",
      "Final score: 76 - 79\n",
      "Game number 3\n",
      "First Half Result: \n",
      "   Team_A_Final Team_B_Final\n",
      "17           41           37\n"
     ]
    },
    {
     "name": "stderr",
     "output_type": "stream",
     "text": [
      " 30%|███       | 3/10 [00:21<00:49,  7.12s/it]"
     ]
    },
    {
     "name": "stdout",
     "output_type": "stream",
     "text": [
      "Game number 3\n",
      "Final score: 73 - 74\n",
      "Game number 4\n",
      "First Half Result: \n",
      "   Team_A_Final Team_B_Final\n",
      "32           39           38\n"
     ]
    },
    {
     "name": "stderr",
     "output_type": "stream",
     "text": [
      " 40%|████      | 4/10 [00:28<00:42,  7.07s/it]"
     ]
    },
    {
     "name": "stdout",
     "output_type": "stream",
     "text": [
      "Game number 4\n",
      "Final score: 71 - 74\n",
      "Game number 5\n",
      "First Half Result: \n",
      "   Team_A_Final Team_B_Final\n",
      "36           38           49\n"
     ]
    },
    {
     "name": "stderr",
     "output_type": "stream",
     "text": [
      " 50%|█████     | 5/10 [00:35<00:35,  7.12s/it]"
     ]
    },
    {
     "name": "stdout",
     "output_type": "stream",
     "text": [
      "Game number 5\n",
      "Final score: 72 - 86\n",
      "Game number 6\n",
      "First Half Result: \n",
      "  Team_A_Final Team_B_Final\n",
      "4           28           32\n"
     ]
    },
    {
     "name": "stderr",
     "output_type": "stream",
     "text": [
      " 60%|██████    | 6/10 [00:41<00:27,  6.84s/it]"
     ]
    },
    {
     "name": "stdout",
     "output_type": "stream",
     "text": [
      "Game number 6\n",
      "Final score: 75 - 66\n",
      "Game number 7\n",
      "First Half Result: \n",
      "   Team_A_Final Team_B_Final\n",
      "11           37           31\n"
     ]
    },
    {
     "name": "stderr",
     "output_type": "stream",
     "text": [
      " 70%|███████   | 7/10 [00:48<00:20,  6.71s/it]"
     ]
    },
    {
     "name": "stdout",
     "output_type": "stream",
     "text": [
      "Game number 7\n",
      "Final score: 84 - 61\n",
      "Game number 8\n",
      "First Half Result: \n",
      "   Team_A_Final Team_B_Final\n",
      "32           41           31\n",
      "Game number 8\n",
      "Tied at 70 - 70 after regulation\n",
      "Game number 8\n",
      "Tied at 91 - 91 after overtime 1\n"
     ]
    },
    {
     "name": "stderr",
     "output_type": "stream",
     "text": [
      " 80%|████████  | 8/10 [00:58<00:15,  7.78s/it]"
     ]
    },
    {
     "name": "stdout",
     "output_type": "stream",
     "text": [
      "Game number 8\n",
      "Final score: 107 - 103\n",
      "Game number 9\n",
      "First Half Result: \n",
      "   Team_A_Final Team_B_Final\n",
      "27           33           45\n"
     ]
    },
    {
     "name": "stderr",
     "output_type": "stream",
     "text": [
      " 90%|█████████ | 9/10 [01:04<00:07,  7.38s/it]"
     ]
    },
    {
     "name": "stdout",
     "output_type": "stream",
     "text": [
      "Game number 9\n",
      "Final score: 63 - 72\n",
      "Game number 10\n",
      "First Half Result: \n",
      "   Team_A_Final Team_B_Final\n",
      "11           42           46\n"
     ]
    },
    {
     "name": "stderr",
     "output_type": "stream",
     "text": [
      "100%|██████████| 10/10 [01:11<00:00,  7.13s/it]"
     ]
    },
    {
     "name": "stdout",
     "output_type": "stream",
     "text": [
      "Game number 10\n",
      "Final score: 84 - 85\n"
     ]
    },
    {
     "name": "stderr",
     "output_type": "stream",
     "text": [
      "\n"
     ]
    }
   ],
   "source": [
    "abc = simulate_game(transition_matrix, num_games=10, verbose=True)"
   ]
  },
  {
   "cell_type": "code",
   "execution_count": 6,
   "metadata": {},
   "outputs": [
    {
     "data": {
      "text/plain": [
       "[(71, 75),\n",
       " (81, 76),\n",
       " (65, 72),\n",
       " (80, 69),\n",
       " (70, 82),\n",
       " (108, 106),\n",
       " (71, 80),\n",
       " (91, 58),\n",
       " (89, 78),\n",
       " (77, 89),\n",
       " (84, 71),\n",
       " (77, 85),\n",
       " (77, 65),\n",
       " (84, 75),\n",
       " (72, 86),\n",
       " (77, 84),\n",
       " (88, 70),\n",
       " (85, 69),\n",
       " (86, 72),\n",
       " (86, 78),\n",
       " (62, 71),\n",
       " (88, 87),\n",
       " (89, 65),\n",
       " (73, 70),\n",
       " (82, 72),\n",
       " (92, 69),\n",
       " (97, 43),\n",
       " (76, 86),\n",
       " (79, 82),\n",
       " (86, 76),\n",
       " (77, 72),\n",
       " (79, 89),\n",
       " (81, 82),\n",
       " (95, 69),\n",
       " (79, 93),\n",
       " (77, 79),\n",
       " (78, 85),\n",
       " (69, 84),\n",
       " (71, 75),\n",
       " (80, 78),\n",
       " (59, 67),\n",
       " (83, 78),\n",
       " (74, 66),\n",
       " (94, 58),\n",
       " (80, 81),\n",
       " (85, 80),\n",
       " (68, 76),\n",
       " (78, 87),\n",
       " (74, 83),\n",
       " (81, 75),\n",
       " (74, 58),\n",
       " (90, 91),\n",
       " (78, 88),\n",
       " (81, 78),\n",
       " (67, 84),\n",
       " (80, 79),\n",
       " (76, 93),\n",
       " (69, 71),\n",
       " (71, 75),\n",
       " (92, 70),\n",
       " (70, 78),\n",
       " (83, 88),\n",
       " (70, 68),\n",
       " (91, 77),\n",
       " (87, 82),\n",
       " (101, 78),\n",
       " (97, 74),\n",
       " (98, 62),\n",
       " (76, 81),\n",
       " (67, 86),\n",
       " (73, 96),\n",
       " (68, 78),\n",
       " (80, 84),\n",
       " (82, 79),\n",
       " (102, 61),\n",
       " (65, 62),\n",
       " (92, 72),\n",
       " (65, 74),\n",
       " (75, 66),\n",
       " (94, 102),\n",
       " (87, 75),\n",
       " (59, 83),\n",
       " (76, 68),\n",
       " (69, 88),\n",
       " (96, 59),\n",
       " (89, 90),\n",
       " (76, 95),\n",
       " (85, 62),\n",
       " (71, 77),\n",
       " (88, 57),\n",
       " (87, 75),\n",
       " (63, 74),\n",
       " (74, 68),\n",
       " (66, 79),\n",
       " (79, 70),\n",
       " (69, 62),\n",
       " (78, 90),\n",
       " (66, 86),\n",
       " (88, 79),\n",
       " (86, 80)]"
      ]
     },
     "execution_count": 6,
     "metadata": {},
     "output_type": "execute_result"
    }
   ],
   "source": [
    "abc[1]"
   ]
  },
  {
   "cell_type": "code",
   "execution_count": 8,
   "metadata": {},
   "outputs": [],
   "source": [
    "margins = []\n",
    "for aaa in abc[1]:\n",
    "    margins.append(aaa[0]-aaa[1])"
   ]
  },
  {
   "cell_type": "code",
   "execution_count": 9,
   "metadata": {},
   "outputs": [],
   "source": [
    "from matplotlib import pyplot as plt"
   ]
  },
  {
   "cell_type": "code",
   "execution_count": 11,
   "metadata": {},
   "outputs": [
    {
     "data": {
      "text/plain": [
       "(array([ 2.,  6.,  8., 18., 13.,  9., 16., 10.,  3.,  7.,  1.,  2.,  3.,\n",
       "         1.,  0.,  1.]),\n",
       " array([-25., -20., -15., -10.,  -5.,   0.,   5.,  10.,  15.,  20.,  25.,\n",
       "         30.,  35.,  40.,  45.,  50.,  55.]),\n",
       " <BarContainer object of 16 artists>)"
      ]
     },
     "execution_count": 11,
     "metadata": {},
     "output_type": "execute_result"
    },
    {
     "data": {
      "image/png": "[encoded data removed]",
      "text/plain": [
       "<Figure size 640x480 with 1 Axes>"
      ]
     },
     "metadata": {},
     "output_type": "display_data"
    }
   ],
   "source": [
    "plt.hist(margins, bins=np.linspace(-25,55,17))"
   ]
  },
  {
   "cell_type": "code",
   "execution_count": 14,
   "metadata": {},
   "outputs": [
    {
     "data": {
      "text/html": [
       "<div>\n",
       "<style scoped>\n",
       "    .dataframe tbody tr th:only-of-type {\n",
       "        vertical-align: middle;\n",
       "    }\n",
       "\n",
       "    .dataframe tbody tr th {\n",
       "        vertical-align: top;\n",
       "    }\n",
       "\n",
       "    .dataframe thead th {\n",
       "        text-align: right;\n",
       "    }\n",
       "</style>\n",
       "<table border=\"1\" class=\"dataframe\">\n",
       "  <thead>\n",
       "    <tr style=\"text-align: right;\">\n",
       "      <th></th>\n",
       "      <th>Transition</th>\n",
       "      <th>Team_A</th>\n",
       "      <th>Team_B</th>\n",
       "      <th>Time</th>\n",
       "      <th>Period</th>\n",
       "      <th>Team_A_Final</th>\n",
       "      <th>Team_B_Final</th>\n",
       "      <th>Game Number</th>\n",
       "    </tr>\n",
       "  </thead>\n",
       "  <tbody>\n",
       "    <tr>\n",
       "      <th>0</th>\n",
       "      <td>(Bi0, Br0)</td>\n",
       "      <td>0</td>\n",
       "      <td>0</td>\n",
       "      <td>1200</td>\n",
       "      <td>1</td>\n",
       "      <td>0</td>\n",
       "      <td>0</td>\n",
       "      <td>100</td>\n",
       "    </tr>\n",
       "    <tr>\n",
       "      <th>1</th>\n",
       "      <td>(Br0, Ai2)</td>\n",
       "      <td>0</td>\n",
       "      <td>2</td>\n",
       "      <td>1195</td>\n",
       "      <td>1</td>\n",
       "      <td>0</td>\n",
       "      <td>2</td>\n",
       "      <td>100</td>\n",
       "    </tr>\n",
       "    <tr>\n",
       "      <th>2</th>\n",
       "      <td>(Ai2, Br0)</td>\n",
       "      <td>0</td>\n",
       "      <td>0</td>\n",
       "      <td>1177</td>\n",
       "      <td>1</td>\n",
       "      <td>0</td>\n",
       "      <td>2</td>\n",
       "      <td>100</td>\n",
       "    </tr>\n",
       "    <tr>\n",
       "      <th>3</th>\n",
       "      <td>(Br0, Bi0)</td>\n",
       "      <td>0</td>\n",
       "      <td>0</td>\n",
       "      <td>1168</td>\n",
       "      <td>1</td>\n",
       "      <td>0</td>\n",
       "      <td>2</td>\n",
       "      <td>100</td>\n",
       "    </tr>\n",
       "    <tr>\n",
       "      <th>4</th>\n",
       "      <td>(Bi0, Ar0)</td>\n",
       "      <td>0</td>\n",
       "      <td>0</td>\n",
       "      <td>1150</td>\n",
       "      <td>1</td>\n",
       "      <td>0</td>\n",
       "      <td>2</td>\n",
       "      <td>100</td>\n",
       "    </tr>\n",
       "    <tr>\n",
       "      <th>...</th>\n",
       "      <td>...</td>\n",
       "      <td>...</td>\n",
       "      <td>...</td>\n",
       "      <td>...</td>\n",
       "      <td>...</td>\n",
       "      <td>...</td>\n",
       "      <td>...</td>\n",
       "      <td>...</td>\n",
       "    </tr>\n",
       "    <tr>\n",
       "      <th>217</th>\n",
       "      <td>(Br0, Ai2)</td>\n",
       "      <td>0</td>\n",
       "      <td>2</td>\n",
       "      <td>28</td>\n",
       "      <td>2</td>\n",
       "      <td>84</td>\n",
       "      <td>80</td>\n",
       "      <td>100</td>\n",
       "    </tr>\n",
       "    <tr>\n",
       "      <th>218</th>\n",
       "      <td>(Ai2, Af0)</td>\n",
       "      <td>0</td>\n",
       "      <td>0</td>\n",
       "      <td>13</td>\n",
       "      <td>2</td>\n",
       "      <td>84</td>\n",
       "      <td>80</td>\n",
       "      <td>100</td>\n",
       "    </tr>\n",
       "    <tr>\n",
       "      <th>219</th>\n",
       "      <td>(Af0, Af1)</td>\n",
       "      <td>1</td>\n",
       "      <td>0</td>\n",
       "      <td>13</td>\n",
       "      <td>2</td>\n",
       "      <td>85</td>\n",
       "      <td>80</td>\n",
       "      <td>100</td>\n",
       "    </tr>\n",
       "    <tr>\n",
       "      <th>220</th>\n",
       "      <td>(Af1, Bi1)</td>\n",
       "      <td>1</td>\n",
       "      <td>0</td>\n",
       "      <td>13</td>\n",
       "      <td>2</td>\n",
       "      <td>86</td>\n",
       "      <td>80</td>\n",
       "      <td>100</td>\n",
       "    </tr>\n",
       "    <tr>\n",
       "      <th>221</th>\n",
       "      <td>(Bi1, Ar0)</td>\n",
       "      <td>0</td>\n",
       "      <td>0</td>\n",
       "      <td>-2</td>\n",
       "      <td>2</td>\n",
       "      <td>86</td>\n",
       "      <td>80</td>\n",
       "      <td>100</td>\n",
       "    </tr>\n",
       "  </tbody>\n",
       "</table>\n",
       "<p>22972 rows × 8 columns</p>\n",
       "</div>"
      ],
      "text/plain": [
       "     Transition Team_A Team_B  Time  Period Team_A_Final Team_B_Final  \\\n",
       "0    (Bi0, Br0)      0      0  1200       1            0            0   \n",
       "1    (Br0, Ai2)      0      2  1195       1            0            2   \n",
       "2    (Ai2, Br0)      0      0  1177       1            0            2   \n",
       "3    (Br0, Bi0)      0      0  1168       1            0            2   \n",
       "4    (Bi0, Ar0)      0      0  1150       1            0            2   \n",
       "..          ...    ...    ...   ...     ...          ...          ...   \n",
       "217  (Br0, Ai2)      0      2    28       2           84           80   \n",
       "218  (Ai2, Af0)      0      0    13       2           84           80   \n",
       "219  (Af0, Af1)      1      0    13       2           85           80   \n",
       "220  (Af1, Bi1)      1      0    13       2           86           80   \n",
       "221  (Bi1, Ar0)      0      0    -2       2           86           80   \n",
       "\n",
       "     Game Number  \n",
       "0            100  \n",
       "1            100  \n",
       "2            100  \n",
       "3            100  \n",
       "4            100  \n",
       "..           ...  \n",
       "217          100  \n",
       "218          100  \n",
       "219          100  \n",
       "220          100  \n",
       "221          100  \n",
       "\n",
       "[22972 rows x 8 columns]"
      ]
     },
     "execution_count": 14,
     "metadata": {},
     "output_type": "execute_result"
    }
   ],
   "source": [
    "abc[0]"
   ]
  },
  {
   "cell_type": "code",
   "execution_count": 18,
   "metadata": {},
   "outputs": [],
   "source": [
    "cc = abc[0].copy()\n",
    "cc['marg'] = cc['Team_A_Final']-cc['Team_B_Final']"
   ]
  },
  {
   "cell_type": "code",
   "execution_count": 19,
   "metadata": {},
   "outputs": [
    {
     "data": {
      "text/html": [
       "<div>\n",
       "<style scoped>\n",
       "    .dataframe tbody tr th:only-of-type {\n",
       "        vertical-align: middle;\n",
       "    }\n",
       "\n",
       "    .dataframe tbody tr th {\n",
       "        vertical-align: top;\n",
       "    }\n",
       "\n",
       "    .dataframe thead th {\n",
       "        text-align: right;\n",
       "    }\n",
       "</style>\n",
       "<table border=\"1\" class=\"dataframe\">\n",
       "  <thead>\n",
       "    <tr style=\"text-align: right;\">\n",
       "      <th></th>\n",
       "      <th>Transition</th>\n",
       "      <th>Team_A</th>\n",
       "      <th>Team_B</th>\n",
       "      <th>Time</th>\n",
       "      <th>Period</th>\n",
       "      <th>Team_A_Final</th>\n",
       "      <th>Team_B_Final</th>\n",
       "      <th>Game Number</th>\n",
       "      <th>marg</th>\n",
       "    </tr>\n",
       "  </thead>\n",
       "  <tbody>\n",
       "    <tr>\n",
       "      <th>210</th>\n",
       "      <td>(Ar0, Bi3)</td>\n",
       "      <td>3</td>\n",
       "      <td>0</td>\n",
       "      <td>197</td>\n",
       "      <td>2</td>\n",
       "      <td>89</td>\n",
       "      <td>38</td>\n",
       "      <td>100</td>\n",
       "      <td>51</td>\n",
       "    </tr>\n",
       "    <tr>\n",
       "      <th>211</th>\n",
       "      <td>(Bi3, Ar0)</td>\n",
       "      <td>0</td>\n",
       "      <td>0</td>\n",
       "      <td>170</td>\n",
       "      <td>2</td>\n",
       "      <td>89</td>\n",
       "      <td>38</td>\n",
       "      <td>100</td>\n",
       "      <td>51</td>\n",
       "    </tr>\n",
       "    <tr>\n",
       "      <th>212</th>\n",
       "      <td>(Ar0, Bi2)</td>\n",
       "      <td>2</td>\n",
       "      <td>0</td>\n",
       "      <td>167</td>\n",
       "      <td>2</td>\n",
       "      <td>91</td>\n",
       "      <td>38</td>\n",
       "      <td>100</td>\n",
       "      <td>53</td>\n",
       "    </tr>\n",
       "    <tr>\n",
       "      <th>213</th>\n",
       "      <td>(Bi2, Ar0)</td>\n",
       "      <td>0</td>\n",
       "      <td>0</td>\n",
       "      <td>149</td>\n",
       "      <td>2</td>\n",
       "      <td>91</td>\n",
       "      <td>38</td>\n",
       "      <td>100</td>\n",
       "      <td>53</td>\n",
       "    </tr>\n",
       "    <tr>\n",
       "      <th>214</th>\n",
       "      <td>(Ar0, Br0)</td>\n",
       "      <td>0</td>\n",
       "      <td>0</td>\n",
       "      <td>140</td>\n",
       "      <td>2</td>\n",
       "      <td>91</td>\n",
       "      <td>38</td>\n",
       "      <td>100</td>\n",
       "      <td>53</td>\n",
       "    </tr>\n",
       "    <tr>\n",
       "      <th>215</th>\n",
       "      <td>(Br0, Ar0)</td>\n",
       "      <td>0</td>\n",
       "      <td>0</td>\n",
       "      <td>127</td>\n",
       "      <td>2</td>\n",
       "      <td>91</td>\n",
       "      <td>38</td>\n",
       "      <td>100</td>\n",
       "      <td>53</td>\n",
       "    </tr>\n",
       "    <tr>\n",
       "      <th>216</th>\n",
       "      <td>(Ar0, Br0)</td>\n",
       "      <td>0</td>\n",
       "      <td>0</td>\n",
       "      <td>119</td>\n",
       "      <td>2</td>\n",
       "      <td>91</td>\n",
       "      <td>38</td>\n",
       "      <td>100</td>\n",
       "      <td>53</td>\n",
       "    </tr>\n",
       "    <tr>\n",
       "      <th>217</th>\n",
       "      <td>(Br0, Ar0)</td>\n",
       "      <td>0</td>\n",
       "      <td>0</td>\n",
       "      <td>112</td>\n",
       "      <td>2</td>\n",
       "      <td>91</td>\n",
       "      <td>38</td>\n",
       "      <td>100</td>\n",
       "      <td>53</td>\n",
       "    </tr>\n",
       "    <tr>\n",
       "      <th>218</th>\n",
       "      <td>(Ar0, Br0)</td>\n",
       "      <td>0</td>\n",
       "      <td>0</td>\n",
       "      <td>103</td>\n",
       "      <td>2</td>\n",
       "      <td>91</td>\n",
       "      <td>38</td>\n",
       "      <td>100</td>\n",
       "      <td>53</td>\n",
       "    </tr>\n",
       "    <tr>\n",
       "      <th>219</th>\n",
       "      <td>(Br0, Ar0)</td>\n",
       "      <td>0</td>\n",
       "      <td>0</td>\n",
       "      <td>92</td>\n",
       "      <td>2</td>\n",
       "      <td>91</td>\n",
       "      <td>38</td>\n",
       "      <td>100</td>\n",
       "      <td>53</td>\n",
       "    </tr>\n",
       "    <tr>\n",
       "      <th>220</th>\n",
       "      <td>(Ar0, Bi2)</td>\n",
       "      <td>2</td>\n",
       "      <td>0</td>\n",
       "      <td>83</td>\n",
       "      <td>2</td>\n",
       "      <td>93</td>\n",
       "      <td>38</td>\n",
       "      <td>100</td>\n",
       "      <td>55</td>\n",
       "    </tr>\n",
       "    <tr>\n",
       "      <th>221</th>\n",
       "      <td>(Bi2, Ar0)</td>\n",
       "      <td>0</td>\n",
       "      <td>0</td>\n",
       "      <td>67</td>\n",
       "      <td>2</td>\n",
       "      <td>93</td>\n",
       "      <td>38</td>\n",
       "      <td>100</td>\n",
       "      <td>55</td>\n",
       "    </tr>\n",
       "    <tr>\n",
       "      <th>222</th>\n",
       "      <td>(Ar0, Bi2)</td>\n",
       "      <td>2</td>\n",
       "      <td>0</td>\n",
       "      <td>54</td>\n",
       "      <td>2</td>\n",
       "      <td>95</td>\n",
       "      <td>38</td>\n",
       "      <td>100</td>\n",
       "      <td>57</td>\n",
       "    </tr>\n",
       "    <tr>\n",
       "      <th>223</th>\n",
       "      <td>(Bi2, Ai2)</td>\n",
       "      <td>0</td>\n",
       "      <td>2</td>\n",
       "      <td>36</td>\n",
       "      <td>2</td>\n",
       "      <td>95</td>\n",
       "      <td>40</td>\n",
       "      <td>100</td>\n",
       "      <td>55</td>\n",
       "    </tr>\n",
       "    <tr>\n",
       "      <th>224</th>\n",
       "      <td>(Ai2, Ar0)</td>\n",
       "      <td>0</td>\n",
       "      <td>0</td>\n",
       "      <td>15</td>\n",
       "      <td>2</td>\n",
       "      <td>95</td>\n",
       "      <td>40</td>\n",
       "      <td>100</td>\n",
       "      <td>55</td>\n",
       "    </tr>\n",
       "    <tr>\n",
       "      <th>225</th>\n",
       "      <td>(Ar0, Bi2)</td>\n",
       "      <td>2</td>\n",
       "      <td>0</td>\n",
       "      <td>10</td>\n",
       "      <td>2</td>\n",
       "      <td>97</td>\n",
       "      <td>40</td>\n",
       "      <td>100</td>\n",
       "      <td>57</td>\n",
       "    </tr>\n",
       "    <tr>\n",
       "      <th>226</th>\n",
       "      <td>(Bi2, Ai3)</td>\n",
       "      <td>0</td>\n",
       "      <td>3</td>\n",
       "      <td>-8</td>\n",
       "      <td>2</td>\n",
       "      <td>97</td>\n",
       "      <td>43</td>\n",
       "      <td>100</td>\n",
       "      <td>54</td>\n",
       "    </tr>\n",
       "  </tbody>\n",
       "</table>\n",
       "</div>"
      ],
      "text/plain": [
       "     Transition Team_A Team_B Time  Period Team_A_Final Team_B_Final  \\\n",
       "210  (Ar0, Bi3)      3      0  197       2           89           38   \n",
       "211  (Bi3, Ar0)      0      0  170       2           89           38   \n",
       "212  (Ar0, Bi2)      2      0  167       2           91           38   \n",
       "213  (Bi2, Ar0)      0      0  149       2           91           38   \n",
       "214  (Ar0, Br0)      0      0  140       2           91           38   \n",
       "215  (Br0, Ar0)      0      0  127       2           91           38   \n",
       "216  (Ar0, Br0)      0      0  119       2           91           38   \n",
       "217  (Br0, Ar0)      0      0  112       2           91           38   \n",
       "218  (Ar0, Br0)      0      0  103       2           91           38   \n",
       "219  (Br0, Ar0)      0      0   92       2           91           38   \n",
       "220  (Ar0, Bi2)      2      0   83       2           93           38   \n",
       "221  (Bi2, Ar0)      0      0   67       2           93           38   \n",
       "222  (Ar0, Bi2)      2      0   54       2           95           38   \n",
       "223  (Bi2, Ai2)      0      2   36       2           95           40   \n",
       "224  (Ai2, Ar0)      0      0   15       2           95           40   \n",
       "225  (Ar0, Bi2)      2      0   10       2           97           40   \n",
       "226  (Bi2, Ai3)      0      3   -8       2           97           43   \n",
       "\n",
       "     Game Number marg  \n",
       "210          100   51  \n",
       "211          100   51  \n",
       "212          100   53  \n",
       "213          100   53  \n",
       "214          100   53  \n",
       "215          100   53  \n",
       "216          100   53  \n",
       "217          100   53  \n",
       "218          100   53  \n",
       "219          100   53  \n",
       "220          100   55  \n",
       "221          100   55  \n",
       "222          100   57  \n",
       "223          100   55  \n",
       "224          100   55  \n",
       "225          100   57  \n",
       "226          100   54  "
      ]
     },
     "execution_count": 19,
     "metadata": {},
     "output_type": "execute_result"
    }
   ],
   "source": [
    "cc[cc['marg']>50]"
   ]
  },
  {
   "cell_type": "code",
   "execution_count": 21,
   "metadata": {},
   "outputs": [],
   "source": [
    "a_scores = []\n",
    "b_scores = []\n",
    "\n",
    "for item in abc[1]:\n",
    "    a_scores.append(item[0])\n",
    "    b_scores.append(item[1])"
   ]
  },
  {
   "cell_type": "code",
   "execution_count": 22,
   "metadata": {},
   "outputs": [
    {
     "data": {
      "text/plain": [
       "79.71"
      ]
     },
     "execution_count": 22,
     "metadata": {},
     "output_type": "execute_result"
    }
   ],
   "source": [
    "np.mean(a_scores)"
   ]
  },
  {
   "cell_type": "code",
   "execution_count": 23,
   "metadata": {},
   "outputs": [
    {
     "data": {
      "text/plain": [
       "76.7"
      ]
     },
     "execution_count": 23,
     "metadata": {},
     "output_type": "execute_result"
    }
   ],
   "source": [
    "np.mean(b_scores)"
   ]
  },
  {
   "cell_type": "code",
   "execution_count": 30,
   "metadata": {},
   "outputs": [
    {
     "data": {
      "text/plain": [
       "True     53\n",
       "False    47\n",
       "dtype: int64"
      ]
     },
     "execution_count": 30,
     "metadata": {},
     "output_type": "execute_result"
    }
   ],
   "source": [
    "(pd.Series(margins)>0).value_counts(dropna=False)"
   ]
  }
 ],
 "metadata": {
  "kernelspec": {
   "display_name": "base",
   "language": "python",
   "name": "python3"
  },
  "language_info": {
   "codemirror_mode": {
    "name": "ipython",
    "version": 3
   },
   "file_extension": ".py",
   "mimetype": "text/x-python",
   "name": "python",
   "nbconvert_exporter": "python",
   "pygments_lexer": "ipython3",
   "version": "3.9.13"
  }
 },
 "nbformat": 4,
 "nbformat_minor": 2
}
