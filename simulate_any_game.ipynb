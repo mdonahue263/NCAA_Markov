{
 "cells": [
  {
   "cell_type": "code",
   "execution_count": 1,
   "metadata": {},
   "outputs": [],
   "source": [
    "import pandas as pd\n",
    "import numpy as np\n",
    "from helper_functions.clean_transitions import clean_transition_column\n",
    "from helper_functions.simulate_game import simulate_game\n",
    "from helper_functions.combine_matrices import combine_team_matrix\n",
    "import time\n",
    "from matplotlib import pyplot as plt"
   ]
  },
  {
   "cell_type": "code",
   "execution_count": 677,
   "metadata": {},
   "outputs": [],
   "source": [
    "def clean_result(sim_game, over_under, a_margin):\n",
    "    \"\"\"\n",
    "    Takes simulated game and produces relevant lines\n",
    "    \"\"\"\n",
    "    totals = []\n",
    "    for item in sim_game[1]:\n",
    "        totals.append(item[0]+item[1])\n",
    "\n",
    "    t_array = np.array(totals)-10\n",
    "    under_prob= np.mean(t_array<over_under)\n",
    "    over_prob= np.mean(t_array>over_under)\n",
    "\n",
    "    if (under_prob<.6)and(over_prob)<.6:\n",
    "        print('Over-Under Wash')\n",
    "        print()\n",
    "\n",
    "    else:\n",
    "        print('Over {} probabilty: {}%'.format(over_under, np.round(100*over_prob, 1)))\n",
    "        print('Under {} probabilty: {}%'.format(over_under, np.round(100*under_prob, 1)))\n",
    "        print()\n",
    "\n",
    "    margins = []\n",
    "    for aaa in sim_game[1]:\n",
    "        margins.append(aaa[0]-aaa[1])\n",
    "\n",
    "    margins_b = []\n",
    "    for aaa in sim_game[1]:\n",
    "        margins_b.append(aaa[1]-aaa[0])\n",
    "\n",
    "    a_cover = np.mean(np.array(margins)>a_margin)\n",
    "    b_cover = np.mean(np.array(margins_b) > -a_margin)\n",
    "\n",
    "    if (a_cover<.6)and(b_cover<.6):\n",
    "        print('Spread Wash')\n",
    "        print()\n",
    "\n",
    "    else:\n",
    "        print('Team A cover {} probability: {}%'.format(-a_margin, np.round(100*a_cover, 1)))\n",
    "        print('Team B cover {} probability: {}%'.format(a_margin, np.round(100*b_cover, 1)))\n",
    "        print()\n",
    "\n",
    "    a_win = np.mean([x[0]>x[1] for x in sim_game[1]])\n",
    "\n",
    "    print('Team A win probability: {}%'.format(np.round(100*a_win, 1)))\n",
    "    print('Team B win probability: {}%'.format(np.round(100*(1-a_win), 1)))\n",
    "    return 0\n",
    "\n",
    "    \n",
    "    "
   ]
  },
  {
   "cell_type": "code",
   "execution_count": 2,
   "metadata": {},
   "outputs": [],
   "source": [
    "#if one team does not have data for a certain starting state, we will get a row of nan's which will break the code.\n",
    "#if this occurs, we can just substitute the average probability for this row?\n",
    "avg_matrix = pd.read_excel('avg_transition_matrix_with_manual_edits.xlsx', sheet_name = 'Mean Pasted', index_col='Starting_State')"
   ]
  },
  {
   "cell_type": "code",
   "execution_count": 648,
   "metadata": {},
   "outputs": [],
   "source": [
    "team_A = pd.read_excel(\"team_specific_matrix/Morehead St._A.xlsx\", index_col = 'Starting_State')\n",
    "team_B = pd.read_excel(\"team_specific_matrix/Lindenwood_B.xlsx\", index_col = 'Starting_State')"
   ]
  },
  {
   "cell_type": "code",
   "execution_count": 649,
   "metadata": {},
   "outputs": [],
   "source": [
    "transition_matrix = combine_team_matrix(team_A, team_B)"
   ]
  },
  {
   "cell_type": "code",
   "execution_count": 650,
   "metadata": {},
   "outputs": [],
   "source": [
    "abc = simulate_game(transition_matrix, num_games=500)"
   ]
  },
  {
   "cell_type": "code",
   "execution_count": 651,
   "metadata": {},
   "outputs": [],
   "source": [
    "OU = 132.5\n",
    "team_A_margin = 21"
   ]
  },
  {
   "cell_type": "code",
   "execution_count": 676,
   "metadata": {},
   "outputs": [
    {
     "name": "stdout",
     "output_type": "stream",
     "text": [
      "Over 132.5 probabilty: 80.4%\n",
      "Under 132.5 probabilty: 19.6%\n",
      "\n",
      "Team A cover 21 probability: 23.6%\n",
      "Team B cover -21 probability: 74.2%\n",
      "\n",
      "Team A win probability: 79.8%\n",
      "Team B win probability: 20.2%\n"
     ]
    },
    {
     "data": {
      "text/plain": [
       "0"
      ]
     },
     "execution_count": 676,
     "metadata": {},
     "output_type": "execute_result"
    }
   ],
   "source": [
    "clean_result(abc, OU, team_A_margin)"
   ]
  },
  {
   "cell_type": "code",
   "execution_count": 652,
   "metadata": {},
   "outputs": [],
   "source": [
    "totals = []\n",
    "for item in abc[1]:\n",
    "    totals.append(item[0]+item[1])"
   ]
  },
  {
   "cell_type": "code",
   "execution_count": 653,
   "metadata": {},
   "outputs": [],
   "source": [
    "t_array = np.array(totals)-10"
   ]
  },
  {
   "cell_type": "code",
   "execution_count": 654,
   "metadata": {},
   "outputs": [
    {
     "data": {
      "text/plain": [
       "0.196"
      ]
     },
     "execution_count": 654,
     "metadata": {},
     "output_type": "execute_result"
    }
   ],
   "source": [
    "np.mean(t_array<OU)"
   ]
  },
  {
   "cell_type": "code",
   "execution_count": 655,
   "metadata": {},
   "outputs": [
    {
     "data": {
      "text/plain": [
       "0.804"
      ]
     },
     "execution_count": 655,
     "metadata": {},
     "output_type": "execute_result"
    }
   ],
   "source": [
    "np.mean(t_array>OU)"
   ]
  },
  {
   "cell_type": "code",
   "execution_count": 656,
   "metadata": {},
   "outputs": [],
   "source": [
    "margins = []\n",
    "for aaa in abc[1]:\n",
    "    margins.append(aaa[0]-aaa[1])"
   ]
  },
  {
   "cell_type": "code",
   "execution_count": 657,
   "metadata": {},
   "outputs": [],
   "source": [
    "margins_b = []\n",
    "for aaa in abc[1]:\n",
    "    margins_b.append(aaa[1]-aaa[0])"
   ]
  },
  {
   "cell_type": "code",
   "execution_count": 658,
   "metadata": {},
   "outputs": [
    {
     "data": {
      "text/plain": [
       "0.236"
      ]
     },
     "execution_count": 658,
     "metadata": {},
     "output_type": "execute_result"
    }
   ],
   "source": [
    "np.mean(np.array(margins)>team_A_margin)"
   ]
  },
  {
   "cell_type": "code",
   "execution_count": 659,
   "metadata": {},
   "outputs": [
    {
     "data": {
      "text/plain": [
       "0.742"
      ]
     },
     "execution_count": 659,
     "metadata": {},
     "output_type": "execute_result"
    }
   ],
   "source": [
    "np.mean(np.array(margins_b) > -team_A_margin)"
   ]
  },
  {
   "cell_type": "code",
   "execution_count": 660,
   "metadata": {},
   "outputs": [
    {
     "data": {
      "image/png": "[encoded data removed]",
      "text/plain": [
       "<Figure size 432x288 with 1 Axes>"
      ]
     },
     "metadata": {
      "needs_background": "light"
     },
     "output_type": "display_data"
    }
   ],
   "source": [
    "plt.hist(margins, bins=np.linspace(-25,55,17));"
   ]
  },
  {
   "cell_type": "code",
   "execution_count": 661,
   "metadata": {},
   "outputs": [
    {
     "data": {
      "text/plain": [
       "11.572"
      ]
     },
     "execution_count": 661,
     "metadata": {},
     "output_type": "execute_result"
    }
   ],
   "source": [
    "np.mean(margins)"
   ]
  },
  {
   "cell_type": "code",
   "execution_count": 662,
   "metadata": {},
   "outputs": [
    {
     "data": {
      "text/plain": [
       "12.0"
      ]
     },
     "execution_count": 662,
     "metadata": {},
     "output_type": "execute_result"
    }
   ],
   "source": [
    "np.median(margins)"
   ]
  },
  {
   "cell_type": "code",
   "execution_count": 663,
   "metadata": {},
   "outputs": [
    {
     "data": {
      "text/plain": [
       "0.798"
      ]
     },
     "execution_count": 663,
     "metadata": {},
     "output_type": "execute_result"
    }
   ],
   "source": [
    "np.mean([x[0]>x[1] for x in abc[1]])"
   ]
  },
  {
   "cell_type": "code",
   "execution_count": null,
   "metadata": {},
   "outputs": [],
   "source": []
  },
  {
   "cell_type": "code",
   "execution_count": null,
   "metadata": {},
   "outputs": [],
   "source": []
  },
  {
   "cell_type": "code",
   "execution_count": null,
   "metadata": {},
   "outputs": [],
   "source": []
  },
  {
   "cell_type": "code",
   "execution_count": null,
   "metadata": {},
   "outputs": [],
   "source": []
  }
 ],
 "metadata": {
  "kernelspec": {
   "display_name": "base",
   "language": "python",
   "name": "python3"
  },
  "language_info": {
   "codemirror_mode": {
    "name": "ipython",
    "version": 3
   },
   "file_extension": ".py",
   "mimetype": "text/x-python",
   "name": "python",
   "nbconvert_exporter": "python",
   "pygments_lexer": "ipython3",
   "version": "3.9.7"
  }
 },
 "nbformat": 4,
 "nbformat_minor": 2
}
