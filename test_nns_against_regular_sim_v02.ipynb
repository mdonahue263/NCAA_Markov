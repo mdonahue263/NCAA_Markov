{
 "cells": [
  {
   "cell_type": "code",
   "execution_count": 1,
   "metadata": {},
   "outputs": [],
   "source": [
    "#clean up in v02 and run tests\n",
    "\n",
    "import pandas as pd\n",
    "import os\n",
    "from tqdm import tqdm\n",
    "import time\n",
    "from matplotlib import pyplot as plt\n",
    "import numpy as np\n",
    "import tensorflow as tf\n",
    "from sklearn.model_selection import train_test_split\n",
    "from tensorflow.keras import layers, Model, regularizers\n",
    "from helper_functions.testing_functions import accuracy_distance, accuracy_moneyline, accuracy_ou\n",
    "from helper_functions.simulate_game import simulate_game\n",
    "from helper_functions.combine_matrices import combine_team_matrix\n",
    "from tensorflow.keras.losses import Loss\n",
    "import seaborn as sns"
   ]
  },
  {
   "cell_type": "code",
   "execution_count": 2,
   "metadata": {},
   "outputs": [],
   "source": [
    "def pull_game_data(g):\n",
    "        game_res = pd.read_excel('raw_game_pulls/{}'.format(g))\n",
    "        game_strings = g.split(' vs ')\n",
    "        team_A = game_strings[0].split('for ')[-1]\n",
    "        team_B = game_strings[1].split('.xlsx')[0]\n",
    "\n",
    "        matrix1 = pd.read_excel('team_specific_matrix/{}_A.xlsx'.format(team_A), index_col='Starting_State')\n",
    "        matrix2 = pd.read_excel('team_specific_matrix/{}_B.xlsx'.format(team_B), index_col='Starting_State')\n",
    "\n",
    "        A_score = game_res.iloc[-1]['Home']\n",
    "        B_score = game_res.iloc[-1]['Away']\n",
    "        score = (A_score,B_score)\n",
    "\n",
    "        return matrix1, matrix2, score"
   ]
  },
  {
   "cell_type": "code",
   "execution_count": 3,
   "metadata": {},
   "outputs": [
    {
     "name": "stderr",
     "output_type": "stream",
     "text": [
      "  0%|          | 0/5237 [00:00<?, ?it/s]"
     ]
    },
    {
     "name": "stderr",
     "output_type": "stream",
     "text": [
      "100%|██████████| 5237/5237 [04:41<00:00, 18.58it/s]\n"
     ]
    }
   ],
   "source": [
    "#load game data\n",
    "ma_list = []\n",
    "mb_list = []\n",
    "output_list = []\n",
    "\n",
    "for game in tqdm(os.listdir('raw_game_pulls')):\n",
    "    a,b,c = pull_game_data(game)\n",
    "    ma_list.append(a)\n",
    "    mb_list.append(b)\n",
    "    output_list.append(c)"
   ]
  },
  {
   "cell_type": "code",
   "execution_count": 4,
   "metadata": {},
   "outputs": [],
   "source": [
    "#transform regular output data into argmax array form\n",
    "arr_outputs = []\n",
    "for x in output_list:\n",
    "    value1, value2 = x\n",
    "\n",
    "    # Create numpy arrays\n",
    "    array1 = np.zeros(201)\n",
    "    array2 = np.zeros(201)\n",
    "\n",
    "    # Set the corresponding indices to 1\n",
    "    array1[value1 - 1] = 1\n",
    "    array2[value2 - 1] = 1 \n",
    "    arr_outputs.append((array1, array2))"
   ]
  },
  {
   "cell_type": "code",
   "execution_count": 5,
   "metadata": {},
   "outputs": [],
   "source": [
    "#normalize inputs ###############################################################################\n",
    "all_inputs=ma_list+mb_list\n",
    "\n",
    "arr = np.array([df.values for df in all_inputs])\n",
    "\n",
    "# Calculate mean and standard deviation across the first axis (which represents different DataFrames)\n",
    "avg = np.mean(arr, axis=0)\n",
    "std_dev = np.std(arr, axis=0)\n",
    "\n",
    "# Create DataFrames from the calculated arrays\n",
    "avg_df = pd.DataFrame(avg, index=all_inputs[0].index, columns=all_inputs[0].columns)\n",
    "std_dev_df = pd.DataFrame(std_dev, index=all_inputs[0].index, columns=all_inputs[0].columns)\n",
    "\n",
    "norm_inputs_a = []\n",
    "norm_inputs_b = []\n",
    "\n",
    "#Normalize each value in each matrix\n",
    "for matrix in ma_list:\n",
    "    normalized_matrix = (matrix - avg_df) / std_dev_df\n",
    "    normalized_matrix=normalized_matrix.fillna(0.)\n",
    "    norm_inputs_a.append(normalized_matrix)\n",
    "\n",
    "for matrix in mb_list:\n",
    "    normalized_matrix = (matrix - avg_df) / std_dev_df\n",
    "    normalized_matrix=normalized_matrix.fillna(0.)\n",
    "    norm_inputs_b.append(normalized_matrix)"
   ]
  },
  {
   "cell_type": "code",
   "execution_count": null,
   "metadata": {},
   "outputs": [],
   "source": []
  },
  {
   "cell_type": "code",
   "execution_count": 6,
   "metadata": {},
   "outputs": [],
   "source": [
    "#split on index for now, later will match with simulations\n",
    "matrix_A_train = norm_inputs_a[:4000]\n",
    "matrix_B_train = norm_inputs_b[:4000]\n",
    "\n",
    "y_train = arr_outputs[:4000]\n",
    "\n",
    "matrix_A_test = norm_inputs_a[4000:]\n",
    "matrix_B_test = norm_inputs_b[4000:]\n",
    "\n",
    "y_test=arr_outputs[4000:]"
   ]
  },
  {
   "cell_type": "code",
   "execution_count": null,
   "metadata": {},
   "outputs": [],
   "source": []
  },
  {
   "cell_type": "code",
   "execution_count": 7,
   "metadata": {},
   "outputs": [],
   "source": [
    "#do same as above for regular simulation testing\n",
    "simulation_a_test = ma_list[4000:]\n",
    "simulation_b_test = mb_list[4000:]\n",
    "\n",
    "simulation_output_test = output_list[4000:]"
   ]
  },
  {
   "cell_type": "code",
   "execution_count": 8,
   "metadata": {},
   "outputs": [],
   "source": [
    "#not working right now\n",
    "# Define custom loss function\n",
    "class Distance(Loss):\n",
    "    def call(self, y_true, y_pred):\n",
    "        # Reshape the input tensors if necessary\n",
    "        y_true_reshaped = tf.reshape(y_true, (-1, 201))  # Assuming 101 is the number of classes\n",
    "        y_pred_reshaped = tf.reshape(y_pred, (-1, 201))\n",
    "\n",
    "        # Compute the argmax operation with the correct axis\n",
    "        a_pred = tf.argmax(y_pred_reshaped[0], axis=1)\n",
    "        b_pred = tf.argmax(y_pred_reshaped[1], axis=1)\n",
    "\n",
    "        # Compute the argmax operation for the true labels as well\n",
    "        a_true = tf.argmax(y_true_reshaped[0], axis=1)\n",
    "        b_true = tf.argmax(y_true_reshaped[1], axis=1)\n",
    "\n",
    "        # Compute the loss based on the difference between predicted and true values\n",
    "\n",
    "        global loss\n",
    "        global egg\n",
    "        # egg = tf.reduce_mean(tf.math.square(y_pred - y_true), axis=-1)\n",
    "        loss = tf.sqrt(tf.cast(tf.square(a_true - a_pred), dtype=tf.float32) + tf.cast(tf.square(b_true - b_pred), dtype=tf.float32))\n",
    "        # return egg\n",
    "\n",
    "        return loss"
   ]
  },
  {
   "cell_type": "code",
   "execution_count": 9,
   "metadata": {},
   "outputs": [],
   "source": [
    "# #attempting to train with customized loss function\n",
    "# def custom_loss(y_true, y_pred,):\n",
    "#     # Reshape the input tensors if necessary\n",
    "#     y_true_reshaped = tf.reshape(y_true, (-1, 201))  # Assuming 101 is the number of classes\n",
    "#     y_pred_reshaped = tf.reshape(y_pred, (-1, 201))\n",
    "\n",
    "#     # Compute the argmax operation with the correct axis\n",
    "#     a_pred = tf.argmax(y_pred_reshaped[0], axis=1)\n",
    "#     b_pred = tf.argmax(y_pred_reshaped[1], axis=1)\n",
    "\n",
    "#     # Compute the argmax operation for the true labels as well\n",
    "#     a_true = tf.argmax(y_true_reshaped[0], axis=1)\n",
    "#     b_true = tf.argmax(y_true_reshaped[1], axis=1)\n",
    "\n",
    "#     # Compute the loss based on the difference between predicted and true values\n",
    "#     loss = tf.sqrt(tf.cast(tf.square(a_true - a_pred), dtype=tf.float32) + tf.cast(tf.square(b_true - b_pred), dtype=tf.float32))\n",
    "#     return loss"
   ]
  },
  {
   "cell_type": "code",
   "execution_count": null,
   "metadata": {},
   "outputs": [],
   "source": []
  },
  {
   "cell_type": "code",
   "execution_count": 10,
   "metadata": {},
   "outputs": [],
   "source": [
    "# Define the neural network architecture\n",
    "def build_model():\n",
    "    input1 = layers.Input(shape=(18, 18))\n",
    "    input2 = layers.Input(shape=(18, 18))\n",
    "\n",
    "    flatten1 = layers.Flatten()(input1)\n",
    "    flatten2 = layers.Flatten()(input2)\n",
    "\n",
    "    concat = layers.Concatenate()([flatten1, flatten2])\n",
    "    dense1 = layers.Dense(200, activation='relu')(concat)\n",
    "    dense2 = layers.Dense(100, activation='relu')(dense1)\n",
    "\n",
    "    output1 = layers.Dense(201, activation='softmax', name='output1')(dense2)  # Adjust output dimension to match the range (150 - 50 + 1)\n",
    "    output2 = layers.Dense(201, activation='softmax', name='output2')(dense2)  # Adjust output dimension to match the range (150 - 50 + 1)\n",
    "\n",
    "    model = Model(inputs=[input1, input2], outputs=[output1, output2])\n",
    "    return model\n",
    "\n",
    "# Define your training function\n",
    "def train_model(matrixA_list, matrixB_list, output_tuple_list, epochs=10, batch_size=32):\n",
    "    # Convert DataFrame to numpy arrays\n",
    "    matrixA_array = np.array(matrixA_list)\n",
    "    matrixB_array = np.array(matrixB_list)\n",
    "    output_array = np.array(output_tuple_list)\n",
    "    \n",
    "    # Build the model\n",
    "    model = build_model()\n",
    "\n",
    "    # Compile the model\n",
    "    model.compile(optimizer='adam', loss='categorical_crossentropy', metrics=['accuracy'])\n",
    "\n",
    "    # Train the model\n",
    "    model.fit([matrixA_array, matrixB_array], [output_array[:, 0], output_array[:, 1]], epochs=epochs, batch_size=batch_size)\n",
    "    return model"
   ]
  },
  {
   "cell_type": "code",
   "execution_count": 11,
   "metadata": {},
   "outputs": [
    {
     "name": "stdout",
     "output_type": "stream",
     "text": [
      "Epoch 1/10\n",
      "63/63 [==============================] - 1s 3ms/step - loss: 9.0355 - output1_loss: 4.5444 - output2_loss: 4.4911 - output1_accuracy: 0.0298 - output2_accuracy: 0.0298  \n",
      "Epoch 2/10\n",
      "63/63 [==============================] - 0s 3ms/step - loss: 7.7002 - output1_loss: 3.9038 - output2_loss: 3.7964 - output1_accuracy: 0.0648 - output2_accuracy: 0.0660\n",
      "Epoch 3/10\n",
      "63/63 [==============================] - 0s 3ms/step - loss: 7.2896 - output1_loss: 3.6896 - output2_loss: 3.6000 - output1_accuracy: 0.1013 - output2_accuracy: 0.1168\n",
      "Epoch 4/10\n",
      "63/63 [==============================] - 0s 3ms/step - loss: 6.9279 - output1_loss: 3.4977 - output2_loss: 3.4303 - output1_accuracy: 0.1400 - output2_accuracy: 0.1482\n",
      "Epoch 5/10\n",
      "63/63 [==============================] - 0s 3ms/step - loss: 6.5678 - output1_loss: 3.3006 - output2_loss: 3.2672 - output1_accuracy: 0.1723 - output2_accuracy: 0.1805\n",
      "Epoch 6/10\n",
      "63/63 [==============================] - 0s 2ms/step - loss: 6.2262 - output1_loss: 3.1287 - output2_loss: 3.0975 - output1_accuracy: 0.2052 - output2_accuracy: 0.2183\n",
      "Epoch 7/10\n",
      "63/63 [==============================] - 0s 3ms/step - loss: 5.8878 - output1_loss: 2.9417 - output2_loss: 2.9461 - output1_accuracy: 0.2537 - output2_accuracy: 0.2467\n",
      "Epoch 8/10\n",
      "63/63 [==============================] - 0s 3ms/step - loss: 5.5637 - output1_loss: 2.7764 - output2_loss: 2.7873 - output1_accuracy: 0.2800 - output2_accuracy: 0.2788\n",
      "Epoch 9/10\n",
      "63/63 [==============================] - 0s 3ms/step - loss: 5.2616 - output1_loss: 2.6256 - output2_loss: 2.6359 - output1_accuracy: 0.3173 - output2_accuracy: 0.3115\n",
      "Epoch 10/10\n",
      "63/63 [==============================] - 0s 3ms/step - loss: 4.9541 - output1_loss: 2.4682 - output2_loss: 2.4859 - output1_accuracy: 0.3512 - output2_accuracy: 0.3435\n"
     ]
    }
   ],
   "source": [
    "m1 = train_model(matrix_A_train, matrix_B_train, y_train, 10, 64)"
   ]
  },
  {
   "cell_type": "code",
   "execution_count": 44,
   "metadata": {},
   "outputs": [
    {
     "name": "stderr",
     "output_type": "stream",
     "text": [
      "100%|██████████| 1237/1237 [00:45<00:00, 27.18it/s]\n"
     ]
    }
   ],
   "source": [
    "predicted_scores = []\n",
    "all_predictions_list = []\n",
    "for i in tqdm(range(len(matrix_A_test))):\n",
    "    # Convert test matrices to numpy arrays\n",
    "    test_matrix_a_array = matrix_A_test[i].values.reshape(-1, 18, 18)\n",
    "    test_matrix_b_array = matrix_B_test[i].values.reshape(-1, 18, 18)\n",
    "\n",
    "    # Make predictions using the model\n",
    "    predictions = m1.predict([test_matrix_a_array, test_matrix_b_array], verbose=0)\n",
    "    all_predictions_list.append(predictions)\n",
    "\n",
    "    predicted_score = (np.argmax(predictions[0]), np.argmax(predictions[1]))\n",
    "\n",
    "    predicted_scores.append(predicted_score)"
   ]
  },
  {
   "cell_type": "code",
   "execution_count": 13,
   "metadata": {},
   "outputs": [],
   "source": [
    "#design test for outputs - we have ~1200 test games\n",
    "#one approach - run simulation 10-100 times for each, find overall accuracy, test against argmax values\n",
    "#one approach - run simulation 10 times for each, run random weighted choice 10 times for each, compare"
   ]
  },
  {
   "cell_type": "code",
   "execution_count": 14,
   "metadata": {},
   "outputs": [],
   "source": [
    "all_results=pd.DataFrame()"
   ]
  },
  {
   "cell_type": "code",
   "execution_count": 26,
   "metadata": {},
   "outputs": [
    {
     "name": "stderr",
     "output_type": "stream",
     "text": [
      "  0%|          | 0/1237 [00:00<?, ?it/s]"
     ]
    },
    {
     "name": "stderr",
     "output_type": "stream",
     "text": [
      "100%|██████████| 1237/1237 [01:42<00:00, 12.11it/s]\n"
     ]
    }
   ],
   "source": [
    "#ffirst test regular simuation\n",
    "for g in tqdm(range(len(simulation_a_test))):\n",
    "\n",
    "    #locate teams to find matrices\n",
    "    game_res = simulation_output_test[g]\n",
    "\n",
    "    matrix1 = simulation_a_test[g]\n",
    "    matrix2 = simulation_b_test[g]\n",
    "\n",
    "    combined_matrix = combine_team_matrix(matrix1, matrix2)\n",
    "    # combined_matrix.columns=matrix1.columns\n",
    "\n",
    "        \n",
    "    for r in combined_matrix.index:\n",
    "        if combined_matrix.loc[r].sum()==0.:\n",
    "            combined_matrix.loc[r]=avg_matrix.loc[r].copy()\n",
    "            \n",
    "    combined_matrix = combined_matrix.div(combined_matrix.sum(axis=1), axis=0)\n",
    "\n",
    "    # Evaluate performance on X game simulations\n",
    "    result = simulate_game(combined_matrix, 1)\n",
    "    home_scores = [x[0] for x in result[1]]\n",
    "    away_scores = [x[1] for x in result[1]]\n",
    "\n",
    "    current_df = pd.DataFrame(zip(home_scores, away_scores), columns = ['Home','Away'])\n",
    "    current_df['Game']=g\n",
    "\n",
    "    all_results=pd.concat([all_results, current_df])"
   ]
  },
  {
   "cell_type": "code",
   "execution_count": null,
   "metadata": {},
   "outputs": [],
   "source": []
  },
  {
   "cell_type": "code",
   "execution_count": null,
   "metadata": {},
   "outputs": [],
   "source": []
  },
  {
   "cell_type": "code",
   "execution_count": 30,
   "metadata": {},
   "outputs": [],
   "source": [
    "all_results_copy = all_results.tail(1237).copy().reset_index(drop=True)"
   ]
  },
  {
   "cell_type": "code",
   "execution_count": 38,
   "metadata": {},
   "outputs": [
    {
     "name": "stderr",
     "output_type": "stream",
     "text": [
      "100%|██████████| 1237/1237 [00:00<00:00, 2000.31it/s]\n"
     ]
    }
   ],
   "source": [
    "#forgot to include actual results - re running that part\n",
    "real_results = pd.DataFrame()\n",
    "for g in tqdm(range(len(simulation_a_test))):\n",
    "    #locate teams to find matrices\n",
    "    game_res = simulation_output_test[g]\n",
    "    current_df = pd.DataFrame([game_res], columns = ['Home','Away'])\n",
    "    current_df['Game'] = g\n",
    "    real_results=pd.concat([real_results,current_df])"
   ]
  },
  {
   "cell_type": "code",
   "execution_count": 40,
   "metadata": {},
   "outputs": [],
   "source": [
    "real_results = real_results.rename(columns={'Home':'Real Home Score',\n",
    "                                                    'Away':'Real Away Score'})"
   ]
  },
  {
   "cell_type": "code",
   "execution_count": 34,
   "metadata": {},
   "outputs": [],
   "source": [
    "all_results_copy = all_results_copy.rename(columns={'Home':'Simulated Home Score',\n",
    "                                                    'Away':'Simulated Away Score'})"
   ]
  },
  {
   "cell_type": "code",
   "execution_count": 56,
   "metadata": {},
   "outputs": [
    {
     "name": "stderr",
     "output_type": "stream",
     "text": [
      "100%|██████████| 1237/1237 [00:00<00:00, 1746.12it/s]\n"
     ]
    }
   ],
   "source": [
    "#now random choice NN results\n",
    "nn_results = pd.DataFrame()\n",
    "for g in tqdm(range(len(simulation_a_test))):\n",
    "    #locate teams to find matrices\n",
    "    current_arrays = all_predictions_list[g]\n",
    "    home_score = res=np.random.choice(np.arange(1,202), 1, p=current_arrays[0][0])[0]\n",
    "    away_score = res=np.random.choice(np.arange(1,202), 1, p=current_arrays[1][0])[0]\n",
    "\n",
    "\n",
    "    game_res = simulation_output_test[g]\n",
    "    current_df = pd.DataFrame([(home_score,away_score)], columns = ['Home','Away'])\n",
    "    current_df['Game'] = g\n",
    "    nn_results=pd.concat([nn_results,current_df])"
   ]
  },
  {
   "cell_type": "code",
   "execution_count": 57,
   "metadata": {},
   "outputs": [],
   "source": [
    "nn_results=nn_results.rename(columns={'Home':'NN Home Score',\n",
    "                                                    'Away':'NN Away Score'})"
   ]
  },
  {
   "cell_type": "code",
   "execution_count": 59,
   "metadata": {},
   "outputs": [],
   "source": [
    "merged_results = real_results.merge(all_results_copy, on='Game')"
   ]
  },
  {
   "cell_type": "code",
   "execution_count": 61,
   "metadata": {},
   "outputs": [],
   "source": [
    "merged_results = merged_results.merge(nn_results, on='Game')"
   ]
  },
  {
   "cell_type": "code",
   "execution_count": 62,
   "metadata": {},
   "outputs": [
    {
     "data": {
      "text/html": [
       "<div>\n",
       "<style scoped>\n",
       "    .dataframe tbody tr th:only-of-type {\n",
       "        vertical-align: middle;\n",
       "    }\n",
       "\n",
       "    .dataframe tbody tr th {\n",
       "        vertical-align: top;\n",
       "    }\n",
       "\n",
       "    .dataframe thead th {\n",
       "        text-align: right;\n",
       "    }\n",
       "</style>\n",
       "<table border=\"1\" class=\"dataframe\">\n",
       "  <thead>\n",
       "    <tr style=\"text-align: right;\">\n",
       "      <th></th>\n",
       "      <th>Real Home Score</th>\n",
       "      <th>Real Away Score</th>\n",
       "      <th>Game</th>\n",
       "      <th>Simulated Home Score</th>\n",
       "      <th>Simulated Away Score</th>\n",
       "      <th>NN Home Score</th>\n",
       "      <th>NN Away Score</th>\n",
       "    </tr>\n",
       "  </thead>\n",
       "  <tbody>\n",
       "    <tr>\n",
       "      <th>0</th>\n",
       "      <td>70</td>\n",
       "      <td>71</td>\n",
       "      <td>0</td>\n",
       "      <td>70</td>\n",
       "      <td>73</td>\n",
       "      <td>67</td>\n",
       "      <td>68</td>\n",
       "    </tr>\n",
       "    <tr>\n",
       "      <th>1</th>\n",
       "      <td>70</td>\n",
       "      <td>67</td>\n",
       "      <td>1</td>\n",
       "      <td>81</td>\n",
       "      <td>74</td>\n",
       "      <td>68</td>\n",
       "      <td>85</td>\n",
       "    </tr>\n",
       "    <tr>\n",
       "      <th>2</th>\n",
       "      <td>73</td>\n",
       "      <td>86</td>\n",
       "      <td>2</td>\n",
       "      <td>70</td>\n",
       "      <td>99</td>\n",
       "      <td>62</td>\n",
       "      <td>73</td>\n",
       "    </tr>\n",
       "    <tr>\n",
       "      <th>3</th>\n",
       "      <td>70</td>\n",
       "      <td>60</td>\n",
       "      <td>3</td>\n",
       "      <td>93</td>\n",
       "      <td>37</td>\n",
       "      <td>65</td>\n",
       "      <td>59</td>\n",
       "    </tr>\n",
       "    <tr>\n",
       "      <th>4</th>\n",
       "      <td>63</td>\n",
       "      <td>82</td>\n",
       "      <td>4</td>\n",
       "      <td>78</td>\n",
       "      <td>87</td>\n",
       "      <td>77</td>\n",
       "      <td>86</td>\n",
       "    </tr>\n",
       "    <tr>\n",
       "      <th>...</th>\n",
       "      <td>...</td>\n",
       "      <td>...</td>\n",
       "      <td>...</td>\n",
       "      <td>...</td>\n",
       "      <td>...</td>\n",
       "      <td>...</td>\n",
       "      <td>...</td>\n",
       "    </tr>\n",
       "    <tr>\n",
       "      <th>1232</th>\n",
       "      <td>80</td>\n",
       "      <td>58</td>\n",
       "      <td>1232</td>\n",
       "      <td>83</td>\n",
       "      <td>88</td>\n",
       "      <td>88</td>\n",
       "      <td>64</td>\n",
       "    </tr>\n",
       "    <tr>\n",
       "      <th>1233</th>\n",
       "      <td>56</td>\n",
       "      <td>70</td>\n",
       "      <td>1233</td>\n",
       "      <td>82</td>\n",
       "      <td>63</td>\n",
       "      <td>66</td>\n",
       "      <td>73</td>\n",
       "    </tr>\n",
       "    <tr>\n",
       "      <th>1234</th>\n",
       "      <td>70</td>\n",
       "      <td>81</td>\n",
       "      <td>1234</td>\n",
       "      <td>76</td>\n",
       "      <td>69</td>\n",
       "      <td>57</td>\n",
       "      <td>85</td>\n",
       "    </tr>\n",
       "    <tr>\n",
       "      <th>1235</th>\n",
       "      <td>79</td>\n",
       "      <td>70</td>\n",
       "      <td>1235</td>\n",
       "      <td>63</td>\n",
       "      <td>85</td>\n",
       "      <td>61</td>\n",
       "      <td>62</td>\n",
       "    </tr>\n",
       "    <tr>\n",
       "      <th>1236</th>\n",
       "      <td>65</td>\n",
       "      <td>90</td>\n",
       "      <td>1236</td>\n",
       "      <td>65</td>\n",
       "      <td>93</td>\n",
       "      <td>74</td>\n",
       "      <td>62</td>\n",
       "    </tr>\n",
       "  </tbody>\n",
       "</table>\n",
       "<p>1237 rows × 7 columns</p>\n",
       "</div>"
      ],
      "text/plain": [
       "      Real Home Score  Real Away Score  Game  Simulated Home Score  \\\n",
       "0                  70               71     0                    70   \n",
       "1                  70               67     1                    81   \n",
       "2                  73               86     2                    70   \n",
       "3                  70               60     3                    93   \n",
       "4                  63               82     4                    78   \n",
       "...               ...              ...   ...                   ...   \n",
       "1232               80               58  1232                    83   \n",
       "1233               56               70  1233                    82   \n",
       "1234               70               81  1234                    76   \n",
       "1235               79               70  1235                    63   \n",
       "1236               65               90  1236                    65   \n",
       "\n",
       "      Simulated Away Score  NN Home Score  NN Away Score  \n",
       "0                       73             67             68  \n",
       "1                       74             68             85  \n",
       "2                       99             62             73  \n",
       "3                       37             65             59  \n",
       "4                       87             77             86  \n",
       "...                    ...            ...            ...  \n",
       "1232                    88             88             64  \n",
       "1233                    63             66             73  \n",
       "1234                    69             57             85  \n",
       "1235                    85             61             62  \n",
       "1236                    93             74             62  \n",
       "\n",
       "[1237 rows x 7 columns]"
      ]
     },
     "execution_count": 62,
     "metadata": {},
     "output_type": "execute_result"
    }
   ],
   "source": [
    "merged_results"
   ]
  },
  {
   "cell_type": "code",
   "execution_count": 70,
   "metadata": {},
   "outputs": [],
   "source": [
    "def calc_dist(x1,x2,y1,y2):\n",
    "    return np.sqrt((x1-x2)**2 + (y1-y2)**2)\n",
    "\n",
    "def calc_ou(x1,x2,y1,y2):\n",
    "    return (y1+y2) - (x1+x2)\n",
    "\n",
    "def calc_winner(x1,x2,y1,y2):\n",
    "    return (x1>x2)==(y1>y2)"
   ]
  },
  {
   "cell_type": "code",
   "execution_count": 71,
   "metadata": {},
   "outputs": [],
   "source": [
    "merged_results['Simulation Distance Score'] = np.vectorize(calc_dist)(merged_results['Real Home Score'],\n",
    "                                                                      merged_results['Real Away Score'],\n",
    "                                                                      merged_results['Simulated Home Score'],\n",
    "                                                                      merged_results['Simulated Away Score'])\n",
    "\n",
    "merged_results['NN Distance Score'] = np.vectorize(calc_dist)(merged_results['Real Home Score'],\n",
    "                                                                      merged_results['Real Away Score'],\n",
    "                                                                      merged_results['NN Home Score'],\n",
    "                                                                      merged_results['NN Away Score'])\n",
    "\n",
    "merged_results['Simulation OU Score'] = np.vectorize(calc_ou)(merged_results['Real Home Score'],\n",
    "                                                                      merged_results['Real Away Score'],\n",
    "                                                                      merged_results['Simulated Home Score'],\n",
    "                                                                      merged_results['Simulated Away Score'])\n",
    "\n",
    "merged_results['NN OU Score'] = np.vectorize(calc_ou)(merged_results['Real Home Score'],\n",
    "                                                                      merged_results['Real Away Score'],\n",
    "                                                                      merged_results['NN Home Score'],\n",
    "                                                                      merged_results['NN Away Score'])\n",
    "\n",
    "merged_results['Simulation Winner Score'] = np.vectorize(calc_winner)(merged_results['Real Home Score'],\n",
    "                                                                      merged_results['Real Away Score'],\n",
    "                                                                      merged_results['Simulated Home Score'],\n",
    "                                                                      merged_results['Simulated Away Score'])\n",
    "\n",
    "merged_results['NN Winner Score'] = np.vectorize(calc_winner)(merged_results['Real Home Score'],\n",
    "                                                                      merged_results['Real Away Score'],\n",
    "                                                                      merged_results['NN Home Score'],\n",
    "                                                                      merged_results['NN Away Score'])"
   ]
  },
  {
   "cell_type": "code",
   "execution_count": 72,
   "metadata": {},
   "outputs": [
    {
     "data": {
      "text/html": [
       "<div>\n",
       "<style scoped>\n",
       "    .dataframe tbody tr th:only-of-type {\n",
       "        vertical-align: middle;\n",
       "    }\n",
       "\n",
       "    .dataframe tbody tr th {\n",
       "        vertical-align: top;\n",
       "    }\n",
       "\n",
       "    .dataframe thead th {\n",
       "        text-align: right;\n",
       "    }\n",
       "</style>\n",
       "<table border=\"1\" class=\"dataframe\">\n",
       "  <thead>\n",
       "    <tr style=\"text-align: right;\">\n",
       "      <th></th>\n",
       "      <th>Real Home Score</th>\n",
       "      <th>Real Away Score</th>\n",
       "      <th>Game</th>\n",
       "      <th>Simulated Home Score</th>\n",
       "      <th>Simulated Away Score</th>\n",
       "      <th>NN Home Score</th>\n",
       "      <th>NN Away Score</th>\n",
       "      <th>Simulation Distance Score</th>\n",
       "      <th>NN Distance Score</th>\n",
       "      <th>Simulation OU Score</th>\n",
       "      <th>NN OU Score</th>\n",
       "      <th>Simulation Winner Score</th>\n",
       "      <th>NN Winner Score</th>\n",
       "    </tr>\n",
       "  </thead>\n",
       "  <tbody>\n",
       "    <tr>\n",
       "      <th>0</th>\n",
       "      <td>70</td>\n",
       "      <td>71</td>\n",
       "      <td>0</td>\n",
       "      <td>70</td>\n",
       "      <td>73</td>\n",
       "      <td>67</td>\n",
       "      <td>68</td>\n",
       "      <td>3.162278</td>\n",
       "      <td>1.414214</td>\n",
       "      <td>2</td>\n",
       "      <td>-6</td>\n",
       "      <td>True</td>\n",
       "      <td>True</td>\n",
       "    </tr>\n",
       "    <tr>\n",
       "      <th>1</th>\n",
       "      <td>70</td>\n",
       "      <td>67</td>\n",
       "      <td>1</td>\n",
       "      <td>81</td>\n",
       "      <td>74</td>\n",
       "      <td>68</td>\n",
       "      <td>85</td>\n",
       "      <td>7.615773</td>\n",
       "      <td>17.262677</td>\n",
       "      <td>18</td>\n",
       "      <td>16</td>\n",
       "      <td>True</td>\n",
       "      <td>False</td>\n",
       "    </tr>\n",
       "    <tr>\n",
       "      <th>2</th>\n",
       "      <td>73</td>\n",
       "      <td>86</td>\n",
       "      <td>2</td>\n",
       "      <td>70</td>\n",
       "      <td>99</td>\n",
       "      <td>62</td>\n",
       "      <td>73</td>\n",
       "      <td>31.780497</td>\n",
       "      <td>17.029386</td>\n",
       "      <td>10</td>\n",
       "      <td>-24</td>\n",
       "      <td>True</td>\n",
       "      <td>True</td>\n",
       "    </tr>\n",
       "    <tr>\n",
       "      <th>3</th>\n",
       "      <td>70</td>\n",
       "      <td>60</td>\n",
       "      <td>3</td>\n",
       "      <td>93</td>\n",
       "      <td>37</td>\n",
       "      <td>65</td>\n",
       "      <td>59</td>\n",
       "      <td>56.885851</td>\n",
       "      <td>11.661904</td>\n",
       "      <td>0</td>\n",
       "      <td>-6</td>\n",
       "      <td>True</td>\n",
       "      <td>True</td>\n",
       "    </tr>\n",
       "    <tr>\n",
       "      <th>4</th>\n",
       "      <td>63</td>\n",
       "      <td>82</td>\n",
       "      <td>4</td>\n",
       "      <td>78</td>\n",
       "      <td>87</td>\n",
       "      <td>77</td>\n",
       "      <td>86</td>\n",
       "      <td>21.023796</td>\n",
       "      <td>21.023796</td>\n",
       "      <td>20</td>\n",
       "      <td>18</td>\n",
       "      <td>True</td>\n",
       "      <td>True</td>\n",
       "    </tr>\n",
       "    <tr>\n",
       "      <th>...</th>\n",
       "      <td>...</td>\n",
       "      <td>...</td>\n",
       "      <td>...</td>\n",
       "      <td>...</td>\n",
       "      <td>...</td>\n",
       "      <td>...</td>\n",
       "      <td>...</td>\n",
       "      <td>...</td>\n",
       "      <td>...</td>\n",
       "      <td>...</td>\n",
       "      <td>...</td>\n",
       "      <td>...</td>\n",
       "      <td>...</td>\n",
       "    </tr>\n",
       "    <tr>\n",
       "      <th>1232</th>\n",
       "      <td>80</td>\n",
       "      <td>58</td>\n",
       "      <td>1232</td>\n",
       "      <td>83</td>\n",
       "      <td>88</td>\n",
       "      <td>88</td>\n",
       "      <td>64</td>\n",
       "      <td>22.561028</td>\n",
       "      <td>32.557641</td>\n",
       "      <td>33</td>\n",
       "      <td>14</td>\n",
       "      <td>False</td>\n",
       "      <td>True</td>\n",
       "    </tr>\n",
       "    <tr>\n",
       "      <th>1233</th>\n",
       "      <td>56</td>\n",
       "      <td>70</td>\n",
       "      <td>1233</td>\n",
       "      <td>82</td>\n",
       "      <td>63</td>\n",
       "      <td>66</td>\n",
       "      <td>73</td>\n",
       "      <td>23.600847</td>\n",
       "      <td>15.652476</td>\n",
       "      <td>19</td>\n",
       "      <td>13</td>\n",
       "      <td>False</td>\n",
       "      <td>True</td>\n",
       "    </tr>\n",
       "    <tr>\n",
       "      <th>1234</th>\n",
       "      <td>70</td>\n",
       "      <td>81</td>\n",
       "      <td>1234</td>\n",
       "      <td>76</td>\n",
       "      <td>69</td>\n",
       "      <td>57</td>\n",
       "      <td>85</td>\n",
       "      <td>13.038405</td>\n",
       "      <td>30.083218</td>\n",
       "      <td>-6</td>\n",
       "      <td>-9</td>\n",
       "      <td>False</td>\n",
       "      <td>True</td>\n",
       "    </tr>\n",
       "    <tr>\n",
       "      <th>1235</th>\n",
       "      <td>79</td>\n",
       "      <td>70</td>\n",
       "      <td>1235</td>\n",
       "      <td>63</td>\n",
       "      <td>85</td>\n",
       "      <td>61</td>\n",
       "      <td>62</td>\n",
       "      <td>23.769729</td>\n",
       "      <td>9.055385</td>\n",
       "      <td>-1</td>\n",
       "      <td>-26</td>\n",
       "      <td>False</td>\n",
       "      <td>False</td>\n",
       "    </tr>\n",
       "    <tr>\n",
       "      <th>1236</th>\n",
       "      <td>65</td>\n",
       "      <td>90</td>\n",
       "      <td>1236</td>\n",
       "      <td>65</td>\n",
       "      <td>93</td>\n",
       "      <td>74</td>\n",
       "      <td>62</td>\n",
       "      <td>37.536649</td>\n",
       "      <td>27.730849</td>\n",
       "      <td>3</td>\n",
       "      <td>-19</td>\n",
       "      <td>True</td>\n",
       "      <td>False</td>\n",
       "    </tr>\n",
       "  </tbody>\n",
       "</table>\n",
       "<p>1237 rows × 13 columns</p>\n",
       "</div>"
      ],
      "text/plain": [
       "      Real Home Score  Real Away Score  Game  Simulated Home Score  \\\n",
       "0                  70               71     0                    70   \n",
       "1                  70               67     1                    81   \n",
       "2                  73               86     2                    70   \n",
       "3                  70               60     3                    93   \n",
       "4                  63               82     4                    78   \n",
       "...               ...              ...   ...                   ...   \n",
       "1232               80               58  1232                    83   \n",
       "1233               56               70  1233                    82   \n",
       "1234               70               81  1234                    76   \n",
       "1235               79               70  1235                    63   \n",
       "1236               65               90  1236                    65   \n",
       "\n",
       "      Simulated Away Score  NN Home Score  NN Away Score  \\\n",
       "0                       73             67             68   \n",
       "1                       74             68             85   \n",
       "2                       99             62             73   \n",
       "3                       37             65             59   \n",
       "4                       87             77             86   \n",
       "...                    ...            ...            ...   \n",
       "1232                    88             88             64   \n",
       "1233                    63             66             73   \n",
       "1234                    69             57             85   \n",
       "1235                    85             61             62   \n",
       "1236                    93             74             62   \n",
       "\n",
       "      Simulation Distance Score  NN Distance Score  Simulation OU Score  \\\n",
       "0                      3.162278           1.414214                    2   \n",
       "1                      7.615773          17.262677                   18   \n",
       "2                     31.780497          17.029386                   10   \n",
       "3                     56.885851          11.661904                    0   \n",
       "4                     21.023796          21.023796                   20   \n",
       "...                         ...                ...                  ...   \n",
       "1232                  22.561028          32.557641                   33   \n",
       "1233                  23.600847          15.652476                   19   \n",
       "1234                  13.038405          30.083218                   -6   \n",
       "1235                  23.769729           9.055385                   -1   \n",
       "1236                  37.536649          27.730849                    3   \n",
       "\n",
       "      NN OU Score  Simulation Winner Score  NN Winner Score  \n",
       "0              -6                     True             True  \n",
       "1              16                     True            False  \n",
       "2             -24                     True             True  \n",
       "3              -6                     True             True  \n",
       "4              18                     True             True  \n",
       "...           ...                      ...              ...  \n",
       "1232           14                    False             True  \n",
       "1233           13                    False             True  \n",
       "1234           -9                    False             True  \n",
       "1235          -26                    False            False  \n",
       "1236          -19                     True            False  \n",
       "\n",
       "[1237 rows x 13 columns]"
      ]
     },
     "execution_count": 72,
     "metadata": {},
     "output_type": "execute_result"
    }
   ],
   "source": [
    "merged_results"
   ]
  },
  {
   "cell_type": "code",
   "execution_count": 80,
   "metadata": {},
   "outputs": [
    {
     "data": {
      "text/html": [
       "<div>\n",
       "<style scoped>\n",
       "    .dataframe tbody tr th:only-of-type {\n",
       "        vertical-align: middle;\n",
       "    }\n",
       "\n",
       "    .dataframe tbody tr th {\n",
       "        vertical-align: top;\n",
       "    }\n",
       "\n",
       "    .dataframe thead th {\n",
       "        text-align: right;\n",
       "    }\n",
       "</style>\n",
       "<table border=\"1\" class=\"dataframe\">\n",
       "  <thead>\n",
       "    <tr style=\"text-align: right;\">\n",
       "      <th></th>\n",
       "      <th>Game</th>\n",
       "      <th>variable</th>\n",
       "      <th>value</th>\n",
       "    </tr>\n",
       "  </thead>\n",
       "  <tbody>\n",
       "    <tr>\n",
       "      <th>0</th>\n",
       "      <td>0</td>\n",
       "      <td>Simulation Distance Score</td>\n",
       "      <td>3.162278</td>\n",
       "    </tr>\n",
       "    <tr>\n",
       "      <th>1</th>\n",
       "      <td>1</td>\n",
       "      <td>Simulation Distance Score</td>\n",
       "      <td>7.615773</td>\n",
       "    </tr>\n",
       "    <tr>\n",
       "      <th>2</th>\n",
       "      <td>2</td>\n",
       "      <td>Simulation Distance Score</td>\n",
       "      <td>31.780497</td>\n",
       "    </tr>\n",
       "    <tr>\n",
       "      <th>3</th>\n",
       "      <td>3</td>\n",
       "      <td>Simulation Distance Score</td>\n",
       "      <td>56.885851</td>\n",
       "    </tr>\n",
       "    <tr>\n",
       "      <th>4</th>\n",
       "      <td>4</td>\n",
       "      <td>Simulation Distance Score</td>\n",
       "      <td>21.023796</td>\n",
       "    </tr>\n",
       "    <tr>\n",
       "      <th>...</th>\n",
       "      <td>...</td>\n",
       "      <td>...</td>\n",
       "      <td>...</td>\n",
       "    </tr>\n",
       "    <tr>\n",
       "      <th>2469</th>\n",
       "      <td>1232</td>\n",
       "      <td>NN Distance Score</td>\n",
       "      <td>32.557641</td>\n",
       "    </tr>\n",
       "    <tr>\n",
       "      <th>2470</th>\n",
       "      <td>1233</td>\n",
       "      <td>NN Distance Score</td>\n",
       "      <td>15.652476</td>\n",
       "    </tr>\n",
       "    <tr>\n",
       "      <th>2471</th>\n",
       "      <td>1234</td>\n",
       "      <td>NN Distance Score</td>\n",
       "      <td>30.083218</td>\n",
       "    </tr>\n",
       "    <tr>\n",
       "      <th>2472</th>\n",
       "      <td>1235</td>\n",
       "      <td>NN Distance Score</td>\n",
       "      <td>9.055385</td>\n",
       "    </tr>\n",
       "    <tr>\n",
       "      <th>2473</th>\n",
       "      <td>1236</td>\n",
       "      <td>NN Distance Score</td>\n",
       "      <td>27.730849</td>\n",
       "    </tr>\n",
       "  </tbody>\n",
       "</table>\n",
       "<p>2474 rows × 3 columns</p>\n",
       "</div>"
      ],
      "text/plain": [
       "      Game                   variable      value\n",
       "0        0  Simulation Distance Score   3.162278\n",
       "1        1  Simulation Distance Score   7.615773\n",
       "2        2  Simulation Distance Score  31.780497\n",
       "3        3  Simulation Distance Score  56.885851\n",
       "4        4  Simulation Distance Score  21.023796\n",
       "...    ...                        ...        ...\n",
       "2469  1232          NN Distance Score  32.557641\n",
       "2470  1233          NN Distance Score  15.652476\n",
       "2471  1234          NN Distance Score  30.083218\n",
       "2472  1235          NN Distance Score   9.055385\n",
       "2473  1236          NN Distance Score  27.730849\n",
       "\n",
       "[2474 rows x 3 columns]"
      ]
     },
     "execution_count": 80,
     "metadata": {},
     "output_type": "execute_result"
    }
   ],
   "source": [
    "plot_data_1"
   ]
  },
  {
   "cell_type": "code",
   "execution_count": 82,
   "metadata": {},
   "outputs": [
    {
     "data": {
      "text/plain": [
       "<AxesSubplot:xlabel='variable', ylabel='value'>"
      ]
     },
     "execution_count": 82,
     "metadata": {},
     "output_type": "execute_result"
    },
    {
     "data": {
      "image/png": "[encoded data removed]",
      "text/plain": [
       "<Figure size 800x800 with 1 Axes>"
      ]
     },
     "metadata": {},
     "output_type": "display_data"
    }
   ],
   "source": [
    "plot_data_1 = merged_results[['Game','Simulation Distance Score','NN Distance Score']].copy().melt(id_vars='Game')\n",
    "fig, ax=plt.subplots(figsize=(8,8))\n",
    "sns.boxplot(x='variable', y='value', data=plot_data_1)"
   ]
  },
  {
   "cell_type": "code",
   "execution_count": 83,
   "metadata": {},
   "outputs": [
    {
     "data": {
      "text/plain": [
       "<AxesSubplot:xlabel='variable', ylabel='value'>"
      ]
     },
     "execution_count": 83,
     "metadata": {},
     "output_type": "execute_result"
    },
    {
     "data": {
      "image/png": "[encoded data removed]",
      "text/plain": [
       "<Figure size 800x800 with 1 Axes>"
      ]
     },
     "metadata": {},
     "output_type": "display_data"
    }
   ],
   "source": [
    "plot_data_2 = merged_results[['Game','Simulation OU Score','NN OU Score']].copy().melt(id_vars='Game')\n",
    "fig, ax=plt.subplots(figsize=(8,8))\n",
    "sns.boxplot(x='variable', y='value', data=plot_data_2)"
   ]
  },
  {
   "cell_type": "code",
   "execution_count": null,
   "metadata": {},
   "outputs": [],
   "source": [
    "merged_results[['Game','Simulation Distance Score','NN Distance Score']].copy().melt(id_vars='Game')"
   ]
  },
  {
   "cell_type": "code",
   "execution_count": 84,
   "metadata": {},
   "outputs": [
    {
     "data": {
      "text/plain": [
       "0.5319320937752627"
      ]
     },
     "execution_count": 84,
     "metadata": {},
     "output_type": "execute_result"
    }
   ],
   "source": [
    "merged_results['Simulation Winner Score'].mean()"
   ]
  },
  {
   "cell_type": "code",
   "execution_count": 85,
   "metadata": {},
   "outputs": [
    {
     "data": {
      "text/plain": [
       "0.5901374292643492"
      ]
     },
     "execution_count": 85,
     "metadata": {},
     "output_type": "execute_result"
    }
   ],
   "source": [
    "merged_results['NN Winner Score'].mean()"
   ]
  },
  {
   "cell_type": "code",
   "execution_count": 43,
   "metadata": {},
   "outputs": [
    {
     "data": {
      "text/plain": [
       "2"
      ]
     },
     "execution_count": 43,
     "metadata": {},
     "output_type": "execute_result"
    }
   ],
   "source": [
    "len(predictions)"
   ]
  },
  {
   "cell_type": "code",
   "execution_count": 32,
   "metadata": {},
   "outputs": [
    {
     "data": {
      "text/plain": [
       "(65, 90)"
      ]
     },
     "execution_count": 32,
     "metadata": {},
     "output_type": "execute_result"
    }
   ],
   "source": [
    "game_res"
   ]
  },
  {
   "cell_type": "code",
   "execution_count": 47,
   "metadata": {},
   "outputs": [],
   "source": [
    "res=np.random.choice(np.arange(1,202), 1, p=predictions[0][0])"
   ]
  },
  {
   "cell_type": "code",
   "execution_count": 48,
   "metadata": {},
   "outputs": [
    {
     "data": {
      "text/plain": [
       "array([66])"
      ]
     },
     "execution_count": 48,
     "metadata": {},
     "output_type": "execute_result"
    }
   ],
   "source": [
    "res"
   ]
  },
  {
   "cell_type": "code",
   "execution_count": 17,
   "metadata": {},
   "outputs": [],
   "source": [
    "combined_matrix = combine_team_matrix(matrix1, matrix2)"
   ]
  },
  {
   "cell_type": "code",
   "execution_count": null,
   "metadata": {},
   "outputs": [],
   "source": []
  },
  {
   "cell_type": "code",
   "execution_count": null,
   "metadata": {},
   "outputs": [],
   "source": []
  },
  {
   "cell_type": "code",
   "execution_count": null,
   "metadata": {},
   "outputs": [],
   "source": []
  },
  {
   "cell_type": "code",
   "execution_count": null,
   "metadata": {},
   "outputs": [],
   "source": []
  },
  {
   "cell_type": "code",
   "execution_count": null,
   "metadata": {},
   "outputs": [],
   "source": []
  },
  {
   "cell_type": "code",
   "execution_count": null,
   "metadata": {},
   "outputs": [],
   "source": []
  },
  {
   "cell_type": "code",
   "execution_count": null,
   "metadata": {},
   "outputs": [],
   "source": []
  },
  {
   "cell_type": "code",
   "execution_count": null,
   "metadata": {},
   "outputs": [],
   "source": []
  },
  {
   "cell_type": "code",
   "execution_count": null,
   "metadata": {},
   "outputs": [],
   "source": []
  },
  {
   "cell_type": "code",
   "execution_count": null,
   "metadata": {},
   "outputs": [],
   "source": []
  },
  {
   "cell_type": "code",
   "execution_count": null,
   "metadata": {},
   "outputs": [],
   "source": [
    "##### OLD CODE BELOW FOR SECOND NN ARCHITECTURE - MAY REVISIT LATER"
   ]
  },
  {
   "cell_type": "code",
   "execution_count": 92,
   "metadata": {},
   "outputs": [
    {
     "data": {
      "text/plain": [
       "108"
      ]
     },
     "execution_count": 92,
     "metadata": {},
     "output_type": "execute_result"
    }
   ],
   "source": [
    "res.max()"
   ]
  },
  {
   "cell_type": "code",
   "execution_count": 51,
   "metadata": {},
   "outputs": [
    {
     "data": {
      "text/plain": [
       "201"
      ]
     },
     "execution_count": 51,
     "metadata": {},
     "output_type": "execute_result"
    }
   ],
   "source": [
    "len(predictions[0][0])"
   ]
  },
  {
   "cell_type": "code",
   "execution_count": 43,
   "metadata": {},
   "outputs": [],
   "source": [
    "real_scores = output_list[4000:]"
   ]
  },
  {
   "cell_type": "code",
   "execution_count": 44,
   "metadata": {},
   "outputs": [
    {
     "data": {
      "text/plain": [
       "15.26440597207573"
      ]
     },
     "execution_count": 44,
     "metadata": {},
     "output_type": "execute_result"
    }
   ],
   "source": [
    "accuracy_distance(predicted_scores,real_scores)"
   ]
  },
  {
   "cell_type": "code",
   "execution_count": 60,
   "metadata": {},
   "outputs": [],
   "source": [
    "def build_regularized_model():\n",
    "    input1 = layers.Input(shape=(18, 18))\n",
    "    input2 = layers.Input(shape=(18, 18))\n",
    "\n",
    "    flatten1 = layers.Flatten()(input1)\n",
    "    flatten2 = layers.Flatten()(input2)\n",
    "\n",
    "    concat = layers.Concatenate()([flatten1, flatten2])\n",
    "    \n",
    "    # Wide sparse layers with L1 regularization\n",
    "    dense1 = layers.Dense(512, activation='relu', kernel_regularizer=regularizers.l1(0.01))(concat)\n",
    "    dropout1 = layers.Dropout(0.5)(dense1)\n",
    "    \n",
    "    dense2 = layers.Dense(256, activation='sigmoid', kernel_regularizer=regularizers.l1(0.01))(dropout1)\n",
    "    dropout2 = layers.Dropout(0.5)(dense2)\n",
    "\n",
    "    # Wide sparse layers with L1 regularization\n",
    "    dense3 = layers.Dense(2048, activation='relu', kernel_regularizer=regularizers.l1(0.01))(dropout2)\n",
    "    dropout3 = layers.Dropout(0.5)(dense2)\n",
    "    \n",
    "    dense4 = layers.Dense(64, activation='sigmoid', kernel_regularizer=regularizers.l1(0.01))(dropout3)\n",
    "    dropout4 = layers.Dropout(0.5)(dense3)\n",
    "\n",
    "    d5=layers.Dense(102377, activation='sigmoid')(dense4)\n",
    "    d6=layers.Dense(219, activation='sigmoid')(d5)\n",
    "    d7=layers.Dense(23456, activation='relu')(d6)\n",
    "    d8=layers.Dense(129, activation='softmax')(d7)\n",
    "    d9=layers.Dense(32, activation='sigmoid')(d8)\n",
    "\n",
    "    output1 = layers.Dense(201, activation='softmax', name='output1')(d9)  # Adjust output dimension to match the range (150 - 50 + 1)\n",
    "    output2 = layers.Dense(201, activation='softmax', name='output2')(d9)  # Adjust output dimension to match the range (150 - 50 + 1)\n",
    "\n",
    "    model = Model(inputs=[input1, input2], outputs=[output1, output2])\n",
    "    return model"
   ]
  },
  {
   "cell_type": "code",
   "execution_count": 139,
   "metadata": {},
   "outputs": [],
   "source": []
  },
  {
   "cell_type": "code",
   "execution_count": 140,
   "metadata": {},
   "outputs": [],
   "source": [
    "def train_model_2(matrixA_list, matrixB_list, output_tuple_list, epochs=10, batch_size=32):\n",
    "    # Convert DataFrame to numpy arrays\n",
    "    matrixA_array = np.array(matrixA_list)\n",
    "    matrixB_array = np.array(matrixB_list)\n",
    "    output_array = np.array(output_tuple_list)\n",
    "    \n",
    "    # Build the model\n",
    "    model = build_regularized_model()\n",
    "\n",
    "    # Compile the model\n",
    "    model.compile(optimizer='adam', loss=custom_loss, metrics=['accuracy'])\n",
    "\n",
    "    # Train the model\n",
    "    model.fit([matrixA_array, matrixB_array], [output_array[:, 0], output_array[:, 1]], epochs=epochs, batch_size=batch_size)\n",
    "    return model"
   ]
  },
  {
   "cell_type": "code",
   "execution_count": null,
   "metadata": {},
   "outputs": [],
   "source": [
    "m2 = train_model_2(matrix_A_train, matrix_B_train, y_train, 10, 64)"
   ]
  },
  {
   "cell_type": "code",
   "execution_count": 126,
   "metadata": {},
   "outputs": [
    {
     "data": {
      "text/plain": [
       "<tf.Tensor 'IteratorGetNext:3' shape=(None, 201) dtype=float32>"
      ]
     },
     "execution_count": 126,
     "metadata": {},
     "output_type": "execute_result"
    }
   ],
   "source": [
    "a"
   ]
  },
  {
   "cell_type": "code",
   "execution_count": 111,
   "metadata": {},
   "outputs": [
    {
     "name": "stderr",
     "output_type": "stream",
     "text": [
      "100%|██████████| 10/10 [00:00<00:00, 18.60it/s]\n"
     ]
    }
   ],
   "source": [
    "predicted_scores_2 = []\n",
    "for i in tqdm.tqdm(range(len(matrix_A_test))[:10]):\n",
    "    # Convert test matrices to numpy arrays\n",
    "    test_matrix_a_array = matrix_A_test[i].values.reshape(-1, 18, 18)\n",
    "    test_matrix_b_array = matrix_B_test[i].values.reshape(-1, 18, 18)\n",
    "\n",
    "    # Make predictions using the model\n",
    "    predictions = m2.predict([test_matrix_a_array, test_matrix_b_array], verbose=0)\n",
    "\n",
    "    predicted_score = (np.argmax(predictions[0]), np.argmax(predictions[1]))\n",
    "\n",
    "    predicted_scores_2.append(predicted_score)"
   ]
  },
  {
   "cell_type": "code",
   "execution_count": 112,
   "metadata": {},
   "outputs": [
    {
     "data": {
      "text/plain": [
       "[(76, 69),\n",
       " (76, 69),\n",
       " (76, 69),\n",
       " (76, 69),\n",
       " (76, 69),\n",
       " (76, 69),\n",
       " (76, 69),\n",
       " (76, 69),\n",
       " (76, 69),\n",
       " (76, 69)]"
      ]
     },
     "execution_count": 112,
     "metadata": {},
     "output_type": "execute_result"
    }
   ],
   "source": [
    "predicted_scores_2"
   ]
  }
 ],
 "metadata": {
  "kernelspec": {
   "display_name": "base",
   "language": "python",
   "name": "python3"
  },
  "language_info": {
   "codemirror_mode": {
    "name": "ipython",
    "version": 3
   },
   "file_extension": ".py",
   "mimetype": "text/x-python",
   "name": "python",
   "nbconvert_exporter": "python",
   "pygments_lexer": "ipython3",
   "version": "3.9.13"
  }
 },
 "nbformat": 4,
 "nbformat_minor": 2
}
