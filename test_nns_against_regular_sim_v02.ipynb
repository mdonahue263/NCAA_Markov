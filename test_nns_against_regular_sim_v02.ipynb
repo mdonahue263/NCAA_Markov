{
 "cells": [
  {
   "cell_type": "code",
   "execution_count": 32,
   "metadata": {},
   "outputs": [],
   "source": [
    "#clean up in v02 and run tests\n",
    "\n",
    "import pandas as pd\n",
    "import os\n",
    "from tqdm import tqdm\n",
    "import time\n",
    "from matplotlib import pyplot as plt\n",
    "import numpy as np\n",
    "import tensorflow as tf\n",
    "from sklearn.model_selection import train_test_split\n",
    "from tensorflow.keras import layers, Model, regularizers\n",
    "from helper_functions.testing_functions import accuracy_distance, accuracy_moneyline, accuracy_ou\n",
    "from helper_functions.simulate_game import simulate_game\n",
    "from helper_functions.combine_matrices import combine_team_matrix\n",
    "from tensorflow.keras.losses import Loss\n",
    "import seaborn as sns\n",
    "import pickle"
   ]
  },
  {
   "cell_type": "code",
   "execution_count": 2,
   "metadata": {},
   "outputs": [],
   "source": [
    "avg_matrix = pd.read_excel('avg_transition_matrix_with_manual_edits.xlsx', sheet_name = 'Mean Pasted', index_col='Starting_State')"
   ]
  },
  {
   "cell_type": "code",
   "execution_count": 3,
   "metadata": {},
   "outputs": [],
   "source": [
    "def pull_game_data(g):\n",
    "        game_res = pd.read_excel('raw_game_pulls/{}'.format(g))\n",
    "        game_strings = g.split(' vs ')\n",
    "        team_A = game_strings[0].split('for ')[-1]\n",
    "        team_B = game_strings[1].split('.xlsx')[0]\n",
    "\n",
    "        matrix1 = pd.read_excel('team_specific_matrix/{}_A.xlsx'.format(team_A), index_col='Starting_State')\n",
    "        matrix2 = pd.read_excel('team_specific_matrix/{}_B.xlsx'.format(team_B), index_col='Starting_State')\n",
    "\n",
    "        A_score = game_res.iloc[-1]['Home']\n",
    "        B_score = game_res.iloc[-1]['Away']\n",
    "        score = (A_score,B_score)\n",
    "\n",
    "        return matrix1, matrix2, score"
   ]
  },
  {
   "cell_type": "code",
   "execution_count": 4,
   "metadata": {},
   "outputs": [
    {
     "name": "stderr",
     "output_type": "stream",
     "text": [
      "100%|██████████| 5498/5498 [05:31<00:00, 16.57it/s]\n"
     ]
    }
   ],
   "source": [
    "#load game data\n",
    "ma_list = []\n",
    "mb_list = []\n",
    "output_list = []\n",
    "\n",
    "for game in tqdm(os.listdir('raw_game_pulls')):\n",
    "    a,b,c = pull_game_data(game)\n",
    "    ma_list.append(a)\n",
    "    mb_list.append(b)\n",
    "    output_list.append(c)"
   ]
  },
  {
   "cell_type": "code",
   "execution_count": null,
   "metadata": {},
   "outputs": [],
   "source": [
    "#going to zip these into dicts to access by game ID"
   ]
  },
  {
   "cell_type": "code",
   "execution_count": 22,
   "metadata": {},
   "outputs": [],
   "source": [
    "game_ids = []"
   ]
  },
  {
   "cell_type": "code",
   "execution_count": 23,
   "metadata": {},
   "outputs": [
    {
     "name": "stderr",
     "output_type": "stream",
     "text": [
      "100%|██████████| 5498/5498 [00:00<00:00, 1836594.73it/s]\n"
     ]
    }
   ],
   "source": [
    "for game in tqdm(os.listdir('raw_game_pulls')):\n",
    "    game_ids.append(game.split('_')[0])"
   ]
  },
  {
   "cell_type": "code",
   "execution_count": 25,
   "metadata": {},
   "outputs": [],
   "source": [
    "team_A_matrices_raw = dict(zip(game_ids, ma_list))\n",
    "team_B_matrices_raw = dict(zip(game_ids, mb_list))\n",
    "outputs_raw = dict(zip(game_ids, output_list))"
   ]
  },
  {
   "cell_type": "code",
   "execution_count": 5,
   "metadata": {},
   "outputs": [],
   "source": [
    "#transform regular output data into argmax array form\n",
    "arr_outputs = []\n",
    "for x in output_list:\n",
    "    value1, value2 = x\n",
    "\n",
    "    # Create numpy arrays\n",
    "    array1 = np.zeros(201)\n",
    "    array2 = np.zeros(201)\n",
    "\n",
    "    # Set the corresponding indices to 1\n",
    "    array1[value1 - 1] = 1\n",
    "    array2[value2 - 1] = 1 \n",
    "    arr_outputs.append((array1, array2))"
   ]
  },
  {
   "cell_type": "code",
   "execution_count": 26,
   "metadata": {},
   "outputs": [],
   "source": [
    "outputs_array = dict(zip(game_ids, arr_outputs))"
   ]
  },
  {
   "cell_type": "code",
   "execution_count": 6,
   "metadata": {},
   "outputs": [],
   "source": [
    "#normalize inputs ###############################################################################\n",
    "all_inputs=ma_list+mb_list\n",
    "\n",
    "arr = np.array([df.values for df in all_inputs])\n",
    "\n",
    "# Calculate mean and standard deviation across the first axis (which represents different DataFrames)\n",
    "avg = np.mean(arr, axis=0)\n",
    "std_dev = np.std(arr, axis=0)\n",
    "\n",
    "# Create DataFrames from the calculated arrays\n",
    "avg_df = pd.DataFrame(avg, index=all_inputs[0].index, columns=all_inputs[0].columns)\n",
    "std_dev_df = pd.DataFrame(std_dev, index=all_inputs[0].index, columns=all_inputs[0].columns)\n",
    "\n",
    "norm_inputs_a = []\n",
    "norm_inputs_b = []\n",
    "\n",
    "#Normalize each value in each matrix\n",
    "for matrix in ma_list:\n",
    "    normalized_matrix = (matrix - avg_df) / std_dev_df\n",
    "    normalized_matrix=normalized_matrix.fillna(0.)\n",
    "    norm_inputs_a.append(normalized_matrix)\n",
    "\n",
    "for matrix in mb_list:\n",
    "    normalized_matrix = (matrix - avg_df) / std_dev_df\n",
    "    normalized_matrix=normalized_matrix.fillna(0.)\n",
    "    norm_inputs_b.append(normalized_matrix)"
   ]
  },
  {
   "cell_type": "code",
   "execution_count": 27,
   "metadata": {},
   "outputs": [],
   "source": [
    "team_A_matrices_normal = dict(zip(game_ids, norm_inputs_a))\n",
    "team_B_matrices_normal = dict(zip(game_ids, norm_inputs_b))"
   ]
  },
  {
   "cell_type": "code",
   "execution_count": 30,
   "metadata": {},
   "outputs": [],
   "source": [
    "saved_sim_ids = [x.split('.')[0] for x in os.listdir('saved_sims_small')]"
   ]
  },
  {
   "cell_type": "code",
   "execution_count": 35,
   "metadata": {},
   "outputs": [],
   "source": [
    "simulated_scores = []\n",
    "for x in  os.listdir('saved_sims_small'):\n",
    "    with open('saved_sims_small/{}'.format(x), 'rb') as file:\n",
    "        data=pickle.load(file)\n",
    "        simulated_scores.append(data)"
   ]
  },
  {
   "cell_type": "code",
   "execution_count": 37,
   "metadata": {},
   "outputs": [],
   "source": [
    "simulated_scores_dict = dict(zip(saved_sim_ids, simulated_scores))"
   ]
  },
  {
   "cell_type": "code",
   "execution_count": 39,
   "metadata": {},
   "outputs": [],
   "source": [
    "train_index, test_index = train_test_split(list(simulated_scores_dict.keys()), test_size=0.2)"
   ]
  },
  {
   "cell_type": "code",
   "execution_count": 44,
   "metadata": {},
   "outputs": [],
   "source": []
  },
  {
   "cell_type": "code",
   "execution_count": 75,
   "metadata": {},
   "outputs": [],
   "source": [
    "#split on index for now, later will match with simulations\n",
    "\n",
    "#matrix_A_train is list of normalized input matrices used for training NN\n",
    "matrix_A_train = [team_A_matrices_normal[x] for x in train_index]\n",
    "matrix_B_train = [team_B_matrices_normal[x] for x in train_index]\n",
    "\n",
    "\n",
    "#y_train is training list of argmax formatted outputs\n",
    "y_train = [outputs_array[x] for x in train_index]\n",
    "\n",
    "#matrix_A_test is list of normalized input matrices used for testing NN\n",
    "matrix_A_test = [team_A_matrices_normal[x] for x in test_index]\n",
    "matrix_B_test = [team_B_matrices_normal[x] for x in test_index]\n",
    "\n",
    "#y_test is testing list of argmax formatted outputs\n",
    "y_test=[outputs_array[x] for x in test_index]\n",
    "\n",
    "final_scores_test = [outputs_raw[x] for x in test_index]"
   ]
  },
  {
   "cell_type": "code",
   "execution_count": null,
   "metadata": {},
   "outputs": [],
   "source": []
  },
  {
   "cell_type": "code",
   "execution_count": 47,
   "metadata": {},
   "outputs": [],
   "source": [
    "#do same as above for regular simulation testing - not normalized and no training data needed\n",
    "\n",
    "simulation_output_test = [simulated_scores_dict[x] for x in test_index]"
   ]
  },
  {
   "cell_type": "code",
   "execution_count": 50,
   "metadata": {},
   "outputs": [],
   "source": [
    "def test_nn_output(model, game_index, num_sims):\n",
    "    #Pull and Convert test matrices to numpy arrays\n",
    "    test_matrix_a_array = matrix_A_test[game_index].values.reshape(-1, 18, 18)\n",
    "    test_matrix_b_array = matrix_B_test[game_index].values.reshape(-1, 18, 18)\n",
    "\n",
    "    predictions = model.predict([test_matrix_a_array, test_matrix_b_array], verbose=0)\n",
    "\n",
    "    home_scores = np.random.choice(np.arange(1,202), num_sims, p=predictions[0][0])\n",
    "    away_scores = np.random.choice(np.arange(1,202), num_sims, p=predictions[1][0])\n",
    "\n",
    "    current_df = pd.DataFrame(zip(home_scores, away_scores), columns = ['Home','Away'])\n",
    "    current_df['Game']=game_index\n",
    "    return current_df"
   ]
  },
  {
   "cell_type": "code",
   "execution_count": 51,
   "metadata": {},
   "outputs": [],
   "source": [
    "#not working right now\n",
    "# Define custom loss function\n",
    "class Distance(Loss):\n",
    "    def call(self, y_true, y_pred):\n",
    "        # Reshape the input tensors if necessary\n",
    "        y_true_reshaped = tf.reshape(y_true, (-1, 201))  # Assuming 101 is the number of classes\n",
    "        y_pred_reshaped = tf.reshape(y_pred, (-1, 201))\n",
    "\n",
    "        # Compute the argmax operation with the correct axis\n",
    "        a_pred = tf.argmax(y_pred_reshaped[0], axis=1)\n",
    "        b_pred = tf.argmax(y_pred_reshaped[1], axis=1)\n",
    "\n",
    "        # Compute the argmax operation for the true labels as well\n",
    "        a_true = tf.argmax(y_true_reshaped[0], axis=1)\n",
    "        b_true = tf.argmax(y_true_reshaped[1], axis=1)\n",
    "\n",
    "        # Compute the loss based on the difference between predicted and true values\n",
    "\n",
    "        global loss\n",
    "        global egg\n",
    "        # egg = tf.reduce_mean(tf.math.square(y_pred - y_true), axis=-1)\n",
    "        loss = tf.sqrt(tf.cast(tf.square(a_true - a_pred), dtype=tf.float32) + tf.cast(tf.square(b_true - b_pred), dtype=tf.float32))\n",
    "        # return egg\n",
    "\n",
    "        return loss"
   ]
  },
  {
   "cell_type": "code",
   "execution_count": 52,
   "metadata": {},
   "outputs": [],
   "source": [
    "# #attempting to train with customized loss function\n",
    "# def custom_loss(y_true, y_pred,):\n",
    "#     # Reshape the input tensors if necessary\n",
    "#     y_true_reshaped = tf.reshape(y_true, (-1, 201))  # Assuming 101 is the number of classes\n",
    "#     y_pred_reshaped = tf.reshape(y_pred, (-1, 201))\n",
    "\n",
    "#     # Compute the argmax operation with the correct axis\n",
    "#     a_pred = tf.argmax(y_pred_reshaped[0], axis=1)\n",
    "#     b_pred = tf.argmax(y_pred_reshaped[1], axis=1)\n",
    "\n",
    "#     # Compute the argmax operation for the true labels as well\n",
    "#     a_true = tf.argmax(y_true_reshaped[0], axis=1)\n",
    "#     b_true = tf.argmax(y_true_reshaped[1], axis=1)\n",
    "\n",
    "#     # Compute the loss based on the difference between predicted and true values\n",
    "#     loss = tf.sqrt(tf.cast(tf.square(a_true - a_pred), dtype=tf.float32) + tf.cast(tf.square(b_true - b_pred), dtype=tf.float32))\n",
    "#     return loss"
   ]
  },
  {
   "cell_type": "code",
   "execution_count": null,
   "metadata": {},
   "outputs": [],
   "source": [
    "#variables list\n",
    "\n",
    "#ALL GAMES:\n",
    "#team_A_matrices_raw - dict of key: game_id, val: home team matrix\n",
    "#team_B_matrices_raw - dict of key: game_id, val: away team matrix\n",
    "#outputs_raw - dict of key: game_id, val: final score tuple\n",
    "#outputs_array - dict of key: game_id, val: array version of output (one-hot format)\n",
    "#team_A_matrices_normal - dict of key: game_id, val: normalized home team matrix\n",
    "#team_B_matrices_normal - dict of key: game_id, val: normalized away team matrix\n",
    "\n",
    "#saved_sim_ids - list of game IDS in simulated data\n",
    "#simulated_scores_dict - dict of key: game_id, val: list of 1000 score tuples\n",
    "\n",
    "#train_index, test_index - lists of game id's for training and testing\n",
    "\n",
    "#TRAINING GAMES:\n",
    "#matrix_A_train - list of normalized home team matrices for training\n",
    "#matrix_B_train - list of normalized away team matrices for training\n",
    "#y_train - list of one-hot outputs for training\n",
    "\n",
    "#TESTING GAMES:\n",
    "#matrix_A_test - list of normalized home team matrices for testing\n",
    "#matrix_B_test - list of normalized away team matrices for testing\n",
    "#y_test - list of one-hot outputs for testing\n",
    "\n",
    "#simulation_output_test - list of 1000 score tuples for testing\n",
    "#final_scores_test - "
   ]
  },
  {
   "cell_type": "code",
   "execution_count": 74,
   "metadata": {},
   "outputs": [],
   "source": [
    "# Define the neural network architecture\n",
    "def build_model():\n",
    "    input1 = layers.Input(shape=(18, 18))\n",
    "    input2 = layers.Input(shape=(18, 18))\n",
    "\n",
    "    flatten1 = layers.Flatten()(input1)\n",
    "    flatten2 = layers.Flatten()(input2)\n",
    "\n",
    "    concat = layers.Concatenate()([flatten1, flatten2])\n",
    "    dense1 = layers.Dense(200, activation='relu')(concat)\n",
    "    dense2 = layers.Dense(100, activation='relu')(dense1)\n",
    "\n",
    "    output1 = layers.Dense(201, activation='softmax', name='output1')(dense2)  # Adjust output dimension to match the range (150 - 50 + 1)\n",
    "    output2 = layers.Dense(201, activation='softmax', name='output2')(dense2)  # Adjust output dimension to match the range (150 - 50 + 1)\n",
    "\n",
    "    model = Model(inputs=[input1, input2], outputs=[output1, output2])\n",
    "    return model\n",
    "\n",
    "# Define your training function\n",
    "def train_model(matrixA_list, matrixB_list, output_tuple_list, epochs=10, batch_size=32):\n",
    "    # Convert DataFrame to numpy arrays\n",
    "    matrixA_array = np.array(matrixA_list)\n",
    "    matrixB_array = np.array(matrixB_list)\n",
    "    output_array = np.array(output_tuple_list)\n",
    "    \n",
    "    # Build the model\n",
    "    model = build_model()\n",
    "\n",
    "    # Compile the model\n",
    "    model.compile(optimizer='adam', loss='categorical_crossentropy', metrics=['accuracy'])\n",
    "\n",
    "    # Train the model\n",
    "    model.fit([matrixA_array, matrixB_array], [output_array[:, 0], output_array[:, 1]], epochs=epochs, batch_size=batch_size)\n",
    "    return model"
   ]
  },
  {
   "cell_type": "code",
   "execution_count": 54,
   "metadata": {},
   "outputs": [
    {
     "name": "stdout",
     "output_type": "stream",
     "text": [
      "Epoch 1/10\n",
      "69/69 [==============================] - 1s 3ms/step - loss: 9.0141 - output1_loss: 4.5553 - output2_loss: 4.4588 - output1_accuracy: 0.0289 - output2_accuracy: 0.0243  \n",
      "Epoch 2/10\n",
      "69/69 [==============================] - 0s 3ms/step - loss: 7.6878 - output1_loss: 3.8858 - output2_loss: 3.8020 - output1_accuracy: 0.0639 - output2_accuracy: 0.0673\n",
      "Epoch 3/10\n",
      "69/69 [==============================] - 0s 3ms/step - loss: 7.2923 - output1_loss: 3.6820 - output2_loss: 3.6104 - output1_accuracy: 0.0973 - output2_accuracy: 0.1051\n",
      "Epoch 4/10\n",
      "69/69 [==============================] - 0s 3ms/step - loss: 6.9376 - output1_loss: 3.4947 - output2_loss: 3.4429 - output1_accuracy: 0.1324 - output2_accuracy: 0.1367\n",
      "Epoch 5/10\n",
      "69/69 [==============================] - 0s 3ms/step - loss: 6.5993 - output1_loss: 3.3171 - output2_loss: 3.2821 - output1_accuracy: 0.1699 - output2_accuracy: 0.1733\n",
      "Epoch 6/10\n",
      "69/69 [==============================] - 0s 3ms/step - loss: 6.2564 - output1_loss: 3.1429 - output2_loss: 3.1135 - output1_accuracy: 0.2083 - output2_accuracy: 0.2095\n",
      "Epoch 7/10\n",
      "69/69 [==============================] - 0s 2ms/step - loss: 5.9417 - output1_loss: 2.9855 - output2_loss: 2.9562 - output1_accuracy: 0.2336 - output2_accuracy: 0.2440\n",
      "Epoch 8/10\n",
      "69/69 [==============================] - 0s 3ms/step - loss: 5.6312 - output1_loss: 2.8188 - output2_loss: 2.8124 - output1_accuracy: 0.2697 - output2_accuracy: 0.2684\n",
      "Epoch 9/10\n",
      "69/69 [==============================] - 0s 2ms/step - loss: 5.3221 - output1_loss: 2.6668 - output2_loss: 2.6552 - output1_accuracy: 0.3034 - output2_accuracy: 0.3075\n",
      "Epoch 10/10\n",
      "69/69 [==============================] - 0s 2ms/step - loss: 5.0463 - output1_loss: 2.5236 - output2_loss: 2.5227 - output1_accuracy: 0.3380 - output2_accuracy: 0.3252\n"
     ]
    }
   ],
   "source": [
    "m1 = train_model(matrix_A_train, matrix_B_train, y_train, 10, 64)"
   ]
  },
  {
   "cell_type": "code",
   "execution_count": 55,
   "metadata": {},
   "outputs": [
    {
     "name": "stderr",
     "output_type": "stream",
     "text": [
      "100%|██████████| 1100/1100 [00:44<00:00, 24.45it/s]\n"
     ]
    }
   ],
   "source": [
    "predicted_scores = []\n",
    "all_predictions_list = []\n",
    "for i in tqdm(range(len(matrix_A_test))):\n",
    "    # Convert test matrices to numpy arrays\n",
    "    test_matrix_a_array = matrix_A_test[i].values.reshape(-1, 18, 18)\n",
    "    test_matrix_b_array = matrix_B_test[i].values.reshape(-1, 18, 18)\n",
    "\n",
    "    # Make predictions using the model\n",
    "    predictions = m1.predict([test_matrix_a_array, test_matrix_b_array], verbose=0)\n",
    "    all_predictions_list.append(predictions)\n",
    "\n",
    "    predicted_score = (np.argmax(predictions[0]), np.argmax(predictions[1]))\n",
    "\n",
    "    predicted_scores.append(predicted_score)"
   ]
  },
  {
   "cell_type": "code",
   "execution_count": 13,
   "metadata": {},
   "outputs": [],
   "source": [
    "#design test for outputs - we have ~1200 test games\n",
    "#one approach - run simulation 10-100 times for each, find overall accuracy, test against argmax values\n",
    "#one approach - run simulation 10 times for each, run random weighted choice 10 times for each, compare"
   ]
  },
  {
   "cell_type": "code",
   "execution_count": 89,
   "metadata": {},
   "outputs": [],
   "source": [
    "def calc_dist(x1,x2,y1,y2):\n",
    "    return np.sqrt((x1-y1)**2 + (x2-y2)**2)\n",
    "\n",
    "def calc_ou(x1,x2,y1,y2):\n",
    "    return (y1+y2) - (x1+x2)\n",
    "\n",
    "def calc_winner(x1,x2,y1,y2):\n",
    "    return (x1>x2)==(y1>y2)\n",
    "\n",
    "def calc_score(data, var='Distance'):\n",
    "    if var == 'Distance':\n",
    "        func = np.vectorize(calc_dist)\n",
    "    elif var == 'OU':\n",
    "        func=np.vectorize(calc_ou)\n",
    "    elif var == 'Winner':\n",
    "        func=np.vectorize(calc_winner)\n",
    "\n",
    "    result = func(data['Real Home Score'],\n",
    "                    data['Real Away Score'],\n",
    "                    data['Projected Home Score'],\n",
    "                    data['Projected Away Score'])\n",
    "    return result"
   ]
  },
  {
   "cell_type": "code",
   "execution_count": 90,
   "metadata": {},
   "outputs": [
    {
     "name": "stderr",
     "output_type": "stream",
     "text": [
      "  0%|          | 0/1100 [00:00<?, ?it/s]"
     ]
    },
    {
     "name": "stderr",
     "output_type": "stream",
     "text": [
      "100%|██████████| 1100/1100 [00:01<00:00, 1017.63it/s]\n"
     ]
    }
   ],
   "source": [
    "data_list = []\n",
    "for g in tqdm(range(len(final_scores_test))):\n",
    "    real_score = final_scores_test[g]\n",
    "    current_1000 = simulation_output_test[g]\n",
    "    current_df = pd.DataFrame(current_1000, columns=['Projected Home Score','Projected Away Score'])\n",
    "    current_df['Game'] = g\n",
    "    current_df['Real Home Score'] = real_score[0]\n",
    "    current_df['Real Away Score'] = real_score[1]\n",
    "    data_list.append(current_df)\n",
    "testing_dataframe = pd.concat(data_list).reset_index(drop=True)"
   ]
  },
  {
   "cell_type": "code",
   "execution_count": 93,
   "metadata": {},
   "outputs": [],
   "source": [
    "testing_dataframe['Distance'] = calc_score(testing_dataframe)"
   ]
  },
  {
   "cell_type": "code",
   "execution_count": 94,
   "metadata": {},
   "outputs": [],
   "source": [
    "testing_dataframe['OU'] = calc_score(testing_dataframe, 'OU')"
   ]
  },
  {
   "cell_type": "code",
   "execution_count": 95,
   "metadata": {},
   "outputs": [],
   "source": [
    "testing_dataframe['Winner'] = calc_score(testing_dataframe, 'Winner')"
   ]
  },
  {
   "cell_type": "code",
   "execution_count": 96,
   "metadata": {},
   "outputs": [
    {
     "data": {
      "text/html": [
       "<div>\n",
       "<style scoped>\n",
       "    .dataframe tbody tr th:only-of-type {\n",
       "        vertical-align: middle;\n",
       "    }\n",
       "\n",
       "    .dataframe tbody tr th {\n",
       "        vertical-align: top;\n",
       "    }\n",
       "\n",
       "    .dataframe thead th {\n",
       "        text-align: right;\n",
       "    }\n",
       "</style>\n",
       "<table border=\"1\" class=\"dataframe\">\n",
       "  <thead>\n",
       "    <tr style=\"text-align: right;\">\n",
       "      <th></th>\n",
       "      <th>Projected Home Score</th>\n",
       "      <th>Projected Away Score</th>\n",
       "      <th>Game</th>\n",
       "      <th>Real Home Score</th>\n",
       "      <th>Real Away Score</th>\n",
       "      <th>Distance</th>\n",
       "      <th>OU</th>\n",
       "      <th>Winner</th>\n",
       "    </tr>\n",
       "  </thead>\n",
       "  <tbody>\n",
       "    <tr>\n",
       "      <th>0</th>\n",
       "      <td>94</td>\n",
       "      <td>79</td>\n",
       "      <td>0</td>\n",
       "      <td>83</td>\n",
       "      <td>75</td>\n",
       "      <td>11.704700</td>\n",
       "      <td>15</td>\n",
       "      <td>True</td>\n",
       "    </tr>\n",
       "    <tr>\n",
       "      <th>1</th>\n",
       "      <td>91</td>\n",
       "      <td>74</td>\n",
       "      <td>0</td>\n",
       "      <td>83</td>\n",
       "      <td>75</td>\n",
       "      <td>8.062258</td>\n",
       "      <td>7</td>\n",
       "      <td>True</td>\n",
       "    </tr>\n",
       "    <tr>\n",
       "      <th>2</th>\n",
       "      <td>89</td>\n",
       "      <td>80</td>\n",
       "      <td>0</td>\n",
       "      <td>83</td>\n",
       "      <td>75</td>\n",
       "      <td>7.810250</td>\n",
       "      <td>11</td>\n",
       "      <td>True</td>\n",
       "    </tr>\n",
       "    <tr>\n",
       "      <th>3</th>\n",
       "      <td>78</td>\n",
       "      <td>70</td>\n",
       "      <td>0</td>\n",
       "      <td>83</td>\n",
       "      <td>75</td>\n",
       "      <td>7.071068</td>\n",
       "      <td>-10</td>\n",
       "      <td>True</td>\n",
       "    </tr>\n",
       "    <tr>\n",
       "      <th>4</th>\n",
       "      <td>73</td>\n",
       "      <td>66</td>\n",
       "      <td>0</td>\n",
       "      <td>83</td>\n",
       "      <td>75</td>\n",
       "      <td>13.453624</td>\n",
       "      <td>-19</td>\n",
       "      <td>True</td>\n",
       "    </tr>\n",
       "    <tr>\n",
       "      <th>...</th>\n",
       "      <td>...</td>\n",
       "      <td>...</td>\n",
       "      <td>...</td>\n",
       "      <td>...</td>\n",
       "      <td>...</td>\n",
       "      <td>...</td>\n",
       "      <td>...</td>\n",
       "      <td>...</td>\n",
       "    </tr>\n",
       "    <tr>\n",
       "      <th>1099995</th>\n",
       "      <td>94</td>\n",
       "      <td>92</td>\n",
       "      <td>1099</td>\n",
       "      <td>78</td>\n",
       "      <td>80</td>\n",
       "      <td>20.000000</td>\n",
       "      <td>28</td>\n",
       "      <td>False</td>\n",
       "    </tr>\n",
       "    <tr>\n",
       "      <th>1099996</th>\n",
       "      <td>75</td>\n",
       "      <td>80</td>\n",
       "      <td>1099</td>\n",
       "      <td>78</td>\n",
       "      <td>80</td>\n",
       "      <td>3.000000</td>\n",
       "      <td>-3</td>\n",
       "      <td>True</td>\n",
       "    </tr>\n",
       "    <tr>\n",
       "      <th>1099997</th>\n",
       "      <td>93</td>\n",
       "      <td>88</td>\n",
       "      <td>1099</td>\n",
       "      <td>78</td>\n",
       "      <td>80</td>\n",
       "      <td>17.000000</td>\n",
       "      <td>23</td>\n",
       "      <td>False</td>\n",
       "    </tr>\n",
       "    <tr>\n",
       "      <th>1099998</th>\n",
       "      <td>85</td>\n",
       "      <td>69</td>\n",
       "      <td>1099</td>\n",
       "      <td>78</td>\n",
       "      <td>80</td>\n",
       "      <td>13.038405</td>\n",
       "      <td>-4</td>\n",
       "      <td>False</td>\n",
       "    </tr>\n",
       "    <tr>\n",
       "      <th>1099999</th>\n",
       "      <td>89</td>\n",
       "      <td>78</td>\n",
       "      <td>1099</td>\n",
       "      <td>78</td>\n",
       "      <td>80</td>\n",
       "      <td>11.180340</td>\n",
       "      <td>9</td>\n",
       "      <td>False</td>\n",
       "    </tr>\n",
       "  </tbody>\n",
       "</table>\n",
       "<p>1100000 rows × 8 columns</p>\n",
       "</div>"
      ],
      "text/plain": [
       "         Projected Home Score  Projected Away Score  Game  Real Home Score  \\\n",
       "0                          94                    79     0               83   \n",
       "1                          91                    74     0               83   \n",
       "2                          89                    80     0               83   \n",
       "3                          78                    70     0               83   \n",
       "4                          73                    66     0               83   \n",
       "...                       ...                   ...   ...              ...   \n",
       "1099995                    94                    92  1099               78   \n",
       "1099996                    75                    80  1099               78   \n",
       "1099997                    93                    88  1099               78   \n",
       "1099998                    85                    69  1099               78   \n",
       "1099999                    89                    78  1099               78   \n",
       "\n",
       "         Real Away Score   Distance  OU  Winner  \n",
       "0                     75  11.704700  15    True  \n",
       "1                     75   8.062258   7    True  \n",
       "2                     75   7.810250  11    True  \n",
       "3                     75   7.071068 -10    True  \n",
       "4                     75  13.453624 -19    True  \n",
       "...                  ...        ...  ..     ...  \n",
       "1099995               80  20.000000  28   False  \n",
       "1099996               80   3.000000  -3    True  \n",
       "1099997               80  17.000000  23   False  \n",
       "1099998               80  13.038405  -4   False  \n",
       "1099999               80  11.180340   9   False  \n",
       "\n",
       "[1100000 rows x 8 columns]"
      ]
     },
     "execution_count": 96,
     "metadata": {},
     "output_type": "execute_result"
    }
   ],
   "source": [
    "testing_dataframe"
   ]
  },
  {
   "cell_type": "code",
   "execution_count": 97,
   "metadata": {},
   "outputs": [],
   "source": [
    "testing_df_grouped = testing_dataframe.groupby('Game')[['Distance','OU','Winner']].mean().reset_index()"
   ]
  },
  {
   "cell_type": "code",
   "execution_count": 98,
   "metadata": {},
   "outputs": [
    {
     "data": {
      "text/html": [
       "<div>\n",
       "<style scoped>\n",
       "    .dataframe tbody tr th:only-of-type {\n",
       "        vertical-align: middle;\n",
       "    }\n",
       "\n",
       "    .dataframe tbody tr th {\n",
       "        vertical-align: top;\n",
       "    }\n",
       "\n",
       "    .dataframe thead th {\n",
       "        text-align: right;\n",
       "    }\n",
       "</style>\n",
       "<table border=\"1\" class=\"dataframe\">\n",
       "  <thead>\n",
       "    <tr style=\"text-align: right;\">\n",
       "      <th></th>\n",
       "      <th>Game</th>\n",
       "      <th>Distance</th>\n",
       "      <th>OU</th>\n",
       "      <th>Winner</th>\n",
       "    </tr>\n",
       "  </thead>\n",
       "  <tbody>\n",
       "    <tr>\n",
       "      <th>0</th>\n",
       "      <td>0</td>\n",
       "      <td>14.041345</td>\n",
       "      <td>-0.360</td>\n",
       "      <td>0.458</td>\n",
       "    </tr>\n",
       "    <tr>\n",
       "      <th>1</th>\n",
       "      <td>1</td>\n",
       "      <td>28.352138</td>\n",
       "      <td>36.388</td>\n",
       "      <td>0.470</td>\n",
       "    </tr>\n",
       "    <tr>\n",
       "      <th>2</th>\n",
       "      <td>2</td>\n",
       "      <td>18.996364</td>\n",
       "      <td>-1.791</td>\n",
       "      <td>0.630</td>\n",
       "    </tr>\n",
       "    <tr>\n",
       "      <th>3</th>\n",
       "      <td>3</td>\n",
       "      <td>21.739224</td>\n",
       "      <td>24.644</td>\n",
       "      <td>0.436</td>\n",
       "    </tr>\n",
       "    <tr>\n",
       "      <th>4</th>\n",
       "      <td>4</td>\n",
       "      <td>17.832521</td>\n",
       "      <td>18.861</td>\n",
       "      <td>0.584</td>\n",
       "    </tr>\n",
       "    <tr>\n",
       "      <th>...</th>\n",
       "      <td>...</td>\n",
       "      <td>...</td>\n",
       "      <td>...</td>\n",
       "      <td>...</td>\n",
       "    </tr>\n",
       "    <tr>\n",
       "      <th>1095</th>\n",
       "      <td>1095</td>\n",
       "      <td>21.968424</td>\n",
       "      <td>25.455</td>\n",
       "      <td>0.574</td>\n",
       "    </tr>\n",
       "    <tr>\n",
       "      <th>1096</th>\n",
       "      <td>1096</td>\n",
       "      <td>14.624220</td>\n",
       "      <td>12.438</td>\n",
       "      <td>0.640</td>\n",
       "    </tr>\n",
       "    <tr>\n",
       "      <th>1097</th>\n",
       "      <td>1097</td>\n",
       "      <td>30.693374</td>\n",
       "      <td>40.145</td>\n",
       "      <td>0.672</td>\n",
       "    </tr>\n",
       "    <tr>\n",
       "      <th>1098</th>\n",
       "      <td>1098</td>\n",
       "      <td>14.179585</td>\n",
       "      <td>-3.287</td>\n",
       "      <td>0.507</td>\n",
       "    </tr>\n",
       "    <tr>\n",
       "      <th>1099</th>\n",
       "      <td>1099</td>\n",
       "      <td>13.774313</td>\n",
       "      <td>7.138</td>\n",
       "      <td>0.459</td>\n",
       "    </tr>\n",
       "  </tbody>\n",
       "</table>\n",
       "<p>1100 rows × 4 columns</p>\n",
       "</div>"
      ],
      "text/plain": [
       "      Game   Distance      OU  Winner\n",
       "0        0  14.041345  -0.360   0.458\n",
       "1        1  28.352138  36.388   0.470\n",
       "2        2  18.996364  -1.791   0.630\n",
       "3        3  21.739224  24.644   0.436\n",
       "4        4  17.832521  18.861   0.584\n",
       "...    ...        ...     ...     ...\n",
       "1095  1095  21.968424  25.455   0.574\n",
       "1096  1096  14.624220  12.438   0.640\n",
       "1097  1097  30.693374  40.145   0.672\n",
       "1098  1098  14.179585  -3.287   0.507\n",
       "1099  1099  13.774313   7.138   0.459\n",
       "\n",
       "[1100 rows x 4 columns]"
      ]
     },
     "execution_count": 98,
     "metadata": {},
     "output_type": "execute_result"
    }
   ],
   "source": [
    "testing_df_grouped"
   ]
  },
  {
   "cell_type": "code",
   "execution_count": 102,
   "metadata": {},
   "outputs": [
    {
     "data": {
      "image/png": "[encoded data removed]",
      "text/plain": [
       "<Figure size 640x480 with 1 Axes>"
      ]
     },
     "metadata": {},
     "output_type": "display_data"
    }
   ],
   "source": [
    "plt.boxplot(testing_df_grouped['Winner']);"
   ]
  },
  {
   "cell_type": "code",
   "execution_count": null,
   "metadata": {},
   "outputs": [],
   "source": []
  },
  {
   "cell_type": "code",
   "execution_count": null,
   "metadata": {},
   "outputs": [],
   "source": []
  },
  {
   "cell_type": "code",
   "execution_count": null,
   "metadata": {},
   "outputs": [],
   "source": []
  },
  {
   "cell_type": "code",
   "execution_count": null,
   "metadata": {},
   "outputs": [],
   "source": []
  },
  {
   "cell_type": "code",
   "execution_count": null,
   "metadata": {},
   "outputs": [],
   "source": []
  },
  {
   "cell_type": "code",
   "execution_count": 81,
   "metadata": {},
   "outputs": [],
   "source": [
    "real_results = real_results.rename(columns={'Home':'Real Home Score',\n",
    "                                                    'Away':'Real Away Score'})"
   ]
  },
  {
   "cell_type": "code",
   "execution_count": 82,
   "metadata": {},
   "outputs": [],
   "source": [
    "sim_results = sim_results.rename(columns={'Home':'Projected Home Score',\n",
    "                                                    'Away':'Projected Away Score'})"
   ]
  },
  {
   "cell_type": "code",
   "execution_count": 83,
   "metadata": {},
   "outputs": [],
   "source": [
    "#now random choice NN results\n",
    "nn_results = pd.DataFrame()\n",
    "for g in games_to_test:\n",
    "    #locate teams to find matrices\n",
    "    current_df = test_nn_output(m1, g, 100)\n",
    "    nn_results=pd.concat([nn_results,current_df])"
   ]
  },
  {
   "cell_type": "code",
   "execution_count": 162,
   "metadata": {},
   "outputs": [],
   "source": [
    "#now argmax nn results\n",
    "nn_results_best = pd.DataFrame()\n",
    "for g in games_to_test:\n",
    "    test_matrix_a_array = matrix_A_test[g].values.reshape(-1, 18, 18)\n",
    "    test_matrix_b_array = matrix_B_test[g].values.reshape(-1, 18, 18)\n",
    "\n",
    "    predictions = m1.predict([test_matrix_a_array, test_matrix_b_array], verbose=0)\n",
    "\n",
    "    predicted_score = (np.argmax(predictions[0]), np.argmax(predictions[1]))\n",
    "    current_df = pd.DataFrame([predicted_score], columns = ['Projected Home Score','Projected Away Score'])\n",
    "    current_df['Game']=g\n",
    "    nn_results_best=pd.concat([nn_results_best,current_df])"
   ]
  },
  {
   "cell_type": "code",
   "execution_count": 85,
   "metadata": {},
   "outputs": [],
   "source": [
    "nn_results=nn_results.rename(columns={'Home':'Projected Home Score',\n",
    "                                                    'Away':'Projected Away Score'})"
   ]
  },
  {
   "cell_type": "code",
   "execution_count": 165,
   "metadata": {},
   "outputs": [],
   "source": [
    "merged_results_dict = dict()"
   ]
  },
  {
   "cell_type": "code",
   "execution_count": 167,
   "metadata": {},
   "outputs": [],
   "source": [
    "models = ['Sim', 'NN1', 'NN Best']\n"
   ]
  },
  {
   "cell_type": "code",
   "execution_count": null,
   "metadata": {},
   "outputs": [],
   "source": []
  },
  {
   "cell_type": "code",
   "execution_count": 195,
   "metadata": {},
   "outputs": [],
   "source": [
    "merged_results_dict['Sim'] = real_results.merge(sim_results, on='Game', how='right')\n",
    "merged_results_dict['NN1'] = real_results.merge(nn_results, on='Game', how='right')\n",
    "merged_results_dict['NN Best'] = real_results.merge(nn_results_best, on='Game', how='right')\n",
    "\n",
    "merged_results_list = list(merged_results_dict.values())"
   ]
  },
  {
   "cell_type": "code",
   "execution_count": 196,
   "metadata": {},
   "outputs": [],
   "source": [
    "for m in merged_results_list:\n",
    "    m['Distance Score'] = calc_score(m, 'Distance')\n",
    "    m['OU Score'] = calc_score(m, 'OU')\n",
    "    m['Winner Score'] = calc_score(m, 'Winner')"
   ]
  },
  {
   "cell_type": "code",
   "execution_count": 197,
   "metadata": {},
   "outputs": [],
   "source": [
    "grouped_data_dict = dict()"
   ]
  },
  {
   "cell_type": "code",
   "execution_count": 198,
   "metadata": {},
   "outputs": [],
   "source": [
    "for m in range(len(models)):\n",
    "    grouped_data_dict[models[m]] = merged_results_list[m][['Game','Distance Score','OU Score', 'Winner Score']]\\\n",
    "    .groupby('Game').mean().reset_index()"
   ]
  },
  {
   "cell_type": "code",
   "execution_count": 199,
   "metadata": {},
   "outputs": [],
   "source": [
    "p1_data = pd.DataFrame()\n",
    "p2_data = pd.DataFrame()\n",
    "p3_data = pd.DataFrame()\n",
    "\n",
    "for m in models:\n",
    "    data=grouped_data_dict[m]\n",
    "    p1_data[m] = data['Distance Score']\n",
    "    p2_data[m] = data['OU Score']\n",
    "    p3_data[m] = data['Winner Score']\n",
    "\n",
    "p1_data=p1_data.melt()\n",
    "p2_data=p2_data.melt()\n",
    "p3_data=p3_data.melt()"
   ]
  },
  {
   "cell_type": "code",
   "execution_count": 200,
   "metadata": {},
   "outputs": [
    {
     "data": {
      "text/plain": [
       "<AxesSubplot:xlabel='variable', ylabel='value'>"
      ]
     },
     "execution_count": 200,
     "metadata": {},
     "output_type": "execute_result"
    },
    {
     "data": {
      "image/png": "[encoded data removed]",
      "text/plain": [
       "<Figure size 800x800 with 1 Axes>"
      ]
     },
     "metadata": {},
     "output_type": "display_data"
    }
   ],
   "source": [
    "fig, ax=plt.subplots(figsize=(8,8))\n",
    "sns.boxplot(x='variable', y='value', data=p1_data)"
   ]
  },
  {
   "cell_type": "code",
   "execution_count": 201,
   "metadata": {},
   "outputs": [
    {
     "data": {
      "text/plain": [
       "[<matplotlib.lines.Line2D at 0x210a5874ee0>]"
      ]
     },
     "execution_count": 201,
     "metadata": {},
     "output_type": "execute_result"
    },
    {
     "data": {
      "image/png": "[encoded data removed]",
      "text/plain": [
       "<Figure size 800x800 with 1 Axes>"
      ]
     },
     "metadata": {},
     "output_type": "display_data"
    }
   ],
   "source": [
    "fig, ax=plt.subplots(figsize=(8,8))\n",
    "sns.boxplot(x='variable', y='value', data=p2_data, )\n",
    "plt.plot(np.linspace(-0.5,2.5,100), np.repeat(0,100), color = 'black', linestyle='--', alpha=0.2)"
   ]
  },
  {
   "cell_type": "code",
   "execution_count": 206,
   "metadata": {},
   "outputs": [
    {
     "data": {
      "text/plain": [
       "[<matplotlib.lines.Line2D at 0x210b6a15e80>]"
      ]
     },
     "execution_count": 206,
     "metadata": {},
     "output_type": "execute_result"
    },
    {
     "data": {
      "image/png": "[encoded data removed]",
      "text/plain": [
       "<Figure size 800x800 with 1 Axes>"
      ]
     },
     "metadata": {},
     "output_type": "display_data"
    }
   ],
   "source": [
    "fig, ax=plt.subplots(figsize=(8,8))\n",
    "sns.boxplot(x='variable', y='value', data=p3_data[p3_data['variable']!='NN Best'])\n",
    "plt.plot(np.linspace(-0.5,1.5,100),\n",
    "          np.repeat(p3_data[p3_data['variable']=='NN Best']['value'].mean(),100),\n",
    "          color = 'black', linestyle='--', alpha=0.2)"
   ]
  },
  {
   "cell_type": "code",
   "execution_count": 203,
   "metadata": {},
   "outputs": [
    {
     "data": {
      "text/html": [
       "<div>\n",
       "<style scoped>\n",
       "    .dataframe tbody tr th:only-of-type {\n",
       "        vertical-align: middle;\n",
       "    }\n",
       "\n",
       "    .dataframe tbody tr th {\n",
       "        vertical-align: top;\n",
       "    }\n",
       "\n",
       "    .dataframe thead th {\n",
       "        text-align: right;\n",
       "    }\n",
       "</style>\n",
       "<table border=\"1\" class=\"dataframe\">\n",
       "  <thead>\n",
       "    <tr style=\"text-align: right;\">\n",
       "      <th></th>\n",
       "      <th>variable</th>\n",
       "      <th>value</th>\n",
       "    </tr>\n",
       "  </thead>\n",
       "  <tbody>\n",
       "    <tr>\n",
       "      <th>0</th>\n",
       "      <td>Sim</td>\n",
       "      <td>0.68</td>\n",
       "    </tr>\n",
       "    <tr>\n",
       "      <th>1</th>\n",
       "      <td>Sim</td>\n",
       "      <td>0.43</td>\n",
       "    </tr>\n",
       "    <tr>\n",
       "      <th>2</th>\n",
       "      <td>Sim</td>\n",
       "      <td>0.72</td>\n",
       "    </tr>\n",
       "    <tr>\n",
       "      <th>3</th>\n",
       "      <td>Sim</td>\n",
       "      <td>0.80</td>\n",
       "    </tr>\n",
       "    <tr>\n",
       "      <th>4</th>\n",
       "      <td>Sim</td>\n",
       "      <td>0.55</td>\n",
       "    </tr>\n",
       "    <tr>\n",
       "      <th>...</th>\n",
       "      <td>...</td>\n",
       "      <td>...</td>\n",
       "    </tr>\n",
       "    <tr>\n",
       "      <th>295</th>\n",
       "      <td>NN Best</td>\n",
       "      <td>1.00</td>\n",
       "    </tr>\n",
       "    <tr>\n",
       "      <th>296</th>\n",
       "      <td>NN Best</td>\n",
       "      <td>1.00</td>\n",
       "    </tr>\n",
       "    <tr>\n",
       "      <th>297</th>\n",
       "      <td>NN Best</td>\n",
       "      <td>1.00</td>\n",
       "    </tr>\n",
       "    <tr>\n",
       "      <th>298</th>\n",
       "      <td>NN Best</td>\n",
       "      <td>0.00</td>\n",
       "    </tr>\n",
       "    <tr>\n",
       "      <th>299</th>\n",
       "      <td>NN Best</td>\n",
       "      <td>1.00</td>\n",
       "    </tr>\n",
       "  </tbody>\n",
       "</table>\n",
       "<p>300 rows × 2 columns</p>\n",
       "</div>"
      ],
      "text/plain": [
       "    variable  value\n",
       "0        Sim   0.68\n",
       "1        Sim   0.43\n",
       "2        Sim   0.72\n",
       "3        Sim   0.80\n",
       "4        Sim   0.55\n",
       "..       ...    ...\n",
       "295  NN Best   1.00\n",
       "296  NN Best   1.00\n",
       "297  NN Best   1.00\n",
       "298  NN Best   0.00\n",
       "299  NN Best   1.00\n",
       "\n",
       "[300 rows x 2 columns]"
      ]
     },
     "execution_count": 203,
     "metadata": {},
     "output_type": "execute_result"
    }
   ],
   "source": [
    "p3_data"
   ]
  },
  {
   "cell_type": "code",
   "execution_count": 84,
   "metadata": {},
   "outputs": [
    {
     "data": {
      "text/plain": [
       "0.5319320937752627"
      ]
     },
     "execution_count": 84,
     "metadata": {},
     "output_type": "execute_result"
    }
   ],
   "source": [
    "merged_results['Simulation Winner Score'].mean()"
   ]
  },
  {
   "cell_type": "code",
   "execution_count": 85,
   "metadata": {},
   "outputs": [
    {
     "data": {
      "text/plain": [
       "0.5901374292643492"
      ]
     },
     "execution_count": 85,
     "metadata": {},
     "output_type": "execute_result"
    }
   ],
   "source": [
    "merged_results['NN Winner Score'].mean()"
   ]
  },
  {
   "cell_type": "code",
   "execution_count": 43,
   "metadata": {},
   "outputs": [
    {
     "data": {
      "text/plain": [
       "2"
      ]
     },
     "execution_count": 43,
     "metadata": {},
     "output_type": "execute_result"
    }
   ],
   "source": [
    "len(predictions)"
   ]
  },
  {
   "cell_type": "code",
   "execution_count": 32,
   "metadata": {},
   "outputs": [
    {
     "data": {
      "text/plain": [
       "(65, 90)"
      ]
     },
     "execution_count": 32,
     "metadata": {},
     "output_type": "execute_result"
    }
   ],
   "source": [
    "game_res"
   ]
  },
  {
   "cell_type": "code",
   "execution_count": 47,
   "metadata": {},
   "outputs": [],
   "source": [
    "res=np.random.choice(np.arange(1,202), 1, p=predictions[0][0])"
   ]
  },
  {
   "cell_type": "code",
   "execution_count": 48,
   "metadata": {},
   "outputs": [
    {
     "data": {
      "text/plain": [
       "array([66])"
      ]
     },
     "execution_count": 48,
     "metadata": {},
     "output_type": "execute_result"
    }
   ],
   "source": [
    "res"
   ]
  },
  {
   "cell_type": "code",
   "execution_count": 17,
   "metadata": {},
   "outputs": [],
   "source": [
    "combined_matrix = combine_team_matrix(matrix1, matrix2)"
   ]
  },
  {
   "cell_type": "code",
   "execution_count": null,
   "metadata": {},
   "outputs": [],
   "source": []
  },
  {
   "cell_type": "code",
   "execution_count": null,
   "metadata": {},
   "outputs": [],
   "source": []
  },
  {
   "cell_type": "code",
   "execution_count": null,
   "metadata": {},
   "outputs": [],
   "source": []
  },
  {
   "cell_type": "code",
   "execution_count": null,
   "metadata": {},
   "outputs": [],
   "source": []
  },
  {
   "cell_type": "code",
   "execution_count": null,
   "metadata": {},
   "outputs": [],
   "source": []
  },
  {
   "cell_type": "code",
   "execution_count": null,
   "metadata": {},
   "outputs": [],
   "source": []
  },
  {
   "cell_type": "code",
   "execution_count": null,
   "metadata": {},
   "outputs": [],
   "source": []
  },
  {
   "cell_type": "code",
   "execution_count": null,
   "metadata": {},
   "outputs": [],
   "source": []
  },
  {
   "cell_type": "code",
   "execution_count": null,
   "metadata": {},
   "outputs": [],
   "source": []
  },
  {
   "cell_type": "code",
   "execution_count": null,
   "metadata": {},
   "outputs": [],
   "source": []
  },
  {
   "cell_type": "code",
   "execution_count": null,
   "metadata": {},
   "outputs": [],
   "source": [
    "##### OLD CODE BELOW FOR SECOND NN ARCHITECTURE - MAY REVISIT LATER"
   ]
  },
  {
   "cell_type": "code",
   "execution_count": 92,
   "metadata": {},
   "outputs": [
    {
     "data": {
      "text/plain": [
       "108"
      ]
     },
     "execution_count": 92,
     "metadata": {},
     "output_type": "execute_result"
    }
   ],
   "source": [
    "res.max()"
   ]
  },
  {
   "cell_type": "code",
   "execution_count": 51,
   "metadata": {},
   "outputs": [
    {
     "data": {
      "text/plain": [
       "201"
      ]
     },
     "execution_count": 51,
     "metadata": {},
     "output_type": "execute_result"
    }
   ],
   "source": [
    "len(predictions[0][0])"
   ]
  },
  {
   "cell_type": "code",
   "execution_count": 43,
   "metadata": {},
   "outputs": [],
   "source": [
    "real_scores = output_list[4000:]"
   ]
  },
  {
   "cell_type": "code",
   "execution_count": 44,
   "metadata": {},
   "outputs": [
    {
     "data": {
      "text/plain": [
       "15.26440597207573"
      ]
     },
     "execution_count": 44,
     "metadata": {},
     "output_type": "execute_result"
    }
   ],
   "source": [
    "accuracy_distance(predicted_scores,real_scores)"
   ]
  },
  {
   "cell_type": "code",
   "execution_count": 60,
   "metadata": {},
   "outputs": [],
   "source": [
    "def build_regularized_model():\n",
    "    input1 = layers.Input(shape=(18, 18))\n",
    "    input2 = layers.Input(shape=(18, 18))\n",
    "\n",
    "    flatten1 = layers.Flatten()(input1)\n",
    "    flatten2 = layers.Flatten()(input2)\n",
    "\n",
    "    concat = layers.Concatenate()([flatten1, flatten2])\n",
    "    \n",
    "    # Wide sparse layers with L1 regularization\n",
    "    dense1 = layers.Dense(512, activation='relu', kernel_regularizer=regularizers.l1(0.01))(concat)\n",
    "    dropout1 = layers.Dropout(0.5)(dense1)\n",
    "    \n",
    "    dense2 = layers.Dense(256, activation='sigmoid', kernel_regularizer=regularizers.l1(0.01))(dropout1)\n",
    "    dropout2 = layers.Dropout(0.5)(dense2)\n",
    "\n",
    "    # Wide sparse layers with L1 regularization\n",
    "    dense3 = layers.Dense(2048, activation='relu', kernel_regularizer=regularizers.l1(0.01))(dropout2)\n",
    "    dropout3 = layers.Dropout(0.5)(dense2)\n",
    "    \n",
    "    dense4 = layers.Dense(64, activation='sigmoid', kernel_regularizer=regularizers.l1(0.01))(dropout3)\n",
    "    dropout4 = layers.Dropout(0.5)(dense3)\n",
    "\n",
    "    d5=layers.Dense(102377, activation='sigmoid')(dense4)\n",
    "    d6=layers.Dense(219, activation='sigmoid')(d5)\n",
    "    d7=layers.Dense(23456, activation='relu')(d6)\n",
    "    d8=layers.Dense(129, activation='softmax')(d7)\n",
    "    d9=layers.Dense(32, activation='sigmoid')(d8)\n",
    "\n",
    "    output1 = layers.Dense(201, activation='softmax', name='output1')(d9)  # Adjust output dimension to match the range (150 - 50 + 1)\n",
    "    output2 = layers.Dense(201, activation='softmax', name='output2')(d9)  # Adjust output dimension to match the range (150 - 50 + 1)\n",
    "\n",
    "    model = Model(inputs=[input1, input2], outputs=[output1, output2])\n",
    "    return model"
   ]
  },
  {
   "cell_type": "code",
   "execution_count": 139,
   "metadata": {},
   "outputs": [],
   "source": []
  },
  {
   "cell_type": "code",
   "execution_count": 140,
   "metadata": {},
   "outputs": [],
   "source": [
    "def train_model_2(matrixA_list, matrixB_list, output_tuple_list, epochs=10, batch_size=32):\n",
    "    # Convert DataFrame to numpy arrays\n",
    "    matrixA_array = np.array(matrixA_list)\n",
    "    matrixB_array = np.array(matrixB_list)\n",
    "    output_array = np.array(output_tuple_list)\n",
    "    \n",
    "    # Build the model\n",
    "    model = build_regularized_model()\n",
    "\n",
    "    # Compile the model\n",
    "    model.compile(optimizer='adam', loss=custom_loss, metrics=['accuracy'])\n",
    "\n",
    "    # Train the model\n",
    "    model.fit([matrixA_array, matrixB_array], [output_array[:, 0], output_array[:, 1]], epochs=epochs, batch_size=batch_size)\n",
    "    return model"
   ]
  },
  {
   "cell_type": "code",
   "execution_count": null,
   "metadata": {},
   "outputs": [],
   "source": [
    "m2 = train_model_2(matrix_A_train, matrix_B_train, y_train, 10, 64)"
   ]
  },
  {
   "cell_type": "code",
   "execution_count": 126,
   "metadata": {},
   "outputs": [
    {
     "data": {
      "text/plain": [
       "<tf.Tensor 'IteratorGetNext:3' shape=(None, 201) dtype=float32>"
      ]
     },
     "execution_count": 126,
     "metadata": {},
     "output_type": "execute_result"
    }
   ],
   "source": [
    "a"
   ]
  },
  {
   "cell_type": "code",
   "execution_count": 111,
   "metadata": {},
   "outputs": [
    {
     "name": "stderr",
     "output_type": "stream",
     "text": [
      "100%|██████████| 10/10 [00:00<00:00, 18.60it/s]\n"
     ]
    }
   ],
   "source": [
    "predicted_scores_2 = []\n",
    "for i in tqdm.tqdm(range(len(matrix_A_test))[:10]):\n",
    "    # Convert test matrices to numpy arrays\n",
    "    test_matrix_a_array = matrix_A_test[i].values.reshape(-1, 18, 18)\n",
    "    test_matrix_b_array = matrix_B_test[i].values.reshape(-1, 18, 18)\n",
    "\n",
    "    # Make predictions using the model\n",
    "    predictions = m2.predict([test_matrix_a_array, test_matrix_b_array], verbose=0)\n",
    "\n",
    "    predicted_score = (np.argmax(predictions[0]), np.argmax(predictions[1]))\n",
    "\n",
    "    predicted_scores_2.append(predicted_score)"
   ]
  },
  {
   "cell_type": "code",
   "execution_count": 112,
   "metadata": {},
   "outputs": [
    {
     "data": {
      "text/plain": [
       "[(76, 69),\n",
       " (76, 69),\n",
       " (76, 69),\n",
       " (76, 69),\n",
       " (76, 69),\n",
       " (76, 69),\n",
       " (76, 69),\n",
       " (76, 69),\n",
       " (76, 69),\n",
       " (76, 69)]"
      ]
     },
     "execution_count": 112,
     "metadata": {},
     "output_type": "execute_result"
    }
   ],
   "source": [
    "predicted_scores_2"
   ]
  }
 ],
 "metadata": {
  "kernelspec": {
   "display_name": "base",
   "language": "python",
   "name": "python3"
  },
  "language_info": {
   "codemirror_mode": {
    "name": "ipython",
    "version": 3
   },
   "file_extension": ".py",
   "mimetype": "text/x-python",
   "name": "python",
   "nbconvert_exporter": "python",
   "pygments_lexer": "ipython3",
   "version": "3.9.13"
  }
 },
 "nbformat": 4,
 "nbformat_minor": 2
}
