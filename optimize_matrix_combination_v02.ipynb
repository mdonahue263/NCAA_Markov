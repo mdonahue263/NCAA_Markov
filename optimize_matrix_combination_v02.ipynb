{
 "cells": [
  {
   "cell_type": "code",
   "execution_count": 1,
   "metadata": {},
   "outputs": [],
   "source": [
    "import pandas as pd\n",
    "import numpy as np\n",
    "import os\n",
    "from tqdm import tqdm\n",
    "from matplotlib import pyplot as plt\n",
    "import seaborn as sns"
   ]
  },
  {
   "cell_type": "code",
   "execution_count": 2,
   "metadata": {},
   "outputs": [],
   "source": [
    "from helper_functions.clean_transitions import clean_transition_column\n",
    "from helper_functions.simulate_game import simulate_game"
   ]
  },
  {
   "cell_type": "code",
   "execution_count": 3,
   "metadata": {},
   "outputs": [],
   "source": [
    "avg_matrix = pd.read_excel('avg_transition_matrix_with_manual_edits.xlsx', sheet_name = 'Mean Pasted', index_col='Starting_State')"
   ]
  },
  {
   "cell_type": "code",
   "execution_count": 4,
   "metadata": {},
   "outputs": [],
   "source": [
    "# def combine_matrices(matrix_A, matrix_B, avg, params=[]):\n",
    "#     pass"
   ]
  },
  {
   "cell_type": "code",
   "execution_count": 5,
   "metadata": {},
   "outputs": [],
   "source": [
    "from scipy.optimize import minimize"
   ]
  },
  {
   "cell_type": "code",
   "execution_count": 6,
   "metadata": {},
   "outputs": [],
   "source": [
    "def accuracy(simulation_outcome, game_result):\n",
    "    real_A_score = game_result.iloc[-1]['Home']\n",
    "    real_B_score = game_result.iloc[-1]['Away']\n",
    "\n",
    "    sim_A_score=[simulation_outcome[1][x][0] for x in range(len(simulation_outcome[1]))]\n",
    "    sim_B_score=[simulation_outcome[1][x][1] for x in range(len(simulation_outcome[1]))]\n",
    "    a_error = (real_A_score-sim_A_score)**2\n",
    "    b_error = (real_B_score-sim_B_score)**2\n",
    "\n",
    "    return np.mean(np.sqrt(a_error+b_error))"
   ]
  },
  {
   "cell_type": "code",
   "execution_count": 7,
   "metadata": {},
   "outputs": [],
   "source": [
    "def accuracy_ou(simulation_outcome, game_result):\n",
    "    real_A_score = game_result.iloc[-1]['Home']\n",
    "    real_B_score = game_result.iloc[-1]['Away']\n",
    "\n",
    "    real_total = real_A_score + real_B_score\n",
    "\n",
    "    sim_A_score=[simulation_outcome[1][x][0] for x in range(len(simulation_outcome[1]))]\n",
    "    sim_B_score=[simulation_outcome[1][x][1] for x in range(len(simulation_outcome[1]))]\n",
    "    sim_total = np.array(list(map(lambda x,y: x+y, sim_B_score, sim_A_score)))\n",
    "\n",
    "\n",
    "    return np.mean(sim_total-real_total)"
   ]
  },
  {
   "cell_type": "code",
   "execution_count": 8,
   "metadata": {},
   "outputs": [],
   "source": [
    "def accuracy_winner(simulation_outcome, game_result):\n",
    "    real_A_score = game_result.iloc[-1]['Home']\n",
    "    real_B_score = game_result.iloc[-1]['Away']\n",
    "\n",
    "    team_A_win = real_A_score > real_B_score\n",
    "\n",
    "    sim_A_score=[simulation_outcome[1][x][0] for x in range(len(simulation_outcome[1]))]\n",
    "    sim_B_score=[simulation_outcome[1][x][1] for x in range(len(simulation_outcome[1]))]\n",
    "    sim_win = sim_A_score > sim_B_score\n",
    "\n",
    "\n",
    "    return team_A_win == sim_win"
   ]
  },
  {
   "cell_type": "code",
   "execution_count": 9,
   "metadata": {},
   "outputs": [],
   "source": [
    "# abc=simulate_game(combined_matrix,num_games=100)"
   ]
  },
  {
   "cell_type": "code",
   "execution_count": null,
   "metadata": {},
   "outputs": [],
   "source": []
  },
  {
   "cell_type": "code",
   "execution_count": 10,
   "metadata": {},
   "outputs": [],
   "source": [
    "# #pseudo code\n",
    "# for game in games:\n",
    "#     load matrix_A\n",
    "#     load matrix_B\n",
    "#     find final score of game\n",
    "#     run 100 or 1000 simulation of one possible param set\n",
    "#     calculate accuracy"
   ]
  },
  {
   "cell_type": "code",
   "execution_count": 11,
   "metadata": {},
   "outputs": [],
   "source": [
    "import time"
   ]
  },
  {
   "cell_type": "code",
   "execution_count": 12,
   "metadata": {},
   "outputs": [],
   "source": [
    "func_calls = 0\n",
    "scalar_history = []\n",
    "acc_history = []"
   ]
  },
  {
   "cell_type": "code",
   "execution_count": 13,
   "metadata": {},
   "outputs": [],
   "source": [
    "# def callback_function(xk):\n",
    "#     global func_calls\n",
    "#     func_calls += 1\n",
    "#     scalar_history.append(xk.copy()) \n",
    "#     print(\"Iteration:\", func_calls, \"  x0:\", xk)"
   ]
  },
  {
   "cell_type": "code",
   "execution_count": 51,
   "metadata": {},
   "outputs": [],
   "source": [
    "# Define optimization problem\n",
    "def optimization_problem(scalar_multiples):\n",
    "    # global m1, m2, m3, matrix1, matrix2, combined_matrix, checked\n",
    "\n",
    "    #choose n random games to simulate\n",
    "\n",
    "    accuracy_list = []\n",
    "    for g in np.random.choice(os.listdir('raw_game_pulls'),10):\n",
    "        total_acc=0\n",
    "        # game_res = pd.read_excel('raw_game_pulls/6195965_Play-By-Play for Indiana vs Army West Point.xlsx')\n",
    "\n",
    "        #locate teams to find matrices\n",
    "        game_res = pd.read_excel('raw_game_pulls/{}'.format(g))\n",
    "        game_strings = g.split(' vs ')\n",
    "        team_A = game_strings[0].split('for ')[-1]\n",
    "        team_B = game_strings[1].split('.xlsx')[0]\n",
    "\n",
    "        matrix1 = pd.read_excel('team_specific_matrix/{}_A.xlsx'.format(team_A), index_col='Starting_State')\n",
    "        matrix2 = pd.read_excel('team_specific_matrix/{}_B.xlsx'.format(team_B), index_col='Starting_State')\n",
    "\n",
    "\n",
    "        # Reshape the parameters into matrices\n",
    "        m1 = scalar_multiples[:18].reshape(-1, 1)\n",
    "        m2 = scalar_multiples[18:36].reshape(-1, 1)\n",
    "        m3 = scalar_multiples[36:].reshape(-1, 1)\n",
    "\n",
    "        # Construct combined matrix\n",
    "        # combined_matrix = m1 * matrix1 + m2 * matrix2 + m3 * avg_matrix  # Adjust with scalar multiples\n",
    "        combined_matrix = pd.DataFrame()\n",
    "        for i in range(18):\n",
    "            combined_matrix[i] = matrix1.iloc[:, i] * m1[i] + \\\n",
    "                                matrix2.iloc[:, i] * m2[i] + \\\n",
    "                                avg_matrix.iloc[:, i] * m3[i]\n",
    "            \n",
    "        combined_matrix.columns=avg_matrix.columns\n",
    "        \n",
    "        for r in combined_matrix.index:\n",
    "            if combined_matrix.loc[r].sum()==0.:\n",
    "                combined_matrix.loc[r]=avg_matrix.loc[r].copy()\n",
    "            \n",
    "        combined_matrix = combined_matrix.div(combined_matrix.sum(axis=1), axis=0)\n",
    "        combined_matrix.columns=avg_matrix.columns\n",
    "\n",
    "        # Evaluate performance on X game simulations\n",
    "        result = simulate_game(combined_matrix, 10)\n",
    "        total_acc += accuracy(result, game_res)\n",
    "        accuracy_list.append(accuracy(result, game_res))\n",
    "    # scalar_history.append(scalar_multiples)\n",
    "    # acc_history.append(np.mean(total_acc))\n",
    "    return np.mean(accuracy_list)"
   ]
  },
  {
   "cell_type": "code",
   "execution_count": 52,
   "metadata": {},
   "outputs": [],
   "source": [
    "# Initialize parameters\n",
    "# initial_guess = np.random.rand(54)\n",
    "    \n",
    "initial_guess=   [1,1,1,1,1,0,0,0,1,0,0,0,0,0,1,1,1,0,\n",
    "                    0,0,0,0,0,1,1,1,0,1,1,1,1,1,0,0,0,1,\n",
    "                    0,0,0,0,0,0,0,0,0,0,0,0,0,0,0,0,0,0]\n",
    "\n",
    "# Define bounds for parameters (optional)\n",
    "bounds = [(0, 1)] * 54  # Non-negative scalar multiples"
   ]
  },
  {
   "cell_type": "code",
   "execution_count": 53,
   "metadata": {},
   "outputs": [],
   "source": [
    "team_A_guess = [1,1,1,1,1,1,1,1,1,1,1,1,1,1,1,1,1,1,\n",
    "                0,0,0,0,0,0,0,0,0,0,0,0,0,0,0,0,0,0,\n",
    "                0,0,0,0,0,0,0,0,0,0,0,0,0,0,0,0,0,0]\n",
    "team_B_guess = [0,0,0,0,0,0,0,0,0,0,0,0,0,0,0,0,0,0,\n",
    "                1,1,1,1,1,1,1,1,1,1,1,1,1,1,1,1,1,1,\n",
    "                0,0,0,0,0,0,0,0,0,0,0,0,0,0,0,0,0,0]\n",
    "avg_guess = [0,0,0,0,0,0,0,0,0,0,0,0,0,0,0,0,0,0,\n",
    "             0,0,0,0,0,0,0,0,0,0,0,0,0,0,0,0,0,0,\n",
    "             1,1,1,1,1,1,1,1,1,1,1,1,1,1,1,1,1,1]\n",
    "eoo_1 = [1,0,1,0,1,0,1,0,1,0,1,0,1,0,1,0,1,0,\n",
    "         0,1,0,1,0,1,0,1,0,1,0,1,0,1,0,1,0,1,\n",
    "         0,0,0,0,0,0,0,0,0,0,0,0,0,0,0,0,0,0]\n",
    "eoo_2 = [0,1,0,1,0,1,0,1,0,1,0,1,0,1,0,1,0,1,\n",
    "         1,0,1,0,1,0,1,0,1,0,1,0,1,0,1,0,1,0,\n",
    "         0,0,0,0,0,0,0,0,0,0,0,0,0,0,0,0,0,0]\n",
    "\n",
    "mean_teams = [1,1,1,1,1,1,1,1,1,1,1,1,1,1,1,1,1,1,\n",
    "              1,1,1,1,1,1,1,1,1,1,1,1,1,1,1,1,1,1,\n",
    "              0,0,0,0,0,0,0,0,0,0,0,0,0,0,0,0,0,0]\n",
    "\n",
    "mean_all = [1,1,1,1,1,1,1,1,1,1,1,1,1,1,1,1,1,1,\n",
    "            1,1,1,1,1,1,1,1,1,1,1,1,1,1,1,1,1,1,\n",
    "            1,1,1,1,1,1,1,1,1,1,1,1,1,1,1,1,1,1]\n",
    "\n",
    "halves = [1,1,1,1,1,1,1,1,1,0,0,0,0,0,0,0,0,0,\n",
    "          0,0,0,0,0,0,0,0,0,1,1,1,1,1,1,1,1,1,\n",
    "          0,0,0,0,0,0,0,0,0,0,0,0,0,0,0,0,0,0]"
   ]
  },
  {
   "cell_type": "markdown",
   "metadata": {},
   "source": []
  },
  {
   "cell_type": "code",
   "execution_count": 54,
   "metadata": {},
   "outputs": [],
   "source": [
    "# guesses = [initial_guess, team_A_guess, team_B_guess,mean_teams,halves]"
   ]
  },
  {
   "cell_type": "code",
   "execution_count": 55,
   "metadata": {},
   "outputs": [],
   "source": [
    "# for g in guesses:\n",
    "#     res = optimization_problem(np.array(g))\n",
    "#     acc_history.append(res)"
   ]
  },
  {
   "cell_type": "code",
   "execution_count": 56,
   "metadata": {},
   "outputs": [],
   "source": [
    "#this accuracy came with initial guess, team A only, team B only, mean teams, and mean all.\n",
    "\n",
    "acc_history = [15.292806853524496,\n",
    " 15.57244836198554,\n",
    " 18.087572077402445,\n",
    " 18.13050025120224,\n",
    " 19.490909061580126]"
   ]
  },
  {
   "cell_type": "code",
   "execution_count": 57,
   "metadata": {},
   "outputs": [],
   "source": [
    "g_avg = np.array([0,0,0,0,0,0,0,0,0,0,0,0,0,0,0,0,0,0,\n",
    "                     0,0,0,0,0,0,0,0,0,0,0,0,0,0,0,0,0,0,\n",
    "                     1,1,1,1,1,1,1,1,1,1,1,1,1,1,1,1,1,1])"
   ]
  },
  {
   "cell_type": "code",
   "execution_count": 58,
   "metadata": {},
   "outputs": [],
   "source": [
    "g1 = np.array([1,1,1,1,1,0,0,0,1,0,0,0,0,0,1,1,1,0,\n",
    "    0,0,0,0,0,1,1,1,0,1,1,1,1,1,0,0,0,1,\n",
    "    0,0,0,0,0,0,0,0,0,0,0,0,0,0,0,0,0,0])\n",
    "\n",
    "g2 = (g1 + g_avg)*.5\n",
    "\n",
    "g3 = g1 * 0.9 + g_avg * .1\n",
    "\n",
    "g4 = g1 * .8 + g_avg * .1\n",
    "\n",
    "g5 = g1 * .5 + g_avg * .1\n",
    "\n",
    "g6 = np.array([1,1,1,1,1, 0, 0, 0,1,0,0,0,0,0,.5,.5,.5,0,\n",
    "               0,0,0,0,0,.5,.5,.5,0,1,1,1,1,1, 0, 0, 0,1,\n",
    "               0,0,0,0,0, 0, 0, 0,0,0,0,0,0,0, 0, 0, 0,0])"
   ]
  },
  {
   "cell_type": "code",
   "execution_count": 59,
   "metadata": {},
   "outputs": [],
   "source": [
    "g7 = np.array([1,1,1,1,1, 0, 0, 0,1,0,0,0,0,0,.2,.2,.2,0,\n",
    "               0,0,0,0,0,.2,.2,.2,0,1,1,1,1,1, 0, 0, 0,1,\n",
    "               0,0,0,0,0, 0, 0, 0,0,0,0,0,0,0, 0, 0, 0,0])\n",
    "\n",
    "g8 = np.array([1,1,1,1,1, 0, 0, 0,1,0,0,0,0,0,.8,.8,.8,0,\n",
    "               0,0,0,0,0,.8,.8,.8,0,1,1,1,1,1, 0, 0, 0,1,\n",
    "               0,0,0,0,0, 0, 0, 0,0,0,0,0,0,0, 0, 0, 0,0])"
   ]
  },
  {
   "cell_type": "code",
   "execution_count": 63,
   "metadata": {},
   "outputs": [
    {
     "name": "stderr",
     "output_type": "stream",
     "text": [
      "100%|██████████| 3/3 [01:16<00:00, 25.43s/it]\n"
     ]
    }
   ],
   "source": [
    "lob = []\n",
    "acc_history=[]\n",
    "gsss = [g1,g2,g3,g4,g5,g6,g7,g8,team_A_guess, team_B_guess, avg_guess]\n",
    "for guess in tqdm(range(len(gsss))):\n",
    "        for i in range(5):\n",
    "                res = optimization_problem(np.array(gsss[guess]))\n",
    "                acc_history.append(res)\n",
    "                lob.append(guess)"
   ]
  },
  {
   "cell_type": "code",
   "execution_count": 68,
   "metadata": {},
   "outputs": [],
   "source": [
    "results_plot = pd.DataFrame(zip(lob,acc_history))"
   ]
  },
  {
   "cell_type": "code",
   "execution_count": 70,
   "metadata": {},
   "outputs": [
    {
     "data": {
      "image/png": "[encoded data removed]",
      "text/plain": [
       "<Figure size 640x480 with 1 Axes>"
      ]
     },
     "metadata": {},
     "output_type": "display_data"
    }
   ],
   "source": [
    "fig,ax=plt.subplots()\n",
    "sns.boxplot(x=0, y=1, data=results_plot)#, labels = ['g1','g2','g3','g4','g5','g6','g7','g8'])\n",
    "ax.set_xticklabels(['g1','g2','g3','g4','g5','g6','g7','g8','A only', 'B only', 'Avg only']);"
   ]
  },
  {
   "cell_type": "code",
   "execution_count": null,
   "metadata": {},
   "outputs": [],
   "source": [
    "#pure distance accuracy tests is not yielding promising results.\n",
    "#other accuracy tests to perform - winner, margin, and O/U total."
   ]
  },
  {
   "cell_type": "code",
   "execution_count": 90,
   "metadata": {},
   "outputs": [],
   "source": [
    "# Define optimization problem\n",
    "def optimization_problem_2(scalar_multiples):\n",
    "    # global m1, m2, m3, matrix1, matrix2, combined_matrix, checked\n",
    "    for g in np.random.choice(os.listdir('raw_game_pulls'),100):\n",
    "        total_acc=0\n",
    "        # game_res = pd.read_excel('raw_game_pulls/6195965_Play-By-Play for Indiana vs Army West Point.xlsx')\n",
    "        game_res = pd.read_excel('raw_game_pulls/{}'.format(g))\n",
    "        game_strings = g.split(' vs ')\n",
    "        team_A = game_strings[0].split('for ')[-1]\n",
    "        team_B = game_strings[1].split('.xlsx')[0]\n",
    "\n",
    "        matrix1 = pd.read_excel('team_specific_matrix/{}_A.xlsx'.format(team_A), index_col='Starting_State')\n",
    "        matrix2 = pd.read_excel('team_specific_matrix/{}_B.xlsx'.format(team_B), index_col='Starting_State')\n",
    "\n",
    "\n",
    "        # Reshape the parameters into matrices\n",
    "        m1 = scalar_multiples[:18].reshape(-1, 1)\n",
    "        m2 = scalar_multiples[18:36].reshape(-1, 1)\n",
    "        m3 = scalar_multiples[36:].reshape(-1, 1)\n",
    "\n",
    "        # Construct combined matrix\n",
    "        # combined_matrix = m1 * matrix1 + m2 * matrix2 + m3 * avg_matrix  # Adjust with scalar multiples\n",
    "        combined_matrix = pd.DataFrame()\n",
    "        for i in range(18):\n",
    "            combined_matrix[i] = matrix1.iloc[:, i] * m1[i] + \\\n",
    "                                matrix2.iloc[:, i] * m2[i] + \\\n",
    "                                avg_matrix.iloc[:, i] * m3[i]\n",
    "            \n",
    "        combined_matrix.columns=avg_matrix.columns\n",
    "        \n",
    "            \n",
    "        \n",
    "            \n",
    "            #this is constantly failing. Instead, I am just going to force all matrices\n",
    "            #to have the same lines for Af3 and Bf3\n",
    "        for r in combined_matrix.index:\n",
    "            if combined_matrix.loc[r].sum()==0.:\n",
    "                combined_matrix.loc[r]=avg_matrix.loc[r].copy()\n",
    "            \n",
    "        combined_matrix = combined_matrix.div(combined_matrix.sum(axis=1), axis=0)\n",
    "        combined_matrix.columns=avg_matrix.columns\n",
    "\n",
    "        # Evaluate performance\n",
    "        result = simulate_game(combined_matrix, 1)\n",
    "        total_acc += accuracy_ou(result, game_res)\n",
    "    # scalar_history.append(scalar_multiples)\n",
    "    # acc_history.append(np.mean(total_acc))\n",
    "    return np.mean(total_acc)"
   ]
  },
  {
   "cell_type": "code",
   "execution_count": 91,
   "metadata": {},
   "outputs": [
    {
     "name": "stderr",
     "output_type": "stream",
     "text": [
      " 12%|█▎        | 1/8 [02:01<14:10, 121.47s/it]Exception ignored in: <function ZipFile.__del__ at 0x0000022949E1CC10>\n",
      "Traceback (most recent call last):\n",
      "  File \"c:\\Users\\mdona\\anaconda3\\lib\\zipfile.py\", line 1816, in __del__\n",
      "    self.close()\n",
      "KeyboardInterrupt: \n"
     ]
    }
   ],
   "source": [
    "lob_2 = []\n",
    "gsss = [g1,g2,g3,g4,g5,g6,g7,g8]\n",
    "acc_history_2 = []\n",
    "for guess in tqdm(range(len(gsss))):\n",
    "        for i in range(10):\n",
    "                res = optimization_problem_2(gsss[guess])\n",
    "                acc_history_2.append(res)\n",
    "                lob_2.append(guess)"
   ]
  }
 ],
 "metadata": {
  "kernelspec": {
   "display_name": "base",
   "language": "python",
   "name": "python3"
  },
  "language_info": {
   "codemirror_mode": {
    "name": "ipython",
    "version": 3
   },
   "file_extension": ".py",
   "mimetype": "text/x-python",
   "name": "python",
   "nbconvert_exporter": "python",
   "pygments_lexer": "ipython3",
   "version": "3.9.13"
  }
 },
 "nbformat": 4,
 "nbformat_minor": 2
}
