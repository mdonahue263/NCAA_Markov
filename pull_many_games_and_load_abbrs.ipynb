{
 "cells": [
  {
   "cell_type": "code",
   "execution_count": null,
   "metadata": {},
   "outputs": [],
   "source": [
    "#updated version 2/26 - don't need to save down nums and abbrs for every team since we likely have most. Will manually enter remaining.\n",
    "#missing pocket of data seems to start at 6195964, end at 6196975"
   ]
  },
  {
   "cell_type": "code",
   "execution_count": 1,
   "metadata": {},
   "outputs": [],
   "source": [
    "import pandas as pd\n",
    "from helper_functions.pull_game_logic import pull_game, WrongSportException\n",
    "from helper_functions.game_states_logic import get_play_states\n",
    "from collections import Counter\n",
    "from tqdm import tqdm\n",
    "import time"
   ]
  },
  {
   "cell_type": "code",
   "execution_count": 2,
   "metadata": {},
   "outputs": [],
   "source": [
    "transitions_read = pd.read_excel('ALL_VALID_TRANSITIONS_v02.xlsx')"
   ]
  },
  {
   "cell_type": "code",
   "execution_count": 11,
   "metadata": {},
   "outputs": [],
   "source": [
    "unique_games_read = transitions_read['filename'].unique()\n",
    "game_nums_read = [int(x.split('_')[0]) for x in unique_games_read]"
   ]
  },
  {
   "cell_type": "code",
   "execution_count": 12,
   "metadata": {},
   "outputs": [],
   "source": [
    "# database = pd.DataFrame(columns=['id','name','abbreviations'])\n",
    "database=pd.read_excel('Team_Names_Abbrs.xlsx')"
   ]
  },
  {
   "cell_type": "code",
   "execution_count": 13,
   "metadata": {},
   "outputs": [],
   "source": [
    "database['id'] = database['id'].astype(str)"
   ]
  },
  {
   "cell_type": "code",
   "execution_count": 51,
   "metadata": {},
   "outputs": [],
   "source": [
    "number=6199020"
   ]
  },
  {
   "cell_type": "code",
   "execution_count": 52,
   "metadata": {},
   "outputs": [],
   "source": [
    "bottom_range=number"
   ]
  },
  {
   "cell_type": "code",
   "execution_count": 53,
   "metadata": {},
   "outputs": [
    {
     "name": "stderr",
     "output_type": "stream",
     "text": [
      "100%|██████████| 1779/1779 [00:04<00:00, 428.84it/s] \n"
     ]
    }
   ],
   "source": [
    "bottom_range += 1\n",
    "for number in tqdm(range(bottom_range,6200800)):\n",
    "    try:\n",
    "        # print(iterator)\n",
    "        if number not in game_nums_read:\n",
    "            current_data = pull_game(number)\n",
    "            team_data = current_data['teams']\n",
    "            for team_id in team_data['id'].values:\n",
    "                if team_id in list(database['id'].values):\n",
    "                    pass\n",
    "                else:\n",
    "                    to_add = team_data[team_data['id']==team_id].copy()\n",
    "                    time.sleep(1)\n",
    "                    # print(to_add)\n",
    "                    correct = input(\"is {} the same as {} \".format(to_add['name'].values[0], to_add['abbreviations'].values[0]))\n",
    "                    if correct == 'y':\n",
    "                        pass\n",
    "                    else:\n",
    "                        to_add['abbreviations']=team_data[team_data['id']!=team_id]['abbreviations'].values\n",
    "\n",
    "                    database = pd.concat([database,to_add])\n",
    "                    # current_data['data'].to_excel(current_data['id'] + '.xlsx', index=False)\n",
    "                    # games_done.append(number)\n",
    "    except WrongSportException:\n",
    "        pass"
   ]
  },
  {
   "cell_type": "code",
   "execution_count": 50,
   "metadata": {},
   "outputs": [
    {
     "data": {
      "text/plain": [
       "6199020"
      ]
     },
     "execution_count": 50,
     "metadata": {},
     "output_type": "execute_result"
    }
   ],
   "source": [
    "number"
   ]
  },
  {
   "cell_type": "code",
   "execution_count": 46,
   "metadata": {},
   "outputs": [],
   "source": [
    "### NEED TO CHECK ###\n",
    "#UTRVG? 506558?\n",
    "#North American? 536?\n",
    "#Army West Point vs ANY\n",
    "#NC A&T vs T\n",
    "#Vanguard 30135\n",
    "#Wittenburg FW\n",
    "#Navajo Tech 506563\n",
    "#Bob Jones XXXXXX\n",
    "#Texas A&M is M?\n",
    "#Warren Wilson 30236\n",
    "#Carolina Christian 506565\n",
    "#stanton 506567\n",
    "#edward waters 30244\n",
    "#new college FL - 506568\n",
    "#UNT Dallas 506547\n",
    "#Coker USCU?\n",
    "#error with game 6198622\n",
    "#check unc asheville\n",
    "#check saint francis PA\n",
    "#check eastern ILL\n",
    "#fort lauderdale 501752\n",
    "#jessup 30262\n",
    "#lavern ULV\n",
    "#check kentuy wesley\n",
    "#check st thomas TX\n",
    "#check okaland city 506545\n",
    "#check ME Presque vs maine\n",
    "#check suny morrisville MOR\n",
    "#check asbury 30243\n",
    "#Lyon 366\n",
    "#la christian 506553"
   ]
  },
  {
   "cell_type": "code",
   "execution_count": 54,
   "metadata": {},
   "outputs": [
    {
     "data": {
      "text/html": [
       "<div>\n",
       "<style scoped>\n",
       "    .dataframe tbody tr th:only-of-type {\n",
       "        vertical-align: middle;\n",
       "    }\n",
       "\n",
       "    .dataframe tbody tr th {\n",
       "        vertical-align: top;\n",
       "    }\n",
       "\n",
       "    .dataframe thead th {\n",
       "        text-align: right;\n",
       "    }\n",
       "</style>\n",
       "<table border=\"1\" class=\"dataframe\">\n",
       "  <thead>\n",
       "    <tr style=\"text-align: right;\">\n",
       "      <th></th>\n",
       "      <th>id</th>\n",
       "      <th>name</th>\n",
       "      <th>abbreviations</th>\n",
       "      <th>home</th>\n",
       "    </tr>\n",
       "  </thead>\n",
       "  <tbody>\n",
       "    <tr>\n",
       "      <th>0</th>\n",
       "      <td>2427</td>\n",
       "      <td>Colgate</td>\n",
       "      <td>Colg</td>\n",
       "      <td>True</td>\n",
       "    </tr>\n",
       "    <tr>\n",
       "      <th>1</th>\n",
       "      <td>302</td>\n",
       "      <td>Weber St.</td>\n",
       "      <td>Weber</td>\n",
       "      <td>False</td>\n",
       "    </tr>\n",
       "    <tr>\n",
       "      <th>2</th>\n",
       "      <td>37</td>\n",
       "      <td>Drake</td>\n",
       "      <td>DRA</td>\n",
       "      <td>True</td>\n",
       "    </tr>\n",
       "    <tr>\n",
       "      <th>3</th>\n",
       "      <td>1285</td>\n",
       "      <td>Oakland</td>\n",
       "      <td>Oak</td>\n",
       "      <td>False</td>\n",
       "    </tr>\n",
       "    <tr>\n",
       "      <th>4</th>\n",
       "      <td>2379</td>\n",
       "      <td>Utah Valley</td>\n",
       "      <td>UVU</td>\n",
       "      <td>True</td>\n",
       "    </tr>\n",
       "    <tr>\n",
       "      <th>...</th>\n",
       "      <td>...</td>\n",
       "      <td>...</td>\n",
       "      <td>...</td>\n",
       "      <td>...</td>\n",
       "    </tr>\n",
       "    <tr>\n",
       "      <th>1</th>\n",
       "      <td>585</td>\n",
       "      <td>Rhode Island Col.</td>\n",
       "      <td>RIC</td>\n",
       "      <td>false</td>\n",
       "    </tr>\n",
       "    <tr>\n",
       "      <th>1</th>\n",
       "      <td>2255</td>\n",
       "      <td>Pacific Lutheran</td>\n",
       "      <td>PacL</td>\n",
       "      <td>false</td>\n",
       "    </tr>\n",
       "    <tr>\n",
       "      <th>1</th>\n",
       "      <td>1145</td>\n",
       "      <td>Luther</td>\n",
       "      <td>LUT</td>\n",
       "      <td>false</td>\n",
       "    </tr>\n",
       "    <tr>\n",
       "      <th>1</th>\n",
       "      <td>16458</td>\n",
       "      <td>Milligan</td>\n",
       "      <td>Mill</td>\n",
       "      <td>false</td>\n",
       "    </tr>\n",
       "    <tr>\n",
       "      <th>1</th>\n",
       "      <td>53651</td>\n",
       "      <td>Penn St.-Schuylkill</td>\n",
       "      <td>PSUS</td>\n",
       "      <td>false</td>\n",
       "    </tr>\n",
       "  </tbody>\n",
       "</table>\n",
       "<p>695 rows × 4 columns</p>\n",
       "</div>"
      ],
      "text/plain": [
       "       id                 name abbreviations   home\n",
       "0    2427              Colgate          Colg   True\n",
       "1     302            Weber St.         Weber  False\n",
       "2      37                Drake           DRA   True\n",
       "3    1285              Oakland           Oak  False\n",
       "4    2379          Utah Valley           UVU   True\n",
       "..    ...                  ...           ...    ...\n",
       "1     585    Rhode Island Col.           RIC  false\n",
       "1    2255     Pacific Lutheran          PacL  false\n",
       "1    1145               Luther           LUT  false\n",
       "1   16458             Milligan          Mill  false\n",
       "1   53651  Penn St.-Schuylkill          PSUS  false\n",
       "\n",
       "[695 rows x 4 columns]"
      ]
     },
     "execution_count": 54,
     "metadata": {},
     "output_type": "execute_result"
    }
   ],
   "source": [
    "database"
   ]
  },
  {
   "cell_type": "code",
   "execution_count": 56,
   "metadata": {},
   "outputs": [],
   "source": [
    "# database.to_excel('Team_Names_Abbrs_v02.xlsx',index=False)\n",
    "#ended here on 2/26"
   ]
  },
  {
   "cell_type": "code",
   "execution_count": 2,
   "metadata": {},
   "outputs": [],
   "source": [
    "database = pd.read_excel('Team_Names_Abbrs_Through_6198041.xlsx')"
   ]
  },
  {
   "cell_type": "code",
   "execution_count": 3,
   "metadata": {},
   "outputs": [],
   "source": [
    "database['id']=database['id'].astype(str)"
   ]
  },
  {
   "cell_type": "code",
   "execution_count": 57,
   "metadata": {},
   "outputs": [],
   "source": [
    "bottom_range = number"
   ]
  },
  {
   "cell_type": "code",
   "execution_count": 58,
   "metadata": {},
   "outputs": [
    {
     "name": "stderr",
     "output_type": "stream",
     "text": [
      "100%|██████████| 90/90 [00:50<00:00,  1.78it/s]\n"
     ]
    }
   ],
   "source": [
    "bottom_range += 1\n",
    "for number in tqdm(range(bottom_range,6200800)):\n",
    "    # print(iterator)\n",
    "    current_data = pull_game(number)\n",
    "    team_data = current_data['teams']\n",
    "    team_data['id']=team_data['id'].astype(str)\n",
    "    for team_id in team_data['id'].values:\n",
    "        if team_id in list(database['id'].values):\n",
    "            pass\n",
    "        else:\n",
    "            to_add = team_data[team_data['id']==team_id].copy()\n",
    "            time.sleep(1)\n",
    "            # print(to_add)\n",
    "            correct = input(\"is {} the same as {} \".format(to_add['name'].values[0], to_add['abbreviations'].values[0]))\n",
    "            if correct == 'y':\n",
    "                pass\n",
    "            else:\n",
    "                to_add['abbreviations']=team_data[team_data['id']!=team_id]['abbreviations'].values\n",
    "\n",
    "            database = pd.concat([database,to_add])\n",
    "            current_data['data'].to_excel(current_data['id'] + '.xlsx', index=False)\n",
    "            # games_done.append(number)"
   ]
  },
  {
   "cell_type": "code",
   "execution_count": 35,
   "metadata": {},
   "outputs": [
    {
     "data": {
      "text/plain": [
       "6198622"
      ]
     },
     "execution_count": 35,
     "metadata": {},
     "output_type": "execute_result"
    }
   ],
   "source": [
    "number"
   ]
  },
  {
   "cell_type": "code",
   "execution_count": 59,
   "metadata": {},
   "outputs": [
    {
     "data": {
      "text/plain": [
       "Colgate           1\n",
       "Alabama           1\n",
       "South Carolina    1\n",
       "Mo. Baptist       1\n",
       "Spalding          1\n",
       "                 ..\n",
       "Valparaiso        1\n",
       "Western Ill.      1\n",
       "TCU               1\n",
       "Alcorn            1\n",
       "Wells             1\n",
       "Name: name, Length: 575, dtype: int64"
      ]
     },
     "execution_count": 59,
     "metadata": {},
     "output_type": "execute_result"
    }
   ],
   "source": [
    "database['name'].value_counts()"
   ]
  },
  {
   "cell_type": "code",
   "execution_count": 61,
   "metadata": {},
   "outputs": [],
   "source": [
    "database=database.reset_index(drop=True)"
   ]
  },
  {
   "cell_type": "code",
   "execution_count": 62,
   "metadata": {},
   "outputs": [],
   "source": [
    "database.to_excel('Team_Names_Abbrs.xlsx',index=False)"
   ]
  },
  {
   "cell_type": "code",
   "execution_count": null,
   "metadata": {},
   "outputs": [],
   "source": []
  }
 ],
 "metadata": {
  "kernelspec": {
   "display_name": "base",
   "language": "python",
   "name": "python3"
  },
  "language_info": {
   "codemirror_mode": {
    "name": "ipython",
    "version": 3
   },
   "file_extension": ".py",
   "mimetype": "text/x-python",
   "name": "python",
   "nbconvert_exporter": "python",
   "pygments_lexer": "ipython3",
   "version": "3.9.7"
  }
 },
 "nbformat": 4,
 "nbformat_minor": 2
}
